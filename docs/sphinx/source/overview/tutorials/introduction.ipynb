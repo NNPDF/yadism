{
 "cells": [
  {
   "cell_type": "markdown",
   "id": "accredited-amateur",
   "metadata": {},
   "source": [
    "# Introduction\n",
    "\n",
    "`yadism` it's wonderful to install and wonderful to use, you just need:\n",
    "\n",
    "- `pip`\n",
    "- a couple of fully specified runcards (but you can download some example ones from [here])"
   ]
  },
  {
   "cell_type": "markdown",
   "id": "nominated-inspection",
   "metadata": {},
   "source": [
    "## Installation\n",
    "As written in the `README.md` instructions just run:\n",
    "\n",
    "```sh\n",
    "pip install yadism\n",
    "```"
   ]
  },
  {
   "cell_type": "markdown",
   "id": "valuable-theater",
   "metadata": {},
   "source": [
    "## Basic usage"
   ]
  },
  {
   "cell_type": "code",
   "execution_count": 1,
   "id": "announced-petite",
   "metadata": {},
   "outputs": [
    {
     "ename": "ModuleNotFoundError",
     "evalue": "No module named 'yadism'",
     "output_type": "error",
     "traceback": [
      "\u001b[0;31m---------------------------------------------------------------------------\u001b[0m",
      "\u001b[0;31mModuleNotFoundError\u001b[0m                       Traceback (most recent call last)",
      "\u001b[0;32m<ipython-input-1-3e6f3a256ad0>\u001b[0m in \u001b[0;36m<module>\u001b[0;34m\u001b[0m\n\u001b[0;32m----> 1\u001b[0;31m \u001b[0;32mimport\u001b[0m \u001b[0myadism\u001b[0m\u001b[0;34m\u001b[0m\u001b[0;34m\u001b[0m\u001b[0m\n\u001b[0m",
      "\u001b[0;31mModuleNotFoundError\u001b[0m: No module named 'yadism'"
     ]
    }
   ],
   "source": [
    "import yadism"
   ]
  }
 ],
 "metadata": {
  "kernelspec": {
   "display_name": "Python 3",
   "language": "python",
   "name": "python3"
  },
  "language_info": {
   "codemirror_mode": {
    "name": "ipython",
    "version": 3
   },
   "file_extension": ".py",
   "mimetype": "text/x-python",
   "name": "python",
   "nbconvert_exporter": "python",
   "pygments_lexer": "ipython3",
   "version": "3.8.6"
  }
 },
 "nbformat": 4,
 "nbformat_minor": 5
}
