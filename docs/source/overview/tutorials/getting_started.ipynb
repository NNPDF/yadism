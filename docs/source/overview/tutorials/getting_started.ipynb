{
 "cells": [
  {
   "cell_type": "markdown",
   "id": "bfff8f0c-740e-4177-a642-13e9d0a0cc63",
   "metadata": {},
   "source": [
    "# Getting Started\n",
    "\n",
    "## Installation \n",
    "\n",
    "In order to start using `yadism`, one first needs to install it and some of its extra-dependencies. The easiest way to install the latest stable version of `yadism` is via `pip` using the following command:\n",
    "\n",
    "```sh\n",
    "pip install 'yadism[mark, box]'\n",
    "```\n",
    "\n",
    "In addition to installing the main `yadism` package, the above command also installs `yadmark` and `yadbox`. `yadmark` is package that provides APIs to perform the benchmark of `yadism` to other DIS codes (e.g. `APFEL`, `APFEL++`, `QCDNUM`). `yadbox` instead provides an interface to `PineAPPL` to store predictions in the form of fast-interpolation grids.\n",
    "\n",
    "In order to check that `yadism` was installed properly, one can check the version:"
   ]
  },
  {
   "cell_type": "code",
   "execution_count": 1,
   "id": "ded2fb96-9fe9-4503-8418-bfcfb6d53998",
   "metadata": {},
   "outputs": [
    {
     "data": {
      "text/plain": [
       "'0.0.0'"
      ]
     },
     "execution_count": 1,
     "metadata": {},
     "output_type": "execute_result"
    }
   ],
   "source": [
    "import yadism\n",
    "yadism.__version__"
   ]
  },
  {
   "cell_type": "markdown",
   "id": "valuable-theater",
   "metadata": {},
   "source": [
    "## Preparing the run cards\n",
    "\n",
    "Yadism takes as inputs **two runcards** whose representations are given in terms of python dictionaries. That is, one needs:\n",
    "- an **observable card** which contains the details on the observable to be computed\n",
    "- a **theory card** which contains the various theory settings to compute the observable in question\n",
    "\n",
    "Below is an example of an observable card in which the meaning of each key is also specified:"
   ]
  },
  {
   "cell_type": "code",
   "execution_count": 2,
   "id": "announced-petite",
   "metadata": {},
   "outputs": [],
   "source": [
    "observable_card = {\n",
    "    # Process type: \"EM\", \"NC\", \"CC\"\n",
    "    \"prDIS\": \"NC\",\n",
    "    # Projectile: \"electron\", \"positron\", \"neutrino\", \"antineutrino\"\n",
    "    \"ProjectileDIS\": \"electron\",\n",
    "    # Scattering target: \"proton\", \"neutron\", \"isoscalar\", \"lead\", \"iron\", \"neon\" or \"marble\"\n",
    "    \"TargetDIS\": \"proton\",\n",
    "    # Interpolation: if True use log interpolation\n",
    "    \"interpolation_is_log\": True,\n",
    "    # Interpolation: polynomial degree, 1 = linear, ...\n",
    "    \"interpolation_polynomial_degree\": 4,\n",
    "    # Interpolation: xgrid values\n",
    "    # Note: for illustrative purposes the grid is chosen very small here\n",
    "    \"interpolation_xgrid\": [1e-7, 1e-6, 1e-5, 1e-4, 1e-3, 1e-2, 1e-1, 1.0],\n",
    "    # Observables configurations\n",
    "    \"observables\": {\n",
    "        \"XSHERANCAVG_charm\": [\n",
    "            {\n",
    "                \"y\": 0.8240707777909629,\n",
    "                \"x\": 3e-05,\n",
    "                \"Q2\": 2.5,\n",
    "            },\n",
    "            {\n",
    "                \"y\": 0.3531731904818413,\n",
    "                \"x\": 7e-05,\n",
    "                \"Q2\": 2.5,\n",
    "            },\n",
    "            # Add here the kinematics of other datapoints\n",
    "        ],\n",
    "        # Potentially include observables other than XSHERANCAVG_charm,\n",
    "        # each of them has to be: TYPE_heaviness, where heaviness can take:\n",
    "        # \"charm\", \"bottom\", \"top\", \"total\" or \"light\".\n",
    "    },\n",
    "    # Projectile polarization faction, float from 0 to 1.\n",
    "    \"PolarizationDIS\": 0.0,\n",
    "    # Exchanged boson propagator correction\n",
    "    \"PropagatorCorrection\": 0.0,\n",
    "    # Restrict boson coupling to a single parton ? Monte Carlo PID or None for all partons\n",
    "    \"NCPositivityCharge\": None,\n",
    "}"
   ]
  },
  {
   "cell_type": "markdown",
   "id": "dc1b79fa-7d14-4ed6-a8ae-0a588ebe5582",
   "metadata": {},
   "source": [
    "The `observables` key in the `observable_card` (which is also a dictionary) can contain multiple elements whose keys must represent structure functions or cross-sections. For the list of available observables, refer to the following [part](https://yadism.readthedocs.io/en/latest/theory/intro.html#) of the documentation.\n",
    "\n",
    "Similarly, below is an example of a `theory card` defining the theory parameters:"
   ]
  },
  {
   "cell_type": "code",
   "execution_count": 3,
   "id": "90df79a9-31cb-40db-ac95-0b88469c1723",
   "metadata": {},
   "outputs": [],
   "source": [
    "theory_card = {\n",
    "    # QCD perturbative order\n",
    "    \"PTO\": 2,  # perturbative order in alpha_s: 0 = LO (alpha_s^0), 1 = NLO (alpha_s^1) ...\n",
    "\n",
    "    # SM parameters and masses\n",
    "    \"CKM\": \"0.97428 0.22530 0.003470 0.22520 0.97345 0.041000 0.00862 0.04030 0.999152\",  # CKM matrix elements\n",
    "    \"GF\": 1.1663787e-05,  # [GeV^-2] Fermi coupling constant\n",
    "    \"MP\": 0.938,  # [GeV] proton mass\n",
    "    \"MW\": 80.398,  # [GeV] W boson mass\n",
    "    \"MZ\": 91.1876,  # [GeV] Z boson mass\n",
    "    \"alphaqed\": 0.007496252,  # alpha_em value\n",
    "    \"kcThr\": 1.0,  # ratio of the charm matching scale over the charm mass\n",
    "    \"kbThr\": 1.0,  # ratio of the bottom matching scale over the bottom mass\n",
    "    \"ktThr\": 1.0,  # ratio of the top matching scale over the top mass\n",
    "    \"mc\": 1.51,  # [GeV] charm mass\n",
    "    \"mb\": 4.92,  # [GeV] bottom mass\n",
    "    \"mt\": 172.5,  # [GeV] top mass\n",
    "\n",
    "    # Flavor number scheme settings\n",
    "    \"FNS\": \"FFNS\",  # Flavour Number Scheme, options: \"FFNS\", \"FFN0\", \"ZM-VFNS\"\n",
    "    \"NfFF\": 4,  # (fixed) number of running flavors, only for FFNS or FFN0 schemes\n",
    "    \"Q0\": 1.65,  # [GeV] reference scale for the flavor patch determination\n",
    "    \"nf0\": 4,  # number of active flavors at the Q0 reference scale\n",
    "\n",
    "    # Alphas settings and boundary conditions\n",
    "    \"Qref\": 91.2,  # [GeV] reference scale for the alphas value\n",
    "    \"nfref\": 5,  # number of active flavors at the reference scale Qref\n",
    "    \"alphas\": 0.118,  # alphas value at the reference scale\n",
    "    \"MaxNfAs\": 5,  # maximum number of flavors in running of strong coupling\n",
    "    \"QED\": 0,  # QED correction to running of strong coupling: 0 = disabled, 1 = allowed\n",
    "\n",
    "    # Scale Variations\n",
    "    \"XIF\": 1.0,  # ratio of factorization scale over the hard scattering scale\n",
    "    \"XIR\": 1.0,  # ratio of renormalization scale over the hard scattering scale\n",
    "\n",
    "    # Other settings\n",
    "    \"IC\": 1,  # 0 = perturbative charm only, 1 = intrinsic charm allowed\n",
    "    \"TMC\": 1,  # include target mass corrections: 0 = disabled, 1 = leading twist, 2 = higher twist approximated, 3 = higher twist exact\n",
    "    \"n3lo_cf_variation\": 0,  # N3LO coefficient functions variation: -1 = lower bound, 0 = central , 1 = upper bound\n",
    "\n",
    "    # Other EKO settings, not relevant for Yadism\n",
    "    \"HQ\": \"POLE\",  # heavy quark mass scheme (not yet implemented in yadism)\n",
    "    \"MaxNfPdf\": 5,  # maximum number of flavors in running of PDFs (ignored by yadism)\n",
    "    \"ModEv\": \"EXA\",  # evolution solver for PDFs (ignored by yadism)\n",
    "}"
   ]
  },
  {
   "cell_type": "markdown",
   "id": "169b82a0-abdd-4687-9ffe-9df38446a550",
   "metadata": {},
   "source": [
    "Note that a template observable card is provided by `yadmark` and contains the default `yadism` values. One can thus start from the default card and overwrite the values."
   ]
  },
  {
   "cell_type": "code",
   "execution_count": 4,
   "id": "246f1d7a-e7e3-48ab-9bf2-44c8352adc39",
   "metadata": {},
   "outputs": [
    {
     "name": "stdout",
     "output_type": "stream",
     "text": [
      "{\n",
      "    \"NCPositivityCharge\": null,\n",
      "    \"PolarizationDIS\": 0,\n",
      "    \"ProjectileDIS\": \"electron\",\n",
      "    \"PropagatorCorrection\": 0,\n",
      "    \"TargetDIS\": \"proton\",\n",
      "    \"interpolation_is_log\": true,\n",
      "    \"interpolation_polynomial_degree\": 4,\n",
      "    \"interpolation_xgrid\": [\n",
      "        1e-07,\n",
      "        1.6102620275609392e-07,\n",
      "        2.592943797404667e-07,\n",
      "        4.1753189365604003e-07,\n",
      "        6.723357536499335e-07,\n",
      "        1.0826367338740541e-06,\n",
      "        1.7433288221999873e-06,\n",
      "        2.8072162039411756e-06,\n",
      "        4.520353656360241e-06,\n",
      "        7.2789538439831465e-06,\n",
      "        1.1721022975334793e-05,\n",
      "        1.8873918221350995e-05,\n",
      "        3.039195382313195e-05,\n",
      "        4.893900918477499e-05,\n",
      "        7.880462815669905e-05,\n",
      "        0.0001268961003167922,\n",
      "        0.00020433597178569417,\n",
      "        0.00032903445623126676,\n",
      "        0.0005298316906283707,\n",
      "        0.0008531678524172806,\n",
      "        0.0013738237958832637,\n",
      "        0.00221221629107045,\n",
      "        0.003562247890262444,\n",
      "        0.005736152510448681,\n",
      "        0.009236708571873866,\n",
      "        0.014873521072935119,\n",
      "        0.02395026619987486,\n",
      "        0.03856620421163472,\n",
      "        0.06210169418915616,\n",
      "        0.1,\n",
      "        0.1473684210526316,\n",
      "        0.19473684210526315,\n",
      "        0.24210526315789474,\n",
      "        0.2894736842105263,\n",
      "        0.33684210526315794,\n",
      "        0.38421052631578945,\n",
      "        0.43157894736842106,\n",
      "        0.4789473684210527,\n",
      "        0.5263157894736842,\n",
      "        0.5736842105263158,\n",
      "        0.6210526315789474,\n",
      "        0.6684210526315789,\n",
      "        0.7157894736842105,\n",
      "        0.7631578947368421,\n",
      "        0.8105263157894737,\n",
      "        0.8578947368421053,\n",
      "        0.9052631578947369,\n",
      "        0.9526315789473684,\n",
      "        1.0\n",
      "    ],\n",
      "    \"observables\": {},\n",
      "    \"prDIS\": \"EM\"\n",
      "}\n"
     ]
    }
   ],
   "source": [
    "import json # just used for pretty-printing\n",
    "from yadmark.data.observables import default_card # imports the default yadism observable card\n",
    "\n",
    "print(json.dumps(default_card, sort_keys=False, indent=4))"
   ]
  },
  {
   "cell_type": "markdown",
   "id": "5083afea-4ac9-483d-93b9-f0473cbc46b0",
   "metadata": {},
   "source": [
    "## Computing predictions\n",
    "\n",
    "Now that we have defined our observable and theory, we can now compute the corresponding preditions. This can be easily done by running the following:"
   ]
  },
  {
   "cell_type": "code",
   "execution_count": 5,
   "id": "b7d95bf6-4536-41a5-9505-07a8743e5f6e",
   "metadata": {},
   "outputs": [
    {
     "data": {
      "text/html": [
       "<pre style=\"white-space:pre;overflow-x:auto;line-height:normal;font-family:Menlo,'DejaVu Sans Mono',consolas,'Courier New',monospace\">                                      <span style=\"color: #800080; text-decoration-color: #800080\">┌────────────────────────────────────┐</span>                                       \n",
       "                                      <span style=\"color: #800080; text-decoration-color: #800080\">│                                    │</span>                                       \n",
       "                                      <span style=\"color: #800080; text-decoration-color: #800080\">│ __     __       _ _                │</span>                                       \n",
       "                                      <span style=\"color: #800080; text-decoration-color: #800080\">│ \\ \\   / /      | (_)               │</span>                                       \n",
       "                                      <span style=\"color: #800080; text-decoration-color: #800080\">│  \\ \\_/ /_ _  __| |_ ___ _ __ ___   │</span>                                       \n",
       "                                      <span style=\"color: #800080; text-decoration-color: #800080\">│   \\   / _` |/ _` | / __| '_ ` _ \\  │</span>                                       \n",
       "                                      <span style=\"color: #800080; text-decoration-color: #800080\">│    | | (_| | (_| | \\__ \\ | | | | | │</span>                                       \n",
       "                                      <span style=\"color: #800080; text-decoration-color: #800080\">│    |_|\\__,_|\\__,_|_|___/_| |_| |_| │</span>                                       \n",
       "                                      <span style=\"color: #800080; text-decoration-color: #800080\">│                                    │</span>                                       \n",
       "                                      <span style=\"color: #800080; text-decoration-color: #800080\">└────────────────────────────────────┘</span>                                       \n",
       "</pre>\n"
      ],
      "text/plain": [
       "                                      \u001b[35m┌────────────────────────────────────┐\u001b[0m                                       \n",
       "                                      \u001b[35m│\u001b[0m\u001b[35m                                    \u001b[0m\u001b[35m│\u001b[0m                                       \n",
       "                                      \u001b[35m│\u001b[0m\u001b[35m \u001b[0m\u001b[35m__     __       _ _\u001b[0m\u001b[35m               \u001b[0m\u001b[35m \u001b[0m\u001b[35m│\u001b[0m                                       \n",
       "                                      \u001b[35m│\u001b[0m\u001b[35m \u001b[0m\u001b[35m\\ \\   / /      | (_)\u001b[0m\u001b[35m              \u001b[0m\u001b[35m \u001b[0m\u001b[35m│\u001b[0m                                       \n",
       "                                      \u001b[35m│\u001b[0m\u001b[35m \u001b[0m\u001b[35m \\ \\_/ /_ _  __| |_ ___ _ __ ___\u001b[0m\u001b[35m  \u001b[0m\u001b[35m \u001b[0m\u001b[35m│\u001b[0m                                       \n",
       "                                      \u001b[35m│\u001b[0m\u001b[35m \u001b[0m\u001b[35m  \\   / _` |/ _` | / __| '_ ` _ \\\u001b[0m\u001b[35m \u001b[0m\u001b[35m \u001b[0m\u001b[35m│\u001b[0m                                       \n",
       "                                      \u001b[35m│\u001b[0m\u001b[35m \u001b[0m\u001b[35m   | | (_| | (_| | \\__ \\ | | | | |\u001b[0m\u001b[35m \u001b[0m\u001b[35m│\u001b[0m                                       \n",
       "                                      \u001b[35m│\u001b[0m\u001b[35m \u001b[0m\u001b[35m   |_|\\__,_|\\__,_|_|___/_| |_| |_|\u001b[0m\u001b[35m \u001b[0m\u001b[35m│\u001b[0m                                       \n",
       "                                      \u001b[35m│\u001b[0m\u001b[35m                                    \u001b[0m\u001b[35m│\u001b[0m                                       \n",
       "                                      \u001b[35m└────────────────────────────────────┘\u001b[0m                                       \n"
      ]
     },
     "metadata": {},
     "output_type": "display_data"
    },
    {
     "data": {
      "text/html": [
       "<pre style=\"white-space:pre;overflow-x:auto;line-height:normal;font-family:Menlo,'DejaVu Sans Mono',consolas,'Courier New',monospace\">\n",
       "                                                       <span style=\"font-weight: bold; text-decoration: underline\">Plan</span>                                                        \n",
       "</pre>\n"
      ],
      "text/plain": [
       "\n",
       "                                                       \u001b[1;4mPlan\u001b[0m                                                        \n"
      ]
     },
     "metadata": {},
     "output_type": "display_data"
    },
    {
     "data": {
      "text/html": [
       "<pre style=\"white-space:pre;overflow-x:auto;line-height:normal;font-family:Menlo,'DejaVu Sans Mono',consolas,'Courier New',monospace\">\n",
       "<span style=\"color: #808000; text-decoration-color: #808000; font-weight: bold\"> • </span>XSHERANCAVG_charm at 2 pts                                                                                      \n",
       "</pre>\n"
      ],
      "text/plain": [
       "\n",
       "\u001b[1;33m • \u001b[0mXSHERANCAVG_charm at 2 pts                                                                                      \n"
      ]
     },
     "metadata": {},
     "output_type": "display_data"
    },
    {
     "data": {
      "text/html": [
       "<pre style=\"white-space:pre;overflow-x:auto;line-height:normal;font-family:Menlo,'DejaVu Sans Mono',consolas,'Courier New',monospace\">\n",
       "                                                    <span style=\"font-weight: bold; text-decoration: underline\">Calculation</span>                                                    \n",
       "</pre>\n"
      ],
      "text/plain": [
       "\n",
       "                                                    \u001b[1;4mCalculation\u001b[0m                                                    \n"
      ]
     },
     "metadata": {},
     "output_type": "display_data"
    },
    {
     "data": {
      "text/html": [
       "<pre style=\"white-space:pre;overflow-x:auto;line-height:normal;font-family:Menlo,'DejaVu Sans Mono',consolas,'Courier New',monospace\">yadism took off! please stay tuned <span style=\"color: #808000; text-decoration-color: #808000\">...</span>\n",
       "</pre>\n"
      ],
      "text/plain": [
       "yadism took off! please stay tuned \u001b[33m...\u001b[0m\n"
      ]
     },
     "metadata": {},
     "output_type": "display_data"
    },
    {
     "data": {
      "text/html": [
       "<pre style=\"white-space:pre;overflow-x:auto;line-height:normal;font-family:Menlo,'DejaVu Sans Mono',consolas,'Courier New',monospace\"></pre>\n"
      ],
      "text/plain": [
       "\u001b[?25l"
      ]
     },
     "metadata": {},
     "output_type": "display_data"
    },
    {
     "data": {
      "text/html": [
       "<pre style=\"white-space:pre;overflow-x:auto;line-height:normal;font-family:Menlo,'DejaVu Sans Mono',consolas,'Courier New',monospace\">\n",
       "\u001b[?25h</pre>\n"
      ],
      "text/plain": [
       "\n",
       "\u001b[?25h"
      ]
     },
     "metadata": {},
     "output_type": "display_data"
    },
    {
     "data": {
      "text/html": [
       "<pre style=\"white-space:pre;overflow-x:auto;line-height:normal;font-family:Menlo,'DejaVu Sans Mono',consolas,'Courier New',monospace\"><span style=\"color: #008080; text-decoration-color: #008080\">took </span><span style=\"color: #008080; text-decoration-color: #008080; font-weight: bold\">0.36</span><span style=\"color: #008080; text-decoration-color: #008080\"> s</span>\n",
       "</pre>\n"
      ],
      "text/plain": [
       "\u001b[36mtook \u001b[0m\u001b[1;36m0.36\u001b[0m\u001b[36m s\u001b[0m\n"
      ]
     },
     "metadata": {},
     "output_type": "display_data"
    }
   ],
   "source": [
    "import warnings\n",
    "\n",
    "with warnings.catch_warnings():\n",
    "    warnings.simplefilter(\"ignore\") # skip noisy warnings\n",
    "    out = yadism.run_yadism(theory_card, observable_card)"
   ]
  },
  {
   "cell_type": "markdown",
   "id": "a1d79202-30d1-465f-9ce2-008fc760ebf1",
   "metadata": {},
   "source": [
    "`out` is an object of type `yadism.output.Output` from which one can perform various operations. In our example, we are interested in convoluting it with a PDF set in the [LHAPDF](https://lhapdf.hepforge.org/) format.\n",
    "\n",
    "To do so, first we need to import the `lhapdf` package. For this example, we will use the NNLO NNPDF4.0 set: `NNPDF40_nnlo_as_01180`."
   ]
  },
  {
   "cell_type": "code",
   "execution_count": 6,
   "id": "bc6f3aac-802b-4073-9e6a-e18e54f3ef85",
   "metadata": {},
   "outputs": [
    {
     "name": "stdout",
     "output_type": "stream",
     "text": [
      "LHAPDF 6.5.0 loading /home/tanjona/miniconda3/envs/yadism/share/LHAPDF/NNPDF40_nnlo_as_01180/NNPDF40_nnlo_as_01180_0000.dat\n",
      "NNPDF40_nnlo_as_01180 PDF set, member #0, version 1; LHAPDF ID = 331100\n"
     ]
    }
   ],
   "source": [
    "import lhapdf\n",
    "\n",
    "# load the PDF set\n",
    "pdf = lhapdf.mkPDF(\"NNPDF40_nnlo_as_01180\")"
   ]
  },
  {
   "cell_type": "markdown",
   "id": "359f3118-a317-4345-8e73-bc810b92ea92",
   "metadata": {},
   "source": [
    "The convolution can simply be performed as follow:"
   ]
  },
  {
   "cell_type": "code",
   "execution_count": 7,
   "id": "9b983dd8-4724-439c-bdab-773879308985",
   "metadata": {},
   "outputs": [
    {
     "data": {
      "text/html": [
       "<pre style=\"white-space:pre;overflow-x:auto;line-height:normal;font-family:Menlo,'DejaVu Sans Mono',consolas,'Courier New',monospace\"><span style=\"color: #7fbfbf; text-decoration-color: #7fbfbf\">[13:09:24] </span><span style=\"color: #000080; text-decoration-color: #000080\">INFO    </span> Atlas <span style=\"font-weight: bold\">[</span><span style=\"color: #008080; text-decoration-color: #008080; font-weight: bold\">0.00e+00</span> - <span style=\"color: #008080; text-decoration-color: #008080; font-weight: bold\">2.28e+00</span> - <span style=\"color: #008080; text-decoration-color: #008080; font-weight: bold\">2.42e+01</span> - <span style=\"color: #008080; text-decoration-color: #008080; font-weight: bold\">2.98e+04</span> - inf<span style=\"font-weight: bold\">]</span>, <span style=\"color: #808000; text-decoration-color: #808000\">ref</span>=<span style=\"color: #008080; text-decoration-color: #008080; font-weight: bold\">8317.44</span> @ <span style=\"color: #008080; text-decoration-color: #008080; font-weight: bold\">5</span>        <a href=\"file:///home/tanjona/miniconda3/envs/yadism/lib/python3.10/site-packages/eko/matchings.py\" target=\"_blank\"><span style=\"color: #7f7f7f; text-decoration-color: #7f7f7f\">matchings.py</span></a><span style=\"color: #7f7f7f; text-decoration-color: #7f7f7f\">:</span><a href=\"file:///home/tanjona/miniconda3/envs/yadism/lib/python3.10/site-packages/eko/matchings.py#69\" target=\"_blank\"><span style=\"color: #7f7f7f; text-decoration-color: #7f7f7f\">69</span></a>\n",
       "</pre>\n"
      ],
      "text/plain": [
       "\u001b[2;36m[13:09:24]\u001b[0m\u001b[2;36m \u001b[0m\u001b[34mINFO    \u001b[0m Atlas \u001b[1m[\u001b[0m\u001b[1;36m0.00e+00\u001b[0m - \u001b[1;36m2.28e+00\u001b[0m - \u001b[1;36m2.42e+01\u001b[0m - \u001b[1;36m2.98e+04\u001b[0m - inf\u001b[1m]\u001b[0m, \u001b[33mref\u001b[0m=\u001b[1;36m8317\u001b[0m\u001b[1;36m.44\u001b[0m @ \u001b[1;36m5\u001b[0m        \u001b]8;id=490630;file:///home/tanjona/miniconda3/envs/yadism/lib/python3.10/site-packages/eko/matchings.py\u001b\\\u001b[2mmatchings.py\u001b[0m\u001b]8;;\u001b\\\u001b[2m:\u001b[0m\u001b]8;id=61240;file:///home/tanjona/miniconda3/envs/yadism/lib/python3.10/site-packages/eko/matchings.py#69\u001b\\\u001b[2m69\u001b[0m\u001b]8;;\u001b\\\n"
      ]
     },
     "metadata": {},
     "output_type": "display_data"
    },
    {
     "data": {
      "text/html": [
       "<pre style=\"white-space:pre;overflow-x:auto;line-height:normal;font-family:Menlo,'DejaVu Sans Mono',consolas,'Courier New',monospace\"><span style=\"color: #7fbfbf; text-decoration-color: #7fbfbf\">           </span><span style=\"color: #000080; text-decoration-color: #000080\">INFO    </span> Strong Coupling: <span style=\"color: #800080; text-decoration-color: #800080; font-weight: bold\">a_s</span><span style=\"font-weight: bold\">(</span>µ_R^<span style=\"color: #008080; text-decoration-color: #008080; font-weight: bold\">2</span>=<span style=\"color: #008080; text-decoration-color: #008080; font-weight: bold\">8317.440000</span><span style=\"font-weight: bold\">)</span>^<span style=\"font-weight: bold\">(</span><span style=\"color: #808000; text-decoration-color: #808000\">nf</span>=<span style=\"color: #008080; text-decoration-color: #008080; font-weight: bold\">5</span><span style=\"font-weight: bold\">)</span>=<span style=\"color: #008080; text-decoration-color: #008080; font-weight: bold\">0.009390</span>=<span style=\"color: #008080; text-decoration-color: #008080; font-weight: bold\">0.118000</span>/<span style=\"font-weight: bold\">(</span>4π<span style=\"font-weight: bold\">)</span>          <a href=\"file:///home/tanjona/miniconda3/envs/yadism/lib/python3.10/site-packages/eko/couplings.py\" target=\"_blank\"><span style=\"color: #7f7f7f; text-decoration-color: #7f7f7f\">couplings.py</span></a><span style=\"color: #7f7f7f; text-decoration-color: #7f7f7f\">:</span><a href=\"file:///home/tanjona/miniconda3/envs/yadism/lib/python3.10/site-packages/eko/couplings.py#458\" target=\"_blank\"><span style=\"color: #7f7f7f; text-decoration-color: #7f7f7f\">458</span></a>\n",
       "</pre>\n"
      ],
      "text/plain": [
       "\u001b[2;36m          \u001b[0m\u001b[2;36m \u001b[0m\u001b[34mINFO    \u001b[0m Strong Coupling: \u001b[1;35ma_s\u001b[0m\u001b[1m(\u001b[0mµ_R^\u001b[1;36m2\u001b[0m=\u001b[1;36m8317\u001b[0m\u001b[1;36m.440000\u001b[0m\u001b[1m)\u001b[0m^\u001b[1m(\u001b[0m\u001b[33mnf\u001b[0m=\u001b[1;36m5\u001b[0m\u001b[1m)\u001b[0m=\u001b[1;36m0.\u001b[0m\u001b[1;36m009390\u001b[0m=\u001b[1;36m0\u001b[0m\u001b[1;36m.118000\u001b[0m/\u001b[1m(\u001b[0m4π\u001b[1m)\u001b[0m          \u001b]8;id=709662;file:///home/tanjona/miniconda3/envs/yadism/lib/python3.10/site-packages/eko/couplings.py\u001b\\\u001b[2mcouplings.py\u001b[0m\u001b]8;;\u001b\\\u001b[2m:\u001b[0m\u001b]8;id=838466;file:///home/tanjona/miniconda3/envs/yadism/lib/python3.10/site-packages/eko/couplings.py#458\u001b\\\u001b[2m458\u001b[0m\u001b]8;;\u001b\\\n"
      ]
     },
     "metadata": {},
     "output_type": "display_data"
    },
    {
     "data": {
      "text/html": [
       "<pre style=\"white-space:pre;overflow-x:auto;line-height:normal;font-family:Menlo,'DejaVu Sans Mono',consolas,'Courier New',monospace\"><span style=\"color: #7fbfbf; text-decoration-color: #7fbfbf\">           </span><span style=\"color: #000080; text-decoration-color: #000080\">INFO    </span> Atlas <span style=\"font-weight: bold\">[</span><span style=\"color: #008080; text-decoration-color: #008080; font-weight: bold\">0.00e+00</span> - <span style=\"color: #008080; text-decoration-color: #008080; font-weight: bold\">2.28e+00</span> - <span style=\"color: #008080; text-decoration-color: #008080; font-weight: bold\">2.42e+01</span> - <span style=\"color: #008080; text-decoration-color: #008080; font-weight: bold\">2.98e+04</span> - inf<span style=\"font-weight: bold\">]</span>, <span style=\"color: #808000; text-decoration-color: #808000\">ref</span>=<span style=\"color: #008080; text-decoration-color: #008080; font-weight: bold\">8317.44</span> @ <span style=\"color: #008080; text-decoration-color: #008080; font-weight: bold\">5</span>        <a href=\"file:///home/tanjona/miniconda3/envs/yadism/lib/python3.10/site-packages/eko/matchings.py\" target=\"_blank\"><span style=\"color: #7f7f7f; text-decoration-color: #7f7f7f\">matchings.py</span></a><span style=\"color: #7f7f7f; text-decoration-color: #7f7f7f\">:</span><a href=\"file:///home/tanjona/miniconda3/envs/yadism/lib/python3.10/site-packages/eko/matchings.py#69\" target=\"_blank\"><span style=\"color: #7f7f7f; text-decoration-color: #7f7f7f\">69</span></a>\n",
       "</pre>\n"
      ],
      "text/plain": [
       "\u001b[2;36m          \u001b[0m\u001b[2;36m \u001b[0m\u001b[34mINFO    \u001b[0m Atlas \u001b[1m[\u001b[0m\u001b[1;36m0.00e+00\u001b[0m - \u001b[1;36m2.28e+00\u001b[0m - \u001b[1;36m2.42e+01\u001b[0m - \u001b[1;36m2.98e+04\u001b[0m - inf\u001b[1m]\u001b[0m, \u001b[33mref\u001b[0m=\u001b[1;36m8317\u001b[0m\u001b[1;36m.44\u001b[0m @ \u001b[1;36m5\u001b[0m        \u001b]8;id=369258;file:///home/tanjona/miniconda3/envs/yadism/lib/python3.10/site-packages/eko/matchings.py\u001b\\\u001b[2mmatchings.py\u001b[0m\u001b]8;;\u001b\\\u001b[2m:\u001b[0m\u001b]8;id=408583;file:///home/tanjona/miniconda3/envs/yadism/lib/python3.10/site-packages/eko/matchings.py#69\u001b\\\u001b[2m69\u001b[0m\u001b]8;;\u001b\\\n"
      ]
     },
     "metadata": {},
     "output_type": "display_data"
    }
   ],
   "source": [
    "values = out.apply_pdf(pdf)"
   ]
  },
  {
   "cell_type": "code",
   "execution_count": 8,
   "id": "a56aee13-b08b-492f-80d0-3487bea74318",
   "metadata": {},
   "outputs": [
    {
     "name": "stdout",
     "output_type": "stream",
     "text": [
      "{\n",
      "    \"XSHERANCAVG_charm\": [\n",
      "        {\n",
      "            \"x\": 3e-05,\n",
      "            \"Q2\": 2.5,\n",
      "            \"result\": -0.9959496128078331,\n",
      "            \"error\": 1.281070214968848e-08,\n",
      "            \"y\": 0.8240707777909629\n",
      "        },\n",
      "        {\n",
      "            \"x\": 7e-05,\n",
      "            \"Q2\": 2.5,\n",
      "            \"result\": -0.7710853256052412,\n",
      "            \"error\": 2.3298246570353407e-08,\n",
      "            \"y\": 0.3531731904818413\n",
      "        }\n",
      "    ]\n",
      "}\n"
     ]
    }
   ],
   "source": [
    "print(json.dumps(values, sort_keys=False, indent=4))"
   ]
  },
  {
   "cell_type": "markdown",
   "id": "2c0ffc4a-bb6b-4d89-9a01-1d2c93e49995",
   "metadata": {},
   "source": [
    "We can see that `values` is a dictionary containing one element whose key is the name of the observable (as we defined above). If we had defined two observables in the `observable_card`, `values` would also contain two elements."
   ]
  },
  {
   "cell_type": "markdown",
   "id": "519b8537-9c09-4a66-bf44-ff47e1879449",
   "metadata": {},
   "source": [
    "## Dumping predictions into fast-interpolation grids\n",
    "\n",
    "We learned from the previous sections how to compute an observable using `yadism` and now we'll see how to tabulate the output of `yadism.run_yadism` into a fast-interpolation table. This has the convenient advantage that one can re-use the same computations without the need to re-run `yadism` (to convolve with different PDF sets for example).\n",
    "\n",
    "One of the main advantage of `yadism` is its interface with PineAPPL - a library providing fast interpolation into a unique format suitable for various HEP-related softwares. \n",
    "\n",
    "Each observable defined in `observable_card` can be dumped into its own fast-interpolation grid. The steps are as follow:"
   ]
  },
  {
   "cell_type": "code",
   "execution_count": 9,
   "id": "7f914e87-bb05-47c7-a850-11a18e6cfdb5",
   "metadata": {},
   "outputs": [],
   "source": [
    "# import function that dumps the predictions into a Pineappl format\n",
    "from yadbox.export import dump_pineappl_to_file\n",
    "\n",
    "# Extract the names of the different observables (in case there are many)\n",
    "list_observables = observable_card['observables'].keys()\n",
    "\n",
    "# Dump each observable into a PineAPPL grid\n",
    "for obs in list_observables:\n",
    "    dump_pineappl_to_file(out, f\"outputgrid_{obs}.pineappl.lz4\", f\"{obs}\")"
   ]
  },
  {
   "cell_type": "markdown",
   "id": "7dffb5fd-9e84-4982-b9d4-a4f077a573e8",
   "metadata": {},
   "source": [
    "Our PineAPPL grid has now been written on the disk. Note that the extension has to be `pineappl.lz4`."
   ]
  },
  {
   "cell_type": "code",
   "execution_count": 10,
   "id": "703b29ce-9068-44af-b72b-1144bad805e6",
   "metadata": {},
   "outputs": [
    {
     "name": "stdout",
     "output_type": "stream",
     "text": [
      "outputgrid_XSHERANCAVG_charm.pineappl.lz4\n"
     ]
    }
   ],
   "source": [
    "!ls outputgrid_*"
   ]
  },
  {
   "cell_type": "markdown",
   "id": "0c887943-be93-4a0f-815b-1317ad04db2c",
   "metadata": {},
   "source": [
    "To load the pre-computed predictions, we need to import the `pineappl` package. Given that `pineappl` is a dependency of `yadism` it was already installed so we don't have to install it again."
   ]
  },
  {
   "cell_type": "code",
   "execution_count": 11,
   "id": "ebf75d0e-965a-46b1-a3a3-e20eeb1d5e15",
   "metadata": {},
   "outputs": [],
   "source": [
    "# imports the pineappl package\n",
    "import pineappl\n",
    "\n",
    "# Read the pineappl grid saved earlier\n",
    "grid = pineappl.grid.Grid.read(\"./outputgrid_XSHERANCAVG_charm.pineappl.lz4\")\n",
    "\n",
    "# Convolve the grid with the same PDF as above, 2212 is the PID of the proton\n",
    "results = grid.convolve_with_one(2212, pdf.xfxQ2, pdf.alphasQ2)"
   ]
  },
  {
   "cell_type": "code",
   "execution_count": 12,
   "id": "fc268946-3f84-4f63-be98-a899adf9512c",
   "metadata": {},
   "outputs": [
    {
     "name": "stdout",
     "output_type": "stream",
     "text": [
      "[-0.98699882 -0.7640712 ]\n"
     ]
    }
   ],
   "source": [
    "print(results)"
   ]
  },
  {
   "cell_type": "markdown",
   "id": "c114b40d-9a40-4d73-8609-ab8761fe37a0",
   "metadata": {},
   "source": [
    "As we can see, we get similar results to what we got before. Now, the `results` is just an array of two dimension corresponding to the different kinematic values."
   ]
  }
 ],
 "metadata": {
  "kernelspec": {
   "display_name": "yadism",
   "language": "python",
   "name": "yadism"
  },
  "language_info": {
   "codemirror_mode": {
    "name": "ipython",
    "version": 3
   },
   "file_extension": ".py",
   "mimetype": "text/x-python",
   "name": "python",
   "nbconvert_exporter": "python",
   "pygments_lexer": "ipython3",
   "version": "3.10.13"
  }
 },
 "nbformat": 4,
 "nbformat_minor": 5
}
