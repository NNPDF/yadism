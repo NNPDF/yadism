{
 "cells": [
  {
   "cell_type": "markdown",
   "id": "nominated-inspection",
   "metadata": {},
   "source": [
    "# Compare to Experimental Data\n",
    "\n",
    "We show how to compare `yadism` predictions to an HERA measurement (see [here](https://www.desy.de/h1zeus/herapdf20) for an overview),\n",
    "specifically [this dataset](https://www.hepdata.net/record/ins1377206?version=1&table=Table%205).\n",
    "\n",
    "## Preparing the dataset\n",
    "\n",
    "Our dataset can be downloaded from the NNPDF server:"
   ]
  },
  {
   "cell_type": "code",
   "execution_count": 1,
   "id": "2fada138-79b8-44c7-ad32-8ececc9979f3",
   "metadata": {},
   "outputs": [],
   "source": [
    "!wget -q -N https://data.nnpdf.science/yadism/HERA12B2_NCem.dat"
   ]
  },
  {
   "cell_type": "code",
   "execution_count": 2,
   "id": "1baa9ce5-ee95-46f9-a2e6-9682d5e295f7",
   "metadata": {},
   "outputs": [
    {
     "data": {
      "text/html": [
       "<div>\n",
       "<style scoped>\n",
       "    .dataframe tbody tr th:only-of-type {\n",
       "        vertical-align: middle;\n",
       "    }\n",
       "\n",
       "    .dataframe tbody tr th {\n",
       "        vertical-align: top;\n",
       "    }\n",
       "\n",
       "    .dataframe thead th {\n",
       "        text-align: right;\n",
       "    }\n",
       "</style>\n",
       "<table border=\"1\" class=\"dataframe\">\n",
       "  <thead>\n",
       "    <tr style=\"text-align: right;\">\n",
       "      <th></th>\n",
       "      <th>x</th>\n",
       "      <th>Q2</th>\n",
       "      <th>Sigma</th>\n",
       "    </tr>\n",
       "  </thead>\n",
       "  <tbody>\n",
       "    <tr>\n",
       "      <th>0</th>\n",
       "      <td>0.0008</td>\n",
       "      <td>60.0</td>\n",
       "      <td>1.483100</td>\n",
       "    </tr>\n",
       "    <tr>\n",
       "      <th>1</th>\n",
       "      <td>0.0013</td>\n",
       "      <td>90.0</td>\n",
       "      <td>1.466000</td>\n",
       "    </tr>\n",
       "    <tr>\n",
       "      <th>2</th>\n",
       "      <td>0.0015</td>\n",
       "      <td>90.0</td>\n",
       "      <td>1.421900</td>\n",
       "    </tr>\n",
       "    <tr>\n",
       "      <th>3</th>\n",
       "      <td>0.0020</td>\n",
       "      <td>90.0</td>\n",
       "      <td>1.270000</td>\n",
       "    </tr>\n",
       "    <tr>\n",
       "      <th>4</th>\n",
       "      <td>0.0016</td>\n",
       "      <td>120.0</td>\n",
       "      <td>1.438800</td>\n",
       "    </tr>\n",
       "    <tr>\n",
       "      <th>...</th>\n",
       "      <td>...</td>\n",
       "      <td>...</td>\n",
       "      <td>...</td>\n",
       "    </tr>\n",
       "    <tr>\n",
       "      <th>154</th>\n",
       "      <td>0.4000</td>\n",
       "      <td>20000.0</td>\n",
       "      <td>0.205990</td>\n",
       "    </tr>\n",
       "    <tr>\n",
       "      <th>155</th>\n",
       "      <td>0.6500</td>\n",
       "      <td>20000.0</td>\n",
       "      <td>0.017364</td>\n",
       "    </tr>\n",
       "    <tr>\n",
       "      <th>156</th>\n",
       "      <td>0.4000</td>\n",
       "      <td>30000.0</td>\n",
       "      <td>0.230730</td>\n",
       "    </tr>\n",
       "    <tr>\n",
       "      <th>157</th>\n",
       "      <td>0.6500</td>\n",
       "      <td>30000.0</td>\n",
       "      <td>0.044179</td>\n",
       "    </tr>\n",
       "    <tr>\n",
       "      <th>158</th>\n",
       "      <td>0.6500</td>\n",
       "      <td>50000.0</td>\n",
       "      <td>0.082210</td>\n",
       "    </tr>\n",
       "  </tbody>\n",
       "</table>\n",
       "<p>159 rows × 3 columns</p>\n",
       "</div>"
      ],
      "text/plain": [
       "          x       Q2     Sigma\n",
       "0    0.0008     60.0  1.483100\n",
       "1    0.0013     90.0  1.466000\n",
       "2    0.0015     90.0  1.421900\n",
       "3    0.0020     90.0  1.270000\n",
       "4    0.0016    120.0  1.438800\n",
       "..      ...      ...       ...\n",
       "154  0.4000  20000.0  0.205990\n",
       "155  0.6500  20000.0  0.017364\n",
       "156  0.4000  30000.0  0.230730\n",
       "157  0.6500  30000.0  0.044179\n",
       "158  0.6500  50000.0  0.082210\n",
       "\n",
       "[159 rows x 3 columns]"
      ]
     },
     "execution_count": 2,
     "metadata": {},
     "output_type": "execute_result"
    }
   ],
   "source": [
    "import pandas as pd\n",
    "\n",
    "# Load the experimental data via pandas\n",
    "data = pd.read_csv(\"HERA12B2_NCem.dat\", sep=\"\\s+\")\n",
    "\n",
    "data[[\"x\", \"Q2\", \"Sigma\"]]"
   ]
  },
  {
   "cell_type": "markdown",
   "id": "60da4349-dddc-406e-a3f8-2e81c7e1c767",
   "metadata": {},
   "source": [
    "## Computing the yadism predictions\n",
    "\n",
    "We are now going to compute the `yadism` predictions at the same kinematic points as provided by the experimental measurements. First, we need to prepare the theory and observable cards."
   ]
  },
  {
   "cell_type": "code",
   "execution_count": 3,
   "id": "9849edb4-ae32-49b2-ba6d-a96bf2cdb6f4",
   "metadata": {},
   "outputs": [],
   "source": [
    "import warnings\n",
    "import yadism\n",
    "from eko import interpolation\n",
    "from yadbox.export import dump_pineappl_to_file"
   ]
  },
  {
   "cell_type": "code",
   "execution_count": 4,
   "id": "5920d43e-b8b4-496a-97c8-98b5c2325716",
   "metadata": {},
   "outputs": [],
   "source": [
    "theory_card = {\n",
    "    \"PTO\": 2,\n",
    "    \"FNS\": \"ZM-VFNS\",\n",
    "    \"DAMP\": 0,\n",
    "    \"IC\": 1,\n",
    "    \"IB\": 0,\n",
    "    \"ModEv\": \"TRN\",\n",
    "    \"ModSV\": \"unvaried\",\n",
    "    \"XIR\": 1.0,\n",
    "    \"XIF\": 1.0,\n",
    "    \"NfFF\": 5,\n",
    "    \"MaxNfAs\": 5,\n",
    "    \"MaxNfPdf\": 5,\n",
    "    \"Q0\": 1.65,\n",
    "    \"alphas\": 0.118,\n",
    "    \"Qref\": 91.2,\n",
    "    \"nf0\": 4,\n",
    "    \"nfref\": 5,\n",
    "    \"QED\": 0,\n",
    "    \"alphaqed\": 0.007496252,\n",
    "    \"Qedref\": 1.777,\n",
    "    \"SxRes\": 0,\n",
    "    \"SxOrd\": \"LL\",\n",
    "    \"HQ\": \"POLE\",\n",
    "    \"mc\": 1.51,\n",
    "    \"Qmc\": 1.51,\n",
    "    \"kcThr\": 1.0,\n",
    "    \"mb\": 4.92,\n",
    "    \"Qmb\": 4.92,\n",
    "    \"kbThr\": 4.0,\n",
    "    \"mt\": 172.5,\n",
    "    \"Qmt\": 172.5,\n",
    "    \"ktThr\": 1.0,\n",
    "    \"CKM\": \"0.97428 0.22530 0.003470 0.22520 0.97345 0.041000 0.00862 0.04030 0.999152\",\n",
    "    \"MZ\": 91.1876,\n",
    "    \"MW\": 80.398,\n",
    "    \"GF\": 1.1663787e-05,\n",
    "    \"SIN2TW\": 0.23126,\n",
    "    \"TMC\": 1,\n",
    "    \"MP\": 0.938,\n",
    "    \"global_nx\": 0,\n",
    "    \"EScaleVar\": 1,\n",
    "    \"kDIScThr\": 1.0,\n",
    "    \"kDISbThr\": 1.0,\n",
    "    \"kDIStThr\": 1.0,\n",
    "    \"n3lo_cf_variation\": 0,\n",
    "}"
   ]
  },
  {
   "cell_type": "code",
   "execution_count": 5,
   "id": "ff60baae-65ee-4544-af2d-3c7a23a5734d",
   "metadata": {},
   "outputs": [],
   "source": [
    "observables_card = {\n",
    "    \"PolarizationDIS\": 0.0,\n",
    "    \"ProjectileDIS\": \"electron\",\n",
    "    \"PropagatorCorrection\": 0.0,\n",
    "    \"TargetDIS\": \"proton\",\n",
    "    \"interpolation_is_log\": True,\n",
    "    \"interpolation_polynomial_degree\": 4,\n",
    "    \"interpolation_xgrid\": interpolation.lambertgrid(60).tolist(),\n",
    "    \"observables\": {\"XSHERANC_total\": []},\n",
    "    \"prDIS\": \"NC\",\n",
    "    \"NCPositivityCharge\": None,\n",
    "}"
   ]
  },
  {
   "cell_type": "code",
   "execution_count": 6,
   "id": "6e68559d-2f4e-4a0c-a372-8dc836bd1f8a",
   "metadata": {},
   "outputs": [],
   "source": [
    "def compute_predicionts() -> None:\n",
    "    \"\"\"Compute yadism prediction for all experimental bins.\"\"\"\n",
    "    # prepare the kinematics for all the datapoints\n",
    "    curobs = data.apply(\n",
    "        lambda dat: {\"x\": dat[\"x\"], \"Q2\": dat[\"Q2\"], \"y\": dat[\"y\"]},\n",
    "        axis=1,\n",
    "    )\n",
    "\n",
    "    # Update the observable & kinematics in the `observable_card`\n",
    "    obs_def = {\n",
    "        \"observables\" : {\"XSHERANC_total\": list(curobs.to_dict().values())}\n",
    "    } # As we saw in the previous tutorial, it has to be a dict[dict[list]]\n",
    "    observables_card.update(obs_def)\n",
    "\n",
    "    with warnings.catch_warnings():\n",
    "        warnings.simplefilter(\"ignore\") # suppress noisy warnings\n",
    "        out = yadism.run_yadism(theory_card, observables_card)\n",
    "\n",
    "    # Dump computations as a pineappl grid for later use\n",
    "    dump_pineappl_to_file(\n",
    "        out, \"HERA_NC_318GEV_EM_SIGMARED.pineappl.lz4\", \"XSHERANC_total\"\n",
    "    )"
   ]
  },
  {
   "cell_type": "code",
   "execution_count": 7,
   "id": "006952bf-d2aa-46c0-a1a5-53f19af94068",
   "metadata": {},
   "outputs": [
    {
     "data": {
      "text/html": [
       "<pre style=\"white-space:pre;overflow-x:auto;line-height:normal;font-family:Menlo,'DejaVu Sans Mono',consolas,'Courier New',monospace\">                                      <span style=\"color: #800080; text-decoration-color: #800080\">┌────────────────────────────────────┐</span>                                       \n",
       "                                      <span style=\"color: #800080; text-decoration-color: #800080\">│                                    │</span>                                       \n",
       "                                      <span style=\"color: #800080; text-decoration-color: #800080\">│ __     __       _ _                │</span>                                       \n",
       "                                      <span style=\"color: #800080; text-decoration-color: #800080\">│ \\ \\   / /      | (_)               │</span>                                       \n",
       "                                      <span style=\"color: #800080; text-decoration-color: #800080\">│  \\ \\_/ /_ _  __| |_ ___ _ __ ___   │</span>                                       \n",
       "                                      <span style=\"color: #800080; text-decoration-color: #800080\">│   \\   / _` |/ _` | / __| '_ ` _ \\  │</span>                                       \n",
       "                                      <span style=\"color: #800080; text-decoration-color: #800080\">│    | | (_| | (_| | \\__ \\ | | | | | │</span>                                       \n",
       "                                      <span style=\"color: #800080; text-decoration-color: #800080\">│    |_|\\__,_|\\__,_|_|___/_| |_| |_| │</span>                                       \n",
       "                                      <span style=\"color: #800080; text-decoration-color: #800080\">│                                    │</span>                                       \n",
       "                                      <span style=\"color: #800080; text-decoration-color: #800080\">└────────────────────────────────────┘</span>                                       \n",
       "</pre>\n"
      ],
      "text/plain": [
       "                                      \u001b[35m┌────────────────────────────────────┐\u001b[0m                                       \n",
       "                                      \u001b[35m│\u001b[0m\u001b[35m                                    \u001b[0m\u001b[35m│\u001b[0m                                       \n",
       "                                      \u001b[35m│\u001b[0m\u001b[35m \u001b[0m\u001b[35m__     __       _ _\u001b[0m\u001b[35m               \u001b[0m\u001b[35m \u001b[0m\u001b[35m│\u001b[0m                                       \n",
       "                                      \u001b[35m│\u001b[0m\u001b[35m \u001b[0m\u001b[35m\\ \\   / /      | (_)\u001b[0m\u001b[35m              \u001b[0m\u001b[35m \u001b[0m\u001b[35m│\u001b[0m                                       \n",
       "                                      \u001b[35m│\u001b[0m\u001b[35m \u001b[0m\u001b[35m \\ \\_/ /_ _  __| |_ ___ _ __ ___\u001b[0m\u001b[35m  \u001b[0m\u001b[35m \u001b[0m\u001b[35m│\u001b[0m                                       \n",
       "                                      \u001b[35m│\u001b[0m\u001b[35m \u001b[0m\u001b[35m  \\   / _` |/ _` | / __| '_ ` _ \\\u001b[0m\u001b[35m \u001b[0m\u001b[35m \u001b[0m\u001b[35m│\u001b[0m                                       \n",
       "                                      \u001b[35m│\u001b[0m\u001b[35m \u001b[0m\u001b[35m   | | (_| | (_| | \\__ \\ | | | | |\u001b[0m\u001b[35m \u001b[0m\u001b[35m│\u001b[0m                                       \n",
       "                                      \u001b[35m│\u001b[0m\u001b[35m \u001b[0m\u001b[35m   |_|\\__,_|\\__,_|_|___/_| |_| |_|\u001b[0m\u001b[35m \u001b[0m\u001b[35m│\u001b[0m                                       \n",
       "                                      \u001b[35m│\u001b[0m\u001b[35m                                    \u001b[0m\u001b[35m│\u001b[0m                                       \n",
       "                                      \u001b[35m└────────────────────────────────────┘\u001b[0m                                       \n"
      ]
     },
     "metadata": {},
     "output_type": "display_data"
    },
    {
     "data": {
      "text/html": [
       "<pre style=\"white-space:pre;overflow-x:auto;line-height:normal;font-family:Menlo,'DejaVu Sans Mono',consolas,'Courier New',monospace\">\n",
       "                                                       <span style=\"font-weight: bold; text-decoration: underline\">Plan</span>                                                        \n",
       "</pre>\n"
      ],
      "text/plain": [
       "\n",
       "                                                       \u001b[1;4mPlan\u001b[0m                                                        \n"
      ]
     },
     "metadata": {},
     "output_type": "display_data"
    },
    {
     "data": {
      "text/html": [
       "<pre style=\"white-space:pre;overflow-x:auto;line-height:normal;font-family:Menlo,'DejaVu Sans Mono',consolas,'Courier New',monospace\">\n",
       "<span style=\"color: #808000; text-decoration-color: #808000; font-weight: bold\"> • </span>XSHERANC_total at 159 pts                                                                                       \n",
       "</pre>\n"
      ],
      "text/plain": [
       "\n",
       "\u001b[1;33m • \u001b[0mXSHERANC_total at 159 pts                                                                                       \n"
      ]
     },
     "metadata": {},
     "output_type": "display_data"
    },
    {
     "data": {
      "text/html": [
       "<pre style=\"white-space:pre;overflow-x:auto;line-height:normal;font-family:Menlo,'DejaVu Sans Mono',consolas,'Courier New',monospace\">\n",
       "                                                    <span style=\"font-weight: bold; text-decoration: underline\">Calculation</span>                                                    \n",
       "</pre>\n"
      ],
      "text/plain": [
       "\n",
       "                                                    \u001b[1;4mCalculation\u001b[0m                                                    \n"
      ]
     },
     "metadata": {},
     "output_type": "display_data"
    },
    {
     "data": {
      "text/html": [
       "<pre style=\"white-space:pre;overflow-x:auto;line-height:normal;font-family:Menlo,'DejaVu Sans Mono',consolas,'Courier New',monospace\">yadism took off! please stay tuned <span style=\"color: #808000; text-decoration-color: #808000\">...</span>\n",
       "</pre>\n"
      ],
      "text/plain": [
       "yadism took off! please stay tuned \u001b[33m...\u001b[0m\n"
      ]
     },
     "metadata": {},
     "output_type": "display_data"
    },
    {
     "data": {
      "text/html": [
       "<pre style=\"white-space:pre;overflow-x:auto;line-height:normal;font-family:Menlo,'DejaVu Sans Mono',consolas,'Courier New',monospace\"></pre>\n"
      ],
      "text/plain": [
       "\u001b[?25l"
      ]
     },
     "metadata": {},
     "output_type": "display_data"
    },
    {
     "data": {
      "application/vnd.jupyter.widget-view+json": {
       "model_id": "b913a8eaf91d4163baef0654dc9c0a8f",
       "version_major": 2,
       "version_minor": 0
      },
      "text/plain": [
       "Output()"
      ]
     },
     "metadata": {},
     "output_type": "display_data"
    },
    {
     "data": {
      "text/html": [
       "<pre style=\"white-space:pre;overflow-x:auto;line-height:normal;font-family:Menlo,'DejaVu Sans Mono',consolas,'Courier New',monospace\">\n",
       "</pre>\n"
      ],
      "text/plain": [
       "\n",
       "\u001b[?25h\r\u001b[1A\u001b[2K"
      ]
     },
     "metadata": {},
     "output_type": "display_data"
    },
    {
     "data": {
      "text/html": [
       "<pre style=\"white-space:pre;overflow-x:auto;line-height:normal;font-family:Menlo,'DejaVu Sans Mono',consolas,'Courier New',monospace\"><span style=\"color: #008080; text-decoration-color: #008080\">took </span><span style=\"color: #008080; text-decoration-color: #008080; font-weight: bold\">86.98</span><span style=\"color: #008080; text-decoration-color: #008080\"> s</span>\n",
       "</pre>\n"
      ],
      "text/plain": [
       "\u001b[36mtook \u001b[0m\u001b[1;36m86.98\u001b[0m\u001b[36m s\u001b[0m\n"
      ]
     },
     "metadata": {},
     "output_type": "display_data"
    }
   ],
   "source": [
    "# Compute the predictions - slightly heavier due to complexity & number of datapoints\n",
    "compute_predicionts()"
   ]
  },
  {
   "cell_type": "markdown",
   "id": "ee0cb707-eb66-4888-8ad8-142c3556e26f",
   "metadata": {},
   "source": [
    "## Loading and comparing to HERA\n",
    "\n",
    "Now, that we have our pre-computed predictions in the form of a PineAPPL grid, we can compare the results to the HERA measurements. To do so, we can load the grid and convolute it with a PDF set, specifically the NNLO NNPDF4.0 set."
   ]
  },
  {
   "cell_type": "code",
   "execution_count": 8,
   "id": "8fa0f803-de73-4737-a40a-7ffeebf6de77",
   "metadata": {},
   "outputs": [],
   "source": [
    "import lhapdf\n",
    "import pineappl"
   ]
  },
  {
   "cell_type": "code",
   "execution_count": 9,
   "id": "b631e769-d706-4d9a-ac30-006a24dffca8",
   "metadata": {},
   "outputs": [
    {
     "name": "stdout",
     "output_type": "stream",
     "text": [
      "LHAPDF 6.4.0 loading /home/felix/local/share/LHAPDF/NNPDF40_nnlo_as_01180/NNPDF40_nnlo_as_01180_0000.dat\n",
      "NNPDF40_nnlo_as_01180 PDF set, member #0, version 1; LHAPDF ID = 331100\n"
     ]
    }
   ],
   "source": [
    "# Load only the central member\n",
    "pdf = lhapdf.mkPDF(\"NNPDF40_nnlo_as_01180\", 0)"
   ]
  },
  {
   "cell_type": "code",
   "execution_count": 10,
   "id": "0e0f5c2e-74ce-45ea-9064-749eb3ad47df",
   "metadata": {},
   "outputs": [],
   "source": [
    "# Load the pre-computed grid\n",
    "grid = pineappl.grid.Grid.read(\"HERA_NC_318GEV_EM_SIGMARED.pineappl.lz4\")\n",
    "\n",
    "# Convolute with the PDF\n",
    "yadism_data = grid.convolute_with_one(2212, pdf.xfxQ2, pdf.alphasQ2)"
   ]
  },
  {
   "cell_type": "code",
   "execution_count": 11,
   "id": "5995d40f-2e53-4d1d-8d5e-84798e127647",
   "metadata": {},
   "outputs": [],
   "source": [
    "# Combine the exp measurements and Yadism preds into one table\n",
    "data_vs_yadism_df = pd.concat(\n",
    "    [\n",
    "        data[\"Q2\"],\n",
    "        data[\"x\"],\n",
    "        data[\"Sigma\"],\n",
    "        pd.DataFrame([yadism_data], index=[\"yadism\"]).T,\n",
    "    ],\n",
    "    axis=1,\n",
    ")"
   ]
  },
  {
   "cell_type": "markdown",
   "id": "16e935e5",
   "metadata": {},
   "source": [
    "Finally, we can compare our theory predictions and the experimental data graphically."
   ]
  },
  {
   "cell_type": "code",
   "execution_count": 12,
   "id": "a9ca7478-6101-458a-8f79-ec039111f640",
   "metadata": {},
   "outputs": [],
   "source": [
    "import matplotlib.pyplot as plt\n",
    "\n",
    "def plot_comparisons_q2(df: pd.DataFrame, q2_value: float = 300) -> None:\n",
    "    fig, ax = plt.subplots(figsize=(5, 3.75), layout=\"tight\")\n",
    "\n",
    "    # Select corresponding Q2 values\n",
    "    df_q2 = df[df.Q2 == q2_value]\n",
    "\n",
    "    # Plot measurements and yadism preds\n",
    "    ax.plot(df_q2.x, df_q2[\"Sigma\"], \"o\", label=\"EXP\")\n",
    "    ax.plot(df_q2.x, df_q2[\"yadism\"], \"rs\", label=\"Yadism\")\n",
    "\n",
    "    ax.set_xlabel(\"x\")\n",
    "    ax.set_ylabel(\"xsec\")\n",
    "    ax.legend()\n",
    "    ax.set_xscale(\"log\")\n",
    "    ax.set_title(f\"HERA: $Q^2 = {q2_value}~ \\\\mathrm{{GeV}}^2$\")"
   ]
  },
  {
   "cell_type": "code",
   "execution_count": 13,
   "id": "cde1c144-2195-48d2-ac9c-05b09cb2b088",
   "metadata": {},
   "outputs": [
    {
     "data": {
      "image/png": "[encoded data removed]",
      "text/plain": [
       "<Figure size 500x375 with 1 Axes>"
      ]
     },
     "metadata": {},
     "output_type": "display_data"
    }
   ],
   "source": [
    "plot_comparisons_q2(data_vs_yadism_df)"
   ]
  },
  {
   "cell_type": "markdown",
   "id": "6eeb13ce",
   "metadata": {},
   "source": [
    "Note that we are using the ZM-VFNS here, so we don't expect perfect agreement as heavy quark effects are only entering through the PDF evolution."
   ]
  }
 ],
 "metadata": {
  "kernelspec": {
   "display_name": "yadism-QljnF84o-py3.10",
   "language": "python",
   "name": "yadism-qljnf84o-py3.10"
  },
  "language_info": {
   "codemirror_mode": {
    "name": "ipython",
    "version": 3
   },
   "file_extension": ".py",
   "mimetype": "text/x-python",
   "name": "python",
   "nbconvert_exporter": "python",
   "pygments_lexer": "ipython3",
   "version": "3.10.13"
  }
 },
 "nbformat": 4,
 "nbformat_minor": 5
}
