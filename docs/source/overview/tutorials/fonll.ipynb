{
 "cells": [
  {
   "cell_type": "markdown",
   "id": "8dc7e32e",
   "metadata": {},
   "source": [
    "# Computing observables in the FONLL scheme\n",
    "\n",
    "The actual implementation of FONLL observables requires \n",
    "the computation of the partonic coefficients functions using different\n",
    "FFNS settings with `yadism` and the possibility to compute coexisting flavor number PDFs, \n",
    "which is provided by the `EKO` library.\n",
    "In this tutorial we explain, using an example, how observables can be calculated using a fixed input PDF by evolving it to the three different flavor number schemes."
   ]
  },
  {
   "cell_type": "markdown",
   "id": "d523eb17",
   "metadata": {},
   "source": [
    "As a first step we define the define the inputs needed for a computation of a DIS observable. \n",
    "In the following example we will compute predictions for $F_{2c}$."
   ]
  },
  {
   "cell_type": "code",
   "execution_count": 55,
   "id": "d359e703",
   "metadata": {},
   "outputs": [],
   "source": [
    "# Define a DIS observable runcard:\n",
    "observablecard = {\n",
    "    # Process type: \"EM\", \"NC\", \"CC\"\n",
    "    \"prDIS\": \"NC\",\n",
    "    # Projectile: \"electron\", \"positron\", \"neutrino\", \"antineutrino\"\n",
    "    \"ProjectileDIS\": \"electron\",\n",
    "    # Scattering target: \"proton\", \"neutron\", \"isoscalar\", \"lead\", \"iron\", \"neon\" or \"marble\"\n",
    "    \"TargetDIS\": \"proton\",\n",
    "    # Interpolation: if True use log interpolation\n",
    "    \"interpolation_is_log\": True,\n",
    "    # Interpolation: polynomial degree, 1 = linear, ...\n",
    "    \"interpolation_polynomial_degree\": 4,\n",
    "    # Interpolation: xgrid values\n",
    "    # Note: for illustrative purposes the grid is chosen very small here\n",
    "    \"interpolation_xgrid\": [1e-7, 1e-6, 1e-5, 1e-4, 1e-3, 1e-2, 1e-1, 1.0],\n",
    "    # Observables configurations\n",
    "    \"observables\": {\n",
    "      \"F2_charm\": [\n",
    "        {\n",
    "            \"y\": 0.,\n",
    "            \"x\": 1e-4,\n",
    "            \"Q2\": 15.0**2,\n",
    "        },\n",
    "        {\n",
    "            \"y\": 0.,\n",
    "            \"x\": 1e-3,\n",
    "            \"Q2\": 15.0**2,\n",
    "        },\n",
    "        # Add here the kinematics of other datapoints\n",
    "      ],\n",
    "      # Potentially include observables other than F2_charm,\n",
    "      # each of them has to be: TYPE_heaviness, where heaviness can take:\n",
    "      # \"charm\", \"bottom\", \"total\" or \"light\".\n",
    "    },\n",
    "    # Projectile polarization faction, float from 0 to 1.\n",
    "    \"PolarizationDIS\": 0.0,\n",
    "    # Exchanged boson propagator correction\n",
    "    \"PropagatorCorrection\": 0.0,\n",
    "    # Restrict boson coupling to a single parton ? Monte Carlo PID or None for all partons\n",
    "    \"NCPositivityCharge\": None,\n",
    "}\n",
    "\n",
    "# Define the theory parameters:\n",
    "theorycard = {\n",
    "    \"CKM\": \"0.97428 0.22530 0.003470 0.22520 0.97345 0.041000 0.00862 0.04030 0.999152\", # CKM matrix elements\n",
    "    \"GF\": 1.1663787e-05, # [GeV^-2] Fermi coupling constant\n",
    "    \"MP\": 0.938, # [GeV] proton mass\n",
    "    \"MW\": 80.398, # [GeV] W boson mass\n",
    "    \"MZ\": 91.1876, # [GeV] Z boson mass\n",
    "    \"mc\": 1.51, # [GeV] charm mass\n",
    "    \"mb\": 4.92, # [GeV] bottom mass\n",
    "    \"mt\": 172.5, # [GeV] top mass\n",
    "    \"kcThr\": 1.0, # ratio of the charm matching scale over the charm mass\n",
    "    \"kbThr\": 1.0, # ratio of the bottom matching scale over the bottom mass\n",
    "    \"ktThr\": 1.0, # ratio of the top matching scale over the top mass\n",
    "    \"alphas\": 0.118, # alphas value at the reference scale\n",
    "    \"Q0\": 1.65, # [GeV] reference scale for the flavor patch determination\n",
    "    \"nf0\": 4, # number of active flavors at the Q0 reference scale\n",
    "    \"PTO\": 1, # perturbative order in alpha_s: 0 = LO (alpha_s^0), 1 = NLO (alpha_s^1) ...\n",
    "    \"alphaqed\": 0.007496252, # alpha_em value\n",
    "    \"Qref\": 91.2, # [GeV] reference scale for the alphas value\n",
    "    \"nfref\": 5, # number of active flavors at the reference scale Qref\n",
    "    \"QED\": 0, # QED correction to running of strong coupling: 0 = disabled, 1 = allowed\n",
    "    \"XIF\": 1.0, # ratio of factorization scale over the hard scattering scale\n",
    "    \"XIR\": 1.0, # ratio of renormalization scale over the hard scattering scale\n",
    "    \"TMC\": 1, # include target mass corrections: 0 = disabled, 1 = leading twist, 2 = higher twist approximated, 3 = higher twist exact\n",
    "    \"n3lo_cf_variation\": 0, # N3LO coefficient functions variation: -1 = lower bound, 0 = central , 1 = upper bound\n",
    "    \"MaxNfAs\": 5, # maximum number of flavors in running of strong coupling\n",
    "    \"HQ\": \"POLE\", # heavy quark mass scheme (only for DGLAP evolution)\n",
    "    \"MaxNfPdf\": 5, # maximum number of flavors in running of PDFs (needed by pineko)\n",
    "    \"IC\": 1, # 0 = perturbative charm only, 1 = intrinsic charm allowed\n",
    "    \"ModEv\": \"EXA\",  # alphas evolution method, \"EXA\" = \"exact\", \"TRN\" = \"truncated\"\n",
    "}\n",
    "\n",
    "# Define the PDF evolution grid and other DGLAP evolution parameters\n",
    "operatorcard = {\n",
    "    # Evolution starting scale\n",
    "    'mu0': theorycard[\"Q0\"],\n",
    "    # Evolution final scales: add here all the points needed in the evolved PDF\n",
    "    # with the corresponding active number of flavor (Q_i, nf_i)\n",
    "    # (we will update this entry later)\n",
    "    'mugrid': [(10.0, 5),(15.0, 5),(20.0, 5),],\n",
    "    # specify an interpolation grid\n",
    "    'xgrid': [1e-7, 1e-6, 1e-5, 1e-4, 1e-3, 1e-2, 1e-1, 1.0],\n",
    "    # DGLAP evolution settings\n",
    "    'configs': {\n",
    "        # evolution method: 'iterate-exact', 'iterate-expanded', 'truncated' ... see https://eko.readthedocs.io/en/latest/theory/DGLAP.html\n",
    "        'evolution_method': 'iterate-exact',\n",
    "        # other evolution parameters. See https://eko.readthedocs.io/en/latest/theory/DGLAP.html\n",
    "        'ev_op_max_order': [10, 0],\n",
    "        'ev_op_iterations': 10,\n",
    "        # Interpolation: polynomial degree, 1 = linear, ...\n",
    "        'interpolation_polynomial_degree': 4,\n",
    "        # Interpolation: if True use log interpolation\n",
    "        'interpolation_is_log': True,\n",
    "        # Scale variations: \"None\", \"expanded\", \"exponentiated\"\n",
    "        'scvar_method': None,\n",
    "        # Backward evolution matching inversion: \"None\", \"expanded\", \"exact\"\n",
    "        'inversion_method': None,\n",
    "        # Number of parallel cores to use: 0 = all, 1 = one, -1 = all but one ...\n",
    "        'n_integration_cores': 1,\n",
    "        # Polarized evolution ?\n",
    "        'polarized': False,\n",
    "        # Time like evolution ?\n",
    "        'time_like': False\n",
    "    },\n",
    "    # Debug options\n",
    "    'debug': {\n",
    "        'skip_singlet': False,\n",
    "        'skip_non_singlet': False\n",
    "    }\n",
    "}"
   ]
  },
  {
   "cell_type": "markdown",
   "id": "2907d131",
   "metadata": {},
   "source": [
    "Then we compute the necessary coexisting flavor number PDFs starting from a given PDF defined for some value of $Q$ and corresponding $n_f$\n",
    "using `EKO` (for more detailed information on the use of `EKO` we refer to the [documentation](https://eko.readthedocs.io) ).\n",
    "Here, we show how to evolve `NNPDF40_nnlo_as_01180` to produce three PDFs in FFNS3, FFNS4, and FFNS5 respectively."
   ]
  },
  {
   "cell_type": "code",
   "execution_count": 44,
   "id": "b001ecf8",
   "metadata": {},
   "outputs": [
    {
     "name": "stdout",
     "output_type": "stream",
     "text": [
      "LHAPDF 6.5.0 loading /Users/giacomomagni/.conda/envs/yad_dev/share/LHAPDF/NNPDF40_nnlo_as_01180/NNPDF40_nnlo_as_01180_0000.dat\n",
      "NNPDF40_nnlo_as_01180 PDF set, member #0, version 1; LHAPDF ID = 331100\n"
     ]
    },
    {
     "data": {
      "text/html": [
       "<pre style=\"white-space:pre;overflow-x:auto;line-height:normal;font-family:Menlo,'DejaVu Sans Mono',consolas,'Courier New',monospace\"><span style=\"color: #7fbfbf; text-decoration-color: #7fbfbf\">[14:04:47] </span><span style=\"color: #000080; text-decoration-color: #000080\">INFO    </span> Interpolation: number of points = <span style=\"color: #008080; text-decoration-color: #008080; font-weight: bold\">8</span>, polynomial degree = <span style=\"color: #008080; text-decoration-color: #008080; font-weight: bold\">4</span>, logarithmic =  <a href=\"file:///Users/giacomomagni/.conda/envs/yad_dev/lib/python3.10/site-packages/eko/interpolation.py\" target=\"_blank\"><span style=\"color: #7f7f7f; text-decoration-color: #7f7f7f\">interpolation.py</span></a><span style=\"color: #7f7f7f; text-decoration-color: #7f7f7f\">:</span><a href=\"file:///Users/giacomomagni/.conda/envs/yad_dev/lib/python3.10/site-packages/eko/interpolation.py#538\" target=\"_blank\"><span style=\"color: #7f7f7f; text-decoration-color: #7f7f7f\">538</span></a>\n",
       "<span style=\"color: #7fbfbf; text-decoration-color: #7fbfbf\">           </span>         <span style=\"color: #00ff00; text-decoration-color: #00ff00; font-style: italic\">True</span>                                                                       <span style=\"color: #7f7f7f; text-decoration-color: #7f7f7f\">                    </span>\n",
       "</pre>\n"
      ],
      "text/plain": [
       "\u001b[2;36m[14:04:47]\u001b[0m\u001b[2;36m \u001b[0m\u001b[34mINFO    \u001b[0m Interpolation: number of points = \u001b[1;36m8\u001b[0m, polynomial degree = \u001b[1;36m4\u001b[0m, logarithmic =  \u001b]8;id=377600;file:///Users/giacomomagni/.conda/envs/yad_dev/lib/python3.10/site-packages/eko/interpolation.py\u001b\\\u001b[2minterpolation.py\u001b[0m\u001b]8;;\u001b\\\u001b[2m:\u001b[0m\u001b]8;id=48399;file:///Users/giacomomagni/.conda/envs/yad_dev/lib/python3.10/site-packages/eko/interpolation.py#538\u001b\\\u001b[2m538\u001b[0m\u001b]8;;\u001b\\\n",
       "\u001b[2;36m           \u001b[0m         \u001b[3;92mTrue\u001b[0m                                                                       \u001b[2m                    \u001b[0m\n"
      ]
     },
     "metadata": {},
     "output_type": "display_data"
    },
    {
     "data": {
      "text/html": [
       "<pre style=\"white-space:pre;overflow-x:auto;line-height:normal;font-family:Menlo,'DejaVu Sans Mono',consolas,'Courier New',monospace\"><span style=\"color: #7fbfbf; text-decoration-color: #7fbfbf\">           </span><span style=\"color: #000080; text-decoration-color: #000080\">INFO    </span> Atlas <span style=\"font-weight: bold\">[</span><span style=\"color: #008080; text-decoration-color: #008080; font-weight: bold\">0.00e+00</span> - <span style=\"color: #008080; text-decoration-color: #008080; font-weight: bold\">2.28e+00</span> - <span style=\"color: #008080; text-decoration-color: #008080; font-weight: bold\">2.42e+01</span> - <span style=\"color: #008080; text-decoration-color: #008080; font-weight: bold\">2.98e+04</span> - inf<span style=\"font-weight: bold\">]</span>, <span style=\"color: #808000; text-decoration-color: #808000\">ref</span>=<span style=\"color: #008080; text-decoration-color: #008080; font-weight: bold\">2.7224999999999997</span> <a href=\"file:///Users/giacomomagni/.conda/envs/yad_dev/lib/python3.10/site-packages/eko/matchings.py\" target=\"_blank\"><span style=\"color: #7f7f7f; text-decoration-color: #7f7f7f\">matchings.py</span></a><span style=\"color: #7f7f7f; text-decoration-color: #7f7f7f\">:</span><a href=\"file:///Users/giacomomagni/.conda/envs/yad_dev/lib/python3.10/site-packages/eko/matchings.py#72\" target=\"_blank\"><span style=\"color: #7f7f7f; text-decoration-color: #7f7f7f\">72</span></a>\n",
       "<span style=\"color: #7fbfbf; text-decoration-color: #7fbfbf\">           </span>         @ <span style=\"color: #008080; text-decoration-color: #008080; font-weight: bold\">4</span>                                                                             <span style=\"color: #7f7f7f; text-decoration-color: #7f7f7f\">               </span>\n",
       "</pre>\n"
      ],
      "text/plain": [
       "\u001b[2;36m          \u001b[0m\u001b[2;36m \u001b[0m\u001b[34mINFO    \u001b[0m Atlas \u001b[1m[\u001b[0m\u001b[1;36m0.00e+00\u001b[0m - \u001b[1;36m2.28e+00\u001b[0m - \u001b[1;36m2.42e+01\u001b[0m - \u001b[1;36m2.98e+04\u001b[0m - inf\u001b[1m]\u001b[0m, \u001b[33mref\u001b[0m=\u001b[1;36m2\u001b[0m\u001b[1;36m.7224999999999997\u001b[0m \u001b]8;id=390096;file:///Users/giacomomagni/.conda/envs/yad_dev/lib/python3.10/site-packages/eko/matchings.py\u001b\\\u001b[2mmatchings.py\u001b[0m\u001b]8;;\u001b\\\u001b[2m:\u001b[0m\u001b]8;id=162837;file:///Users/giacomomagni/.conda/envs/yad_dev/lib/python3.10/site-packages/eko/matchings.py#72\u001b\\\u001b[2m72\u001b[0m\u001b]8;;\u001b\\\n",
       "\u001b[2;36m           \u001b[0m         @ \u001b[1;36m4\u001b[0m                                                                             \u001b[2m               \u001b[0m\n"
      ]
     },
     "metadata": {},
     "output_type": "display_data"
    },
    {
     "data": {
      "text/html": [
       "<pre style=\"white-space:pre;overflow-x:auto;line-height:normal;font-family:Menlo,'DejaVu Sans Mono',consolas,'Courier New',monospace\"><span style=\"color: #7fbfbf; text-decoration-color: #7fbfbf\">           </span><span style=\"color: #000080; text-decoration-color: #000080\">INFO    </span> Atlas <span style=\"font-weight: bold\">[</span><span style=\"color: #008080; text-decoration-color: #008080; font-weight: bold\">0.00e+00</span> - <span style=\"color: #008080; text-decoration-color: #008080; font-weight: bold\">2.28e+00</span> - <span style=\"color: #008080; text-decoration-color: #008080; font-weight: bold\">2.42e+01</span> - <span style=\"color: #008080; text-decoration-color: #008080; font-weight: bold\">2.98e+04</span> - inf<span style=\"font-weight: bold\">]</span>, <span style=\"color: #808000; text-decoration-color: #808000\">ref</span>=<span style=\"color: #008080; text-decoration-color: #008080; font-weight: bold\">8317.44</span> @ <span style=\"color: #008080; text-decoration-color: #008080; font-weight: bold\">5</span>        <a href=\"file:///Users/giacomomagni/.conda/envs/yad_dev/lib/python3.10/site-packages/eko/matchings.py\" target=\"_blank\"><span style=\"color: #7f7f7f; text-decoration-color: #7f7f7f\">matchings.py</span></a><span style=\"color: #7f7f7f; text-decoration-color: #7f7f7f\">:</span><a href=\"file:///Users/giacomomagni/.conda/envs/yad_dev/lib/python3.10/site-packages/eko/matchings.py#72\" target=\"_blank\"><span style=\"color: #7f7f7f; text-decoration-color: #7f7f7f\">72</span></a>\n",
       "</pre>\n"
      ],
      "text/plain": [
       "\u001b[2;36m          \u001b[0m\u001b[2;36m \u001b[0m\u001b[34mINFO    \u001b[0m Atlas \u001b[1m[\u001b[0m\u001b[1;36m0.00e+00\u001b[0m - \u001b[1;36m2.28e+00\u001b[0m - \u001b[1;36m2.42e+01\u001b[0m - \u001b[1;36m2.98e+04\u001b[0m - inf\u001b[1m]\u001b[0m, \u001b[33mref\u001b[0m=\u001b[1;36m8317\u001b[0m\u001b[1;36m.44\u001b[0m @ \u001b[1;36m5\u001b[0m        \u001b]8;id=135503;file:///Users/giacomomagni/.conda/envs/yad_dev/lib/python3.10/site-packages/eko/matchings.py\u001b\\\u001b[2mmatchings.py\u001b[0m\u001b]8;;\u001b\\\u001b[2m:\u001b[0m\u001b]8;id=930612;file:///Users/giacomomagni/.conda/envs/yad_dev/lib/python3.10/site-packages/eko/matchings.py#72\u001b\\\u001b[2m72\u001b[0m\u001b]8;;\u001b\\\n"
      ]
     },
     "metadata": {},
     "output_type": "display_data"
    },
    {
     "data": {
      "text/html": [
       "<pre style=\"white-space:pre;overflow-x:auto;line-height:normal;font-family:Menlo,'DejaVu Sans Mono',consolas,'Courier New',monospace\"><span style=\"color: #7fbfbf; text-decoration-color: #7fbfbf\">           </span><span style=\"color: #000080; text-decoration-color: #000080\">INFO    </span> Strong Coupling: <span style=\"color: #800080; text-decoration-color: #800080; font-weight: bold\">a_s</span><span style=\"font-weight: bold\">(</span>µ_R^<span style=\"color: #008080; text-decoration-color: #008080; font-weight: bold\">2</span>=<span style=\"color: #008080; text-decoration-color: #008080; font-weight: bold\">8317.440000</span><span style=\"font-weight: bold\">)</span>^<span style=\"font-weight: bold\">(</span><span style=\"color: #808000; text-decoration-color: #808000\">nf</span>=<span style=\"color: #008080; text-decoration-color: #008080; font-weight: bold\">5</span><span style=\"font-weight: bold\">)</span>=<span style=\"color: #008080; text-decoration-color: #008080; font-weight: bold\">0.009390</span>=<span style=\"color: #008080; text-decoration-color: #008080; font-weight: bold\">0.118000</span>/<span style=\"font-weight: bold\">(</span>4π<span style=\"font-weight: bold\">)</span>          <a href=\"file:///Users/giacomomagni/.conda/envs/yad_dev/lib/python3.10/site-packages/eko/couplings.py\" target=\"_blank\"><span style=\"color: #7f7f7f; text-decoration-color: #7f7f7f\">couplings.py</span></a><span style=\"color: #7f7f7f; text-decoration-color: #7f7f7f\">:</span><a href=\"file:///Users/giacomomagni/.conda/envs/yad_dev/lib/python3.10/site-packages/eko/couplings.py#464\" target=\"_blank\"><span style=\"color: #7f7f7f; text-decoration-color: #7f7f7f\">464</span></a>\n",
       "</pre>\n"
      ],
      "text/plain": [
       "\u001b[2;36m          \u001b[0m\u001b[2;36m \u001b[0m\u001b[34mINFO    \u001b[0m Strong Coupling: \u001b[1;35ma_s\u001b[0m\u001b[1m(\u001b[0mµ_R^\u001b[1;36m2\u001b[0m=\u001b[1;36m8317\u001b[0m\u001b[1;36m.440000\u001b[0m\u001b[1m)\u001b[0m^\u001b[1m(\u001b[0m\u001b[33mnf\u001b[0m=\u001b[1;36m5\u001b[0m\u001b[1m)\u001b[0m=\u001b[1;36m0.\u001b[0m\u001b[1;36m009390\u001b[0m=\u001b[1;36m0\u001b[0m\u001b[1;36m.118000\u001b[0m/\u001b[1m(\u001b[0m4π\u001b[1m)\u001b[0m          \u001b]8;id=448046;file:///Users/giacomomagni/.conda/envs/yad_dev/lib/python3.10/site-packages/eko/couplings.py\u001b\\\u001b[2mcouplings.py\u001b[0m\u001b]8;;\u001b\\\u001b[2m:\u001b[0m\u001b]8;id=627029;file:///Users/giacomomagni/.conda/envs/yad_dev/lib/python3.10/site-packages/eko/couplings.py#464\u001b\\\u001b[2m464\u001b[0m\u001b]8;;\u001b\\\n"
      ]
     },
     "metadata": {},
     "output_type": "display_data"
    },
    {
     "data": {
      "text/html": [
       "<pre style=\"white-space:pre;overflow-x:auto;line-height:normal;font-family:Menlo,'DejaVu Sans Mono',consolas,'Courier New',monospace\"><span style=\"color: #7fbfbf; text-decoration-color: #7fbfbf\">           </span><span style=\"color: #000080; text-decoration-color: #000080\">INFO    </span> <span style=\"font-weight: bold\">{</span><span style=\"color: #008000; text-decoration-color: #008000\">'polarized'</span>: <span style=\"color: #ff0000; text-decoration-color: #ff0000; font-style: italic\">False</span><span style=\"font-weight: bold\">}</span>                                                                 <a href=\"file:///Users/giacomomagni/.conda/envs/yad_dev/lib/python3.10/site-packages/eko/evolution_operator/grid.py\" target=\"_blank\"><span style=\"color: #7f7f7f; text-decoration-color: #7f7f7f\">grid.py</span></a><span style=\"color: #7f7f7f; text-decoration-color: #7f7f7f\">:</span><a href=\"file:///Users/giacomomagni/.conda/envs/yad_dev/lib/python3.10/site-packages/eko/evolution_operator/grid.py#93\" target=\"_blank\"><span style=\"color: #7f7f7f; text-decoration-color: #7f7f7f\">93</span></a>\n",
       "</pre>\n"
      ],
      "text/plain": [
       "\u001b[2;36m          \u001b[0m\u001b[2;36m \u001b[0m\u001b[34mINFO    \u001b[0m \u001b[1m{\u001b[0m\u001b[32m'polarized'\u001b[0m: \u001b[3;91mFalse\u001b[0m\u001b[1m}\u001b[0m                                                                 \u001b]8;id=587850;file:///Users/giacomomagni/.conda/envs/yad_dev/lib/python3.10/site-packages/eko/evolution_operator/grid.py\u001b\\\u001b[2mgrid.py\u001b[0m\u001b]8;;\u001b\\\u001b[2m:\u001b[0m\u001b]8;id=729067;file:///Users/giacomomagni/.conda/envs/yad_dev/lib/python3.10/site-packages/eko/evolution_operator/grid.py#93\u001b\\\u001b[2m93\u001b[0m\u001b]8;;\u001b\\\n"
      ]
     },
     "metadata": {},
     "output_type": "display_data"
    },
    {
     "data": {
      "text/html": [
       "<pre style=\"white-space:pre;overflow-x:auto;line-height:normal;font-family:Menlo,'DejaVu Sans Mono',consolas,'Courier New',monospace\"><span style=\"color: #7fbfbf; text-decoration-color: #7fbfbf\">           </span><span style=\"color: #000080; text-decoration-color: #000080\">INFO    </span> <span style=\"font-weight: bold\">{</span><span style=\"color: #008000; text-decoration-color: #008000\">'time_like'</span>: <span style=\"color: #ff0000; text-decoration-color: #ff0000; font-style: italic\">False</span><span style=\"font-weight: bold\">}</span>                                                                 <a href=\"file:///Users/giacomomagni/.conda/envs/yad_dev/lib/python3.10/site-packages/eko/evolution_operator/grid.py\" target=\"_blank\"><span style=\"color: #7f7f7f; text-decoration-color: #7f7f7f\">grid.py</span></a><span style=\"color: #7f7f7f; text-decoration-color: #7f7f7f\">:</span><a href=\"file:///Users/giacomomagni/.conda/envs/yad_dev/lib/python3.10/site-packages/eko/evolution_operator/grid.py#94\" target=\"_blank\"><span style=\"color: #7f7f7f; text-decoration-color: #7f7f7f\">94</span></a>\n",
       "</pre>\n"
      ],
      "text/plain": [
       "\u001b[2;36m          \u001b[0m\u001b[2;36m \u001b[0m\u001b[34mINFO    \u001b[0m \u001b[1m{\u001b[0m\u001b[32m'time_like'\u001b[0m: \u001b[3;91mFalse\u001b[0m\u001b[1m}\u001b[0m                                                                 \u001b]8;id=114998;file:///Users/giacomomagni/.conda/envs/yad_dev/lib/python3.10/site-packages/eko/evolution_operator/grid.py\u001b\\\u001b[2mgrid.py\u001b[0m\u001b]8;;\u001b\\\u001b[2m:\u001b[0m\u001b]8;id=448520;file:///Users/giacomomagni/.conda/envs/yad_dev/lib/python3.10/site-packages/eko/evolution_operator/grid.py#94\u001b\\\u001b[2m94\u001b[0m\u001b]8;;\u001b\\\n"
      ]
     },
     "metadata": {},
     "output_type": "display_data"
    },
    {
     "data": {
      "text/html": [
       "<pre style=\"white-space:pre;overflow-x:auto;line-height:normal;font-family:Menlo,'DejaVu Sans Mono',consolas,'Courier New',monospace\"><span style=\"color: #7fbfbf; text-decoration-color: #7fbfbf\">           </span><span style=\"color: #000080; text-decoration-color: #000080\">INFO    </span> Prepare threshold operator                                                          <a href=\"file:///Users/giacomomagni/.conda/envs/yad_dev/lib/python3.10/site-packages/eko/evolution_operator/grid.py\" target=\"_blank\"><span style=\"color: #7f7f7f; text-decoration-color: #7f7f7f\">grid.py</span></a><span style=\"color: #7f7f7f; text-decoration-color: #7f7f7f\">:</span><a href=\"file:///Users/giacomomagni/.conda/envs/yad_dev/lib/python3.10/site-packages/eko/evolution_operator/grid.py#139\" target=\"_blank\"><span style=\"color: #7f7f7f; text-decoration-color: #7f7f7f\">139</span></a>\n",
       "</pre>\n"
      ],
      "text/plain": [
       "\u001b[2;36m          \u001b[0m\u001b[2;36m \u001b[0m\u001b[34mINFO    \u001b[0m Prepare threshold operator                                                          \u001b]8;id=333581;file:///Users/giacomomagni/.conda/envs/yad_dev/lib/python3.10/site-packages/eko/evolution_operator/grid.py\u001b\\\u001b[2mgrid.py\u001b[0m\u001b]8;;\u001b\\\u001b[2m:\u001b[0m\u001b]8;id=752503;file:///Users/giacomomagni/.conda/envs/yad_dev/lib/python3.10/site-packages/eko/evolution_operator/grid.py#139\u001b\\\u001b[2m139\u001b[0m\u001b]8;;\u001b\\\n"
      ]
     },
     "metadata": {},
     "output_type": "display_data"
    },
    {
     "data": {
      "text/html": [
       "<pre style=\"white-space:pre;overflow-x:auto;line-height:normal;font-family:Menlo,'DejaVu Sans Mono',consolas,'Courier New',monospace\"><span style=\"color: #7fbfbf; text-decoration-color: #7fbfbf\">           </span><span style=\"color: #000080; text-decoration-color: #000080\">INFO    </span> Evolution: computing operators <span style=\"color: #008080; text-decoration-color: #008080; font-weight: bold\">2.722500e+00</span> -&gt; <span style=\"color: #008080; text-decoration-color: #008080; font-weight: bold\">2.280100e+00</span>, <span style=\"color: #808000; text-decoration-color: #808000\">nf</span>=<span style=\"color: #008080; text-decoration-color: #008080; font-weight: bold\">4</span>               <a href=\"file:///Users/giacomomagni/.conda/envs/yad_dev/lib/python3.10/site-packages/eko/evolution_operator/__init__.py\" target=\"_blank\"><span style=\"color: #7f7f7f; text-decoration-color: #7f7f7f\">__init__.py</span></a><span style=\"color: #7f7f7f; text-decoration-color: #7f7f7f\">:</span><a href=\"file:///Users/giacomomagni/.conda/envs/yad_dev/lib/python3.10/site-packages/eko/evolution_operator/__init__.py#917\" target=\"_blank\"><span style=\"color: #7f7f7f; text-decoration-color: #7f7f7f\">917</span></a>\n",
       "</pre>\n"
      ],
      "text/plain": [
       "\u001b[2;36m          \u001b[0m\u001b[2;36m \u001b[0m\u001b[34mINFO    \u001b[0m Evolution: computing operators \u001b[1;36m2.722500e+00\u001b[0m -> \u001b[1;36m2.280100e+00\u001b[0m, \u001b[33mnf\u001b[0m=\u001b[1;36m4\u001b[0m               \u001b]8;id=399769;file:///Users/giacomomagni/.conda/envs/yad_dev/lib/python3.10/site-packages/eko/evolution_operator/__init__.py\u001b\\\u001b[2m__init__.py\u001b[0m\u001b]8;;\u001b\\\u001b[2m:\u001b[0m\u001b]8;id=914863;file:///Users/giacomomagni/.conda/envs/yad_dev/lib/python3.10/site-packages/eko/evolution_operator/__init__.py#917\u001b\\\u001b[2m917\u001b[0m\u001b]8;;\u001b\\\n"
      ]
     },
     "metadata": {},
     "output_type": "display_data"
    },
    {
     "data": {
      "text/html": [
       "<pre style=\"white-space:pre;overflow-x:auto;line-height:normal;font-family:Menlo,'DejaVu Sans Mono',consolas,'Courier New',monospace\"><span style=\"color: #7fbfbf; text-decoration-color: #7fbfbf\">           </span><span style=\"color: #000080; text-decoration-color: #000080\">INFO    </span> Evolution: µ_R^<span style=\"color: #008080; text-decoration-color: #008080; font-weight: bold\">2</span> distance: <span style=\"color: #008080; text-decoration-color: #008080; font-weight: bold\">2.722500e+00</span> -&gt; <span style=\"color: #008080; text-decoration-color: #008080; font-weight: bold\">2.280100e+00</span>                         <a href=\"file:///Users/giacomomagni/.conda/envs/yad_dev/lib/python3.10/site-packages/eko/evolution_operator/__init__.py\" target=\"_blank\"><span style=\"color: #7f7f7f; text-decoration-color: #7f7f7f\">__init__.py</span></a><span style=\"color: #7f7f7f; text-decoration-color: #7f7f7f\">:</span><a href=\"file:///Users/giacomomagni/.conda/envs/yad_dev/lib/python3.10/site-packages/eko/evolution_operator/__init__.py#924\" target=\"_blank\"><span style=\"color: #7f7f7f; text-decoration-color: #7f7f7f\">924</span></a>\n",
       "</pre>\n"
      ],
      "text/plain": [
       "\u001b[2;36m          \u001b[0m\u001b[2;36m \u001b[0m\u001b[34mINFO    \u001b[0m Evolution: µ_R^\u001b[1;36m2\u001b[0m distance: \u001b[1;36m2.722500e+00\u001b[0m -> \u001b[1;36m2.280100e+00\u001b[0m                         \u001b]8;id=455188;file:///Users/giacomomagni/.conda/envs/yad_dev/lib/python3.10/site-packages/eko/evolution_operator/__init__.py\u001b\\\u001b[2m__init__.py\u001b[0m\u001b]8;;\u001b\\\u001b[2m:\u001b[0m\u001b]8;id=398278;file:///Users/giacomomagni/.conda/envs/yad_dev/lib/python3.10/site-packages/eko/evolution_operator/__init__.py#924\u001b\\\u001b[2m924\u001b[0m\u001b]8;;\u001b\\\n"
      ]
     },
     "metadata": {},
     "output_type": "display_data"
    },
    {
     "data": {
      "text/html": [
       "<pre style=\"white-space:pre;overflow-x:auto;line-height:normal;font-family:Menlo,'DejaVu Sans Mono',consolas,'Courier New',monospace\"><span style=\"color: #7fbfbf; text-decoration-color: #7fbfbf\">           </span><span style=\"color: #000080; text-decoration-color: #000080\">INFO    </span> Evolution: a_s distance: <span style=\"color: #008080; text-decoration-color: #008080; font-weight: bold\">2.605852e-02</span> -&gt; <span style=\"color: #008080; text-decoration-color: #008080; font-weight: bold\">2.728162e-02</span>                           <a href=\"file:///Users/giacomomagni/.conda/envs/yad_dev/lib/python3.10/site-packages/eko/evolution_operator/__init__.py\" target=\"_blank\"><span style=\"color: #7f7f7f; text-decoration-color: #7f7f7f\">__init__.py</span></a><span style=\"color: #7f7f7f; text-decoration-color: #7f7f7f\">:</span><a href=\"file:///Users/giacomomagni/.conda/envs/yad_dev/lib/python3.10/site-packages/eko/evolution_operator/__init__.py#936\" target=\"_blank\"><span style=\"color: #7f7f7f; text-decoration-color: #7f7f7f\">936</span></a>\n",
       "</pre>\n"
      ],
      "text/plain": [
       "\u001b[2;36m          \u001b[0m\u001b[2;36m \u001b[0m\u001b[34mINFO    \u001b[0m Evolution: a_s distance: \u001b[1;36m2.605852e-02\u001b[0m -> \u001b[1;36m2.728162e-02\u001b[0m                           \u001b]8;id=340851;file:///Users/giacomomagni/.conda/envs/yad_dev/lib/python3.10/site-packages/eko/evolution_operator/__init__.py\u001b\\\u001b[2m__init__.py\u001b[0m\u001b]8;;\u001b\\\u001b[2m:\u001b[0m\u001b]8;id=667868;file:///Users/giacomomagni/.conda/envs/yad_dev/lib/python3.10/site-packages/eko/evolution_operator/__init__.py#936\u001b\\\u001b[2m936\u001b[0m\u001b]8;;\u001b\\\n"
      ]
     },
     "metadata": {},
     "output_type": "display_data"
    },
    {
     "data": {
      "text/html": [
       "<pre style=\"white-space:pre;overflow-x:auto;line-height:normal;font-family:Menlo,'DejaVu Sans Mono',consolas,'Courier New',monospace\"><span style=\"color: #7fbfbf; text-decoration-color: #7fbfbf\">           </span><span style=\"color: #000080; text-decoration-color: #000080\">INFO    </span> Evolution: order: <span style=\"font-weight: bold\">(</span><span style=\"color: #008080; text-decoration-color: #008080; font-weight: bold\">2</span>, <span style=\"color: #008080; text-decoration-color: #008080; font-weight: bold\">0</span><span style=\"font-weight: bold\">)</span>, solution strategy: iterate-exact, use fhmruvv: <span style=\"color: #ff0000; text-decoration-color: #ff0000; font-style: italic\">False</span>  <a href=\"file:///Users/giacomomagni/.conda/envs/yad_dev/lib/python3.10/site-packages/eko/evolution_operator/__init__.py\" target=\"_blank\"><span style=\"color: #7f7f7f; text-decoration-color: #7f7f7f\">__init__.py</span></a><span style=\"color: #7f7f7f; text-decoration-color: #7f7f7f\">:</span><a href=\"file:///Users/giacomomagni/.conda/envs/yad_dev/lib/python3.10/site-packages/eko/evolution_operator/__init__.py#946\" target=\"_blank\"><span style=\"color: #7f7f7f; text-decoration-color: #7f7f7f\">946</span></a>\n",
       "</pre>\n"
      ],
      "text/plain": [
       "\u001b[2;36m          \u001b[0m\u001b[2;36m \u001b[0m\u001b[34mINFO    \u001b[0m Evolution: order: \u001b[1m(\u001b[0m\u001b[1;36m2\u001b[0m, \u001b[1;36m0\u001b[0m\u001b[1m)\u001b[0m, solution strategy: iterate-exact, use fhmruvv: \u001b[3;91mFalse\u001b[0m  \u001b]8;id=728273;file:///Users/giacomomagni/.conda/envs/yad_dev/lib/python3.10/site-packages/eko/evolution_operator/__init__.py\u001b\\\u001b[2m__init__.py\u001b[0m\u001b]8;;\u001b\\\u001b[2m:\u001b[0m\u001b]8;id=213905;file:///Users/giacomomagni/.conda/envs/yad_dev/lib/python3.10/site-packages/eko/evolution_operator/__init__.py#946\u001b\\\u001b[2m946\u001b[0m\u001b]8;;\u001b\\\n"
      ]
     },
     "metadata": {},
     "output_type": "display_data"
    },
    {
     "data": {
      "text/html": [
       "<pre style=\"white-space:pre;overflow-x:auto;line-height:normal;font-family:Menlo,'DejaVu Sans Mono',consolas,'Courier New',monospace\"><span style=\"color: #7fbfbf; text-decoration-color: #7fbfbf\">           </span><span style=\"color: #000080; text-decoration-color: #000080\">INFO    </span> Evolution: computing operators - <span style=\"color: #008080; text-decoration-color: #008080; font-weight: bold\">1</span>/<span style=\"color: #008080; text-decoration-color: #008080; font-weight: bold\">8</span> took: <span style=\"color: #008080; text-decoration-color: #008080; font-weight: bold\">0.500042</span> s                           <a href=\"file:///Users/giacomomagni/.conda/envs/yad_dev/lib/python3.10/site-packages/eko/evolution_operator/__init__.py\" target=\"_blank\"><span style=\"color: #7f7f7f; text-decoration-color: #7f7f7f\">__init__.py</span></a><span style=\"color: #7f7f7f; text-decoration-color: #7f7f7f\">:</span><a href=\"file:///Users/giacomomagni/.conda/envs/yad_dev/lib/python3.10/site-packages/eko/evolution_operator/__init__.py#889\" target=\"_blank\"><span style=\"color: #7f7f7f; text-decoration-color: #7f7f7f\">889</span></a>\n",
       "</pre>\n"
      ],
      "text/plain": [
       "\u001b[2;36m          \u001b[0m\u001b[2;36m \u001b[0m\u001b[34mINFO    \u001b[0m Evolution: computing operators - \u001b[1;36m1\u001b[0m/\u001b[1;36m8\u001b[0m took: \u001b[1;36m0.500042\u001b[0m s                           \u001b]8;id=100260;file:///Users/giacomomagni/.conda/envs/yad_dev/lib/python3.10/site-packages/eko/evolution_operator/__init__.py\u001b\\\u001b[2m__init__.py\u001b[0m\u001b]8;;\u001b\\\u001b[2m:\u001b[0m\u001b]8;id=413151;file:///Users/giacomomagni/.conda/envs/yad_dev/lib/python3.10/site-packages/eko/evolution_operator/__init__.py#889\u001b\\\u001b[2m889\u001b[0m\u001b]8;;\u001b\\\n"
      ]
     },
     "metadata": {},
     "output_type": "display_data"
    },
    {
     "data": {
      "text/html": [
       "<pre style=\"white-space:pre;overflow-x:auto;line-height:normal;font-family:Menlo,'DejaVu Sans Mono',consolas,'Courier New',monospace\"><span style=\"color: #7fbfbf; text-decoration-color: #7fbfbf\">[14:04:48] </span><span style=\"color: #000080; text-decoration-color: #000080\">INFO    </span> Evolution: computing operators - <span style=\"color: #008080; text-decoration-color: #008080; font-weight: bold\">2</span>/<span style=\"color: #008080; text-decoration-color: #008080; font-weight: bold\">8</span> took: <span style=\"color: #008080; text-decoration-color: #008080; font-weight: bold\">0.468025</span> s                           <a href=\"file:///Users/giacomomagni/.conda/envs/yad_dev/lib/python3.10/site-packages/eko/evolution_operator/__init__.py\" target=\"_blank\"><span style=\"color: #7f7f7f; text-decoration-color: #7f7f7f\">__init__.py</span></a><span style=\"color: #7f7f7f; text-decoration-color: #7f7f7f\">:</span><a href=\"file:///Users/giacomomagni/.conda/envs/yad_dev/lib/python3.10/site-packages/eko/evolution_operator/__init__.py#889\" target=\"_blank\"><span style=\"color: #7f7f7f; text-decoration-color: #7f7f7f\">889</span></a>\n",
       "</pre>\n"
      ],
      "text/plain": [
       "\u001b[2;36m[14:04:48]\u001b[0m\u001b[2;36m \u001b[0m\u001b[34mINFO    \u001b[0m Evolution: computing operators - \u001b[1;36m2\u001b[0m/\u001b[1;36m8\u001b[0m took: \u001b[1;36m0.468025\u001b[0m s                           \u001b]8;id=959177;file:///Users/giacomomagni/.conda/envs/yad_dev/lib/python3.10/site-packages/eko/evolution_operator/__init__.py\u001b\\\u001b[2m__init__.py\u001b[0m\u001b]8;;\u001b\\\u001b[2m:\u001b[0m\u001b]8;id=556461;file:///Users/giacomomagni/.conda/envs/yad_dev/lib/python3.10/site-packages/eko/evolution_operator/__init__.py#889\u001b\\\u001b[2m889\u001b[0m\u001b]8;;\u001b\\\n"
      ]
     },
     "metadata": {},
     "output_type": "display_data"
    },
    {
     "data": {
      "text/html": [
       "<pre style=\"white-space:pre;overflow-x:auto;line-height:normal;font-family:Menlo,'DejaVu Sans Mono',consolas,'Courier New',monospace\"><span style=\"color: #7fbfbf; text-decoration-color: #7fbfbf\">           </span><span style=\"color: #000080; text-decoration-color: #000080\">INFO    </span> Evolution: computing operators - <span style=\"color: #008080; text-decoration-color: #008080; font-weight: bold\">3</span>/<span style=\"color: #008080; text-decoration-color: #008080; font-weight: bold\">8</span> took: <span style=\"color: #008080; text-decoration-color: #008080; font-weight: bold\">0.375520</span> s                           <a href=\"file:///Users/giacomomagni/.conda/envs/yad_dev/lib/python3.10/site-packages/eko/evolution_operator/__init__.py\" target=\"_blank\"><span style=\"color: #7f7f7f; text-decoration-color: #7f7f7f\">__init__.py</span></a><span style=\"color: #7f7f7f; text-decoration-color: #7f7f7f\">:</span><a href=\"file:///Users/giacomomagni/.conda/envs/yad_dev/lib/python3.10/site-packages/eko/evolution_operator/__init__.py#889\" target=\"_blank\"><span style=\"color: #7f7f7f; text-decoration-color: #7f7f7f\">889</span></a>\n",
       "</pre>\n"
      ],
      "text/plain": [
       "\u001b[2;36m          \u001b[0m\u001b[2;36m \u001b[0m\u001b[34mINFO    \u001b[0m Evolution: computing operators - \u001b[1;36m3\u001b[0m/\u001b[1;36m8\u001b[0m took: \u001b[1;36m0.375520\u001b[0m s                           \u001b]8;id=894372;file:///Users/giacomomagni/.conda/envs/yad_dev/lib/python3.10/site-packages/eko/evolution_operator/__init__.py\u001b\\\u001b[2m__init__.py\u001b[0m\u001b]8;;\u001b\\\u001b[2m:\u001b[0m\u001b]8;id=770090;file:///Users/giacomomagni/.conda/envs/yad_dev/lib/python3.10/site-packages/eko/evolution_operator/__init__.py#889\u001b\\\u001b[2m889\u001b[0m\u001b]8;;\u001b\\\n"
      ]
     },
     "metadata": {},
     "output_type": "display_data"
    },
    {
     "data": {
      "text/html": [
       "<pre style=\"white-space:pre;overflow-x:auto;line-height:normal;font-family:Menlo,'DejaVu Sans Mono',consolas,'Courier New',monospace\"><span style=\"color: #7fbfbf; text-decoration-color: #7fbfbf\">[14:04:49] </span><span style=\"color: #000080; text-decoration-color: #000080\">INFO    </span> Evolution: computing operators - <span style=\"color: #008080; text-decoration-color: #008080; font-weight: bold\">4</span>/<span style=\"color: #008080; text-decoration-color: #008080; font-weight: bold\">8</span> took: <span style=\"color: #008080; text-decoration-color: #008080; font-weight: bold\">0.295613</span> s                           <a href=\"file:///Users/giacomomagni/.conda/envs/yad_dev/lib/python3.10/site-packages/eko/evolution_operator/__init__.py\" target=\"_blank\"><span style=\"color: #7f7f7f; text-decoration-color: #7f7f7f\">__init__.py</span></a><span style=\"color: #7f7f7f; text-decoration-color: #7f7f7f\">:</span><a href=\"file:///Users/giacomomagni/.conda/envs/yad_dev/lib/python3.10/site-packages/eko/evolution_operator/__init__.py#889\" target=\"_blank\"><span style=\"color: #7f7f7f; text-decoration-color: #7f7f7f\">889</span></a>\n",
       "</pre>\n"
      ],
      "text/plain": [
       "\u001b[2;36m[14:04:49]\u001b[0m\u001b[2;36m \u001b[0m\u001b[34mINFO    \u001b[0m Evolution: computing operators - \u001b[1;36m4\u001b[0m/\u001b[1;36m8\u001b[0m took: \u001b[1;36m0.295613\u001b[0m s                           \u001b]8;id=872700;file:///Users/giacomomagni/.conda/envs/yad_dev/lib/python3.10/site-packages/eko/evolution_operator/__init__.py\u001b\\\u001b[2m__init__.py\u001b[0m\u001b]8;;\u001b\\\u001b[2m:\u001b[0m\u001b]8;id=472056;file:///Users/giacomomagni/.conda/envs/yad_dev/lib/python3.10/site-packages/eko/evolution_operator/__init__.py#889\u001b\\\u001b[2m889\u001b[0m\u001b]8;;\u001b\\\n"
      ]
     },
     "metadata": {},
     "output_type": "display_data"
    },
    {
     "data": {
      "text/html": [
       "<pre style=\"white-space:pre;overflow-x:auto;line-height:normal;font-family:Menlo,'DejaVu Sans Mono',consolas,'Courier New',monospace\"><span style=\"color: #7fbfbf; text-decoration-color: #7fbfbf\">           </span><span style=\"color: #000080; text-decoration-color: #000080\">INFO    </span> Evolution: computing operators - <span style=\"color: #008080; text-decoration-color: #008080; font-weight: bold\">5</span>/<span style=\"color: #008080; text-decoration-color: #008080; font-weight: bold\">8</span> took: <span style=\"color: #008080; text-decoration-color: #008080; font-weight: bold\">0.243230</span> s                           <a href=\"file:///Users/giacomomagni/.conda/envs/yad_dev/lib/python3.10/site-packages/eko/evolution_operator/__init__.py\" target=\"_blank\"><span style=\"color: #7f7f7f; text-decoration-color: #7f7f7f\">__init__.py</span></a><span style=\"color: #7f7f7f; text-decoration-color: #7f7f7f\">:</span><a href=\"file:///Users/giacomomagni/.conda/envs/yad_dev/lib/python3.10/site-packages/eko/evolution_operator/__init__.py#889\" target=\"_blank\"><span style=\"color: #7f7f7f; text-decoration-color: #7f7f7f\">889</span></a>\n",
       "</pre>\n"
      ],
      "text/plain": [
       "\u001b[2;36m          \u001b[0m\u001b[2;36m \u001b[0m\u001b[34mINFO    \u001b[0m Evolution: computing operators - \u001b[1;36m5\u001b[0m/\u001b[1;36m8\u001b[0m took: \u001b[1;36m0.243230\u001b[0m s                           \u001b]8;id=308928;file:///Users/giacomomagni/.conda/envs/yad_dev/lib/python3.10/site-packages/eko/evolution_operator/__init__.py\u001b\\\u001b[2m__init__.py\u001b[0m\u001b]8;;\u001b\\\u001b[2m:\u001b[0m\u001b]8;id=265054;file:///Users/giacomomagni/.conda/envs/yad_dev/lib/python3.10/site-packages/eko/evolution_operator/__init__.py#889\u001b\\\u001b[2m889\u001b[0m\u001b]8;;\u001b\\\n"
      ]
     },
     "metadata": {},
     "output_type": "display_data"
    },
    {
     "data": {
      "text/html": [
       "<pre style=\"white-space:pre;overflow-x:auto;line-height:normal;font-family:Menlo,'DejaVu Sans Mono',consolas,'Courier New',monospace\"><span style=\"color: #7fbfbf; text-decoration-color: #7fbfbf\">           </span><span style=\"color: #000080; text-decoration-color: #000080\">INFO    </span> Evolution: computing operators - <span style=\"color: #008080; text-decoration-color: #008080; font-weight: bold\">6</span>/<span style=\"color: #008080; text-decoration-color: #008080; font-weight: bold\">8</span> took: <span style=\"color: #008080; text-decoration-color: #008080; font-weight: bold\">0.236418</span> s                           <a href=\"file:///Users/giacomomagni/.conda/envs/yad_dev/lib/python3.10/site-packages/eko/evolution_operator/__init__.py\" target=\"_blank\"><span style=\"color: #7f7f7f; text-decoration-color: #7f7f7f\">__init__.py</span></a><span style=\"color: #7f7f7f; text-decoration-color: #7f7f7f\">:</span><a href=\"file:///Users/giacomomagni/.conda/envs/yad_dev/lib/python3.10/site-packages/eko/evolution_operator/__init__.py#889\" target=\"_blank\"><span style=\"color: #7f7f7f; text-decoration-color: #7f7f7f\">889</span></a>\n",
       "</pre>\n"
      ],
      "text/plain": [
       "\u001b[2;36m          \u001b[0m\u001b[2;36m \u001b[0m\u001b[34mINFO    \u001b[0m Evolution: computing operators - \u001b[1;36m6\u001b[0m/\u001b[1;36m8\u001b[0m took: \u001b[1;36m0.236418\u001b[0m s                           \u001b]8;id=805502;file:///Users/giacomomagni/.conda/envs/yad_dev/lib/python3.10/site-packages/eko/evolution_operator/__init__.py\u001b\\\u001b[2m__init__.py\u001b[0m\u001b]8;;\u001b\\\u001b[2m:\u001b[0m\u001b]8;id=731476;file:///Users/giacomomagni/.conda/envs/yad_dev/lib/python3.10/site-packages/eko/evolution_operator/__init__.py#889\u001b\\\u001b[2m889\u001b[0m\u001b]8;;\u001b\\\n"
      ]
     },
     "metadata": {},
     "output_type": "display_data"
    },
    {
     "data": {
      "text/html": [
       "<pre style=\"white-space:pre;overflow-x:auto;line-height:normal;font-family:Menlo,'DejaVu Sans Mono',consolas,'Courier New',monospace\"><span style=\"color: #7fbfbf; text-decoration-color: #7fbfbf\">           </span><span style=\"color: #000080; text-decoration-color: #000080\">INFO    </span> Evolution: computing operators - <span style=\"color: #008080; text-decoration-color: #008080; font-weight: bold\">7</span>/<span style=\"color: #008080; text-decoration-color: #008080; font-weight: bold\">8</span> took: <span style=\"color: #008080; text-decoration-color: #008080; font-weight: bold\">0.186096</span> s                           <a href=\"file:///Users/giacomomagni/.conda/envs/yad_dev/lib/python3.10/site-packages/eko/evolution_operator/__init__.py\" target=\"_blank\"><span style=\"color: #7f7f7f; text-decoration-color: #7f7f7f\">__init__.py</span></a><span style=\"color: #7f7f7f; text-decoration-color: #7f7f7f\">:</span><a href=\"file:///Users/giacomomagni/.conda/envs/yad_dev/lib/python3.10/site-packages/eko/evolution_operator/__init__.py#889\" target=\"_blank\"><span style=\"color: #7f7f7f; text-decoration-color: #7f7f7f\">889</span></a>\n",
       "</pre>\n"
      ],
      "text/plain": [
       "\u001b[2;36m          \u001b[0m\u001b[2;36m \u001b[0m\u001b[34mINFO    \u001b[0m Evolution: computing operators - \u001b[1;36m7\u001b[0m/\u001b[1;36m8\u001b[0m took: \u001b[1;36m0.186096\u001b[0m s                           \u001b]8;id=946077;file:///Users/giacomomagni/.conda/envs/yad_dev/lib/python3.10/site-packages/eko/evolution_operator/__init__.py\u001b\\\u001b[2m__init__.py\u001b[0m\u001b]8;;\u001b\\\u001b[2m:\u001b[0m\u001b]8;id=752513;file:///Users/giacomomagni/.conda/envs/yad_dev/lib/python3.10/site-packages/eko/evolution_operator/__init__.py#889\u001b\\\u001b[2m889\u001b[0m\u001b]8;;\u001b\\\n"
      ]
     },
     "metadata": {},
     "output_type": "display_data"
    },
    {
     "data": {
      "text/html": [
       "<pre style=\"white-space:pre;overflow-x:auto;line-height:normal;font-family:Menlo,'DejaVu Sans Mono',consolas,'Courier New',monospace\"><span style=\"color: #7fbfbf; text-decoration-color: #7fbfbf\">           </span><span style=\"color: #000080; text-decoration-color: #000080\">INFO    </span> Evolution: computing operators - <span style=\"color: #008080; text-decoration-color: #008080; font-weight: bold\">8</span>/<span style=\"color: #008080; text-decoration-color: #008080; font-weight: bold\">8</span> took: <span style=\"color: #008080; text-decoration-color: #008080; font-weight: bold\">0.039908</span> s                           <a href=\"file:///Users/giacomomagni/.conda/envs/yad_dev/lib/python3.10/site-packages/eko/evolution_operator/__init__.py\" target=\"_blank\"><span style=\"color: #7f7f7f; text-decoration-color: #7f7f7f\">__init__.py</span></a><span style=\"color: #7f7f7f; text-decoration-color: #7f7f7f\">:</span><a href=\"file:///Users/giacomomagni/.conda/envs/yad_dev/lib/python3.10/site-packages/eko/evolution_operator/__init__.py#889\" target=\"_blank\"><span style=\"color: #7f7f7f; text-decoration-color: #7f7f7f\">889</span></a>\n",
       "</pre>\n"
      ],
      "text/plain": [
       "\u001b[2;36m          \u001b[0m\u001b[2;36m \u001b[0m\u001b[34mINFO    \u001b[0m Evolution: computing operators - \u001b[1;36m8\u001b[0m/\u001b[1;36m8\u001b[0m took: \u001b[1;36m0.039908\u001b[0m s                           \u001b]8;id=703528;file:///Users/giacomomagni/.conda/envs/yad_dev/lib/python3.10/site-packages/eko/evolution_operator/__init__.py\u001b\\\u001b[2m__init__.py\u001b[0m\u001b]8;;\u001b\\\u001b[2m:\u001b[0m\u001b]8;id=950333;file:///Users/giacomomagni/.conda/envs/yad_dev/lib/python3.10/site-packages/eko/evolution_operator/__init__.py#889\u001b\\\u001b[2m889\u001b[0m\u001b]8;;\u001b\\\n"
      ]
     },
     "metadata": {},
     "output_type": "display_data"
    },
    {
     "data": {
      "text/html": [
       "<pre style=\"white-space:pre;overflow-x:auto;line-height:normal;font-family:Menlo,'DejaVu Sans Mono',consolas,'Courier New',monospace\"><span style=\"color: #7fbfbf; text-decoration-color: #7fbfbf\">           </span><span style=\"color: #000080; text-decoration-color: #000080\">INFO    </span> Evolution: Total time <span style=\"color: #008080; text-decoration-color: #008080; font-weight: bold\">2.370148</span> s                                                <a href=\"file:///Users/giacomomagni/.conda/envs/yad_dev/lib/python3.10/site-packages/eko/evolution_operator/__init__.py\" target=\"_blank\"><span style=\"color: #7f7f7f; text-decoration-color: #7f7f7f\">__init__.py</span></a><span style=\"color: #7f7f7f; text-decoration-color: #7f7f7f\">:</span><a href=\"file:///Users/giacomomagni/.conda/envs/yad_dev/lib/python3.10/site-packages/eko/evolution_operator/__init__.py#982\" target=\"_blank\"><span style=\"color: #7f7f7f; text-decoration-color: #7f7f7f\">982</span></a>\n",
       "</pre>\n"
      ],
      "text/plain": [
       "\u001b[2;36m          \u001b[0m\u001b[2;36m \u001b[0m\u001b[34mINFO    \u001b[0m Evolution: Total time \u001b[1;36m2.370148\u001b[0m s                                                \u001b]8;id=284884;file:///Users/giacomomagni/.conda/envs/yad_dev/lib/python3.10/site-packages/eko/evolution_operator/__init__.py\u001b\\\u001b[2m__init__.py\u001b[0m\u001b]8;;\u001b\\\u001b[2m:\u001b[0m\u001b]8;id=774867;file:///Users/giacomomagni/.conda/envs/yad_dev/lib/python3.10/site-packages/eko/evolution_operator/__init__.py#982\u001b\\\u001b[2m982\u001b[0m\u001b]8;;\u001b\\\n"
      ]
     },
     "metadata": {},
     "output_type": "display_data"
    },
    {
     "data": {
      "text/html": [
       "<pre style=\"white-space:pre;overflow-x:auto;line-height:normal;font-family:Menlo,'DejaVu Sans Mono',consolas,'Courier New',monospace\"><span style=\"color: #7fbfbf; text-decoration-color: #7fbfbf\">           </span><span style=\"color: #000080; text-decoration-color: #000080\">INFO    </span> Matching: order: <span style=\"font-weight: bold\">(</span><span style=\"color: #008080; text-decoration-color: #008080; font-weight: bold\">1</span>, <span style=\"color: #008080; text-decoration-color: #008080; font-weight: bold\">0</span><span style=\"font-weight: bold\">)</span>, backward method: <span style=\"color: #800080; text-decoration-color: #800080; font-style: italic\">None</span>                   <a href=\"file:///Users/giacomomagni/.conda/envs/yad_dev/lib/python3.10/site-packages/eko/evolution_operator/operator_matrix_element.py\" target=\"_blank\"><span style=\"color: #7f7f7f; text-decoration-color: #7f7f7f\">operator_matrix_element.py</span></a><span style=\"color: #7f7f7f; text-decoration-color: #7f7f7f\">:</span><a href=\"file:///Users/giacomomagni/.conda/envs/yad_dev/lib/python3.10/site-packages/eko/evolution_operator/operator_matrix_element.py#327\" target=\"_blank\"><span style=\"color: #7f7f7f; text-decoration-color: #7f7f7f\">327</span></a>\n",
       "</pre>\n"
      ],
      "text/plain": [
       "\u001b[2;36m          \u001b[0m\u001b[2;36m \u001b[0m\u001b[34mINFO    \u001b[0m Matching: order: \u001b[1m(\u001b[0m\u001b[1;36m1\u001b[0m, \u001b[1;36m0\u001b[0m\u001b[1m)\u001b[0m, backward method: \u001b[3;35mNone\u001b[0m                   \u001b]8;id=418319;file:///Users/giacomomagni/.conda/envs/yad_dev/lib/python3.10/site-packages/eko/evolution_operator/operator_matrix_element.py\u001b\\\u001b[2moperator_matrix_element.py\u001b[0m\u001b]8;;\u001b\\\u001b[2m:\u001b[0m\u001b]8;id=865829;file:///Users/giacomomagni/.conda/envs/yad_dev/lib/python3.10/site-packages/eko/evolution_operator/operator_matrix_element.py#327\u001b\\\u001b[2m327\u001b[0m\u001b]8;;\u001b\\\n"
      ]
     },
     "metadata": {},
     "output_type": "display_data"
    },
    {
     "data": {
      "text/html": [
       "<pre style=\"white-space:pre;overflow-x:auto;line-height:normal;font-family:Menlo,'DejaVu Sans Mono',consolas,'Courier New',monospace\"><span style=\"color: #7fbfbf; text-decoration-color: #7fbfbf\">[14:04:50] </span><span style=\"color: #000080; text-decoration-color: #000080\">INFO    </span> Matching: computing operators - <span style=\"color: #008080; text-decoration-color: #008080; font-weight: bold\">1</span>/<span style=\"color: #008080; text-decoration-color: #008080; font-weight: bold\">8</span> took: <span style=\"color: #008080; text-decoration-color: #008080; font-weight: bold\">0.933141</span> s                            <a href=\"file:///Users/giacomomagni/.conda/envs/yad_dev/lib/python3.10/site-packages/eko/evolution_operator/__init__.py\" target=\"_blank\"><span style=\"color: #7f7f7f; text-decoration-color: #7f7f7f\">__init__.py</span></a><span style=\"color: #7f7f7f; text-decoration-color: #7f7f7f\">:</span><a href=\"file:///Users/giacomomagni/.conda/envs/yad_dev/lib/python3.10/site-packages/eko/evolution_operator/__init__.py#889\" target=\"_blank\"><span style=\"color: #7f7f7f; text-decoration-color: #7f7f7f\">889</span></a>\n",
       "</pre>\n"
      ],
      "text/plain": [
       "\u001b[2;36m[14:04:50]\u001b[0m\u001b[2;36m \u001b[0m\u001b[34mINFO    \u001b[0m Matching: computing operators - \u001b[1;36m1\u001b[0m/\u001b[1;36m8\u001b[0m took: \u001b[1;36m0.933141\u001b[0m s                            \u001b]8;id=169647;file:///Users/giacomomagni/.conda/envs/yad_dev/lib/python3.10/site-packages/eko/evolution_operator/__init__.py\u001b\\\u001b[2m__init__.py\u001b[0m\u001b]8;;\u001b\\\u001b[2m:\u001b[0m\u001b]8;id=552278;file:///Users/giacomomagni/.conda/envs/yad_dev/lib/python3.10/site-packages/eko/evolution_operator/__init__.py#889\u001b\\\u001b[2m889\u001b[0m\u001b]8;;\u001b\\\n"
      ]
     },
     "metadata": {},
     "output_type": "display_data"
    },
    {
     "data": {
      "text/html": [
       "<pre style=\"white-space:pre;overflow-x:auto;line-height:normal;font-family:Menlo,'DejaVu Sans Mono',consolas,'Courier New',monospace\"><span style=\"color: #7fbfbf; text-decoration-color: #7fbfbf\">[14:04:51] </span><span style=\"color: #000080; text-decoration-color: #000080\">INFO    </span> Matching: computing operators - <span style=\"color: #008080; text-decoration-color: #008080; font-weight: bold\">2</span>/<span style=\"color: #008080; text-decoration-color: #008080; font-weight: bold\">8</span> took: <span style=\"color: #008080; text-decoration-color: #008080; font-weight: bold\">0.803403</span> s                            <a href=\"file:///Users/giacomomagni/.conda/envs/yad_dev/lib/python3.10/site-packages/eko/evolution_operator/__init__.py\" target=\"_blank\"><span style=\"color: #7f7f7f; text-decoration-color: #7f7f7f\">__init__.py</span></a><span style=\"color: #7f7f7f; text-decoration-color: #7f7f7f\">:</span><a href=\"file:///Users/giacomomagni/.conda/envs/yad_dev/lib/python3.10/site-packages/eko/evolution_operator/__init__.py#889\" target=\"_blank\"><span style=\"color: #7f7f7f; text-decoration-color: #7f7f7f\">889</span></a>\n",
       "</pre>\n"
      ],
      "text/plain": [
       "\u001b[2;36m[14:04:51]\u001b[0m\u001b[2;36m \u001b[0m\u001b[34mINFO    \u001b[0m Matching: computing operators - \u001b[1;36m2\u001b[0m/\u001b[1;36m8\u001b[0m took: \u001b[1;36m0.803403\u001b[0m s                            \u001b]8;id=10991;file:///Users/giacomomagni/.conda/envs/yad_dev/lib/python3.10/site-packages/eko/evolution_operator/__init__.py\u001b\\\u001b[2m__init__.py\u001b[0m\u001b]8;;\u001b\\\u001b[2m:\u001b[0m\u001b]8;id=976709;file:///Users/giacomomagni/.conda/envs/yad_dev/lib/python3.10/site-packages/eko/evolution_operator/__init__.py#889\u001b\\\u001b[2m889\u001b[0m\u001b]8;;\u001b\\\n"
      ]
     },
     "metadata": {},
     "output_type": "display_data"
    },
    {
     "data": {
      "text/html": [
       "<pre style=\"white-space:pre;overflow-x:auto;line-height:normal;font-family:Menlo,'DejaVu Sans Mono',consolas,'Courier New',monospace\"><span style=\"color: #7fbfbf; text-decoration-color: #7fbfbf\">[14:04:52] </span><span style=\"color: #000080; text-decoration-color: #000080\">INFO    </span> Matching: computing operators - <span style=\"color: #008080; text-decoration-color: #008080; font-weight: bold\">3</span>/<span style=\"color: #008080; text-decoration-color: #008080; font-weight: bold\">8</span> took: <span style=\"color: #008080; text-decoration-color: #008080; font-weight: bold\">0.767436</span> s                            <a href=\"file:///Users/giacomomagni/.conda/envs/yad_dev/lib/python3.10/site-packages/eko/evolution_operator/__init__.py\" target=\"_blank\"><span style=\"color: #7f7f7f; text-decoration-color: #7f7f7f\">__init__.py</span></a><span style=\"color: #7f7f7f; text-decoration-color: #7f7f7f\">:</span><a href=\"file:///Users/giacomomagni/.conda/envs/yad_dev/lib/python3.10/site-packages/eko/evolution_operator/__init__.py#889\" target=\"_blank\"><span style=\"color: #7f7f7f; text-decoration-color: #7f7f7f\">889</span></a>\n",
       "</pre>\n"
      ],
      "text/plain": [
       "\u001b[2;36m[14:04:52]\u001b[0m\u001b[2;36m \u001b[0m\u001b[34mINFO    \u001b[0m Matching: computing operators - \u001b[1;36m3\u001b[0m/\u001b[1;36m8\u001b[0m took: \u001b[1;36m0.767436\u001b[0m s                            \u001b]8;id=935090;file:///Users/giacomomagni/.conda/envs/yad_dev/lib/python3.10/site-packages/eko/evolution_operator/__init__.py\u001b\\\u001b[2m__init__.py\u001b[0m\u001b]8;;\u001b\\\u001b[2m:\u001b[0m\u001b]8;id=391093;file:///Users/giacomomagni/.conda/envs/yad_dev/lib/python3.10/site-packages/eko/evolution_operator/__init__.py#889\u001b\\\u001b[2m889\u001b[0m\u001b]8;;\u001b\\\n"
      ]
     },
     "metadata": {},
     "output_type": "display_data"
    },
    {
     "data": {
      "text/html": [
       "<pre style=\"white-space:pre;overflow-x:auto;line-height:normal;font-family:Menlo,'DejaVu Sans Mono',consolas,'Courier New',monospace\"><span style=\"color: #7fbfbf; text-decoration-color: #7fbfbf\">           </span><span style=\"color: #000080; text-decoration-color: #000080\">INFO    </span> Matching: computing operators - <span style=\"color: #008080; text-decoration-color: #008080; font-weight: bold\">4</span>/<span style=\"color: #008080; text-decoration-color: #008080; font-weight: bold\">8</span> took: <span style=\"color: #008080; text-decoration-color: #008080; font-weight: bold\">0.633762</span> s                            <a href=\"file:///Users/giacomomagni/.conda/envs/yad_dev/lib/python3.10/site-packages/eko/evolution_operator/__init__.py\" target=\"_blank\"><span style=\"color: #7f7f7f; text-decoration-color: #7f7f7f\">__init__.py</span></a><span style=\"color: #7f7f7f; text-decoration-color: #7f7f7f\">:</span><a href=\"file:///Users/giacomomagni/.conda/envs/yad_dev/lib/python3.10/site-packages/eko/evolution_operator/__init__.py#889\" target=\"_blank\"><span style=\"color: #7f7f7f; text-decoration-color: #7f7f7f\">889</span></a>\n",
       "</pre>\n"
      ],
      "text/plain": [
       "\u001b[2;36m          \u001b[0m\u001b[2;36m \u001b[0m\u001b[34mINFO    \u001b[0m Matching: computing operators - \u001b[1;36m4\u001b[0m/\u001b[1;36m8\u001b[0m took: \u001b[1;36m0.633762\u001b[0m s                            \u001b]8;id=778647;file:///Users/giacomomagni/.conda/envs/yad_dev/lib/python3.10/site-packages/eko/evolution_operator/__init__.py\u001b\\\u001b[2m__init__.py\u001b[0m\u001b]8;;\u001b\\\u001b[2m:\u001b[0m\u001b]8;id=139670;file:///Users/giacomomagni/.conda/envs/yad_dev/lib/python3.10/site-packages/eko/evolution_operator/__init__.py#889\u001b\\\u001b[2m889\u001b[0m\u001b]8;;\u001b\\\n"
      ]
     },
     "metadata": {},
     "output_type": "display_data"
    },
    {
     "data": {
      "text/html": [
       "<pre style=\"white-space:pre;overflow-x:auto;line-height:normal;font-family:Menlo,'DejaVu Sans Mono',consolas,'Courier New',monospace\"><span style=\"color: #7fbfbf; text-decoration-color: #7fbfbf\">[14:04:53] </span><span style=\"color: #000080; text-decoration-color: #000080\">INFO    </span> Matching: computing operators - <span style=\"color: #008080; text-decoration-color: #008080; font-weight: bold\">5</span>/<span style=\"color: #008080; text-decoration-color: #008080; font-weight: bold\">8</span> took: <span style=\"color: #008080; text-decoration-color: #008080; font-weight: bold\">0.575485</span> s                            <a href=\"file:///Users/giacomomagni/.conda/envs/yad_dev/lib/python3.10/site-packages/eko/evolution_operator/__init__.py\" target=\"_blank\"><span style=\"color: #7f7f7f; text-decoration-color: #7f7f7f\">__init__.py</span></a><span style=\"color: #7f7f7f; text-decoration-color: #7f7f7f\">:</span><a href=\"file:///Users/giacomomagni/.conda/envs/yad_dev/lib/python3.10/site-packages/eko/evolution_operator/__init__.py#889\" target=\"_blank\"><span style=\"color: #7f7f7f; text-decoration-color: #7f7f7f\">889</span></a>\n",
       "</pre>\n"
      ],
      "text/plain": [
       "\u001b[2;36m[14:04:53]\u001b[0m\u001b[2;36m \u001b[0m\u001b[34mINFO    \u001b[0m Matching: computing operators - \u001b[1;36m5\u001b[0m/\u001b[1;36m8\u001b[0m took: \u001b[1;36m0.575485\u001b[0m s                            \u001b]8;id=853350;file:///Users/giacomomagni/.conda/envs/yad_dev/lib/python3.10/site-packages/eko/evolution_operator/__init__.py\u001b\\\u001b[2m__init__.py\u001b[0m\u001b]8;;\u001b\\\u001b[2m:\u001b[0m\u001b]8;id=671343;file:///Users/giacomomagni/.conda/envs/yad_dev/lib/python3.10/site-packages/eko/evolution_operator/__init__.py#889\u001b\\\u001b[2m889\u001b[0m\u001b]8;;\u001b\\\n"
      ]
     },
     "metadata": {},
     "output_type": "display_data"
    },
    {
     "data": {
      "text/html": [
       "<pre style=\"white-space:pre;overflow-x:auto;line-height:normal;font-family:Menlo,'DejaVu Sans Mono',consolas,'Courier New',monospace\"><span style=\"color: #7fbfbf; text-decoration-color: #7fbfbf\">           </span><span style=\"color: #000080; text-decoration-color: #000080\">INFO    </span> Matching: computing operators - <span style=\"color: #008080; text-decoration-color: #008080; font-weight: bold\">6</span>/<span style=\"color: #008080; text-decoration-color: #008080; font-weight: bold\">8</span> took: <span style=\"color: #008080; text-decoration-color: #008080; font-weight: bold\">0.435391</span> s                            <a href=\"file:///Users/giacomomagni/.conda/envs/yad_dev/lib/python3.10/site-packages/eko/evolution_operator/__init__.py\" target=\"_blank\"><span style=\"color: #7f7f7f; text-decoration-color: #7f7f7f\">__init__.py</span></a><span style=\"color: #7f7f7f; text-decoration-color: #7f7f7f\">:</span><a href=\"file:///Users/giacomomagni/.conda/envs/yad_dev/lib/python3.10/site-packages/eko/evolution_operator/__init__.py#889\" target=\"_blank\"><span style=\"color: #7f7f7f; text-decoration-color: #7f7f7f\">889</span></a>\n",
       "</pre>\n"
      ],
      "text/plain": [
       "\u001b[2;36m          \u001b[0m\u001b[2;36m \u001b[0m\u001b[34mINFO    \u001b[0m Matching: computing operators - \u001b[1;36m6\u001b[0m/\u001b[1;36m8\u001b[0m took: \u001b[1;36m0.435391\u001b[0m s                            \u001b]8;id=552793;file:///Users/giacomomagni/.conda/envs/yad_dev/lib/python3.10/site-packages/eko/evolution_operator/__init__.py\u001b\\\u001b[2m__init__.py\u001b[0m\u001b]8;;\u001b\\\u001b[2m:\u001b[0m\u001b]8;id=621012;file:///Users/giacomomagni/.conda/envs/yad_dev/lib/python3.10/site-packages/eko/evolution_operator/__init__.py#889\u001b\\\u001b[2m889\u001b[0m\u001b]8;;\u001b\\\n"
      ]
     },
     "metadata": {},
     "output_type": "display_data"
    },
    {
     "data": {
      "text/html": [
       "<pre style=\"white-space:pre;overflow-x:auto;line-height:normal;font-family:Menlo,'DejaVu Sans Mono',consolas,'Courier New',monospace\"><span style=\"color: #7fbfbf; text-decoration-color: #7fbfbf\">[14:04:54] </span><span style=\"color: #000080; text-decoration-color: #000080\">INFO    </span> Matching: computing operators - <span style=\"color: #008080; text-decoration-color: #008080; font-weight: bold\">7</span>/<span style=\"color: #008080; text-decoration-color: #008080; font-weight: bold\">8</span> took: <span style=\"color: #008080; text-decoration-color: #008080; font-weight: bold\">0.241357</span> s                            <a href=\"file:///Users/giacomomagni/.conda/envs/yad_dev/lib/python3.10/site-packages/eko/evolution_operator/__init__.py\" target=\"_blank\"><span style=\"color: #7f7f7f; text-decoration-color: #7f7f7f\">__init__.py</span></a><span style=\"color: #7f7f7f; text-decoration-color: #7f7f7f\">:</span><a href=\"file:///Users/giacomomagni/.conda/envs/yad_dev/lib/python3.10/site-packages/eko/evolution_operator/__init__.py#889\" target=\"_blank\"><span style=\"color: #7f7f7f; text-decoration-color: #7f7f7f\">889</span></a>\n",
       "</pre>\n"
      ],
      "text/plain": [
       "\u001b[2;36m[14:04:54]\u001b[0m\u001b[2;36m \u001b[0m\u001b[34mINFO    \u001b[0m Matching: computing operators - \u001b[1;36m7\u001b[0m/\u001b[1;36m8\u001b[0m took: \u001b[1;36m0.241357\u001b[0m s                            \u001b]8;id=188174;file:///Users/giacomomagni/.conda/envs/yad_dev/lib/python3.10/site-packages/eko/evolution_operator/__init__.py\u001b\\\u001b[2m__init__.py\u001b[0m\u001b]8;;\u001b\\\u001b[2m:\u001b[0m\u001b]8;id=780428;file:///Users/giacomomagni/.conda/envs/yad_dev/lib/python3.10/site-packages/eko/evolution_operator/__init__.py#889\u001b\\\u001b[2m889\u001b[0m\u001b]8;;\u001b\\\n"
      ]
     },
     "metadata": {},
     "output_type": "display_data"
    },
    {
     "data": {
      "text/html": [
       "<pre style=\"white-space:pre;overflow-x:auto;line-height:normal;font-family:Menlo,'DejaVu Sans Mono',consolas,'Courier New',monospace\"><span style=\"color: #7fbfbf; text-decoration-color: #7fbfbf\">           </span><span style=\"color: #000080; text-decoration-color: #000080\">INFO    </span> Matching: computing operators - <span style=\"color: #008080; text-decoration-color: #008080; font-weight: bold\">8</span>/<span style=\"color: #008080; text-decoration-color: #008080; font-weight: bold\">8</span> took: <span style=\"color: #008080; text-decoration-color: #008080; font-weight: bold\">0.083093</span> s                            <a href=\"file:///Users/giacomomagni/.conda/envs/yad_dev/lib/python3.10/site-packages/eko/evolution_operator/__init__.py\" target=\"_blank\"><span style=\"color: #7f7f7f; text-decoration-color: #7f7f7f\">__init__.py</span></a><span style=\"color: #7f7f7f; text-decoration-color: #7f7f7f\">:</span><a href=\"file:///Users/giacomomagni/.conda/envs/yad_dev/lib/python3.10/site-packages/eko/evolution_operator/__init__.py#889\" target=\"_blank\"><span style=\"color: #7f7f7f; text-decoration-color: #7f7f7f\">889</span></a>\n",
       "</pre>\n"
      ],
      "text/plain": [
       "\u001b[2;36m          \u001b[0m\u001b[2;36m \u001b[0m\u001b[34mINFO    \u001b[0m Matching: computing operators - \u001b[1;36m8\u001b[0m/\u001b[1;36m8\u001b[0m took: \u001b[1;36m0.083093\u001b[0m s                            \u001b]8;id=23051;file:///Users/giacomomagni/.conda/envs/yad_dev/lib/python3.10/site-packages/eko/evolution_operator/__init__.py\u001b\\\u001b[2m__init__.py\u001b[0m\u001b]8;;\u001b\\\u001b[2m:\u001b[0m\u001b]8;id=402276;file:///Users/giacomomagni/.conda/envs/yad_dev/lib/python3.10/site-packages/eko/evolution_operator/__init__.py#889\u001b\\\u001b[2m889\u001b[0m\u001b]8;;\u001b\\\n"
      ]
     },
     "metadata": {},
     "output_type": "display_data"
    },
    {
     "data": {
      "text/html": [
       "<pre style=\"white-space:pre;overflow-x:auto;line-height:normal;font-family:Menlo,'DejaVu Sans Mono',consolas,'Courier New',monospace\"><span style=\"color: #7fbfbf; text-decoration-color: #7fbfbf\">           </span><span style=\"color: #000080; text-decoration-color: #000080\">INFO    </span> Matching: Total time <span style=\"color: #008080; text-decoration-color: #008080; font-weight: bold\">4.498611</span> s                                                 <a href=\"file:///Users/giacomomagni/.conda/envs/yad_dev/lib/python3.10/site-packages/eko/evolution_operator/__init__.py\" target=\"_blank\"><span style=\"color: #7f7f7f; text-decoration-color: #7f7f7f\">__init__.py</span></a><span style=\"color: #7f7f7f; text-decoration-color: #7f7f7f\">:</span><a href=\"file:///Users/giacomomagni/.conda/envs/yad_dev/lib/python3.10/site-packages/eko/evolution_operator/__init__.py#982\" target=\"_blank\"><span style=\"color: #7f7f7f; text-decoration-color: #7f7f7f\">982</span></a>\n",
       "</pre>\n"
      ],
      "text/plain": [
       "\u001b[2;36m          \u001b[0m\u001b[2;36m \u001b[0m\u001b[34mINFO    \u001b[0m Matching: Total time \u001b[1;36m4.498611\u001b[0m s                                                 \u001b]8;id=887283;file:///Users/giacomomagni/.conda/envs/yad_dev/lib/python3.10/site-packages/eko/evolution_operator/__init__.py\u001b\\\u001b[2m__init__.py\u001b[0m\u001b]8;;\u001b\\\u001b[2m:\u001b[0m\u001b]8;id=145420;file:///Users/giacomomagni/.conda/envs/yad_dev/lib/python3.10/site-packages/eko/evolution_operator/__init__.py#982\u001b\\\u001b[2m982\u001b[0m\u001b]8;;\u001b\\\n"
      ]
     },
     "metadata": {},
     "output_type": "display_data"
    },
    {
     "data": {
      "text/html": [
       "<pre style=\"white-space:pre;overflow-x:auto;line-height:normal;font-family:Menlo,'DejaVu Sans Mono',consolas,'Courier New',monospace\"><span style=\"color: #7fbfbf; text-decoration-color: #7fbfbf\">           </span><span style=\"color: #000080; text-decoration-color: #000080\">INFO    </span> Evolution: computing operators <span style=\"color: #008080; text-decoration-color: #008080; font-weight: bold\">2.280100e+00</span> -&gt; <span style=\"color: #008080; text-decoration-color: #008080; font-weight: bold\">1.000000e+02</span>, <span style=\"color: #808000; text-decoration-color: #808000\">nf</span>=<span style=\"color: #008080; text-decoration-color: #008080; font-weight: bold\">3</span>               <a href=\"file:///Users/giacomomagni/.conda/envs/yad_dev/lib/python3.10/site-packages/eko/evolution_operator/__init__.py\" target=\"_blank\"><span style=\"color: #7f7f7f; text-decoration-color: #7f7f7f\">__init__.py</span></a><span style=\"color: #7f7f7f; text-decoration-color: #7f7f7f\">:</span><a href=\"file:///Users/giacomomagni/.conda/envs/yad_dev/lib/python3.10/site-packages/eko/evolution_operator/__init__.py#917\" target=\"_blank\"><span style=\"color: #7f7f7f; text-decoration-color: #7f7f7f\">917</span></a>\n",
       "</pre>\n"
      ],
      "text/plain": [
       "\u001b[2;36m          \u001b[0m\u001b[2;36m \u001b[0m\u001b[34mINFO    \u001b[0m Evolution: computing operators \u001b[1;36m2.280100e+00\u001b[0m -> \u001b[1;36m1.000000e+02\u001b[0m, \u001b[33mnf\u001b[0m=\u001b[1;36m3\u001b[0m               \u001b]8;id=574270;file:///Users/giacomomagni/.conda/envs/yad_dev/lib/python3.10/site-packages/eko/evolution_operator/__init__.py\u001b\\\u001b[2m__init__.py\u001b[0m\u001b]8;;\u001b\\\u001b[2m:\u001b[0m\u001b]8;id=173589;file:///Users/giacomomagni/.conda/envs/yad_dev/lib/python3.10/site-packages/eko/evolution_operator/__init__.py#917\u001b\\\u001b[2m917\u001b[0m\u001b]8;;\u001b\\\n"
      ]
     },
     "metadata": {},
     "output_type": "display_data"
    },
    {
     "data": {
      "text/html": [
       "<pre style=\"white-space:pre;overflow-x:auto;line-height:normal;font-family:Menlo,'DejaVu Sans Mono',consolas,'Courier New',monospace\"><span style=\"color: #7fbfbf; text-decoration-color: #7fbfbf\">           </span><span style=\"color: #000080; text-decoration-color: #000080\">INFO    </span> Evolution: µ_R^<span style=\"color: #008080; text-decoration-color: #008080; font-weight: bold\">2</span> distance: <span style=\"color: #008080; text-decoration-color: #008080; font-weight: bold\">2.280100e+00</span> -&gt; <span style=\"color: #008080; text-decoration-color: #008080; font-weight: bold\">1.000000e+02</span>                         <a href=\"file:///Users/giacomomagni/.conda/envs/yad_dev/lib/python3.10/site-packages/eko/evolution_operator/__init__.py\" target=\"_blank\"><span style=\"color: #7f7f7f; text-decoration-color: #7f7f7f\">__init__.py</span></a><span style=\"color: #7f7f7f; text-decoration-color: #7f7f7f\">:</span><a href=\"file:///Users/giacomomagni/.conda/envs/yad_dev/lib/python3.10/site-packages/eko/evolution_operator/__init__.py#924\" target=\"_blank\"><span style=\"color: #7f7f7f; text-decoration-color: #7f7f7f\">924</span></a>\n",
       "</pre>\n"
      ],
      "text/plain": [
       "\u001b[2;36m          \u001b[0m\u001b[2;36m \u001b[0m\u001b[34mINFO    \u001b[0m Evolution: µ_R^\u001b[1;36m2\u001b[0m distance: \u001b[1;36m2.280100e+00\u001b[0m -> \u001b[1;36m1.000000e+02\u001b[0m                         \u001b]8;id=147134;file:///Users/giacomomagni/.conda/envs/yad_dev/lib/python3.10/site-packages/eko/evolution_operator/__init__.py\u001b\\\u001b[2m__init__.py\u001b[0m\u001b]8;;\u001b\\\u001b[2m:\u001b[0m\u001b]8;id=109218;file:///Users/giacomomagni/.conda/envs/yad_dev/lib/python3.10/site-packages/eko/evolution_operator/__init__.py#924\u001b\\\u001b[2m924\u001b[0m\u001b]8;;\u001b\\\n"
      ]
     },
     "metadata": {},
     "output_type": "display_data"
    },
    {
     "data": {
      "text/html": [
       "<pre style=\"white-space:pre;overflow-x:auto;line-height:normal;font-family:Menlo,'DejaVu Sans Mono',consolas,'Courier New',monospace\"><span style=\"color: #7fbfbf; text-decoration-color: #7fbfbf\">           </span><span style=\"color: #000080; text-decoration-color: #000080\">INFO    </span> Evolution: a_s distance: <span style=\"color: #008080; text-decoration-color: #008080; font-weight: bold\">2.728162e-02</span> -&gt; <span style=\"color: #008080; text-decoration-color: #008080; font-weight: bold\">1.330271e-02</span>                           <a href=\"file:///Users/giacomomagni/.conda/envs/yad_dev/lib/python3.10/site-packages/eko/evolution_operator/__init__.py\" target=\"_blank\"><span style=\"color: #7f7f7f; text-decoration-color: #7f7f7f\">__init__.py</span></a><span style=\"color: #7f7f7f; text-decoration-color: #7f7f7f\">:</span><a href=\"file:///Users/giacomomagni/.conda/envs/yad_dev/lib/python3.10/site-packages/eko/evolution_operator/__init__.py#936\" target=\"_blank\"><span style=\"color: #7f7f7f; text-decoration-color: #7f7f7f\">936</span></a>\n",
       "</pre>\n"
      ],
      "text/plain": [
       "\u001b[2;36m          \u001b[0m\u001b[2;36m \u001b[0m\u001b[34mINFO    \u001b[0m Evolution: a_s distance: \u001b[1;36m2.728162e-02\u001b[0m -> \u001b[1;36m1.330271e-02\u001b[0m                           \u001b]8;id=333343;file:///Users/giacomomagni/.conda/envs/yad_dev/lib/python3.10/site-packages/eko/evolution_operator/__init__.py\u001b\\\u001b[2m__init__.py\u001b[0m\u001b]8;;\u001b\\\u001b[2m:\u001b[0m\u001b]8;id=402564;file:///Users/giacomomagni/.conda/envs/yad_dev/lib/python3.10/site-packages/eko/evolution_operator/__init__.py#936\u001b\\\u001b[2m936\u001b[0m\u001b]8;;\u001b\\\n"
      ]
     },
     "metadata": {},
     "output_type": "display_data"
    },
    {
     "data": {
      "text/html": [
       "<pre style=\"white-space:pre;overflow-x:auto;line-height:normal;font-family:Menlo,'DejaVu Sans Mono',consolas,'Courier New',monospace\"><span style=\"color: #7fbfbf; text-decoration-color: #7fbfbf\">           </span><span style=\"color: #000080; text-decoration-color: #000080\">INFO    </span> Evolution: order: <span style=\"font-weight: bold\">(</span><span style=\"color: #008080; text-decoration-color: #008080; font-weight: bold\">2</span>, <span style=\"color: #008080; text-decoration-color: #008080; font-weight: bold\">0</span><span style=\"font-weight: bold\">)</span>, solution strategy: iterate-exact, use fhmruvv: <span style=\"color: #ff0000; text-decoration-color: #ff0000; font-style: italic\">False</span>  <a href=\"file:///Users/giacomomagni/.conda/envs/yad_dev/lib/python3.10/site-packages/eko/evolution_operator/__init__.py\" target=\"_blank\"><span style=\"color: #7f7f7f; text-decoration-color: #7f7f7f\">__init__.py</span></a><span style=\"color: #7f7f7f; text-decoration-color: #7f7f7f\">:</span><a href=\"file:///Users/giacomomagni/.conda/envs/yad_dev/lib/python3.10/site-packages/eko/evolution_operator/__init__.py#946\" target=\"_blank\"><span style=\"color: #7f7f7f; text-decoration-color: #7f7f7f\">946</span></a>\n",
       "</pre>\n"
      ],
      "text/plain": [
       "\u001b[2;36m          \u001b[0m\u001b[2;36m \u001b[0m\u001b[34mINFO    \u001b[0m Evolution: order: \u001b[1m(\u001b[0m\u001b[1;36m2\u001b[0m, \u001b[1;36m0\u001b[0m\u001b[1m)\u001b[0m, solution strategy: iterate-exact, use fhmruvv: \u001b[3;91mFalse\u001b[0m  \u001b]8;id=308340;file:///Users/giacomomagni/.conda/envs/yad_dev/lib/python3.10/site-packages/eko/evolution_operator/__init__.py\u001b\\\u001b[2m__init__.py\u001b[0m\u001b]8;;\u001b\\\u001b[2m:\u001b[0m\u001b]8;id=368975;file:///Users/giacomomagni/.conda/envs/yad_dev/lib/python3.10/site-packages/eko/evolution_operator/__init__.py#946\u001b\\\u001b[2m946\u001b[0m\u001b]8;;\u001b\\\n"
      ]
     },
     "metadata": {},
     "output_type": "display_data"
    },
    {
     "data": {
      "text/html": [
       "<pre style=\"white-space:pre;overflow-x:auto;line-height:normal;font-family:Menlo,'DejaVu Sans Mono',consolas,'Courier New',monospace\"><span style=\"color: #7fbfbf; text-decoration-color: #7fbfbf\">           </span><span style=\"color: #000080; text-decoration-color: #000080\">INFO    </span> Evolution: computing operators - <span style=\"color: #008080; text-decoration-color: #008080; font-weight: bold\">1</span>/<span style=\"color: #008080; text-decoration-color: #008080; font-weight: bold\">8</span> took: <span style=\"color: #008080; text-decoration-color: #008080; font-weight: bold\">0.500371</span> s                           <a href=\"file:///Users/giacomomagni/.conda/envs/yad_dev/lib/python3.10/site-packages/eko/evolution_operator/__init__.py\" target=\"_blank\"><span style=\"color: #7f7f7f; text-decoration-color: #7f7f7f\">__init__.py</span></a><span style=\"color: #7f7f7f; text-decoration-color: #7f7f7f\">:</span><a href=\"file:///Users/giacomomagni/.conda/envs/yad_dev/lib/python3.10/site-packages/eko/evolution_operator/__init__.py#889\" target=\"_blank\"><span style=\"color: #7f7f7f; text-decoration-color: #7f7f7f\">889</span></a>\n",
       "</pre>\n"
      ],
      "text/plain": [
       "\u001b[2;36m          \u001b[0m\u001b[2;36m \u001b[0m\u001b[34mINFO    \u001b[0m Evolution: computing operators - \u001b[1;36m1\u001b[0m/\u001b[1;36m8\u001b[0m took: \u001b[1;36m0.500371\u001b[0m s                           \u001b]8;id=47762;file:///Users/giacomomagni/.conda/envs/yad_dev/lib/python3.10/site-packages/eko/evolution_operator/__init__.py\u001b\\\u001b[2m__init__.py\u001b[0m\u001b]8;;\u001b\\\u001b[2m:\u001b[0m\u001b]8;id=348941;file:///Users/giacomomagni/.conda/envs/yad_dev/lib/python3.10/site-packages/eko/evolution_operator/__init__.py#889\u001b\\\u001b[2m889\u001b[0m\u001b]8;;\u001b\\\n"
      ]
     },
     "metadata": {},
     "output_type": "display_data"
    },
    {
     "data": {
      "text/html": [
       "<pre style=\"white-space:pre;overflow-x:auto;line-height:normal;font-family:Menlo,'DejaVu Sans Mono',consolas,'Courier New',monospace\"><span style=\"color: #7fbfbf; text-decoration-color: #7fbfbf\">[14:04:55] </span><span style=\"color: #000080; text-decoration-color: #000080\">INFO    </span> Evolution: computing operators - <span style=\"color: #008080; text-decoration-color: #008080; font-weight: bold\">2</span>/<span style=\"color: #008080; text-decoration-color: #008080; font-weight: bold\">8</span> took: <span style=\"color: #008080; text-decoration-color: #008080; font-weight: bold\">0.474061</span> s                           <a href=\"file:///Users/giacomomagni/.conda/envs/yad_dev/lib/python3.10/site-packages/eko/evolution_operator/__init__.py\" target=\"_blank\"><span style=\"color: #7f7f7f; text-decoration-color: #7f7f7f\">__init__.py</span></a><span style=\"color: #7f7f7f; text-decoration-color: #7f7f7f\">:</span><a href=\"file:///Users/giacomomagni/.conda/envs/yad_dev/lib/python3.10/site-packages/eko/evolution_operator/__init__.py#889\" target=\"_blank\"><span style=\"color: #7f7f7f; text-decoration-color: #7f7f7f\">889</span></a>\n",
       "</pre>\n"
      ],
      "text/plain": [
       "\u001b[2;36m[14:04:55]\u001b[0m\u001b[2;36m \u001b[0m\u001b[34mINFO    \u001b[0m Evolution: computing operators - \u001b[1;36m2\u001b[0m/\u001b[1;36m8\u001b[0m took: \u001b[1;36m0.474061\u001b[0m s                           \u001b]8;id=359612;file:///Users/giacomomagni/.conda/envs/yad_dev/lib/python3.10/site-packages/eko/evolution_operator/__init__.py\u001b\\\u001b[2m__init__.py\u001b[0m\u001b]8;;\u001b\\\u001b[2m:\u001b[0m\u001b]8;id=786584;file:///Users/giacomomagni/.conda/envs/yad_dev/lib/python3.10/site-packages/eko/evolution_operator/__init__.py#889\u001b\\\u001b[2m889\u001b[0m\u001b]8;;\u001b\\\n"
      ]
     },
     "metadata": {},
     "output_type": "display_data"
    },
    {
     "data": {
      "text/html": [
       "<pre style=\"white-space:pre;overflow-x:auto;line-height:normal;font-family:Menlo,'DejaVu Sans Mono',consolas,'Courier New',monospace\"><span style=\"color: #7fbfbf; text-decoration-color: #7fbfbf\">           </span><span style=\"color: #000080; text-decoration-color: #000080\">INFO    </span> Evolution: computing operators - <span style=\"color: #008080; text-decoration-color: #008080; font-weight: bold\">3</span>/<span style=\"color: #008080; text-decoration-color: #008080; font-weight: bold\">8</span> took: <span style=\"color: #008080; text-decoration-color: #008080; font-weight: bold\">0.369955</span> s                           <a href=\"file:///Users/giacomomagni/.conda/envs/yad_dev/lib/python3.10/site-packages/eko/evolution_operator/__init__.py\" target=\"_blank\"><span style=\"color: #7f7f7f; text-decoration-color: #7f7f7f\">__init__.py</span></a><span style=\"color: #7f7f7f; text-decoration-color: #7f7f7f\">:</span><a href=\"file:///Users/giacomomagni/.conda/envs/yad_dev/lib/python3.10/site-packages/eko/evolution_operator/__init__.py#889\" target=\"_blank\"><span style=\"color: #7f7f7f; text-decoration-color: #7f7f7f\">889</span></a>\n",
       "</pre>\n"
      ],
      "text/plain": [
       "\u001b[2;36m          \u001b[0m\u001b[2;36m \u001b[0m\u001b[34mINFO    \u001b[0m Evolution: computing operators - \u001b[1;36m3\u001b[0m/\u001b[1;36m8\u001b[0m took: \u001b[1;36m0.369955\u001b[0m s                           \u001b]8;id=270907;file:///Users/giacomomagni/.conda/envs/yad_dev/lib/python3.10/site-packages/eko/evolution_operator/__init__.py\u001b\\\u001b[2m__init__.py\u001b[0m\u001b]8;;\u001b\\\u001b[2m:\u001b[0m\u001b]8;id=507917;file:///Users/giacomomagni/.conda/envs/yad_dev/lib/python3.10/site-packages/eko/evolution_operator/__init__.py#889\u001b\\\u001b[2m889\u001b[0m\u001b]8;;\u001b\\\n"
      ]
     },
     "metadata": {},
     "output_type": "display_data"
    },
    {
     "data": {
      "text/html": [
       "<pre style=\"white-space:pre;overflow-x:auto;line-height:normal;font-family:Menlo,'DejaVu Sans Mono',consolas,'Courier New',monospace\"><span style=\"color: #7fbfbf; text-decoration-color: #7fbfbf\">           </span><span style=\"color: #000080; text-decoration-color: #000080\">INFO    </span> Evolution: computing operators - <span style=\"color: #008080; text-decoration-color: #008080; font-weight: bold\">4</span>/<span style=\"color: #008080; text-decoration-color: #008080; font-weight: bold\">8</span> took: <span style=\"color: #008080; text-decoration-color: #008080; font-weight: bold\">0.310929</span> s                           <a href=\"file:///Users/giacomomagni/.conda/envs/yad_dev/lib/python3.10/site-packages/eko/evolution_operator/__init__.py\" target=\"_blank\"><span style=\"color: #7f7f7f; text-decoration-color: #7f7f7f\">__init__.py</span></a><span style=\"color: #7f7f7f; text-decoration-color: #7f7f7f\">:</span><a href=\"file:///Users/giacomomagni/.conda/envs/yad_dev/lib/python3.10/site-packages/eko/evolution_operator/__init__.py#889\" target=\"_blank\"><span style=\"color: #7f7f7f; text-decoration-color: #7f7f7f\">889</span></a>\n",
       "</pre>\n"
      ],
      "text/plain": [
       "\u001b[2;36m          \u001b[0m\u001b[2;36m \u001b[0m\u001b[34mINFO    \u001b[0m Evolution: computing operators - \u001b[1;36m4\u001b[0m/\u001b[1;36m8\u001b[0m took: \u001b[1;36m0.310929\u001b[0m s                           \u001b]8;id=329786;file:///Users/giacomomagni/.conda/envs/yad_dev/lib/python3.10/site-packages/eko/evolution_operator/__init__.py\u001b\\\u001b[2m__init__.py\u001b[0m\u001b]8;;\u001b\\\u001b[2m:\u001b[0m\u001b]8;id=533050;file:///Users/giacomomagni/.conda/envs/yad_dev/lib/python3.10/site-packages/eko/evolution_operator/__init__.py#889\u001b\\\u001b[2m889\u001b[0m\u001b]8;;\u001b\\\n"
      ]
     },
     "metadata": {},
     "output_type": "display_data"
    },
    {
     "data": {
      "text/html": [
       "<pre style=\"white-space:pre;overflow-x:auto;line-height:normal;font-family:Menlo,'DejaVu Sans Mono',consolas,'Courier New',monospace\"><span style=\"color: #7fbfbf; text-decoration-color: #7fbfbf\">[14:04:56] </span><span style=\"color: #000080; text-decoration-color: #000080\">INFO    </span> Evolution: computing operators - <span style=\"color: #008080; text-decoration-color: #008080; font-weight: bold\">5</span>/<span style=\"color: #008080; text-decoration-color: #008080; font-weight: bold\">8</span> took: <span style=\"color: #008080; text-decoration-color: #008080; font-weight: bold\">0.240956</span> s                           <a href=\"file:///Users/giacomomagni/.conda/envs/yad_dev/lib/python3.10/site-packages/eko/evolution_operator/__init__.py\" target=\"_blank\"><span style=\"color: #7f7f7f; text-decoration-color: #7f7f7f\">__init__.py</span></a><span style=\"color: #7f7f7f; text-decoration-color: #7f7f7f\">:</span><a href=\"file:///Users/giacomomagni/.conda/envs/yad_dev/lib/python3.10/site-packages/eko/evolution_operator/__init__.py#889\" target=\"_blank\"><span style=\"color: #7f7f7f; text-decoration-color: #7f7f7f\">889</span></a>\n",
       "</pre>\n"
      ],
      "text/plain": [
       "\u001b[2;36m[14:04:56]\u001b[0m\u001b[2;36m \u001b[0m\u001b[34mINFO    \u001b[0m Evolution: computing operators - \u001b[1;36m5\u001b[0m/\u001b[1;36m8\u001b[0m took: \u001b[1;36m0.240956\u001b[0m s                           \u001b]8;id=807915;file:///Users/giacomomagni/.conda/envs/yad_dev/lib/python3.10/site-packages/eko/evolution_operator/__init__.py\u001b\\\u001b[2m__init__.py\u001b[0m\u001b]8;;\u001b\\\u001b[2m:\u001b[0m\u001b]8;id=549947;file:///Users/giacomomagni/.conda/envs/yad_dev/lib/python3.10/site-packages/eko/evolution_operator/__init__.py#889\u001b\\\u001b[2m889\u001b[0m\u001b]8;;\u001b\\\n"
      ]
     },
     "metadata": {},
     "output_type": "display_data"
    },
    {
     "data": {
      "text/html": [
       "<pre style=\"white-space:pre;overflow-x:auto;line-height:normal;font-family:Menlo,'DejaVu Sans Mono',consolas,'Courier New',monospace\"><span style=\"color: #7fbfbf; text-decoration-color: #7fbfbf\">           </span><span style=\"color: #000080; text-decoration-color: #000080\">INFO    </span> Evolution: computing operators - <span style=\"color: #008080; text-decoration-color: #008080; font-weight: bold\">6</span>/<span style=\"color: #008080; text-decoration-color: #008080; font-weight: bold\">8</span> took: <span style=\"color: #008080; text-decoration-color: #008080; font-weight: bold\">0.235768</span> s                           <a href=\"file:///Users/giacomomagni/.conda/envs/yad_dev/lib/python3.10/site-packages/eko/evolution_operator/__init__.py\" target=\"_blank\"><span style=\"color: #7f7f7f; text-decoration-color: #7f7f7f\">__init__.py</span></a><span style=\"color: #7f7f7f; text-decoration-color: #7f7f7f\">:</span><a href=\"file:///Users/giacomomagni/.conda/envs/yad_dev/lib/python3.10/site-packages/eko/evolution_operator/__init__.py#889\" target=\"_blank\"><span style=\"color: #7f7f7f; text-decoration-color: #7f7f7f\">889</span></a>\n",
       "</pre>\n"
      ],
      "text/plain": [
       "\u001b[2;36m          \u001b[0m\u001b[2;36m \u001b[0m\u001b[34mINFO    \u001b[0m Evolution: computing operators - \u001b[1;36m6\u001b[0m/\u001b[1;36m8\u001b[0m took: \u001b[1;36m0.235768\u001b[0m s                           \u001b]8;id=948930;file:///Users/giacomomagni/.conda/envs/yad_dev/lib/python3.10/site-packages/eko/evolution_operator/__init__.py\u001b\\\u001b[2m__init__.py\u001b[0m\u001b]8;;\u001b\\\u001b[2m:\u001b[0m\u001b]8;id=893392;file:///Users/giacomomagni/.conda/envs/yad_dev/lib/python3.10/site-packages/eko/evolution_operator/__init__.py#889\u001b\\\u001b[2m889\u001b[0m\u001b]8;;\u001b\\\n"
      ]
     },
     "metadata": {},
     "output_type": "display_data"
    },
    {
     "data": {
      "text/html": [
       "<pre style=\"white-space:pre;overflow-x:auto;line-height:normal;font-family:Menlo,'DejaVu Sans Mono',consolas,'Courier New',monospace\"><span style=\"color: #7fbfbf; text-decoration-color: #7fbfbf\">           </span><span style=\"color: #000080; text-decoration-color: #000080\">INFO    </span> Evolution: computing operators - <span style=\"color: #008080; text-decoration-color: #008080; font-weight: bold\">7</span>/<span style=\"color: #008080; text-decoration-color: #008080; font-weight: bold\">8</span> took: <span style=\"color: #008080; text-decoration-color: #008080; font-weight: bold\">0.148768</span> s                           <a href=\"file:///Users/giacomomagni/.conda/envs/yad_dev/lib/python3.10/site-packages/eko/evolution_operator/__init__.py\" target=\"_blank\"><span style=\"color: #7f7f7f; text-decoration-color: #7f7f7f\">__init__.py</span></a><span style=\"color: #7f7f7f; text-decoration-color: #7f7f7f\">:</span><a href=\"file:///Users/giacomomagni/.conda/envs/yad_dev/lib/python3.10/site-packages/eko/evolution_operator/__init__.py#889\" target=\"_blank\"><span style=\"color: #7f7f7f; text-decoration-color: #7f7f7f\">889</span></a>\n",
       "</pre>\n"
      ],
      "text/plain": [
       "\u001b[2;36m          \u001b[0m\u001b[2;36m \u001b[0m\u001b[34mINFO    \u001b[0m Evolution: computing operators - \u001b[1;36m7\u001b[0m/\u001b[1;36m8\u001b[0m took: \u001b[1;36m0.148768\u001b[0m s                           \u001b]8;id=943713;file:///Users/giacomomagni/.conda/envs/yad_dev/lib/python3.10/site-packages/eko/evolution_operator/__init__.py\u001b\\\u001b[2m__init__.py\u001b[0m\u001b]8;;\u001b\\\u001b[2m:\u001b[0m\u001b]8;id=63312;file:///Users/giacomomagni/.conda/envs/yad_dev/lib/python3.10/site-packages/eko/evolution_operator/__init__.py#889\u001b\\\u001b[2m889\u001b[0m\u001b]8;;\u001b\\\n"
      ]
     },
     "metadata": {},
     "output_type": "display_data"
    },
    {
     "data": {
      "text/html": [
       "<pre style=\"white-space:pre;overflow-x:auto;line-height:normal;font-family:Menlo,'DejaVu Sans Mono',consolas,'Courier New',monospace\"><span style=\"color: #7fbfbf; text-decoration-color: #7fbfbf\">           </span><span style=\"color: #000080; text-decoration-color: #000080\">INFO    </span> Evolution: computing operators - <span style=\"color: #008080; text-decoration-color: #008080; font-weight: bold\">8</span>/<span style=\"color: #008080; text-decoration-color: #008080; font-weight: bold\">8</span> took: <span style=\"color: #008080; text-decoration-color: #008080; font-weight: bold\">0.039852</span> s                           <a href=\"file:///Users/giacomomagni/.conda/envs/yad_dev/lib/python3.10/site-packages/eko/evolution_operator/__init__.py\" target=\"_blank\"><span style=\"color: #7f7f7f; text-decoration-color: #7f7f7f\">__init__.py</span></a><span style=\"color: #7f7f7f; text-decoration-color: #7f7f7f\">:</span><a href=\"file:///Users/giacomomagni/.conda/envs/yad_dev/lib/python3.10/site-packages/eko/evolution_operator/__init__.py#889\" target=\"_blank\"><span style=\"color: #7f7f7f; text-decoration-color: #7f7f7f\">889</span></a>\n",
       "</pre>\n"
      ],
      "text/plain": [
       "\u001b[2;36m          \u001b[0m\u001b[2;36m \u001b[0m\u001b[34mINFO    \u001b[0m Evolution: computing operators - \u001b[1;36m8\u001b[0m/\u001b[1;36m8\u001b[0m took: \u001b[1;36m0.039852\u001b[0m s                           \u001b]8;id=777286;file:///Users/giacomomagni/.conda/envs/yad_dev/lib/python3.10/site-packages/eko/evolution_operator/__init__.py\u001b\\\u001b[2m__init__.py\u001b[0m\u001b]8;;\u001b\\\u001b[2m:\u001b[0m\u001b]8;id=48623;file:///Users/giacomomagni/.conda/envs/yad_dev/lib/python3.10/site-packages/eko/evolution_operator/__init__.py#889\u001b\\\u001b[2m889\u001b[0m\u001b]8;;\u001b\\\n"
      ]
     },
     "metadata": {},
     "output_type": "display_data"
    },
    {
     "data": {
      "text/html": [
       "<pre style=\"white-space:pre;overflow-x:auto;line-height:normal;font-family:Menlo,'DejaVu Sans Mono',consolas,'Courier New',monospace\"><span style=\"color: #7fbfbf; text-decoration-color: #7fbfbf\">           </span><span style=\"color: #000080; text-decoration-color: #000080\">INFO    </span> Evolution: Total time <span style=\"color: #008080; text-decoration-color: #008080; font-weight: bold\">2.345104</span> s                                                <a href=\"file:///Users/giacomomagni/.conda/envs/yad_dev/lib/python3.10/site-packages/eko/evolution_operator/__init__.py\" target=\"_blank\"><span style=\"color: #7f7f7f; text-decoration-color: #7f7f7f\">__init__.py</span></a><span style=\"color: #7f7f7f; text-decoration-color: #7f7f7f\">:</span><a href=\"file:///Users/giacomomagni/.conda/envs/yad_dev/lib/python3.10/site-packages/eko/evolution_operator/__init__.py#982\" target=\"_blank\"><span style=\"color: #7f7f7f; text-decoration-color: #7f7f7f\">982</span></a>\n",
       "</pre>\n"
      ],
      "text/plain": [
       "\u001b[2;36m          \u001b[0m\u001b[2;36m \u001b[0m\u001b[34mINFO    \u001b[0m Evolution: Total time \u001b[1;36m2.345104\u001b[0m s                                                \u001b]8;id=160102;file:///Users/giacomomagni/.conda/envs/yad_dev/lib/python3.10/site-packages/eko/evolution_operator/__init__.py\u001b\\\u001b[2m__init__.py\u001b[0m\u001b]8;;\u001b\\\u001b[2m:\u001b[0m\u001b]8;id=301993;file:///Users/giacomomagni/.conda/envs/yad_dev/lib/python3.10/site-packages/eko/evolution_operator/__init__.py#982\u001b\\\u001b[2m982\u001b[0m\u001b]8;;\u001b\\\n"
      ]
     },
     "metadata": {},
     "output_type": "display_data"
    },
    {
     "data": {
      "text/html": [
       "<pre style=\"white-space:pre;overflow-x:auto;line-height:normal;font-family:Menlo,'DejaVu Sans Mono',consolas,'Courier New',monospace\"><span style=\"color: #7fbfbf; text-decoration-color: #7fbfbf\">           </span><span style=\"color: #000080; text-decoration-color: #000080\">INFO    </span> Evolution: computing operators <span style=\"color: #008080; text-decoration-color: #008080; font-weight: bold\">2.280100e+00</span> -&gt; <span style=\"color: #008080; text-decoration-color: #008080; font-weight: bold\">2.250000e+02</span>, <span style=\"color: #808000; text-decoration-color: #808000\">nf</span>=<span style=\"color: #008080; text-decoration-color: #008080; font-weight: bold\">3</span>               <a href=\"file:///Users/giacomomagni/.conda/envs/yad_dev/lib/python3.10/site-packages/eko/evolution_operator/__init__.py\" target=\"_blank\"><span style=\"color: #7f7f7f; text-decoration-color: #7f7f7f\">__init__.py</span></a><span style=\"color: #7f7f7f; text-decoration-color: #7f7f7f\">:</span><a href=\"file:///Users/giacomomagni/.conda/envs/yad_dev/lib/python3.10/site-packages/eko/evolution_operator/__init__.py#917\" target=\"_blank\"><span style=\"color: #7f7f7f; text-decoration-color: #7f7f7f\">917</span></a>\n",
       "</pre>\n"
      ],
      "text/plain": [
       "\u001b[2;36m          \u001b[0m\u001b[2;36m \u001b[0m\u001b[34mINFO    \u001b[0m Evolution: computing operators \u001b[1;36m2.280100e+00\u001b[0m -> \u001b[1;36m2.250000e+02\u001b[0m, \u001b[33mnf\u001b[0m=\u001b[1;36m3\u001b[0m               \u001b]8;id=12498;file:///Users/giacomomagni/.conda/envs/yad_dev/lib/python3.10/site-packages/eko/evolution_operator/__init__.py\u001b\\\u001b[2m__init__.py\u001b[0m\u001b]8;;\u001b\\\u001b[2m:\u001b[0m\u001b]8;id=475495;file:///Users/giacomomagni/.conda/envs/yad_dev/lib/python3.10/site-packages/eko/evolution_operator/__init__.py#917\u001b\\\u001b[2m917\u001b[0m\u001b]8;;\u001b\\\n"
      ]
     },
     "metadata": {},
     "output_type": "display_data"
    },
    {
     "data": {
      "text/html": [
       "<pre style=\"white-space:pre;overflow-x:auto;line-height:normal;font-family:Menlo,'DejaVu Sans Mono',consolas,'Courier New',monospace\"><span style=\"color: #7fbfbf; text-decoration-color: #7fbfbf\">           </span><span style=\"color: #000080; text-decoration-color: #000080\">INFO    </span> Evolution: µ_R^<span style=\"color: #008080; text-decoration-color: #008080; font-weight: bold\">2</span> distance: <span style=\"color: #008080; text-decoration-color: #008080; font-weight: bold\">2.280100e+00</span> -&gt; <span style=\"color: #008080; text-decoration-color: #008080; font-weight: bold\">2.250000e+02</span>                         <a href=\"file:///Users/giacomomagni/.conda/envs/yad_dev/lib/python3.10/site-packages/eko/evolution_operator/__init__.py\" target=\"_blank\"><span style=\"color: #7f7f7f; text-decoration-color: #7f7f7f\">__init__.py</span></a><span style=\"color: #7f7f7f; text-decoration-color: #7f7f7f\">:</span><a href=\"file:///Users/giacomomagni/.conda/envs/yad_dev/lib/python3.10/site-packages/eko/evolution_operator/__init__.py#924\" target=\"_blank\"><span style=\"color: #7f7f7f; text-decoration-color: #7f7f7f\">924</span></a>\n",
       "</pre>\n"
      ],
      "text/plain": [
       "\u001b[2;36m          \u001b[0m\u001b[2;36m \u001b[0m\u001b[34mINFO    \u001b[0m Evolution: µ_R^\u001b[1;36m2\u001b[0m distance: \u001b[1;36m2.280100e+00\u001b[0m -> \u001b[1;36m2.250000e+02\u001b[0m                         \u001b]8;id=860446;file:///Users/giacomomagni/.conda/envs/yad_dev/lib/python3.10/site-packages/eko/evolution_operator/__init__.py\u001b\\\u001b[2m__init__.py\u001b[0m\u001b]8;;\u001b\\\u001b[2m:\u001b[0m\u001b]8;id=807497;file:///Users/giacomomagni/.conda/envs/yad_dev/lib/python3.10/site-packages/eko/evolution_operator/__init__.py#924\u001b\\\u001b[2m924\u001b[0m\u001b]8;;\u001b\\\n"
      ]
     },
     "metadata": {},
     "output_type": "display_data"
    },
    {
     "data": {
      "text/html": [
       "<pre style=\"white-space:pre;overflow-x:auto;line-height:normal;font-family:Menlo,'DejaVu Sans Mono',consolas,'Courier New',monospace\"><span style=\"color: #7fbfbf; text-decoration-color: #7fbfbf\">           </span><span style=\"color: #000080; text-decoration-color: #000080\">INFO    </span> Evolution: a_s distance: <span style=\"color: #008080; text-decoration-color: #008080; font-weight: bold\">2.728162e-02</span> -&gt; <span style=\"color: #008080; text-decoration-color: #008080; font-weight: bold\">1.202975e-02</span>                           <a href=\"file:///Users/giacomomagni/.conda/envs/yad_dev/lib/python3.10/site-packages/eko/evolution_operator/__init__.py\" target=\"_blank\"><span style=\"color: #7f7f7f; text-decoration-color: #7f7f7f\">__init__.py</span></a><span style=\"color: #7f7f7f; text-decoration-color: #7f7f7f\">:</span><a href=\"file:///Users/giacomomagni/.conda/envs/yad_dev/lib/python3.10/site-packages/eko/evolution_operator/__init__.py#936\" target=\"_blank\"><span style=\"color: #7f7f7f; text-decoration-color: #7f7f7f\">936</span></a>\n",
       "</pre>\n"
      ],
      "text/plain": [
       "\u001b[2;36m          \u001b[0m\u001b[2;36m \u001b[0m\u001b[34mINFO    \u001b[0m Evolution: a_s distance: \u001b[1;36m2.728162e-02\u001b[0m -> \u001b[1;36m1.202975e-02\u001b[0m                           \u001b]8;id=868527;file:///Users/giacomomagni/.conda/envs/yad_dev/lib/python3.10/site-packages/eko/evolution_operator/__init__.py\u001b\\\u001b[2m__init__.py\u001b[0m\u001b]8;;\u001b\\\u001b[2m:\u001b[0m\u001b]8;id=629880;file:///Users/giacomomagni/.conda/envs/yad_dev/lib/python3.10/site-packages/eko/evolution_operator/__init__.py#936\u001b\\\u001b[2m936\u001b[0m\u001b]8;;\u001b\\\n"
      ]
     },
     "metadata": {},
     "output_type": "display_data"
    },
    {
     "data": {
      "text/html": [
       "<pre style=\"white-space:pre;overflow-x:auto;line-height:normal;font-family:Menlo,'DejaVu Sans Mono',consolas,'Courier New',monospace\"><span style=\"color: #7fbfbf; text-decoration-color: #7fbfbf\">           </span><span style=\"color: #000080; text-decoration-color: #000080\">INFO    </span> Evolution: order: <span style=\"font-weight: bold\">(</span><span style=\"color: #008080; text-decoration-color: #008080; font-weight: bold\">2</span>, <span style=\"color: #008080; text-decoration-color: #008080; font-weight: bold\">0</span><span style=\"font-weight: bold\">)</span>, solution strategy: iterate-exact, use fhmruvv: <span style=\"color: #ff0000; text-decoration-color: #ff0000; font-style: italic\">False</span>  <a href=\"file:///Users/giacomomagni/.conda/envs/yad_dev/lib/python3.10/site-packages/eko/evolution_operator/__init__.py\" target=\"_blank\"><span style=\"color: #7f7f7f; text-decoration-color: #7f7f7f\">__init__.py</span></a><span style=\"color: #7f7f7f; text-decoration-color: #7f7f7f\">:</span><a href=\"file:///Users/giacomomagni/.conda/envs/yad_dev/lib/python3.10/site-packages/eko/evolution_operator/__init__.py#946\" target=\"_blank\"><span style=\"color: #7f7f7f; text-decoration-color: #7f7f7f\">946</span></a>\n",
       "</pre>\n"
      ],
      "text/plain": [
       "\u001b[2;36m          \u001b[0m\u001b[2;36m \u001b[0m\u001b[34mINFO    \u001b[0m Evolution: order: \u001b[1m(\u001b[0m\u001b[1;36m2\u001b[0m, \u001b[1;36m0\u001b[0m\u001b[1m)\u001b[0m, solution strategy: iterate-exact, use fhmruvv: \u001b[3;91mFalse\u001b[0m  \u001b]8;id=32185;file:///Users/giacomomagni/.conda/envs/yad_dev/lib/python3.10/site-packages/eko/evolution_operator/__init__.py\u001b\\\u001b[2m__init__.py\u001b[0m\u001b]8;;\u001b\\\u001b[2m:\u001b[0m\u001b]8;id=587103;file:///Users/giacomomagni/.conda/envs/yad_dev/lib/python3.10/site-packages/eko/evolution_operator/__init__.py#946\u001b\\\u001b[2m946\u001b[0m\u001b]8;;\u001b\\\n"
      ]
     },
     "metadata": {},
     "output_type": "display_data"
    },
    {
     "data": {
      "text/html": [
       "<pre style=\"white-space:pre;overflow-x:auto;line-height:normal;font-family:Menlo,'DejaVu Sans Mono',consolas,'Courier New',monospace\"><span style=\"color: #7fbfbf; text-decoration-color: #7fbfbf\">[14:04:57] </span><span style=\"color: #000080; text-decoration-color: #000080\">INFO    </span> Evolution: computing operators - <span style=\"color: #008080; text-decoration-color: #008080; font-weight: bold\">1</span>/<span style=\"color: #008080; text-decoration-color: #008080; font-weight: bold\">8</span> took: <span style=\"color: #008080; text-decoration-color: #008080; font-weight: bold\">0.520859</span> s                           <a href=\"file:///Users/giacomomagni/.conda/envs/yad_dev/lib/python3.10/site-packages/eko/evolution_operator/__init__.py\" target=\"_blank\"><span style=\"color: #7f7f7f; text-decoration-color: #7f7f7f\">__init__.py</span></a><span style=\"color: #7f7f7f; text-decoration-color: #7f7f7f\">:</span><a href=\"file:///Users/giacomomagni/.conda/envs/yad_dev/lib/python3.10/site-packages/eko/evolution_operator/__init__.py#889\" target=\"_blank\"><span style=\"color: #7f7f7f; text-decoration-color: #7f7f7f\">889</span></a>\n",
       "</pre>\n"
      ],
      "text/plain": [
       "\u001b[2;36m[14:04:57]\u001b[0m\u001b[2;36m \u001b[0m\u001b[34mINFO    \u001b[0m Evolution: computing operators - \u001b[1;36m1\u001b[0m/\u001b[1;36m8\u001b[0m took: \u001b[1;36m0.520859\u001b[0m s                           \u001b]8;id=752628;file:///Users/giacomomagni/.conda/envs/yad_dev/lib/python3.10/site-packages/eko/evolution_operator/__init__.py\u001b\\\u001b[2m__init__.py\u001b[0m\u001b]8;;\u001b\\\u001b[2m:\u001b[0m\u001b]8;id=911640;file:///Users/giacomomagni/.conda/envs/yad_dev/lib/python3.10/site-packages/eko/evolution_operator/__init__.py#889\u001b\\\u001b[2m889\u001b[0m\u001b]8;;\u001b\\\n"
      ]
     },
     "metadata": {},
     "output_type": "display_data"
    },
    {
     "data": {
      "text/html": [
       "<pre style=\"white-space:pre;overflow-x:auto;line-height:normal;font-family:Menlo,'DejaVu Sans Mono',consolas,'Courier New',monospace\"><span style=\"color: #7fbfbf; text-decoration-color: #7fbfbf\">           </span><span style=\"color: #000080; text-decoration-color: #000080\">INFO    </span> Evolution: computing operators - <span style=\"color: #008080; text-decoration-color: #008080; font-weight: bold\">2</span>/<span style=\"color: #008080; text-decoration-color: #008080; font-weight: bold\">8</span> took: <span style=\"color: #008080; text-decoration-color: #008080; font-weight: bold\">0.474488</span> s                           <a href=\"file:///Users/giacomomagni/.conda/envs/yad_dev/lib/python3.10/site-packages/eko/evolution_operator/__init__.py\" target=\"_blank\"><span style=\"color: #7f7f7f; text-decoration-color: #7f7f7f\">__init__.py</span></a><span style=\"color: #7f7f7f; text-decoration-color: #7f7f7f\">:</span><a href=\"file:///Users/giacomomagni/.conda/envs/yad_dev/lib/python3.10/site-packages/eko/evolution_operator/__init__.py#889\" target=\"_blank\"><span style=\"color: #7f7f7f; text-decoration-color: #7f7f7f\">889</span></a>\n",
       "</pre>\n"
      ],
      "text/plain": [
       "\u001b[2;36m          \u001b[0m\u001b[2;36m \u001b[0m\u001b[34mINFO    \u001b[0m Evolution: computing operators - \u001b[1;36m2\u001b[0m/\u001b[1;36m8\u001b[0m took: \u001b[1;36m0.474488\u001b[0m s                           \u001b]8;id=464451;file:///Users/giacomomagni/.conda/envs/yad_dev/lib/python3.10/site-packages/eko/evolution_operator/__init__.py\u001b\\\u001b[2m__init__.py\u001b[0m\u001b]8;;\u001b\\\u001b[2m:\u001b[0m\u001b]8;id=957987;file:///Users/giacomomagni/.conda/envs/yad_dev/lib/python3.10/site-packages/eko/evolution_operator/__init__.py#889\u001b\\\u001b[2m889\u001b[0m\u001b]8;;\u001b\\\n"
      ]
     },
     "metadata": {},
     "output_type": "display_data"
    },
    {
     "data": {
      "text/html": [
       "<pre style=\"white-space:pre;overflow-x:auto;line-height:normal;font-family:Menlo,'DejaVu Sans Mono',consolas,'Courier New',monospace\"><span style=\"color: #7fbfbf; text-decoration-color: #7fbfbf\">[14:04:58] </span><span style=\"color: #000080; text-decoration-color: #000080\">INFO    </span> Evolution: computing operators - <span style=\"color: #008080; text-decoration-color: #008080; font-weight: bold\">3</span>/<span style=\"color: #008080; text-decoration-color: #008080; font-weight: bold\">8</span> took: <span style=\"color: #008080; text-decoration-color: #008080; font-weight: bold\">0.368461</span> s                           <a href=\"file:///Users/giacomomagni/.conda/envs/yad_dev/lib/python3.10/site-packages/eko/evolution_operator/__init__.py\" target=\"_blank\"><span style=\"color: #7f7f7f; text-decoration-color: #7f7f7f\">__init__.py</span></a><span style=\"color: #7f7f7f; text-decoration-color: #7f7f7f\">:</span><a href=\"file:///Users/giacomomagni/.conda/envs/yad_dev/lib/python3.10/site-packages/eko/evolution_operator/__init__.py#889\" target=\"_blank\"><span style=\"color: #7f7f7f; text-decoration-color: #7f7f7f\">889</span></a>\n",
       "</pre>\n"
      ],
      "text/plain": [
       "\u001b[2;36m[14:04:58]\u001b[0m\u001b[2;36m \u001b[0m\u001b[34mINFO    \u001b[0m Evolution: computing operators - \u001b[1;36m3\u001b[0m/\u001b[1;36m8\u001b[0m took: \u001b[1;36m0.368461\u001b[0m s                           \u001b]8;id=153176;file:///Users/giacomomagni/.conda/envs/yad_dev/lib/python3.10/site-packages/eko/evolution_operator/__init__.py\u001b\\\u001b[2m__init__.py\u001b[0m\u001b]8;;\u001b\\\u001b[2m:\u001b[0m\u001b]8;id=318451;file:///Users/giacomomagni/.conda/envs/yad_dev/lib/python3.10/site-packages/eko/evolution_operator/__init__.py#889\u001b\\\u001b[2m889\u001b[0m\u001b]8;;\u001b\\\n"
      ]
     },
     "metadata": {},
     "output_type": "display_data"
    },
    {
     "data": {
      "text/html": [
       "<pre style=\"white-space:pre;overflow-x:auto;line-height:normal;font-family:Menlo,'DejaVu Sans Mono',consolas,'Courier New',monospace\"><span style=\"color: #7fbfbf; text-decoration-color: #7fbfbf\">           </span><span style=\"color: #000080; text-decoration-color: #000080\">INFO    </span> Evolution: computing operators - <span style=\"color: #008080; text-decoration-color: #008080; font-weight: bold\">4</span>/<span style=\"color: #008080; text-decoration-color: #008080; font-weight: bold\">8</span> took: <span style=\"color: #008080; text-decoration-color: #008080; font-weight: bold\">0.305674</span> s                           <a href=\"file:///Users/giacomomagni/.conda/envs/yad_dev/lib/python3.10/site-packages/eko/evolution_operator/__init__.py\" target=\"_blank\"><span style=\"color: #7f7f7f; text-decoration-color: #7f7f7f\">__init__.py</span></a><span style=\"color: #7f7f7f; text-decoration-color: #7f7f7f\">:</span><a href=\"file:///Users/giacomomagni/.conda/envs/yad_dev/lib/python3.10/site-packages/eko/evolution_operator/__init__.py#889\" target=\"_blank\"><span style=\"color: #7f7f7f; text-decoration-color: #7f7f7f\">889</span></a>\n",
       "</pre>\n"
      ],
      "text/plain": [
       "\u001b[2;36m          \u001b[0m\u001b[2;36m \u001b[0m\u001b[34mINFO    \u001b[0m Evolution: computing operators - \u001b[1;36m4\u001b[0m/\u001b[1;36m8\u001b[0m took: \u001b[1;36m0.305674\u001b[0m s                           \u001b]8;id=13677;file:///Users/giacomomagni/.conda/envs/yad_dev/lib/python3.10/site-packages/eko/evolution_operator/__init__.py\u001b\\\u001b[2m__init__.py\u001b[0m\u001b]8;;\u001b\\\u001b[2m:\u001b[0m\u001b]8;id=196181;file:///Users/giacomomagni/.conda/envs/yad_dev/lib/python3.10/site-packages/eko/evolution_operator/__init__.py#889\u001b\\\u001b[2m889\u001b[0m\u001b]8;;\u001b\\\n"
      ]
     },
     "metadata": {},
     "output_type": "display_data"
    },
    {
     "data": {
      "text/html": [
       "<pre style=\"white-space:pre;overflow-x:auto;line-height:normal;font-family:Menlo,'DejaVu Sans Mono',consolas,'Courier New',monospace\"><span style=\"color: #7fbfbf; text-decoration-color: #7fbfbf\">           </span><span style=\"color: #000080; text-decoration-color: #000080\">INFO    </span> Evolution: computing operators - <span style=\"color: #008080; text-decoration-color: #008080; font-weight: bold\">5</span>/<span style=\"color: #008080; text-decoration-color: #008080; font-weight: bold\">8</span> took: <span style=\"color: #008080; text-decoration-color: #008080; font-weight: bold\">0.242602</span> s                           <a href=\"file:///Users/giacomomagni/.conda/envs/yad_dev/lib/python3.10/site-packages/eko/evolution_operator/__init__.py\" target=\"_blank\"><span style=\"color: #7f7f7f; text-decoration-color: #7f7f7f\">__init__.py</span></a><span style=\"color: #7f7f7f; text-decoration-color: #7f7f7f\">:</span><a href=\"file:///Users/giacomomagni/.conda/envs/yad_dev/lib/python3.10/site-packages/eko/evolution_operator/__init__.py#889\" target=\"_blank\"><span style=\"color: #7f7f7f; text-decoration-color: #7f7f7f\">889</span></a>\n",
       "</pre>\n"
      ],
      "text/plain": [
       "\u001b[2;36m          \u001b[0m\u001b[2;36m \u001b[0m\u001b[34mINFO    \u001b[0m Evolution: computing operators - \u001b[1;36m5\u001b[0m/\u001b[1;36m8\u001b[0m took: \u001b[1;36m0.242602\u001b[0m s                           \u001b]8;id=549989;file:///Users/giacomomagni/.conda/envs/yad_dev/lib/python3.10/site-packages/eko/evolution_operator/__init__.py\u001b\\\u001b[2m__init__.py\u001b[0m\u001b]8;;\u001b\\\u001b[2m:\u001b[0m\u001b]8;id=219410;file:///Users/giacomomagni/.conda/envs/yad_dev/lib/python3.10/site-packages/eko/evolution_operator/__init__.py#889\u001b\\\u001b[2m889\u001b[0m\u001b]8;;\u001b\\\n"
      ]
     },
     "metadata": {},
     "output_type": "display_data"
    },
    {
     "data": {
      "text/html": [
       "<pre style=\"white-space:pre;overflow-x:auto;line-height:normal;font-family:Menlo,'DejaVu Sans Mono',consolas,'Courier New',monospace\"><span style=\"color: #7fbfbf; text-decoration-color: #7fbfbf\">           </span><span style=\"color: #000080; text-decoration-color: #000080\">INFO    </span> Evolution: computing operators - <span style=\"color: #008080; text-decoration-color: #008080; font-weight: bold\">6</span>/<span style=\"color: #008080; text-decoration-color: #008080; font-weight: bold\">8</span> took: <span style=\"color: #008080; text-decoration-color: #008080; font-weight: bold\">0.259579</span> s                           <a href=\"file:///Users/giacomomagni/.conda/envs/yad_dev/lib/python3.10/site-packages/eko/evolution_operator/__init__.py\" target=\"_blank\"><span style=\"color: #7f7f7f; text-decoration-color: #7f7f7f\">__init__.py</span></a><span style=\"color: #7f7f7f; text-decoration-color: #7f7f7f\">:</span><a href=\"file:///Users/giacomomagni/.conda/envs/yad_dev/lib/python3.10/site-packages/eko/evolution_operator/__init__.py#889\" target=\"_blank\"><span style=\"color: #7f7f7f; text-decoration-color: #7f7f7f\">889</span></a>\n",
       "</pre>\n"
      ],
      "text/plain": [
       "\u001b[2;36m          \u001b[0m\u001b[2;36m \u001b[0m\u001b[34mINFO    \u001b[0m Evolution: computing operators - \u001b[1;36m6\u001b[0m/\u001b[1;36m8\u001b[0m took: \u001b[1;36m0.259579\u001b[0m s                           \u001b]8;id=200305;file:///Users/giacomomagni/.conda/envs/yad_dev/lib/python3.10/site-packages/eko/evolution_operator/__init__.py\u001b\\\u001b[2m__init__.py\u001b[0m\u001b]8;;\u001b\\\u001b[2m:\u001b[0m\u001b]8;id=832078;file:///Users/giacomomagni/.conda/envs/yad_dev/lib/python3.10/site-packages/eko/evolution_operator/__init__.py#889\u001b\\\u001b[2m889\u001b[0m\u001b]8;;\u001b\\\n"
      ]
     },
     "metadata": {},
     "output_type": "display_data"
    },
    {
     "data": {
      "text/html": [
       "<pre style=\"white-space:pre;overflow-x:auto;line-height:normal;font-family:Menlo,'DejaVu Sans Mono',consolas,'Courier New',monospace\"><span style=\"color: #7fbfbf; text-decoration-color: #7fbfbf\">[14:04:59] </span><span style=\"color: #000080; text-decoration-color: #000080\">INFO    </span> Evolution: computing operators - <span style=\"color: #008080; text-decoration-color: #008080; font-weight: bold\">7</span>/<span style=\"color: #008080; text-decoration-color: #008080; font-weight: bold\">8</span> took: <span style=\"color: #008080; text-decoration-color: #008080; font-weight: bold\">0.170020</span> s                           <a href=\"file:///Users/giacomomagni/.conda/envs/yad_dev/lib/python3.10/site-packages/eko/evolution_operator/__init__.py\" target=\"_blank\"><span style=\"color: #7f7f7f; text-decoration-color: #7f7f7f\">__init__.py</span></a><span style=\"color: #7f7f7f; text-decoration-color: #7f7f7f\">:</span><a href=\"file:///Users/giacomomagni/.conda/envs/yad_dev/lib/python3.10/site-packages/eko/evolution_operator/__init__.py#889\" target=\"_blank\"><span style=\"color: #7f7f7f; text-decoration-color: #7f7f7f\">889</span></a>\n",
       "</pre>\n"
      ],
      "text/plain": [
       "\u001b[2;36m[14:04:59]\u001b[0m\u001b[2;36m \u001b[0m\u001b[34mINFO    \u001b[0m Evolution: computing operators - \u001b[1;36m7\u001b[0m/\u001b[1;36m8\u001b[0m took: \u001b[1;36m0.170020\u001b[0m s                           \u001b]8;id=32217;file:///Users/giacomomagni/.conda/envs/yad_dev/lib/python3.10/site-packages/eko/evolution_operator/__init__.py\u001b\\\u001b[2m__init__.py\u001b[0m\u001b]8;;\u001b\\\u001b[2m:\u001b[0m\u001b]8;id=851279;file:///Users/giacomomagni/.conda/envs/yad_dev/lib/python3.10/site-packages/eko/evolution_operator/__init__.py#889\u001b\\\u001b[2m889\u001b[0m\u001b]8;;\u001b\\\n"
      ]
     },
     "metadata": {},
     "output_type": "display_data"
    },
    {
     "data": {
      "text/html": [
       "<pre style=\"white-space:pre;overflow-x:auto;line-height:normal;font-family:Menlo,'DejaVu Sans Mono',consolas,'Courier New',monospace\"><span style=\"color: #7fbfbf; text-decoration-color: #7fbfbf\">           </span><span style=\"color: #000080; text-decoration-color: #000080\">INFO    </span> Evolution: computing operators - <span style=\"color: #008080; text-decoration-color: #008080; font-weight: bold\">8</span>/<span style=\"color: #008080; text-decoration-color: #008080; font-weight: bold\">8</span> took: <span style=\"color: #008080; text-decoration-color: #008080; font-weight: bold\">0.044523</span> s                           <a href=\"file:///Users/giacomomagni/.conda/envs/yad_dev/lib/python3.10/site-packages/eko/evolution_operator/__init__.py\" target=\"_blank\"><span style=\"color: #7f7f7f; text-decoration-color: #7f7f7f\">__init__.py</span></a><span style=\"color: #7f7f7f; text-decoration-color: #7f7f7f\">:</span><a href=\"file:///Users/giacomomagni/.conda/envs/yad_dev/lib/python3.10/site-packages/eko/evolution_operator/__init__.py#889\" target=\"_blank\"><span style=\"color: #7f7f7f; text-decoration-color: #7f7f7f\">889</span></a>\n",
       "</pre>\n"
      ],
      "text/plain": [
       "\u001b[2;36m          \u001b[0m\u001b[2;36m \u001b[0m\u001b[34mINFO    \u001b[0m Evolution: computing operators - \u001b[1;36m8\u001b[0m/\u001b[1;36m8\u001b[0m took: \u001b[1;36m0.044523\u001b[0m s                           \u001b]8;id=735515;file:///Users/giacomomagni/.conda/envs/yad_dev/lib/python3.10/site-packages/eko/evolution_operator/__init__.py\u001b\\\u001b[2m__init__.py\u001b[0m\u001b]8;;\u001b\\\u001b[2m:\u001b[0m\u001b]8;id=857074;file:///Users/giacomomagni/.conda/envs/yad_dev/lib/python3.10/site-packages/eko/evolution_operator/__init__.py#889\u001b\\\u001b[2m889\u001b[0m\u001b]8;;\u001b\\\n"
      ]
     },
     "metadata": {},
     "output_type": "display_data"
    },
    {
     "data": {
      "text/html": [
       "<pre style=\"white-space:pre;overflow-x:auto;line-height:normal;font-family:Menlo,'DejaVu Sans Mono',consolas,'Courier New',monospace\"><span style=\"color: #7fbfbf; text-decoration-color: #7fbfbf\">           </span><span style=\"color: #000080; text-decoration-color: #000080\">INFO    </span> Evolution: Total time <span style=\"color: #008080; text-decoration-color: #008080; font-weight: bold\">2.410921</span> s                                                <a href=\"file:///Users/giacomomagni/.conda/envs/yad_dev/lib/python3.10/site-packages/eko/evolution_operator/__init__.py\" target=\"_blank\"><span style=\"color: #7f7f7f; text-decoration-color: #7f7f7f\">__init__.py</span></a><span style=\"color: #7f7f7f; text-decoration-color: #7f7f7f\">:</span><a href=\"file:///Users/giacomomagni/.conda/envs/yad_dev/lib/python3.10/site-packages/eko/evolution_operator/__init__.py#982\" target=\"_blank\"><span style=\"color: #7f7f7f; text-decoration-color: #7f7f7f\">982</span></a>\n",
       "</pre>\n"
      ],
      "text/plain": [
       "\u001b[2;36m          \u001b[0m\u001b[2;36m \u001b[0m\u001b[34mINFO    \u001b[0m Evolution: Total time \u001b[1;36m2.410921\u001b[0m s                                                \u001b]8;id=957607;file:///Users/giacomomagni/.conda/envs/yad_dev/lib/python3.10/site-packages/eko/evolution_operator/__init__.py\u001b\\\u001b[2m__init__.py\u001b[0m\u001b]8;;\u001b\\\u001b[2m:\u001b[0m\u001b]8;id=954008;file:///Users/giacomomagni/.conda/envs/yad_dev/lib/python3.10/site-packages/eko/evolution_operator/__init__.py#982\u001b\\\u001b[2m982\u001b[0m\u001b]8;;\u001b\\\n"
      ]
     },
     "metadata": {},
     "output_type": "display_data"
    },
    {
     "data": {
      "text/html": [
       "<pre style=\"white-space:pre;overflow-x:auto;line-height:normal;font-family:Menlo,'DejaVu Sans Mono',consolas,'Courier New',monospace\"><span style=\"color: #7fbfbf; text-decoration-color: #7fbfbf\">           </span><span style=\"color: #000080; text-decoration-color: #000080\">INFO    </span> Evolution: computing operators <span style=\"color: #008080; text-decoration-color: #008080; font-weight: bold\">2.280100e+00</span> -&gt; <span style=\"color: #008080; text-decoration-color: #008080; font-weight: bold\">4.000000e+02</span>, <span style=\"color: #808000; text-decoration-color: #808000\">nf</span>=<span style=\"color: #008080; text-decoration-color: #008080; font-weight: bold\">3</span>               <a href=\"file:///Users/giacomomagni/.conda/envs/yad_dev/lib/python3.10/site-packages/eko/evolution_operator/__init__.py\" target=\"_blank\"><span style=\"color: #7f7f7f; text-decoration-color: #7f7f7f\">__init__.py</span></a><span style=\"color: #7f7f7f; text-decoration-color: #7f7f7f\">:</span><a href=\"file:///Users/giacomomagni/.conda/envs/yad_dev/lib/python3.10/site-packages/eko/evolution_operator/__init__.py#917\" target=\"_blank\"><span style=\"color: #7f7f7f; text-decoration-color: #7f7f7f\">917</span></a>\n",
       "</pre>\n"
      ],
      "text/plain": [
       "\u001b[2;36m          \u001b[0m\u001b[2;36m \u001b[0m\u001b[34mINFO    \u001b[0m Evolution: computing operators \u001b[1;36m2.280100e+00\u001b[0m -> \u001b[1;36m4.000000e+02\u001b[0m, \u001b[33mnf\u001b[0m=\u001b[1;36m3\u001b[0m               \u001b]8;id=897095;file:///Users/giacomomagni/.conda/envs/yad_dev/lib/python3.10/site-packages/eko/evolution_operator/__init__.py\u001b\\\u001b[2m__init__.py\u001b[0m\u001b]8;;\u001b\\\u001b[2m:\u001b[0m\u001b]8;id=496069;file:///Users/giacomomagni/.conda/envs/yad_dev/lib/python3.10/site-packages/eko/evolution_operator/__init__.py#917\u001b\\\u001b[2m917\u001b[0m\u001b]8;;\u001b\\\n"
      ]
     },
     "metadata": {},
     "output_type": "display_data"
    },
    {
     "data": {
      "text/html": [
       "<pre style=\"white-space:pre;overflow-x:auto;line-height:normal;font-family:Menlo,'DejaVu Sans Mono',consolas,'Courier New',monospace\"><span style=\"color: #7fbfbf; text-decoration-color: #7fbfbf\">           </span><span style=\"color: #000080; text-decoration-color: #000080\">INFO    </span> Evolution: µ_R^<span style=\"color: #008080; text-decoration-color: #008080; font-weight: bold\">2</span> distance: <span style=\"color: #008080; text-decoration-color: #008080; font-weight: bold\">2.280100e+00</span> -&gt; <span style=\"color: #008080; text-decoration-color: #008080; font-weight: bold\">4.000000e+02</span>                         <a href=\"file:///Users/giacomomagni/.conda/envs/yad_dev/lib/python3.10/site-packages/eko/evolution_operator/__init__.py\" target=\"_blank\"><span style=\"color: #7f7f7f; text-decoration-color: #7f7f7f\">__init__.py</span></a><span style=\"color: #7f7f7f; text-decoration-color: #7f7f7f\">:</span><a href=\"file:///Users/giacomomagni/.conda/envs/yad_dev/lib/python3.10/site-packages/eko/evolution_operator/__init__.py#924\" target=\"_blank\"><span style=\"color: #7f7f7f; text-decoration-color: #7f7f7f\">924</span></a>\n",
       "</pre>\n"
      ],
      "text/plain": [
       "\u001b[2;36m          \u001b[0m\u001b[2;36m \u001b[0m\u001b[34mINFO    \u001b[0m Evolution: µ_R^\u001b[1;36m2\u001b[0m distance: \u001b[1;36m2.280100e+00\u001b[0m -> \u001b[1;36m4.000000e+02\u001b[0m                         \u001b]8;id=42582;file:///Users/giacomomagni/.conda/envs/yad_dev/lib/python3.10/site-packages/eko/evolution_operator/__init__.py\u001b\\\u001b[2m__init__.py\u001b[0m\u001b]8;;\u001b\\\u001b[2m:\u001b[0m\u001b]8;id=935261;file:///Users/giacomomagni/.conda/envs/yad_dev/lib/python3.10/site-packages/eko/evolution_operator/__init__.py#924\u001b\\\u001b[2m924\u001b[0m\u001b]8;;\u001b\\\n"
      ]
     },
     "metadata": {},
     "output_type": "display_data"
    },
    {
     "data": {
      "text/html": [
       "<pre style=\"white-space:pre;overflow-x:auto;line-height:normal;font-family:Menlo,'DejaVu Sans Mono',consolas,'Courier New',monospace\"><span style=\"color: #7fbfbf; text-decoration-color: #7fbfbf\">           </span><span style=\"color: #000080; text-decoration-color: #000080\">INFO    </span> Evolution: a_s distance: <span style=\"color: #008080; text-decoration-color: #008080; font-weight: bold\">2.728162e-02</span> -&gt; <span style=\"color: #008080; text-decoration-color: #008080; font-weight: bold\">1.126961e-02</span>                           <a href=\"file:///Users/giacomomagni/.conda/envs/yad_dev/lib/python3.10/site-packages/eko/evolution_operator/__init__.py\" target=\"_blank\"><span style=\"color: #7f7f7f; text-decoration-color: #7f7f7f\">__init__.py</span></a><span style=\"color: #7f7f7f; text-decoration-color: #7f7f7f\">:</span><a href=\"file:///Users/giacomomagni/.conda/envs/yad_dev/lib/python3.10/site-packages/eko/evolution_operator/__init__.py#936\" target=\"_blank\"><span style=\"color: #7f7f7f; text-decoration-color: #7f7f7f\">936</span></a>\n",
       "</pre>\n"
      ],
      "text/plain": [
       "\u001b[2;36m          \u001b[0m\u001b[2;36m \u001b[0m\u001b[34mINFO    \u001b[0m Evolution: a_s distance: \u001b[1;36m2.728162e-02\u001b[0m -> \u001b[1;36m1.126961e-02\u001b[0m                           \u001b]8;id=454574;file:///Users/giacomomagni/.conda/envs/yad_dev/lib/python3.10/site-packages/eko/evolution_operator/__init__.py\u001b\\\u001b[2m__init__.py\u001b[0m\u001b]8;;\u001b\\\u001b[2m:\u001b[0m\u001b]8;id=666225;file:///Users/giacomomagni/.conda/envs/yad_dev/lib/python3.10/site-packages/eko/evolution_operator/__init__.py#936\u001b\\\u001b[2m936\u001b[0m\u001b]8;;\u001b\\\n"
      ]
     },
     "metadata": {},
     "output_type": "display_data"
    },
    {
     "data": {
      "text/html": [
       "<pre style=\"white-space:pre;overflow-x:auto;line-height:normal;font-family:Menlo,'DejaVu Sans Mono',consolas,'Courier New',monospace\"><span style=\"color: #7fbfbf; text-decoration-color: #7fbfbf\">           </span><span style=\"color: #000080; text-decoration-color: #000080\">INFO    </span> Evolution: order: <span style=\"font-weight: bold\">(</span><span style=\"color: #008080; text-decoration-color: #008080; font-weight: bold\">2</span>, <span style=\"color: #008080; text-decoration-color: #008080; font-weight: bold\">0</span><span style=\"font-weight: bold\">)</span>, solution strategy: iterate-exact, use fhmruvv: <span style=\"color: #ff0000; text-decoration-color: #ff0000; font-style: italic\">False</span>  <a href=\"file:///Users/giacomomagni/.conda/envs/yad_dev/lib/python3.10/site-packages/eko/evolution_operator/__init__.py\" target=\"_blank\"><span style=\"color: #7f7f7f; text-decoration-color: #7f7f7f\">__init__.py</span></a><span style=\"color: #7f7f7f; text-decoration-color: #7f7f7f\">:</span><a href=\"file:///Users/giacomomagni/.conda/envs/yad_dev/lib/python3.10/site-packages/eko/evolution_operator/__init__.py#946\" target=\"_blank\"><span style=\"color: #7f7f7f; text-decoration-color: #7f7f7f\">946</span></a>\n",
       "</pre>\n"
      ],
      "text/plain": [
       "\u001b[2;36m          \u001b[0m\u001b[2;36m \u001b[0m\u001b[34mINFO    \u001b[0m Evolution: order: \u001b[1m(\u001b[0m\u001b[1;36m2\u001b[0m, \u001b[1;36m0\u001b[0m\u001b[1m)\u001b[0m, solution strategy: iterate-exact, use fhmruvv: \u001b[3;91mFalse\u001b[0m  \u001b]8;id=499028;file:///Users/giacomomagni/.conda/envs/yad_dev/lib/python3.10/site-packages/eko/evolution_operator/__init__.py\u001b\\\u001b[2m__init__.py\u001b[0m\u001b]8;;\u001b\\\u001b[2m:\u001b[0m\u001b]8;id=131305;file:///Users/giacomomagni/.conda/envs/yad_dev/lib/python3.10/site-packages/eko/evolution_operator/__init__.py#946\u001b\\\u001b[2m946\u001b[0m\u001b]8;;\u001b\\\n"
      ]
     },
     "metadata": {},
     "output_type": "display_data"
    },
    {
     "data": {
      "text/html": [
       "<pre style=\"white-space:pre;overflow-x:auto;line-height:normal;font-family:Menlo,'DejaVu Sans Mono',consolas,'Courier New',monospace\"><span style=\"color: #7fbfbf; text-decoration-color: #7fbfbf\">           </span><span style=\"color: #000080; text-decoration-color: #000080\">INFO    </span> Evolution: computing operators - <span style=\"color: #008080; text-decoration-color: #008080; font-weight: bold\">1</span>/<span style=\"color: #008080; text-decoration-color: #008080; font-weight: bold\">8</span> took: <span style=\"color: #008080; text-decoration-color: #008080; font-weight: bold\">0.489193</span> s                           <a href=\"file:///Users/giacomomagni/.conda/envs/yad_dev/lib/python3.10/site-packages/eko/evolution_operator/__init__.py\" target=\"_blank\"><span style=\"color: #7f7f7f; text-decoration-color: #7f7f7f\">__init__.py</span></a><span style=\"color: #7f7f7f; text-decoration-color: #7f7f7f\">:</span><a href=\"file:///Users/giacomomagni/.conda/envs/yad_dev/lib/python3.10/site-packages/eko/evolution_operator/__init__.py#889\" target=\"_blank\"><span style=\"color: #7f7f7f; text-decoration-color: #7f7f7f\">889</span></a>\n",
       "</pre>\n"
      ],
      "text/plain": [
       "\u001b[2;36m          \u001b[0m\u001b[2;36m \u001b[0m\u001b[34mINFO    \u001b[0m Evolution: computing operators - \u001b[1;36m1\u001b[0m/\u001b[1;36m8\u001b[0m took: \u001b[1;36m0.489193\u001b[0m s                           \u001b]8;id=913600;file:///Users/giacomomagni/.conda/envs/yad_dev/lib/python3.10/site-packages/eko/evolution_operator/__init__.py\u001b\\\u001b[2m__init__.py\u001b[0m\u001b]8;;\u001b\\\u001b[2m:\u001b[0m\u001b]8;id=315447;file:///Users/giacomomagni/.conda/envs/yad_dev/lib/python3.10/site-packages/eko/evolution_operator/__init__.py#889\u001b\\\u001b[2m889\u001b[0m\u001b]8;;\u001b\\\n"
      ]
     },
     "metadata": {},
     "output_type": "display_data"
    },
    {
     "data": {
      "text/html": [
       "<pre style=\"white-space:pre;overflow-x:auto;line-height:normal;font-family:Menlo,'DejaVu Sans Mono',consolas,'Courier New',monospace\"><span style=\"color: #7fbfbf; text-decoration-color: #7fbfbf\">[14:05:00] </span><span style=\"color: #000080; text-decoration-color: #000080\">INFO    </span> Evolution: computing operators - <span style=\"color: #008080; text-decoration-color: #008080; font-weight: bold\">2</span>/<span style=\"color: #008080; text-decoration-color: #008080; font-weight: bold\">8</span> took: <span style=\"color: #008080; text-decoration-color: #008080; font-weight: bold\">0.487885</span> s                           <a href=\"file:///Users/giacomomagni/.conda/envs/yad_dev/lib/python3.10/site-packages/eko/evolution_operator/__init__.py\" target=\"_blank\"><span style=\"color: #7f7f7f; text-decoration-color: #7f7f7f\">__init__.py</span></a><span style=\"color: #7f7f7f; text-decoration-color: #7f7f7f\">:</span><a href=\"file:///Users/giacomomagni/.conda/envs/yad_dev/lib/python3.10/site-packages/eko/evolution_operator/__init__.py#889\" target=\"_blank\"><span style=\"color: #7f7f7f; text-decoration-color: #7f7f7f\">889</span></a>\n",
       "</pre>\n"
      ],
      "text/plain": [
       "\u001b[2;36m[14:05:00]\u001b[0m\u001b[2;36m \u001b[0m\u001b[34mINFO    \u001b[0m Evolution: computing operators - \u001b[1;36m2\u001b[0m/\u001b[1;36m8\u001b[0m took: \u001b[1;36m0.487885\u001b[0m s                           \u001b]8;id=478349;file:///Users/giacomomagni/.conda/envs/yad_dev/lib/python3.10/site-packages/eko/evolution_operator/__init__.py\u001b\\\u001b[2m__init__.py\u001b[0m\u001b]8;;\u001b\\\u001b[2m:\u001b[0m\u001b]8;id=415614;file:///Users/giacomomagni/.conda/envs/yad_dev/lib/python3.10/site-packages/eko/evolution_operator/__init__.py#889\u001b\\\u001b[2m889\u001b[0m\u001b]8;;\u001b\\\n"
      ]
     },
     "metadata": {},
     "output_type": "display_data"
    },
    {
     "data": {
      "text/html": [
       "<pre style=\"white-space:pre;overflow-x:auto;line-height:normal;font-family:Menlo,'DejaVu Sans Mono',consolas,'Courier New',monospace\"><span style=\"color: #7fbfbf; text-decoration-color: #7fbfbf\">           </span><span style=\"color: #000080; text-decoration-color: #000080\">INFO    </span> Evolution: computing operators - <span style=\"color: #008080; text-decoration-color: #008080; font-weight: bold\">3</span>/<span style=\"color: #008080; text-decoration-color: #008080; font-weight: bold\">8</span> took: <span style=\"color: #008080; text-decoration-color: #008080; font-weight: bold\">0.361602</span> s                           <a href=\"file:///Users/giacomomagni/.conda/envs/yad_dev/lib/python3.10/site-packages/eko/evolution_operator/__init__.py\" target=\"_blank\"><span style=\"color: #7f7f7f; text-decoration-color: #7f7f7f\">__init__.py</span></a><span style=\"color: #7f7f7f; text-decoration-color: #7f7f7f\">:</span><a href=\"file:///Users/giacomomagni/.conda/envs/yad_dev/lib/python3.10/site-packages/eko/evolution_operator/__init__.py#889\" target=\"_blank\"><span style=\"color: #7f7f7f; text-decoration-color: #7f7f7f\">889</span></a>\n",
       "</pre>\n"
      ],
      "text/plain": [
       "\u001b[2;36m          \u001b[0m\u001b[2;36m \u001b[0m\u001b[34mINFO    \u001b[0m Evolution: computing operators - \u001b[1;36m3\u001b[0m/\u001b[1;36m8\u001b[0m took: \u001b[1;36m0.361602\u001b[0m s                           \u001b]8;id=658512;file:///Users/giacomomagni/.conda/envs/yad_dev/lib/python3.10/site-packages/eko/evolution_operator/__init__.py\u001b\\\u001b[2m__init__.py\u001b[0m\u001b]8;;\u001b\\\u001b[2m:\u001b[0m\u001b]8;id=668572;file:///Users/giacomomagni/.conda/envs/yad_dev/lib/python3.10/site-packages/eko/evolution_operator/__init__.py#889\u001b\\\u001b[2m889\u001b[0m\u001b]8;;\u001b\\\n"
      ]
     },
     "metadata": {},
     "output_type": "display_data"
    },
    {
     "data": {
      "text/html": [
       "<pre style=\"white-space:pre;overflow-x:auto;line-height:normal;font-family:Menlo,'DejaVu Sans Mono',consolas,'Courier New',monospace\"><span style=\"color: #7fbfbf; text-decoration-color: #7fbfbf\">           </span><span style=\"color: #000080; text-decoration-color: #000080\">INFO    </span> Evolution: computing operators - <span style=\"color: #008080; text-decoration-color: #008080; font-weight: bold\">4</span>/<span style=\"color: #008080; text-decoration-color: #008080; font-weight: bold\">8</span> took: <span style=\"color: #008080; text-decoration-color: #008080; font-weight: bold\">0.299304</span> s                           <a href=\"file:///Users/giacomomagni/.conda/envs/yad_dev/lib/python3.10/site-packages/eko/evolution_operator/__init__.py\" target=\"_blank\"><span style=\"color: #7f7f7f; text-decoration-color: #7f7f7f\">__init__.py</span></a><span style=\"color: #7f7f7f; text-decoration-color: #7f7f7f\">:</span><a href=\"file:///Users/giacomomagni/.conda/envs/yad_dev/lib/python3.10/site-packages/eko/evolution_operator/__init__.py#889\" target=\"_blank\"><span style=\"color: #7f7f7f; text-decoration-color: #7f7f7f\">889</span></a>\n",
       "</pre>\n"
      ],
      "text/plain": [
       "\u001b[2;36m          \u001b[0m\u001b[2;36m \u001b[0m\u001b[34mINFO    \u001b[0m Evolution: computing operators - \u001b[1;36m4\u001b[0m/\u001b[1;36m8\u001b[0m took: \u001b[1;36m0.299304\u001b[0m s                           \u001b]8;id=261523;file:///Users/giacomomagni/.conda/envs/yad_dev/lib/python3.10/site-packages/eko/evolution_operator/__init__.py\u001b\\\u001b[2m__init__.py\u001b[0m\u001b]8;;\u001b\\\u001b[2m:\u001b[0m\u001b]8;id=741670;file:///Users/giacomomagni/.conda/envs/yad_dev/lib/python3.10/site-packages/eko/evolution_operator/__init__.py#889\u001b\\\u001b[2m889\u001b[0m\u001b]8;;\u001b\\\n"
      ]
     },
     "metadata": {},
     "output_type": "display_data"
    },
    {
     "data": {
      "text/html": [
       "<pre style=\"white-space:pre;overflow-x:auto;line-height:normal;font-family:Menlo,'DejaVu Sans Mono',consolas,'Courier New',monospace\"><span style=\"color: #7fbfbf; text-decoration-color: #7fbfbf\">[14:05:01] </span><span style=\"color: #000080; text-decoration-color: #000080\">INFO    </span> Evolution: computing operators - <span style=\"color: #008080; text-decoration-color: #008080; font-weight: bold\">5</span>/<span style=\"color: #008080; text-decoration-color: #008080; font-weight: bold\">8</span> took: <span style=\"color: #008080; text-decoration-color: #008080; font-weight: bold\">0.245183</span> s                           <a href=\"file:///Users/giacomomagni/.conda/envs/yad_dev/lib/python3.10/site-packages/eko/evolution_operator/__init__.py\" target=\"_blank\"><span style=\"color: #7f7f7f; text-decoration-color: #7f7f7f\">__init__.py</span></a><span style=\"color: #7f7f7f; text-decoration-color: #7f7f7f\">:</span><a href=\"file:///Users/giacomomagni/.conda/envs/yad_dev/lib/python3.10/site-packages/eko/evolution_operator/__init__.py#889\" target=\"_blank\"><span style=\"color: #7f7f7f; text-decoration-color: #7f7f7f\">889</span></a>\n",
       "</pre>\n"
      ],
      "text/plain": [
       "\u001b[2;36m[14:05:01]\u001b[0m\u001b[2;36m \u001b[0m\u001b[34mINFO    \u001b[0m Evolution: computing operators - \u001b[1;36m5\u001b[0m/\u001b[1;36m8\u001b[0m took: \u001b[1;36m0.245183\u001b[0m s                           \u001b]8;id=382724;file:///Users/giacomomagni/.conda/envs/yad_dev/lib/python3.10/site-packages/eko/evolution_operator/__init__.py\u001b\\\u001b[2m__init__.py\u001b[0m\u001b]8;;\u001b\\\u001b[2m:\u001b[0m\u001b]8;id=831889;file:///Users/giacomomagni/.conda/envs/yad_dev/lib/python3.10/site-packages/eko/evolution_operator/__init__.py#889\u001b\\\u001b[2m889\u001b[0m\u001b]8;;\u001b\\\n"
      ]
     },
     "metadata": {},
     "output_type": "display_data"
    },
    {
     "data": {
      "text/html": [
       "<pre style=\"white-space:pre;overflow-x:auto;line-height:normal;font-family:Menlo,'DejaVu Sans Mono',consolas,'Courier New',monospace\"><span style=\"color: #7fbfbf; text-decoration-color: #7fbfbf\">           </span><span style=\"color: #000080; text-decoration-color: #000080\">INFO    </span> Evolution: computing operators - <span style=\"color: #008080; text-decoration-color: #008080; font-weight: bold\">6</span>/<span style=\"color: #008080; text-decoration-color: #008080; font-weight: bold\">8</span> took: <span style=\"color: #008080; text-decoration-color: #008080; font-weight: bold\">0.236929</span> s                           <a href=\"file:///Users/giacomomagni/.conda/envs/yad_dev/lib/python3.10/site-packages/eko/evolution_operator/__init__.py\" target=\"_blank\"><span style=\"color: #7f7f7f; text-decoration-color: #7f7f7f\">__init__.py</span></a><span style=\"color: #7f7f7f; text-decoration-color: #7f7f7f\">:</span><a href=\"file:///Users/giacomomagni/.conda/envs/yad_dev/lib/python3.10/site-packages/eko/evolution_operator/__init__.py#889\" target=\"_blank\"><span style=\"color: #7f7f7f; text-decoration-color: #7f7f7f\">889</span></a>\n",
       "</pre>\n"
      ],
      "text/plain": [
       "\u001b[2;36m          \u001b[0m\u001b[2;36m \u001b[0m\u001b[34mINFO    \u001b[0m Evolution: computing operators - \u001b[1;36m6\u001b[0m/\u001b[1;36m8\u001b[0m took: \u001b[1;36m0.236929\u001b[0m s                           \u001b]8;id=816959;file:///Users/giacomomagni/.conda/envs/yad_dev/lib/python3.10/site-packages/eko/evolution_operator/__init__.py\u001b\\\u001b[2m__init__.py\u001b[0m\u001b]8;;\u001b\\\u001b[2m:\u001b[0m\u001b]8;id=763680;file:///Users/giacomomagni/.conda/envs/yad_dev/lib/python3.10/site-packages/eko/evolution_operator/__init__.py#889\u001b\\\u001b[2m889\u001b[0m\u001b]8;;\u001b\\\n"
      ]
     },
     "metadata": {},
     "output_type": "display_data"
    },
    {
     "data": {
      "text/html": [
       "<pre style=\"white-space:pre;overflow-x:auto;line-height:normal;font-family:Menlo,'DejaVu Sans Mono',consolas,'Courier New',monospace\"><span style=\"color: #7fbfbf; text-decoration-color: #7fbfbf\">           </span><span style=\"color: #000080; text-decoration-color: #000080\">INFO    </span> Evolution: computing operators - <span style=\"color: #008080; text-decoration-color: #008080; font-weight: bold\">7</span>/<span style=\"color: #008080; text-decoration-color: #008080; font-weight: bold\">8</span> took: <span style=\"color: #008080; text-decoration-color: #008080; font-weight: bold\">0.130366</span> s                           <a href=\"file:///Users/giacomomagni/.conda/envs/yad_dev/lib/python3.10/site-packages/eko/evolution_operator/__init__.py\" target=\"_blank\"><span style=\"color: #7f7f7f; text-decoration-color: #7f7f7f\">__init__.py</span></a><span style=\"color: #7f7f7f; text-decoration-color: #7f7f7f\">:</span><a href=\"file:///Users/giacomomagni/.conda/envs/yad_dev/lib/python3.10/site-packages/eko/evolution_operator/__init__.py#889\" target=\"_blank\"><span style=\"color: #7f7f7f; text-decoration-color: #7f7f7f\">889</span></a>\n",
       "</pre>\n"
      ],
      "text/plain": [
       "\u001b[2;36m          \u001b[0m\u001b[2;36m \u001b[0m\u001b[34mINFO    \u001b[0m Evolution: computing operators - \u001b[1;36m7\u001b[0m/\u001b[1;36m8\u001b[0m took: \u001b[1;36m0.130366\u001b[0m s                           \u001b]8;id=9492;file:///Users/giacomomagni/.conda/envs/yad_dev/lib/python3.10/site-packages/eko/evolution_operator/__init__.py\u001b\\\u001b[2m__init__.py\u001b[0m\u001b]8;;\u001b\\\u001b[2m:\u001b[0m\u001b]8;id=816944;file:///Users/giacomomagni/.conda/envs/yad_dev/lib/python3.10/site-packages/eko/evolution_operator/__init__.py#889\u001b\\\u001b[2m889\u001b[0m\u001b]8;;\u001b\\\n"
      ]
     },
     "metadata": {},
     "output_type": "display_data"
    },
    {
     "data": {
      "text/html": [
       "<pre style=\"white-space:pre;overflow-x:auto;line-height:normal;font-family:Menlo,'DejaVu Sans Mono',consolas,'Courier New',monospace\"><span style=\"color: #7fbfbf; text-decoration-color: #7fbfbf\">           </span><span style=\"color: #000080; text-decoration-color: #000080\">INFO    </span> Evolution: computing operators - <span style=\"color: #008080; text-decoration-color: #008080; font-weight: bold\">8</span>/<span style=\"color: #008080; text-decoration-color: #008080; font-weight: bold\">8</span> took: <span style=\"color: #008080; text-decoration-color: #008080; font-weight: bold\">0.044255</span> s                           <a href=\"file:///Users/giacomomagni/.conda/envs/yad_dev/lib/python3.10/site-packages/eko/evolution_operator/__init__.py\" target=\"_blank\"><span style=\"color: #7f7f7f; text-decoration-color: #7f7f7f\">__init__.py</span></a><span style=\"color: #7f7f7f; text-decoration-color: #7f7f7f\">:</span><a href=\"file:///Users/giacomomagni/.conda/envs/yad_dev/lib/python3.10/site-packages/eko/evolution_operator/__init__.py#889\" target=\"_blank\"><span style=\"color: #7f7f7f; text-decoration-color: #7f7f7f\">889</span></a>\n",
       "</pre>\n"
      ],
      "text/plain": [
       "\u001b[2;36m          \u001b[0m\u001b[2;36m \u001b[0m\u001b[34mINFO    \u001b[0m Evolution: computing operators - \u001b[1;36m8\u001b[0m/\u001b[1;36m8\u001b[0m took: \u001b[1;36m0.044255\u001b[0m s                           \u001b]8;id=341768;file:///Users/giacomomagni/.conda/envs/yad_dev/lib/python3.10/site-packages/eko/evolution_operator/__init__.py\u001b\\\u001b[2m__init__.py\u001b[0m\u001b]8;;\u001b\\\u001b[2m:\u001b[0m\u001b]8;id=82334;file:///Users/giacomomagni/.conda/envs/yad_dev/lib/python3.10/site-packages/eko/evolution_operator/__init__.py#889\u001b\\\u001b[2m889\u001b[0m\u001b]8;;\u001b\\\n"
      ]
     },
     "metadata": {},
     "output_type": "display_data"
    },
    {
     "data": {
      "text/html": [
       "<pre style=\"white-space:pre;overflow-x:auto;line-height:normal;font-family:Menlo,'DejaVu Sans Mono',consolas,'Courier New',monospace\"><span style=\"color: #7fbfbf; text-decoration-color: #7fbfbf\">           </span><span style=\"color: #000080; text-decoration-color: #000080\">INFO    </span> Evolution: Total time <span style=\"color: #008080; text-decoration-color: #008080; font-weight: bold\">2.319184</span> s                                                <a href=\"file:///Users/giacomomagni/.conda/envs/yad_dev/lib/python3.10/site-packages/eko/evolution_operator/__init__.py\" target=\"_blank\"><span style=\"color: #7f7f7f; text-decoration-color: #7f7f7f\">__init__.py</span></a><span style=\"color: #7f7f7f; text-decoration-color: #7f7f7f\">:</span><a href=\"file:///Users/giacomomagni/.conda/envs/yad_dev/lib/python3.10/site-packages/eko/evolution_operator/__init__.py#982\" target=\"_blank\"><span style=\"color: #7f7f7f; text-decoration-color: #7f7f7f\">982</span></a>\n",
       "</pre>\n"
      ],
      "text/plain": [
       "\u001b[2;36m          \u001b[0m\u001b[2;36m \u001b[0m\u001b[34mINFO    \u001b[0m Evolution: Total time \u001b[1;36m2.319184\u001b[0m s                                                \u001b]8;id=20234;file:///Users/giacomomagni/.conda/envs/yad_dev/lib/python3.10/site-packages/eko/evolution_operator/__init__.py\u001b\\\u001b[2m__init__.py\u001b[0m\u001b]8;;\u001b\\\u001b[2m:\u001b[0m\u001b]8;id=650079;file:///Users/giacomomagni/.conda/envs/yad_dev/lib/python3.10/site-packages/eko/evolution_operator/__init__.py#982\u001b\\\u001b[2m982\u001b[0m\u001b]8;;\u001b\\\n"
      ]
     },
     "metadata": {},
     "output_type": "display_data"
    },
    {
     "data": {
      "text/html": [
       "<pre style=\"white-space:pre;overflow-x:auto;line-height:normal;font-family:Menlo,'DejaVu Sans Mono',consolas,'Courier New',monospace\"><span style=\"color: #7fbfbf; text-decoration-color: #7fbfbf\">           </span><span style=\"color: #000080; text-decoration-color: #000080\">INFO    </span> Atlas <span style=\"font-weight: bold\">[</span><span style=\"color: #008080; text-decoration-color: #008080; font-weight: bold\">0.00e+00</span> - <span style=\"color: #008080; text-decoration-color: #008080; font-weight: bold\">2.28e+00</span> - <span style=\"color: #008080; text-decoration-color: #008080; font-weight: bold\">2.42e+01</span> - <span style=\"color: #008080; text-decoration-color: #008080; font-weight: bold\">2.98e+04</span> - inf<span style=\"font-weight: bold\">]</span>, <span style=\"color: #808000; text-decoration-color: #808000\">ref</span>=<span style=\"color: #008080; text-decoration-color: #008080; font-weight: bold\">8317.44</span> @ <span style=\"color: #008080; text-decoration-color: #008080; font-weight: bold\">5</span>        <a href=\"file:///Users/giacomomagni/.conda/envs/yad_dev/lib/python3.10/site-packages/eko/matchings.py\" target=\"_blank\"><span style=\"color: #7f7f7f; text-decoration-color: #7f7f7f\">matchings.py</span></a><span style=\"color: #7f7f7f; text-decoration-color: #7f7f7f\">:</span><a href=\"file:///Users/giacomomagni/.conda/envs/yad_dev/lib/python3.10/site-packages/eko/matchings.py#72\" target=\"_blank\"><span style=\"color: #7f7f7f; text-decoration-color: #7f7f7f\">72</span></a>\n",
       "</pre>\n"
      ],
      "text/plain": [
       "\u001b[2;36m          \u001b[0m\u001b[2;36m \u001b[0m\u001b[34mINFO    \u001b[0m Atlas \u001b[1m[\u001b[0m\u001b[1;36m0.00e+00\u001b[0m - \u001b[1;36m2.28e+00\u001b[0m - \u001b[1;36m2.42e+01\u001b[0m - \u001b[1;36m2.98e+04\u001b[0m - inf\u001b[1m]\u001b[0m, \u001b[33mref\u001b[0m=\u001b[1;36m8317\u001b[0m\u001b[1;36m.44\u001b[0m @ \u001b[1;36m5\u001b[0m        \u001b]8;id=110502;file:///Users/giacomomagni/.conda/envs/yad_dev/lib/python3.10/site-packages/eko/matchings.py\u001b\\\u001b[2mmatchings.py\u001b[0m\u001b]8;;\u001b\\\u001b[2m:\u001b[0m\u001b]8;id=547210;file:///Users/giacomomagni/.conda/envs/yad_dev/lib/python3.10/site-packages/eko/matchings.py#72\u001b\\\u001b[2m72\u001b[0m\u001b]8;;\u001b\\\n"
      ]
     },
     "metadata": {},
     "output_type": "display_data"
    },
    {
     "data": {
      "text/html": [
       "<pre style=\"white-space:pre;overflow-x:auto;line-height:normal;font-family:Menlo,'DejaVu Sans Mono',consolas,'Courier New',monospace\"><span style=\"color: #7fbfbf; text-decoration-color: #7fbfbf\">           </span><span style=\"color: #000080; text-decoration-color: #000080\">INFO    </span> Strong Coupling: <span style=\"color: #800080; text-decoration-color: #800080; font-weight: bold\">a_s</span><span style=\"font-weight: bold\">(</span>µ_R^<span style=\"color: #008080; text-decoration-color: #008080; font-weight: bold\">2</span>=<span style=\"color: #008080; text-decoration-color: #008080; font-weight: bold\">8317.440000</span><span style=\"font-weight: bold\">)</span>^<span style=\"font-weight: bold\">(</span><span style=\"color: #808000; text-decoration-color: #808000\">nf</span>=<span style=\"color: #008080; text-decoration-color: #008080; font-weight: bold\">5</span><span style=\"font-weight: bold\">)</span>=<span style=\"color: #008080; text-decoration-color: #008080; font-weight: bold\">0.009390</span>=<span style=\"color: #008080; text-decoration-color: #008080; font-weight: bold\">0.118000</span>/<span style=\"font-weight: bold\">(</span>4π<span style=\"font-weight: bold\">)</span>          <a href=\"file:///Users/giacomomagni/.conda/envs/yad_dev/lib/python3.10/site-packages/eko/couplings.py\" target=\"_blank\"><span style=\"color: #7f7f7f; text-decoration-color: #7f7f7f\">couplings.py</span></a><span style=\"color: #7f7f7f; text-decoration-color: #7f7f7f\">:</span><a href=\"file:///Users/giacomomagni/.conda/envs/yad_dev/lib/python3.10/site-packages/eko/couplings.py#464\" target=\"_blank\"><span style=\"color: #7f7f7f; text-decoration-color: #7f7f7f\">464</span></a>\n",
       "</pre>\n"
      ],
      "text/plain": [
       "\u001b[2;36m          \u001b[0m\u001b[2;36m \u001b[0m\u001b[34mINFO    \u001b[0m Strong Coupling: \u001b[1;35ma_s\u001b[0m\u001b[1m(\u001b[0mµ_R^\u001b[1;36m2\u001b[0m=\u001b[1;36m8317\u001b[0m\u001b[1;36m.440000\u001b[0m\u001b[1m)\u001b[0m^\u001b[1m(\u001b[0m\u001b[33mnf\u001b[0m=\u001b[1;36m5\u001b[0m\u001b[1m)\u001b[0m=\u001b[1;36m0.\u001b[0m\u001b[1;36m009390\u001b[0m=\u001b[1;36m0\u001b[0m\u001b[1;36m.118000\u001b[0m/\u001b[1m(\u001b[0m4π\u001b[1m)\u001b[0m          \u001b]8;id=787108;file:///Users/giacomomagni/.conda/envs/yad_dev/lib/python3.10/site-packages/eko/couplings.py\u001b\\\u001b[2mcouplings.py\u001b[0m\u001b]8;;\u001b\\\u001b[2m:\u001b[0m\u001b]8;id=345723;file:///Users/giacomomagni/.conda/envs/yad_dev/lib/python3.10/site-packages/eko/couplings.py#464\u001b\\\u001b[2m464\u001b[0m\u001b]8;;\u001b\\\n"
      ]
     },
     "metadata": {},
     "output_type": "display_data"
    },
    {
     "name": "stderr",
     "output_type": "stream",
     "text": [
      "Overwriting old PDF installation\n"
     ]
    },
    {
     "name": "stdout",
     "output_type": "stream",
     "text": [
      "install_pdf NNPDF40_evolved_nf3\n"
     ]
    },
    {
     "data": {
      "text/html": [
       "<pre style=\"white-space:pre;overflow-x:auto;line-height:normal;font-family:Menlo,'DejaVu Sans Mono',consolas,'Courier New',monospace\"><span style=\"color: #7fbfbf; text-decoration-color: #7fbfbf\">           </span><span style=\"color: #000080; text-decoration-color: #000080\">INFO    </span> Interpolation: number of points = <span style=\"color: #008080; text-decoration-color: #008080; font-weight: bold\">8</span>, polynomial degree = <span style=\"color: #008080; text-decoration-color: #008080; font-weight: bold\">4</span>, logarithmic =  <a href=\"file:///Users/giacomomagni/.conda/envs/yad_dev/lib/python3.10/site-packages/eko/interpolation.py\" target=\"_blank\"><span style=\"color: #7f7f7f; text-decoration-color: #7f7f7f\">interpolation.py</span></a><span style=\"color: #7f7f7f; text-decoration-color: #7f7f7f\">:</span><a href=\"file:///Users/giacomomagni/.conda/envs/yad_dev/lib/python3.10/site-packages/eko/interpolation.py#538\" target=\"_blank\"><span style=\"color: #7f7f7f; text-decoration-color: #7f7f7f\">538</span></a>\n",
       "<span style=\"color: #7fbfbf; text-decoration-color: #7fbfbf\">           </span>         <span style=\"color: #00ff00; text-decoration-color: #00ff00; font-style: italic\">True</span>                                                                       <span style=\"color: #7f7f7f; text-decoration-color: #7f7f7f\">                    </span>\n",
       "</pre>\n"
      ],
      "text/plain": [
       "\u001b[2;36m          \u001b[0m\u001b[2;36m \u001b[0m\u001b[34mINFO    \u001b[0m Interpolation: number of points = \u001b[1;36m8\u001b[0m, polynomial degree = \u001b[1;36m4\u001b[0m, logarithmic =  \u001b]8;id=241362;file:///Users/giacomomagni/.conda/envs/yad_dev/lib/python3.10/site-packages/eko/interpolation.py\u001b\\\u001b[2minterpolation.py\u001b[0m\u001b]8;;\u001b\\\u001b[2m:\u001b[0m\u001b]8;id=55918;file:///Users/giacomomagni/.conda/envs/yad_dev/lib/python3.10/site-packages/eko/interpolation.py#538\u001b\\\u001b[2m538\u001b[0m\u001b]8;;\u001b\\\n",
       "\u001b[2;36m           \u001b[0m         \u001b[3;92mTrue\u001b[0m                                                                       \u001b[2m                    \u001b[0m\n"
      ]
     },
     "metadata": {},
     "output_type": "display_data"
    },
    {
     "data": {
      "text/html": [
       "<pre style=\"white-space:pre;overflow-x:auto;line-height:normal;font-family:Menlo,'DejaVu Sans Mono',consolas,'Courier New',monospace\"><span style=\"color: #7fbfbf; text-decoration-color: #7fbfbf\">           </span><span style=\"color: #000080; text-decoration-color: #000080\">INFO    </span> Atlas <span style=\"font-weight: bold\">[</span><span style=\"color: #008080; text-decoration-color: #008080; font-weight: bold\">0.00e+00</span> - <span style=\"color: #008080; text-decoration-color: #008080; font-weight: bold\">2.28e+00</span> - <span style=\"color: #008080; text-decoration-color: #008080; font-weight: bold\">2.42e+01</span> - <span style=\"color: #008080; text-decoration-color: #008080; font-weight: bold\">2.98e+04</span> - inf<span style=\"font-weight: bold\">]</span>, <span style=\"color: #808000; text-decoration-color: #808000\">ref</span>=<span style=\"color: #008080; text-decoration-color: #008080; font-weight: bold\">2.7224999999999997</span> <a href=\"file:///Users/giacomomagni/.conda/envs/yad_dev/lib/python3.10/site-packages/eko/matchings.py\" target=\"_blank\"><span style=\"color: #7f7f7f; text-decoration-color: #7f7f7f\">matchings.py</span></a><span style=\"color: #7f7f7f; text-decoration-color: #7f7f7f\">:</span><a href=\"file:///Users/giacomomagni/.conda/envs/yad_dev/lib/python3.10/site-packages/eko/matchings.py#72\" target=\"_blank\"><span style=\"color: #7f7f7f; text-decoration-color: #7f7f7f\">72</span></a>\n",
       "<span style=\"color: #7fbfbf; text-decoration-color: #7fbfbf\">           </span>         @ <span style=\"color: #008080; text-decoration-color: #008080; font-weight: bold\">4</span>                                                                             <span style=\"color: #7f7f7f; text-decoration-color: #7f7f7f\">               </span>\n",
       "</pre>\n"
      ],
      "text/plain": [
       "\u001b[2;36m          \u001b[0m\u001b[2;36m \u001b[0m\u001b[34mINFO    \u001b[0m Atlas \u001b[1m[\u001b[0m\u001b[1;36m0.00e+00\u001b[0m - \u001b[1;36m2.28e+00\u001b[0m - \u001b[1;36m2.42e+01\u001b[0m - \u001b[1;36m2.98e+04\u001b[0m - inf\u001b[1m]\u001b[0m, \u001b[33mref\u001b[0m=\u001b[1;36m2\u001b[0m\u001b[1;36m.7224999999999997\u001b[0m \u001b]8;id=593428;file:///Users/giacomomagni/.conda/envs/yad_dev/lib/python3.10/site-packages/eko/matchings.py\u001b\\\u001b[2mmatchings.py\u001b[0m\u001b]8;;\u001b\\\u001b[2m:\u001b[0m\u001b]8;id=725784;file:///Users/giacomomagni/.conda/envs/yad_dev/lib/python3.10/site-packages/eko/matchings.py#72\u001b\\\u001b[2m72\u001b[0m\u001b]8;;\u001b\\\n",
       "\u001b[2;36m           \u001b[0m         @ \u001b[1;36m4\u001b[0m                                                                             \u001b[2m               \u001b[0m\n"
      ]
     },
     "metadata": {},
     "output_type": "display_data"
    },
    {
     "data": {
      "text/html": [
       "<pre style=\"white-space:pre;overflow-x:auto;line-height:normal;font-family:Menlo,'DejaVu Sans Mono',consolas,'Courier New',monospace\"><span style=\"color: #7fbfbf; text-decoration-color: #7fbfbf\">           </span><span style=\"color: #000080; text-decoration-color: #000080\">INFO    </span> Atlas <span style=\"font-weight: bold\">[</span><span style=\"color: #008080; text-decoration-color: #008080; font-weight: bold\">0.00e+00</span> - <span style=\"color: #008080; text-decoration-color: #008080; font-weight: bold\">2.28e+00</span> - <span style=\"color: #008080; text-decoration-color: #008080; font-weight: bold\">2.42e+01</span> - <span style=\"color: #008080; text-decoration-color: #008080; font-weight: bold\">2.98e+04</span> - inf<span style=\"font-weight: bold\">]</span>, <span style=\"color: #808000; text-decoration-color: #808000\">ref</span>=<span style=\"color: #008080; text-decoration-color: #008080; font-weight: bold\">8317.44</span> @ <span style=\"color: #008080; text-decoration-color: #008080; font-weight: bold\">5</span>        <a href=\"file:///Users/giacomomagni/.conda/envs/yad_dev/lib/python3.10/site-packages/eko/matchings.py\" target=\"_blank\"><span style=\"color: #7f7f7f; text-decoration-color: #7f7f7f\">matchings.py</span></a><span style=\"color: #7f7f7f; text-decoration-color: #7f7f7f\">:</span><a href=\"file:///Users/giacomomagni/.conda/envs/yad_dev/lib/python3.10/site-packages/eko/matchings.py#72\" target=\"_blank\"><span style=\"color: #7f7f7f; text-decoration-color: #7f7f7f\">72</span></a>\n",
       "</pre>\n"
      ],
      "text/plain": [
       "\u001b[2;36m          \u001b[0m\u001b[2;36m \u001b[0m\u001b[34mINFO    \u001b[0m Atlas \u001b[1m[\u001b[0m\u001b[1;36m0.00e+00\u001b[0m - \u001b[1;36m2.28e+00\u001b[0m - \u001b[1;36m2.42e+01\u001b[0m - \u001b[1;36m2.98e+04\u001b[0m - inf\u001b[1m]\u001b[0m, \u001b[33mref\u001b[0m=\u001b[1;36m8317\u001b[0m\u001b[1;36m.44\u001b[0m @ \u001b[1;36m5\u001b[0m        \u001b]8;id=60624;file:///Users/giacomomagni/.conda/envs/yad_dev/lib/python3.10/site-packages/eko/matchings.py\u001b\\\u001b[2mmatchings.py\u001b[0m\u001b]8;;\u001b\\\u001b[2m:\u001b[0m\u001b]8;id=402314;file:///Users/giacomomagni/.conda/envs/yad_dev/lib/python3.10/site-packages/eko/matchings.py#72\u001b\\\u001b[2m72\u001b[0m\u001b]8;;\u001b\\\n"
      ]
     },
     "metadata": {},
     "output_type": "display_data"
    },
    {
     "data": {
      "text/html": [
       "<pre style=\"white-space:pre;overflow-x:auto;line-height:normal;font-family:Menlo,'DejaVu Sans Mono',consolas,'Courier New',monospace\"><span style=\"color: #7fbfbf; text-decoration-color: #7fbfbf\">           </span><span style=\"color: #000080; text-decoration-color: #000080\">INFO    </span> Strong Coupling: <span style=\"color: #800080; text-decoration-color: #800080; font-weight: bold\">a_s</span><span style=\"font-weight: bold\">(</span>µ_R^<span style=\"color: #008080; text-decoration-color: #008080; font-weight: bold\">2</span>=<span style=\"color: #008080; text-decoration-color: #008080; font-weight: bold\">8317.440000</span><span style=\"font-weight: bold\">)</span>^<span style=\"font-weight: bold\">(</span><span style=\"color: #808000; text-decoration-color: #808000\">nf</span>=<span style=\"color: #008080; text-decoration-color: #008080; font-weight: bold\">5</span><span style=\"font-weight: bold\">)</span>=<span style=\"color: #008080; text-decoration-color: #008080; font-weight: bold\">0.009390</span>=<span style=\"color: #008080; text-decoration-color: #008080; font-weight: bold\">0.118000</span>/<span style=\"font-weight: bold\">(</span>4π<span style=\"font-weight: bold\">)</span>          <a href=\"file:///Users/giacomomagni/.conda/envs/yad_dev/lib/python3.10/site-packages/eko/couplings.py\" target=\"_blank\"><span style=\"color: #7f7f7f; text-decoration-color: #7f7f7f\">couplings.py</span></a><span style=\"color: #7f7f7f; text-decoration-color: #7f7f7f\">:</span><a href=\"file:///Users/giacomomagni/.conda/envs/yad_dev/lib/python3.10/site-packages/eko/couplings.py#464\" target=\"_blank\"><span style=\"color: #7f7f7f; text-decoration-color: #7f7f7f\">464</span></a>\n",
       "</pre>\n"
      ],
      "text/plain": [
       "\u001b[2;36m          \u001b[0m\u001b[2;36m \u001b[0m\u001b[34mINFO    \u001b[0m Strong Coupling: \u001b[1;35ma_s\u001b[0m\u001b[1m(\u001b[0mµ_R^\u001b[1;36m2\u001b[0m=\u001b[1;36m8317\u001b[0m\u001b[1;36m.440000\u001b[0m\u001b[1m)\u001b[0m^\u001b[1m(\u001b[0m\u001b[33mnf\u001b[0m=\u001b[1;36m5\u001b[0m\u001b[1m)\u001b[0m=\u001b[1;36m0.\u001b[0m\u001b[1;36m009390\u001b[0m=\u001b[1;36m0\u001b[0m\u001b[1;36m.118000\u001b[0m/\u001b[1m(\u001b[0m4π\u001b[1m)\u001b[0m          \u001b]8;id=540913;file:///Users/giacomomagni/.conda/envs/yad_dev/lib/python3.10/site-packages/eko/couplings.py\u001b\\\u001b[2mcouplings.py\u001b[0m\u001b]8;;\u001b\\\u001b[2m:\u001b[0m\u001b]8;id=711030;file:///Users/giacomomagni/.conda/envs/yad_dev/lib/python3.10/site-packages/eko/couplings.py#464\u001b\\\u001b[2m464\u001b[0m\u001b]8;;\u001b\\\n"
      ]
     },
     "metadata": {},
     "output_type": "display_data"
    },
    {
     "data": {
      "text/html": [
       "<pre style=\"white-space:pre;overflow-x:auto;line-height:normal;font-family:Menlo,'DejaVu Sans Mono',consolas,'Courier New',monospace\"><span style=\"color: #7fbfbf; text-decoration-color: #7fbfbf\">           </span><span style=\"color: #000080; text-decoration-color: #000080\">INFO    </span> <span style=\"font-weight: bold\">{</span><span style=\"color: #008000; text-decoration-color: #008000\">'polarized'</span>: <span style=\"color: #ff0000; text-decoration-color: #ff0000; font-style: italic\">False</span><span style=\"font-weight: bold\">}</span>                                                                 <a href=\"file:///Users/giacomomagni/.conda/envs/yad_dev/lib/python3.10/site-packages/eko/evolution_operator/grid.py\" target=\"_blank\"><span style=\"color: #7f7f7f; text-decoration-color: #7f7f7f\">grid.py</span></a><span style=\"color: #7f7f7f; text-decoration-color: #7f7f7f\">:</span><a href=\"file:///Users/giacomomagni/.conda/envs/yad_dev/lib/python3.10/site-packages/eko/evolution_operator/grid.py#93\" target=\"_blank\"><span style=\"color: #7f7f7f; text-decoration-color: #7f7f7f\">93</span></a>\n",
       "</pre>\n"
      ],
      "text/plain": [
       "\u001b[2;36m          \u001b[0m\u001b[2;36m \u001b[0m\u001b[34mINFO    \u001b[0m \u001b[1m{\u001b[0m\u001b[32m'polarized'\u001b[0m: \u001b[3;91mFalse\u001b[0m\u001b[1m}\u001b[0m                                                                 \u001b]8;id=206581;file:///Users/giacomomagni/.conda/envs/yad_dev/lib/python3.10/site-packages/eko/evolution_operator/grid.py\u001b\\\u001b[2mgrid.py\u001b[0m\u001b]8;;\u001b\\\u001b[2m:\u001b[0m\u001b]8;id=936150;file:///Users/giacomomagni/.conda/envs/yad_dev/lib/python3.10/site-packages/eko/evolution_operator/grid.py#93\u001b\\\u001b[2m93\u001b[0m\u001b]8;;\u001b\\\n"
      ]
     },
     "metadata": {},
     "output_type": "display_data"
    },
    {
     "data": {
      "text/html": [
       "<pre style=\"white-space:pre;overflow-x:auto;line-height:normal;font-family:Menlo,'DejaVu Sans Mono',consolas,'Courier New',monospace\"><span style=\"color: #7fbfbf; text-decoration-color: #7fbfbf\">           </span><span style=\"color: #000080; text-decoration-color: #000080\">INFO    </span> <span style=\"font-weight: bold\">{</span><span style=\"color: #008000; text-decoration-color: #008000\">'time_like'</span>: <span style=\"color: #ff0000; text-decoration-color: #ff0000; font-style: italic\">False</span><span style=\"font-weight: bold\">}</span>                                                                 <a href=\"file:///Users/giacomomagni/.conda/envs/yad_dev/lib/python3.10/site-packages/eko/evolution_operator/grid.py\" target=\"_blank\"><span style=\"color: #7f7f7f; text-decoration-color: #7f7f7f\">grid.py</span></a><span style=\"color: #7f7f7f; text-decoration-color: #7f7f7f\">:</span><a href=\"file:///Users/giacomomagni/.conda/envs/yad_dev/lib/python3.10/site-packages/eko/evolution_operator/grid.py#94\" target=\"_blank\"><span style=\"color: #7f7f7f; text-decoration-color: #7f7f7f\">94</span></a>\n",
       "</pre>\n"
      ],
      "text/plain": [
       "\u001b[2;36m          \u001b[0m\u001b[2;36m \u001b[0m\u001b[34mINFO    \u001b[0m \u001b[1m{\u001b[0m\u001b[32m'time_like'\u001b[0m: \u001b[3;91mFalse\u001b[0m\u001b[1m}\u001b[0m                                                                 \u001b]8;id=657096;file:///Users/giacomomagni/.conda/envs/yad_dev/lib/python3.10/site-packages/eko/evolution_operator/grid.py\u001b\\\u001b[2mgrid.py\u001b[0m\u001b]8;;\u001b\\\u001b[2m:\u001b[0m\u001b]8;id=173631;file:///Users/giacomomagni/.conda/envs/yad_dev/lib/python3.10/site-packages/eko/evolution_operator/grid.py#94\u001b\\\u001b[2m94\u001b[0m\u001b]8;;\u001b\\\n"
      ]
     },
     "metadata": {},
     "output_type": "display_data"
    },
    {
     "data": {
      "text/html": [
       "<pre style=\"white-space:pre;overflow-x:auto;line-height:normal;font-family:Menlo,'DejaVu Sans Mono',consolas,'Courier New',monospace\"><span style=\"color: #7fbfbf; text-decoration-color: #7fbfbf\">           </span><span style=\"color: #000080; text-decoration-color: #000080\">INFO    </span> Evolution: computing operators <span style=\"color: #008080; text-decoration-color: #008080; font-weight: bold\">2.722500e+00</span> -&gt; <span style=\"color: #008080; text-decoration-color: #008080; font-weight: bold\">1.000000e+02</span>, <span style=\"color: #808000; text-decoration-color: #808000\">nf</span>=<span style=\"color: #008080; text-decoration-color: #008080; font-weight: bold\">4</span>               <a href=\"file:///Users/giacomomagni/.conda/envs/yad_dev/lib/python3.10/site-packages/eko/evolution_operator/__init__.py\" target=\"_blank\"><span style=\"color: #7f7f7f; text-decoration-color: #7f7f7f\">__init__.py</span></a><span style=\"color: #7f7f7f; text-decoration-color: #7f7f7f\">:</span><a href=\"file:///Users/giacomomagni/.conda/envs/yad_dev/lib/python3.10/site-packages/eko/evolution_operator/__init__.py#917\" target=\"_blank\"><span style=\"color: #7f7f7f; text-decoration-color: #7f7f7f\">917</span></a>\n",
       "</pre>\n"
      ],
      "text/plain": [
       "\u001b[2;36m          \u001b[0m\u001b[2;36m \u001b[0m\u001b[34mINFO    \u001b[0m Evolution: computing operators \u001b[1;36m2.722500e+00\u001b[0m -> \u001b[1;36m1.000000e+02\u001b[0m, \u001b[33mnf\u001b[0m=\u001b[1;36m4\u001b[0m               \u001b]8;id=617873;file:///Users/giacomomagni/.conda/envs/yad_dev/lib/python3.10/site-packages/eko/evolution_operator/__init__.py\u001b\\\u001b[2m__init__.py\u001b[0m\u001b]8;;\u001b\\\u001b[2m:\u001b[0m\u001b]8;id=727833;file:///Users/giacomomagni/.conda/envs/yad_dev/lib/python3.10/site-packages/eko/evolution_operator/__init__.py#917\u001b\\\u001b[2m917\u001b[0m\u001b]8;;\u001b\\\n"
      ]
     },
     "metadata": {},
     "output_type": "display_data"
    },
    {
     "data": {
      "text/html": [
       "<pre style=\"white-space:pre;overflow-x:auto;line-height:normal;font-family:Menlo,'DejaVu Sans Mono',consolas,'Courier New',monospace\"><span style=\"color: #7fbfbf; text-decoration-color: #7fbfbf\">           </span><span style=\"color: #000080; text-decoration-color: #000080\">INFO    </span> Evolution: µ_R^<span style=\"color: #008080; text-decoration-color: #008080; font-weight: bold\">2</span> distance: <span style=\"color: #008080; text-decoration-color: #008080; font-weight: bold\">2.722500e+00</span> -&gt; <span style=\"color: #008080; text-decoration-color: #008080; font-weight: bold\">1.000000e+02</span>                         <a href=\"file:///Users/giacomomagni/.conda/envs/yad_dev/lib/python3.10/site-packages/eko/evolution_operator/__init__.py\" target=\"_blank\"><span style=\"color: #7f7f7f; text-decoration-color: #7f7f7f\">__init__.py</span></a><span style=\"color: #7f7f7f; text-decoration-color: #7f7f7f\">:</span><a href=\"file:///Users/giacomomagni/.conda/envs/yad_dev/lib/python3.10/site-packages/eko/evolution_operator/__init__.py#924\" target=\"_blank\"><span style=\"color: #7f7f7f; text-decoration-color: #7f7f7f\">924</span></a>\n",
       "</pre>\n"
      ],
      "text/plain": [
       "\u001b[2;36m          \u001b[0m\u001b[2;36m \u001b[0m\u001b[34mINFO    \u001b[0m Evolution: µ_R^\u001b[1;36m2\u001b[0m distance: \u001b[1;36m2.722500e+00\u001b[0m -> \u001b[1;36m1.000000e+02\u001b[0m                         \u001b]8;id=138509;file:///Users/giacomomagni/.conda/envs/yad_dev/lib/python3.10/site-packages/eko/evolution_operator/__init__.py\u001b\\\u001b[2m__init__.py\u001b[0m\u001b]8;;\u001b\\\u001b[2m:\u001b[0m\u001b]8;id=656077;file:///Users/giacomomagni/.conda/envs/yad_dev/lib/python3.10/site-packages/eko/evolution_operator/__init__.py#924\u001b\\\u001b[2m924\u001b[0m\u001b]8;;\u001b\\\n"
      ]
     },
     "metadata": {},
     "output_type": "display_data"
    },
    {
     "data": {
      "text/html": [
       "<pre style=\"white-space:pre;overflow-x:auto;line-height:normal;font-family:Menlo,'DejaVu Sans Mono',consolas,'Courier New',monospace\"><span style=\"color: #7fbfbf; text-decoration-color: #7fbfbf\">           </span><span style=\"color: #000080; text-decoration-color: #000080\">INFO    </span> Evolution: a_s distance: <span style=\"color: #008080; text-decoration-color: #008080; font-weight: bold\">2.605852e-02</span> -&gt; <span style=\"color: #008080; text-decoration-color: #008080; font-weight: bold\">1.391613e-02</span>                           <a href=\"file:///Users/giacomomagni/.conda/envs/yad_dev/lib/python3.10/site-packages/eko/evolution_operator/__init__.py\" target=\"_blank\"><span style=\"color: #7f7f7f; text-decoration-color: #7f7f7f\">__init__.py</span></a><span style=\"color: #7f7f7f; text-decoration-color: #7f7f7f\">:</span><a href=\"file:///Users/giacomomagni/.conda/envs/yad_dev/lib/python3.10/site-packages/eko/evolution_operator/__init__.py#936\" target=\"_blank\"><span style=\"color: #7f7f7f; text-decoration-color: #7f7f7f\">936</span></a>\n",
       "</pre>\n"
      ],
      "text/plain": [
       "\u001b[2;36m          \u001b[0m\u001b[2;36m \u001b[0m\u001b[34mINFO    \u001b[0m Evolution: a_s distance: \u001b[1;36m2.605852e-02\u001b[0m -> \u001b[1;36m1.391613e-02\u001b[0m                           \u001b]8;id=906720;file:///Users/giacomomagni/.conda/envs/yad_dev/lib/python3.10/site-packages/eko/evolution_operator/__init__.py\u001b\\\u001b[2m__init__.py\u001b[0m\u001b]8;;\u001b\\\u001b[2m:\u001b[0m\u001b]8;id=894744;file:///Users/giacomomagni/.conda/envs/yad_dev/lib/python3.10/site-packages/eko/evolution_operator/__init__.py#936\u001b\\\u001b[2m936\u001b[0m\u001b]8;;\u001b\\\n"
      ]
     },
     "metadata": {},
     "output_type": "display_data"
    },
    {
     "data": {
      "text/html": [
       "<pre style=\"white-space:pre;overflow-x:auto;line-height:normal;font-family:Menlo,'DejaVu Sans Mono',consolas,'Courier New',monospace\"><span style=\"color: #7fbfbf; text-decoration-color: #7fbfbf\">           </span><span style=\"color: #000080; text-decoration-color: #000080\">INFO    </span> Evolution: order: <span style=\"font-weight: bold\">(</span><span style=\"color: #008080; text-decoration-color: #008080; font-weight: bold\">2</span>, <span style=\"color: #008080; text-decoration-color: #008080; font-weight: bold\">0</span><span style=\"font-weight: bold\">)</span>, solution strategy: iterate-exact, use fhmruvv: <span style=\"color: #ff0000; text-decoration-color: #ff0000; font-style: italic\">False</span>  <a href=\"file:///Users/giacomomagni/.conda/envs/yad_dev/lib/python3.10/site-packages/eko/evolution_operator/__init__.py\" target=\"_blank\"><span style=\"color: #7f7f7f; text-decoration-color: #7f7f7f\">__init__.py</span></a><span style=\"color: #7f7f7f; text-decoration-color: #7f7f7f\">:</span><a href=\"file:///Users/giacomomagni/.conda/envs/yad_dev/lib/python3.10/site-packages/eko/evolution_operator/__init__.py#946\" target=\"_blank\"><span style=\"color: #7f7f7f; text-decoration-color: #7f7f7f\">946</span></a>\n",
       "</pre>\n"
      ],
      "text/plain": [
       "\u001b[2;36m          \u001b[0m\u001b[2;36m \u001b[0m\u001b[34mINFO    \u001b[0m Evolution: order: \u001b[1m(\u001b[0m\u001b[1;36m2\u001b[0m, \u001b[1;36m0\u001b[0m\u001b[1m)\u001b[0m, solution strategy: iterate-exact, use fhmruvv: \u001b[3;91mFalse\u001b[0m  \u001b]8;id=617245;file:///Users/giacomomagni/.conda/envs/yad_dev/lib/python3.10/site-packages/eko/evolution_operator/__init__.py\u001b\\\u001b[2m__init__.py\u001b[0m\u001b]8;;\u001b\\\u001b[2m:\u001b[0m\u001b]8;id=541279;file:///Users/giacomomagni/.conda/envs/yad_dev/lib/python3.10/site-packages/eko/evolution_operator/__init__.py#946\u001b\\\u001b[2m946\u001b[0m\u001b]8;;\u001b\\\n"
      ]
     },
     "metadata": {},
     "output_type": "display_data"
    },
    {
     "data": {
      "text/html": [
       "<pre style=\"white-space:pre;overflow-x:auto;line-height:normal;font-family:Menlo,'DejaVu Sans Mono',consolas,'Courier New',monospace\"><span style=\"color: #7fbfbf; text-decoration-color: #7fbfbf\">[14:05:02] </span><span style=\"color: #000080; text-decoration-color: #000080\">INFO    </span> Evolution: computing operators - <span style=\"color: #008080; text-decoration-color: #008080; font-weight: bold\">1</span>/<span style=\"color: #008080; text-decoration-color: #008080; font-weight: bold\">8</span> took: <span style=\"color: #008080; text-decoration-color: #008080; font-weight: bold\">0.503588</span> s                           <a href=\"file:///Users/giacomomagni/.conda/envs/yad_dev/lib/python3.10/site-packages/eko/evolution_operator/__init__.py\" target=\"_blank\"><span style=\"color: #7f7f7f; text-decoration-color: #7f7f7f\">__init__.py</span></a><span style=\"color: #7f7f7f; text-decoration-color: #7f7f7f\">:</span><a href=\"file:///Users/giacomomagni/.conda/envs/yad_dev/lib/python3.10/site-packages/eko/evolution_operator/__init__.py#889\" target=\"_blank\"><span style=\"color: #7f7f7f; text-decoration-color: #7f7f7f\">889</span></a>\n",
       "</pre>\n"
      ],
      "text/plain": [
       "\u001b[2;36m[14:05:02]\u001b[0m\u001b[2;36m \u001b[0m\u001b[34mINFO    \u001b[0m Evolution: computing operators - \u001b[1;36m1\u001b[0m/\u001b[1;36m8\u001b[0m took: \u001b[1;36m0.503588\u001b[0m s                           \u001b]8;id=439592;file:///Users/giacomomagni/.conda/envs/yad_dev/lib/python3.10/site-packages/eko/evolution_operator/__init__.py\u001b\\\u001b[2m__init__.py\u001b[0m\u001b]8;;\u001b\\\u001b[2m:\u001b[0m\u001b]8;id=16599;file:///Users/giacomomagni/.conda/envs/yad_dev/lib/python3.10/site-packages/eko/evolution_operator/__init__.py#889\u001b\\\u001b[2m889\u001b[0m\u001b]8;;\u001b\\\n"
      ]
     },
     "metadata": {},
     "output_type": "display_data"
    },
    {
     "data": {
      "text/html": [
       "<pre style=\"white-space:pre;overflow-x:auto;line-height:normal;font-family:Menlo,'DejaVu Sans Mono',consolas,'Courier New',monospace\"><span style=\"color: #7fbfbf; text-decoration-color: #7fbfbf\">           </span><span style=\"color: #000080; text-decoration-color: #000080\">INFO    </span> Evolution: computing operators - <span style=\"color: #008080; text-decoration-color: #008080; font-weight: bold\">2</span>/<span style=\"color: #008080; text-decoration-color: #008080; font-weight: bold\">8</span> took: <span style=\"color: #008080; text-decoration-color: #008080; font-weight: bold\">0.467237</span> s                           <a href=\"file:///Users/giacomomagni/.conda/envs/yad_dev/lib/python3.10/site-packages/eko/evolution_operator/__init__.py\" target=\"_blank\"><span style=\"color: #7f7f7f; text-decoration-color: #7f7f7f\">__init__.py</span></a><span style=\"color: #7f7f7f; text-decoration-color: #7f7f7f\">:</span><a href=\"file:///Users/giacomomagni/.conda/envs/yad_dev/lib/python3.10/site-packages/eko/evolution_operator/__init__.py#889\" target=\"_blank\"><span style=\"color: #7f7f7f; text-decoration-color: #7f7f7f\">889</span></a>\n",
       "</pre>\n"
      ],
      "text/plain": [
       "\u001b[2;36m          \u001b[0m\u001b[2;36m \u001b[0m\u001b[34mINFO    \u001b[0m Evolution: computing operators - \u001b[1;36m2\u001b[0m/\u001b[1;36m8\u001b[0m took: \u001b[1;36m0.467237\u001b[0m s                           \u001b]8;id=76600;file:///Users/giacomomagni/.conda/envs/yad_dev/lib/python3.10/site-packages/eko/evolution_operator/__init__.py\u001b\\\u001b[2m__init__.py\u001b[0m\u001b]8;;\u001b\\\u001b[2m:\u001b[0m\u001b]8;id=257829;file:///Users/giacomomagni/.conda/envs/yad_dev/lib/python3.10/site-packages/eko/evolution_operator/__init__.py#889\u001b\\\u001b[2m889\u001b[0m\u001b]8;;\u001b\\\n"
      ]
     },
     "metadata": {},
     "output_type": "display_data"
    },
    {
     "data": {
      "text/html": [
       "<pre style=\"white-space:pre;overflow-x:auto;line-height:normal;font-family:Menlo,'DejaVu Sans Mono',consolas,'Courier New',monospace\"><span style=\"color: #7fbfbf; text-decoration-color: #7fbfbf\">[14:05:03] </span><span style=\"color: #000080; text-decoration-color: #000080\">INFO    </span> Evolution: computing operators - <span style=\"color: #008080; text-decoration-color: #008080; font-weight: bold\">3</span>/<span style=\"color: #008080; text-decoration-color: #008080; font-weight: bold\">8</span> took: <span style=\"color: #008080; text-decoration-color: #008080; font-weight: bold\">0.372259</span> s                           <a href=\"file:///Users/giacomomagni/.conda/envs/yad_dev/lib/python3.10/site-packages/eko/evolution_operator/__init__.py\" target=\"_blank\"><span style=\"color: #7f7f7f; text-decoration-color: #7f7f7f\">__init__.py</span></a><span style=\"color: #7f7f7f; text-decoration-color: #7f7f7f\">:</span><a href=\"file:///Users/giacomomagni/.conda/envs/yad_dev/lib/python3.10/site-packages/eko/evolution_operator/__init__.py#889\" target=\"_blank\"><span style=\"color: #7f7f7f; text-decoration-color: #7f7f7f\">889</span></a>\n",
       "</pre>\n"
      ],
      "text/plain": [
       "\u001b[2;36m[14:05:03]\u001b[0m\u001b[2;36m \u001b[0m\u001b[34mINFO    \u001b[0m Evolution: computing operators - \u001b[1;36m3\u001b[0m/\u001b[1;36m8\u001b[0m took: \u001b[1;36m0.372259\u001b[0m s                           \u001b]8;id=751739;file:///Users/giacomomagni/.conda/envs/yad_dev/lib/python3.10/site-packages/eko/evolution_operator/__init__.py\u001b\\\u001b[2m__init__.py\u001b[0m\u001b]8;;\u001b\\\u001b[2m:\u001b[0m\u001b]8;id=259000;file:///Users/giacomomagni/.conda/envs/yad_dev/lib/python3.10/site-packages/eko/evolution_operator/__init__.py#889\u001b\\\u001b[2m889\u001b[0m\u001b]8;;\u001b\\\n"
      ]
     },
     "metadata": {},
     "output_type": "display_data"
    },
    {
     "data": {
      "text/html": [
       "<pre style=\"white-space:pre;overflow-x:auto;line-height:normal;font-family:Menlo,'DejaVu Sans Mono',consolas,'Courier New',monospace\"><span style=\"color: #7fbfbf; text-decoration-color: #7fbfbf\">           </span><span style=\"color: #000080; text-decoration-color: #000080\">INFO    </span> Evolution: computing operators - <span style=\"color: #008080; text-decoration-color: #008080; font-weight: bold\">4</span>/<span style=\"color: #008080; text-decoration-color: #008080; font-weight: bold\">8</span> took: <span style=\"color: #008080; text-decoration-color: #008080; font-weight: bold\">0.304517</span> s                           <a href=\"file:///Users/giacomomagni/.conda/envs/yad_dev/lib/python3.10/site-packages/eko/evolution_operator/__init__.py\" target=\"_blank\"><span style=\"color: #7f7f7f; text-decoration-color: #7f7f7f\">__init__.py</span></a><span style=\"color: #7f7f7f; text-decoration-color: #7f7f7f\">:</span><a href=\"file:///Users/giacomomagni/.conda/envs/yad_dev/lib/python3.10/site-packages/eko/evolution_operator/__init__.py#889\" target=\"_blank\"><span style=\"color: #7f7f7f; text-decoration-color: #7f7f7f\">889</span></a>\n",
       "</pre>\n"
      ],
      "text/plain": [
       "\u001b[2;36m          \u001b[0m\u001b[2;36m \u001b[0m\u001b[34mINFO    \u001b[0m Evolution: computing operators - \u001b[1;36m4\u001b[0m/\u001b[1;36m8\u001b[0m took: \u001b[1;36m0.304517\u001b[0m s                           \u001b]8;id=837677;file:///Users/giacomomagni/.conda/envs/yad_dev/lib/python3.10/site-packages/eko/evolution_operator/__init__.py\u001b\\\u001b[2m__init__.py\u001b[0m\u001b]8;;\u001b\\\u001b[2m:\u001b[0m\u001b]8;id=796932;file:///Users/giacomomagni/.conda/envs/yad_dev/lib/python3.10/site-packages/eko/evolution_operator/__init__.py#889\u001b\\\u001b[2m889\u001b[0m\u001b]8;;\u001b\\\n"
      ]
     },
     "metadata": {},
     "output_type": "display_data"
    },
    {
     "data": {
      "text/html": [
       "<pre style=\"white-space:pre;overflow-x:auto;line-height:normal;font-family:Menlo,'DejaVu Sans Mono',consolas,'Courier New',monospace\"><span style=\"color: #7fbfbf; text-decoration-color: #7fbfbf\">           </span><span style=\"color: #000080; text-decoration-color: #000080\">INFO    </span> Evolution: computing operators - <span style=\"color: #008080; text-decoration-color: #008080; font-weight: bold\">5</span>/<span style=\"color: #008080; text-decoration-color: #008080; font-weight: bold\">8</span> took: <span style=\"color: #008080; text-decoration-color: #008080; font-weight: bold\">0.244366</span> s                           <a href=\"file:///Users/giacomomagni/.conda/envs/yad_dev/lib/python3.10/site-packages/eko/evolution_operator/__init__.py\" target=\"_blank\"><span style=\"color: #7f7f7f; text-decoration-color: #7f7f7f\">__init__.py</span></a><span style=\"color: #7f7f7f; text-decoration-color: #7f7f7f\">:</span><a href=\"file:///Users/giacomomagni/.conda/envs/yad_dev/lib/python3.10/site-packages/eko/evolution_operator/__init__.py#889\" target=\"_blank\"><span style=\"color: #7f7f7f; text-decoration-color: #7f7f7f\">889</span></a>\n",
       "</pre>\n"
      ],
      "text/plain": [
       "\u001b[2;36m          \u001b[0m\u001b[2;36m \u001b[0m\u001b[34mINFO    \u001b[0m Evolution: computing operators - \u001b[1;36m5\u001b[0m/\u001b[1;36m8\u001b[0m took: \u001b[1;36m0.244366\u001b[0m s                           \u001b]8;id=92569;file:///Users/giacomomagni/.conda/envs/yad_dev/lib/python3.10/site-packages/eko/evolution_operator/__init__.py\u001b\\\u001b[2m__init__.py\u001b[0m\u001b]8;;\u001b\\\u001b[2m:\u001b[0m\u001b]8;id=155125;file:///Users/giacomomagni/.conda/envs/yad_dev/lib/python3.10/site-packages/eko/evolution_operator/__init__.py#889\u001b\\\u001b[2m889\u001b[0m\u001b]8;;\u001b\\\n"
      ]
     },
     "metadata": {},
     "output_type": "display_data"
    },
    {
     "data": {
      "text/html": [
       "<pre style=\"white-space:pre;overflow-x:auto;line-height:normal;font-family:Menlo,'DejaVu Sans Mono',consolas,'Courier New',monospace\"><span style=\"color: #7fbfbf; text-decoration-color: #7fbfbf\">           </span><span style=\"color: #000080; text-decoration-color: #000080\">INFO    </span> Evolution: computing operators - <span style=\"color: #008080; text-decoration-color: #008080; font-weight: bold\">6</span>/<span style=\"color: #008080; text-decoration-color: #008080; font-weight: bold\">8</span> took: <span style=\"color: #008080; text-decoration-color: #008080; font-weight: bold\">0.233347</span> s                           <a href=\"file:///Users/giacomomagni/.conda/envs/yad_dev/lib/python3.10/site-packages/eko/evolution_operator/__init__.py\" target=\"_blank\"><span style=\"color: #7f7f7f; text-decoration-color: #7f7f7f\">__init__.py</span></a><span style=\"color: #7f7f7f; text-decoration-color: #7f7f7f\">:</span><a href=\"file:///Users/giacomomagni/.conda/envs/yad_dev/lib/python3.10/site-packages/eko/evolution_operator/__init__.py#889\" target=\"_blank\"><span style=\"color: #7f7f7f; text-decoration-color: #7f7f7f\">889</span></a>\n",
       "</pre>\n"
      ],
      "text/plain": [
       "\u001b[2;36m          \u001b[0m\u001b[2;36m \u001b[0m\u001b[34mINFO    \u001b[0m Evolution: computing operators - \u001b[1;36m6\u001b[0m/\u001b[1;36m8\u001b[0m took: \u001b[1;36m0.233347\u001b[0m s                           \u001b]8;id=558170;file:///Users/giacomomagni/.conda/envs/yad_dev/lib/python3.10/site-packages/eko/evolution_operator/__init__.py\u001b\\\u001b[2m__init__.py\u001b[0m\u001b]8;;\u001b\\\u001b[2m:\u001b[0m\u001b]8;id=247114;file:///Users/giacomomagni/.conda/envs/yad_dev/lib/python3.10/site-packages/eko/evolution_operator/__init__.py#889\u001b\\\u001b[2m889\u001b[0m\u001b]8;;\u001b\\\n"
      ]
     },
     "metadata": {},
     "output_type": "display_data"
    },
    {
     "data": {
      "text/html": [
       "<pre style=\"white-space:pre;overflow-x:auto;line-height:normal;font-family:Menlo,'DejaVu Sans Mono',consolas,'Courier New',monospace\"><span style=\"color: #7fbfbf; text-decoration-color: #7fbfbf\">[14:05:04] </span><span style=\"color: #000080; text-decoration-color: #000080\">INFO    </span> Evolution: computing operators - <span style=\"color: #008080; text-decoration-color: #008080; font-weight: bold\">7</span>/<span style=\"color: #008080; text-decoration-color: #008080; font-weight: bold\">8</span> took: <span style=\"color: #008080; text-decoration-color: #008080; font-weight: bold\">0.152178</span> s                           <a href=\"file:///Users/giacomomagni/.conda/envs/yad_dev/lib/python3.10/site-packages/eko/evolution_operator/__init__.py\" target=\"_blank\"><span style=\"color: #7f7f7f; text-decoration-color: #7f7f7f\">__init__.py</span></a><span style=\"color: #7f7f7f; text-decoration-color: #7f7f7f\">:</span><a href=\"file:///Users/giacomomagni/.conda/envs/yad_dev/lib/python3.10/site-packages/eko/evolution_operator/__init__.py#889\" target=\"_blank\"><span style=\"color: #7f7f7f; text-decoration-color: #7f7f7f\">889</span></a>\n",
       "</pre>\n"
      ],
      "text/plain": [
       "\u001b[2;36m[14:05:04]\u001b[0m\u001b[2;36m \u001b[0m\u001b[34mINFO    \u001b[0m Evolution: computing operators - \u001b[1;36m7\u001b[0m/\u001b[1;36m8\u001b[0m took: \u001b[1;36m0.152178\u001b[0m s                           \u001b]8;id=221271;file:///Users/giacomomagni/.conda/envs/yad_dev/lib/python3.10/site-packages/eko/evolution_operator/__init__.py\u001b\\\u001b[2m__init__.py\u001b[0m\u001b]8;;\u001b\\\u001b[2m:\u001b[0m\u001b]8;id=269202;file:///Users/giacomomagni/.conda/envs/yad_dev/lib/python3.10/site-packages/eko/evolution_operator/__init__.py#889\u001b\\\u001b[2m889\u001b[0m\u001b]8;;\u001b\\\n"
      ]
     },
     "metadata": {},
     "output_type": "display_data"
    },
    {
     "data": {
      "text/html": [
       "<pre style=\"white-space:pre;overflow-x:auto;line-height:normal;font-family:Menlo,'DejaVu Sans Mono',consolas,'Courier New',monospace\"><span style=\"color: #7fbfbf; text-decoration-color: #7fbfbf\">           </span><span style=\"color: #000080; text-decoration-color: #000080\">INFO    </span> Evolution: computing operators - <span style=\"color: #008080; text-decoration-color: #008080; font-weight: bold\">8</span>/<span style=\"color: #008080; text-decoration-color: #008080; font-weight: bold\">8</span> took: <span style=\"color: #008080; text-decoration-color: #008080; font-weight: bold\">0.040807</span> s                           <a href=\"file:///Users/giacomomagni/.conda/envs/yad_dev/lib/python3.10/site-packages/eko/evolution_operator/__init__.py\" target=\"_blank\"><span style=\"color: #7f7f7f; text-decoration-color: #7f7f7f\">__init__.py</span></a><span style=\"color: #7f7f7f; text-decoration-color: #7f7f7f\">:</span><a href=\"file:///Users/giacomomagni/.conda/envs/yad_dev/lib/python3.10/site-packages/eko/evolution_operator/__init__.py#889\" target=\"_blank\"><span style=\"color: #7f7f7f; text-decoration-color: #7f7f7f\">889</span></a>\n",
       "</pre>\n"
      ],
      "text/plain": [
       "\u001b[2;36m          \u001b[0m\u001b[2;36m \u001b[0m\u001b[34mINFO    \u001b[0m Evolution: computing operators - \u001b[1;36m8\u001b[0m/\u001b[1;36m8\u001b[0m took: \u001b[1;36m0.040807\u001b[0m s                           \u001b]8;id=761804;file:///Users/giacomomagni/.conda/envs/yad_dev/lib/python3.10/site-packages/eko/evolution_operator/__init__.py\u001b\\\u001b[2m__init__.py\u001b[0m\u001b]8;;\u001b\\\u001b[2m:\u001b[0m\u001b]8;id=52154;file:///Users/giacomomagni/.conda/envs/yad_dev/lib/python3.10/site-packages/eko/evolution_operator/__init__.py#889\u001b\\\u001b[2m889\u001b[0m\u001b]8;;\u001b\\\n"
      ]
     },
     "metadata": {},
     "output_type": "display_data"
    },
    {
     "data": {
      "text/html": [
       "<pre style=\"white-space:pre;overflow-x:auto;line-height:normal;font-family:Menlo,'DejaVu Sans Mono',consolas,'Courier New',monospace\"><span style=\"color: #7fbfbf; text-decoration-color: #7fbfbf\">           </span><span style=\"color: #000080; text-decoration-color: #000080\">INFO    </span> Evolution: Total time <span style=\"color: #008080; text-decoration-color: #008080; font-weight: bold\">2.344434</span> s                                                <a href=\"file:///Users/giacomomagni/.conda/envs/yad_dev/lib/python3.10/site-packages/eko/evolution_operator/__init__.py\" target=\"_blank\"><span style=\"color: #7f7f7f; text-decoration-color: #7f7f7f\">__init__.py</span></a><span style=\"color: #7f7f7f; text-decoration-color: #7f7f7f\">:</span><a href=\"file:///Users/giacomomagni/.conda/envs/yad_dev/lib/python3.10/site-packages/eko/evolution_operator/__init__.py#982\" target=\"_blank\"><span style=\"color: #7f7f7f; text-decoration-color: #7f7f7f\">982</span></a>\n",
       "</pre>\n"
      ],
      "text/plain": [
       "\u001b[2;36m          \u001b[0m\u001b[2;36m \u001b[0m\u001b[34mINFO    \u001b[0m Evolution: Total time \u001b[1;36m2.344434\u001b[0m s                                                \u001b]8;id=908938;file:///Users/giacomomagni/.conda/envs/yad_dev/lib/python3.10/site-packages/eko/evolution_operator/__init__.py\u001b\\\u001b[2m__init__.py\u001b[0m\u001b]8;;\u001b\\\u001b[2m:\u001b[0m\u001b]8;id=545608;file:///Users/giacomomagni/.conda/envs/yad_dev/lib/python3.10/site-packages/eko/evolution_operator/__init__.py#982\u001b\\\u001b[2m982\u001b[0m\u001b]8;;\u001b\\\n"
      ]
     },
     "metadata": {},
     "output_type": "display_data"
    },
    {
     "data": {
      "text/html": [
       "<pre style=\"white-space:pre;overflow-x:auto;line-height:normal;font-family:Menlo,'DejaVu Sans Mono',consolas,'Courier New',monospace\"><span style=\"color: #7fbfbf; text-decoration-color: #7fbfbf\">           </span><span style=\"color: #000080; text-decoration-color: #000080\">INFO    </span> Evolution: computing operators <span style=\"color: #008080; text-decoration-color: #008080; font-weight: bold\">2.722500e+00</span> -&gt; <span style=\"color: #008080; text-decoration-color: #008080; font-weight: bold\">2.250000e+02</span>, <span style=\"color: #808000; text-decoration-color: #808000\">nf</span>=<span style=\"color: #008080; text-decoration-color: #008080; font-weight: bold\">4</span>               <a href=\"file:///Users/giacomomagni/.conda/envs/yad_dev/lib/python3.10/site-packages/eko/evolution_operator/__init__.py\" target=\"_blank\"><span style=\"color: #7f7f7f; text-decoration-color: #7f7f7f\">__init__.py</span></a><span style=\"color: #7f7f7f; text-decoration-color: #7f7f7f\">:</span><a href=\"file:///Users/giacomomagni/.conda/envs/yad_dev/lib/python3.10/site-packages/eko/evolution_operator/__init__.py#917\" target=\"_blank\"><span style=\"color: #7f7f7f; text-decoration-color: #7f7f7f\">917</span></a>\n",
       "</pre>\n"
      ],
      "text/plain": [
       "\u001b[2;36m          \u001b[0m\u001b[2;36m \u001b[0m\u001b[34mINFO    \u001b[0m Evolution: computing operators \u001b[1;36m2.722500e+00\u001b[0m -> \u001b[1;36m2.250000e+02\u001b[0m, \u001b[33mnf\u001b[0m=\u001b[1;36m4\u001b[0m               \u001b]8;id=830644;file:///Users/giacomomagni/.conda/envs/yad_dev/lib/python3.10/site-packages/eko/evolution_operator/__init__.py\u001b\\\u001b[2m__init__.py\u001b[0m\u001b]8;;\u001b\\\u001b[2m:\u001b[0m\u001b]8;id=199322;file:///Users/giacomomagni/.conda/envs/yad_dev/lib/python3.10/site-packages/eko/evolution_operator/__init__.py#917\u001b\\\u001b[2m917\u001b[0m\u001b]8;;\u001b\\\n"
      ]
     },
     "metadata": {},
     "output_type": "display_data"
    },
    {
     "data": {
      "text/html": [
       "<pre style=\"white-space:pre;overflow-x:auto;line-height:normal;font-family:Menlo,'DejaVu Sans Mono',consolas,'Courier New',monospace\"><span style=\"color: #7fbfbf; text-decoration-color: #7fbfbf\">           </span><span style=\"color: #000080; text-decoration-color: #000080\">INFO    </span> Evolution: µ_R^<span style=\"color: #008080; text-decoration-color: #008080; font-weight: bold\">2</span> distance: <span style=\"color: #008080; text-decoration-color: #008080; font-weight: bold\">2.722500e+00</span> -&gt; <span style=\"color: #008080; text-decoration-color: #008080; font-weight: bold\">2.250000e+02</span>                         <a href=\"file:///Users/giacomomagni/.conda/envs/yad_dev/lib/python3.10/site-packages/eko/evolution_operator/__init__.py\" target=\"_blank\"><span style=\"color: #7f7f7f; text-decoration-color: #7f7f7f\">__init__.py</span></a><span style=\"color: #7f7f7f; text-decoration-color: #7f7f7f\">:</span><a href=\"file:///Users/giacomomagni/.conda/envs/yad_dev/lib/python3.10/site-packages/eko/evolution_operator/__init__.py#924\" target=\"_blank\"><span style=\"color: #7f7f7f; text-decoration-color: #7f7f7f\">924</span></a>\n",
       "</pre>\n"
      ],
      "text/plain": [
       "\u001b[2;36m          \u001b[0m\u001b[2;36m \u001b[0m\u001b[34mINFO    \u001b[0m Evolution: µ_R^\u001b[1;36m2\u001b[0m distance: \u001b[1;36m2.722500e+00\u001b[0m -> \u001b[1;36m2.250000e+02\u001b[0m                         \u001b]8;id=34794;file:///Users/giacomomagni/.conda/envs/yad_dev/lib/python3.10/site-packages/eko/evolution_operator/__init__.py\u001b\\\u001b[2m__init__.py\u001b[0m\u001b]8;;\u001b\\\u001b[2m:\u001b[0m\u001b]8;id=701997;file:///Users/giacomomagni/.conda/envs/yad_dev/lib/python3.10/site-packages/eko/evolution_operator/__init__.py#924\u001b\\\u001b[2m924\u001b[0m\u001b]8;;\u001b\\\n"
      ]
     },
     "metadata": {},
     "output_type": "display_data"
    },
    {
     "data": {
      "text/html": [
       "<pre style=\"white-space:pre;overflow-x:auto;line-height:normal;font-family:Menlo,'DejaVu Sans Mono',consolas,'Courier New',monospace\"><span style=\"color: #7fbfbf; text-decoration-color: #7fbfbf\">           </span><span style=\"color: #000080; text-decoration-color: #000080\">INFO    </span> Evolution: a_s distance: <span style=\"color: #008080; text-decoration-color: #008080; font-weight: bold\">2.605852e-02</span> -&gt; <span style=\"color: #008080; text-decoration-color: #008080; font-weight: bold\">1.263129e-02</span>                           <a href=\"file:///Users/giacomomagni/.conda/envs/yad_dev/lib/python3.10/site-packages/eko/evolution_operator/__init__.py\" target=\"_blank\"><span style=\"color: #7f7f7f; text-decoration-color: #7f7f7f\">__init__.py</span></a><span style=\"color: #7f7f7f; text-decoration-color: #7f7f7f\">:</span><a href=\"file:///Users/giacomomagni/.conda/envs/yad_dev/lib/python3.10/site-packages/eko/evolution_operator/__init__.py#936\" target=\"_blank\"><span style=\"color: #7f7f7f; text-decoration-color: #7f7f7f\">936</span></a>\n",
       "</pre>\n"
      ],
      "text/plain": [
       "\u001b[2;36m          \u001b[0m\u001b[2;36m \u001b[0m\u001b[34mINFO    \u001b[0m Evolution: a_s distance: \u001b[1;36m2.605852e-02\u001b[0m -> \u001b[1;36m1.263129e-02\u001b[0m                           \u001b]8;id=649686;file:///Users/giacomomagni/.conda/envs/yad_dev/lib/python3.10/site-packages/eko/evolution_operator/__init__.py\u001b\\\u001b[2m__init__.py\u001b[0m\u001b]8;;\u001b\\\u001b[2m:\u001b[0m\u001b]8;id=755142;file:///Users/giacomomagni/.conda/envs/yad_dev/lib/python3.10/site-packages/eko/evolution_operator/__init__.py#936\u001b\\\u001b[2m936\u001b[0m\u001b]8;;\u001b\\\n"
      ]
     },
     "metadata": {},
     "output_type": "display_data"
    },
    {
     "data": {
      "text/html": [
       "<pre style=\"white-space:pre;overflow-x:auto;line-height:normal;font-family:Menlo,'DejaVu Sans Mono',consolas,'Courier New',monospace\"><span style=\"color: #7fbfbf; text-decoration-color: #7fbfbf\">           </span><span style=\"color: #000080; text-decoration-color: #000080\">INFO    </span> Evolution: order: <span style=\"font-weight: bold\">(</span><span style=\"color: #008080; text-decoration-color: #008080; font-weight: bold\">2</span>, <span style=\"color: #008080; text-decoration-color: #008080; font-weight: bold\">0</span><span style=\"font-weight: bold\">)</span>, solution strategy: iterate-exact, use fhmruvv: <span style=\"color: #ff0000; text-decoration-color: #ff0000; font-style: italic\">False</span>  <a href=\"file:///Users/giacomomagni/.conda/envs/yad_dev/lib/python3.10/site-packages/eko/evolution_operator/__init__.py\" target=\"_blank\"><span style=\"color: #7f7f7f; text-decoration-color: #7f7f7f\">__init__.py</span></a><span style=\"color: #7f7f7f; text-decoration-color: #7f7f7f\">:</span><a href=\"file:///Users/giacomomagni/.conda/envs/yad_dev/lib/python3.10/site-packages/eko/evolution_operator/__init__.py#946\" target=\"_blank\"><span style=\"color: #7f7f7f; text-decoration-color: #7f7f7f\">946</span></a>\n",
       "</pre>\n"
      ],
      "text/plain": [
       "\u001b[2;36m          \u001b[0m\u001b[2;36m \u001b[0m\u001b[34mINFO    \u001b[0m Evolution: order: \u001b[1m(\u001b[0m\u001b[1;36m2\u001b[0m, \u001b[1;36m0\u001b[0m\u001b[1m)\u001b[0m, solution strategy: iterate-exact, use fhmruvv: \u001b[3;91mFalse\u001b[0m  \u001b]8;id=623698;file:///Users/giacomomagni/.conda/envs/yad_dev/lib/python3.10/site-packages/eko/evolution_operator/__init__.py\u001b\\\u001b[2m__init__.py\u001b[0m\u001b]8;;\u001b\\\u001b[2m:\u001b[0m\u001b]8;id=580752;file:///Users/giacomomagni/.conda/envs/yad_dev/lib/python3.10/site-packages/eko/evolution_operator/__init__.py#946\u001b\\\u001b[2m946\u001b[0m\u001b]8;;\u001b\\\n"
      ]
     },
     "metadata": {},
     "output_type": "display_data"
    },
    {
     "data": {
      "text/html": [
       "<pre style=\"white-space:pre;overflow-x:auto;line-height:normal;font-family:Menlo,'DejaVu Sans Mono',consolas,'Courier New',monospace\"><span style=\"color: #7fbfbf; text-decoration-color: #7fbfbf\">           </span><span style=\"color: #000080; text-decoration-color: #000080\">INFO    </span> Evolution: computing operators - <span style=\"color: #008080; text-decoration-color: #008080; font-weight: bold\">1</span>/<span style=\"color: #008080; text-decoration-color: #008080; font-weight: bold\">8</span> took: <span style=\"color: #008080; text-decoration-color: #008080; font-weight: bold\">0.496140</span> s                           <a href=\"file:///Users/giacomomagni/.conda/envs/yad_dev/lib/python3.10/site-packages/eko/evolution_operator/__init__.py\" target=\"_blank\"><span style=\"color: #7f7f7f; text-decoration-color: #7f7f7f\">__init__.py</span></a><span style=\"color: #7f7f7f; text-decoration-color: #7f7f7f\">:</span><a href=\"file:///Users/giacomomagni/.conda/envs/yad_dev/lib/python3.10/site-packages/eko/evolution_operator/__init__.py#889\" target=\"_blank\"><span style=\"color: #7f7f7f; text-decoration-color: #7f7f7f\">889</span></a>\n",
       "</pre>\n"
      ],
      "text/plain": [
       "\u001b[2;36m          \u001b[0m\u001b[2;36m \u001b[0m\u001b[34mINFO    \u001b[0m Evolution: computing operators - \u001b[1;36m1\u001b[0m/\u001b[1;36m8\u001b[0m took: \u001b[1;36m0.496140\u001b[0m s                           \u001b]8;id=594196;file:///Users/giacomomagni/.conda/envs/yad_dev/lib/python3.10/site-packages/eko/evolution_operator/__init__.py\u001b\\\u001b[2m__init__.py\u001b[0m\u001b]8;;\u001b\\\u001b[2m:\u001b[0m\u001b]8;id=461195;file:///Users/giacomomagni/.conda/envs/yad_dev/lib/python3.10/site-packages/eko/evolution_operator/__init__.py#889\u001b\\\u001b[2m889\u001b[0m\u001b]8;;\u001b\\\n"
      ]
     },
     "metadata": {},
     "output_type": "display_data"
    },
    {
     "data": {
      "text/html": [
       "<pre style=\"white-space:pre;overflow-x:auto;line-height:normal;font-family:Menlo,'DejaVu Sans Mono',consolas,'Courier New',monospace\"><span style=\"color: #7fbfbf; text-decoration-color: #7fbfbf\">[14:05:05] </span><span style=\"color: #000080; text-decoration-color: #000080\">INFO    </span> Evolution: computing operators - <span style=\"color: #008080; text-decoration-color: #008080; font-weight: bold\">2</span>/<span style=\"color: #008080; text-decoration-color: #008080; font-weight: bold\">8</span> took: <span style=\"color: #008080; text-decoration-color: #008080; font-weight: bold\">0.469966</span> s                           <a href=\"file:///Users/giacomomagni/.conda/envs/yad_dev/lib/python3.10/site-packages/eko/evolution_operator/__init__.py\" target=\"_blank\"><span style=\"color: #7f7f7f; text-decoration-color: #7f7f7f\">__init__.py</span></a><span style=\"color: #7f7f7f; text-decoration-color: #7f7f7f\">:</span><a href=\"file:///Users/giacomomagni/.conda/envs/yad_dev/lib/python3.10/site-packages/eko/evolution_operator/__init__.py#889\" target=\"_blank\"><span style=\"color: #7f7f7f; text-decoration-color: #7f7f7f\">889</span></a>\n",
       "</pre>\n"
      ],
      "text/plain": [
       "\u001b[2;36m[14:05:05]\u001b[0m\u001b[2;36m \u001b[0m\u001b[34mINFO    \u001b[0m Evolution: computing operators - \u001b[1;36m2\u001b[0m/\u001b[1;36m8\u001b[0m took: \u001b[1;36m0.469966\u001b[0m s                           \u001b]8;id=677064;file:///Users/giacomomagni/.conda/envs/yad_dev/lib/python3.10/site-packages/eko/evolution_operator/__init__.py\u001b\\\u001b[2m__init__.py\u001b[0m\u001b]8;;\u001b\\\u001b[2m:\u001b[0m\u001b]8;id=654210;file:///Users/giacomomagni/.conda/envs/yad_dev/lib/python3.10/site-packages/eko/evolution_operator/__init__.py#889\u001b\\\u001b[2m889\u001b[0m\u001b]8;;\u001b\\\n"
      ]
     },
     "metadata": {},
     "output_type": "display_data"
    },
    {
     "data": {
      "text/html": [
       "<pre style=\"white-space:pre;overflow-x:auto;line-height:normal;font-family:Menlo,'DejaVu Sans Mono',consolas,'Courier New',monospace\"><span style=\"color: #7fbfbf; text-decoration-color: #7fbfbf\">           </span><span style=\"color: #000080; text-decoration-color: #000080\">INFO    </span> Evolution: computing operators - <span style=\"color: #008080; text-decoration-color: #008080; font-weight: bold\">3</span>/<span style=\"color: #008080; text-decoration-color: #008080; font-weight: bold\">8</span> took: <span style=\"color: #008080; text-decoration-color: #008080; font-weight: bold\">0.370249</span> s                           <a href=\"file:///Users/giacomomagni/.conda/envs/yad_dev/lib/python3.10/site-packages/eko/evolution_operator/__init__.py\" target=\"_blank\"><span style=\"color: #7f7f7f; text-decoration-color: #7f7f7f\">__init__.py</span></a><span style=\"color: #7f7f7f; text-decoration-color: #7f7f7f\">:</span><a href=\"file:///Users/giacomomagni/.conda/envs/yad_dev/lib/python3.10/site-packages/eko/evolution_operator/__init__.py#889\" target=\"_blank\"><span style=\"color: #7f7f7f; text-decoration-color: #7f7f7f\">889</span></a>\n",
       "</pre>\n"
      ],
      "text/plain": [
       "\u001b[2;36m          \u001b[0m\u001b[2;36m \u001b[0m\u001b[34mINFO    \u001b[0m Evolution: computing operators - \u001b[1;36m3\u001b[0m/\u001b[1;36m8\u001b[0m took: \u001b[1;36m0.370249\u001b[0m s                           \u001b]8;id=518758;file:///Users/giacomomagni/.conda/envs/yad_dev/lib/python3.10/site-packages/eko/evolution_operator/__init__.py\u001b\\\u001b[2m__init__.py\u001b[0m\u001b]8;;\u001b\\\u001b[2m:\u001b[0m\u001b]8;id=285045;file:///Users/giacomomagni/.conda/envs/yad_dev/lib/python3.10/site-packages/eko/evolution_operator/__init__.py#889\u001b\\\u001b[2m889\u001b[0m\u001b]8;;\u001b\\\n"
      ]
     },
     "metadata": {},
     "output_type": "display_data"
    },
    {
     "data": {
      "text/html": [
       "<pre style=\"white-space:pre;overflow-x:auto;line-height:normal;font-family:Menlo,'DejaVu Sans Mono',consolas,'Courier New',monospace\"><span style=\"color: #7fbfbf; text-decoration-color: #7fbfbf\">           </span><span style=\"color: #000080; text-decoration-color: #000080\">INFO    </span> Evolution: computing operators - <span style=\"color: #008080; text-decoration-color: #008080; font-weight: bold\">4</span>/<span style=\"color: #008080; text-decoration-color: #008080; font-weight: bold\">8</span> took: <span style=\"color: #008080; text-decoration-color: #008080; font-weight: bold\">0.305357</span> s                           <a href=\"file:///Users/giacomomagni/.conda/envs/yad_dev/lib/python3.10/site-packages/eko/evolution_operator/__init__.py\" target=\"_blank\"><span style=\"color: #7f7f7f; text-decoration-color: #7f7f7f\">__init__.py</span></a><span style=\"color: #7f7f7f; text-decoration-color: #7f7f7f\">:</span><a href=\"file:///Users/giacomomagni/.conda/envs/yad_dev/lib/python3.10/site-packages/eko/evolution_operator/__init__.py#889\" target=\"_blank\"><span style=\"color: #7f7f7f; text-decoration-color: #7f7f7f\">889</span></a>\n",
       "</pre>\n"
      ],
      "text/plain": [
       "\u001b[2;36m          \u001b[0m\u001b[2;36m \u001b[0m\u001b[34mINFO    \u001b[0m Evolution: computing operators - \u001b[1;36m4\u001b[0m/\u001b[1;36m8\u001b[0m took: \u001b[1;36m0.305357\u001b[0m s                           \u001b]8;id=287583;file:///Users/giacomomagni/.conda/envs/yad_dev/lib/python3.10/site-packages/eko/evolution_operator/__init__.py\u001b\\\u001b[2m__init__.py\u001b[0m\u001b]8;;\u001b\\\u001b[2m:\u001b[0m\u001b]8;id=282235;file:///Users/giacomomagni/.conda/envs/yad_dev/lib/python3.10/site-packages/eko/evolution_operator/__init__.py#889\u001b\\\u001b[2m889\u001b[0m\u001b]8;;\u001b\\\n"
      ]
     },
     "metadata": {},
     "output_type": "display_data"
    },
    {
     "data": {
      "text/html": [
       "<pre style=\"white-space:pre;overflow-x:auto;line-height:normal;font-family:Menlo,'DejaVu Sans Mono',consolas,'Courier New',monospace\"><span style=\"color: #7fbfbf; text-decoration-color: #7fbfbf\">[14:05:06] </span><span style=\"color: #000080; text-decoration-color: #000080\">INFO    </span> Evolution: computing operators - <span style=\"color: #008080; text-decoration-color: #008080; font-weight: bold\">5</span>/<span style=\"color: #008080; text-decoration-color: #008080; font-weight: bold\">8</span> took: <span style=\"color: #008080; text-decoration-color: #008080; font-weight: bold\">0.282817</span> s                           <a href=\"file:///Users/giacomomagni/.conda/envs/yad_dev/lib/python3.10/site-packages/eko/evolution_operator/__init__.py\" target=\"_blank\"><span style=\"color: #7f7f7f; text-decoration-color: #7f7f7f\">__init__.py</span></a><span style=\"color: #7f7f7f; text-decoration-color: #7f7f7f\">:</span><a href=\"file:///Users/giacomomagni/.conda/envs/yad_dev/lib/python3.10/site-packages/eko/evolution_operator/__init__.py#889\" target=\"_blank\"><span style=\"color: #7f7f7f; text-decoration-color: #7f7f7f\">889</span></a>\n",
       "</pre>\n"
      ],
      "text/plain": [
       "\u001b[2;36m[14:05:06]\u001b[0m\u001b[2;36m \u001b[0m\u001b[34mINFO    \u001b[0m Evolution: computing operators - \u001b[1;36m5\u001b[0m/\u001b[1;36m8\u001b[0m took: \u001b[1;36m0.282817\u001b[0m s                           \u001b]8;id=96921;file:///Users/giacomomagni/.conda/envs/yad_dev/lib/python3.10/site-packages/eko/evolution_operator/__init__.py\u001b\\\u001b[2m__init__.py\u001b[0m\u001b]8;;\u001b\\\u001b[2m:\u001b[0m\u001b]8;id=633362;file:///Users/giacomomagni/.conda/envs/yad_dev/lib/python3.10/site-packages/eko/evolution_operator/__init__.py#889\u001b\\\u001b[2m889\u001b[0m\u001b]8;;\u001b\\\n"
      ]
     },
     "metadata": {},
     "output_type": "display_data"
    },
    {
     "data": {
      "text/html": [
       "<pre style=\"white-space:pre;overflow-x:auto;line-height:normal;font-family:Menlo,'DejaVu Sans Mono',consolas,'Courier New',monospace\"><span style=\"color: #7fbfbf; text-decoration-color: #7fbfbf\">           </span><span style=\"color: #000080; text-decoration-color: #000080\">INFO    </span> Evolution: computing operators - <span style=\"color: #008080; text-decoration-color: #008080; font-weight: bold\">6</span>/<span style=\"color: #008080; text-decoration-color: #008080; font-weight: bold\">8</span> took: <span style=\"color: #008080; text-decoration-color: #008080; font-weight: bold\">0.241917</span> s                           <a href=\"file:///Users/giacomomagni/.conda/envs/yad_dev/lib/python3.10/site-packages/eko/evolution_operator/__init__.py\" target=\"_blank\"><span style=\"color: #7f7f7f; text-decoration-color: #7f7f7f\">__init__.py</span></a><span style=\"color: #7f7f7f; text-decoration-color: #7f7f7f\">:</span><a href=\"file:///Users/giacomomagni/.conda/envs/yad_dev/lib/python3.10/site-packages/eko/evolution_operator/__init__.py#889\" target=\"_blank\"><span style=\"color: #7f7f7f; text-decoration-color: #7f7f7f\">889</span></a>\n",
       "</pre>\n"
      ],
      "text/plain": [
       "\u001b[2;36m          \u001b[0m\u001b[2;36m \u001b[0m\u001b[34mINFO    \u001b[0m Evolution: computing operators - \u001b[1;36m6\u001b[0m/\u001b[1;36m8\u001b[0m took: \u001b[1;36m0.241917\u001b[0m s                           \u001b]8;id=635847;file:///Users/giacomomagni/.conda/envs/yad_dev/lib/python3.10/site-packages/eko/evolution_operator/__init__.py\u001b\\\u001b[2m__init__.py\u001b[0m\u001b]8;;\u001b\\\u001b[2m:\u001b[0m\u001b]8;id=559305;file:///Users/giacomomagni/.conda/envs/yad_dev/lib/python3.10/site-packages/eko/evolution_operator/__init__.py#889\u001b\\\u001b[2m889\u001b[0m\u001b]8;;\u001b\\\n"
      ]
     },
     "metadata": {},
     "output_type": "display_data"
    },
    {
     "data": {
      "text/html": [
       "<pre style=\"white-space:pre;overflow-x:auto;line-height:normal;font-family:Menlo,'DejaVu Sans Mono',consolas,'Courier New',monospace\"><span style=\"color: #7fbfbf; text-decoration-color: #7fbfbf\">           </span><span style=\"color: #000080; text-decoration-color: #000080\">INFO    </span> Evolution: computing operators - <span style=\"color: #008080; text-decoration-color: #008080; font-weight: bold\">7</span>/<span style=\"color: #008080; text-decoration-color: #008080; font-weight: bold\">8</span> took: <span style=\"color: #008080; text-decoration-color: #008080; font-weight: bold\">0.153023</span> s                           <a href=\"file:///Users/giacomomagni/.conda/envs/yad_dev/lib/python3.10/site-packages/eko/evolution_operator/__init__.py\" target=\"_blank\"><span style=\"color: #7f7f7f; text-decoration-color: #7f7f7f\">__init__.py</span></a><span style=\"color: #7f7f7f; text-decoration-color: #7f7f7f\">:</span><a href=\"file:///Users/giacomomagni/.conda/envs/yad_dev/lib/python3.10/site-packages/eko/evolution_operator/__init__.py#889\" target=\"_blank\"><span style=\"color: #7f7f7f; text-decoration-color: #7f7f7f\">889</span></a>\n",
       "</pre>\n"
      ],
      "text/plain": [
       "\u001b[2;36m          \u001b[0m\u001b[2;36m \u001b[0m\u001b[34mINFO    \u001b[0m Evolution: computing operators - \u001b[1;36m7\u001b[0m/\u001b[1;36m8\u001b[0m took: \u001b[1;36m0.153023\u001b[0m s                           \u001b]8;id=969278;file:///Users/giacomomagni/.conda/envs/yad_dev/lib/python3.10/site-packages/eko/evolution_operator/__init__.py\u001b\\\u001b[2m__init__.py\u001b[0m\u001b]8;;\u001b\\\u001b[2m:\u001b[0m\u001b]8;id=216826;file:///Users/giacomomagni/.conda/envs/yad_dev/lib/python3.10/site-packages/eko/evolution_operator/__init__.py#889\u001b\\\u001b[2m889\u001b[0m\u001b]8;;\u001b\\\n"
      ]
     },
     "metadata": {},
     "output_type": "display_data"
    },
    {
     "data": {
      "text/html": [
       "<pre style=\"white-space:pre;overflow-x:auto;line-height:normal;font-family:Menlo,'DejaVu Sans Mono',consolas,'Courier New',monospace\"><span style=\"color: #7fbfbf; text-decoration-color: #7fbfbf\">           </span><span style=\"color: #000080; text-decoration-color: #000080\">INFO    </span> Evolution: computing operators - <span style=\"color: #008080; text-decoration-color: #008080; font-weight: bold\">8</span>/<span style=\"color: #008080; text-decoration-color: #008080; font-weight: bold\">8</span> took: <span style=\"color: #008080; text-decoration-color: #008080; font-weight: bold\">0.040559</span> s                           <a href=\"file:///Users/giacomomagni/.conda/envs/yad_dev/lib/python3.10/site-packages/eko/evolution_operator/__init__.py\" target=\"_blank\"><span style=\"color: #7f7f7f; text-decoration-color: #7f7f7f\">__init__.py</span></a><span style=\"color: #7f7f7f; text-decoration-color: #7f7f7f\">:</span><a href=\"file:///Users/giacomomagni/.conda/envs/yad_dev/lib/python3.10/site-packages/eko/evolution_operator/__init__.py#889\" target=\"_blank\"><span style=\"color: #7f7f7f; text-decoration-color: #7f7f7f\">889</span></a>\n",
       "</pre>\n"
      ],
      "text/plain": [
       "\u001b[2;36m          \u001b[0m\u001b[2;36m \u001b[0m\u001b[34mINFO    \u001b[0m Evolution: computing operators - \u001b[1;36m8\u001b[0m/\u001b[1;36m8\u001b[0m took: \u001b[1;36m0.040559\u001b[0m s                           \u001b]8;id=479719;file:///Users/giacomomagni/.conda/envs/yad_dev/lib/python3.10/site-packages/eko/evolution_operator/__init__.py\u001b\\\u001b[2m__init__.py\u001b[0m\u001b]8;;\u001b\\\u001b[2m:\u001b[0m\u001b]8;id=475578;file:///Users/giacomomagni/.conda/envs/yad_dev/lib/python3.10/site-packages/eko/evolution_operator/__init__.py#889\u001b\\\u001b[2m889\u001b[0m\u001b]8;;\u001b\\\n"
      ]
     },
     "metadata": {},
     "output_type": "display_data"
    },
    {
     "data": {
      "text/html": [
       "<pre style=\"white-space:pre;overflow-x:auto;line-height:normal;font-family:Menlo,'DejaVu Sans Mono',consolas,'Courier New',monospace\"><span style=\"color: #7fbfbf; text-decoration-color: #7fbfbf\">           </span><span style=\"color: #000080; text-decoration-color: #000080\">INFO    </span> Evolution: Total time <span style=\"color: #008080; text-decoration-color: #008080; font-weight: bold\">2.385306</span> s                                                <a href=\"file:///Users/giacomomagni/.conda/envs/yad_dev/lib/python3.10/site-packages/eko/evolution_operator/__init__.py\" target=\"_blank\"><span style=\"color: #7f7f7f; text-decoration-color: #7f7f7f\">__init__.py</span></a><span style=\"color: #7f7f7f; text-decoration-color: #7f7f7f\">:</span><a href=\"file:///Users/giacomomagni/.conda/envs/yad_dev/lib/python3.10/site-packages/eko/evolution_operator/__init__.py#982\" target=\"_blank\"><span style=\"color: #7f7f7f; text-decoration-color: #7f7f7f\">982</span></a>\n",
       "</pre>\n"
      ],
      "text/plain": [
       "\u001b[2;36m          \u001b[0m\u001b[2;36m \u001b[0m\u001b[34mINFO    \u001b[0m Evolution: Total time \u001b[1;36m2.385306\u001b[0m s                                                \u001b]8;id=360048;file:///Users/giacomomagni/.conda/envs/yad_dev/lib/python3.10/site-packages/eko/evolution_operator/__init__.py\u001b\\\u001b[2m__init__.py\u001b[0m\u001b]8;;\u001b\\\u001b[2m:\u001b[0m\u001b]8;id=396633;file:///Users/giacomomagni/.conda/envs/yad_dev/lib/python3.10/site-packages/eko/evolution_operator/__init__.py#982\u001b\\\u001b[2m982\u001b[0m\u001b]8;;\u001b\\\n"
      ]
     },
     "metadata": {},
     "output_type": "display_data"
    },
    {
     "data": {
      "text/html": [
       "<pre style=\"white-space:pre;overflow-x:auto;line-height:normal;font-family:Menlo,'DejaVu Sans Mono',consolas,'Courier New',monospace\"><span style=\"color: #7fbfbf; text-decoration-color: #7fbfbf\">           </span><span style=\"color: #000080; text-decoration-color: #000080\">INFO    </span> Evolution: computing operators <span style=\"color: #008080; text-decoration-color: #008080; font-weight: bold\">2.722500e+00</span> -&gt; <span style=\"color: #008080; text-decoration-color: #008080; font-weight: bold\">4.000000e+02</span>, <span style=\"color: #808000; text-decoration-color: #808000\">nf</span>=<span style=\"color: #008080; text-decoration-color: #008080; font-weight: bold\">4</span>               <a href=\"file:///Users/giacomomagni/.conda/envs/yad_dev/lib/python3.10/site-packages/eko/evolution_operator/__init__.py\" target=\"_blank\"><span style=\"color: #7f7f7f; text-decoration-color: #7f7f7f\">__init__.py</span></a><span style=\"color: #7f7f7f; text-decoration-color: #7f7f7f\">:</span><a href=\"file:///Users/giacomomagni/.conda/envs/yad_dev/lib/python3.10/site-packages/eko/evolution_operator/__init__.py#917\" target=\"_blank\"><span style=\"color: #7f7f7f; text-decoration-color: #7f7f7f\">917</span></a>\n",
       "</pre>\n"
      ],
      "text/plain": [
       "\u001b[2;36m          \u001b[0m\u001b[2;36m \u001b[0m\u001b[34mINFO    \u001b[0m Evolution: computing operators \u001b[1;36m2.722500e+00\u001b[0m -> \u001b[1;36m4.000000e+02\u001b[0m, \u001b[33mnf\u001b[0m=\u001b[1;36m4\u001b[0m               \u001b]8;id=943830;file:///Users/giacomomagni/.conda/envs/yad_dev/lib/python3.10/site-packages/eko/evolution_operator/__init__.py\u001b\\\u001b[2m__init__.py\u001b[0m\u001b]8;;\u001b\\\u001b[2m:\u001b[0m\u001b]8;id=827126;file:///Users/giacomomagni/.conda/envs/yad_dev/lib/python3.10/site-packages/eko/evolution_operator/__init__.py#917\u001b\\\u001b[2m917\u001b[0m\u001b]8;;\u001b\\\n"
      ]
     },
     "metadata": {},
     "output_type": "display_data"
    },
    {
     "data": {
      "text/html": [
       "<pre style=\"white-space:pre;overflow-x:auto;line-height:normal;font-family:Menlo,'DejaVu Sans Mono',consolas,'Courier New',monospace\"><span style=\"color: #7fbfbf; text-decoration-color: #7fbfbf\">           </span><span style=\"color: #000080; text-decoration-color: #000080\">INFO    </span> Evolution: µ_R^<span style=\"color: #008080; text-decoration-color: #008080; font-weight: bold\">2</span> distance: <span style=\"color: #008080; text-decoration-color: #008080; font-weight: bold\">2.722500e+00</span> -&gt; <span style=\"color: #008080; text-decoration-color: #008080; font-weight: bold\">4.000000e+02</span>                         <a href=\"file:///Users/giacomomagni/.conda/envs/yad_dev/lib/python3.10/site-packages/eko/evolution_operator/__init__.py\" target=\"_blank\"><span style=\"color: #7f7f7f; text-decoration-color: #7f7f7f\">__init__.py</span></a><span style=\"color: #7f7f7f; text-decoration-color: #7f7f7f\">:</span><a href=\"file:///Users/giacomomagni/.conda/envs/yad_dev/lib/python3.10/site-packages/eko/evolution_operator/__init__.py#924\" target=\"_blank\"><span style=\"color: #7f7f7f; text-decoration-color: #7f7f7f\">924</span></a>\n",
       "</pre>\n"
      ],
      "text/plain": [
       "\u001b[2;36m          \u001b[0m\u001b[2;36m \u001b[0m\u001b[34mINFO    \u001b[0m Evolution: µ_R^\u001b[1;36m2\u001b[0m distance: \u001b[1;36m2.722500e+00\u001b[0m -> \u001b[1;36m4.000000e+02\u001b[0m                         \u001b]8;id=442827;file:///Users/giacomomagni/.conda/envs/yad_dev/lib/python3.10/site-packages/eko/evolution_operator/__init__.py\u001b\\\u001b[2m__init__.py\u001b[0m\u001b]8;;\u001b\\\u001b[2m:\u001b[0m\u001b]8;id=580006;file:///Users/giacomomagni/.conda/envs/yad_dev/lib/python3.10/site-packages/eko/evolution_operator/__init__.py#924\u001b\\\u001b[2m924\u001b[0m\u001b]8;;\u001b\\\n"
      ]
     },
     "metadata": {},
     "output_type": "display_data"
    },
    {
     "data": {
      "text/html": [
       "<pre style=\"white-space:pre;overflow-x:auto;line-height:normal;font-family:Menlo,'DejaVu Sans Mono',consolas,'Courier New',monospace\"><span style=\"color: #7fbfbf; text-decoration-color: #7fbfbf\">           </span><span style=\"color: #000080; text-decoration-color: #000080\">INFO    </span> Evolution: a_s distance: <span style=\"color: #008080; text-decoration-color: #008080; font-weight: bold\">2.605852e-02</span> -&gt; <span style=\"color: #008080; text-decoration-color: #008080; font-weight: bold\">1.185893e-02</span>                           <a href=\"file:///Users/giacomomagni/.conda/envs/yad_dev/lib/python3.10/site-packages/eko/evolution_operator/__init__.py\" target=\"_blank\"><span style=\"color: #7f7f7f; text-decoration-color: #7f7f7f\">__init__.py</span></a><span style=\"color: #7f7f7f; text-decoration-color: #7f7f7f\">:</span><a href=\"file:///Users/giacomomagni/.conda/envs/yad_dev/lib/python3.10/site-packages/eko/evolution_operator/__init__.py#936\" target=\"_blank\"><span style=\"color: #7f7f7f; text-decoration-color: #7f7f7f\">936</span></a>\n",
       "</pre>\n"
      ],
      "text/plain": [
       "\u001b[2;36m          \u001b[0m\u001b[2;36m \u001b[0m\u001b[34mINFO    \u001b[0m Evolution: a_s distance: \u001b[1;36m2.605852e-02\u001b[0m -> \u001b[1;36m1.185893e-02\u001b[0m                           \u001b]8;id=174615;file:///Users/giacomomagni/.conda/envs/yad_dev/lib/python3.10/site-packages/eko/evolution_operator/__init__.py\u001b\\\u001b[2m__init__.py\u001b[0m\u001b]8;;\u001b\\\u001b[2m:\u001b[0m\u001b]8;id=317795;file:///Users/giacomomagni/.conda/envs/yad_dev/lib/python3.10/site-packages/eko/evolution_operator/__init__.py#936\u001b\\\u001b[2m936\u001b[0m\u001b]8;;\u001b\\\n"
      ]
     },
     "metadata": {},
     "output_type": "display_data"
    },
    {
     "data": {
      "text/html": [
       "<pre style=\"white-space:pre;overflow-x:auto;line-height:normal;font-family:Menlo,'DejaVu Sans Mono',consolas,'Courier New',monospace\"><span style=\"color: #7fbfbf; text-decoration-color: #7fbfbf\">           </span><span style=\"color: #000080; text-decoration-color: #000080\">INFO    </span> Evolution: order: <span style=\"font-weight: bold\">(</span><span style=\"color: #008080; text-decoration-color: #008080; font-weight: bold\">2</span>, <span style=\"color: #008080; text-decoration-color: #008080; font-weight: bold\">0</span><span style=\"font-weight: bold\">)</span>, solution strategy: iterate-exact, use fhmruvv: <span style=\"color: #ff0000; text-decoration-color: #ff0000; font-style: italic\">False</span>  <a href=\"file:///Users/giacomomagni/.conda/envs/yad_dev/lib/python3.10/site-packages/eko/evolution_operator/__init__.py\" target=\"_blank\"><span style=\"color: #7f7f7f; text-decoration-color: #7f7f7f\">__init__.py</span></a><span style=\"color: #7f7f7f; text-decoration-color: #7f7f7f\">:</span><a href=\"file:///Users/giacomomagni/.conda/envs/yad_dev/lib/python3.10/site-packages/eko/evolution_operator/__init__.py#946\" target=\"_blank\"><span style=\"color: #7f7f7f; text-decoration-color: #7f7f7f\">946</span></a>\n",
       "</pre>\n"
      ],
      "text/plain": [
       "\u001b[2;36m          \u001b[0m\u001b[2;36m \u001b[0m\u001b[34mINFO    \u001b[0m Evolution: order: \u001b[1m(\u001b[0m\u001b[1;36m2\u001b[0m, \u001b[1;36m0\u001b[0m\u001b[1m)\u001b[0m, solution strategy: iterate-exact, use fhmruvv: \u001b[3;91mFalse\u001b[0m  \u001b]8;id=477062;file:///Users/giacomomagni/.conda/envs/yad_dev/lib/python3.10/site-packages/eko/evolution_operator/__init__.py\u001b\\\u001b[2m__init__.py\u001b[0m\u001b]8;;\u001b\\\u001b[2m:\u001b[0m\u001b]8;id=39769;file:///Users/giacomomagni/.conda/envs/yad_dev/lib/python3.10/site-packages/eko/evolution_operator/__init__.py#946\u001b\\\u001b[2m946\u001b[0m\u001b]8;;\u001b\\\n"
      ]
     },
     "metadata": {},
     "output_type": "display_data"
    },
    {
     "data": {
      "text/html": [
       "<pre style=\"white-space:pre;overflow-x:auto;line-height:normal;font-family:Menlo,'DejaVu Sans Mono',consolas,'Courier New',monospace\"><span style=\"color: #7fbfbf; text-decoration-color: #7fbfbf\">[14:05:07] </span><span style=\"color: #000080; text-decoration-color: #000080\">INFO    </span> Evolution: computing operators - <span style=\"color: #008080; text-decoration-color: #008080; font-weight: bold\">1</span>/<span style=\"color: #008080; text-decoration-color: #008080; font-weight: bold\">8</span> took: <span style=\"color: #008080; text-decoration-color: #008080; font-weight: bold\">0.490605</span> s                           <a href=\"file:///Users/giacomomagni/.conda/envs/yad_dev/lib/python3.10/site-packages/eko/evolution_operator/__init__.py\" target=\"_blank\"><span style=\"color: #7f7f7f; text-decoration-color: #7f7f7f\">__init__.py</span></a><span style=\"color: #7f7f7f; text-decoration-color: #7f7f7f\">:</span><a href=\"file:///Users/giacomomagni/.conda/envs/yad_dev/lib/python3.10/site-packages/eko/evolution_operator/__init__.py#889\" target=\"_blank\"><span style=\"color: #7f7f7f; text-decoration-color: #7f7f7f\">889</span></a>\n",
       "</pre>\n"
      ],
      "text/plain": [
       "\u001b[2;36m[14:05:07]\u001b[0m\u001b[2;36m \u001b[0m\u001b[34mINFO    \u001b[0m Evolution: computing operators - \u001b[1;36m1\u001b[0m/\u001b[1;36m8\u001b[0m took: \u001b[1;36m0.490605\u001b[0m s                           \u001b]8;id=598457;file:///Users/giacomomagni/.conda/envs/yad_dev/lib/python3.10/site-packages/eko/evolution_operator/__init__.py\u001b\\\u001b[2m__init__.py\u001b[0m\u001b]8;;\u001b\\\u001b[2m:\u001b[0m\u001b]8;id=72081;file:///Users/giacomomagni/.conda/envs/yad_dev/lib/python3.10/site-packages/eko/evolution_operator/__init__.py#889\u001b\\\u001b[2m889\u001b[0m\u001b]8;;\u001b\\\n"
      ]
     },
     "metadata": {},
     "output_type": "display_data"
    },
    {
     "data": {
      "text/html": [
       "<pre style=\"white-space:pre;overflow-x:auto;line-height:normal;font-family:Menlo,'DejaVu Sans Mono',consolas,'Courier New',monospace\"><span style=\"color: #7fbfbf; text-decoration-color: #7fbfbf\">           </span><span style=\"color: #000080; text-decoration-color: #000080\">INFO    </span> Evolution: computing operators - <span style=\"color: #008080; text-decoration-color: #008080; font-weight: bold\">2</span>/<span style=\"color: #008080; text-decoration-color: #008080; font-weight: bold\">8</span> took: <span style=\"color: #008080; text-decoration-color: #008080; font-weight: bold\">0.473395</span> s                           <a href=\"file:///Users/giacomomagni/.conda/envs/yad_dev/lib/python3.10/site-packages/eko/evolution_operator/__init__.py\" target=\"_blank\"><span style=\"color: #7f7f7f; text-decoration-color: #7f7f7f\">__init__.py</span></a><span style=\"color: #7f7f7f; text-decoration-color: #7f7f7f\">:</span><a href=\"file:///Users/giacomomagni/.conda/envs/yad_dev/lib/python3.10/site-packages/eko/evolution_operator/__init__.py#889\" target=\"_blank\"><span style=\"color: #7f7f7f; text-decoration-color: #7f7f7f\">889</span></a>\n",
       "</pre>\n"
      ],
      "text/plain": [
       "\u001b[2;36m          \u001b[0m\u001b[2;36m \u001b[0m\u001b[34mINFO    \u001b[0m Evolution: computing operators - \u001b[1;36m2\u001b[0m/\u001b[1;36m8\u001b[0m took: \u001b[1;36m0.473395\u001b[0m s                           \u001b]8;id=313400;file:///Users/giacomomagni/.conda/envs/yad_dev/lib/python3.10/site-packages/eko/evolution_operator/__init__.py\u001b\\\u001b[2m__init__.py\u001b[0m\u001b]8;;\u001b\\\u001b[2m:\u001b[0m\u001b]8;id=670453;file:///Users/giacomomagni/.conda/envs/yad_dev/lib/python3.10/site-packages/eko/evolution_operator/__init__.py#889\u001b\\\u001b[2m889\u001b[0m\u001b]8;;\u001b\\\n"
      ]
     },
     "metadata": {},
     "output_type": "display_data"
    },
    {
     "data": {
      "text/html": [
       "<pre style=\"white-space:pre;overflow-x:auto;line-height:normal;font-family:Menlo,'DejaVu Sans Mono',consolas,'Courier New',monospace\"><span style=\"color: #7fbfbf; text-decoration-color: #7fbfbf\">[14:05:08] </span><span style=\"color: #000080; text-decoration-color: #000080\">INFO    </span> Evolution: computing operators - <span style=\"color: #008080; text-decoration-color: #008080; font-weight: bold\">3</span>/<span style=\"color: #008080; text-decoration-color: #008080; font-weight: bold\">8</span> took: <span style=\"color: #008080; text-decoration-color: #008080; font-weight: bold\">0.366076</span> s                           <a href=\"file:///Users/giacomomagni/.conda/envs/yad_dev/lib/python3.10/site-packages/eko/evolution_operator/__init__.py\" target=\"_blank\"><span style=\"color: #7f7f7f; text-decoration-color: #7f7f7f\">__init__.py</span></a><span style=\"color: #7f7f7f; text-decoration-color: #7f7f7f\">:</span><a href=\"file:///Users/giacomomagni/.conda/envs/yad_dev/lib/python3.10/site-packages/eko/evolution_operator/__init__.py#889\" target=\"_blank\"><span style=\"color: #7f7f7f; text-decoration-color: #7f7f7f\">889</span></a>\n",
       "</pre>\n"
      ],
      "text/plain": [
       "\u001b[2;36m[14:05:08]\u001b[0m\u001b[2;36m \u001b[0m\u001b[34mINFO    \u001b[0m Evolution: computing operators - \u001b[1;36m3\u001b[0m/\u001b[1;36m8\u001b[0m took: \u001b[1;36m0.366076\u001b[0m s                           \u001b]8;id=214776;file:///Users/giacomomagni/.conda/envs/yad_dev/lib/python3.10/site-packages/eko/evolution_operator/__init__.py\u001b\\\u001b[2m__init__.py\u001b[0m\u001b]8;;\u001b\\\u001b[2m:\u001b[0m\u001b]8;id=593727;file:///Users/giacomomagni/.conda/envs/yad_dev/lib/python3.10/site-packages/eko/evolution_operator/__init__.py#889\u001b\\\u001b[2m889\u001b[0m\u001b]8;;\u001b\\\n"
      ]
     },
     "metadata": {},
     "output_type": "display_data"
    },
    {
     "data": {
      "text/html": [
       "<pre style=\"white-space:pre;overflow-x:auto;line-height:normal;font-family:Menlo,'DejaVu Sans Mono',consolas,'Courier New',monospace\"><span style=\"color: #7fbfbf; text-decoration-color: #7fbfbf\">           </span><span style=\"color: #000080; text-decoration-color: #000080\">INFO    </span> Evolution: computing operators - <span style=\"color: #008080; text-decoration-color: #008080; font-weight: bold\">4</span>/<span style=\"color: #008080; text-decoration-color: #008080; font-weight: bold\">8</span> took: <span style=\"color: #008080; text-decoration-color: #008080; font-weight: bold\">0.305157</span> s                           <a href=\"file:///Users/giacomomagni/.conda/envs/yad_dev/lib/python3.10/site-packages/eko/evolution_operator/__init__.py\" target=\"_blank\"><span style=\"color: #7f7f7f; text-decoration-color: #7f7f7f\">__init__.py</span></a><span style=\"color: #7f7f7f; text-decoration-color: #7f7f7f\">:</span><a href=\"file:///Users/giacomomagni/.conda/envs/yad_dev/lib/python3.10/site-packages/eko/evolution_operator/__init__.py#889\" target=\"_blank\"><span style=\"color: #7f7f7f; text-decoration-color: #7f7f7f\">889</span></a>\n",
       "</pre>\n"
      ],
      "text/plain": [
       "\u001b[2;36m          \u001b[0m\u001b[2;36m \u001b[0m\u001b[34mINFO    \u001b[0m Evolution: computing operators - \u001b[1;36m4\u001b[0m/\u001b[1;36m8\u001b[0m took: \u001b[1;36m0.305157\u001b[0m s                           \u001b]8;id=56411;file:///Users/giacomomagni/.conda/envs/yad_dev/lib/python3.10/site-packages/eko/evolution_operator/__init__.py\u001b\\\u001b[2m__init__.py\u001b[0m\u001b]8;;\u001b\\\u001b[2m:\u001b[0m\u001b]8;id=817151;file:///Users/giacomomagni/.conda/envs/yad_dev/lib/python3.10/site-packages/eko/evolution_operator/__init__.py#889\u001b\\\u001b[2m889\u001b[0m\u001b]8;;\u001b\\\n"
      ]
     },
     "metadata": {},
     "output_type": "display_data"
    },
    {
     "data": {
      "text/html": [
       "<pre style=\"white-space:pre;overflow-x:auto;line-height:normal;font-family:Menlo,'DejaVu Sans Mono',consolas,'Courier New',monospace\"><span style=\"color: #7fbfbf; text-decoration-color: #7fbfbf\">           </span><span style=\"color: #000080; text-decoration-color: #000080\">INFO    </span> Evolution: computing operators - <span style=\"color: #008080; text-decoration-color: #008080; font-weight: bold\">5</span>/<span style=\"color: #008080; text-decoration-color: #008080; font-weight: bold\">8</span> took: <span style=\"color: #008080; text-decoration-color: #008080; font-weight: bold\">0.242511</span> s                           <a href=\"file:///Users/giacomomagni/.conda/envs/yad_dev/lib/python3.10/site-packages/eko/evolution_operator/__init__.py\" target=\"_blank\"><span style=\"color: #7f7f7f; text-decoration-color: #7f7f7f\">__init__.py</span></a><span style=\"color: #7f7f7f; text-decoration-color: #7f7f7f\">:</span><a href=\"file:///Users/giacomomagni/.conda/envs/yad_dev/lib/python3.10/site-packages/eko/evolution_operator/__init__.py#889\" target=\"_blank\"><span style=\"color: #7f7f7f; text-decoration-color: #7f7f7f\">889</span></a>\n",
       "</pre>\n"
      ],
      "text/plain": [
       "\u001b[2;36m          \u001b[0m\u001b[2;36m \u001b[0m\u001b[34mINFO    \u001b[0m Evolution: computing operators - \u001b[1;36m5\u001b[0m/\u001b[1;36m8\u001b[0m took: \u001b[1;36m0.242511\u001b[0m s                           \u001b]8;id=389991;file:///Users/giacomomagni/.conda/envs/yad_dev/lib/python3.10/site-packages/eko/evolution_operator/__init__.py\u001b\\\u001b[2m__init__.py\u001b[0m\u001b]8;;\u001b\\\u001b[2m:\u001b[0m\u001b]8;id=312872;file:///Users/giacomomagni/.conda/envs/yad_dev/lib/python3.10/site-packages/eko/evolution_operator/__init__.py#889\u001b\\\u001b[2m889\u001b[0m\u001b]8;;\u001b\\\n"
      ]
     },
     "metadata": {},
     "output_type": "display_data"
    },
    {
     "data": {
      "text/html": [
       "<pre style=\"white-space:pre;overflow-x:auto;line-height:normal;font-family:Menlo,'DejaVu Sans Mono',consolas,'Courier New',monospace\"><span style=\"color: #7fbfbf; text-decoration-color: #7fbfbf\">           </span><span style=\"color: #000080; text-decoration-color: #000080\">INFO    </span> Evolution: computing operators - <span style=\"color: #008080; text-decoration-color: #008080; font-weight: bold\">6</span>/<span style=\"color: #008080; text-decoration-color: #008080; font-weight: bold\">8</span> took: <span style=\"color: #008080; text-decoration-color: #008080; font-weight: bold\">0.241864</span> s                           <a href=\"file:///Users/giacomomagni/.conda/envs/yad_dev/lib/python3.10/site-packages/eko/evolution_operator/__init__.py\" target=\"_blank\"><span style=\"color: #7f7f7f; text-decoration-color: #7f7f7f\">__init__.py</span></a><span style=\"color: #7f7f7f; text-decoration-color: #7f7f7f\">:</span><a href=\"file:///Users/giacomomagni/.conda/envs/yad_dev/lib/python3.10/site-packages/eko/evolution_operator/__init__.py#889\" target=\"_blank\"><span style=\"color: #7f7f7f; text-decoration-color: #7f7f7f\">889</span></a>\n",
       "</pre>\n"
      ],
      "text/plain": [
       "\u001b[2;36m          \u001b[0m\u001b[2;36m \u001b[0m\u001b[34mINFO    \u001b[0m Evolution: computing operators - \u001b[1;36m6\u001b[0m/\u001b[1;36m8\u001b[0m took: \u001b[1;36m0.241864\u001b[0m s                           \u001b]8;id=5254;file:///Users/giacomomagni/.conda/envs/yad_dev/lib/python3.10/site-packages/eko/evolution_operator/__init__.py\u001b\\\u001b[2m__init__.py\u001b[0m\u001b]8;;\u001b\\\u001b[2m:\u001b[0m\u001b]8;id=133848;file:///Users/giacomomagni/.conda/envs/yad_dev/lib/python3.10/site-packages/eko/evolution_operator/__init__.py#889\u001b\\\u001b[2m889\u001b[0m\u001b]8;;\u001b\\\n"
      ]
     },
     "metadata": {},
     "output_type": "display_data"
    },
    {
     "data": {
      "text/html": [
       "<pre style=\"white-space:pre;overflow-x:auto;line-height:normal;font-family:Menlo,'DejaVu Sans Mono',consolas,'Courier New',monospace\"><span style=\"color: #7fbfbf; text-decoration-color: #7fbfbf\">[14:05:09] </span><span style=\"color: #000080; text-decoration-color: #000080\">INFO    </span> Evolution: computing operators - <span style=\"color: #008080; text-decoration-color: #008080; font-weight: bold\">7</span>/<span style=\"color: #008080; text-decoration-color: #008080; font-weight: bold\">8</span> took: <span style=\"color: #008080; text-decoration-color: #008080; font-weight: bold\">0.169334</span> s                           <a href=\"file:///Users/giacomomagni/.conda/envs/yad_dev/lib/python3.10/site-packages/eko/evolution_operator/__init__.py\" target=\"_blank\"><span style=\"color: #7f7f7f; text-decoration-color: #7f7f7f\">__init__.py</span></a><span style=\"color: #7f7f7f; text-decoration-color: #7f7f7f\">:</span><a href=\"file:///Users/giacomomagni/.conda/envs/yad_dev/lib/python3.10/site-packages/eko/evolution_operator/__init__.py#889\" target=\"_blank\"><span style=\"color: #7f7f7f; text-decoration-color: #7f7f7f\">889</span></a>\n",
       "</pre>\n"
      ],
      "text/plain": [
       "\u001b[2;36m[14:05:09]\u001b[0m\u001b[2;36m \u001b[0m\u001b[34mINFO    \u001b[0m Evolution: computing operators - \u001b[1;36m7\u001b[0m/\u001b[1;36m8\u001b[0m took: \u001b[1;36m0.169334\u001b[0m s                           \u001b]8;id=862619;file:///Users/giacomomagni/.conda/envs/yad_dev/lib/python3.10/site-packages/eko/evolution_operator/__init__.py\u001b\\\u001b[2m__init__.py\u001b[0m\u001b]8;;\u001b\\\u001b[2m:\u001b[0m\u001b]8;id=662303;file:///Users/giacomomagni/.conda/envs/yad_dev/lib/python3.10/site-packages/eko/evolution_operator/__init__.py#889\u001b\\\u001b[2m889\u001b[0m\u001b]8;;\u001b\\\n"
      ]
     },
     "metadata": {},
     "output_type": "display_data"
    },
    {
     "data": {
      "text/html": [
       "<pre style=\"white-space:pre;overflow-x:auto;line-height:normal;font-family:Menlo,'DejaVu Sans Mono',consolas,'Courier New',monospace\"><span style=\"color: #7fbfbf; text-decoration-color: #7fbfbf\">           </span><span style=\"color: #000080; text-decoration-color: #000080\">INFO    </span> Evolution: computing operators - <span style=\"color: #008080; text-decoration-color: #008080; font-weight: bold\">8</span>/<span style=\"color: #008080; text-decoration-color: #008080; font-weight: bold\">8</span> took: <span style=\"color: #008080; text-decoration-color: #008080; font-weight: bold\">0.039978</span> s                           <a href=\"file:///Users/giacomomagni/.conda/envs/yad_dev/lib/python3.10/site-packages/eko/evolution_operator/__init__.py\" target=\"_blank\"><span style=\"color: #7f7f7f; text-decoration-color: #7f7f7f\">__init__.py</span></a><span style=\"color: #7f7f7f; text-decoration-color: #7f7f7f\">:</span><a href=\"file:///Users/giacomomagni/.conda/envs/yad_dev/lib/python3.10/site-packages/eko/evolution_operator/__init__.py#889\" target=\"_blank\"><span style=\"color: #7f7f7f; text-decoration-color: #7f7f7f\">889</span></a>\n",
       "</pre>\n"
      ],
      "text/plain": [
       "\u001b[2;36m          \u001b[0m\u001b[2;36m \u001b[0m\u001b[34mINFO    \u001b[0m Evolution: computing operators - \u001b[1;36m8\u001b[0m/\u001b[1;36m8\u001b[0m took: \u001b[1;36m0.039978\u001b[0m s                           \u001b]8;id=110958;file:///Users/giacomomagni/.conda/envs/yad_dev/lib/python3.10/site-packages/eko/evolution_operator/__init__.py\u001b\\\u001b[2m__init__.py\u001b[0m\u001b]8;;\u001b\\\u001b[2m:\u001b[0m\u001b]8;id=431349;file:///Users/giacomomagni/.conda/envs/yad_dev/lib/python3.10/site-packages/eko/evolution_operator/__init__.py#889\u001b\\\u001b[2m889\u001b[0m\u001b]8;;\u001b\\\n"
      ]
     },
     "metadata": {},
     "output_type": "display_data"
    },
    {
     "data": {
      "text/html": [
       "<pre style=\"white-space:pre;overflow-x:auto;line-height:normal;font-family:Menlo,'DejaVu Sans Mono',consolas,'Courier New',monospace\"><span style=\"color: #7fbfbf; text-decoration-color: #7fbfbf\">           </span><span style=\"color: #000080; text-decoration-color: #000080\">INFO    </span> Evolution: Total time <span style=\"color: #008080; text-decoration-color: #008080; font-weight: bold\">2.354003</span> s                                                <a href=\"file:///Users/giacomomagni/.conda/envs/yad_dev/lib/python3.10/site-packages/eko/evolution_operator/__init__.py\" target=\"_blank\"><span style=\"color: #7f7f7f; text-decoration-color: #7f7f7f\">__init__.py</span></a><span style=\"color: #7f7f7f; text-decoration-color: #7f7f7f\">:</span><a href=\"file:///Users/giacomomagni/.conda/envs/yad_dev/lib/python3.10/site-packages/eko/evolution_operator/__init__.py#982\" target=\"_blank\"><span style=\"color: #7f7f7f; text-decoration-color: #7f7f7f\">982</span></a>\n",
       "</pre>\n"
      ],
      "text/plain": [
       "\u001b[2;36m          \u001b[0m\u001b[2;36m \u001b[0m\u001b[34mINFO    \u001b[0m Evolution: Total time \u001b[1;36m2.354003\u001b[0m s                                                \u001b]8;id=158349;file:///Users/giacomomagni/.conda/envs/yad_dev/lib/python3.10/site-packages/eko/evolution_operator/__init__.py\u001b\\\u001b[2m__init__.py\u001b[0m\u001b]8;;\u001b\\\u001b[2m:\u001b[0m\u001b]8;id=596180;file:///Users/giacomomagni/.conda/envs/yad_dev/lib/python3.10/site-packages/eko/evolution_operator/__init__.py#982\u001b\\\u001b[2m982\u001b[0m\u001b]8;;\u001b\\\n"
      ]
     },
     "metadata": {},
     "output_type": "display_data"
    },
    {
     "data": {
      "text/html": [
       "<pre style=\"white-space:pre;overflow-x:auto;line-height:normal;font-family:Menlo,'DejaVu Sans Mono',consolas,'Courier New',monospace\"><span style=\"color: #7fbfbf; text-decoration-color: #7fbfbf\">           </span><span style=\"color: #000080; text-decoration-color: #000080\">INFO    </span> Atlas <span style=\"font-weight: bold\">[</span><span style=\"color: #008080; text-decoration-color: #008080; font-weight: bold\">0.00e+00</span> - <span style=\"color: #008080; text-decoration-color: #008080; font-weight: bold\">2.28e+00</span> - <span style=\"color: #008080; text-decoration-color: #008080; font-weight: bold\">2.42e+01</span> - <span style=\"color: #008080; text-decoration-color: #008080; font-weight: bold\">2.98e+04</span> - inf<span style=\"font-weight: bold\">]</span>, <span style=\"color: #808000; text-decoration-color: #808000\">ref</span>=<span style=\"color: #008080; text-decoration-color: #008080; font-weight: bold\">8317.44</span> @ <span style=\"color: #008080; text-decoration-color: #008080; font-weight: bold\">5</span>        <a href=\"file:///Users/giacomomagni/.conda/envs/yad_dev/lib/python3.10/site-packages/eko/matchings.py\" target=\"_blank\"><span style=\"color: #7f7f7f; text-decoration-color: #7f7f7f\">matchings.py</span></a><span style=\"color: #7f7f7f; text-decoration-color: #7f7f7f\">:</span><a href=\"file:///Users/giacomomagni/.conda/envs/yad_dev/lib/python3.10/site-packages/eko/matchings.py#72\" target=\"_blank\"><span style=\"color: #7f7f7f; text-decoration-color: #7f7f7f\">72</span></a>\n",
       "</pre>\n"
      ],
      "text/plain": [
       "\u001b[2;36m          \u001b[0m\u001b[2;36m \u001b[0m\u001b[34mINFO    \u001b[0m Atlas \u001b[1m[\u001b[0m\u001b[1;36m0.00e+00\u001b[0m - \u001b[1;36m2.28e+00\u001b[0m - \u001b[1;36m2.42e+01\u001b[0m - \u001b[1;36m2.98e+04\u001b[0m - inf\u001b[1m]\u001b[0m, \u001b[33mref\u001b[0m=\u001b[1;36m8317\u001b[0m\u001b[1;36m.44\u001b[0m @ \u001b[1;36m5\u001b[0m        \u001b]8;id=704296;file:///Users/giacomomagni/.conda/envs/yad_dev/lib/python3.10/site-packages/eko/matchings.py\u001b\\\u001b[2mmatchings.py\u001b[0m\u001b]8;;\u001b\\\u001b[2m:\u001b[0m\u001b]8;id=326176;file:///Users/giacomomagni/.conda/envs/yad_dev/lib/python3.10/site-packages/eko/matchings.py#72\u001b\\\u001b[2m72\u001b[0m\u001b]8;;\u001b\\\n"
      ]
     },
     "metadata": {},
     "output_type": "display_data"
    },
    {
     "data": {
      "text/html": [
       "<pre style=\"white-space:pre;overflow-x:auto;line-height:normal;font-family:Menlo,'DejaVu Sans Mono',consolas,'Courier New',monospace\"><span style=\"color: #7fbfbf; text-decoration-color: #7fbfbf\">           </span><span style=\"color: #000080; text-decoration-color: #000080\">INFO    </span> Strong Coupling: <span style=\"color: #800080; text-decoration-color: #800080; font-weight: bold\">a_s</span><span style=\"font-weight: bold\">(</span>µ_R^<span style=\"color: #008080; text-decoration-color: #008080; font-weight: bold\">2</span>=<span style=\"color: #008080; text-decoration-color: #008080; font-weight: bold\">8317.440000</span><span style=\"font-weight: bold\">)</span>^<span style=\"font-weight: bold\">(</span><span style=\"color: #808000; text-decoration-color: #808000\">nf</span>=<span style=\"color: #008080; text-decoration-color: #008080; font-weight: bold\">5</span><span style=\"font-weight: bold\">)</span>=<span style=\"color: #008080; text-decoration-color: #008080; font-weight: bold\">0.009390</span>=<span style=\"color: #008080; text-decoration-color: #008080; font-weight: bold\">0.118000</span>/<span style=\"font-weight: bold\">(</span>4π<span style=\"font-weight: bold\">)</span>          <a href=\"file:///Users/giacomomagni/.conda/envs/yad_dev/lib/python3.10/site-packages/eko/couplings.py\" target=\"_blank\"><span style=\"color: #7f7f7f; text-decoration-color: #7f7f7f\">couplings.py</span></a><span style=\"color: #7f7f7f; text-decoration-color: #7f7f7f\">:</span><a href=\"file:///Users/giacomomagni/.conda/envs/yad_dev/lib/python3.10/site-packages/eko/couplings.py#464\" target=\"_blank\"><span style=\"color: #7f7f7f; text-decoration-color: #7f7f7f\">464</span></a>\n",
       "</pre>\n"
      ],
      "text/plain": [
       "\u001b[2;36m          \u001b[0m\u001b[2;36m \u001b[0m\u001b[34mINFO    \u001b[0m Strong Coupling: \u001b[1;35ma_s\u001b[0m\u001b[1m(\u001b[0mµ_R^\u001b[1;36m2\u001b[0m=\u001b[1;36m8317\u001b[0m\u001b[1;36m.440000\u001b[0m\u001b[1m)\u001b[0m^\u001b[1m(\u001b[0m\u001b[33mnf\u001b[0m=\u001b[1;36m5\u001b[0m\u001b[1m)\u001b[0m=\u001b[1;36m0.\u001b[0m\u001b[1;36m009390\u001b[0m=\u001b[1;36m0\u001b[0m\u001b[1;36m.118000\u001b[0m/\u001b[1m(\u001b[0m4π\u001b[1m)\u001b[0m          \u001b]8;id=77509;file:///Users/giacomomagni/.conda/envs/yad_dev/lib/python3.10/site-packages/eko/couplings.py\u001b\\\u001b[2mcouplings.py\u001b[0m\u001b]8;;\u001b\\\u001b[2m:\u001b[0m\u001b]8;id=984844;file:///Users/giacomomagni/.conda/envs/yad_dev/lib/python3.10/site-packages/eko/couplings.py#464\u001b\\\u001b[2m464\u001b[0m\u001b]8;;\u001b\\\n"
      ]
     },
     "metadata": {},
     "output_type": "display_data"
    },
    {
     "name": "stderr",
     "output_type": "stream",
     "text": [
      "Overwriting old PDF installation\n"
     ]
    },
    {
     "name": "stdout",
     "output_type": "stream",
     "text": [
      "install_pdf NNPDF40_evolved_nf4\n"
     ]
    },
    {
     "data": {
      "text/html": [
       "<pre style=\"white-space:pre;overflow-x:auto;line-height:normal;font-family:Menlo,'DejaVu Sans Mono',consolas,'Courier New',monospace\"><span style=\"color: #7fbfbf; text-decoration-color: #7fbfbf\">           </span><span style=\"color: #000080; text-decoration-color: #000080\">INFO    </span> Interpolation: number of points = <span style=\"color: #008080; text-decoration-color: #008080; font-weight: bold\">8</span>, polynomial degree = <span style=\"color: #008080; text-decoration-color: #008080; font-weight: bold\">4</span>, logarithmic =  <a href=\"file:///Users/giacomomagni/.conda/envs/yad_dev/lib/python3.10/site-packages/eko/interpolation.py\" target=\"_blank\"><span style=\"color: #7f7f7f; text-decoration-color: #7f7f7f\">interpolation.py</span></a><span style=\"color: #7f7f7f; text-decoration-color: #7f7f7f\">:</span><a href=\"file:///Users/giacomomagni/.conda/envs/yad_dev/lib/python3.10/site-packages/eko/interpolation.py#538\" target=\"_blank\"><span style=\"color: #7f7f7f; text-decoration-color: #7f7f7f\">538</span></a>\n",
       "<span style=\"color: #7fbfbf; text-decoration-color: #7fbfbf\">           </span>         <span style=\"color: #00ff00; text-decoration-color: #00ff00; font-style: italic\">True</span>                                                                       <span style=\"color: #7f7f7f; text-decoration-color: #7f7f7f\">                    </span>\n",
       "</pre>\n"
      ],
      "text/plain": [
       "\u001b[2;36m          \u001b[0m\u001b[2;36m \u001b[0m\u001b[34mINFO    \u001b[0m Interpolation: number of points = \u001b[1;36m8\u001b[0m, polynomial degree = \u001b[1;36m4\u001b[0m, logarithmic =  \u001b]8;id=230810;file:///Users/giacomomagni/.conda/envs/yad_dev/lib/python3.10/site-packages/eko/interpolation.py\u001b\\\u001b[2minterpolation.py\u001b[0m\u001b]8;;\u001b\\\u001b[2m:\u001b[0m\u001b]8;id=976516;file:///Users/giacomomagni/.conda/envs/yad_dev/lib/python3.10/site-packages/eko/interpolation.py#538\u001b\\\u001b[2m538\u001b[0m\u001b]8;;\u001b\\\n",
       "\u001b[2;36m           \u001b[0m         \u001b[3;92mTrue\u001b[0m                                                                       \u001b[2m                    \u001b[0m\n"
      ]
     },
     "metadata": {},
     "output_type": "display_data"
    },
    {
     "data": {
      "text/html": [
       "<pre style=\"white-space:pre;overflow-x:auto;line-height:normal;font-family:Menlo,'DejaVu Sans Mono',consolas,'Courier New',monospace\"><span style=\"color: #7fbfbf; text-decoration-color: #7fbfbf\">           </span><span style=\"color: #000080; text-decoration-color: #000080\">INFO    </span> Atlas <span style=\"font-weight: bold\">[</span><span style=\"color: #008080; text-decoration-color: #008080; font-weight: bold\">0.00e+00</span> - <span style=\"color: #008080; text-decoration-color: #008080; font-weight: bold\">2.28e+00</span> - <span style=\"color: #008080; text-decoration-color: #008080; font-weight: bold\">2.42e+01</span> - <span style=\"color: #008080; text-decoration-color: #008080; font-weight: bold\">2.98e+04</span> - inf<span style=\"font-weight: bold\">]</span>, <span style=\"color: #808000; text-decoration-color: #808000\">ref</span>=<span style=\"color: #008080; text-decoration-color: #008080; font-weight: bold\">2.7224999999999997</span> <a href=\"file:///Users/giacomomagni/.conda/envs/yad_dev/lib/python3.10/site-packages/eko/matchings.py\" target=\"_blank\"><span style=\"color: #7f7f7f; text-decoration-color: #7f7f7f\">matchings.py</span></a><span style=\"color: #7f7f7f; text-decoration-color: #7f7f7f\">:</span><a href=\"file:///Users/giacomomagni/.conda/envs/yad_dev/lib/python3.10/site-packages/eko/matchings.py#72\" target=\"_blank\"><span style=\"color: #7f7f7f; text-decoration-color: #7f7f7f\">72</span></a>\n",
       "<span style=\"color: #7fbfbf; text-decoration-color: #7fbfbf\">           </span>         @ <span style=\"color: #008080; text-decoration-color: #008080; font-weight: bold\">4</span>                                                                             <span style=\"color: #7f7f7f; text-decoration-color: #7f7f7f\">               </span>\n",
       "</pre>\n"
      ],
      "text/plain": [
       "\u001b[2;36m          \u001b[0m\u001b[2;36m \u001b[0m\u001b[34mINFO    \u001b[0m Atlas \u001b[1m[\u001b[0m\u001b[1;36m0.00e+00\u001b[0m - \u001b[1;36m2.28e+00\u001b[0m - \u001b[1;36m2.42e+01\u001b[0m - \u001b[1;36m2.98e+04\u001b[0m - inf\u001b[1m]\u001b[0m, \u001b[33mref\u001b[0m=\u001b[1;36m2\u001b[0m\u001b[1;36m.7224999999999997\u001b[0m \u001b]8;id=967743;file:///Users/giacomomagni/.conda/envs/yad_dev/lib/python3.10/site-packages/eko/matchings.py\u001b\\\u001b[2mmatchings.py\u001b[0m\u001b]8;;\u001b\\\u001b[2m:\u001b[0m\u001b]8;id=763660;file:///Users/giacomomagni/.conda/envs/yad_dev/lib/python3.10/site-packages/eko/matchings.py#72\u001b\\\u001b[2m72\u001b[0m\u001b]8;;\u001b\\\n",
       "\u001b[2;36m           \u001b[0m         @ \u001b[1;36m4\u001b[0m                                                                             \u001b[2m               \u001b[0m\n"
      ]
     },
     "metadata": {},
     "output_type": "display_data"
    },
    {
     "data": {
      "text/html": [
       "<pre style=\"white-space:pre;overflow-x:auto;line-height:normal;font-family:Menlo,'DejaVu Sans Mono',consolas,'Courier New',monospace\"><span style=\"color: #7fbfbf; text-decoration-color: #7fbfbf\">           </span><span style=\"color: #000080; text-decoration-color: #000080\">INFO    </span> Atlas <span style=\"font-weight: bold\">[</span><span style=\"color: #008080; text-decoration-color: #008080; font-weight: bold\">0.00e+00</span> - <span style=\"color: #008080; text-decoration-color: #008080; font-weight: bold\">2.28e+00</span> - <span style=\"color: #008080; text-decoration-color: #008080; font-weight: bold\">2.42e+01</span> - <span style=\"color: #008080; text-decoration-color: #008080; font-weight: bold\">2.98e+04</span> - inf<span style=\"font-weight: bold\">]</span>, <span style=\"color: #808000; text-decoration-color: #808000\">ref</span>=<span style=\"color: #008080; text-decoration-color: #008080; font-weight: bold\">8317.44</span> @ <span style=\"color: #008080; text-decoration-color: #008080; font-weight: bold\">5</span>        <a href=\"file:///Users/giacomomagni/.conda/envs/yad_dev/lib/python3.10/site-packages/eko/matchings.py\" target=\"_blank\"><span style=\"color: #7f7f7f; text-decoration-color: #7f7f7f\">matchings.py</span></a><span style=\"color: #7f7f7f; text-decoration-color: #7f7f7f\">:</span><a href=\"file:///Users/giacomomagni/.conda/envs/yad_dev/lib/python3.10/site-packages/eko/matchings.py#72\" target=\"_blank\"><span style=\"color: #7f7f7f; text-decoration-color: #7f7f7f\">72</span></a>\n",
       "</pre>\n"
      ],
      "text/plain": [
       "\u001b[2;36m          \u001b[0m\u001b[2;36m \u001b[0m\u001b[34mINFO    \u001b[0m Atlas \u001b[1m[\u001b[0m\u001b[1;36m0.00e+00\u001b[0m - \u001b[1;36m2.28e+00\u001b[0m - \u001b[1;36m2.42e+01\u001b[0m - \u001b[1;36m2.98e+04\u001b[0m - inf\u001b[1m]\u001b[0m, \u001b[33mref\u001b[0m=\u001b[1;36m8317\u001b[0m\u001b[1;36m.44\u001b[0m @ \u001b[1;36m5\u001b[0m        \u001b]8;id=329414;file:///Users/giacomomagni/.conda/envs/yad_dev/lib/python3.10/site-packages/eko/matchings.py\u001b\\\u001b[2mmatchings.py\u001b[0m\u001b]8;;\u001b\\\u001b[2m:\u001b[0m\u001b]8;id=812441;file:///Users/giacomomagni/.conda/envs/yad_dev/lib/python3.10/site-packages/eko/matchings.py#72\u001b\\\u001b[2m72\u001b[0m\u001b]8;;\u001b\\\n"
      ]
     },
     "metadata": {},
     "output_type": "display_data"
    },
    {
     "data": {
      "text/html": [
       "<pre style=\"white-space:pre;overflow-x:auto;line-height:normal;font-family:Menlo,'DejaVu Sans Mono',consolas,'Courier New',monospace\"><span style=\"color: #7fbfbf; text-decoration-color: #7fbfbf\">           </span><span style=\"color: #000080; text-decoration-color: #000080\">INFO    </span> Strong Coupling: <span style=\"color: #800080; text-decoration-color: #800080; font-weight: bold\">a_s</span><span style=\"font-weight: bold\">(</span>µ_R^<span style=\"color: #008080; text-decoration-color: #008080; font-weight: bold\">2</span>=<span style=\"color: #008080; text-decoration-color: #008080; font-weight: bold\">8317.440000</span><span style=\"font-weight: bold\">)</span>^<span style=\"font-weight: bold\">(</span><span style=\"color: #808000; text-decoration-color: #808000\">nf</span>=<span style=\"color: #008080; text-decoration-color: #008080; font-weight: bold\">5</span><span style=\"font-weight: bold\">)</span>=<span style=\"color: #008080; text-decoration-color: #008080; font-weight: bold\">0.009390</span>=<span style=\"color: #008080; text-decoration-color: #008080; font-weight: bold\">0.118000</span>/<span style=\"font-weight: bold\">(</span>4π<span style=\"font-weight: bold\">)</span>          <a href=\"file:///Users/giacomomagni/.conda/envs/yad_dev/lib/python3.10/site-packages/eko/couplings.py\" target=\"_blank\"><span style=\"color: #7f7f7f; text-decoration-color: #7f7f7f\">couplings.py</span></a><span style=\"color: #7f7f7f; text-decoration-color: #7f7f7f\">:</span><a href=\"file:///Users/giacomomagni/.conda/envs/yad_dev/lib/python3.10/site-packages/eko/couplings.py#464\" target=\"_blank\"><span style=\"color: #7f7f7f; text-decoration-color: #7f7f7f\">464</span></a>\n",
       "</pre>\n"
      ],
      "text/plain": [
       "\u001b[2;36m          \u001b[0m\u001b[2;36m \u001b[0m\u001b[34mINFO    \u001b[0m Strong Coupling: \u001b[1;35ma_s\u001b[0m\u001b[1m(\u001b[0mµ_R^\u001b[1;36m2\u001b[0m=\u001b[1;36m8317\u001b[0m\u001b[1;36m.440000\u001b[0m\u001b[1m)\u001b[0m^\u001b[1m(\u001b[0m\u001b[33mnf\u001b[0m=\u001b[1;36m5\u001b[0m\u001b[1m)\u001b[0m=\u001b[1;36m0.\u001b[0m\u001b[1;36m009390\u001b[0m=\u001b[1;36m0\u001b[0m\u001b[1;36m.118000\u001b[0m/\u001b[1m(\u001b[0m4π\u001b[1m)\u001b[0m          \u001b]8;id=373807;file:///Users/giacomomagni/.conda/envs/yad_dev/lib/python3.10/site-packages/eko/couplings.py\u001b\\\u001b[2mcouplings.py\u001b[0m\u001b]8;;\u001b\\\u001b[2m:\u001b[0m\u001b]8;id=39821;file:///Users/giacomomagni/.conda/envs/yad_dev/lib/python3.10/site-packages/eko/couplings.py#464\u001b\\\u001b[2m464\u001b[0m\u001b]8;;\u001b\\\n"
      ]
     },
     "metadata": {},
     "output_type": "display_data"
    },
    {
     "data": {
      "text/html": [
       "<pre style=\"white-space:pre;overflow-x:auto;line-height:normal;font-family:Menlo,'DejaVu Sans Mono',consolas,'Courier New',monospace\"><span style=\"color: #7fbfbf; text-decoration-color: #7fbfbf\">           </span><span style=\"color: #000080; text-decoration-color: #000080\">INFO    </span> <span style=\"font-weight: bold\">{</span><span style=\"color: #008000; text-decoration-color: #008000\">'polarized'</span>: <span style=\"color: #ff0000; text-decoration-color: #ff0000; font-style: italic\">False</span><span style=\"font-weight: bold\">}</span>                                                                 <a href=\"file:///Users/giacomomagni/.conda/envs/yad_dev/lib/python3.10/site-packages/eko/evolution_operator/grid.py\" target=\"_blank\"><span style=\"color: #7f7f7f; text-decoration-color: #7f7f7f\">grid.py</span></a><span style=\"color: #7f7f7f; text-decoration-color: #7f7f7f\">:</span><a href=\"file:///Users/giacomomagni/.conda/envs/yad_dev/lib/python3.10/site-packages/eko/evolution_operator/grid.py#93\" target=\"_blank\"><span style=\"color: #7f7f7f; text-decoration-color: #7f7f7f\">93</span></a>\n",
       "</pre>\n"
      ],
      "text/plain": [
       "\u001b[2;36m          \u001b[0m\u001b[2;36m \u001b[0m\u001b[34mINFO    \u001b[0m \u001b[1m{\u001b[0m\u001b[32m'polarized'\u001b[0m: \u001b[3;91mFalse\u001b[0m\u001b[1m}\u001b[0m                                                                 \u001b]8;id=845063;file:///Users/giacomomagni/.conda/envs/yad_dev/lib/python3.10/site-packages/eko/evolution_operator/grid.py\u001b\\\u001b[2mgrid.py\u001b[0m\u001b]8;;\u001b\\\u001b[2m:\u001b[0m\u001b]8;id=912165;file:///Users/giacomomagni/.conda/envs/yad_dev/lib/python3.10/site-packages/eko/evolution_operator/grid.py#93\u001b\\\u001b[2m93\u001b[0m\u001b]8;;\u001b\\\n"
      ]
     },
     "metadata": {},
     "output_type": "display_data"
    },
    {
     "data": {
      "text/html": [
       "<pre style=\"white-space:pre;overflow-x:auto;line-height:normal;font-family:Menlo,'DejaVu Sans Mono',consolas,'Courier New',monospace\"><span style=\"color: #7fbfbf; text-decoration-color: #7fbfbf\">           </span><span style=\"color: #000080; text-decoration-color: #000080\">INFO    </span> <span style=\"font-weight: bold\">{</span><span style=\"color: #008000; text-decoration-color: #008000\">'time_like'</span>: <span style=\"color: #ff0000; text-decoration-color: #ff0000; font-style: italic\">False</span><span style=\"font-weight: bold\">}</span>                                                                 <a href=\"file:///Users/giacomomagni/.conda/envs/yad_dev/lib/python3.10/site-packages/eko/evolution_operator/grid.py\" target=\"_blank\"><span style=\"color: #7f7f7f; text-decoration-color: #7f7f7f\">grid.py</span></a><span style=\"color: #7f7f7f; text-decoration-color: #7f7f7f\">:</span><a href=\"file:///Users/giacomomagni/.conda/envs/yad_dev/lib/python3.10/site-packages/eko/evolution_operator/grid.py#94\" target=\"_blank\"><span style=\"color: #7f7f7f; text-decoration-color: #7f7f7f\">94</span></a>\n",
       "</pre>\n"
      ],
      "text/plain": [
       "\u001b[2;36m          \u001b[0m\u001b[2;36m \u001b[0m\u001b[34mINFO    \u001b[0m \u001b[1m{\u001b[0m\u001b[32m'time_like'\u001b[0m: \u001b[3;91mFalse\u001b[0m\u001b[1m}\u001b[0m                                                                 \u001b]8;id=772801;file:///Users/giacomomagni/.conda/envs/yad_dev/lib/python3.10/site-packages/eko/evolution_operator/grid.py\u001b\\\u001b[2mgrid.py\u001b[0m\u001b]8;;\u001b\\\u001b[2m:\u001b[0m\u001b]8;id=613858;file:///Users/giacomomagni/.conda/envs/yad_dev/lib/python3.10/site-packages/eko/evolution_operator/grid.py#94\u001b\\\u001b[2m94\u001b[0m\u001b]8;;\u001b\\\n"
      ]
     },
     "metadata": {},
     "output_type": "display_data"
    },
    {
     "data": {
      "text/html": [
       "<pre style=\"white-space:pre;overflow-x:auto;line-height:normal;font-family:Menlo,'DejaVu Sans Mono',consolas,'Courier New',monospace\"><span style=\"color: #7fbfbf; text-decoration-color: #7fbfbf\">           </span><span style=\"color: #000080; text-decoration-color: #000080\">INFO    </span> Prepare threshold operator                                                          <a href=\"file:///Users/giacomomagni/.conda/envs/yad_dev/lib/python3.10/site-packages/eko/evolution_operator/grid.py\" target=\"_blank\"><span style=\"color: #7f7f7f; text-decoration-color: #7f7f7f\">grid.py</span></a><span style=\"color: #7f7f7f; text-decoration-color: #7f7f7f\">:</span><a href=\"file:///Users/giacomomagni/.conda/envs/yad_dev/lib/python3.10/site-packages/eko/evolution_operator/grid.py#139\" target=\"_blank\"><span style=\"color: #7f7f7f; text-decoration-color: #7f7f7f\">139</span></a>\n",
       "</pre>\n"
      ],
      "text/plain": [
       "\u001b[2;36m          \u001b[0m\u001b[2;36m \u001b[0m\u001b[34mINFO    \u001b[0m Prepare threshold operator                                                          \u001b]8;id=723032;file:///Users/giacomomagni/.conda/envs/yad_dev/lib/python3.10/site-packages/eko/evolution_operator/grid.py\u001b\\\u001b[2mgrid.py\u001b[0m\u001b]8;;\u001b\\\u001b[2m:\u001b[0m\u001b]8;id=638987;file:///Users/giacomomagni/.conda/envs/yad_dev/lib/python3.10/site-packages/eko/evolution_operator/grid.py#139\u001b\\\u001b[2m139\u001b[0m\u001b]8;;\u001b\\\n"
      ]
     },
     "metadata": {},
     "output_type": "display_data"
    },
    {
     "data": {
      "text/html": [
       "<pre style=\"white-space:pre;overflow-x:auto;line-height:normal;font-family:Menlo,'DejaVu Sans Mono',consolas,'Courier New',monospace\"><span style=\"color: #7fbfbf; text-decoration-color: #7fbfbf\">           </span><span style=\"color: #000080; text-decoration-color: #000080\">INFO    </span> Evolution: computing operators <span style=\"color: #008080; text-decoration-color: #008080; font-weight: bold\">2.722500e+00</span> -&gt; <span style=\"color: #008080; text-decoration-color: #008080; font-weight: bold\">2.420640e+01</span>, <span style=\"color: #808000; text-decoration-color: #808000\">nf</span>=<span style=\"color: #008080; text-decoration-color: #008080; font-weight: bold\">4</span>               <a href=\"file:///Users/giacomomagni/.conda/envs/yad_dev/lib/python3.10/site-packages/eko/evolution_operator/__init__.py\" target=\"_blank\"><span style=\"color: #7f7f7f; text-decoration-color: #7f7f7f\">__init__.py</span></a><span style=\"color: #7f7f7f; text-decoration-color: #7f7f7f\">:</span><a href=\"file:///Users/giacomomagni/.conda/envs/yad_dev/lib/python3.10/site-packages/eko/evolution_operator/__init__.py#917\" target=\"_blank\"><span style=\"color: #7f7f7f; text-decoration-color: #7f7f7f\">917</span></a>\n",
       "</pre>\n"
      ],
      "text/plain": [
       "\u001b[2;36m          \u001b[0m\u001b[2;36m \u001b[0m\u001b[34mINFO    \u001b[0m Evolution: computing operators \u001b[1;36m2.722500e+00\u001b[0m -> \u001b[1;36m2.420640e+01\u001b[0m, \u001b[33mnf\u001b[0m=\u001b[1;36m4\u001b[0m               \u001b]8;id=283079;file:///Users/giacomomagni/.conda/envs/yad_dev/lib/python3.10/site-packages/eko/evolution_operator/__init__.py\u001b\\\u001b[2m__init__.py\u001b[0m\u001b]8;;\u001b\\\u001b[2m:\u001b[0m\u001b]8;id=543840;file:///Users/giacomomagni/.conda/envs/yad_dev/lib/python3.10/site-packages/eko/evolution_operator/__init__.py#917\u001b\\\u001b[2m917\u001b[0m\u001b]8;;\u001b\\\n"
      ]
     },
     "metadata": {},
     "output_type": "display_data"
    },
    {
     "data": {
      "text/html": [
       "<pre style=\"white-space:pre;overflow-x:auto;line-height:normal;font-family:Menlo,'DejaVu Sans Mono',consolas,'Courier New',monospace\"><span style=\"color: #7fbfbf; text-decoration-color: #7fbfbf\">           </span><span style=\"color: #000080; text-decoration-color: #000080\">INFO    </span> Evolution: µ_R^<span style=\"color: #008080; text-decoration-color: #008080; font-weight: bold\">2</span> distance: <span style=\"color: #008080; text-decoration-color: #008080; font-weight: bold\">2.722500e+00</span> -&gt; <span style=\"color: #008080; text-decoration-color: #008080; font-weight: bold\">2.420640e+01</span>                         <a href=\"file:///Users/giacomomagni/.conda/envs/yad_dev/lib/python3.10/site-packages/eko/evolution_operator/__init__.py\" target=\"_blank\"><span style=\"color: #7f7f7f; text-decoration-color: #7f7f7f\">__init__.py</span></a><span style=\"color: #7f7f7f; text-decoration-color: #7f7f7f\">:</span><a href=\"file:///Users/giacomomagni/.conda/envs/yad_dev/lib/python3.10/site-packages/eko/evolution_operator/__init__.py#924\" target=\"_blank\"><span style=\"color: #7f7f7f; text-decoration-color: #7f7f7f\">924</span></a>\n",
       "</pre>\n"
      ],
      "text/plain": [
       "\u001b[2;36m          \u001b[0m\u001b[2;36m \u001b[0m\u001b[34mINFO    \u001b[0m Evolution: µ_R^\u001b[1;36m2\u001b[0m distance: \u001b[1;36m2.722500e+00\u001b[0m -> \u001b[1;36m2.420640e+01\u001b[0m                         \u001b]8;id=965764;file:///Users/giacomomagni/.conda/envs/yad_dev/lib/python3.10/site-packages/eko/evolution_operator/__init__.py\u001b\\\u001b[2m__init__.py\u001b[0m\u001b]8;;\u001b\\\u001b[2m:\u001b[0m\u001b]8;id=702550;file:///Users/giacomomagni/.conda/envs/yad_dev/lib/python3.10/site-packages/eko/evolution_operator/__init__.py#924\u001b\\\u001b[2m924\u001b[0m\u001b]8;;\u001b\\\n"
      ]
     },
     "metadata": {},
     "output_type": "display_data"
    },
    {
     "data": {
      "text/html": [
       "<pre style=\"white-space:pre;overflow-x:auto;line-height:normal;font-family:Menlo,'DejaVu Sans Mono',consolas,'Courier New',monospace\"><span style=\"color: #7fbfbf; text-decoration-color: #7fbfbf\">           </span><span style=\"color: #000080; text-decoration-color: #000080\">INFO    </span> Evolution: a_s distance: <span style=\"color: #008080; text-decoration-color: #008080; font-weight: bold\">2.605852e-02</span> -&gt; <span style=\"color: #008080; text-decoration-color: #008080; font-weight: bold\">1.697192e-02</span>                           <a href=\"file:///Users/giacomomagni/.conda/envs/yad_dev/lib/python3.10/site-packages/eko/evolution_operator/__init__.py\" target=\"_blank\"><span style=\"color: #7f7f7f; text-decoration-color: #7f7f7f\">__init__.py</span></a><span style=\"color: #7f7f7f; text-decoration-color: #7f7f7f\">:</span><a href=\"file:///Users/giacomomagni/.conda/envs/yad_dev/lib/python3.10/site-packages/eko/evolution_operator/__init__.py#936\" target=\"_blank\"><span style=\"color: #7f7f7f; text-decoration-color: #7f7f7f\">936</span></a>\n",
       "</pre>\n"
      ],
      "text/plain": [
       "\u001b[2;36m          \u001b[0m\u001b[2;36m \u001b[0m\u001b[34mINFO    \u001b[0m Evolution: a_s distance: \u001b[1;36m2.605852e-02\u001b[0m -> \u001b[1;36m1.697192e-02\u001b[0m                           \u001b]8;id=818369;file:///Users/giacomomagni/.conda/envs/yad_dev/lib/python3.10/site-packages/eko/evolution_operator/__init__.py\u001b\\\u001b[2m__init__.py\u001b[0m\u001b]8;;\u001b\\\u001b[2m:\u001b[0m\u001b]8;id=345267;file:///Users/giacomomagni/.conda/envs/yad_dev/lib/python3.10/site-packages/eko/evolution_operator/__init__.py#936\u001b\\\u001b[2m936\u001b[0m\u001b]8;;\u001b\\\n"
      ]
     },
     "metadata": {},
     "output_type": "display_data"
    },
    {
     "data": {
      "text/html": [
       "<pre style=\"white-space:pre;overflow-x:auto;line-height:normal;font-family:Menlo,'DejaVu Sans Mono',consolas,'Courier New',monospace\"><span style=\"color: #7fbfbf; text-decoration-color: #7fbfbf\">           </span><span style=\"color: #000080; text-decoration-color: #000080\">INFO    </span> Evolution: order: <span style=\"font-weight: bold\">(</span><span style=\"color: #008080; text-decoration-color: #008080; font-weight: bold\">2</span>, <span style=\"color: #008080; text-decoration-color: #008080; font-weight: bold\">0</span><span style=\"font-weight: bold\">)</span>, solution strategy: iterate-exact, use fhmruvv: <span style=\"color: #ff0000; text-decoration-color: #ff0000; font-style: italic\">False</span>  <a href=\"file:///Users/giacomomagni/.conda/envs/yad_dev/lib/python3.10/site-packages/eko/evolution_operator/__init__.py\" target=\"_blank\"><span style=\"color: #7f7f7f; text-decoration-color: #7f7f7f\">__init__.py</span></a><span style=\"color: #7f7f7f; text-decoration-color: #7f7f7f\">:</span><a href=\"file:///Users/giacomomagni/.conda/envs/yad_dev/lib/python3.10/site-packages/eko/evolution_operator/__init__.py#946\" target=\"_blank\"><span style=\"color: #7f7f7f; text-decoration-color: #7f7f7f\">946</span></a>\n",
       "</pre>\n"
      ],
      "text/plain": [
       "\u001b[2;36m          \u001b[0m\u001b[2;36m \u001b[0m\u001b[34mINFO    \u001b[0m Evolution: order: \u001b[1m(\u001b[0m\u001b[1;36m2\u001b[0m, \u001b[1;36m0\u001b[0m\u001b[1m)\u001b[0m, solution strategy: iterate-exact, use fhmruvv: \u001b[3;91mFalse\u001b[0m  \u001b]8;id=329094;file:///Users/giacomomagni/.conda/envs/yad_dev/lib/python3.10/site-packages/eko/evolution_operator/__init__.py\u001b\\\u001b[2m__init__.py\u001b[0m\u001b]8;;\u001b\\\u001b[2m:\u001b[0m\u001b]8;id=585529;file:///Users/giacomomagni/.conda/envs/yad_dev/lib/python3.10/site-packages/eko/evolution_operator/__init__.py#946\u001b\\\u001b[2m946\u001b[0m\u001b]8;;\u001b\\\n"
      ]
     },
     "metadata": {},
     "output_type": "display_data"
    },
    {
     "data": {
      "text/html": [
       "<pre style=\"white-space:pre;overflow-x:auto;line-height:normal;font-family:Menlo,'DejaVu Sans Mono',consolas,'Courier New',monospace\"><span style=\"color: #7fbfbf; text-decoration-color: #7fbfbf\">           </span><span style=\"color: #000080; text-decoration-color: #000080\">INFO    </span> Evolution: computing operators - <span style=\"color: #008080; text-decoration-color: #008080; font-weight: bold\">1</span>/<span style=\"color: #008080; text-decoration-color: #008080; font-weight: bold\">8</span> took: <span style=\"color: #008080; text-decoration-color: #008080; font-weight: bold\">0.495269</span> s                           <a href=\"file:///Users/giacomomagni/.conda/envs/yad_dev/lib/python3.10/site-packages/eko/evolution_operator/__init__.py\" target=\"_blank\"><span style=\"color: #7f7f7f; text-decoration-color: #7f7f7f\">__init__.py</span></a><span style=\"color: #7f7f7f; text-decoration-color: #7f7f7f\">:</span><a href=\"file:///Users/giacomomagni/.conda/envs/yad_dev/lib/python3.10/site-packages/eko/evolution_operator/__init__.py#889\" target=\"_blank\"><span style=\"color: #7f7f7f; text-decoration-color: #7f7f7f\">889</span></a>\n",
       "</pre>\n"
      ],
      "text/plain": [
       "\u001b[2;36m          \u001b[0m\u001b[2;36m \u001b[0m\u001b[34mINFO    \u001b[0m Evolution: computing operators - \u001b[1;36m1\u001b[0m/\u001b[1;36m8\u001b[0m took: \u001b[1;36m0.495269\u001b[0m s                           \u001b]8;id=8483;file:///Users/giacomomagni/.conda/envs/yad_dev/lib/python3.10/site-packages/eko/evolution_operator/__init__.py\u001b\\\u001b[2m__init__.py\u001b[0m\u001b]8;;\u001b\\\u001b[2m:\u001b[0m\u001b]8;id=9875;file:///Users/giacomomagni/.conda/envs/yad_dev/lib/python3.10/site-packages/eko/evolution_operator/__init__.py#889\u001b\\\u001b[2m889\u001b[0m\u001b]8;;\u001b\\\n"
      ]
     },
     "metadata": {},
     "output_type": "display_data"
    },
    {
     "data": {
      "text/html": [
       "<pre style=\"white-space:pre;overflow-x:auto;line-height:normal;font-family:Menlo,'DejaVu Sans Mono',consolas,'Courier New',monospace\"><span style=\"color: #7fbfbf; text-decoration-color: #7fbfbf\">[14:05:10] </span><span style=\"color: #000080; text-decoration-color: #000080\">INFO    </span> Evolution: computing operators - <span style=\"color: #008080; text-decoration-color: #008080; font-weight: bold\">2</span>/<span style=\"color: #008080; text-decoration-color: #008080; font-weight: bold\">8</span> took: <span style=\"color: #008080; text-decoration-color: #008080; font-weight: bold\">0.467331</span> s                           <a href=\"file:///Users/giacomomagni/.conda/envs/yad_dev/lib/python3.10/site-packages/eko/evolution_operator/__init__.py\" target=\"_blank\"><span style=\"color: #7f7f7f; text-decoration-color: #7f7f7f\">__init__.py</span></a><span style=\"color: #7f7f7f; text-decoration-color: #7f7f7f\">:</span><a href=\"file:///Users/giacomomagni/.conda/envs/yad_dev/lib/python3.10/site-packages/eko/evolution_operator/__init__.py#889\" target=\"_blank\"><span style=\"color: #7f7f7f; text-decoration-color: #7f7f7f\">889</span></a>\n",
       "</pre>\n"
      ],
      "text/plain": [
       "\u001b[2;36m[14:05:10]\u001b[0m\u001b[2;36m \u001b[0m\u001b[34mINFO    \u001b[0m Evolution: computing operators - \u001b[1;36m2\u001b[0m/\u001b[1;36m8\u001b[0m took: \u001b[1;36m0.467331\u001b[0m s                           \u001b]8;id=801039;file:///Users/giacomomagni/.conda/envs/yad_dev/lib/python3.10/site-packages/eko/evolution_operator/__init__.py\u001b\\\u001b[2m__init__.py\u001b[0m\u001b]8;;\u001b\\\u001b[2m:\u001b[0m\u001b]8;id=727040;file:///Users/giacomomagni/.conda/envs/yad_dev/lib/python3.10/site-packages/eko/evolution_operator/__init__.py#889\u001b\\\u001b[2m889\u001b[0m\u001b]8;;\u001b\\\n"
      ]
     },
     "metadata": {},
     "output_type": "display_data"
    },
    {
     "data": {
      "text/html": [
       "<pre style=\"white-space:pre;overflow-x:auto;line-height:normal;font-family:Menlo,'DejaVu Sans Mono',consolas,'Courier New',monospace\"><span style=\"color: #7fbfbf; text-decoration-color: #7fbfbf\">           </span><span style=\"color: #000080; text-decoration-color: #000080\">INFO    </span> Evolution: computing operators - <span style=\"color: #008080; text-decoration-color: #008080; font-weight: bold\">3</span>/<span style=\"color: #008080; text-decoration-color: #008080; font-weight: bold\">8</span> took: <span style=\"color: #008080; text-decoration-color: #008080; font-weight: bold\">0.442965</span> s                           <a href=\"file:///Users/giacomomagni/.conda/envs/yad_dev/lib/python3.10/site-packages/eko/evolution_operator/__init__.py\" target=\"_blank\"><span style=\"color: #7f7f7f; text-decoration-color: #7f7f7f\">__init__.py</span></a><span style=\"color: #7f7f7f; text-decoration-color: #7f7f7f\">:</span><a href=\"file:///Users/giacomomagni/.conda/envs/yad_dev/lib/python3.10/site-packages/eko/evolution_operator/__init__.py#889\" target=\"_blank\"><span style=\"color: #7f7f7f; text-decoration-color: #7f7f7f\">889</span></a>\n",
       "</pre>\n"
      ],
      "text/plain": [
       "\u001b[2;36m          \u001b[0m\u001b[2;36m \u001b[0m\u001b[34mINFO    \u001b[0m Evolution: computing operators - \u001b[1;36m3\u001b[0m/\u001b[1;36m8\u001b[0m took: \u001b[1;36m0.442965\u001b[0m s                           \u001b]8;id=236025;file:///Users/giacomomagni/.conda/envs/yad_dev/lib/python3.10/site-packages/eko/evolution_operator/__init__.py\u001b\\\u001b[2m__init__.py\u001b[0m\u001b]8;;\u001b\\\u001b[2m:\u001b[0m\u001b]8;id=626353;file:///Users/giacomomagni/.conda/envs/yad_dev/lib/python3.10/site-packages/eko/evolution_operator/__init__.py#889\u001b\\\u001b[2m889\u001b[0m\u001b]8;;\u001b\\\n"
      ]
     },
     "metadata": {},
     "output_type": "display_data"
    },
    {
     "data": {
      "text/html": [
       "<pre style=\"white-space:pre;overflow-x:auto;line-height:normal;font-family:Menlo,'DejaVu Sans Mono',consolas,'Courier New',monospace\"><span style=\"color: #7fbfbf; text-decoration-color: #7fbfbf\">           </span><span style=\"color: #000080; text-decoration-color: #000080\">INFO    </span> Evolution: computing operators - <span style=\"color: #008080; text-decoration-color: #008080; font-weight: bold\">4</span>/<span style=\"color: #008080; text-decoration-color: #008080; font-weight: bold\">8</span> took: <span style=\"color: #008080; text-decoration-color: #008080; font-weight: bold\">0.301113</span> s                           <a href=\"file:///Users/giacomomagni/.conda/envs/yad_dev/lib/python3.10/site-packages/eko/evolution_operator/__init__.py\" target=\"_blank\"><span style=\"color: #7f7f7f; text-decoration-color: #7f7f7f\">__init__.py</span></a><span style=\"color: #7f7f7f; text-decoration-color: #7f7f7f\">:</span><a href=\"file:///Users/giacomomagni/.conda/envs/yad_dev/lib/python3.10/site-packages/eko/evolution_operator/__init__.py#889\" target=\"_blank\"><span style=\"color: #7f7f7f; text-decoration-color: #7f7f7f\">889</span></a>\n",
       "</pre>\n"
      ],
      "text/plain": [
       "\u001b[2;36m          \u001b[0m\u001b[2;36m \u001b[0m\u001b[34mINFO    \u001b[0m Evolution: computing operators - \u001b[1;36m4\u001b[0m/\u001b[1;36m8\u001b[0m took: \u001b[1;36m0.301113\u001b[0m s                           \u001b]8;id=936080;file:///Users/giacomomagni/.conda/envs/yad_dev/lib/python3.10/site-packages/eko/evolution_operator/__init__.py\u001b\\\u001b[2m__init__.py\u001b[0m\u001b]8;;\u001b\\\u001b[2m:\u001b[0m\u001b]8;id=591660;file:///Users/giacomomagni/.conda/envs/yad_dev/lib/python3.10/site-packages/eko/evolution_operator/__init__.py#889\u001b\\\u001b[2m889\u001b[0m\u001b]8;;\u001b\\\n"
      ]
     },
     "metadata": {},
     "output_type": "display_data"
    },
    {
     "data": {
      "text/html": [
       "<pre style=\"white-space:pre;overflow-x:auto;line-height:normal;font-family:Menlo,'DejaVu Sans Mono',consolas,'Courier New',monospace\"><span style=\"color: #7fbfbf; text-decoration-color: #7fbfbf\">[14:05:11] </span><span style=\"color: #000080; text-decoration-color: #000080\">INFO    </span> Evolution: computing operators - <span style=\"color: #008080; text-decoration-color: #008080; font-weight: bold\">5</span>/<span style=\"color: #008080; text-decoration-color: #008080; font-weight: bold\">8</span> took: <span style=\"color: #008080; text-decoration-color: #008080; font-weight: bold\">0.238625</span> s                           <a href=\"file:///Users/giacomomagni/.conda/envs/yad_dev/lib/python3.10/site-packages/eko/evolution_operator/__init__.py\" target=\"_blank\"><span style=\"color: #7f7f7f; text-decoration-color: #7f7f7f\">__init__.py</span></a><span style=\"color: #7f7f7f; text-decoration-color: #7f7f7f\">:</span><a href=\"file:///Users/giacomomagni/.conda/envs/yad_dev/lib/python3.10/site-packages/eko/evolution_operator/__init__.py#889\" target=\"_blank\"><span style=\"color: #7f7f7f; text-decoration-color: #7f7f7f\">889</span></a>\n",
       "</pre>\n"
      ],
      "text/plain": [
       "\u001b[2;36m[14:05:11]\u001b[0m\u001b[2;36m \u001b[0m\u001b[34mINFO    \u001b[0m Evolution: computing operators - \u001b[1;36m5\u001b[0m/\u001b[1;36m8\u001b[0m took: \u001b[1;36m0.238625\u001b[0m s                           \u001b]8;id=691036;file:///Users/giacomomagni/.conda/envs/yad_dev/lib/python3.10/site-packages/eko/evolution_operator/__init__.py\u001b\\\u001b[2m__init__.py\u001b[0m\u001b]8;;\u001b\\\u001b[2m:\u001b[0m\u001b]8;id=555355;file:///Users/giacomomagni/.conda/envs/yad_dev/lib/python3.10/site-packages/eko/evolution_operator/__init__.py#889\u001b\\\u001b[2m889\u001b[0m\u001b]8;;\u001b\\\n"
      ]
     },
     "metadata": {},
     "output_type": "display_data"
    },
    {
     "data": {
      "text/html": [
       "<pre style=\"white-space:pre;overflow-x:auto;line-height:normal;font-family:Menlo,'DejaVu Sans Mono',consolas,'Courier New',monospace\"><span style=\"color: #7fbfbf; text-decoration-color: #7fbfbf\">           </span><span style=\"color: #000080; text-decoration-color: #000080\">INFO    </span> Evolution: computing operators - <span style=\"color: #008080; text-decoration-color: #008080; font-weight: bold\">6</span>/<span style=\"color: #008080; text-decoration-color: #008080; font-weight: bold\">8</span> took: <span style=\"color: #008080; text-decoration-color: #008080; font-weight: bold\">0.236200</span> s                           <a href=\"file:///Users/giacomomagni/.conda/envs/yad_dev/lib/python3.10/site-packages/eko/evolution_operator/__init__.py\" target=\"_blank\"><span style=\"color: #7f7f7f; text-decoration-color: #7f7f7f\">__init__.py</span></a><span style=\"color: #7f7f7f; text-decoration-color: #7f7f7f\">:</span><a href=\"file:///Users/giacomomagni/.conda/envs/yad_dev/lib/python3.10/site-packages/eko/evolution_operator/__init__.py#889\" target=\"_blank\"><span style=\"color: #7f7f7f; text-decoration-color: #7f7f7f\">889</span></a>\n",
       "</pre>\n"
      ],
      "text/plain": [
       "\u001b[2;36m          \u001b[0m\u001b[2;36m \u001b[0m\u001b[34mINFO    \u001b[0m Evolution: computing operators - \u001b[1;36m6\u001b[0m/\u001b[1;36m8\u001b[0m took: \u001b[1;36m0.236200\u001b[0m s                           \u001b]8;id=761698;file:///Users/giacomomagni/.conda/envs/yad_dev/lib/python3.10/site-packages/eko/evolution_operator/__init__.py\u001b\\\u001b[2m__init__.py\u001b[0m\u001b]8;;\u001b\\\u001b[2m:\u001b[0m\u001b]8;id=971876;file:///Users/giacomomagni/.conda/envs/yad_dev/lib/python3.10/site-packages/eko/evolution_operator/__init__.py#889\u001b\\\u001b[2m889\u001b[0m\u001b]8;;\u001b\\\n"
      ]
     },
     "metadata": {},
     "output_type": "display_data"
    },
    {
     "data": {
      "text/html": [
       "<pre style=\"white-space:pre;overflow-x:auto;line-height:normal;font-family:Menlo,'DejaVu Sans Mono',consolas,'Courier New',monospace\"><span style=\"color: #7fbfbf; text-decoration-color: #7fbfbf\">           </span><span style=\"color: #000080; text-decoration-color: #000080\">INFO    </span> Evolution: computing operators - <span style=\"color: #008080; text-decoration-color: #008080; font-weight: bold\">7</span>/<span style=\"color: #008080; text-decoration-color: #008080; font-weight: bold\">8</span> took: <span style=\"color: #008080; text-decoration-color: #008080; font-weight: bold\">0.207083</span> s                           <a href=\"file:///Users/giacomomagni/.conda/envs/yad_dev/lib/python3.10/site-packages/eko/evolution_operator/__init__.py\" target=\"_blank\"><span style=\"color: #7f7f7f; text-decoration-color: #7f7f7f\">__init__.py</span></a><span style=\"color: #7f7f7f; text-decoration-color: #7f7f7f\">:</span><a href=\"file:///Users/giacomomagni/.conda/envs/yad_dev/lib/python3.10/site-packages/eko/evolution_operator/__init__.py#889\" target=\"_blank\"><span style=\"color: #7f7f7f; text-decoration-color: #7f7f7f\">889</span></a>\n",
       "</pre>\n"
      ],
      "text/plain": [
       "\u001b[2;36m          \u001b[0m\u001b[2;36m \u001b[0m\u001b[34mINFO    \u001b[0m Evolution: computing operators - \u001b[1;36m7\u001b[0m/\u001b[1;36m8\u001b[0m took: \u001b[1;36m0.207083\u001b[0m s                           \u001b]8;id=946089;file:///Users/giacomomagni/.conda/envs/yad_dev/lib/python3.10/site-packages/eko/evolution_operator/__init__.py\u001b\\\u001b[2m__init__.py\u001b[0m\u001b]8;;\u001b\\\u001b[2m:\u001b[0m\u001b]8;id=7409;file:///Users/giacomomagni/.conda/envs/yad_dev/lib/python3.10/site-packages/eko/evolution_operator/__init__.py#889\u001b\\\u001b[2m889\u001b[0m\u001b]8;;\u001b\\\n"
      ]
     },
     "metadata": {},
     "output_type": "display_data"
    },
    {
     "data": {
      "text/html": [
       "<pre style=\"white-space:pre;overflow-x:auto;line-height:normal;font-family:Menlo,'DejaVu Sans Mono',consolas,'Courier New',monospace\"><span style=\"color: #7fbfbf; text-decoration-color: #7fbfbf\">           </span><span style=\"color: #000080; text-decoration-color: #000080\">INFO    </span> Evolution: computing operators - <span style=\"color: #008080; text-decoration-color: #008080; font-weight: bold\">8</span>/<span style=\"color: #008080; text-decoration-color: #008080; font-weight: bold\">8</span> took: <span style=\"color: #008080; text-decoration-color: #008080; font-weight: bold\">0.039832</span> s                           <a href=\"file:///Users/giacomomagni/.conda/envs/yad_dev/lib/python3.10/site-packages/eko/evolution_operator/__init__.py\" target=\"_blank\"><span style=\"color: #7f7f7f; text-decoration-color: #7f7f7f\">__init__.py</span></a><span style=\"color: #7f7f7f; text-decoration-color: #7f7f7f\">:</span><a href=\"file:///Users/giacomomagni/.conda/envs/yad_dev/lib/python3.10/site-packages/eko/evolution_operator/__init__.py#889\" target=\"_blank\"><span style=\"color: #7f7f7f; text-decoration-color: #7f7f7f\">889</span></a>\n",
       "</pre>\n"
      ],
      "text/plain": [
       "\u001b[2;36m          \u001b[0m\u001b[2;36m \u001b[0m\u001b[34mINFO    \u001b[0m Evolution: computing operators - \u001b[1;36m8\u001b[0m/\u001b[1;36m8\u001b[0m took: \u001b[1;36m0.039832\u001b[0m s                           \u001b]8;id=148036;file:///Users/giacomomagni/.conda/envs/yad_dev/lib/python3.10/site-packages/eko/evolution_operator/__init__.py\u001b\\\u001b[2m__init__.py\u001b[0m\u001b]8;;\u001b\\\u001b[2m:\u001b[0m\u001b]8;id=122662;file:///Users/giacomomagni/.conda/envs/yad_dev/lib/python3.10/site-packages/eko/evolution_operator/__init__.py#889\u001b\\\u001b[2m889\u001b[0m\u001b]8;;\u001b\\\n"
      ]
     },
     "metadata": {},
     "output_type": "display_data"
    },
    {
     "data": {
      "text/html": [
       "<pre style=\"white-space:pre;overflow-x:auto;line-height:normal;font-family:Menlo,'DejaVu Sans Mono',consolas,'Courier New',monospace\"><span style=\"color: #7fbfbf; text-decoration-color: #7fbfbf\">           </span><span style=\"color: #000080; text-decoration-color: #000080\">INFO    </span> Evolution: Total time <span style=\"color: #008080; text-decoration-color: #008080; font-weight: bold\">2.454101</span> s                                                <a href=\"file:///Users/giacomomagni/.conda/envs/yad_dev/lib/python3.10/site-packages/eko/evolution_operator/__init__.py\" target=\"_blank\"><span style=\"color: #7f7f7f; text-decoration-color: #7f7f7f\">__init__.py</span></a><span style=\"color: #7f7f7f; text-decoration-color: #7f7f7f\">:</span><a href=\"file:///Users/giacomomagni/.conda/envs/yad_dev/lib/python3.10/site-packages/eko/evolution_operator/__init__.py#982\" target=\"_blank\"><span style=\"color: #7f7f7f; text-decoration-color: #7f7f7f\">982</span></a>\n",
       "</pre>\n"
      ],
      "text/plain": [
       "\u001b[2;36m          \u001b[0m\u001b[2;36m \u001b[0m\u001b[34mINFO    \u001b[0m Evolution: Total time \u001b[1;36m2.454101\u001b[0m s                                                \u001b]8;id=15704;file:///Users/giacomomagni/.conda/envs/yad_dev/lib/python3.10/site-packages/eko/evolution_operator/__init__.py\u001b\\\u001b[2m__init__.py\u001b[0m\u001b]8;;\u001b\\\u001b[2m:\u001b[0m\u001b]8;id=490515;file:///Users/giacomomagni/.conda/envs/yad_dev/lib/python3.10/site-packages/eko/evolution_operator/__init__.py#982\u001b\\\u001b[2m982\u001b[0m\u001b]8;;\u001b\\\n"
      ]
     },
     "metadata": {},
     "output_type": "display_data"
    },
    {
     "data": {
      "text/html": [
       "<pre style=\"white-space:pre;overflow-x:auto;line-height:normal;font-family:Menlo,'DejaVu Sans Mono',consolas,'Courier New',monospace\"><span style=\"color: #7fbfbf; text-decoration-color: #7fbfbf\">           </span><span style=\"color: #000080; text-decoration-color: #000080\">INFO    </span> Matching: order: <span style=\"font-weight: bold\">(</span><span style=\"color: #008080; text-decoration-color: #008080; font-weight: bold\">1</span>, <span style=\"color: #008080; text-decoration-color: #008080; font-weight: bold\">0</span><span style=\"font-weight: bold\">)</span>, backward method: <span style=\"color: #800080; text-decoration-color: #800080; font-style: italic\">None</span>                   <a href=\"file:///Users/giacomomagni/.conda/envs/yad_dev/lib/python3.10/site-packages/eko/evolution_operator/operator_matrix_element.py\" target=\"_blank\"><span style=\"color: #7f7f7f; text-decoration-color: #7f7f7f\">operator_matrix_element.py</span></a><span style=\"color: #7f7f7f; text-decoration-color: #7f7f7f\">:</span><a href=\"file:///Users/giacomomagni/.conda/envs/yad_dev/lib/python3.10/site-packages/eko/evolution_operator/operator_matrix_element.py#327\" target=\"_blank\"><span style=\"color: #7f7f7f; text-decoration-color: #7f7f7f\">327</span></a>\n",
       "</pre>\n"
      ],
      "text/plain": [
       "\u001b[2;36m          \u001b[0m\u001b[2;36m \u001b[0m\u001b[34mINFO    \u001b[0m Matching: order: \u001b[1m(\u001b[0m\u001b[1;36m1\u001b[0m, \u001b[1;36m0\u001b[0m\u001b[1m)\u001b[0m, backward method: \u001b[3;35mNone\u001b[0m                   \u001b]8;id=440956;file:///Users/giacomomagni/.conda/envs/yad_dev/lib/python3.10/site-packages/eko/evolution_operator/operator_matrix_element.py\u001b\\\u001b[2moperator_matrix_element.py\u001b[0m\u001b]8;;\u001b\\\u001b[2m:\u001b[0m\u001b]8;id=98680;file:///Users/giacomomagni/.conda/envs/yad_dev/lib/python3.10/site-packages/eko/evolution_operator/operator_matrix_element.py#327\u001b\\\u001b[2m327\u001b[0m\u001b]8;;\u001b\\\n"
      ]
     },
     "metadata": {},
     "output_type": "display_data"
    },
    {
     "data": {
      "text/html": [
       "<pre style=\"white-space:pre;overflow-x:auto;line-height:normal;font-family:Menlo,'DejaVu Sans Mono',consolas,'Courier New',monospace\"><span style=\"color: #7fbfbf; text-decoration-color: #7fbfbf\">[14:05:12] </span><span style=\"color: #000080; text-decoration-color: #000080\">INFO    </span> Matching: computing operators - <span style=\"color: #008080; text-decoration-color: #008080; font-weight: bold\">1</span>/<span style=\"color: #008080; text-decoration-color: #008080; font-weight: bold\">8</span> took: <span style=\"color: #008080; text-decoration-color: #008080; font-weight: bold\">0.914936</span> s                            <a href=\"file:///Users/giacomomagni/.conda/envs/yad_dev/lib/python3.10/site-packages/eko/evolution_operator/__init__.py\" target=\"_blank\"><span style=\"color: #7f7f7f; text-decoration-color: #7f7f7f\">__init__.py</span></a><span style=\"color: #7f7f7f; text-decoration-color: #7f7f7f\">:</span><a href=\"file:///Users/giacomomagni/.conda/envs/yad_dev/lib/python3.10/site-packages/eko/evolution_operator/__init__.py#889\" target=\"_blank\"><span style=\"color: #7f7f7f; text-decoration-color: #7f7f7f\">889</span></a>\n",
       "</pre>\n"
      ],
      "text/plain": [
       "\u001b[2;36m[14:05:12]\u001b[0m\u001b[2;36m \u001b[0m\u001b[34mINFO    \u001b[0m Matching: computing operators - \u001b[1;36m1\u001b[0m/\u001b[1;36m8\u001b[0m took: \u001b[1;36m0.914936\u001b[0m s                            \u001b]8;id=237520;file:///Users/giacomomagni/.conda/envs/yad_dev/lib/python3.10/site-packages/eko/evolution_operator/__init__.py\u001b\\\u001b[2m__init__.py\u001b[0m\u001b]8;;\u001b\\\u001b[2m:\u001b[0m\u001b]8;id=79306;file:///Users/giacomomagni/.conda/envs/yad_dev/lib/python3.10/site-packages/eko/evolution_operator/__init__.py#889\u001b\\\u001b[2m889\u001b[0m\u001b]8;;\u001b\\\n"
      ]
     },
     "metadata": {},
     "output_type": "display_data"
    },
    {
     "data": {
      "text/html": [
       "<pre style=\"white-space:pre;overflow-x:auto;line-height:normal;font-family:Menlo,'DejaVu Sans Mono',consolas,'Courier New',monospace\"><span style=\"color: #7fbfbf; text-decoration-color: #7fbfbf\">[14:05:13] </span><span style=\"color: #000080; text-decoration-color: #000080\">INFO    </span> Matching: computing operators - <span style=\"color: #008080; text-decoration-color: #008080; font-weight: bold\">2</span>/<span style=\"color: #008080; text-decoration-color: #008080; font-weight: bold\">8</span> took: <span style=\"color: #008080; text-decoration-color: #008080; font-weight: bold\">0.808353</span> s                            <a href=\"file:///Users/giacomomagni/.conda/envs/yad_dev/lib/python3.10/site-packages/eko/evolution_operator/__init__.py\" target=\"_blank\"><span style=\"color: #7f7f7f; text-decoration-color: #7f7f7f\">__init__.py</span></a><span style=\"color: #7f7f7f; text-decoration-color: #7f7f7f\">:</span><a href=\"file:///Users/giacomomagni/.conda/envs/yad_dev/lib/python3.10/site-packages/eko/evolution_operator/__init__.py#889\" target=\"_blank\"><span style=\"color: #7f7f7f; text-decoration-color: #7f7f7f\">889</span></a>\n",
       "</pre>\n"
      ],
      "text/plain": [
       "\u001b[2;36m[14:05:13]\u001b[0m\u001b[2;36m \u001b[0m\u001b[34mINFO    \u001b[0m Matching: computing operators - \u001b[1;36m2\u001b[0m/\u001b[1;36m8\u001b[0m took: \u001b[1;36m0.808353\u001b[0m s                            \u001b]8;id=985215;file:///Users/giacomomagni/.conda/envs/yad_dev/lib/python3.10/site-packages/eko/evolution_operator/__init__.py\u001b\\\u001b[2m__init__.py\u001b[0m\u001b]8;;\u001b\\\u001b[2m:\u001b[0m\u001b]8;id=411897;file:///Users/giacomomagni/.conda/envs/yad_dev/lib/python3.10/site-packages/eko/evolution_operator/__init__.py#889\u001b\\\u001b[2m889\u001b[0m\u001b]8;;\u001b\\\n"
      ]
     },
     "metadata": {},
     "output_type": "display_data"
    },
    {
     "data": {
      "text/html": [
       "<pre style=\"white-space:pre;overflow-x:auto;line-height:normal;font-family:Menlo,'DejaVu Sans Mono',consolas,'Courier New',monospace\"><span style=\"color: #7fbfbf; text-decoration-color: #7fbfbf\">[14:05:14] </span><span style=\"color: #000080; text-decoration-color: #000080\">INFO    </span> Matching: computing operators - <span style=\"color: #008080; text-decoration-color: #008080; font-weight: bold\">3</span>/<span style=\"color: #008080; text-decoration-color: #008080; font-weight: bold\">8</span> took: <span style=\"color: #008080; text-decoration-color: #008080; font-weight: bold\">0.734923</span> s                            <a href=\"file:///Users/giacomomagni/.conda/envs/yad_dev/lib/python3.10/site-packages/eko/evolution_operator/__init__.py\" target=\"_blank\"><span style=\"color: #7f7f7f; text-decoration-color: #7f7f7f\">__init__.py</span></a><span style=\"color: #7f7f7f; text-decoration-color: #7f7f7f\">:</span><a href=\"file:///Users/giacomomagni/.conda/envs/yad_dev/lib/python3.10/site-packages/eko/evolution_operator/__init__.py#889\" target=\"_blank\"><span style=\"color: #7f7f7f; text-decoration-color: #7f7f7f\">889</span></a>\n",
       "</pre>\n"
      ],
      "text/plain": [
       "\u001b[2;36m[14:05:14]\u001b[0m\u001b[2;36m \u001b[0m\u001b[34mINFO    \u001b[0m Matching: computing operators - \u001b[1;36m3\u001b[0m/\u001b[1;36m8\u001b[0m took: \u001b[1;36m0.734923\u001b[0m s                            \u001b]8;id=569461;file:///Users/giacomomagni/.conda/envs/yad_dev/lib/python3.10/site-packages/eko/evolution_operator/__init__.py\u001b\\\u001b[2m__init__.py\u001b[0m\u001b]8;;\u001b\\\u001b[2m:\u001b[0m\u001b]8;id=858007;file:///Users/giacomomagni/.conda/envs/yad_dev/lib/python3.10/site-packages/eko/evolution_operator/__init__.py#889\u001b\\\u001b[2m889\u001b[0m\u001b]8;;\u001b\\\n"
      ]
     },
     "metadata": {},
     "output_type": "display_data"
    },
    {
     "data": {
      "text/html": [
       "<pre style=\"white-space:pre;overflow-x:auto;line-height:normal;font-family:Menlo,'DejaVu Sans Mono',consolas,'Courier New',monospace\"><span style=\"color: #7fbfbf; text-decoration-color: #7fbfbf\">           </span><span style=\"color: #000080; text-decoration-color: #000080\">INFO    </span> Matching: computing operators - <span style=\"color: #008080; text-decoration-color: #008080; font-weight: bold\">4</span>/<span style=\"color: #008080; text-decoration-color: #008080; font-weight: bold\">8</span> took: <span style=\"color: #008080; text-decoration-color: #008080; font-weight: bold\">0.607105</span> s                            <a href=\"file:///Users/giacomomagni/.conda/envs/yad_dev/lib/python3.10/site-packages/eko/evolution_operator/__init__.py\" target=\"_blank\"><span style=\"color: #7f7f7f; text-decoration-color: #7f7f7f\">__init__.py</span></a><span style=\"color: #7f7f7f; text-decoration-color: #7f7f7f\">:</span><a href=\"file:///Users/giacomomagni/.conda/envs/yad_dev/lib/python3.10/site-packages/eko/evolution_operator/__init__.py#889\" target=\"_blank\"><span style=\"color: #7f7f7f; text-decoration-color: #7f7f7f\">889</span></a>\n",
       "</pre>\n"
      ],
      "text/plain": [
       "\u001b[2;36m          \u001b[0m\u001b[2;36m \u001b[0m\u001b[34mINFO    \u001b[0m Matching: computing operators - \u001b[1;36m4\u001b[0m/\u001b[1;36m8\u001b[0m took: \u001b[1;36m0.607105\u001b[0m s                            \u001b]8;id=449157;file:///Users/giacomomagni/.conda/envs/yad_dev/lib/python3.10/site-packages/eko/evolution_operator/__init__.py\u001b\\\u001b[2m__init__.py\u001b[0m\u001b]8;;\u001b\\\u001b[2m:\u001b[0m\u001b]8;id=282847;file:///Users/giacomomagni/.conda/envs/yad_dev/lib/python3.10/site-packages/eko/evolution_operator/__init__.py#889\u001b\\\u001b[2m889\u001b[0m\u001b]8;;\u001b\\\n"
      ]
     },
     "metadata": {},
     "output_type": "display_data"
    },
    {
     "data": {
      "text/html": [
       "<pre style=\"white-space:pre;overflow-x:auto;line-height:normal;font-family:Menlo,'DejaVu Sans Mono',consolas,'Courier New',monospace\"><span style=\"color: #7fbfbf; text-decoration-color: #7fbfbf\">[14:05:15] </span><span style=\"color: #000080; text-decoration-color: #000080\">INFO    </span> Matching: computing operators - <span style=\"color: #008080; text-decoration-color: #008080; font-weight: bold\">5</span>/<span style=\"color: #008080; text-decoration-color: #008080; font-weight: bold\">8</span> took: <span style=\"color: #008080; text-decoration-color: #008080; font-weight: bold\">0.532104</span> s                            <a href=\"file:///Users/giacomomagni/.conda/envs/yad_dev/lib/python3.10/site-packages/eko/evolution_operator/__init__.py\" target=\"_blank\"><span style=\"color: #7f7f7f; text-decoration-color: #7f7f7f\">__init__.py</span></a><span style=\"color: #7f7f7f; text-decoration-color: #7f7f7f\">:</span><a href=\"file:///Users/giacomomagni/.conda/envs/yad_dev/lib/python3.10/site-packages/eko/evolution_operator/__init__.py#889\" target=\"_blank\"><span style=\"color: #7f7f7f; text-decoration-color: #7f7f7f\">889</span></a>\n",
       "</pre>\n"
      ],
      "text/plain": [
       "\u001b[2;36m[14:05:15]\u001b[0m\u001b[2;36m \u001b[0m\u001b[34mINFO    \u001b[0m Matching: computing operators - \u001b[1;36m5\u001b[0m/\u001b[1;36m8\u001b[0m took: \u001b[1;36m0.532104\u001b[0m s                            \u001b]8;id=200955;file:///Users/giacomomagni/.conda/envs/yad_dev/lib/python3.10/site-packages/eko/evolution_operator/__init__.py\u001b\\\u001b[2m__init__.py\u001b[0m\u001b]8;;\u001b\\\u001b[2m:\u001b[0m\u001b]8;id=978857;file:///Users/giacomomagni/.conda/envs/yad_dev/lib/python3.10/site-packages/eko/evolution_operator/__init__.py#889\u001b\\\u001b[2m889\u001b[0m\u001b]8;;\u001b\\\n"
      ]
     },
     "metadata": {},
     "output_type": "display_data"
    },
    {
     "data": {
      "text/html": [
       "<pre style=\"white-space:pre;overflow-x:auto;line-height:normal;font-family:Menlo,'DejaVu Sans Mono',consolas,'Courier New',monospace\"><span style=\"color: #7fbfbf; text-decoration-color: #7fbfbf\">           </span><span style=\"color: #000080; text-decoration-color: #000080\">INFO    </span> Matching: computing operators - <span style=\"color: #008080; text-decoration-color: #008080; font-weight: bold\">6</span>/<span style=\"color: #008080; text-decoration-color: #008080; font-weight: bold\">8</span> took: <span style=\"color: #008080; text-decoration-color: #008080; font-weight: bold\">0.417727</span> s                            <a href=\"file:///Users/giacomomagni/.conda/envs/yad_dev/lib/python3.10/site-packages/eko/evolution_operator/__init__.py\" target=\"_blank\"><span style=\"color: #7f7f7f; text-decoration-color: #7f7f7f\">__init__.py</span></a><span style=\"color: #7f7f7f; text-decoration-color: #7f7f7f\">:</span><a href=\"file:///Users/giacomomagni/.conda/envs/yad_dev/lib/python3.10/site-packages/eko/evolution_operator/__init__.py#889\" target=\"_blank\"><span style=\"color: #7f7f7f; text-decoration-color: #7f7f7f\">889</span></a>\n",
       "</pre>\n"
      ],
      "text/plain": [
       "\u001b[2;36m          \u001b[0m\u001b[2;36m \u001b[0m\u001b[34mINFO    \u001b[0m Matching: computing operators - \u001b[1;36m6\u001b[0m/\u001b[1;36m8\u001b[0m took: \u001b[1;36m0.417727\u001b[0m s                            \u001b]8;id=194662;file:///Users/giacomomagni/.conda/envs/yad_dev/lib/python3.10/site-packages/eko/evolution_operator/__init__.py\u001b\\\u001b[2m__init__.py\u001b[0m\u001b]8;;\u001b\\\u001b[2m:\u001b[0m\u001b]8;id=459892;file:///Users/giacomomagni/.conda/envs/yad_dev/lib/python3.10/site-packages/eko/evolution_operator/__init__.py#889\u001b\\\u001b[2m889\u001b[0m\u001b]8;;\u001b\\\n"
      ]
     },
     "metadata": {},
     "output_type": "display_data"
    },
    {
     "data": {
      "text/html": [
       "<pre style=\"white-space:pre;overflow-x:auto;line-height:normal;font-family:Menlo,'DejaVu Sans Mono',consolas,'Courier New',monospace\"><span style=\"color: #7fbfbf; text-decoration-color: #7fbfbf\">           </span><span style=\"color: #000080; text-decoration-color: #000080\">INFO    </span> Matching: computing operators - <span style=\"color: #008080; text-decoration-color: #008080; font-weight: bold\">7</span>/<span style=\"color: #008080; text-decoration-color: #008080; font-weight: bold\">8</span> took: <span style=\"color: #008080; text-decoration-color: #008080; font-weight: bold\">0.215969</span> s                            <a href=\"file:///Users/giacomomagni/.conda/envs/yad_dev/lib/python3.10/site-packages/eko/evolution_operator/__init__.py\" target=\"_blank\"><span style=\"color: #7f7f7f; text-decoration-color: #7f7f7f\">__init__.py</span></a><span style=\"color: #7f7f7f; text-decoration-color: #7f7f7f\">:</span><a href=\"file:///Users/giacomomagni/.conda/envs/yad_dev/lib/python3.10/site-packages/eko/evolution_operator/__init__.py#889\" target=\"_blank\"><span style=\"color: #7f7f7f; text-decoration-color: #7f7f7f\">889</span></a>\n",
       "</pre>\n"
      ],
      "text/plain": [
       "\u001b[2;36m          \u001b[0m\u001b[2;36m \u001b[0m\u001b[34mINFO    \u001b[0m Matching: computing operators - \u001b[1;36m7\u001b[0m/\u001b[1;36m8\u001b[0m took: \u001b[1;36m0.215969\u001b[0m s                            \u001b]8;id=835560;file:///Users/giacomomagni/.conda/envs/yad_dev/lib/python3.10/site-packages/eko/evolution_operator/__init__.py\u001b\\\u001b[2m__init__.py\u001b[0m\u001b]8;;\u001b\\\u001b[2m:\u001b[0m\u001b]8;id=515798;file:///Users/giacomomagni/.conda/envs/yad_dev/lib/python3.10/site-packages/eko/evolution_operator/__init__.py#889\u001b\\\u001b[2m889\u001b[0m\u001b]8;;\u001b\\\n"
      ]
     },
     "metadata": {},
     "output_type": "display_data"
    },
    {
     "data": {
      "text/html": [
       "<pre style=\"white-space:pre;overflow-x:auto;line-height:normal;font-family:Menlo,'DejaVu Sans Mono',consolas,'Courier New',monospace\"><span style=\"color: #7fbfbf; text-decoration-color: #7fbfbf\">[14:05:16] </span><span style=\"color: #000080; text-decoration-color: #000080\">INFO    </span> Matching: computing operators - <span style=\"color: #008080; text-decoration-color: #008080; font-weight: bold\">8</span>/<span style=\"color: #008080; text-decoration-color: #008080; font-weight: bold\">8</span> took: <span style=\"color: #008080; text-decoration-color: #008080; font-weight: bold\">0.073586</span> s                            <a href=\"file:///Users/giacomomagni/.conda/envs/yad_dev/lib/python3.10/site-packages/eko/evolution_operator/__init__.py\" target=\"_blank\"><span style=\"color: #7f7f7f; text-decoration-color: #7f7f7f\">__init__.py</span></a><span style=\"color: #7f7f7f; text-decoration-color: #7f7f7f\">:</span><a href=\"file:///Users/giacomomagni/.conda/envs/yad_dev/lib/python3.10/site-packages/eko/evolution_operator/__init__.py#889\" target=\"_blank\"><span style=\"color: #7f7f7f; text-decoration-color: #7f7f7f\">889</span></a>\n",
       "</pre>\n"
      ],
      "text/plain": [
       "\u001b[2;36m[14:05:16]\u001b[0m\u001b[2;36m \u001b[0m\u001b[34mINFO    \u001b[0m Matching: computing operators - \u001b[1;36m8\u001b[0m/\u001b[1;36m8\u001b[0m took: \u001b[1;36m0.073586\u001b[0m s                            \u001b]8;id=74747;file:///Users/giacomomagni/.conda/envs/yad_dev/lib/python3.10/site-packages/eko/evolution_operator/__init__.py\u001b\\\u001b[2m__init__.py\u001b[0m\u001b]8;;\u001b\\\u001b[2m:\u001b[0m\u001b]8;id=979884;file:///Users/giacomomagni/.conda/envs/yad_dev/lib/python3.10/site-packages/eko/evolution_operator/__init__.py#889\u001b\\\u001b[2m889\u001b[0m\u001b]8;;\u001b\\\n"
      ]
     },
     "metadata": {},
     "output_type": "display_data"
    },
    {
     "data": {
      "text/html": [
       "<pre style=\"white-space:pre;overflow-x:auto;line-height:normal;font-family:Menlo,'DejaVu Sans Mono',consolas,'Courier New',monospace\"><span style=\"color: #7fbfbf; text-decoration-color: #7fbfbf\">           </span><span style=\"color: #000080; text-decoration-color: #000080\">INFO    </span> Matching: Total time <span style=\"color: #008080; text-decoration-color: #008080; font-weight: bold\">4.330140</span> s                                                 <a href=\"file:///Users/giacomomagni/.conda/envs/yad_dev/lib/python3.10/site-packages/eko/evolution_operator/__init__.py\" target=\"_blank\"><span style=\"color: #7f7f7f; text-decoration-color: #7f7f7f\">__init__.py</span></a><span style=\"color: #7f7f7f; text-decoration-color: #7f7f7f\">:</span><a href=\"file:///Users/giacomomagni/.conda/envs/yad_dev/lib/python3.10/site-packages/eko/evolution_operator/__init__.py#982\" target=\"_blank\"><span style=\"color: #7f7f7f; text-decoration-color: #7f7f7f\">982</span></a>\n",
       "</pre>\n"
      ],
      "text/plain": [
       "\u001b[2;36m          \u001b[0m\u001b[2;36m \u001b[0m\u001b[34mINFO    \u001b[0m Matching: Total time \u001b[1;36m4.330140\u001b[0m s                                                 \u001b]8;id=674053;file:///Users/giacomomagni/.conda/envs/yad_dev/lib/python3.10/site-packages/eko/evolution_operator/__init__.py\u001b\\\u001b[2m__init__.py\u001b[0m\u001b]8;;\u001b\\\u001b[2m:\u001b[0m\u001b]8;id=585590;file:///Users/giacomomagni/.conda/envs/yad_dev/lib/python3.10/site-packages/eko/evolution_operator/__init__.py#982\u001b\\\u001b[2m982\u001b[0m\u001b]8;;\u001b\\\n"
      ]
     },
     "metadata": {},
     "output_type": "display_data"
    },
    {
     "data": {
      "text/html": [
       "<pre style=\"white-space:pre;overflow-x:auto;line-height:normal;font-family:Menlo,'DejaVu Sans Mono',consolas,'Courier New',monospace\"><span style=\"color: #7fbfbf; text-decoration-color: #7fbfbf\">           </span><span style=\"color: #000080; text-decoration-color: #000080\">INFO    </span> Evolution: computing operators <span style=\"color: #008080; text-decoration-color: #008080; font-weight: bold\">2.420640e+01</span> -&gt; <span style=\"color: #008080; text-decoration-color: #008080; font-weight: bold\">1.000000e+02</span>, <span style=\"color: #808000; text-decoration-color: #808000\">nf</span>=<span style=\"color: #008080; text-decoration-color: #008080; font-weight: bold\">5</span>               <a href=\"file:///Users/giacomomagni/.conda/envs/yad_dev/lib/python3.10/site-packages/eko/evolution_operator/__init__.py\" target=\"_blank\"><span style=\"color: #7f7f7f; text-decoration-color: #7f7f7f\">__init__.py</span></a><span style=\"color: #7f7f7f; text-decoration-color: #7f7f7f\">:</span><a href=\"file:///Users/giacomomagni/.conda/envs/yad_dev/lib/python3.10/site-packages/eko/evolution_operator/__init__.py#917\" target=\"_blank\"><span style=\"color: #7f7f7f; text-decoration-color: #7f7f7f\">917</span></a>\n",
       "</pre>\n"
      ],
      "text/plain": [
       "\u001b[2;36m          \u001b[0m\u001b[2;36m \u001b[0m\u001b[34mINFO    \u001b[0m Evolution: computing operators \u001b[1;36m2.420640e+01\u001b[0m -> \u001b[1;36m1.000000e+02\u001b[0m, \u001b[33mnf\u001b[0m=\u001b[1;36m5\u001b[0m               \u001b]8;id=341493;file:///Users/giacomomagni/.conda/envs/yad_dev/lib/python3.10/site-packages/eko/evolution_operator/__init__.py\u001b\\\u001b[2m__init__.py\u001b[0m\u001b]8;;\u001b\\\u001b[2m:\u001b[0m\u001b]8;id=223663;file:///Users/giacomomagni/.conda/envs/yad_dev/lib/python3.10/site-packages/eko/evolution_operator/__init__.py#917\u001b\\\u001b[2m917\u001b[0m\u001b]8;;\u001b\\\n"
      ]
     },
     "metadata": {},
     "output_type": "display_data"
    },
    {
     "data": {
      "text/html": [
       "<pre style=\"white-space:pre;overflow-x:auto;line-height:normal;font-family:Menlo,'DejaVu Sans Mono',consolas,'Courier New',monospace\"><span style=\"color: #7fbfbf; text-decoration-color: #7fbfbf\">           </span><span style=\"color: #000080; text-decoration-color: #000080\">INFO    </span> Evolution: µ_R^<span style=\"color: #008080; text-decoration-color: #008080; font-weight: bold\">2</span> distance: <span style=\"color: #008080; text-decoration-color: #008080; font-weight: bold\">2.420640e+01</span> -&gt; <span style=\"color: #008080; text-decoration-color: #008080; font-weight: bold\">1.000000e+02</span>                         <a href=\"file:///Users/giacomomagni/.conda/envs/yad_dev/lib/python3.10/site-packages/eko/evolution_operator/__init__.py\" target=\"_blank\"><span style=\"color: #7f7f7f; text-decoration-color: #7f7f7f\">__init__.py</span></a><span style=\"color: #7f7f7f; text-decoration-color: #7f7f7f\">:</span><a href=\"file:///Users/giacomomagni/.conda/envs/yad_dev/lib/python3.10/site-packages/eko/evolution_operator/__init__.py#924\" target=\"_blank\"><span style=\"color: #7f7f7f; text-decoration-color: #7f7f7f\">924</span></a>\n",
       "</pre>\n"
      ],
      "text/plain": [
       "\u001b[2;36m          \u001b[0m\u001b[2;36m \u001b[0m\u001b[34mINFO    \u001b[0m Evolution: µ_R^\u001b[1;36m2\u001b[0m distance: \u001b[1;36m2.420640e+01\u001b[0m -> \u001b[1;36m1.000000e+02\u001b[0m                         \u001b]8;id=883212;file:///Users/giacomomagni/.conda/envs/yad_dev/lib/python3.10/site-packages/eko/evolution_operator/__init__.py\u001b\\\u001b[2m__init__.py\u001b[0m\u001b]8;;\u001b\\\u001b[2m:\u001b[0m\u001b]8;id=222375;file:///Users/giacomomagni/.conda/envs/yad_dev/lib/python3.10/site-packages/eko/evolution_operator/__init__.py#924\u001b\\\u001b[2m924\u001b[0m\u001b]8;;\u001b\\\n"
      ]
     },
     "metadata": {},
     "output_type": "display_data"
    },
    {
     "data": {
      "text/html": [
       "<pre style=\"white-space:pre;overflow-x:auto;line-height:normal;font-family:Menlo,'DejaVu Sans Mono',consolas,'Courier New',monospace\"><span style=\"color: #7fbfbf; text-decoration-color: #7fbfbf\">           </span><span style=\"color: #000080; text-decoration-color: #000080\">INFO    </span> Evolution: a_s distance: <span style=\"color: #008080; text-decoration-color: #008080; font-weight: bold\">1.697192e-02</span> -&gt; <span style=\"color: #008080; text-decoration-color: #008080; font-weight: bold\">1.415523e-02</span>                           <a href=\"file:///Users/giacomomagni/.conda/envs/yad_dev/lib/python3.10/site-packages/eko/evolution_operator/__init__.py\" target=\"_blank\"><span style=\"color: #7f7f7f; text-decoration-color: #7f7f7f\">__init__.py</span></a><span style=\"color: #7f7f7f; text-decoration-color: #7f7f7f\">:</span><a href=\"file:///Users/giacomomagni/.conda/envs/yad_dev/lib/python3.10/site-packages/eko/evolution_operator/__init__.py#936\" target=\"_blank\"><span style=\"color: #7f7f7f; text-decoration-color: #7f7f7f\">936</span></a>\n",
       "</pre>\n"
      ],
      "text/plain": [
       "\u001b[2;36m          \u001b[0m\u001b[2;36m \u001b[0m\u001b[34mINFO    \u001b[0m Evolution: a_s distance: \u001b[1;36m1.697192e-02\u001b[0m -> \u001b[1;36m1.415523e-02\u001b[0m                           \u001b]8;id=415426;file:///Users/giacomomagni/.conda/envs/yad_dev/lib/python3.10/site-packages/eko/evolution_operator/__init__.py\u001b\\\u001b[2m__init__.py\u001b[0m\u001b]8;;\u001b\\\u001b[2m:\u001b[0m\u001b]8;id=201485;file:///Users/giacomomagni/.conda/envs/yad_dev/lib/python3.10/site-packages/eko/evolution_operator/__init__.py#936\u001b\\\u001b[2m936\u001b[0m\u001b]8;;\u001b\\\n"
      ]
     },
     "metadata": {},
     "output_type": "display_data"
    },
    {
     "data": {
      "text/html": [
       "<pre style=\"white-space:pre;overflow-x:auto;line-height:normal;font-family:Menlo,'DejaVu Sans Mono',consolas,'Courier New',monospace\"><span style=\"color: #7fbfbf; text-decoration-color: #7fbfbf\">           </span><span style=\"color: #000080; text-decoration-color: #000080\">INFO    </span> Evolution: order: <span style=\"font-weight: bold\">(</span><span style=\"color: #008080; text-decoration-color: #008080; font-weight: bold\">2</span>, <span style=\"color: #008080; text-decoration-color: #008080; font-weight: bold\">0</span><span style=\"font-weight: bold\">)</span>, solution strategy: iterate-exact, use fhmruvv: <span style=\"color: #ff0000; text-decoration-color: #ff0000; font-style: italic\">False</span>  <a href=\"file:///Users/giacomomagni/.conda/envs/yad_dev/lib/python3.10/site-packages/eko/evolution_operator/__init__.py\" target=\"_blank\"><span style=\"color: #7f7f7f; text-decoration-color: #7f7f7f\">__init__.py</span></a><span style=\"color: #7f7f7f; text-decoration-color: #7f7f7f\">:</span><a href=\"file:///Users/giacomomagni/.conda/envs/yad_dev/lib/python3.10/site-packages/eko/evolution_operator/__init__.py#946\" target=\"_blank\"><span style=\"color: #7f7f7f; text-decoration-color: #7f7f7f\">946</span></a>\n",
       "</pre>\n"
      ],
      "text/plain": [
       "\u001b[2;36m          \u001b[0m\u001b[2;36m \u001b[0m\u001b[34mINFO    \u001b[0m Evolution: order: \u001b[1m(\u001b[0m\u001b[1;36m2\u001b[0m, \u001b[1;36m0\u001b[0m\u001b[1m)\u001b[0m, solution strategy: iterate-exact, use fhmruvv: \u001b[3;91mFalse\u001b[0m  \u001b]8;id=884804;file:///Users/giacomomagni/.conda/envs/yad_dev/lib/python3.10/site-packages/eko/evolution_operator/__init__.py\u001b\\\u001b[2m__init__.py\u001b[0m\u001b]8;;\u001b\\\u001b[2m:\u001b[0m\u001b]8;id=952953;file:///Users/giacomomagni/.conda/envs/yad_dev/lib/python3.10/site-packages/eko/evolution_operator/__init__.py#946\u001b\\\u001b[2m946\u001b[0m\u001b]8;;\u001b\\\n"
      ]
     },
     "metadata": {},
     "output_type": "display_data"
    },
    {
     "data": {
      "text/html": [
       "<pre style=\"white-space:pre;overflow-x:auto;line-height:normal;font-family:Menlo,'DejaVu Sans Mono',consolas,'Courier New',monospace\"><span style=\"color: #7fbfbf; text-decoration-color: #7fbfbf\">           </span><span style=\"color: #000080; text-decoration-color: #000080\">INFO    </span> Evolution: computing operators - <span style=\"color: #008080; text-decoration-color: #008080; font-weight: bold\">1</span>/<span style=\"color: #008080; text-decoration-color: #008080; font-weight: bold\">8</span> took: <span style=\"color: #008080; text-decoration-color: #008080; font-weight: bold\">0.484253</span> s                           <a href=\"file:///Users/giacomomagni/.conda/envs/yad_dev/lib/python3.10/site-packages/eko/evolution_operator/__init__.py\" target=\"_blank\"><span style=\"color: #7f7f7f; text-decoration-color: #7f7f7f\">__init__.py</span></a><span style=\"color: #7f7f7f; text-decoration-color: #7f7f7f\">:</span><a href=\"file:///Users/giacomomagni/.conda/envs/yad_dev/lib/python3.10/site-packages/eko/evolution_operator/__init__.py#889\" target=\"_blank\"><span style=\"color: #7f7f7f; text-decoration-color: #7f7f7f\">889</span></a>\n",
       "</pre>\n"
      ],
      "text/plain": [
       "\u001b[2;36m          \u001b[0m\u001b[2;36m \u001b[0m\u001b[34mINFO    \u001b[0m Evolution: computing operators - \u001b[1;36m1\u001b[0m/\u001b[1;36m8\u001b[0m took: \u001b[1;36m0.484253\u001b[0m s                           \u001b]8;id=119589;file:///Users/giacomomagni/.conda/envs/yad_dev/lib/python3.10/site-packages/eko/evolution_operator/__init__.py\u001b\\\u001b[2m__init__.py\u001b[0m\u001b]8;;\u001b\\\u001b[2m:\u001b[0m\u001b]8;id=853917;file:///Users/giacomomagni/.conda/envs/yad_dev/lib/python3.10/site-packages/eko/evolution_operator/__init__.py#889\u001b\\\u001b[2m889\u001b[0m\u001b]8;;\u001b\\\n"
      ]
     },
     "metadata": {},
     "output_type": "display_data"
    },
    {
     "data": {
      "text/html": [
       "<pre style=\"white-space:pre;overflow-x:auto;line-height:normal;font-family:Menlo,'DejaVu Sans Mono',consolas,'Courier New',monospace\"><span style=\"color: #7fbfbf; text-decoration-color: #7fbfbf\">[14:05:17] </span><span style=\"color: #000080; text-decoration-color: #000080\">INFO    </span> Evolution: computing operators - <span style=\"color: #008080; text-decoration-color: #008080; font-weight: bold\">2</span>/<span style=\"color: #008080; text-decoration-color: #008080; font-weight: bold\">8</span> took: <span style=\"color: #008080; text-decoration-color: #008080; font-weight: bold\">0.492863</span> s                           <a href=\"file:///Users/giacomomagni/.conda/envs/yad_dev/lib/python3.10/site-packages/eko/evolution_operator/__init__.py\" target=\"_blank\"><span style=\"color: #7f7f7f; text-decoration-color: #7f7f7f\">__init__.py</span></a><span style=\"color: #7f7f7f; text-decoration-color: #7f7f7f\">:</span><a href=\"file:///Users/giacomomagni/.conda/envs/yad_dev/lib/python3.10/site-packages/eko/evolution_operator/__init__.py#889\" target=\"_blank\"><span style=\"color: #7f7f7f; text-decoration-color: #7f7f7f\">889</span></a>\n",
       "</pre>\n"
      ],
      "text/plain": [
       "\u001b[2;36m[14:05:17]\u001b[0m\u001b[2;36m \u001b[0m\u001b[34mINFO    \u001b[0m Evolution: computing operators - \u001b[1;36m2\u001b[0m/\u001b[1;36m8\u001b[0m took: \u001b[1;36m0.492863\u001b[0m s                           \u001b]8;id=734551;file:///Users/giacomomagni/.conda/envs/yad_dev/lib/python3.10/site-packages/eko/evolution_operator/__init__.py\u001b\\\u001b[2m__init__.py\u001b[0m\u001b]8;;\u001b\\\u001b[2m:\u001b[0m\u001b]8;id=6662;file:///Users/giacomomagni/.conda/envs/yad_dev/lib/python3.10/site-packages/eko/evolution_operator/__init__.py#889\u001b\\\u001b[2m889\u001b[0m\u001b]8;;\u001b\\\n"
      ]
     },
     "metadata": {},
     "output_type": "display_data"
    },
    {
     "data": {
      "text/html": [
       "<pre style=\"white-space:pre;overflow-x:auto;line-height:normal;font-family:Menlo,'DejaVu Sans Mono',consolas,'Courier New',monospace\"><span style=\"color: #7fbfbf; text-decoration-color: #7fbfbf\">           </span><span style=\"color: #000080; text-decoration-color: #000080\">INFO    </span> Evolution: computing operators - <span style=\"color: #008080; text-decoration-color: #008080; font-weight: bold\">3</span>/<span style=\"color: #008080; text-decoration-color: #008080; font-weight: bold\">8</span> took: <span style=\"color: #008080; text-decoration-color: #008080; font-weight: bold\">0.378016</span> s                           <a href=\"file:///Users/giacomomagni/.conda/envs/yad_dev/lib/python3.10/site-packages/eko/evolution_operator/__init__.py\" target=\"_blank\"><span style=\"color: #7f7f7f; text-decoration-color: #7f7f7f\">__init__.py</span></a><span style=\"color: #7f7f7f; text-decoration-color: #7f7f7f\">:</span><a href=\"file:///Users/giacomomagni/.conda/envs/yad_dev/lib/python3.10/site-packages/eko/evolution_operator/__init__.py#889\" target=\"_blank\"><span style=\"color: #7f7f7f; text-decoration-color: #7f7f7f\">889</span></a>\n",
       "</pre>\n"
      ],
      "text/plain": [
       "\u001b[2;36m          \u001b[0m\u001b[2;36m \u001b[0m\u001b[34mINFO    \u001b[0m Evolution: computing operators - \u001b[1;36m3\u001b[0m/\u001b[1;36m8\u001b[0m took: \u001b[1;36m0.378016\u001b[0m s                           \u001b]8;id=598463;file:///Users/giacomomagni/.conda/envs/yad_dev/lib/python3.10/site-packages/eko/evolution_operator/__init__.py\u001b\\\u001b[2m__init__.py\u001b[0m\u001b]8;;\u001b\\\u001b[2m:\u001b[0m\u001b]8;id=824830;file:///Users/giacomomagni/.conda/envs/yad_dev/lib/python3.10/site-packages/eko/evolution_operator/__init__.py#889\u001b\\\u001b[2m889\u001b[0m\u001b]8;;\u001b\\\n"
      ]
     },
     "metadata": {},
     "output_type": "display_data"
    },
    {
     "data": {
      "text/html": [
       "<pre style=\"white-space:pre;overflow-x:auto;line-height:normal;font-family:Menlo,'DejaVu Sans Mono',consolas,'Courier New',monospace\"><span style=\"color: #7fbfbf; text-decoration-color: #7fbfbf\">           </span><span style=\"color: #000080; text-decoration-color: #000080\">INFO    </span> Evolution: computing operators - <span style=\"color: #008080; text-decoration-color: #008080; font-weight: bold\">4</span>/<span style=\"color: #008080; text-decoration-color: #008080; font-weight: bold\">8</span> took: <span style=\"color: #008080; text-decoration-color: #008080; font-weight: bold\">0.304468</span> s                           <a href=\"file:///Users/giacomomagni/.conda/envs/yad_dev/lib/python3.10/site-packages/eko/evolution_operator/__init__.py\" target=\"_blank\"><span style=\"color: #7f7f7f; text-decoration-color: #7f7f7f\">__init__.py</span></a><span style=\"color: #7f7f7f; text-decoration-color: #7f7f7f\">:</span><a href=\"file:///Users/giacomomagni/.conda/envs/yad_dev/lib/python3.10/site-packages/eko/evolution_operator/__init__.py#889\" target=\"_blank\"><span style=\"color: #7f7f7f; text-decoration-color: #7f7f7f\">889</span></a>\n",
       "</pre>\n"
      ],
      "text/plain": [
       "\u001b[2;36m          \u001b[0m\u001b[2;36m \u001b[0m\u001b[34mINFO    \u001b[0m Evolution: computing operators - \u001b[1;36m4\u001b[0m/\u001b[1;36m8\u001b[0m took: \u001b[1;36m0.304468\u001b[0m s                           \u001b]8;id=217910;file:///Users/giacomomagni/.conda/envs/yad_dev/lib/python3.10/site-packages/eko/evolution_operator/__init__.py\u001b\\\u001b[2m__init__.py\u001b[0m\u001b]8;;\u001b\\\u001b[2m:\u001b[0m\u001b]8;id=260691;file:///Users/giacomomagni/.conda/envs/yad_dev/lib/python3.10/site-packages/eko/evolution_operator/__init__.py#889\u001b\\\u001b[2m889\u001b[0m\u001b]8;;\u001b\\\n"
      ]
     },
     "metadata": {},
     "output_type": "display_data"
    },
    {
     "data": {
      "text/html": [
       "<pre style=\"white-space:pre;overflow-x:auto;line-height:normal;font-family:Menlo,'DejaVu Sans Mono',consolas,'Courier New',monospace\"><span style=\"color: #7fbfbf; text-decoration-color: #7fbfbf\">           </span><span style=\"color: #000080; text-decoration-color: #000080\">INFO    </span> Evolution: computing operators - <span style=\"color: #008080; text-decoration-color: #008080; font-weight: bold\">5</span>/<span style=\"color: #008080; text-decoration-color: #008080; font-weight: bold\">8</span> took: <span style=\"color: #008080; text-decoration-color: #008080; font-weight: bold\">0.242679</span> s                           <a href=\"file:///Users/giacomomagni/.conda/envs/yad_dev/lib/python3.10/site-packages/eko/evolution_operator/__init__.py\" target=\"_blank\"><span style=\"color: #7f7f7f; text-decoration-color: #7f7f7f\">__init__.py</span></a><span style=\"color: #7f7f7f; text-decoration-color: #7f7f7f\">:</span><a href=\"file:///Users/giacomomagni/.conda/envs/yad_dev/lib/python3.10/site-packages/eko/evolution_operator/__init__.py#889\" target=\"_blank\"><span style=\"color: #7f7f7f; text-decoration-color: #7f7f7f\">889</span></a>\n",
       "</pre>\n"
      ],
      "text/plain": [
       "\u001b[2;36m          \u001b[0m\u001b[2;36m \u001b[0m\u001b[34mINFO    \u001b[0m Evolution: computing operators - \u001b[1;36m5\u001b[0m/\u001b[1;36m8\u001b[0m took: \u001b[1;36m0.242679\u001b[0m s                           \u001b]8;id=174293;file:///Users/giacomomagni/.conda/envs/yad_dev/lib/python3.10/site-packages/eko/evolution_operator/__init__.py\u001b\\\u001b[2m__init__.py\u001b[0m\u001b]8;;\u001b\\\u001b[2m:\u001b[0m\u001b]8;id=606001;file:///Users/giacomomagni/.conda/envs/yad_dev/lib/python3.10/site-packages/eko/evolution_operator/__init__.py#889\u001b\\\u001b[2m889\u001b[0m\u001b]8;;\u001b\\\n"
      ]
     },
     "metadata": {},
     "output_type": "display_data"
    },
    {
     "data": {
      "text/html": [
       "<pre style=\"white-space:pre;overflow-x:auto;line-height:normal;font-family:Menlo,'DejaVu Sans Mono',consolas,'Courier New',monospace\"><span style=\"color: #7fbfbf; text-decoration-color: #7fbfbf\">[14:05:18] </span><span style=\"color: #000080; text-decoration-color: #000080\">INFO    </span> Evolution: computing operators - <span style=\"color: #008080; text-decoration-color: #008080; font-weight: bold\">6</span>/<span style=\"color: #008080; text-decoration-color: #008080; font-weight: bold\">8</span> took: <span style=\"color: #008080; text-decoration-color: #008080; font-weight: bold\">0.243868</span> s                           <a href=\"file:///Users/giacomomagni/.conda/envs/yad_dev/lib/python3.10/site-packages/eko/evolution_operator/__init__.py\" target=\"_blank\"><span style=\"color: #7f7f7f; text-decoration-color: #7f7f7f\">__init__.py</span></a><span style=\"color: #7f7f7f; text-decoration-color: #7f7f7f\">:</span><a href=\"file:///Users/giacomomagni/.conda/envs/yad_dev/lib/python3.10/site-packages/eko/evolution_operator/__init__.py#889\" target=\"_blank\"><span style=\"color: #7f7f7f; text-decoration-color: #7f7f7f\">889</span></a>\n",
       "</pre>\n"
      ],
      "text/plain": [
       "\u001b[2;36m[14:05:18]\u001b[0m\u001b[2;36m \u001b[0m\u001b[34mINFO    \u001b[0m Evolution: computing operators - \u001b[1;36m6\u001b[0m/\u001b[1;36m8\u001b[0m took: \u001b[1;36m0.243868\u001b[0m s                           \u001b]8;id=368441;file:///Users/giacomomagni/.conda/envs/yad_dev/lib/python3.10/site-packages/eko/evolution_operator/__init__.py\u001b\\\u001b[2m__init__.py\u001b[0m\u001b]8;;\u001b\\\u001b[2m:\u001b[0m\u001b]8;id=625384;file:///Users/giacomomagni/.conda/envs/yad_dev/lib/python3.10/site-packages/eko/evolution_operator/__init__.py#889\u001b\\\u001b[2m889\u001b[0m\u001b]8;;\u001b\\\n"
      ]
     },
     "metadata": {},
     "output_type": "display_data"
    },
    {
     "data": {
      "text/html": [
       "<pre style=\"white-space:pre;overflow-x:auto;line-height:normal;font-family:Menlo,'DejaVu Sans Mono',consolas,'Courier New',monospace\"><span style=\"color: #7fbfbf; text-decoration-color: #7fbfbf\">           </span><span style=\"color: #000080; text-decoration-color: #000080\">INFO    </span> Evolution: computing operators - <span style=\"color: #008080; text-decoration-color: #008080; font-weight: bold\">7</span>/<span style=\"color: #008080; text-decoration-color: #008080; font-weight: bold\">8</span> took: <span style=\"color: #008080; text-decoration-color: #008080; font-weight: bold\">0.190627</span> s                           <a href=\"file:///Users/giacomomagni/.conda/envs/yad_dev/lib/python3.10/site-packages/eko/evolution_operator/__init__.py\" target=\"_blank\"><span style=\"color: #7f7f7f; text-decoration-color: #7f7f7f\">__init__.py</span></a><span style=\"color: #7f7f7f; text-decoration-color: #7f7f7f\">:</span><a href=\"file:///Users/giacomomagni/.conda/envs/yad_dev/lib/python3.10/site-packages/eko/evolution_operator/__init__.py#889\" target=\"_blank\"><span style=\"color: #7f7f7f; text-decoration-color: #7f7f7f\">889</span></a>\n",
       "</pre>\n"
      ],
      "text/plain": [
       "\u001b[2;36m          \u001b[0m\u001b[2;36m \u001b[0m\u001b[34mINFO    \u001b[0m Evolution: computing operators - \u001b[1;36m7\u001b[0m/\u001b[1;36m8\u001b[0m took: \u001b[1;36m0.190627\u001b[0m s                           \u001b]8;id=51695;file:///Users/giacomomagni/.conda/envs/yad_dev/lib/python3.10/site-packages/eko/evolution_operator/__init__.py\u001b\\\u001b[2m__init__.py\u001b[0m\u001b]8;;\u001b\\\u001b[2m:\u001b[0m\u001b]8;id=30398;file:///Users/giacomomagni/.conda/envs/yad_dev/lib/python3.10/site-packages/eko/evolution_operator/__init__.py#889\u001b\\\u001b[2m889\u001b[0m\u001b]8;;\u001b\\\n"
      ]
     },
     "metadata": {},
     "output_type": "display_data"
    },
    {
     "data": {
      "text/html": [
       "<pre style=\"white-space:pre;overflow-x:auto;line-height:normal;font-family:Menlo,'DejaVu Sans Mono',consolas,'Courier New',monospace\"><span style=\"color: #7fbfbf; text-decoration-color: #7fbfbf\">           </span><span style=\"color: #000080; text-decoration-color: #000080\">INFO    </span> Evolution: computing operators - <span style=\"color: #008080; text-decoration-color: #008080; font-weight: bold\">8</span>/<span style=\"color: #008080; text-decoration-color: #008080; font-weight: bold\">8</span> took: <span style=\"color: #008080; text-decoration-color: #008080; font-weight: bold\">0.041460</span> s                           <a href=\"file:///Users/giacomomagni/.conda/envs/yad_dev/lib/python3.10/site-packages/eko/evolution_operator/__init__.py\" target=\"_blank\"><span style=\"color: #7f7f7f; text-decoration-color: #7f7f7f\">__init__.py</span></a><span style=\"color: #7f7f7f; text-decoration-color: #7f7f7f\">:</span><a href=\"file:///Users/giacomomagni/.conda/envs/yad_dev/lib/python3.10/site-packages/eko/evolution_operator/__init__.py#889\" target=\"_blank\"><span style=\"color: #7f7f7f; text-decoration-color: #7f7f7f\">889</span></a>\n",
       "</pre>\n"
      ],
      "text/plain": [
       "\u001b[2;36m          \u001b[0m\u001b[2;36m \u001b[0m\u001b[34mINFO    \u001b[0m Evolution: computing operators - \u001b[1;36m8\u001b[0m/\u001b[1;36m8\u001b[0m took: \u001b[1;36m0.041460\u001b[0m s                           \u001b]8;id=410478;file:///Users/giacomomagni/.conda/envs/yad_dev/lib/python3.10/site-packages/eko/evolution_operator/__init__.py\u001b\\\u001b[2m__init__.py\u001b[0m\u001b]8;;\u001b\\\u001b[2m:\u001b[0m\u001b]8;id=173818;file:///Users/giacomomagni/.conda/envs/yad_dev/lib/python3.10/site-packages/eko/evolution_operator/__init__.py#889\u001b\\\u001b[2m889\u001b[0m\u001b]8;;\u001b\\\n"
      ]
     },
     "metadata": {},
     "output_type": "display_data"
    },
    {
     "data": {
      "text/html": [
       "<pre style=\"white-space:pre;overflow-x:auto;line-height:normal;font-family:Menlo,'DejaVu Sans Mono',consolas,'Courier New',monospace\"><span style=\"color: #7fbfbf; text-decoration-color: #7fbfbf\">           </span><span style=\"color: #000080; text-decoration-color: #000080\">INFO    </span> Evolution: Total time <span style=\"color: #008080; text-decoration-color: #008080; font-weight: bold\">2.403333</span> s                                                <a href=\"file:///Users/giacomomagni/.conda/envs/yad_dev/lib/python3.10/site-packages/eko/evolution_operator/__init__.py\" target=\"_blank\"><span style=\"color: #7f7f7f; text-decoration-color: #7f7f7f\">__init__.py</span></a><span style=\"color: #7f7f7f; text-decoration-color: #7f7f7f\">:</span><a href=\"file:///Users/giacomomagni/.conda/envs/yad_dev/lib/python3.10/site-packages/eko/evolution_operator/__init__.py#982\" target=\"_blank\"><span style=\"color: #7f7f7f; text-decoration-color: #7f7f7f\">982</span></a>\n",
       "</pre>\n"
      ],
      "text/plain": [
       "\u001b[2;36m          \u001b[0m\u001b[2;36m \u001b[0m\u001b[34mINFO    \u001b[0m Evolution: Total time \u001b[1;36m2.403333\u001b[0m s                                                \u001b]8;id=982027;file:///Users/giacomomagni/.conda/envs/yad_dev/lib/python3.10/site-packages/eko/evolution_operator/__init__.py\u001b\\\u001b[2m__init__.py\u001b[0m\u001b]8;;\u001b\\\u001b[2m:\u001b[0m\u001b]8;id=874261;file:///Users/giacomomagni/.conda/envs/yad_dev/lib/python3.10/site-packages/eko/evolution_operator/__init__.py#982\u001b\\\u001b[2m982\u001b[0m\u001b]8;;\u001b\\\n"
      ]
     },
     "metadata": {},
     "output_type": "display_data"
    },
    {
     "data": {
      "text/html": [
       "<pre style=\"white-space:pre;overflow-x:auto;line-height:normal;font-family:Menlo,'DejaVu Sans Mono',consolas,'Courier New',monospace\"><span style=\"color: #7fbfbf; text-decoration-color: #7fbfbf\">           </span><span style=\"color: #000080; text-decoration-color: #000080\">INFO    </span> Evolution: computing operators <span style=\"color: #008080; text-decoration-color: #008080; font-weight: bold\">2.420640e+01</span> -&gt; <span style=\"color: #008080; text-decoration-color: #008080; font-weight: bold\">2.250000e+02</span>, <span style=\"color: #808000; text-decoration-color: #808000\">nf</span>=<span style=\"color: #008080; text-decoration-color: #008080; font-weight: bold\">5</span>               <a href=\"file:///Users/giacomomagni/.conda/envs/yad_dev/lib/python3.10/site-packages/eko/evolution_operator/__init__.py\" target=\"_blank\"><span style=\"color: #7f7f7f; text-decoration-color: #7f7f7f\">__init__.py</span></a><span style=\"color: #7f7f7f; text-decoration-color: #7f7f7f\">:</span><a href=\"file:///Users/giacomomagni/.conda/envs/yad_dev/lib/python3.10/site-packages/eko/evolution_operator/__init__.py#917\" target=\"_blank\"><span style=\"color: #7f7f7f; text-decoration-color: #7f7f7f\">917</span></a>\n",
       "</pre>\n"
      ],
      "text/plain": [
       "\u001b[2;36m          \u001b[0m\u001b[2;36m \u001b[0m\u001b[34mINFO    \u001b[0m Evolution: computing operators \u001b[1;36m2.420640e+01\u001b[0m -> \u001b[1;36m2.250000e+02\u001b[0m, \u001b[33mnf\u001b[0m=\u001b[1;36m5\u001b[0m               \u001b]8;id=981846;file:///Users/giacomomagni/.conda/envs/yad_dev/lib/python3.10/site-packages/eko/evolution_operator/__init__.py\u001b\\\u001b[2m__init__.py\u001b[0m\u001b]8;;\u001b\\\u001b[2m:\u001b[0m\u001b]8;id=561547;file:///Users/giacomomagni/.conda/envs/yad_dev/lib/python3.10/site-packages/eko/evolution_operator/__init__.py#917\u001b\\\u001b[2m917\u001b[0m\u001b]8;;\u001b\\\n"
      ]
     },
     "metadata": {},
     "output_type": "display_data"
    },
    {
     "data": {
      "text/html": [
       "<pre style=\"white-space:pre;overflow-x:auto;line-height:normal;font-family:Menlo,'DejaVu Sans Mono',consolas,'Courier New',monospace\"><span style=\"color: #7fbfbf; text-decoration-color: #7fbfbf\">           </span><span style=\"color: #000080; text-decoration-color: #000080\">INFO    </span> Evolution: µ_R^<span style=\"color: #008080; text-decoration-color: #008080; font-weight: bold\">2</span> distance: <span style=\"color: #008080; text-decoration-color: #008080; font-weight: bold\">2.420640e+01</span> -&gt; <span style=\"color: #008080; text-decoration-color: #008080; font-weight: bold\">2.250000e+02</span>                         <a href=\"file:///Users/giacomomagni/.conda/envs/yad_dev/lib/python3.10/site-packages/eko/evolution_operator/__init__.py\" target=\"_blank\"><span style=\"color: #7f7f7f; text-decoration-color: #7f7f7f\">__init__.py</span></a><span style=\"color: #7f7f7f; text-decoration-color: #7f7f7f\">:</span><a href=\"file:///Users/giacomomagni/.conda/envs/yad_dev/lib/python3.10/site-packages/eko/evolution_operator/__init__.py#924\" target=\"_blank\"><span style=\"color: #7f7f7f; text-decoration-color: #7f7f7f\">924</span></a>\n",
       "</pre>\n"
      ],
      "text/plain": [
       "\u001b[2;36m          \u001b[0m\u001b[2;36m \u001b[0m\u001b[34mINFO    \u001b[0m Evolution: µ_R^\u001b[1;36m2\u001b[0m distance: \u001b[1;36m2.420640e+01\u001b[0m -> \u001b[1;36m2.250000e+02\u001b[0m                         \u001b]8;id=532284;file:///Users/giacomomagni/.conda/envs/yad_dev/lib/python3.10/site-packages/eko/evolution_operator/__init__.py\u001b\\\u001b[2m__init__.py\u001b[0m\u001b]8;;\u001b\\\u001b[2m:\u001b[0m\u001b]8;id=573718;file:///Users/giacomomagni/.conda/envs/yad_dev/lib/python3.10/site-packages/eko/evolution_operator/__init__.py#924\u001b\\\u001b[2m924\u001b[0m\u001b]8;;\u001b\\\n"
      ]
     },
     "metadata": {},
     "output_type": "display_data"
    },
    {
     "data": {
      "text/html": [
       "<pre style=\"white-space:pre;overflow-x:auto;line-height:normal;font-family:Menlo,'DejaVu Sans Mono',consolas,'Courier New',monospace\"><span style=\"color: #7fbfbf; text-decoration-color: #7fbfbf\">           </span><span style=\"color: #000080; text-decoration-color: #000080\">INFO    </span> Evolution: a_s distance: <span style=\"color: #008080; text-decoration-color: #008080; font-weight: bold\">1.697192e-02</span> -&gt; <span style=\"color: #008080; text-decoration-color: #008080; font-weight: bold\">1.293886e-02</span>                           <a href=\"file:///Users/giacomomagni/.conda/envs/yad_dev/lib/python3.10/site-packages/eko/evolution_operator/__init__.py\" target=\"_blank\"><span style=\"color: #7f7f7f; text-decoration-color: #7f7f7f\">__init__.py</span></a><span style=\"color: #7f7f7f; text-decoration-color: #7f7f7f\">:</span><a href=\"file:///Users/giacomomagni/.conda/envs/yad_dev/lib/python3.10/site-packages/eko/evolution_operator/__init__.py#936\" target=\"_blank\"><span style=\"color: #7f7f7f; text-decoration-color: #7f7f7f\">936</span></a>\n",
       "</pre>\n"
      ],
      "text/plain": [
       "\u001b[2;36m          \u001b[0m\u001b[2;36m \u001b[0m\u001b[34mINFO    \u001b[0m Evolution: a_s distance: \u001b[1;36m1.697192e-02\u001b[0m -> \u001b[1;36m1.293886e-02\u001b[0m                           \u001b]8;id=646909;file:///Users/giacomomagni/.conda/envs/yad_dev/lib/python3.10/site-packages/eko/evolution_operator/__init__.py\u001b\\\u001b[2m__init__.py\u001b[0m\u001b]8;;\u001b\\\u001b[2m:\u001b[0m\u001b]8;id=358492;file:///Users/giacomomagni/.conda/envs/yad_dev/lib/python3.10/site-packages/eko/evolution_operator/__init__.py#936\u001b\\\u001b[2m936\u001b[0m\u001b]8;;\u001b\\\n"
      ]
     },
     "metadata": {},
     "output_type": "display_data"
    },
    {
     "data": {
      "text/html": [
       "<pre style=\"white-space:pre;overflow-x:auto;line-height:normal;font-family:Menlo,'DejaVu Sans Mono',consolas,'Courier New',monospace\"><span style=\"color: #7fbfbf; text-decoration-color: #7fbfbf\">           </span><span style=\"color: #000080; text-decoration-color: #000080\">INFO    </span> Evolution: order: <span style=\"font-weight: bold\">(</span><span style=\"color: #008080; text-decoration-color: #008080; font-weight: bold\">2</span>, <span style=\"color: #008080; text-decoration-color: #008080; font-weight: bold\">0</span><span style=\"font-weight: bold\">)</span>, solution strategy: iterate-exact, use fhmruvv: <span style=\"color: #ff0000; text-decoration-color: #ff0000; font-style: italic\">False</span>  <a href=\"file:///Users/giacomomagni/.conda/envs/yad_dev/lib/python3.10/site-packages/eko/evolution_operator/__init__.py\" target=\"_blank\"><span style=\"color: #7f7f7f; text-decoration-color: #7f7f7f\">__init__.py</span></a><span style=\"color: #7f7f7f; text-decoration-color: #7f7f7f\">:</span><a href=\"file:///Users/giacomomagni/.conda/envs/yad_dev/lib/python3.10/site-packages/eko/evolution_operator/__init__.py#946\" target=\"_blank\"><span style=\"color: #7f7f7f; text-decoration-color: #7f7f7f\">946</span></a>\n",
       "</pre>\n"
      ],
      "text/plain": [
       "\u001b[2;36m          \u001b[0m\u001b[2;36m \u001b[0m\u001b[34mINFO    \u001b[0m Evolution: order: \u001b[1m(\u001b[0m\u001b[1;36m2\u001b[0m, \u001b[1;36m0\u001b[0m\u001b[1m)\u001b[0m, solution strategy: iterate-exact, use fhmruvv: \u001b[3;91mFalse\u001b[0m  \u001b]8;id=27850;file:///Users/giacomomagni/.conda/envs/yad_dev/lib/python3.10/site-packages/eko/evolution_operator/__init__.py\u001b\\\u001b[2m__init__.py\u001b[0m\u001b]8;;\u001b\\\u001b[2m:\u001b[0m\u001b]8;id=706518;file:///Users/giacomomagni/.conda/envs/yad_dev/lib/python3.10/site-packages/eko/evolution_operator/__init__.py#946\u001b\\\u001b[2m946\u001b[0m\u001b]8;;\u001b\\\n"
      ]
     },
     "metadata": {},
     "output_type": "display_data"
    },
    {
     "data": {
      "text/html": [
       "<pre style=\"white-space:pre;overflow-x:auto;line-height:normal;font-family:Menlo,'DejaVu Sans Mono',consolas,'Courier New',monospace\"><span style=\"color: #7fbfbf; text-decoration-color: #7fbfbf\">[14:05:19] </span><span style=\"color: #000080; text-decoration-color: #000080\">INFO    </span> Evolution: computing operators - <span style=\"color: #008080; text-decoration-color: #008080; font-weight: bold\">1</span>/<span style=\"color: #008080; text-decoration-color: #008080; font-weight: bold\">8</span> took: <span style=\"color: #008080; text-decoration-color: #008080; font-weight: bold\">0.493939</span> s                           <a href=\"file:///Users/giacomomagni/.conda/envs/yad_dev/lib/python3.10/site-packages/eko/evolution_operator/__init__.py\" target=\"_blank\"><span style=\"color: #7f7f7f; text-decoration-color: #7f7f7f\">__init__.py</span></a><span style=\"color: #7f7f7f; text-decoration-color: #7f7f7f\">:</span><a href=\"file:///Users/giacomomagni/.conda/envs/yad_dev/lib/python3.10/site-packages/eko/evolution_operator/__init__.py#889\" target=\"_blank\"><span style=\"color: #7f7f7f; text-decoration-color: #7f7f7f\">889</span></a>\n",
       "</pre>\n"
      ],
      "text/plain": [
       "\u001b[2;36m[14:05:19]\u001b[0m\u001b[2;36m \u001b[0m\u001b[34mINFO    \u001b[0m Evolution: computing operators - \u001b[1;36m1\u001b[0m/\u001b[1;36m8\u001b[0m took: \u001b[1;36m0.493939\u001b[0m s                           \u001b]8;id=270458;file:///Users/giacomomagni/.conda/envs/yad_dev/lib/python3.10/site-packages/eko/evolution_operator/__init__.py\u001b\\\u001b[2m__init__.py\u001b[0m\u001b]8;;\u001b\\\u001b[2m:\u001b[0m\u001b]8;id=816727;file:///Users/giacomomagni/.conda/envs/yad_dev/lib/python3.10/site-packages/eko/evolution_operator/__init__.py#889\u001b\\\u001b[2m889\u001b[0m\u001b]8;;\u001b\\\n"
      ]
     },
     "metadata": {},
     "output_type": "display_data"
    },
    {
     "data": {
      "text/html": [
       "<pre style=\"white-space:pre;overflow-x:auto;line-height:normal;font-family:Menlo,'DejaVu Sans Mono',consolas,'Courier New',monospace\"><span style=\"color: #7fbfbf; text-decoration-color: #7fbfbf\">           </span><span style=\"color: #000080; text-decoration-color: #000080\">INFO    </span> Evolution: computing operators - <span style=\"color: #008080; text-decoration-color: #008080; font-weight: bold\">2</span>/<span style=\"color: #008080; text-decoration-color: #008080; font-weight: bold\">8</span> took: <span style=\"color: #008080; text-decoration-color: #008080; font-weight: bold\">0.471426</span> s                           <a href=\"file:///Users/giacomomagni/.conda/envs/yad_dev/lib/python3.10/site-packages/eko/evolution_operator/__init__.py\" target=\"_blank\"><span style=\"color: #7f7f7f; text-decoration-color: #7f7f7f\">__init__.py</span></a><span style=\"color: #7f7f7f; text-decoration-color: #7f7f7f\">:</span><a href=\"file:///Users/giacomomagni/.conda/envs/yad_dev/lib/python3.10/site-packages/eko/evolution_operator/__init__.py#889\" target=\"_blank\"><span style=\"color: #7f7f7f; text-decoration-color: #7f7f7f\">889</span></a>\n",
       "</pre>\n"
      ],
      "text/plain": [
       "\u001b[2;36m          \u001b[0m\u001b[2;36m \u001b[0m\u001b[34mINFO    \u001b[0m Evolution: computing operators - \u001b[1;36m2\u001b[0m/\u001b[1;36m8\u001b[0m took: \u001b[1;36m0.471426\u001b[0m s                           \u001b]8;id=684904;file:///Users/giacomomagni/.conda/envs/yad_dev/lib/python3.10/site-packages/eko/evolution_operator/__init__.py\u001b\\\u001b[2m__init__.py\u001b[0m\u001b]8;;\u001b\\\u001b[2m:\u001b[0m\u001b]8;id=439340;file:///Users/giacomomagni/.conda/envs/yad_dev/lib/python3.10/site-packages/eko/evolution_operator/__init__.py#889\u001b\\\u001b[2m889\u001b[0m\u001b]8;;\u001b\\\n"
      ]
     },
     "metadata": {},
     "output_type": "display_data"
    },
    {
     "data": {
      "text/html": [
       "<pre style=\"white-space:pre;overflow-x:auto;line-height:normal;font-family:Menlo,'DejaVu Sans Mono',consolas,'Courier New',monospace\"><span style=\"color: #7fbfbf; text-decoration-color: #7fbfbf\">           </span><span style=\"color: #000080; text-decoration-color: #000080\">INFO    </span> Evolution: computing operators - <span style=\"color: #008080; text-decoration-color: #008080; font-weight: bold\">3</span>/<span style=\"color: #008080; text-decoration-color: #008080; font-weight: bold\">8</span> took: <span style=\"color: #008080; text-decoration-color: #008080; font-weight: bold\">0.373650</span> s                           <a href=\"file:///Users/giacomomagni/.conda/envs/yad_dev/lib/python3.10/site-packages/eko/evolution_operator/__init__.py\" target=\"_blank\"><span style=\"color: #7f7f7f; text-decoration-color: #7f7f7f\">__init__.py</span></a><span style=\"color: #7f7f7f; text-decoration-color: #7f7f7f\">:</span><a href=\"file:///Users/giacomomagni/.conda/envs/yad_dev/lib/python3.10/site-packages/eko/evolution_operator/__init__.py#889\" target=\"_blank\"><span style=\"color: #7f7f7f; text-decoration-color: #7f7f7f\">889</span></a>\n",
       "</pre>\n"
      ],
      "text/plain": [
       "\u001b[2;36m          \u001b[0m\u001b[2;36m \u001b[0m\u001b[34mINFO    \u001b[0m Evolution: computing operators - \u001b[1;36m3\u001b[0m/\u001b[1;36m8\u001b[0m took: \u001b[1;36m0.373650\u001b[0m s                           \u001b]8;id=740196;file:///Users/giacomomagni/.conda/envs/yad_dev/lib/python3.10/site-packages/eko/evolution_operator/__init__.py\u001b\\\u001b[2m__init__.py\u001b[0m\u001b]8;;\u001b\\\u001b[2m:\u001b[0m\u001b]8;id=113953;file:///Users/giacomomagni/.conda/envs/yad_dev/lib/python3.10/site-packages/eko/evolution_operator/__init__.py#889\u001b\\\u001b[2m889\u001b[0m\u001b]8;;\u001b\\\n"
      ]
     },
     "metadata": {},
     "output_type": "display_data"
    },
    {
     "data": {
      "text/html": [
       "<pre style=\"white-space:pre;overflow-x:auto;line-height:normal;font-family:Menlo,'DejaVu Sans Mono',consolas,'Courier New',monospace\"><span style=\"color: #7fbfbf; text-decoration-color: #7fbfbf\">[14:05:20] </span><span style=\"color: #000080; text-decoration-color: #000080\">INFO    </span> Evolution: computing operators - <span style=\"color: #008080; text-decoration-color: #008080; font-weight: bold\">4</span>/<span style=\"color: #008080; text-decoration-color: #008080; font-weight: bold\">8</span> took: <span style=\"color: #008080; text-decoration-color: #008080; font-weight: bold\">0.314837</span> s                           <a href=\"file:///Users/giacomomagni/.conda/envs/yad_dev/lib/python3.10/site-packages/eko/evolution_operator/__init__.py\" target=\"_blank\"><span style=\"color: #7f7f7f; text-decoration-color: #7f7f7f\">__init__.py</span></a><span style=\"color: #7f7f7f; text-decoration-color: #7f7f7f\">:</span><a href=\"file:///Users/giacomomagni/.conda/envs/yad_dev/lib/python3.10/site-packages/eko/evolution_operator/__init__.py#889\" target=\"_blank\"><span style=\"color: #7f7f7f; text-decoration-color: #7f7f7f\">889</span></a>\n",
       "</pre>\n"
      ],
      "text/plain": [
       "\u001b[2;36m[14:05:20]\u001b[0m\u001b[2;36m \u001b[0m\u001b[34mINFO    \u001b[0m Evolution: computing operators - \u001b[1;36m4\u001b[0m/\u001b[1;36m8\u001b[0m took: \u001b[1;36m0.314837\u001b[0m s                           \u001b]8;id=4608;file:///Users/giacomomagni/.conda/envs/yad_dev/lib/python3.10/site-packages/eko/evolution_operator/__init__.py\u001b\\\u001b[2m__init__.py\u001b[0m\u001b]8;;\u001b\\\u001b[2m:\u001b[0m\u001b]8;id=199522;file:///Users/giacomomagni/.conda/envs/yad_dev/lib/python3.10/site-packages/eko/evolution_operator/__init__.py#889\u001b\\\u001b[2m889\u001b[0m\u001b]8;;\u001b\\\n"
      ]
     },
     "metadata": {},
     "output_type": "display_data"
    },
    {
     "data": {
      "text/html": [
       "<pre style=\"white-space:pre;overflow-x:auto;line-height:normal;font-family:Menlo,'DejaVu Sans Mono',consolas,'Courier New',monospace\"><span style=\"color: #7fbfbf; text-decoration-color: #7fbfbf\">           </span><span style=\"color: #000080; text-decoration-color: #000080\">INFO    </span> Evolution: computing operators - <span style=\"color: #008080; text-decoration-color: #008080; font-weight: bold\">5</span>/<span style=\"color: #008080; text-decoration-color: #008080; font-weight: bold\">8</span> took: <span style=\"color: #008080; text-decoration-color: #008080; font-weight: bold\">0.246108</span> s                           <a href=\"file:///Users/giacomomagni/.conda/envs/yad_dev/lib/python3.10/site-packages/eko/evolution_operator/__init__.py\" target=\"_blank\"><span style=\"color: #7f7f7f; text-decoration-color: #7f7f7f\">__init__.py</span></a><span style=\"color: #7f7f7f; text-decoration-color: #7f7f7f\">:</span><a href=\"file:///Users/giacomomagni/.conda/envs/yad_dev/lib/python3.10/site-packages/eko/evolution_operator/__init__.py#889\" target=\"_blank\"><span style=\"color: #7f7f7f; text-decoration-color: #7f7f7f\">889</span></a>\n",
       "</pre>\n"
      ],
      "text/plain": [
       "\u001b[2;36m          \u001b[0m\u001b[2;36m \u001b[0m\u001b[34mINFO    \u001b[0m Evolution: computing operators - \u001b[1;36m5\u001b[0m/\u001b[1;36m8\u001b[0m took: \u001b[1;36m0.246108\u001b[0m s                           \u001b]8;id=385593;file:///Users/giacomomagni/.conda/envs/yad_dev/lib/python3.10/site-packages/eko/evolution_operator/__init__.py\u001b\\\u001b[2m__init__.py\u001b[0m\u001b]8;;\u001b\\\u001b[2m:\u001b[0m\u001b]8;id=911880;file:///Users/giacomomagni/.conda/envs/yad_dev/lib/python3.10/site-packages/eko/evolution_operator/__init__.py#889\u001b\\\u001b[2m889\u001b[0m\u001b]8;;\u001b\\\n"
      ]
     },
     "metadata": {},
     "output_type": "display_data"
    },
    {
     "data": {
      "text/html": [
       "<pre style=\"white-space:pre;overflow-x:auto;line-height:normal;font-family:Menlo,'DejaVu Sans Mono',consolas,'Courier New',monospace\"><span style=\"color: #7fbfbf; text-decoration-color: #7fbfbf\">           </span><span style=\"color: #000080; text-decoration-color: #000080\">INFO    </span> Evolution: computing operators - <span style=\"color: #008080; text-decoration-color: #008080; font-weight: bold\">6</span>/<span style=\"color: #008080; text-decoration-color: #008080; font-weight: bold\">8</span> took: <span style=\"color: #008080; text-decoration-color: #008080; font-weight: bold\">0.238242</span> s                           <a href=\"file:///Users/giacomomagni/.conda/envs/yad_dev/lib/python3.10/site-packages/eko/evolution_operator/__init__.py\" target=\"_blank\"><span style=\"color: #7f7f7f; text-decoration-color: #7f7f7f\">__init__.py</span></a><span style=\"color: #7f7f7f; text-decoration-color: #7f7f7f\">:</span><a href=\"file:///Users/giacomomagni/.conda/envs/yad_dev/lib/python3.10/site-packages/eko/evolution_operator/__init__.py#889\" target=\"_blank\"><span style=\"color: #7f7f7f; text-decoration-color: #7f7f7f\">889</span></a>\n",
       "</pre>\n"
      ],
      "text/plain": [
       "\u001b[2;36m          \u001b[0m\u001b[2;36m \u001b[0m\u001b[34mINFO    \u001b[0m Evolution: computing operators - \u001b[1;36m6\u001b[0m/\u001b[1;36m8\u001b[0m took: \u001b[1;36m0.238242\u001b[0m s                           \u001b]8;id=877098;file:///Users/giacomomagni/.conda/envs/yad_dev/lib/python3.10/site-packages/eko/evolution_operator/__init__.py\u001b\\\u001b[2m__init__.py\u001b[0m\u001b]8;;\u001b\\\u001b[2m:\u001b[0m\u001b]8;id=74768;file:///Users/giacomomagni/.conda/envs/yad_dev/lib/python3.10/site-packages/eko/evolution_operator/__init__.py#889\u001b\\\u001b[2m889\u001b[0m\u001b]8;;\u001b\\\n"
      ]
     },
     "metadata": {},
     "output_type": "display_data"
    },
    {
     "data": {
      "text/html": [
       "<pre style=\"white-space:pre;overflow-x:auto;line-height:normal;font-family:Menlo,'DejaVu Sans Mono',consolas,'Courier New',monospace\"><span style=\"color: #7fbfbf; text-decoration-color: #7fbfbf\">           </span><span style=\"color: #000080; text-decoration-color: #000080\">INFO    </span> Evolution: computing operators - <span style=\"color: #008080; text-decoration-color: #008080; font-weight: bold\">7</span>/<span style=\"color: #008080; text-decoration-color: #008080; font-weight: bold\">8</span> took: <span style=\"color: #008080; text-decoration-color: #008080; font-weight: bold\">0.185086</span> s                           <a href=\"file:///Users/giacomomagni/.conda/envs/yad_dev/lib/python3.10/site-packages/eko/evolution_operator/__init__.py\" target=\"_blank\"><span style=\"color: #7f7f7f; text-decoration-color: #7f7f7f\">__init__.py</span></a><span style=\"color: #7f7f7f; text-decoration-color: #7f7f7f\">:</span><a href=\"file:///Users/giacomomagni/.conda/envs/yad_dev/lib/python3.10/site-packages/eko/evolution_operator/__init__.py#889\" target=\"_blank\"><span style=\"color: #7f7f7f; text-decoration-color: #7f7f7f\">889</span></a>\n",
       "</pre>\n"
      ],
      "text/plain": [
       "\u001b[2;36m          \u001b[0m\u001b[2;36m \u001b[0m\u001b[34mINFO    \u001b[0m Evolution: computing operators - \u001b[1;36m7\u001b[0m/\u001b[1;36m8\u001b[0m took: \u001b[1;36m0.185086\u001b[0m s                           \u001b]8;id=81328;file:///Users/giacomomagni/.conda/envs/yad_dev/lib/python3.10/site-packages/eko/evolution_operator/__init__.py\u001b\\\u001b[2m__init__.py\u001b[0m\u001b]8;;\u001b\\\u001b[2m:\u001b[0m\u001b]8;id=219516;file:///Users/giacomomagni/.conda/envs/yad_dev/lib/python3.10/site-packages/eko/evolution_operator/__init__.py#889\u001b\\\u001b[2m889\u001b[0m\u001b]8;;\u001b\\\n"
      ]
     },
     "metadata": {},
     "output_type": "display_data"
    },
    {
     "data": {
      "text/html": [
       "<pre style=\"white-space:pre;overflow-x:auto;line-height:normal;font-family:Menlo,'DejaVu Sans Mono',consolas,'Courier New',monospace\"><span style=\"color: #7fbfbf; text-decoration-color: #7fbfbf\">           </span><span style=\"color: #000080; text-decoration-color: #000080\">INFO    </span> Evolution: computing operators - <span style=\"color: #008080; text-decoration-color: #008080; font-weight: bold\">8</span>/<span style=\"color: #008080; text-decoration-color: #008080; font-weight: bold\">8</span> took: <span style=\"color: #008080; text-decoration-color: #008080; font-weight: bold\">0.038962</span> s                           <a href=\"file:///Users/giacomomagni/.conda/envs/yad_dev/lib/python3.10/site-packages/eko/evolution_operator/__init__.py\" target=\"_blank\"><span style=\"color: #7f7f7f; text-decoration-color: #7f7f7f\">__init__.py</span></a><span style=\"color: #7f7f7f; text-decoration-color: #7f7f7f\">:</span><a href=\"file:///Users/giacomomagni/.conda/envs/yad_dev/lib/python3.10/site-packages/eko/evolution_operator/__init__.py#889\" target=\"_blank\"><span style=\"color: #7f7f7f; text-decoration-color: #7f7f7f\">889</span></a>\n",
       "</pre>\n"
      ],
      "text/plain": [
       "\u001b[2;36m          \u001b[0m\u001b[2;36m \u001b[0m\u001b[34mINFO    \u001b[0m Evolution: computing operators - \u001b[1;36m8\u001b[0m/\u001b[1;36m8\u001b[0m took: \u001b[1;36m0.038962\u001b[0m s                           \u001b]8;id=198291;file:///Users/giacomomagni/.conda/envs/yad_dev/lib/python3.10/site-packages/eko/evolution_operator/__init__.py\u001b\\\u001b[2m__init__.py\u001b[0m\u001b]8;;\u001b\\\u001b[2m:\u001b[0m\u001b]8;id=485560;file:///Users/giacomomagni/.conda/envs/yad_dev/lib/python3.10/site-packages/eko/evolution_operator/__init__.py#889\u001b\\\u001b[2m889\u001b[0m\u001b]8;;\u001b\\\n"
      ]
     },
     "metadata": {},
     "output_type": "display_data"
    },
    {
     "data": {
      "text/html": [
       "<pre style=\"white-space:pre;overflow-x:auto;line-height:normal;font-family:Menlo,'DejaVu Sans Mono',consolas,'Courier New',monospace\"><span style=\"color: #7fbfbf; text-decoration-color: #7fbfbf\">           </span><span style=\"color: #000080; text-decoration-color: #000080\">INFO    </span> Evolution: Total time <span style=\"color: #008080; text-decoration-color: #008080; font-weight: bold\">2.387115</span> s                                                <a href=\"file:///Users/giacomomagni/.conda/envs/yad_dev/lib/python3.10/site-packages/eko/evolution_operator/__init__.py\" target=\"_blank\"><span style=\"color: #7f7f7f; text-decoration-color: #7f7f7f\">__init__.py</span></a><span style=\"color: #7f7f7f; text-decoration-color: #7f7f7f\">:</span><a href=\"file:///Users/giacomomagni/.conda/envs/yad_dev/lib/python3.10/site-packages/eko/evolution_operator/__init__.py#982\" target=\"_blank\"><span style=\"color: #7f7f7f; text-decoration-color: #7f7f7f\">982</span></a>\n",
       "</pre>\n"
      ],
      "text/plain": [
       "\u001b[2;36m          \u001b[0m\u001b[2;36m \u001b[0m\u001b[34mINFO    \u001b[0m Evolution: Total time \u001b[1;36m2.387115\u001b[0m s                                                \u001b]8;id=723769;file:///Users/giacomomagni/.conda/envs/yad_dev/lib/python3.10/site-packages/eko/evolution_operator/__init__.py\u001b\\\u001b[2m__init__.py\u001b[0m\u001b]8;;\u001b\\\u001b[2m:\u001b[0m\u001b]8;id=133263;file:///Users/giacomomagni/.conda/envs/yad_dev/lib/python3.10/site-packages/eko/evolution_operator/__init__.py#982\u001b\\\u001b[2m982\u001b[0m\u001b]8;;\u001b\\\n"
      ]
     },
     "metadata": {},
     "output_type": "display_data"
    },
    {
     "data": {
      "text/html": [
       "<pre style=\"white-space:pre;overflow-x:auto;line-height:normal;font-family:Menlo,'DejaVu Sans Mono',consolas,'Courier New',monospace\"><span style=\"color: #7fbfbf; text-decoration-color: #7fbfbf\">[14:05:21] </span><span style=\"color: #000080; text-decoration-color: #000080\">INFO    </span> Evolution: computing operators <span style=\"color: #008080; text-decoration-color: #008080; font-weight: bold\">2.420640e+01</span> -&gt; <span style=\"color: #008080; text-decoration-color: #008080; font-weight: bold\">4.000000e+02</span>, <span style=\"color: #808000; text-decoration-color: #808000\">nf</span>=<span style=\"color: #008080; text-decoration-color: #008080; font-weight: bold\">5</span>               <a href=\"file:///Users/giacomomagni/.conda/envs/yad_dev/lib/python3.10/site-packages/eko/evolution_operator/__init__.py\" target=\"_blank\"><span style=\"color: #7f7f7f; text-decoration-color: #7f7f7f\">__init__.py</span></a><span style=\"color: #7f7f7f; text-decoration-color: #7f7f7f\">:</span><a href=\"file:///Users/giacomomagni/.conda/envs/yad_dev/lib/python3.10/site-packages/eko/evolution_operator/__init__.py#917\" target=\"_blank\"><span style=\"color: #7f7f7f; text-decoration-color: #7f7f7f\">917</span></a>\n",
       "</pre>\n"
      ],
      "text/plain": [
       "\u001b[2;36m[14:05:21]\u001b[0m\u001b[2;36m \u001b[0m\u001b[34mINFO    \u001b[0m Evolution: computing operators \u001b[1;36m2.420640e+01\u001b[0m -> \u001b[1;36m4.000000e+02\u001b[0m, \u001b[33mnf\u001b[0m=\u001b[1;36m5\u001b[0m               \u001b]8;id=634702;file:///Users/giacomomagni/.conda/envs/yad_dev/lib/python3.10/site-packages/eko/evolution_operator/__init__.py\u001b\\\u001b[2m__init__.py\u001b[0m\u001b]8;;\u001b\\\u001b[2m:\u001b[0m\u001b]8;id=138847;file:///Users/giacomomagni/.conda/envs/yad_dev/lib/python3.10/site-packages/eko/evolution_operator/__init__.py#917\u001b\\\u001b[2m917\u001b[0m\u001b]8;;\u001b\\\n"
      ]
     },
     "metadata": {},
     "output_type": "display_data"
    },
    {
     "data": {
      "text/html": [
       "<pre style=\"white-space:pre;overflow-x:auto;line-height:normal;font-family:Menlo,'DejaVu Sans Mono',consolas,'Courier New',monospace\"><span style=\"color: #7fbfbf; text-decoration-color: #7fbfbf\">           </span><span style=\"color: #000080; text-decoration-color: #000080\">INFO    </span> Evolution: µ_R^<span style=\"color: #008080; text-decoration-color: #008080; font-weight: bold\">2</span> distance: <span style=\"color: #008080; text-decoration-color: #008080; font-weight: bold\">2.420640e+01</span> -&gt; <span style=\"color: #008080; text-decoration-color: #008080; font-weight: bold\">4.000000e+02</span>                         <a href=\"file:///Users/giacomomagni/.conda/envs/yad_dev/lib/python3.10/site-packages/eko/evolution_operator/__init__.py\" target=\"_blank\"><span style=\"color: #7f7f7f; text-decoration-color: #7f7f7f\">__init__.py</span></a><span style=\"color: #7f7f7f; text-decoration-color: #7f7f7f\">:</span><a href=\"file:///Users/giacomomagni/.conda/envs/yad_dev/lib/python3.10/site-packages/eko/evolution_operator/__init__.py#924\" target=\"_blank\"><span style=\"color: #7f7f7f; text-decoration-color: #7f7f7f\">924</span></a>\n",
       "</pre>\n"
      ],
      "text/plain": [
       "\u001b[2;36m          \u001b[0m\u001b[2;36m \u001b[0m\u001b[34mINFO    \u001b[0m Evolution: µ_R^\u001b[1;36m2\u001b[0m distance: \u001b[1;36m2.420640e+01\u001b[0m -> \u001b[1;36m4.000000e+02\u001b[0m                         \u001b]8;id=947333;file:///Users/giacomomagni/.conda/envs/yad_dev/lib/python3.10/site-packages/eko/evolution_operator/__init__.py\u001b\\\u001b[2m__init__.py\u001b[0m\u001b]8;;\u001b\\\u001b[2m:\u001b[0m\u001b]8;id=622049;file:///Users/giacomomagni/.conda/envs/yad_dev/lib/python3.10/site-packages/eko/evolution_operator/__init__.py#924\u001b\\\u001b[2m924\u001b[0m\u001b]8;;\u001b\\\n"
      ]
     },
     "metadata": {},
     "output_type": "display_data"
    },
    {
     "data": {
      "text/html": [
       "<pre style=\"white-space:pre;overflow-x:auto;line-height:normal;font-family:Menlo,'DejaVu Sans Mono',consolas,'Courier New',monospace\"><span style=\"color: #7fbfbf; text-decoration-color: #7fbfbf\">           </span><span style=\"color: #000080; text-decoration-color: #000080\">INFO    </span> Evolution: a_s distance: <span style=\"color: #008080; text-decoration-color: #008080; font-weight: bold\">1.697192e-02</span> -&gt; <span style=\"color: #008080; text-decoration-color: #008080; font-weight: bold\">1.219852e-02</span>                           <a href=\"file:///Users/giacomomagni/.conda/envs/yad_dev/lib/python3.10/site-packages/eko/evolution_operator/__init__.py\" target=\"_blank\"><span style=\"color: #7f7f7f; text-decoration-color: #7f7f7f\">__init__.py</span></a><span style=\"color: #7f7f7f; text-decoration-color: #7f7f7f\">:</span><a href=\"file:///Users/giacomomagni/.conda/envs/yad_dev/lib/python3.10/site-packages/eko/evolution_operator/__init__.py#936\" target=\"_blank\"><span style=\"color: #7f7f7f; text-decoration-color: #7f7f7f\">936</span></a>\n",
       "</pre>\n"
      ],
      "text/plain": [
       "\u001b[2;36m          \u001b[0m\u001b[2;36m \u001b[0m\u001b[34mINFO    \u001b[0m Evolution: a_s distance: \u001b[1;36m1.697192e-02\u001b[0m -> \u001b[1;36m1.219852e-02\u001b[0m                           \u001b]8;id=162798;file:///Users/giacomomagni/.conda/envs/yad_dev/lib/python3.10/site-packages/eko/evolution_operator/__init__.py\u001b\\\u001b[2m__init__.py\u001b[0m\u001b]8;;\u001b\\\u001b[2m:\u001b[0m\u001b]8;id=800452;file:///Users/giacomomagni/.conda/envs/yad_dev/lib/python3.10/site-packages/eko/evolution_operator/__init__.py#936\u001b\\\u001b[2m936\u001b[0m\u001b]8;;\u001b\\\n"
      ]
     },
     "metadata": {},
     "output_type": "display_data"
    },
    {
     "data": {
      "text/html": [
       "<pre style=\"white-space:pre;overflow-x:auto;line-height:normal;font-family:Menlo,'DejaVu Sans Mono',consolas,'Courier New',monospace\"><span style=\"color: #7fbfbf; text-decoration-color: #7fbfbf\">           </span><span style=\"color: #000080; text-decoration-color: #000080\">INFO    </span> Evolution: order: <span style=\"font-weight: bold\">(</span><span style=\"color: #008080; text-decoration-color: #008080; font-weight: bold\">2</span>, <span style=\"color: #008080; text-decoration-color: #008080; font-weight: bold\">0</span><span style=\"font-weight: bold\">)</span>, solution strategy: iterate-exact, use fhmruvv: <span style=\"color: #ff0000; text-decoration-color: #ff0000; font-style: italic\">False</span>  <a href=\"file:///Users/giacomomagni/.conda/envs/yad_dev/lib/python3.10/site-packages/eko/evolution_operator/__init__.py\" target=\"_blank\"><span style=\"color: #7f7f7f; text-decoration-color: #7f7f7f\">__init__.py</span></a><span style=\"color: #7f7f7f; text-decoration-color: #7f7f7f\">:</span><a href=\"file:///Users/giacomomagni/.conda/envs/yad_dev/lib/python3.10/site-packages/eko/evolution_operator/__init__.py#946\" target=\"_blank\"><span style=\"color: #7f7f7f; text-decoration-color: #7f7f7f\">946</span></a>\n",
       "</pre>\n"
      ],
      "text/plain": [
       "\u001b[2;36m          \u001b[0m\u001b[2;36m \u001b[0m\u001b[34mINFO    \u001b[0m Evolution: order: \u001b[1m(\u001b[0m\u001b[1;36m2\u001b[0m, \u001b[1;36m0\u001b[0m\u001b[1m)\u001b[0m, solution strategy: iterate-exact, use fhmruvv: \u001b[3;91mFalse\u001b[0m  \u001b]8;id=250755;file:///Users/giacomomagni/.conda/envs/yad_dev/lib/python3.10/site-packages/eko/evolution_operator/__init__.py\u001b\\\u001b[2m__init__.py\u001b[0m\u001b]8;;\u001b\\\u001b[2m:\u001b[0m\u001b]8;id=300594;file:///Users/giacomomagni/.conda/envs/yad_dev/lib/python3.10/site-packages/eko/evolution_operator/__init__.py#946\u001b\\\u001b[2m946\u001b[0m\u001b]8;;\u001b\\\n"
      ]
     },
     "metadata": {},
     "output_type": "display_data"
    },
    {
     "data": {
      "text/html": [
       "<pre style=\"white-space:pre;overflow-x:auto;line-height:normal;font-family:Menlo,'DejaVu Sans Mono',consolas,'Courier New',monospace\"><span style=\"color: #7fbfbf; text-decoration-color: #7fbfbf\">           </span><span style=\"color: #000080; text-decoration-color: #000080\">INFO    </span> Evolution: computing operators - <span style=\"color: #008080; text-decoration-color: #008080; font-weight: bold\">1</span>/<span style=\"color: #008080; text-decoration-color: #008080; font-weight: bold\">8</span> took: <span style=\"color: #008080; text-decoration-color: #008080; font-weight: bold\">0.495268</span> s                           <a href=\"file:///Users/giacomomagni/.conda/envs/yad_dev/lib/python3.10/site-packages/eko/evolution_operator/__init__.py\" target=\"_blank\"><span style=\"color: #7f7f7f; text-decoration-color: #7f7f7f\">__init__.py</span></a><span style=\"color: #7f7f7f; text-decoration-color: #7f7f7f\">:</span><a href=\"file:///Users/giacomomagni/.conda/envs/yad_dev/lib/python3.10/site-packages/eko/evolution_operator/__init__.py#889\" target=\"_blank\"><span style=\"color: #7f7f7f; text-decoration-color: #7f7f7f\">889</span></a>\n",
       "</pre>\n"
      ],
      "text/plain": [
       "\u001b[2;36m          \u001b[0m\u001b[2;36m \u001b[0m\u001b[34mINFO    \u001b[0m Evolution: computing operators - \u001b[1;36m1\u001b[0m/\u001b[1;36m8\u001b[0m took: \u001b[1;36m0.495268\u001b[0m s                           \u001b]8;id=560268;file:///Users/giacomomagni/.conda/envs/yad_dev/lib/python3.10/site-packages/eko/evolution_operator/__init__.py\u001b\\\u001b[2m__init__.py\u001b[0m\u001b]8;;\u001b\\\u001b[2m:\u001b[0m\u001b]8;id=417147;file:///Users/giacomomagni/.conda/envs/yad_dev/lib/python3.10/site-packages/eko/evolution_operator/__init__.py#889\u001b\\\u001b[2m889\u001b[0m\u001b]8;;\u001b\\\n"
      ]
     },
     "metadata": {},
     "output_type": "display_data"
    },
    {
     "data": {
      "text/html": [
       "<pre style=\"white-space:pre;overflow-x:auto;line-height:normal;font-family:Menlo,'DejaVu Sans Mono',consolas,'Courier New',monospace\"><span style=\"color: #7fbfbf; text-decoration-color: #7fbfbf\">[14:05:22] </span><span style=\"color: #000080; text-decoration-color: #000080\">INFO    </span> Evolution: computing operators - <span style=\"color: #008080; text-decoration-color: #008080; font-weight: bold\">2</span>/<span style=\"color: #008080; text-decoration-color: #008080; font-weight: bold\">8</span> took: <span style=\"color: #008080; text-decoration-color: #008080; font-weight: bold\">0.511696</span> s                           <a href=\"file:///Users/giacomomagni/.conda/envs/yad_dev/lib/python3.10/site-packages/eko/evolution_operator/__init__.py\" target=\"_blank\"><span style=\"color: #7f7f7f; text-decoration-color: #7f7f7f\">__init__.py</span></a><span style=\"color: #7f7f7f; text-decoration-color: #7f7f7f\">:</span><a href=\"file:///Users/giacomomagni/.conda/envs/yad_dev/lib/python3.10/site-packages/eko/evolution_operator/__init__.py#889\" target=\"_blank\"><span style=\"color: #7f7f7f; text-decoration-color: #7f7f7f\">889</span></a>\n",
       "</pre>\n"
      ],
      "text/plain": [
       "\u001b[2;36m[14:05:22]\u001b[0m\u001b[2;36m \u001b[0m\u001b[34mINFO    \u001b[0m Evolution: computing operators - \u001b[1;36m2\u001b[0m/\u001b[1;36m8\u001b[0m took: \u001b[1;36m0.511696\u001b[0m s                           \u001b]8;id=598232;file:///Users/giacomomagni/.conda/envs/yad_dev/lib/python3.10/site-packages/eko/evolution_operator/__init__.py\u001b\\\u001b[2m__init__.py\u001b[0m\u001b]8;;\u001b\\\u001b[2m:\u001b[0m\u001b]8;id=197127;file:///Users/giacomomagni/.conda/envs/yad_dev/lib/python3.10/site-packages/eko/evolution_operator/__init__.py#889\u001b\\\u001b[2m889\u001b[0m\u001b]8;;\u001b\\\n"
      ]
     },
     "metadata": {},
     "output_type": "display_data"
    },
    {
     "data": {
      "text/html": [
       "<pre style=\"white-space:pre;overflow-x:auto;line-height:normal;font-family:Menlo,'DejaVu Sans Mono',consolas,'Courier New',monospace\"><span style=\"color: #7fbfbf; text-decoration-color: #7fbfbf\">           </span><span style=\"color: #000080; text-decoration-color: #000080\">INFO    </span> Evolution: computing operators - <span style=\"color: #008080; text-decoration-color: #008080; font-weight: bold\">3</span>/<span style=\"color: #008080; text-decoration-color: #008080; font-weight: bold\">8</span> took: <span style=\"color: #008080; text-decoration-color: #008080; font-weight: bold\">0.372168</span> s                           <a href=\"file:///Users/giacomomagni/.conda/envs/yad_dev/lib/python3.10/site-packages/eko/evolution_operator/__init__.py\" target=\"_blank\"><span style=\"color: #7f7f7f; text-decoration-color: #7f7f7f\">__init__.py</span></a><span style=\"color: #7f7f7f; text-decoration-color: #7f7f7f\">:</span><a href=\"file:///Users/giacomomagni/.conda/envs/yad_dev/lib/python3.10/site-packages/eko/evolution_operator/__init__.py#889\" target=\"_blank\"><span style=\"color: #7f7f7f; text-decoration-color: #7f7f7f\">889</span></a>\n",
       "</pre>\n"
      ],
      "text/plain": [
       "\u001b[2;36m          \u001b[0m\u001b[2;36m \u001b[0m\u001b[34mINFO    \u001b[0m Evolution: computing operators - \u001b[1;36m3\u001b[0m/\u001b[1;36m8\u001b[0m took: \u001b[1;36m0.372168\u001b[0m s                           \u001b]8;id=62105;file:///Users/giacomomagni/.conda/envs/yad_dev/lib/python3.10/site-packages/eko/evolution_operator/__init__.py\u001b\\\u001b[2m__init__.py\u001b[0m\u001b]8;;\u001b\\\u001b[2m:\u001b[0m\u001b]8;id=764319;file:///Users/giacomomagni/.conda/envs/yad_dev/lib/python3.10/site-packages/eko/evolution_operator/__init__.py#889\u001b\\\u001b[2m889\u001b[0m\u001b]8;;\u001b\\\n"
      ]
     },
     "metadata": {},
     "output_type": "display_data"
    },
    {
     "data": {
      "text/html": [
       "<pre style=\"white-space:pre;overflow-x:auto;line-height:normal;font-family:Menlo,'DejaVu Sans Mono',consolas,'Courier New',monospace\"><span style=\"color: #7fbfbf; text-decoration-color: #7fbfbf\">           </span><span style=\"color: #000080; text-decoration-color: #000080\">INFO    </span> Evolution: computing operators - <span style=\"color: #008080; text-decoration-color: #008080; font-weight: bold\">4</span>/<span style=\"color: #008080; text-decoration-color: #008080; font-weight: bold\">8</span> took: <span style=\"color: #008080; text-decoration-color: #008080; font-weight: bold\">0.296176</span> s                           <a href=\"file:///Users/giacomomagni/.conda/envs/yad_dev/lib/python3.10/site-packages/eko/evolution_operator/__init__.py\" target=\"_blank\"><span style=\"color: #7f7f7f; text-decoration-color: #7f7f7f\">__init__.py</span></a><span style=\"color: #7f7f7f; text-decoration-color: #7f7f7f\">:</span><a href=\"file:///Users/giacomomagni/.conda/envs/yad_dev/lib/python3.10/site-packages/eko/evolution_operator/__init__.py#889\" target=\"_blank\"><span style=\"color: #7f7f7f; text-decoration-color: #7f7f7f\">889</span></a>\n",
       "</pre>\n"
      ],
      "text/plain": [
       "\u001b[2;36m          \u001b[0m\u001b[2;36m \u001b[0m\u001b[34mINFO    \u001b[0m Evolution: computing operators - \u001b[1;36m4\u001b[0m/\u001b[1;36m8\u001b[0m took: \u001b[1;36m0.296176\u001b[0m s                           \u001b]8;id=844102;file:///Users/giacomomagni/.conda/envs/yad_dev/lib/python3.10/site-packages/eko/evolution_operator/__init__.py\u001b\\\u001b[2m__init__.py\u001b[0m\u001b]8;;\u001b\\\u001b[2m:\u001b[0m\u001b]8;id=226664;file:///Users/giacomomagni/.conda/envs/yad_dev/lib/python3.10/site-packages/eko/evolution_operator/__init__.py#889\u001b\\\u001b[2m889\u001b[0m\u001b]8;;\u001b\\\n"
      ]
     },
     "metadata": {},
     "output_type": "display_data"
    },
    {
     "data": {
      "text/html": [
       "<pre style=\"white-space:pre;overflow-x:auto;line-height:normal;font-family:Menlo,'DejaVu Sans Mono',consolas,'Courier New',monospace\"><span style=\"color: #7fbfbf; text-decoration-color: #7fbfbf\">           </span><span style=\"color: #000080; text-decoration-color: #000080\">INFO    </span> Evolution: computing operators - <span style=\"color: #008080; text-decoration-color: #008080; font-weight: bold\">5</span>/<span style=\"color: #008080; text-decoration-color: #008080; font-weight: bold\">8</span> took: <span style=\"color: #008080; text-decoration-color: #008080; font-weight: bold\">0.243840</span> s                           <a href=\"file:///Users/giacomomagni/.conda/envs/yad_dev/lib/python3.10/site-packages/eko/evolution_operator/__init__.py\" target=\"_blank\"><span style=\"color: #7f7f7f; text-decoration-color: #7f7f7f\">__init__.py</span></a><span style=\"color: #7f7f7f; text-decoration-color: #7f7f7f\">:</span><a href=\"file:///Users/giacomomagni/.conda/envs/yad_dev/lib/python3.10/site-packages/eko/evolution_operator/__init__.py#889\" target=\"_blank\"><span style=\"color: #7f7f7f; text-decoration-color: #7f7f7f\">889</span></a>\n",
       "</pre>\n"
      ],
      "text/plain": [
       "\u001b[2;36m          \u001b[0m\u001b[2;36m \u001b[0m\u001b[34mINFO    \u001b[0m Evolution: computing operators - \u001b[1;36m5\u001b[0m/\u001b[1;36m8\u001b[0m took: \u001b[1;36m0.243840\u001b[0m s                           \u001b]8;id=581900;file:///Users/giacomomagni/.conda/envs/yad_dev/lib/python3.10/site-packages/eko/evolution_operator/__init__.py\u001b\\\u001b[2m__init__.py\u001b[0m\u001b]8;;\u001b\\\u001b[2m:\u001b[0m\u001b]8;id=275878;file:///Users/giacomomagni/.conda/envs/yad_dev/lib/python3.10/site-packages/eko/evolution_operator/__init__.py#889\u001b\\\u001b[2m889\u001b[0m\u001b]8;;\u001b\\\n"
      ]
     },
     "metadata": {},
     "output_type": "display_data"
    },
    {
     "data": {
      "text/html": [
       "<pre style=\"white-space:pre;overflow-x:auto;line-height:normal;font-family:Menlo,'DejaVu Sans Mono',consolas,'Courier New',monospace\"><span style=\"color: #7fbfbf; text-decoration-color: #7fbfbf\">[14:05:23] </span><span style=\"color: #000080; text-decoration-color: #000080\">INFO    </span> Evolution: computing operators - <span style=\"color: #008080; text-decoration-color: #008080; font-weight: bold\">6</span>/<span style=\"color: #008080; text-decoration-color: #008080; font-weight: bold\">8</span> took: <span style=\"color: #008080; text-decoration-color: #008080; font-weight: bold\">0.237600</span> s                           <a href=\"file:///Users/giacomomagni/.conda/envs/yad_dev/lib/python3.10/site-packages/eko/evolution_operator/__init__.py\" target=\"_blank\"><span style=\"color: #7f7f7f; text-decoration-color: #7f7f7f\">__init__.py</span></a><span style=\"color: #7f7f7f; text-decoration-color: #7f7f7f\">:</span><a href=\"file:///Users/giacomomagni/.conda/envs/yad_dev/lib/python3.10/site-packages/eko/evolution_operator/__init__.py#889\" target=\"_blank\"><span style=\"color: #7f7f7f; text-decoration-color: #7f7f7f\">889</span></a>\n",
       "</pre>\n"
      ],
      "text/plain": [
       "\u001b[2;36m[14:05:23]\u001b[0m\u001b[2;36m \u001b[0m\u001b[34mINFO    \u001b[0m Evolution: computing operators - \u001b[1;36m6\u001b[0m/\u001b[1;36m8\u001b[0m took: \u001b[1;36m0.237600\u001b[0m s                           \u001b]8;id=748540;file:///Users/giacomomagni/.conda/envs/yad_dev/lib/python3.10/site-packages/eko/evolution_operator/__init__.py\u001b\\\u001b[2m__init__.py\u001b[0m\u001b]8;;\u001b\\\u001b[2m:\u001b[0m\u001b]8;id=892009;file:///Users/giacomomagni/.conda/envs/yad_dev/lib/python3.10/site-packages/eko/evolution_operator/__init__.py#889\u001b\\\u001b[2m889\u001b[0m\u001b]8;;\u001b\\\n"
      ]
     },
     "metadata": {},
     "output_type": "display_data"
    },
    {
     "data": {
      "text/html": [
       "<pre style=\"white-space:pre;overflow-x:auto;line-height:normal;font-family:Menlo,'DejaVu Sans Mono',consolas,'Courier New',monospace\"><span style=\"color: #7fbfbf; text-decoration-color: #7fbfbf\">           </span><span style=\"color: #000080; text-decoration-color: #000080\">INFO    </span> Evolution: computing operators - <span style=\"color: #008080; text-decoration-color: #008080; font-weight: bold\">7</span>/<span style=\"color: #008080; text-decoration-color: #008080; font-weight: bold\">8</span> took: <span style=\"color: #008080; text-decoration-color: #008080; font-weight: bold\">0.189169</span> s                           <a href=\"file:///Users/giacomomagni/.conda/envs/yad_dev/lib/python3.10/site-packages/eko/evolution_operator/__init__.py\" target=\"_blank\"><span style=\"color: #7f7f7f; text-decoration-color: #7f7f7f\">__init__.py</span></a><span style=\"color: #7f7f7f; text-decoration-color: #7f7f7f\">:</span><a href=\"file:///Users/giacomomagni/.conda/envs/yad_dev/lib/python3.10/site-packages/eko/evolution_operator/__init__.py#889\" target=\"_blank\"><span style=\"color: #7f7f7f; text-decoration-color: #7f7f7f\">889</span></a>\n",
       "</pre>\n"
      ],
      "text/plain": [
       "\u001b[2;36m          \u001b[0m\u001b[2;36m \u001b[0m\u001b[34mINFO    \u001b[0m Evolution: computing operators - \u001b[1;36m7\u001b[0m/\u001b[1;36m8\u001b[0m took: \u001b[1;36m0.189169\u001b[0m s                           \u001b]8;id=931176;file:///Users/giacomomagni/.conda/envs/yad_dev/lib/python3.10/site-packages/eko/evolution_operator/__init__.py\u001b\\\u001b[2m__init__.py\u001b[0m\u001b]8;;\u001b\\\u001b[2m:\u001b[0m\u001b]8;id=445157;file:///Users/giacomomagni/.conda/envs/yad_dev/lib/python3.10/site-packages/eko/evolution_operator/__init__.py#889\u001b\\\u001b[2m889\u001b[0m\u001b]8;;\u001b\\\n"
      ]
     },
     "metadata": {},
     "output_type": "display_data"
    },
    {
     "data": {
      "text/html": [
       "<pre style=\"white-space:pre;overflow-x:auto;line-height:normal;font-family:Menlo,'DejaVu Sans Mono',consolas,'Courier New',monospace\"><span style=\"color: #7fbfbf; text-decoration-color: #7fbfbf\">           </span><span style=\"color: #000080; text-decoration-color: #000080\">INFO    </span> Evolution: computing operators - <span style=\"color: #008080; text-decoration-color: #008080; font-weight: bold\">8</span>/<span style=\"color: #008080; text-decoration-color: #008080; font-weight: bold\">8</span> took: <span style=\"color: #008080; text-decoration-color: #008080; font-weight: bold\">0.041334</span> s                           <a href=\"file:///Users/giacomomagni/.conda/envs/yad_dev/lib/python3.10/site-packages/eko/evolution_operator/__init__.py\" target=\"_blank\"><span style=\"color: #7f7f7f; text-decoration-color: #7f7f7f\">__init__.py</span></a><span style=\"color: #7f7f7f; text-decoration-color: #7f7f7f\">:</span><a href=\"file:///Users/giacomomagni/.conda/envs/yad_dev/lib/python3.10/site-packages/eko/evolution_operator/__init__.py#889\" target=\"_blank\"><span style=\"color: #7f7f7f; text-decoration-color: #7f7f7f\">889</span></a>\n",
       "</pre>\n"
      ],
      "text/plain": [
       "\u001b[2;36m          \u001b[0m\u001b[2;36m \u001b[0m\u001b[34mINFO    \u001b[0m Evolution: computing operators - \u001b[1;36m8\u001b[0m/\u001b[1;36m8\u001b[0m took: \u001b[1;36m0.041334\u001b[0m s                           \u001b]8;id=630857;file:///Users/giacomomagni/.conda/envs/yad_dev/lib/python3.10/site-packages/eko/evolution_operator/__init__.py\u001b\\\u001b[2m__init__.py\u001b[0m\u001b]8;;\u001b\\\u001b[2m:\u001b[0m\u001b]8;id=306691;file:///Users/giacomomagni/.conda/envs/yad_dev/lib/python3.10/site-packages/eko/evolution_operator/__init__.py#889\u001b\\\u001b[2m889\u001b[0m\u001b]8;;\u001b\\\n"
      ]
     },
     "metadata": {},
     "output_type": "display_data"
    },
    {
     "data": {
      "text/html": [
       "<pre style=\"white-space:pre;overflow-x:auto;line-height:normal;font-family:Menlo,'DejaVu Sans Mono',consolas,'Courier New',monospace\"><span style=\"color: #7fbfbf; text-decoration-color: #7fbfbf\">           </span><span style=\"color: #000080; text-decoration-color: #000080\">INFO    </span> Evolution: Total time <span style=\"color: #008080; text-decoration-color: #008080; font-weight: bold\">2.412126</span> s                                                <a href=\"file:///Users/giacomomagni/.conda/envs/yad_dev/lib/python3.10/site-packages/eko/evolution_operator/__init__.py\" target=\"_blank\"><span style=\"color: #7f7f7f; text-decoration-color: #7f7f7f\">__init__.py</span></a><span style=\"color: #7f7f7f; text-decoration-color: #7f7f7f\">:</span><a href=\"file:///Users/giacomomagni/.conda/envs/yad_dev/lib/python3.10/site-packages/eko/evolution_operator/__init__.py#982\" target=\"_blank\"><span style=\"color: #7f7f7f; text-decoration-color: #7f7f7f\">982</span></a>\n",
       "</pre>\n"
      ],
      "text/plain": [
       "\u001b[2;36m          \u001b[0m\u001b[2;36m \u001b[0m\u001b[34mINFO    \u001b[0m Evolution: Total time \u001b[1;36m2.412126\u001b[0m s                                                \u001b]8;id=843737;file:///Users/giacomomagni/.conda/envs/yad_dev/lib/python3.10/site-packages/eko/evolution_operator/__init__.py\u001b\\\u001b[2m__init__.py\u001b[0m\u001b]8;;\u001b\\\u001b[2m:\u001b[0m\u001b]8;id=197850;file:///Users/giacomomagni/.conda/envs/yad_dev/lib/python3.10/site-packages/eko/evolution_operator/__init__.py#982\u001b\\\u001b[2m982\u001b[0m\u001b]8;;\u001b\\\n"
      ]
     },
     "metadata": {},
     "output_type": "display_data"
    },
    {
     "data": {
      "text/html": [
       "<pre style=\"white-space:pre;overflow-x:auto;line-height:normal;font-family:Menlo,'DejaVu Sans Mono',consolas,'Courier New',monospace\"><span style=\"color: #7fbfbf; text-decoration-color: #7fbfbf\">           </span><span style=\"color: #000080; text-decoration-color: #000080\">INFO    </span> Atlas <span style=\"font-weight: bold\">[</span><span style=\"color: #008080; text-decoration-color: #008080; font-weight: bold\">0.00e+00</span> - <span style=\"color: #008080; text-decoration-color: #008080; font-weight: bold\">2.28e+00</span> - <span style=\"color: #008080; text-decoration-color: #008080; font-weight: bold\">2.42e+01</span> - <span style=\"color: #008080; text-decoration-color: #008080; font-weight: bold\">2.98e+04</span> - inf<span style=\"font-weight: bold\">]</span>, <span style=\"color: #808000; text-decoration-color: #808000\">ref</span>=<span style=\"color: #008080; text-decoration-color: #008080; font-weight: bold\">8317.44</span> @ <span style=\"color: #008080; text-decoration-color: #008080; font-weight: bold\">5</span>        <a href=\"file:///Users/giacomomagni/.conda/envs/yad_dev/lib/python3.10/site-packages/eko/matchings.py\" target=\"_blank\"><span style=\"color: #7f7f7f; text-decoration-color: #7f7f7f\">matchings.py</span></a><span style=\"color: #7f7f7f; text-decoration-color: #7f7f7f\">:</span><a href=\"file:///Users/giacomomagni/.conda/envs/yad_dev/lib/python3.10/site-packages/eko/matchings.py#72\" target=\"_blank\"><span style=\"color: #7f7f7f; text-decoration-color: #7f7f7f\">72</span></a>\n",
       "</pre>\n"
      ],
      "text/plain": [
       "\u001b[2;36m          \u001b[0m\u001b[2;36m \u001b[0m\u001b[34mINFO    \u001b[0m Atlas \u001b[1m[\u001b[0m\u001b[1;36m0.00e+00\u001b[0m - \u001b[1;36m2.28e+00\u001b[0m - \u001b[1;36m2.42e+01\u001b[0m - \u001b[1;36m2.98e+04\u001b[0m - inf\u001b[1m]\u001b[0m, \u001b[33mref\u001b[0m=\u001b[1;36m8317\u001b[0m\u001b[1;36m.44\u001b[0m @ \u001b[1;36m5\u001b[0m        \u001b]8;id=92553;file:///Users/giacomomagni/.conda/envs/yad_dev/lib/python3.10/site-packages/eko/matchings.py\u001b\\\u001b[2mmatchings.py\u001b[0m\u001b]8;;\u001b\\\u001b[2m:\u001b[0m\u001b]8;id=599824;file:///Users/giacomomagni/.conda/envs/yad_dev/lib/python3.10/site-packages/eko/matchings.py#72\u001b\\\u001b[2m72\u001b[0m\u001b]8;;\u001b\\\n"
      ]
     },
     "metadata": {},
     "output_type": "display_data"
    },
    {
     "data": {
      "text/html": [
       "<pre style=\"white-space:pre;overflow-x:auto;line-height:normal;font-family:Menlo,'DejaVu Sans Mono',consolas,'Courier New',monospace\"><span style=\"color: #7fbfbf; text-decoration-color: #7fbfbf\">           </span><span style=\"color: #000080; text-decoration-color: #000080\">INFO    </span> Strong Coupling: <span style=\"color: #800080; text-decoration-color: #800080; font-weight: bold\">a_s</span><span style=\"font-weight: bold\">(</span>µ_R^<span style=\"color: #008080; text-decoration-color: #008080; font-weight: bold\">2</span>=<span style=\"color: #008080; text-decoration-color: #008080; font-weight: bold\">8317.440000</span><span style=\"font-weight: bold\">)</span>^<span style=\"font-weight: bold\">(</span><span style=\"color: #808000; text-decoration-color: #808000\">nf</span>=<span style=\"color: #008080; text-decoration-color: #008080; font-weight: bold\">5</span><span style=\"font-weight: bold\">)</span>=<span style=\"color: #008080; text-decoration-color: #008080; font-weight: bold\">0.009390</span>=<span style=\"color: #008080; text-decoration-color: #008080; font-weight: bold\">0.118000</span>/<span style=\"font-weight: bold\">(</span>4π<span style=\"font-weight: bold\">)</span>          <a href=\"file:///Users/giacomomagni/.conda/envs/yad_dev/lib/python3.10/site-packages/eko/couplings.py\" target=\"_blank\"><span style=\"color: #7f7f7f; text-decoration-color: #7f7f7f\">couplings.py</span></a><span style=\"color: #7f7f7f; text-decoration-color: #7f7f7f\">:</span><a href=\"file:///Users/giacomomagni/.conda/envs/yad_dev/lib/python3.10/site-packages/eko/couplings.py#464\" target=\"_blank\"><span style=\"color: #7f7f7f; text-decoration-color: #7f7f7f\">464</span></a>\n",
       "</pre>\n"
      ],
      "text/plain": [
       "\u001b[2;36m          \u001b[0m\u001b[2;36m \u001b[0m\u001b[34mINFO    \u001b[0m Strong Coupling: \u001b[1;35ma_s\u001b[0m\u001b[1m(\u001b[0mµ_R^\u001b[1;36m2\u001b[0m=\u001b[1;36m8317\u001b[0m\u001b[1;36m.440000\u001b[0m\u001b[1m)\u001b[0m^\u001b[1m(\u001b[0m\u001b[33mnf\u001b[0m=\u001b[1;36m5\u001b[0m\u001b[1m)\u001b[0m=\u001b[1;36m0.\u001b[0m\u001b[1;36m009390\u001b[0m=\u001b[1;36m0\u001b[0m\u001b[1;36m.118000\u001b[0m/\u001b[1m(\u001b[0m4π\u001b[1m)\u001b[0m          \u001b]8;id=466736;file:///Users/giacomomagni/.conda/envs/yad_dev/lib/python3.10/site-packages/eko/couplings.py\u001b\\\u001b[2mcouplings.py\u001b[0m\u001b]8;;\u001b\\\u001b[2m:\u001b[0m\u001b]8;id=998649;file:///Users/giacomomagni/.conda/envs/yad_dev/lib/python3.10/site-packages/eko/couplings.py#464\u001b\\\u001b[2m464\u001b[0m\u001b]8;;\u001b\\\n"
      ]
     },
     "metadata": {},
     "output_type": "display_data"
    },
    {
     "name": "stderr",
     "output_type": "stream",
     "text": [
      "Overwriting old PDF installation\n"
     ]
    },
    {
     "name": "stdout",
     "output_type": "stream",
     "text": [
      "install_pdf NNPDF40_evolved_nf5\n"
     ]
    }
   ],
   "source": [
    "import lhapdf\n",
    "import pathlib\n",
    "from eko.io import runcards\n",
    "from ekobox.evol_pdf import evolve_pdfs\n",
    "\n",
    "\n",
    "# Define the PDF for which we want to make the prediction\n",
    "# Here we take the replica 0 of NNPDF4.0 - remember to have it available via LHAPDF.\n",
    "# You can install it if necessary via `lhapdf get NNPDF40_nnlo_as_01180`.\n",
    "input_pdf = lhapdf.mkPDF(\"NNPDF40_nnlo_as_01180\", 0)\n",
    "\n",
    "# Build eko-like runcards objects\n",
    "theory_card = runcards.Legacy(theorycard, {}).new_theory\n",
    "operators_card = runcards.OperatorCard.from_dict(operatorcard)\n",
    "\n",
    "# Iterate the flavor numbers\n",
    "for nf in [3, 4, 5]:\n",
    "    # Update the nf value in the mugrid\n",
    "    operators_card.mugrid = [(mu, nf) for (mu,_) in operators_card.mugrid]\n",
    "\n",
    "    eko_name = f\"eko_nf{nf}.tar\"\n",
    "    pathlib.Path(eko_name).unlink(missing_ok=True)\n",
    "    # Evolve the LHAPDF grid and store the output\n",
    "    evolve_pdfs(\n",
    "        initial_PDF_list=[input_pdf],\n",
    "        theory_card=theory_card,\n",
    "        operators_card=operators_card,\n",
    "        store_path=f\"eko_nf{nf}.tar\",  # where to store the eko\n",
    "        install=True, # Install in the evolved PDF in the LHAPDF directory\n",
    "        name=f\"NNPDF40_evolved_nf{nf}\",  # name of the evolved pdf\n",
    "    )"
   ]
  },
  {
   "cell_type": "markdown",
   "id": "1ec4dbbc",
   "metadata": {},
   "source": [
    "Next, we compute the coefficient functions using `yadism` and convolve them with the three PDFs generated in the script above. \n",
    "The example script works for `FONLL-A` and `FONLL-C` without damping. \n",
    "`FONLL-B` requires more care as one has to compute the same coefficient functions but at different perturbative orders.\n",
    "Also note that the script below just combines various FFNSs, but does not produce a full VFNS.\n",
    "For example, one might want to introduce here a dumping function to turn off e.g. $n_f=4$ contributions \n",
    "below the charm matching scale."
   ]
  },
  {
   "cell_type": "code",
   "execution_count": 53,
   "id": "0aec5c71",
   "metadata": {},
   "outputs": [
    {
     "name": "stdout",
     "output_type": "stream",
     "text": [
      "LHAPDF 6.5.0 loading /Users/giacomomagni/.conda/envs/yad_dev/share/LHAPDF/NNPDF40_evolved_nf3/NNPDF40_evolved_nf3_0000.dat\n",
      "NNPDF40_evolved_nf3 PDF set, member #0, version 1\n"
     ]
    },
    {
     "data": {
      "text/html": [
       "<pre style=\"white-space:pre;overflow-x:auto;line-height:normal;font-family:Menlo,'DejaVu Sans Mono',consolas,'Courier New',monospace\"><span style=\"color: #7fbfbf; text-decoration-color: #7fbfbf\">[14:08:27] </span><span style=\"color: #000080; text-decoration-color: #000080\">INFO    </span> Interpolation: number of points = <span style=\"color: #008080; text-decoration-color: #008080; font-weight: bold\">8</span>, polynomial degree = <span style=\"color: #008080; text-decoration-color: #008080; font-weight: bold\">4</span>, logarithmic =  <a href=\"file:///Users/giacomomagni/.conda/envs/yad_dev/lib/python3.10/site-packages/eko/interpolation.py\" target=\"_blank\"><span style=\"color: #7f7f7f; text-decoration-color: #7f7f7f\">interpolation.py</span></a><span style=\"color: #7f7f7f; text-decoration-color: #7f7f7f\">:</span><a href=\"file:///Users/giacomomagni/.conda/envs/yad_dev/lib/python3.10/site-packages/eko/interpolation.py#538\" target=\"_blank\"><span style=\"color: #7f7f7f; text-decoration-color: #7f7f7f\">538</span></a>\n",
       "<span style=\"color: #7fbfbf; text-decoration-color: #7fbfbf\">           </span>         <span style=\"color: #00ff00; text-decoration-color: #00ff00; font-style: italic\">True</span>                                                                       <span style=\"color: #7f7f7f; text-decoration-color: #7f7f7f\">                    </span>\n",
       "</pre>\n"
      ],
      "text/plain": [
       "\u001b[2;36m[14:08:27]\u001b[0m\u001b[2;36m \u001b[0m\u001b[34mINFO    \u001b[0m Interpolation: number of points = \u001b[1;36m8\u001b[0m, polynomial degree = \u001b[1;36m4\u001b[0m, logarithmic =  \u001b]8;id=422517;file:///Users/giacomomagni/.conda/envs/yad_dev/lib/python3.10/site-packages/eko/interpolation.py\u001b\\\u001b[2minterpolation.py\u001b[0m\u001b]8;;\u001b\\\u001b[2m:\u001b[0m\u001b]8;id=211907;file:///Users/giacomomagni/.conda/envs/yad_dev/lib/python3.10/site-packages/eko/interpolation.py#538\u001b\\\u001b[2m538\u001b[0m\u001b]8;;\u001b\\\n",
       "\u001b[2;36m           \u001b[0m         \u001b[3;92mTrue\u001b[0m                                                                       \u001b[2m                    \u001b[0m\n"
      ]
     },
     "metadata": {},
     "output_type": "display_data"
    },
    {
     "data": {
      "text/html": [
       "<pre style=\"white-space:pre;overflow-x:auto;line-height:normal;font-family:Menlo,'DejaVu Sans Mono',consolas,'Courier New',monospace\"><span style=\"color: #7fbfbf; text-decoration-color: #7fbfbf\">           </span><span style=\"color: #000080; text-decoration-color: #000080\">INFO    </span> <span style=\"font-weight: bold\">{</span><span style=\"color: #008000; text-decoration-color: #008000\">'MZ2'</span>: <span style=\"color: #008080; text-decoration-color: #008080; font-weight: bold\">8315.178393760001</span>, <span style=\"color: #008000; text-decoration-color: #008000\">'CKM'</span>: <span style=\"color: #800080; text-decoration-color: #800080; font-weight: bold\">CKM</span><span style=\"font-weight: bold\">([[</span><span style=\"color: #008080; text-decoration-color: #008080; font-weight: bold\">9.49221518e-01</span> <span style=\"color: #008080; text-decoration-color: #008080; font-weight: bold\">5.07600900e-02</span>  <a href=\"file:///Volumes/Git_Workspace/physicstools/NN3PDF/yadism/src/yadism/coefficient_functions/coupling_constants.py\" target=\"_blank\"><span style=\"color: #7f7f7f; text-decoration-color: #7f7f7f\">coupling_constants.py</span></a><span style=\"color: #7f7f7f; text-decoration-color: #7f7f7f\">:</span><a href=\"file:///Volumes/Git_Workspace/physicstools/NN3PDF/yadism/src/yadism/coefficient_functions/coupling_constants.py#53\" target=\"_blank\"><span style=\"color: #7f7f7f; text-decoration-color: #7f7f7f\">53</span></a>\n",
       "<span style=\"color: #7fbfbf; text-decoration-color: #7fbfbf\">           </span>         <span style=\"color: #008080; text-decoration-color: #008080; font-weight: bold\">1.20409000e-05</span><span style=\"font-weight: bold\">]</span> <span style=\"font-weight: bold\">[</span><span style=\"color: #008080; text-decoration-color: #008080; font-weight: bold\">5.07150400e-02</span> <span style=\"color: #008080; text-decoration-color: #008080; font-weight: bold\">9.47604903e-01</span> <span style=\"color: #008080; text-decoration-color: #008080; font-weight: bold\">1.68100000e-03</span><span style=\"font-weight: bold\">]</span>         <span style=\"color: #7f7f7f; text-decoration-color: #7f7f7f\">                        </span>\n",
       "<span style=\"color: #7fbfbf; text-decoration-color: #7fbfbf\">           </span>         <span style=\"font-weight: bold\">[</span><span style=\"color: #008080; text-decoration-color: #008080; font-weight: bold\">7.43044000e-05</span> <span style=\"color: #008080; text-decoration-color: #008080; font-weight: bold\">1.62409000e-03</span> <span style=\"color: #008080; text-decoration-color: #008080; font-weight: bold\">9.98304719e-01</span><span style=\"font-weight: bold\">]])</span>, <span style=\"color: #008000; text-decoration-color: #008000\">'sin2theta_weak'</span>:    <span style=\"color: #7f7f7f; text-decoration-color: #7f7f7f\">                        </span>\n",
       "<span style=\"color: #7fbfbf; text-decoration-color: #7fbfbf\">           </span>         <span style=\"color: #008080; text-decoration-color: #008080; font-weight: bold\">0.23121</span>, <span style=\"color: #008000; text-decoration-color: #008000\">'MW2'</span>: <span style=\"color: #008080; text-decoration-color: #008080; font-weight: bold\">6463.838403999999</span><span style=\"font-weight: bold\">}</span>                                     <span style=\"color: #7f7f7f; text-decoration-color: #7f7f7f\">                        </span>\n",
       "</pre>\n"
      ],
      "text/plain": [
       "\u001b[2;36m          \u001b[0m\u001b[2;36m \u001b[0m\u001b[34mINFO    \u001b[0m \u001b[1m{\u001b[0m\u001b[32m'MZ2'\u001b[0m: \u001b[1;36m8315.178393760001\u001b[0m, \u001b[32m'CKM'\u001b[0m: \u001b[1;35mCKM\u001b[0m\u001b[1m(\u001b[0m\u001b[1m[\u001b[0m\u001b[1m[\u001b[0m\u001b[1;36m9.49221518e-01\u001b[0m \u001b[1;36m5.07600900e-02\u001b[0m  \u001b]8;id=560823;file:///Volumes/Git_Workspace/physicstools/NN3PDF/yadism/src/yadism/coefficient_functions/coupling_constants.py\u001b\\\u001b[2mcoupling_constants.py\u001b[0m\u001b]8;;\u001b\\\u001b[2m:\u001b[0m\u001b]8;id=152965;file:///Volumes/Git_Workspace/physicstools/NN3PDF/yadism/src/yadism/coefficient_functions/coupling_constants.py#53\u001b\\\u001b[2m53\u001b[0m\u001b]8;;\u001b\\\n",
       "\u001b[2;36m           \u001b[0m         \u001b[1;36m1.20409000e-05\u001b[0m\u001b[1m]\u001b[0m \u001b[1m[\u001b[0m\u001b[1;36m5.07150400e-02\u001b[0m \u001b[1;36m9.47604903e-01\u001b[0m \u001b[1;36m1.68100000e-03\u001b[0m\u001b[1m]\u001b[0m         \u001b[2m                        \u001b[0m\n",
       "\u001b[2;36m           \u001b[0m         \u001b[1m[\u001b[0m\u001b[1;36m7.43044000e-05\u001b[0m \u001b[1;36m1.62409000e-03\u001b[0m \u001b[1;36m9.98304719e-01\u001b[0m\u001b[1m]\u001b[0m\u001b[1m]\u001b[0m\u001b[1m)\u001b[0m, \u001b[32m'sin2theta_weak'\u001b[0m:    \u001b[2m                        \u001b[0m\n",
       "\u001b[2;36m           \u001b[0m         \u001b[1;36m0.23121\u001b[0m, \u001b[32m'MW2'\u001b[0m: \u001b[1;36m6463.838403999999\u001b[0m\u001b[1m}\u001b[0m                                     \u001b[2m                        \u001b[0m\n"
      ]
     },
     "metadata": {},
     "output_type": "display_data"
    },
    {
     "data": {
      "text/html": [
       "<pre style=\"white-space:pre;overflow-x:auto;line-height:normal;font-family:Menlo,'DejaVu Sans Mono',consolas,'Courier New',monospace\"><span style=\"color: #7fbfbf; text-decoration-color: #7fbfbf\">           </span><span style=\"color: #000080; text-decoration-color: #000080\">INFO    </span> <span style=\"font-weight: bold\">{</span><span style=\"color: #008000; text-decoration-color: #008000\">'process'</span>: <span style=\"color: #008000; text-decoration-color: #008000\">'NC'</span>, <span style=\"color: #008000; text-decoration-color: #008000\">'projectilePID'</span>: <span style=\"color: #008080; text-decoration-color: #008080; font-weight: bold\">11</span>, <span style=\"color: #008000; text-decoration-color: #008000\">'polarization'</span>: <span style=\"color: #008080; text-decoration-color: #008080; font-weight: bold\">0.0</span>,            <a href=\"file:///Volumes/Git_Workspace/physicstools/NN3PDF/yadism/src/yadism/coefficient_functions/coupling_constants.py\" target=\"_blank\"><span style=\"color: #7f7f7f; text-decoration-color: #7f7f7f\">coupling_constants.py</span></a><span style=\"color: #7f7f7f; text-decoration-color: #7f7f7f\">:</span><a href=\"file:///Volumes/Git_Workspace/physicstools/NN3PDF/yadism/src/yadism/coefficient_functions/coupling_constants.py#54\" target=\"_blank\"><span style=\"color: #7f7f7f; text-decoration-color: #7f7f7f\">54</span></a>\n",
       "<span style=\"color: #7fbfbf; text-decoration-color: #7fbfbf\">           </span>         <span style=\"color: #008000; text-decoration-color: #008000\">'propagatorCorrection'</span>: <span style=\"color: #008080; text-decoration-color: #008080; font-weight: bold\">0.0</span>, <span style=\"color: #008000; text-decoration-color: #008000\">'nc_pos_charge'</span>: <span style=\"color: #800080; text-decoration-color: #800080; font-style: italic\">None</span><span style=\"font-weight: bold\">}</span>                    <span style=\"color: #7f7f7f; text-decoration-color: #7f7f7f\">                        </span>\n",
       "</pre>\n"
      ],
      "text/plain": [
       "\u001b[2;36m          \u001b[0m\u001b[2;36m \u001b[0m\u001b[34mINFO    \u001b[0m \u001b[1m{\u001b[0m\u001b[32m'process'\u001b[0m: \u001b[32m'NC'\u001b[0m, \u001b[32m'projectilePID'\u001b[0m: \u001b[1;36m11\u001b[0m, \u001b[32m'polarization'\u001b[0m: \u001b[1;36m0.0\u001b[0m,            \u001b]8;id=718434;file:///Volumes/Git_Workspace/physicstools/NN3PDF/yadism/src/yadism/coefficient_functions/coupling_constants.py\u001b\\\u001b[2mcoupling_constants.py\u001b[0m\u001b]8;;\u001b\\\u001b[2m:\u001b[0m\u001b]8;id=314592;file:///Volumes/Git_Workspace/physicstools/NN3PDF/yadism/src/yadism/coefficient_functions/coupling_constants.py#54\u001b\\\u001b[2m54\u001b[0m\u001b]8;;\u001b\\\n",
       "\u001b[2;36m           \u001b[0m         \u001b[32m'propagatorCorrection'\u001b[0m: \u001b[1;36m0.0\u001b[0m, \u001b[32m'nc_pos_charge'\u001b[0m: \u001b[3;35mNone\u001b[0m\u001b[1m}\u001b[0m                    \u001b[2m                        \u001b[0m\n"
      ]
     },
     "metadata": {},
     "output_type": "display_data"
    },
    {
     "data": {
      "text/html": [
       "<pre style=\"white-space:pre;overflow-x:auto;line-height:normal;font-family:Menlo,'DejaVu Sans Mono',consolas,'Courier New',monospace\"><span style=\"color: #7fbfbf; text-decoration-color: #7fbfbf\">           </span><span style=\"color: #000080; text-decoration-color: #000080\">INFO    </span> RenScaleVar: <span style=\"color: #00ff00; text-decoration-color: #00ff00; font-style: italic\">True</span>, FactScaleVar: <span style=\"color: #00ff00; text-decoration-color: #00ff00; font-style: italic\">True</span>                                    <a href=\"file:///Volumes/Git_Workspace/physicstools/NN3PDF/yadism/src/yadism/esf/scale_variations.py\" target=\"_blank\"><span style=\"color: #7f7f7f; text-decoration-color: #7f7f7f\">scale_variations.py</span></a><span style=\"color: #7f7f7f; text-decoration-color: #7f7f7f\">:</span><a href=\"file:///Volumes/Git_Workspace/physicstools/NN3PDF/yadism/src/yadism/esf/scale_variations.py#62\" target=\"_blank\"><span style=\"color: #7f7f7f; text-decoration-color: #7f7f7f\">62</span></a>\n",
       "</pre>\n"
      ],
      "text/plain": [
       "\u001b[2;36m          \u001b[0m\u001b[2;36m \u001b[0m\u001b[34mINFO    \u001b[0m RenScaleVar: \u001b[3;92mTrue\u001b[0m, FactScaleVar: \u001b[3;92mTrue\u001b[0m                                    \u001b]8;id=893716;file:///Volumes/Git_Workspace/physicstools/NN3PDF/yadism/src/yadism/esf/scale_variations.py\u001b\\\u001b[2mscale_variations.py\u001b[0m\u001b]8;;\u001b\\\u001b[2m:\u001b[0m\u001b]8;id=78787;file:///Volumes/Git_Workspace/physicstools/NN3PDF/yadism/src/yadism/esf/scale_variations.py#62\u001b\\\u001b[2m62\u001b[0m\u001b]8;;\u001b\\\n"
      ]
     },
     "metadata": {},
     "output_type": "display_data"
    },
    {
     "data": {
      "text/html": [
       "<pre style=\"white-space:pre;overflow-x:auto;line-height:normal;font-family:Menlo,'DejaVu Sans Mono',consolas,'Courier New',monospace\"><span style=\"color: #7fbfbf; text-decoration-color: #7fbfbf\">           </span><span style=\"color: #000080; text-decoration-color: #000080\">INFO    </span> Atlas <span style=\"font-weight: bold\">[</span><span style=\"color: #008080; text-decoration-color: #008080; font-weight: bold\">0.00e+00</span> - inf - inf - inf - inf<span style=\"font-weight: bold\">]</span>, <span style=\"color: #808000; text-decoration-color: #808000\">ref</span>=<span style=\"color: #008080; text-decoration-color: #008080; font-weight: bold\">2.7224999999999997</span> @ <span style=\"color: #008080; text-decoration-color: #008080; font-weight: bold\">4</span>            <a href=\"file:///Users/giacomomagni/.conda/envs/yad_dev/lib/python3.10/site-packages/eko/matchings.py\" target=\"_blank\"><span style=\"color: #7f7f7f; text-decoration-color: #7f7f7f\">matchings.py</span></a><span style=\"color: #7f7f7f; text-decoration-color: #7f7f7f\">:</span><a href=\"file:///Users/giacomomagni/.conda/envs/yad_dev/lib/python3.10/site-packages/eko/matchings.py#72\" target=\"_blank\"><span style=\"color: #7f7f7f; text-decoration-color: #7f7f7f\">72</span></a>\n",
       "</pre>\n"
      ],
      "text/plain": [
       "\u001b[2;36m          \u001b[0m\u001b[2;36m \u001b[0m\u001b[34mINFO    \u001b[0m Atlas \u001b[1m[\u001b[0m\u001b[1;36m0.00e+00\u001b[0m - inf - inf - inf - inf\u001b[1m]\u001b[0m, \u001b[33mref\u001b[0m=\u001b[1;36m2\u001b[0m\u001b[1;36m.7224999999999997\u001b[0m @ \u001b[1;36m4\u001b[0m            \u001b]8;id=890248;file:///Users/giacomomagni/.conda/envs/yad_dev/lib/python3.10/site-packages/eko/matchings.py\u001b\\\u001b[2mmatchings.py\u001b[0m\u001b]8;;\u001b\\\u001b[2m:\u001b[0m\u001b]8;id=62628;file:///Users/giacomomagni/.conda/envs/yad_dev/lib/python3.10/site-packages/eko/matchings.py#72\u001b\\\u001b[2m72\u001b[0m\u001b]8;;\u001b\\\n"
      ]
     },
     "metadata": {},
     "output_type": "display_data"
    },
    {
     "data": {
      "text/html": [
       "<pre style=\"white-space:pre;overflow-x:auto;line-height:normal;font-family:Menlo,'DejaVu Sans Mono',consolas,'Courier New',monospace\"><span style=\"color: #7fbfbf; text-decoration-color: #7fbfbf\">           </span><span style=\"color: #000080; text-decoration-color: #000080\">INFO    </span> PTO: <span style=\"color: #008080; text-decoration-color: #008080; font-weight: bold\">1</span>, PTO@evolution: <span style=\"color: #008080; text-decoration-color: #008080; font-weight: bold\">1</span>, process: NC                                             <a href=\"file:///Volumes/Git_Workspace/physicstools/NN3PDF/yadism/src/yadism/runner.py\" target=\"_blank\"><span style=\"color: #7f7f7f; text-decoration-color: #7f7f7f\">runner.py</span></a><span style=\"color: #7f7f7f; text-decoration-color: #7f7f7f\">:</span><a href=\"file:///Volumes/Git_Workspace/physicstools/NN3PDF/yadism/src/yadism/runner.py#142\" target=\"_blank\"><span style=\"color: #7f7f7f; text-decoration-color: #7f7f7f\">142</span></a>\n",
       "</pre>\n"
      ],
      "text/plain": [
       "\u001b[2;36m          \u001b[0m\u001b[2;36m \u001b[0m\u001b[34mINFO    \u001b[0m PTO: \u001b[1;36m1\u001b[0m, PTO@evolution: \u001b[1;36m1\u001b[0m, process: NC                                             \u001b]8;id=676486;file:///Volumes/Git_Workspace/physicstools/NN3PDF/yadism/src/yadism/runner.py\u001b\\\u001b[2mrunner.py\u001b[0m\u001b]8;;\u001b\\\u001b[2m:\u001b[0m\u001b]8;id=725612;file:///Volumes/Git_Workspace/physicstools/NN3PDF/yadism/src/yadism/runner.py#142\u001b\\\u001b[2m142\u001b[0m\u001b]8;;\u001b\\\n"
      ]
     },
     "metadata": {},
     "output_type": "display_data"
    },
    {
     "data": {
      "text/html": [
       "<pre style=\"white-space:pre;overflow-x:auto;line-height:normal;font-family:Menlo,'DejaVu Sans Mono',consolas,'Courier New',monospace\"><span style=\"color: #7fbfbf; text-decoration-color: #7fbfbf\">           </span><span style=\"color: #000080; text-decoration-color: #000080\">INFO    </span> FNS: FONLL-FFNS, NfFF: <span style=\"color: #008080; text-decoration-color: #008080; font-weight: bold\">3</span>                                                          <a href=\"file:///Volumes/Git_Workspace/physicstools/NN3PDF/yadism/src/yadism/runner.py\" target=\"_blank\"><span style=\"color: #7f7f7f; text-decoration-color: #7f7f7f\">runner.py</span></a><span style=\"color: #7f7f7f; text-decoration-color: #7f7f7f\">:</span><a href=\"file:///Volumes/Git_Workspace/physicstools/NN3PDF/yadism/src/yadism/runner.py#149\" target=\"_blank\"><span style=\"color: #7f7f7f; text-decoration-color: #7f7f7f\">149</span></a>\n",
       "</pre>\n"
      ],
      "text/plain": [
       "\u001b[2;36m          \u001b[0m\u001b[2;36m \u001b[0m\u001b[34mINFO    \u001b[0m FNS: FONLL-FFNS, NfFF: \u001b[1;36m3\u001b[0m                                                          \u001b]8;id=998113;file:///Volumes/Git_Workspace/physicstools/NN3PDF/yadism/src/yadism/runner.py\u001b\\\u001b[2mrunner.py\u001b[0m\u001b]8;;\u001b\\\u001b[2m:\u001b[0m\u001b]8;id=610467;file:///Volumes/Git_Workspace/physicstools/NN3PDF/yadism/src/yadism/runner.py#149\u001b\\\u001b[2m149\u001b[0m\u001b]8;;\u001b\\\n"
      ]
     },
     "metadata": {},
     "output_type": "display_data"
    },
    {
     "data": {
      "text/html": [
       "<pre style=\"white-space:pre;overflow-x:auto;line-height:normal;font-family:Menlo,'DejaVu Sans Mono',consolas,'Courier New',monospace\"><span style=\"color: #7fbfbf; text-decoration-color: #7fbfbf\">           </span><span style=\"color: #000080; text-decoration-color: #000080\">INFO    </span> projectile: electron, target: <span style=\"font-weight: bold\">{</span>Z: <span style=\"color: #008080; text-decoration-color: #008080; font-weight: bold\">1</span>, A: <span style=\"color: #008080; text-decoration-color: #008080; font-weight: bold\">1</span><span style=\"font-weight: bold\">}</span>                                        <a href=\"file:///Volumes/Git_Workspace/physicstools/NN3PDF/yadism/src/yadism/runner.py\" target=\"_blank\"><span style=\"color: #7f7f7f; text-decoration-color: #7f7f7f\">runner.py</span></a><span style=\"color: #7f7f7f; text-decoration-color: #7f7f7f\">:</span><a href=\"file:///Volumes/Git_Workspace/physicstools/NN3PDF/yadism/src/yadism/runner.py#150\" target=\"_blank\"><span style=\"color: #7f7f7f; text-decoration-color: #7f7f7f\">150</span></a>\n",
       "</pre>\n"
      ],
      "text/plain": [
       "\u001b[2;36m          \u001b[0m\u001b[2;36m \u001b[0m\u001b[34mINFO    \u001b[0m projectile: electron, target: \u001b[1m{\u001b[0mZ: \u001b[1;36m1\u001b[0m, A: \u001b[1;36m1\u001b[0m\u001b[1m}\u001b[0m                                        \u001b]8;id=591507;file:///Volumes/Git_Workspace/physicstools/NN3PDF/yadism/src/yadism/runner.py\u001b\\\u001b[2mrunner.py\u001b[0m\u001b]8;;\u001b\\\u001b[2m:\u001b[0m\u001b]8;id=708967;file:///Volumes/Git_Workspace/physicstools/NN3PDF/yadism/src/yadism/runner.py#150\u001b\\\u001b[2m150\u001b[0m\u001b]8;;\u001b\\\n"
      ]
     },
     "metadata": {},
     "output_type": "display_data"
    },
    {
     "data": {
      "text/html": [
       "<pre style=\"white-space:pre;overflow-x:auto;line-height:normal;font-family:Menlo,'DejaVu Sans Mono',consolas,'Courier New',monospace\">                                      <span style=\"color: #800080; text-decoration-color: #800080\">┌────────────────────────────────────┐</span>                                       \n",
       "                                      <span style=\"color: #800080; text-decoration-color: #800080\">│                                    │</span>                                       \n",
       "                                      <span style=\"color: #800080; text-decoration-color: #800080\">│ __     __       _ _                │</span>                                       \n",
       "                                      <span style=\"color: #800080; text-decoration-color: #800080\">│ \\ \\   / /      | (_)               │</span>                                       \n",
       "                                      <span style=\"color: #800080; text-decoration-color: #800080\">│  \\ \\_/ /_ _  __| |_ ___ _ __ ___   │</span>                                       \n",
       "                                      <span style=\"color: #800080; text-decoration-color: #800080\">│   \\   / _` |/ _` | / __| '_ ` _ \\  │</span>                                       \n",
       "                                      <span style=\"color: #800080; text-decoration-color: #800080\">│    | | (_| | (_| | \\__ \\ | | | | | │</span>                                       \n",
       "                                      <span style=\"color: #800080; text-decoration-color: #800080\">│    |_|\\__,_|\\__,_|_|___/_| |_| |_| │</span>                                       \n",
       "                                      <span style=\"color: #800080; text-decoration-color: #800080\">│                                    │</span>                                       \n",
       "                                      <span style=\"color: #800080; text-decoration-color: #800080\">└────────────────────────────────────┘</span>                                       \n",
       "</pre>\n"
      ],
      "text/plain": [
       "                                      \u001b[35m┌────────────────────────────────────┐\u001b[0m                                       \n",
       "                                      \u001b[35m│\u001b[0m\u001b[35m                                    \u001b[0m\u001b[35m│\u001b[0m                                       \n",
       "                                      \u001b[35m│\u001b[0m\u001b[35m \u001b[0m\u001b[35m__     __       _ _\u001b[0m\u001b[35m               \u001b[0m\u001b[35m \u001b[0m\u001b[35m│\u001b[0m                                       \n",
       "                                      \u001b[35m│\u001b[0m\u001b[35m \u001b[0m\u001b[35m\\ \\   / /      | (_)\u001b[0m\u001b[35m              \u001b[0m\u001b[35m \u001b[0m\u001b[35m│\u001b[0m                                       \n",
       "                                      \u001b[35m│\u001b[0m\u001b[35m \u001b[0m\u001b[35m \\ \\_/ /_ _  __| |_ ___ _ __ ___\u001b[0m\u001b[35m  \u001b[0m\u001b[35m \u001b[0m\u001b[35m│\u001b[0m                                       \n",
       "                                      \u001b[35m│\u001b[0m\u001b[35m \u001b[0m\u001b[35m  \\   / _` |/ _` | / __| '_ ` _ \\\u001b[0m\u001b[35m \u001b[0m\u001b[35m \u001b[0m\u001b[35m│\u001b[0m                                       \n",
       "                                      \u001b[35m│\u001b[0m\u001b[35m \u001b[0m\u001b[35m   | | (_| | (_| | \\__ \\ | | | | |\u001b[0m\u001b[35m \u001b[0m\u001b[35m│\u001b[0m                                       \n",
       "                                      \u001b[35m│\u001b[0m\u001b[35m \u001b[0m\u001b[35m   |_|\\__,_|\\__,_|_|___/_| |_| |_|\u001b[0m\u001b[35m \u001b[0m\u001b[35m│\u001b[0m                                       \n",
       "                                      \u001b[35m│\u001b[0m\u001b[35m                                    \u001b[0m\u001b[35m│\u001b[0m                                       \n",
       "                                      \u001b[35m└────────────────────────────────────┘\u001b[0m                                       \n"
      ]
     },
     "metadata": {},
     "output_type": "display_data"
    },
    {
     "data": {
      "text/html": [
       "<pre style=\"white-space:pre;overflow-x:auto;line-height:normal;font-family:Menlo,'DejaVu Sans Mono',consolas,'Courier New',monospace\">\n",
       "                                                       <span style=\"font-weight: bold; text-decoration: underline\">Plan</span>                                                        \n",
       "</pre>\n"
      ],
      "text/plain": [
       "\n",
       "                                                       \u001b[1;4mPlan\u001b[0m                                                        \n"
      ]
     },
     "metadata": {},
     "output_type": "display_data"
    },
    {
     "data": {
      "text/html": [
       "<pre style=\"white-space:pre;overflow-x:auto;line-height:normal;font-family:Menlo,'DejaVu Sans Mono',consolas,'Courier New',monospace\">\n",
       "<span style=\"color: #808000; text-decoration-color: #808000; font-weight: bold\"> • </span>F2_charm at 2 pts                                                                                               \n",
       "</pre>\n"
      ],
      "text/plain": [
       "\n",
       "\u001b[1;33m • \u001b[0mF2_charm at 2 pts                                                                                               \n"
      ]
     },
     "metadata": {},
     "output_type": "display_data"
    },
    {
     "data": {
      "text/html": [
       "<pre style=\"white-space:pre;overflow-x:auto;line-height:normal;font-family:Menlo,'DejaVu Sans Mono',consolas,'Courier New',monospace\">\n",
       "                                                    <span style=\"font-weight: bold; text-decoration: underline\">Calculation</span>                                                    \n",
       "</pre>\n"
      ],
      "text/plain": [
       "\n",
       "                                                    \u001b[1;4mCalculation\u001b[0m                                                    \n"
      ]
     },
     "metadata": {},
     "output_type": "display_data"
    },
    {
     "data": {
      "text/html": [
       "<pre style=\"white-space:pre;overflow-x:auto;line-height:normal;font-family:Menlo,'DejaVu Sans Mono',consolas,'Courier New',monospace\">yadism took off! please stay tuned <span style=\"color: #808000; text-decoration-color: #808000\">...</span>\n",
       "</pre>\n"
      ],
      "text/plain": [
       "yadism took off! please stay tuned \u001b[33m...\u001b[0m\n"
      ]
     },
     "metadata": {},
     "output_type": "display_data"
    },
    {
     "data": {
      "text/html": [
       "<pre style=\"white-space:pre;overflow-x:auto;line-height:normal;font-family:Menlo,'DejaVu Sans Mono',consolas,'Courier New',monospace\"></pre>\n"
      ],
      "text/plain": [
       "\u001b[?25l"
      ]
     },
     "metadata": {},
     "output_type": "display_data"
    },
    {
     "data": {
      "application/vnd.jupyter.widget-view+json": {
       "model_id": "9b6564266b8b4c7ca69fc1bb4c301926",
       "version_major": 2,
       "version_minor": 0
      },
      "text/plain": [
       "Output()"
      ]
     },
     "metadata": {},
     "output_type": "display_data"
    },
    {
     "data": {
      "text/html": [
       "<pre style=\"white-space:pre;overflow-x:auto;line-height:normal;font-family:Menlo,'DejaVu Sans Mono',consolas,'Courier New',monospace\"><span style=\"color: #7fbfbf; text-decoration-color: #7fbfbf\">[14:08:27] </span><span style=\"color: #000080; text-decoration-color: #000080\">INFO    </span> computing P_qq_0 - took: <span style=\"color: #008080; text-decoration-color: #008080; font-weight: bold\">0.032835</span> s                                      <a href=\"file:///Volumes/Git_Workspace/physicstools/NN3PDF/yadism/src/yadism/esf/scale_variations.py\" target=\"_blank\"><span style=\"color: #7f7f7f; text-decoration-color: #7f7f7f\">scale_variations.py</span></a><span style=\"color: #7f7f7f; text-decoration-color: #7f7f7f\">:</span><a href=\"file:///Volumes/Git_Workspace/physicstools/NN3PDF/yadism/src/yadism/esf/scale_variations.py#85\" target=\"_blank\"><span style=\"color: #7f7f7f; text-decoration-color: #7f7f7f\">85</span></a>\n",
       "Starting... <span style=\"color: #3a3a3a; text-decoration-color: #3a3a3a\">━━━━━━━━━━━━━━━━━━━━━━━━━━━━━━━━━━━━━━━━</span> <span style=\"color: #800080; text-decoration-color: #800080\">  0%</span> <span style=\"color: #008080; text-decoration-color: #008080\">-:--:--</span></pre>\n"
      ],
      "text/plain": [
       "\r\u001b[2K\u001b[2;36m[14:08:27]\u001b[0m\u001b[2;36m \u001b[0m\u001b[34mINFO    \u001b[0m computing P_qq_0 - took: \u001b[1;36m0.032835\u001b[0m s                                      \u001b]8;id=763257;file:///Volumes/Git_Workspace/physicstools/NN3PDF/yadism/src/yadism/esf/scale_variations.py\u001b\\\u001b[2mscale_variations.py\u001b[0m\u001b]8;;\u001b\\\u001b[2m:\u001b[0m\u001b]8;id=367851;file:///Volumes/Git_Workspace/physicstools/NN3PDF/yadism/src/yadism/esf/scale_variations.py#85\u001b\\\u001b[2m85\u001b[0m\u001b]8;;\u001b\\\n",
       "Starting... \u001b[38;5;237m━━━━━━━━━━━━━━━━━━━━━━━━━━━━━━━━━━━━━━━━\u001b[0m \u001b[35m  0%\u001b[0m \u001b[36m-:--:--\u001b[0m"
      ]
     },
     "metadata": {},
     "output_type": "display_data"
    },
    {
     "data": {
      "text/html": [
       "<pre style=\"white-space:pre;overflow-x:auto;line-height:normal;font-family:Menlo,'DejaVu Sans Mono',consolas,'Courier New',monospace\"><span style=\"color: #7fbfbf; text-decoration-color: #7fbfbf\">           </span><span style=\"color: #000080; text-decoration-color: #000080\">INFO    </span> computing P_qg_0 - took: <span style=\"color: #008080; text-decoration-color: #008080; font-weight: bold\">0.021740</span> s                                      <a href=\"file:///Volumes/Git_Workspace/physicstools/NN3PDF/yadism/src/yadism/esf/scale_variations.py\" target=\"_blank\"><span style=\"color: #7f7f7f; text-decoration-color: #7f7f7f\">scale_variations.py</span></a><span style=\"color: #7f7f7f; text-decoration-color: #7f7f7f\">:</span><a href=\"file:///Volumes/Git_Workspace/physicstools/NN3PDF/yadism/src/yadism/esf/scale_variations.py#85\" target=\"_blank\"><span style=\"color: #7f7f7f; text-decoration-color: #7f7f7f\">85</span></a>\n",
       "Starting... <span style=\"color: #3a3a3a; text-decoration-color: #3a3a3a\">━━━━━━━━━━━━━━━━━━━━━━━━━━━━━━━━━━━━━━━━</span> <span style=\"color: #800080; text-decoration-color: #800080\">  0%</span> <span style=\"color: #008080; text-decoration-color: #008080\">-:--:--</span></pre>\n"
      ],
      "text/plain": [
       "\r\u001b[2K\u001b[2;36m          \u001b[0m\u001b[2;36m \u001b[0m\u001b[34mINFO    \u001b[0m computing P_qg_0 - took: \u001b[1;36m0.021740\u001b[0m s                                      \u001b]8;id=343837;file:///Volumes/Git_Workspace/physicstools/NN3PDF/yadism/src/yadism/esf/scale_variations.py\u001b\\\u001b[2mscale_variations.py\u001b[0m\u001b]8;;\u001b\\\u001b[2m:\u001b[0m\u001b]8;id=605227;file:///Volumes/Git_Workspace/physicstools/NN3PDF/yadism/src/yadism/esf/scale_variations.py#85\u001b\\\u001b[2m85\u001b[0m\u001b]8;;\u001b\\\n",
       "Starting... \u001b[38;5;237m━━━━━━━━━━━━━━━━━━━━━━━━━━━━━━━━━━━━━━━━\u001b[0m \u001b[35m  0%\u001b[0m \u001b[36m-:--:--\u001b[0m"
      ]
     },
     "metadata": {},
     "output_type": "display_data"
    },
    {
     "data": {
      "text/html": [
       "<pre style=\"white-space:pre;overflow-x:auto;line-height:normal;font-family:Menlo,'DejaVu Sans Mono',consolas,'Courier New',monospace\">\n",
       "</pre>\n"
      ],
      "text/plain": [
       "\n",
       "\u001b[?25h\r\u001b[1A\u001b[2K"
      ]
     },
     "metadata": {},
     "output_type": "display_data"
    },
    {
     "data": {
      "text/html": [
       "<pre style=\"white-space:pre;overflow-x:auto;line-height:normal;font-family:Menlo,'DejaVu Sans Mono',consolas,'Courier New',monospace\"><span style=\"color: #008080; text-decoration-color: #008080\">took </span><span style=\"color: #008080; text-decoration-color: #008080; font-weight: bold\">0.99</span><span style=\"color: #008080; text-decoration-color: #008080\"> s</span>\n",
       "</pre>\n"
      ],
      "text/plain": [
       "\u001b[36mtook \u001b[0m\u001b[1;36m0.99\u001b[0m\u001b[36m s\u001b[0m\n"
      ]
     },
     "metadata": {},
     "output_type": "display_data"
    },
    {
     "data": {
      "text/html": [
       "<pre style=\"white-space:pre;overflow-x:auto;line-height:normal;font-family:Menlo,'DejaVu Sans Mono',consolas,'Courier New',monospace\"><span style=\"color: #7fbfbf; text-decoration-color: #7fbfbf\">[14:08:28] </span><span style=\"color: #000080; text-decoration-color: #000080\">INFO    </span> Atlas <span style=\"font-weight: bold\">[</span><span style=\"color: #008080; text-decoration-color: #008080; font-weight: bold\">0.00e+00</span> - <span style=\"color: #008080; text-decoration-color: #008080; font-weight: bold\">2.28e+00</span> - <span style=\"color: #008080; text-decoration-color: #008080; font-weight: bold\">2.42e+01</span> - <span style=\"color: #008080; text-decoration-color: #008080; font-weight: bold\">2.98e+04</span> - inf<span style=\"font-weight: bold\">]</span>, <span style=\"color: #808000; text-decoration-color: #808000\">ref</span>=<span style=\"color: #008080; text-decoration-color: #008080; font-weight: bold\">8317.44</span> @ <span style=\"color: #008080; text-decoration-color: #008080; font-weight: bold\">5</span>        <a href=\"file:///Users/giacomomagni/.conda/envs/yad_dev/lib/python3.10/site-packages/eko/matchings.py\" target=\"_blank\"><span style=\"color: #7f7f7f; text-decoration-color: #7f7f7f\">matchings.py</span></a><span style=\"color: #7f7f7f; text-decoration-color: #7f7f7f\">:</span><a href=\"file:///Users/giacomomagni/.conda/envs/yad_dev/lib/python3.10/site-packages/eko/matchings.py#72\" target=\"_blank\"><span style=\"color: #7f7f7f; text-decoration-color: #7f7f7f\">72</span></a>\n",
       "</pre>\n"
      ],
      "text/plain": [
       "\u001b[2;36m[14:08:28]\u001b[0m\u001b[2;36m \u001b[0m\u001b[34mINFO    \u001b[0m Atlas \u001b[1m[\u001b[0m\u001b[1;36m0.00e+00\u001b[0m - \u001b[1;36m2.28e+00\u001b[0m - \u001b[1;36m2.42e+01\u001b[0m - \u001b[1;36m2.98e+04\u001b[0m - inf\u001b[1m]\u001b[0m, \u001b[33mref\u001b[0m=\u001b[1;36m8317\u001b[0m\u001b[1;36m.44\u001b[0m @ \u001b[1;36m5\u001b[0m        \u001b]8;id=162476;file:///Users/giacomomagni/.conda/envs/yad_dev/lib/python3.10/site-packages/eko/matchings.py\u001b\\\u001b[2mmatchings.py\u001b[0m\u001b]8;;\u001b\\\u001b[2m:\u001b[0m\u001b]8;id=738315;file:///Users/giacomomagni/.conda/envs/yad_dev/lib/python3.10/site-packages/eko/matchings.py#72\u001b\\\u001b[2m72\u001b[0m\u001b]8;;\u001b\\\n"
      ]
     },
     "metadata": {},
     "output_type": "display_data"
    },
    {
     "data": {
      "text/html": [
       "<pre style=\"white-space:pre;overflow-x:auto;line-height:normal;font-family:Menlo,'DejaVu Sans Mono',consolas,'Courier New',monospace\"><span style=\"color: #7fbfbf; text-decoration-color: #7fbfbf\">           </span><span style=\"color: #000080; text-decoration-color: #000080\">INFO    </span> Strong Coupling: <span style=\"color: #800080; text-decoration-color: #800080; font-weight: bold\">a_s</span><span style=\"font-weight: bold\">(</span>µ_R^<span style=\"color: #008080; text-decoration-color: #008080; font-weight: bold\">2</span>=<span style=\"color: #008080; text-decoration-color: #008080; font-weight: bold\">8317.440000</span><span style=\"font-weight: bold\">)</span>^<span style=\"font-weight: bold\">(</span><span style=\"color: #808000; text-decoration-color: #808000\">nf</span>=<span style=\"color: #008080; text-decoration-color: #008080; font-weight: bold\">5</span><span style=\"font-weight: bold\">)</span>=<span style=\"color: #008080; text-decoration-color: #008080; font-weight: bold\">0.009390</span>=<span style=\"color: #008080; text-decoration-color: #008080; font-weight: bold\">0.118000</span>/<span style=\"font-weight: bold\">(</span>4π<span style=\"font-weight: bold\">)</span>          <a href=\"file:///Users/giacomomagni/.conda/envs/yad_dev/lib/python3.10/site-packages/eko/couplings.py\" target=\"_blank\"><span style=\"color: #7f7f7f; text-decoration-color: #7f7f7f\">couplings.py</span></a><span style=\"color: #7f7f7f; text-decoration-color: #7f7f7f\">:</span><a href=\"file:///Users/giacomomagni/.conda/envs/yad_dev/lib/python3.10/site-packages/eko/couplings.py#464\" target=\"_blank\"><span style=\"color: #7f7f7f; text-decoration-color: #7f7f7f\">464</span></a>\n",
       "</pre>\n"
      ],
      "text/plain": [
       "\u001b[2;36m          \u001b[0m\u001b[2;36m \u001b[0m\u001b[34mINFO    \u001b[0m Strong Coupling: \u001b[1;35ma_s\u001b[0m\u001b[1m(\u001b[0mµ_R^\u001b[1;36m2\u001b[0m=\u001b[1;36m8317\u001b[0m\u001b[1;36m.440000\u001b[0m\u001b[1m)\u001b[0m^\u001b[1m(\u001b[0m\u001b[33mnf\u001b[0m=\u001b[1;36m5\u001b[0m\u001b[1m)\u001b[0m=\u001b[1;36m0.\u001b[0m\u001b[1;36m009390\u001b[0m=\u001b[1;36m0\u001b[0m\u001b[1;36m.118000\u001b[0m/\u001b[1m(\u001b[0m4π\u001b[1m)\u001b[0m          \u001b]8;id=911093;file:///Users/giacomomagni/.conda/envs/yad_dev/lib/python3.10/site-packages/eko/couplings.py\u001b\\\u001b[2mcouplings.py\u001b[0m\u001b]8;;\u001b\\\u001b[2m:\u001b[0m\u001b]8;id=501906;file:///Users/giacomomagni/.conda/envs/yad_dev/lib/python3.10/site-packages/eko/couplings.py#464\u001b\\\u001b[2m464\u001b[0m\u001b]8;;\u001b\\\n"
      ]
     },
     "metadata": {},
     "output_type": "display_data"
    },
    {
     "data": {
      "text/html": [
       "<pre style=\"white-space:pre;overflow-x:auto;line-height:normal;font-family:Menlo,'DejaVu Sans Mono',consolas,'Courier New',monospace\"><span style=\"color: #7fbfbf; text-decoration-color: #7fbfbf\">           </span><span style=\"color: #000080; text-decoration-color: #000080\">INFO    </span> Atlas <span style=\"font-weight: bold\">[</span><span style=\"color: #008080; text-decoration-color: #008080; font-weight: bold\">0.00e+00</span> - <span style=\"color: #008080; text-decoration-color: #008080; font-weight: bold\">2.28e+00</span> - <span style=\"color: #008080; text-decoration-color: #008080; font-weight: bold\">2.42e+01</span> - <span style=\"color: #008080; text-decoration-color: #008080; font-weight: bold\">2.98e+04</span> - inf<span style=\"font-weight: bold\">]</span>, <span style=\"color: #808000; text-decoration-color: #808000\">ref</span>=<span style=\"color: #008080; text-decoration-color: #008080; font-weight: bold\">8317.44</span> @ <span style=\"color: #008080; text-decoration-color: #008080; font-weight: bold\">5</span>        <a href=\"file:///Users/giacomomagni/.conda/envs/yad_dev/lib/python3.10/site-packages/eko/matchings.py\" target=\"_blank\"><span style=\"color: #7f7f7f; text-decoration-color: #7f7f7f\">matchings.py</span></a><span style=\"color: #7f7f7f; text-decoration-color: #7f7f7f\">:</span><a href=\"file:///Users/giacomomagni/.conda/envs/yad_dev/lib/python3.10/site-packages/eko/matchings.py#72\" target=\"_blank\"><span style=\"color: #7f7f7f; text-decoration-color: #7f7f7f\">72</span></a>\n",
       "</pre>\n"
      ],
      "text/plain": [
       "\u001b[2;36m          \u001b[0m\u001b[2;36m \u001b[0m\u001b[34mINFO    \u001b[0m Atlas \u001b[1m[\u001b[0m\u001b[1;36m0.00e+00\u001b[0m - \u001b[1;36m2.28e+00\u001b[0m - \u001b[1;36m2.42e+01\u001b[0m - \u001b[1;36m2.98e+04\u001b[0m - inf\u001b[1m]\u001b[0m, \u001b[33mref\u001b[0m=\u001b[1;36m8317\u001b[0m\u001b[1;36m.44\u001b[0m @ \u001b[1;36m5\u001b[0m        \u001b]8;id=926334;file:///Users/giacomomagni/.conda/envs/yad_dev/lib/python3.10/site-packages/eko/matchings.py\u001b\\\u001b[2mmatchings.py\u001b[0m\u001b]8;;\u001b\\\u001b[2m:\u001b[0m\u001b]8;id=522099;file:///Users/giacomomagni/.conda/envs/yad_dev/lib/python3.10/site-packages/eko/matchings.py#72\u001b\\\u001b[2m72\u001b[0m\u001b]8;;\u001b\\\n"
      ]
     },
     "metadata": {},
     "output_type": "display_data"
    },
    {
     "data": {
      "text/html": [
       "<pre style=\"white-space:pre;overflow-x:auto;line-height:normal;font-family:Menlo,'DejaVu Sans Mono',consolas,'Courier New',monospace\"><span style=\"color: #7fbfbf; text-decoration-color: #7fbfbf\">           </span><span style=\"color: #000080; text-decoration-color: #000080\">INFO    </span> Interpolation: number of points = <span style=\"color: #008080; text-decoration-color: #008080; font-weight: bold\">8</span>, polynomial degree = <span style=\"color: #008080; text-decoration-color: #008080; font-weight: bold\">4</span>, logarithmic =  <a href=\"file:///Users/giacomomagni/.conda/envs/yad_dev/lib/python3.10/site-packages/eko/interpolation.py\" target=\"_blank\"><span style=\"color: #7f7f7f; text-decoration-color: #7f7f7f\">interpolation.py</span></a><span style=\"color: #7f7f7f; text-decoration-color: #7f7f7f\">:</span><a href=\"file:///Users/giacomomagni/.conda/envs/yad_dev/lib/python3.10/site-packages/eko/interpolation.py#538\" target=\"_blank\"><span style=\"color: #7f7f7f; text-decoration-color: #7f7f7f\">538</span></a>\n",
       "<span style=\"color: #7fbfbf; text-decoration-color: #7fbfbf\">           </span>         <span style=\"color: #00ff00; text-decoration-color: #00ff00; font-style: italic\">True</span>                                                                       <span style=\"color: #7f7f7f; text-decoration-color: #7f7f7f\">                    </span>\n",
       "</pre>\n"
      ],
      "text/plain": [
       "\u001b[2;36m          \u001b[0m\u001b[2;36m \u001b[0m\u001b[34mINFO    \u001b[0m Interpolation: number of points = \u001b[1;36m8\u001b[0m, polynomial degree = \u001b[1;36m4\u001b[0m, logarithmic =  \u001b]8;id=603100;file:///Users/giacomomagni/.conda/envs/yad_dev/lib/python3.10/site-packages/eko/interpolation.py\u001b\\\u001b[2minterpolation.py\u001b[0m\u001b]8;;\u001b\\\u001b[2m:\u001b[0m\u001b]8;id=651514;file:///Users/giacomomagni/.conda/envs/yad_dev/lib/python3.10/site-packages/eko/interpolation.py#538\u001b\\\u001b[2m538\u001b[0m\u001b]8;;\u001b\\\n",
       "\u001b[2;36m           \u001b[0m         \u001b[3;92mTrue\u001b[0m                                                                       \u001b[2m                    \u001b[0m\n"
      ]
     },
     "metadata": {},
     "output_type": "display_data"
    },
    {
     "name": "stdout",
     "output_type": "stream",
     "text": [
      "LHAPDF 6.5.0 loading /Users/giacomomagni/.conda/envs/yad_dev/share/LHAPDF/NNPDF40_evolved_nf3/NNPDF40_evolved_nf3_0000.dat\n",
      "NNPDF40_evolved_nf3 PDF set, member #0, version 1\n"
     ]
    },
    {
     "data": {
      "text/html": [
       "<pre style=\"white-space:pre;overflow-x:auto;line-height:normal;font-family:Menlo,'DejaVu Sans Mono',consolas,'Courier New',monospace\"><span style=\"color: #7fbfbf; text-decoration-color: #7fbfbf\">           </span><span style=\"color: #000080; text-decoration-color: #000080\">INFO    </span> <span style=\"font-weight: bold\">{</span><span style=\"color: #008000; text-decoration-color: #008000\">'MZ2'</span>: <span style=\"color: #008080; text-decoration-color: #008080; font-weight: bold\">8315.178393760001</span>, <span style=\"color: #008000; text-decoration-color: #008000\">'CKM'</span>: <span style=\"color: #800080; text-decoration-color: #800080; font-weight: bold\">CKM</span><span style=\"font-weight: bold\">([[</span><span style=\"color: #008080; text-decoration-color: #008080; font-weight: bold\">9.49221518e-01</span> <span style=\"color: #008080; text-decoration-color: #008080; font-weight: bold\">5.07600900e-02</span>  <a href=\"file:///Volumes/Git_Workspace/physicstools/NN3PDF/yadism/src/yadism/coefficient_functions/coupling_constants.py\" target=\"_blank\"><span style=\"color: #7f7f7f; text-decoration-color: #7f7f7f\">coupling_constants.py</span></a><span style=\"color: #7f7f7f; text-decoration-color: #7f7f7f\">:</span><a href=\"file:///Volumes/Git_Workspace/physicstools/NN3PDF/yadism/src/yadism/coefficient_functions/coupling_constants.py#53\" target=\"_blank\"><span style=\"color: #7f7f7f; text-decoration-color: #7f7f7f\">53</span></a>\n",
       "<span style=\"color: #7fbfbf; text-decoration-color: #7fbfbf\">           </span>         <span style=\"color: #008080; text-decoration-color: #008080; font-weight: bold\">1.20409000e-05</span><span style=\"font-weight: bold\">]</span> <span style=\"font-weight: bold\">[</span><span style=\"color: #008080; text-decoration-color: #008080; font-weight: bold\">5.07150400e-02</span> <span style=\"color: #008080; text-decoration-color: #008080; font-weight: bold\">9.47604903e-01</span> <span style=\"color: #008080; text-decoration-color: #008080; font-weight: bold\">1.68100000e-03</span><span style=\"font-weight: bold\">]</span>         <span style=\"color: #7f7f7f; text-decoration-color: #7f7f7f\">                        </span>\n",
       "<span style=\"color: #7fbfbf; text-decoration-color: #7fbfbf\">           </span>         <span style=\"font-weight: bold\">[</span><span style=\"color: #008080; text-decoration-color: #008080; font-weight: bold\">7.43044000e-05</span> <span style=\"color: #008080; text-decoration-color: #008080; font-weight: bold\">1.62409000e-03</span> <span style=\"color: #008080; text-decoration-color: #008080; font-weight: bold\">9.98304719e-01</span><span style=\"font-weight: bold\">]])</span>, <span style=\"color: #008000; text-decoration-color: #008000\">'sin2theta_weak'</span>:    <span style=\"color: #7f7f7f; text-decoration-color: #7f7f7f\">                        </span>\n",
       "<span style=\"color: #7fbfbf; text-decoration-color: #7fbfbf\">           </span>         <span style=\"color: #008080; text-decoration-color: #008080; font-weight: bold\">0.23121</span>, <span style=\"color: #008000; text-decoration-color: #008000\">'MW2'</span>: <span style=\"color: #008080; text-decoration-color: #008080; font-weight: bold\">6463.838403999999</span><span style=\"font-weight: bold\">}</span>                                     <span style=\"color: #7f7f7f; text-decoration-color: #7f7f7f\">                        </span>\n",
       "</pre>\n"
      ],
      "text/plain": [
       "\u001b[2;36m          \u001b[0m\u001b[2;36m \u001b[0m\u001b[34mINFO    \u001b[0m \u001b[1m{\u001b[0m\u001b[32m'MZ2'\u001b[0m: \u001b[1;36m8315.178393760001\u001b[0m, \u001b[32m'CKM'\u001b[0m: \u001b[1;35mCKM\u001b[0m\u001b[1m(\u001b[0m\u001b[1m[\u001b[0m\u001b[1m[\u001b[0m\u001b[1;36m9.49221518e-01\u001b[0m \u001b[1;36m5.07600900e-02\u001b[0m  \u001b]8;id=917342;file:///Volumes/Git_Workspace/physicstools/NN3PDF/yadism/src/yadism/coefficient_functions/coupling_constants.py\u001b\\\u001b[2mcoupling_constants.py\u001b[0m\u001b]8;;\u001b\\\u001b[2m:\u001b[0m\u001b]8;id=809842;file:///Volumes/Git_Workspace/physicstools/NN3PDF/yadism/src/yadism/coefficient_functions/coupling_constants.py#53\u001b\\\u001b[2m53\u001b[0m\u001b]8;;\u001b\\\n",
       "\u001b[2;36m           \u001b[0m         \u001b[1;36m1.20409000e-05\u001b[0m\u001b[1m]\u001b[0m \u001b[1m[\u001b[0m\u001b[1;36m5.07150400e-02\u001b[0m \u001b[1;36m9.47604903e-01\u001b[0m \u001b[1;36m1.68100000e-03\u001b[0m\u001b[1m]\u001b[0m         \u001b[2m                        \u001b[0m\n",
       "\u001b[2;36m           \u001b[0m         \u001b[1m[\u001b[0m\u001b[1;36m7.43044000e-05\u001b[0m \u001b[1;36m1.62409000e-03\u001b[0m \u001b[1;36m9.98304719e-01\u001b[0m\u001b[1m]\u001b[0m\u001b[1m]\u001b[0m\u001b[1m)\u001b[0m, \u001b[32m'sin2theta_weak'\u001b[0m:    \u001b[2m                        \u001b[0m\n",
       "\u001b[2;36m           \u001b[0m         \u001b[1;36m0.23121\u001b[0m, \u001b[32m'MW2'\u001b[0m: \u001b[1;36m6463.838403999999\u001b[0m\u001b[1m}\u001b[0m                                     \u001b[2m                        \u001b[0m\n"
      ]
     },
     "metadata": {},
     "output_type": "display_data"
    },
    {
     "data": {
      "text/html": [
       "<pre style=\"white-space:pre;overflow-x:auto;line-height:normal;font-family:Menlo,'DejaVu Sans Mono',consolas,'Courier New',monospace\"><span style=\"color: #7fbfbf; text-decoration-color: #7fbfbf\">           </span><span style=\"color: #000080; text-decoration-color: #000080\">INFO    </span> <span style=\"font-weight: bold\">{</span><span style=\"color: #008000; text-decoration-color: #008000\">'process'</span>: <span style=\"color: #008000; text-decoration-color: #008000\">'NC'</span>, <span style=\"color: #008000; text-decoration-color: #008000\">'projectilePID'</span>: <span style=\"color: #008080; text-decoration-color: #008080; font-weight: bold\">11</span>, <span style=\"color: #008000; text-decoration-color: #008000\">'polarization'</span>: <span style=\"color: #008080; text-decoration-color: #008080; font-weight: bold\">0.0</span>,            <a href=\"file:///Volumes/Git_Workspace/physicstools/NN3PDF/yadism/src/yadism/coefficient_functions/coupling_constants.py\" target=\"_blank\"><span style=\"color: #7f7f7f; text-decoration-color: #7f7f7f\">coupling_constants.py</span></a><span style=\"color: #7f7f7f; text-decoration-color: #7f7f7f\">:</span><a href=\"file:///Volumes/Git_Workspace/physicstools/NN3PDF/yadism/src/yadism/coefficient_functions/coupling_constants.py#54\" target=\"_blank\"><span style=\"color: #7f7f7f; text-decoration-color: #7f7f7f\">54</span></a>\n",
       "<span style=\"color: #7fbfbf; text-decoration-color: #7fbfbf\">           </span>         <span style=\"color: #008000; text-decoration-color: #008000\">'propagatorCorrection'</span>: <span style=\"color: #008080; text-decoration-color: #008080; font-weight: bold\">0.0</span>, <span style=\"color: #008000; text-decoration-color: #008000\">'nc_pos_charge'</span>: <span style=\"color: #800080; text-decoration-color: #800080; font-style: italic\">None</span><span style=\"font-weight: bold\">}</span>                    <span style=\"color: #7f7f7f; text-decoration-color: #7f7f7f\">                        </span>\n",
       "</pre>\n"
      ],
      "text/plain": [
       "\u001b[2;36m          \u001b[0m\u001b[2;36m \u001b[0m\u001b[34mINFO    \u001b[0m \u001b[1m{\u001b[0m\u001b[32m'process'\u001b[0m: \u001b[32m'NC'\u001b[0m, \u001b[32m'projectilePID'\u001b[0m: \u001b[1;36m11\u001b[0m, \u001b[32m'polarization'\u001b[0m: \u001b[1;36m0.0\u001b[0m,            \u001b]8;id=382858;file:///Volumes/Git_Workspace/physicstools/NN3PDF/yadism/src/yadism/coefficient_functions/coupling_constants.py\u001b\\\u001b[2mcoupling_constants.py\u001b[0m\u001b]8;;\u001b\\\u001b[2m:\u001b[0m\u001b]8;id=686271;file:///Volumes/Git_Workspace/physicstools/NN3PDF/yadism/src/yadism/coefficient_functions/coupling_constants.py#54\u001b\\\u001b[2m54\u001b[0m\u001b]8;;\u001b\\\n",
       "\u001b[2;36m           \u001b[0m         \u001b[32m'propagatorCorrection'\u001b[0m: \u001b[1;36m0.0\u001b[0m, \u001b[32m'nc_pos_charge'\u001b[0m: \u001b[3;35mNone\u001b[0m\u001b[1m}\u001b[0m                    \u001b[2m                        \u001b[0m\n"
      ]
     },
     "metadata": {},
     "output_type": "display_data"
    },
    {
     "data": {
      "text/html": [
       "<pre style=\"white-space:pre;overflow-x:auto;line-height:normal;font-family:Menlo,'DejaVu Sans Mono',consolas,'Courier New',monospace\"><span style=\"color: #7fbfbf; text-decoration-color: #7fbfbf\">           </span><span style=\"color: #000080; text-decoration-color: #000080\">INFO    </span> RenScaleVar: <span style=\"color: #00ff00; text-decoration-color: #00ff00; font-style: italic\">True</span>, FactScaleVar: <span style=\"color: #00ff00; text-decoration-color: #00ff00; font-style: italic\">True</span>                                    <a href=\"file:///Volumes/Git_Workspace/physicstools/NN3PDF/yadism/src/yadism/esf/scale_variations.py\" target=\"_blank\"><span style=\"color: #7f7f7f; text-decoration-color: #7f7f7f\">scale_variations.py</span></a><span style=\"color: #7f7f7f; text-decoration-color: #7f7f7f\">:</span><a href=\"file:///Volumes/Git_Workspace/physicstools/NN3PDF/yadism/src/yadism/esf/scale_variations.py#62\" target=\"_blank\"><span style=\"color: #7f7f7f; text-decoration-color: #7f7f7f\">62</span></a>\n",
       "</pre>\n"
      ],
      "text/plain": [
       "\u001b[2;36m          \u001b[0m\u001b[2;36m \u001b[0m\u001b[34mINFO    \u001b[0m RenScaleVar: \u001b[3;92mTrue\u001b[0m, FactScaleVar: \u001b[3;92mTrue\u001b[0m                                    \u001b]8;id=887032;file:///Volumes/Git_Workspace/physicstools/NN3PDF/yadism/src/yadism/esf/scale_variations.py\u001b\\\u001b[2mscale_variations.py\u001b[0m\u001b]8;;\u001b\\\u001b[2m:\u001b[0m\u001b]8;id=347368;file:///Volumes/Git_Workspace/physicstools/NN3PDF/yadism/src/yadism/esf/scale_variations.py#62\u001b\\\u001b[2m62\u001b[0m\u001b]8;;\u001b\\\n"
      ]
     },
     "metadata": {},
     "output_type": "display_data"
    },
    {
     "data": {
      "text/html": [
       "<pre style=\"white-space:pre;overflow-x:auto;line-height:normal;font-family:Menlo,'DejaVu Sans Mono',consolas,'Courier New',monospace\"><span style=\"color: #7fbfbf; text-decoration-color: #7fbfbf\">           </span><span style=\"color: #000080; text-decoration-color: #000080\">INFO    </span> Atlas <span style=\"font-weight: bold\">[</span><span style=\"color: #008080; text-decoration-color: #008080; font-weight: bold\">0.00e+00</span> - inf - inf - inf - inf<span style=\"font-weight: bold\">]</span>, <span style=\"color: #808000; text-decoration-color: #808000\">ref</span>=<span style=\"color: #008080; text-decoration-color: #008080; font-weight: bold\">2.7224999999999997</span> @ <span style=\"color: #008080; text-decoration-color: #008080; font-weight: bold\">4</span>            <a href=\"file:///Users/giacomomagni/.conda/envs/yad_dev/lib/python3.10/site-packages/eko/matchings.py\" target=\"_blank\"><span style=\"color: #7f7f7f; text-decoration-color: #7f7f7f\">matchings.py</span></a><span style=\"color: #7f7f7f; text-decoration-color: #7f7f7f\">:</span><a href=\"file:///Users/giacomomagni/.conda/envs/yad_dev/lib/python3.10/site-packages/eko/matchings.py#72\" target=\"_blank\"><span style=\"color: #7f7f7f; text-decoration-color: #7f7f7f\">72</span></a>\n",
       "</pre>\n"
      ],
      "text/plain": [
       "\u001b[2;36m          \u001b[0m\u001b[2;36m \u001b[0m\u001b[34mINFO    \u001b[0m Atlas \u001b[1m[\u001b[0m\u001b[1;36m0.00e+00\u001b[0m - inf - inf - inf - inf\u001b[1m]\u001b[0m, \u001b[33mref\u001b[0m=\u001b[1;36m2\u001b[0m\u001b[1;36m.7224999999999997\u001b[0m @ \u001b[1;36m4\u001b[0m            \u001b]8;id=430172;file:///Users/giacomomagni/.conda/envs/yad_dev/lib/python3.10/site-packages/eko/matchings.py\u001b\\\u001b[2mmatchings.py\u001b[0m\u001b]8;;\u001b\\\u001b[2m:\u001b[0m\u001b]8;id=253818;file:///Users/giacomomagni/.conda/envs/yad_dev/lib/python3.10/site-packages/eko/matchings.py#72\u001b\\\u001b[2m72\u001b[0m\u001b]8;;\u001b\\\n"
      ]
     },
     "metadata": {},
     "output_type": "display_data"
    },
    {
     "data": {
      "text/html": [
       "<pre style=\"white-space:pre;overflow-x:auto;line-height:normal;font-family:Menlo,'DejaVu Sans Mono',consolas,'Courier New',monospace\"><span style=\"color: #7fbfbf; text-decoration-color: #7fbfbf\">           </span><span style=\"color: #000080; text-decoration-color: #000080\">INFO    </span> PTO: <span style=\"color: #008080; text-decoration-color: #008080; font-weight: bold\">1</span>, PTO@evolution: <span style=\"color: #008080; text-decoration-color: #008080; font-weight: bold\">1</span>, process: NC                                             <a href=\"file:///Volumes/Git_Workspace/physicstools/NN3PDF/yadism/src/yadism/runner.py\" target=\"_blank\"><span style=\"color: #7f7f7f; text-decoration-color: #7f7f7f\">runner.py</span></a><span style=\"color: #7f7f7f; text-decoration-color: #7f7f7f\">:</span><a href=\"file:///Volumes/Git_Workspace/physicstools/NN3PDF/yadism/src/yadism/runner.py#142\" target=\"_blank\"><span style=\"color: #7f7f7f; text-decoration-color: #7f7f7f\">142</span></a>\n",
       "</pre>\n"
      ],
      "text/plain": [
       "\u001b[2;36m          \u001b[0m\u001b[2;36m \u001b[0m\u001b[34mINFO    \u001b[0m PTO: \u001b[1;36m1\u001b[0m, PTO@evolution: \u001b[1;36m1\u001b[0m, process: NC                                             \u001b]8;id=611432;file:///Volumes/Git_Workspace/physicstools/NN3PDF/yadism/src/yadism/runner.py\u001b\\\u001b[2mrunner.py\u001b[0m\u001b]8;;\u001b\\\u001b[2m:\u001b[0m\u001b]8;id=654682;file:///Volumes/Git_Workspace/physicstools/NN3PDF/yadism/src/yadism/runner.py#142\u001b\\\u001b[2m142\u001b[0m\u001b]8;;\u001b\\\n"
      ]
     },
     "metadata": {},
     "output_type": "display_data"
    },
    {
     "data": {
      "text/html": [
       "<pre style=\"white-space:pre;overflow-x:auto;line-height:normal;font-family:Menlo,'DejaVu Sans Mono',consolas,'Courier New',monospace\"><span style=\"color: #7fbfbf; text-decoration-color: #7fbfbf\">           </span><span style=\"color: #000080; text-decoration-color: #000080\">INFO    </span> FNS: FONLL-FFN0, NfFF: <span style=\"color: #008080; text-decoration-color: #008080; font-weight: bold\">3</span>                                                          <a href=\"file:///Volumes/Git_Workspace/physicstools/NN3PDF/yadism/src/yadism/runner.py\" target=\"_blank\"><span style=\"color: #7f7f7f; text-decoration-color: #7f7f7f\">runner.py</span></a><span style=\"color: #7f7f7f; text-decoration-color: #7f7f7f\">:</span><a href=\"file:///Volumes/Git_Workspace/physicstools/NN3PDF/yadism/src/yadism/runner.py#149\" target=\"_blank\"><span style=\"color: #7f7f7f; text-decoration-color: #7f7f7f\">149</span></a>\n",
       "</pre>\n"
      ],
      "text/plain": [
       "\u001b[2;36m          \u001b[0m\u001b[2;36m \u001b[0m\u001b[34mINFO    \u001b[0m FNS: FONLL-FFN0, NfFF: \u001b[1;36m3\u001b[0m                                                          \u001b]8;id=230112;file:///Volumes/Git_Workspace/physicstools/NN3PDF/yadism/src/yadism/runner.py\u001b\\\u001b[2mrunner.py\u001b[0m\u001b]8;;\u001b\\\u001b[2m:\u001b[0m\u001b]8;id=697567;file:///Volumes/Git_Workspace/physicstools/NN3PDF/yadism/src/yadism/runner.py#149\u001b\\\u001b[2m149\u001b[0m\u001b]8;;\u001b\\\n"
      ]
     },
     "metadata": {},
     "output_type": "display_data"
    },
    {
     "data": {
      "text/html": [
       "<pre style=\"white-space:pre;overflow-x:auto;line-height:normal;font-family:Menlo,'DejaVu Sans Mono',consolas,'Courier New',monospace\"><span style=\"color: #7fbfbf; text-decoration-color: #7fbfbf\">           </span><span style=\"color: #000080; text-decoration-color: #000080\">INFO    </span> projectile: electron, target: <span style=\"font-weight: bold\">{</span>Z: <span style=\"color: #008080; text-decoration-color: #008080; font-weight: bold\">1</span>, A: <span style=\"color: #008080; text-decoration-color: #008080; font-weight: bold\">1</span><span style=\"font-weight: bold\">}</span>                                        <a href=\"file:///Volumes/Git_Workspace/physicstools/NN3PDF/yadism/src/yadism/runner.py\" target=\"_blank\"><span style=\"color: #7f7f7f; text-decoration-color: #7f7f7f\">runner.py</span></a><span style=\"color: #7f7f7f; text-decoration-color: #7f7f7f\">:</span><a href=\"file:///Volumes/Git_Workspace/physicstools/NN3PDF/yadism/src/yadism/runner.py#150\" target=\"_blank\"><span style=\"color: #7f7f7f; text-decoration-color: #7f7f7f\">150</span></a>\n",
       "</pre>\n"
      ],
      "text/plain": [
       "\u001b[2;36m          \u001b[0m\u001b[2;36m \u001b[0m\u001b[34mINFO    \u001b[0m projectile: electron, target: \u001b[1m{\u001b[0mZ: \u001b[1;36m1\u001b[0m, A: \u001b[1;36m1\u001b[0m\u001b[1m}\u001b[0m                                        \u001b]8;id=61010;file:///Volumes/Git_Workspace/physicstools/NN3PDF/yadism/src/yadism/runner.py\u001b\\\u001b[2mrunner.py\u001b[0m\u001b]8;;\u001b\\\u001b[2m:\u001b[0m\u001b]8;id=164810;file:///Volumes/Git_Workspace/physicstools/NN3PDF/yadism/src/yadism/runner.py#150\u001b\\\u001b[2m150\u001b[0m\u001b]8;;\u001b\\\n"
      ]
     },
     "metadata": {},
     "output_type": "display_data"
    },
    {
     "data": {
      "text/html": [
       "<pre style=\"white-space:pre;overflow-x:auto;line-height:normal;font-family:Menlo,'DejaVu Sans Mono',consolas,'Courier New',monospace\">                                      <span style=\"color: #800080; text-decoration-color: #800080\">┌────────────────────────────────────┐</span>                                       \n",
       "                                      <span style=\"color: #800080; text-decoration-color: #800080\">│                                    │</span>                                       \n",
       "                                      <span style=\"color: #800080; text-decoration-color: #800080\">│ __     __       _ _                │</span>                                       \n",
       "                                      <span style=\"color: #800080; text-decoration-color: #800080\">│ \\ \\   / /      | (_)               │</span>                                       \n",
       "                                      <span style=\"color: #800080; text-decoration-color: #800080\">│  \\ \\_/ /_ _  __| |_ ___ _ __ ___   │</span>                                       \n",
       "                                      <span style=\"color: #800080; text-decoration-color: #800080\">│   \\   / _` |/ _` | / __| '_ ` _ \\  │</span>                                       \n",
       "                                      <span style=\"color: #800080; text-decoration-color: #800080\">│    | | (_| | (_| | \\__ \\ | | | | | │</span>                                       \n",
       "                                      <span style=\"color: #800080; text-decoration-color: #800080\">│    |_|\\__,_|\\__,_|_|___/_| |_| |_| │</span>                                       \n",
       "                                      <span style=\"color: #800080; text-decoration-color: #800080\">│                                    │</span>                                       \n",
       "                                      <span style=\"color: #800080; text-decoration-color: #800080\">└────────────────────────────────────┘</span>                                       \n",
       "</pre>\n"
      ],
      "text/plain": [
       "                                      \u001b[35m┌────────────────────────────────────┐\u001b[0m                                       \n",
       "                                      \u001b[35m│\u001b[0m\u001b[35m                                    \u001b[0m\u001b[35m│\u001b[0m                                       \n",
       "                                      \u001b[35m│\u001b[0m\u001b[35m \u001b[0m\u001b[35m__     __       _ _\u001b[0m\u001b[35m               \u001b[0m\u001b[35m \u001b[0m\u001b[35m│\u001b[0m                                       \n",
       "                                      \u001b[35m│\u001b[0m\u001b[35m \u001b[0m\u001b[35m\\ \\   / /      | (_)\u001b[0m\u001b[35m              \u001b[0m\u001b[35m \u001b[0m\u001b[35m│\u001b[0m                                       \n",
       "                                      \u001b[35m│\u001b[0m\u001b[35m \u001b[0m\u001b[35m \\ \\_/ /_ _  __| |_ ___ _ __ ___\u001b[0m\u001b[35m  \u001b[0m\u001b[35m \u001b[0m\u001b[35m│\u001b[0m                                       \n",
       "                                      \u001b[35m│\u001b[0m\u001b[35m \u001b[0m\u001b[35m  \\   / _` |/ _` | / __| '_ ` _ \\\u001b[0m\u001b[35m \u001b[0m\u001b[35m \u001b[0m\u001b[35m│\u001b[0m                                       \n",
       "                                      \u001b[35m│\u001b[0m\u001b[35m \u001b[0m\u001b[35m   | | (_| | (_| | \\__ \\ | | | | |\u001b[0m\u001b[35m \u001b[0m\u001b[35m│\u001b[0m                                       \n",
       "                                      \u001b[35m│\u001b[0m\u001b[35m \u001b[0m\u001b[35m   |_|\\__,_|\\__,_|_|___/_| |_| |_|\u001b[0m\u001b[35m \u001b[0m\u001b[35m│\u001b[0m                                       \n",
       "                                      \u001b[35m│\u001b[0m\u001b[35m                                    \u001b[0m\u001b[35m│\u001b[0m                                       \n",
       "                                      \u001b[35m└────────────────────────────────────┘\u001b[0m                                       \n"
      ]
     },
     "metadata": {},
     "output_type": "display_data"
    },
    {
     "data": {
      "text/html": [
       "<pre style=\"white-space:pre;overflow-x:auto;line-height:normal;font-family:Menlo,'DejaVu Sans Mono',consolas,'Courier New',monospace\">\n",
       "                                                       <span style=\"font-weight: bold; text-decoration: underline\">Plan</span>                                                        \n",
       "</pre>\n"
      ],
      "text/plain": [
       "\n",
       "                                                       \u001b[1;4mPlan\u001b[0m                                                        \n"
      ]
     },
     "metadata": {},
     "output_type": "display_data"
    },
    {
     "data": {
      "text/html": [
       "<pre style=\"white-space:pre;overflow-x:auto;line-height:normal;font-family:Menlo,'DejaVu Sans Mono',consolas,'Courier New',monospace\">\n",
       "<span style=\"color: #808000; text-decoration-color: #808000; font-weight: bold\"> • </span>F2_charm at 2 pts                                                                                               \n",
       "</pre>\n"
      ],
      "text/plain": [
       "\n",
       "\u001b[1;33m • \u001b[0mF2_charm at 2 pts                                                                                               \n"
      ]
     },
     "metadata": {},
     "output_type": "display_data"
    },
    {
     "data": {
      "text/html": [
       "<pre style=\"white-space:pre;overflow-x:auto;line-height:normal;font-family:Menlo,'DejaVu Sans Mono',consolas,'Courier New',monospace\">\n",
       "                                                    <span style=\"font-weight: bold; text-decoration: underline\">Calculation</span>                                                    \n",
       "</pre>\n"
      ],
      "text/plain": [
       "\n",
       "                                                    \u001b[1;4mCalculation\u001b[0m                                                    \n"
      ]
     },
     "metadata": {},
     "output_type": "display_data"
    },
    {
     "data": {
      "text/html": [
       "<pre style=\"white-space:pre;overflow-x:auto;line-height:normal;font-family:Menlo,'DejaVu Sans Mono',consolas,'Courier New',monospace\">yadism took off! please stay tuned <span style=\"color: #808000; text-decoration-color: #808000\">...</span>\n",
       "</pre>\n"
      ],
      "text/plain": [
       "yadism took off! please stay tuned \u001b[33m...\u001b[0m\n"
      ]
     },
     "metadata": {},
     "output_type": "display_data"
    },
    {
     "data": {
      "text/html": [
       "<pre style=\"white-space:pre;overflow-x:auto;line-height:normal;font-family:Menlo,'DejaVu Sans Mono',consolas,'Courier New',monospace\"></pre>\n"
      ],
      "text/plain": [
       "\u001b[?25l"
      ]
     },
     "metadata": {},
     "output_type": "display_data"
    },
    {
     "data": {
      "application/vnd.jupyter.widget-view+json": {
       "model_id": "f1894d68866d4d1898c364affec470ea",
       "version_major": 2,
       "version_minor": 0
      },
      "text/plain": [
       "Output()"
      ]
     },
     "metadata": {},
     "output_type": "display_data"
    },
    {
     "data": {
      "text/html": [
       "<pre style=\"white-space:pre;overflow-x:auto;line-height:normal;font-family:Menlo,'DejaVu Sans Mono',consolas,'Courier New',monospace\"><span style=\"color: #7fbfbf; text-decoration-color: #7fbfbf\">[14:08:28] </span><span style=\"color: #000080; text-decoration-color: #000080\">INFO    </span> computing P_qq_0 - took: <span style=\"color: #008080; text-decoration-color: #008080; font-weight: bold\">0.028894</span> s                                      <a href=\"file:///Volumes/Git_Workspace/physicstools/NN3PDF/yadism/src/yadism/esf/scale_variations.py\" target=\"_blank\"><span style=\"color: #7f7f7f; text-decoration-color: #7f7f7f\">scale_variations.py</span></a><span style=\"color: #7f7f7f; text-decoration-color: #7f7f7f\">:</span><a href=\"file:///Volumes/Git_Workspace/physicstools/NN3PDF/yadism/src/yadism/esf/scale_variations.py#85\" target=\"_blank\"><span style=\"color: #7f7f7f; text-decoration-color: #7f7f7f\">85</span></a>\n",
       "Starting... <span style=\"color: #3a3a3a; text-decoration-color: #3a3a3a\">━━━━━━━━━━━━━━━━━━━━━━━━━━━━━━━━━━━━━━━━</span> <span style=\"color: #800080; text-decoration-color: #800080\">  0%</span> <span style=\"color: #008080; text-decoration-color: #008080\">-:--:--</span></pre>\n"
      ],
      "text/plain": [
       "\r\u001b[2K\u001b[2;36m[14:08:28]\u001b[0m\u001b[2;36m \u001b[0m\u001b[34mINFO    \u001b[0m computing P_qq_0 - took: \u001b[1;36m0.028894\u001b[0m s                                      \u001b]8;id=628092;file:///Volumes/Git_Workspace/physicstools/NN3PDF/yadism/src/yadism/esf/scale_variations.py\u001b\\\u001b[2mscale_variations.py\u001b[0m\u001b]8;;\u001b\\\u001b[2m:\u001b[0m\u001b]8;id=319494;file:///Volumes/Git_Workspace/physicstools/NN3PDF/yadism/src/yadism/esf/scale_variations.py#85\u001b\\\u001b[2m85\u001b[0m\u001b]8;;\u001b\\\n",
       "Starting... \u001b[38;5;237m━━━━━━━━━━━━━━━━━━━━━━━━━━━━━━━━━━━━━━━━\u001b[0m \u001b[35m  0%\u001b[0m \u001b[36m-:--:--\u001b[0m"
      ]
     },
     "metadata": {},
     "output_type": "display_data"
    },
    {
     "data": {
      "text/html": [
       "<pre style=\"white-space:pre;overflow-x:auto;line-height:normal;font-family:Menlo,'DejaVu Sans Mono',consolas,'Courier New',monospace\"><span style=\"color: #7fbfbf; text-decoration-color: #7fbfbf\">           </span><span style=\"color: #000080; text-decoration-color: #000080\">INFO    </span> computing P_qg_0 - took: <span style=\"color: #008080; text-decoration-color: #008080; font-weight: bold\">0.021672</span> s                                      <a href=\"file:///Volumes/Git_Workspace/physicstools/NN3PDF/yadism/src/yadism/esf/scale_variations.py\" target=\"_blank\"><span style=\"color: #7f7f7f; text-decoration-color: #7f7f7f\">scale_variations.py</span></a><span style=\"color: #7f7f7f; text-decoration-color: #7f7f7f\">:</span><a href=\"file:///Volumes/Git_Workspace/physicstools/NN3PDF/yadism/src/yadism/esf/scale_variations.py#85\" target=\"_blank\"><span style=\"color: #7f7f7f; text-decoration-color: #7f7f7f\">85</span></a>\n",
       "Starting... <span style=\"color: #3a3a3a; text-decoration-color: #3a3a3a\">━━━━━━━━━━━━━━━━━━━━━━━━━━━━━━━━━━━━━━━━</span> <span style=\"color: #800080; text-decoration-color: #800080\">  0%</span> <span style=\"color: #008080; text-decoration-color: #008080\">-:--:--</span></pre>\n"
      ],
      "text/plain": [
       "\r\u001b[2K\u001b[2;36m          \u001b[0m\u001b[2;36m \u001b[0m\u001b[34mINFO    \u001b[0m computing P_qg_0 - took: \u001b[1;36m0.021672\u001b[0m s                                      \u001b]8;id=198655;file:///Volumes/Git_Workspace/physicstools/NN3PDF/yadism/src/yadism/esf/scale_variations.py\u001b\\\u001b[2mscale_variations.py\u001b[0m\u001b]8;;\u001b\\\u001b[2m:\u001b[0m\u001b]8;id=135479;file:///Volumes/Git_Workspace/physicstools/NN3PDF/yadism/src/yadism/esf/scale_variations.py#85\u001b\\\u001b[2m85\u001b[0m\u001b]8;;\u001b\\\n",
       "Starting... \u001b[38;5;237m━━━━━━━━━━━━━━━━━━━━━━━━━━━━━━━━━━━━━━━━\u001b[0m \u001b[35m  0%\u001b[0m \u001b[36m-:--:--\u001b[0m"
      ]
     },
     "metadata": {},
     "output_type": "display_data"
    },
    {
     "data": {
      "text/html": [
       "<pre style=\"white-space:pre;overflow-x:auto;line-height:normal;font-family:Menlo,'DejaVu Sans Mono',consolas,'Courier New',monospace\">\n",
       "</pre>\n"
      ],
      "text/plain": [
       "\n",
       "\u001b[?25h\r\u001b[1A\u001b[2K"
      ]
     },
     "metadata": {},
     "output_type": "display_data"
    },
    {
     "data": {
      "text/html": [
       "<pre style=\"white-space:pre;overflow-x:auto;line-height:normal;font-family:Menlo,'DejaVu Sans Mono',consolas,'Courier New',monospace\"><span style=\"color: #008080; text-decoration-color: #008080\">took </span><span style=\"color: #008080; text-decoration-color: #008080; font-weight: bold\">0.50</span><span style=\"color: #008080; text-decoration-color: #008080\"> s</span>\n",
       "</pre>\n"
      ],
      "text/plain": [
       "\u001b[36mtook \u001b[0m\u001b[1;36m0.50\u001b[0m\u001b[36m s\u001b[0m\n"
      ]
     },
     "metadata": {},
     "output_type": "display_data"
    },
    {
     "data": {
      "text/html": [
       "<pre style=\"white-space:pre;overflow-x:auto;line-height:normal;font-family:Menlo,'DejaVu Sans Mono',consolas,'Courier New',monospace\"><span style=\"color: #7fbfbf; text-decoration-color: #7fbfbf\">[14:08:29] </span><span style=\"color: #000080; text-decoration-color: #000080\">INFO    </span> Atlas <span style=\"font-weight: bold\">[</span><span style=\"color: #008080; text-decoration-color: #008080; font-weight: bold\">0.00e+00</span> - <span style=\"color: #008080; text-decoration-color: #008080; font-weight: bold\">2.28e+00</span> - <span style=\"color: #008080; text-decoration-color: #008080; font-weight: bold\">2.42e+01</span> - <span style=\"color: #008080; text-decoration-color: #008080; font-weight: bold\">2.98e+04</span> - inf<span style=\"font-weight: bold\">]</span>, <span style=\"color: #808000; text-decoration-color: #808000\">ref</span>=<span style=\"color: #008080; text-decoration-color: #008080; font-weight: bold\">8317.44</span> @ <span style=\"color: #008080; text-decoration-color: #008080; font-weight: bold\">5</span>        <a href=\"file:///Users/giacomomagni/.conda/envs/yad_dev/lib/python3.10/site-packages/eko/matchings.py\" target=\"_blank\"><span style=\"color: #7f7f7f; text-decoration-color: #7f7f7f\">matchings.py</span></a><span style=\"color: #7f7f7f; text-decoration-color: #7f7f7f\">:</span><a href=\"file:///Users/giacomomagni/.conda/envs/yad_dev/lib/python3.10/site-packages/eko/matchings.py#72\" target=\"_blank\"><span style=\"color: #7f7f7f; text-decoration-color: #7f7f7f\">72</span></a>\n",
       "</pre>\n"
      ],
      "text/plain": [
       "\u001b[2;36m[14:08:29]\u001b[0m\u001b[2;36m \u001b[0m\u001b[34mINFO    \u001b[0m Atlas \u001b[1m[\u001b[0m\u001b[1;36m0.00e+00\u001b[0m - \u001b[1;36m2.28e+00\u001b[0m - \u001b[1;36m2.42e+01\u001b[0m - \u001b[1;36m2.98e+04\u001b[0m - inf\u001b[1m]\u001b[0m, \u001b[33mref\u001b[0m=\u001b[1;36m8317\u001b[0m\u001b[1;36m.44\u001b[0m @ \u001b[1;36m5\u001b[0m        \u001b]8;id=231734;file:///Users/giacomomagni/.conda/envs/yad_dev/lib/python3.10/site-packages/eko/matchings.py\u001b\\\u001b[2mmatchings.py\u001b[0m\u001b]8;;\u001b\\\u001b[2m:\u001b[0m\u001b]8;id=116680;file:///Users/giacomomagni/.conda/envs/yad_dev/lib/python3.10/site-packages/eko/matchings.py#72\u001b\\\u001b[2m72\u001b[0m\u001b]8;;\u001b\\\n"
      ]
     },
     "metadata": {},
     "output_type": "display_data"
    },
    {
     "data": {
      "text/html": [
       "<pre style=\"white-space:pre;overflow-x:auto;line-height:normal;font-family:Menlo,'DejaVu Sans Mono',consolas,'Courier New',monospace\"><span style=\"color: #7fbfbf; text-decoration-color: #7fbfbf\">           </span><span style=\"color: #000080; text-decoration-color: #000080\">INFO    </span> Strong Coupling: <span style=\"color: #800080; text-decoration-color: #800080; font-weight: bold\">a_s</span><span style=\"font-weight: bold\">(</span>µ_R^<span style=\"color: #008080; text-decoration-color: #008080; font-weight: bold\">2</span>=<span style=\"color: #008080; text-decoration-color: #008080; font-weight: bold\">8317.440000</span><span style=\"font-weight: bold\">)</span>^<span style=\"font-weight: bold\">(</span><span style=\"color: #808000; text-decoration-color: #808000\">nf</span>=<span style=\"color: #008080; text-decoration-color: #008080; font-weight: bold\">5</span><span style=\"font-weight: bold\">)</span>=<span style=\"color: #008080; text-decoration-color: #008080; font-weight: bold\">0.009390</span>=<span style=\"color: #008080; text-decoration-color: #008080; font-weight: bold\">0.118000</span>/<span style=\"font-weight: bold\">(</span>4π<span style=\"font-weight: bold\">)</span>          <a href=\"file:///Users/giacomomagni/.conda/envs/yad_dev/lib/python3.10/site-packages/eko/couplings.py\" target=\"_blank\"><span style=\"color: #7f7f7f; text-decoration-color: #7f7f7f\">couplings.py</span></a><span style=\"color: #7f7f7f; text-decoration-color: #7f7f7f\">:</span><a href=\"file:///Users/giacomomagni/.conda/envs/yad_dev/lib/python3.10/site-packages/eko/couplings.py#464\" target=\"_blank\"><span style=\"color: #7f7f7f; text-decoration-color: #7f7f7f\">464</span></a>\n",
       "</pre>\n"
      ],
      "text/plain": [
       "\u001b[2;36m          \u001b[0m\u001b[2;36m \u001b[0m\u001b[34mINFO    \u001b[0m Strong Coupling: \u001b[1;35ma_s\u001b[0m\u001b[1m(\u001b[0mµ_R^\u001b[1;36m2\u001b[0m=\u001b[1;36m8317\u001b[0m\u001b[1;36m.440000\u001b[0m\u001b[1m)\u001b[0m^\u001b[1m(\u001b[0m\u001b[33mnf\u001b[0m=\u001b[1;36m5\u001b[0m\u001b[1m)\u001b[0m=\u001b[1;36m0.\u001b[0m\u001b[1;36m009390\u001b[0m=\u001b[1;36m0\u001b[0m\u001b[1;36m.118000\u001b[0m/\u001b[1m(\u001b[0m4π\u001b[1m)\u001b[0m          \u001b]8;id=539856;file:///Users/giacomomagni/.conda/envs/yad_dev/lib/python3.10/site-packages/eko/couplings.py\u001b\\\u001b[2mcouplings.py\u001b[0m\u001b]8;;\u001b\\\u001b[2m:\u001b[0m\u001b]8;id=78117;file:///Users/giacomomagni/.conda/envs/yad_dev/lib/python3.10/site-packages/eko/couplings.py#464\u001b\\\u001b[2m464\u001b[0m\u001b]8;;\u001b\\\n"
      ]
     },
     "metadata": {},
     "output_type": "display_data"
    },
    {
     "data": {
      "text/html": [
       "<pre style=\"white-space:pre;overflow-x:auto;line-height:normal;font-family:Menlo,'DejaVu Sans Mono',consolas,'Courier New',monospace\"><span style=\"color: #7fbfbf; text-decoration-color: #7fbfbf\">           </span><span style=\"color: #000080; text-decoration-color: #000080\">INFO    </span> Atlas <span style=\"font-weight: bold\">[</span><span style=\"color: #008080; text-decoration-color: #008080; font-weight: bold\">0.00e+00</span> - <span style=\"color: #008080; text-decoration-color: #008080; font-weight: bold\">2.28e+00</span> - <span style=\"color: #008080; text-decoration-color: #008080; font-weight: bold\">2.42e+01</span> - <span style=\"color: #008080; text-decoration-color: #008080; font-weight: bold\">2.98e+04</span> - inf<span style=\"font-weight: bold\">]</span>, <span style=\"color: #808000; text-decoration-color: #808000\">ref</span>=<span style=\"color: #008080; text-decoration-color: #008080; font-weight: bold\">8317.44</span> @ <span style=\"color: #008080; text-decoration-color: #008080; font-weight: bold\">5</span>        <a href=\"file:///Users/giacomomagni/.conda/envs/yad_dev/lib/python3.10/site-packages/eko/matchings.py\" target=\"_blank\"><span style=\"color: #7f7f7f; text-decoration-color: #7f7f7f\">matchings.py</span></a><span style=\"color: #7f7f7f; text-decoration-color: #7f7f7f\">:</span><a href=\"file:///Users/giacomomagni/.conda/envs/yad_dev/lib/python3.10/site-packages/eko/matchings.py#72\" target=\"_blank\"><span style=\"color: #7f7f7f; text-decoration-color: #7f7f7f\">72</span></a>\n",
       "</pre>\n"
      ],
      "text/plain": [
       "\u001b[2;36m          \u001b[0m\u001b[2;36m \u001b[0m\u001b[34mINFO    \u001b[0m Atlas \u001b[1m[\u001b[0m\u001b[1;36m0.00e+00\u001b[0m - \u001b[1;36m2.28e+00\u001b[0m - \u001b[1;36m2.42e+01\u001b[0m - \u001b[1;36m2.98e+04\u001b[0m - inf\u001b[1m]\u001b[0m, \u001b[33mref\u001b[0m=\u001b[1;36m8317\u001b[0m\u001b[1;36m.44\u001b[0m @ \u001b[1;36m5\u001b[0m        \u001b]8;id=370256;file:///Users/giacomomagni/.conda/envs/yad_dev/lib/python3.10/site-packages/eko/matchings.py\u001b\\\u001b[2mmatchings.py\u001b[0m\u001b]8;;\u001b\\\u001b[2m:\u001b[0m\u001b]8;id=69799;file:///Users/giacomomagni/.conda/envs/yad_dev/lib/python3.10/site-packages/eko/matchings.py#72\u001b\\\u001b[2m72\u001b[0m\u001b]8;;\u001b\\\n"
      ]
     },
     "metadata": {},
     "output_type": "display_data"
    },
    {
     "name": "stdout",
     "output_type": "stream",
     "text": [
      "LHAPDF 6.5.0 loading /Users/giacomomagni/.conda/envs/yad_dev/share/LHAPDF/NNPDF40_evolved_nf4/NNPDF40_evolved_nf4_0000.dat\n",
      "NNPDF40_evolved_nf4 PDF set, member #0, version 1\n"
     ]
    },
    {
     "data": {
      "text/html": [
       "<pre style=\"white-space:pre;overflow-x:auto;line-height:normal;font-family:Menlo,'DejaVu Sans Mono',consolas,'Courier New',monospace\"><span style=\"color: #7fbfbf; text-decoration-color: #7fbfbf\">           </span><span style=\"color: #000080; text-decoration-color: #000080\">INFO    </span> Interpolation: number of points = <span style=\"color: #008080; text-decoration-color: #008080; font-weight: bold\">8</span>, polynomial degree = <span style=\"color: #008080; text-decoration-color: #008080; font-weight: bold\">4</span>, logarithmic =  <a href=\"file:///Users/giacomomagni/.conda/envs/yad_dev/lib/python3.10/site-packages/eko/interpolation.py\" target=\"_blank\"><span style=\"color: #7f7f7f; text-decoration-color: #7f7f7f\">interpolation.py</span></a><span style=\"color: #7f7f7f; text-decoration-color: #7f7f7f\">:</span><a href=\"file:///Users/giacomomagni/.conda/envs/yad_dev/lib/python3.10/site-packages/eko/interpolation.py#538\" target=\"_blank\"><span style=\"color: #7f7f7f; text-decoration-color: #7f7f7f\">538</span></a>\n",
       "<span style=\"color: #7fbfbf; text-decoration-color: #7fbfbf\">           </span>         <span style=\"color: #00ff00; text-decoration-color: #00ff00; font-style: italic\">True</span>                                                                       <span style=\"color: #7f7f7f; text-decoration-color: #7f7f7f\">                    </span>\n",
       "</pre>\n"
      ],
      "text/plain": [
       "\u001b[2;36m          \u001b[0m\u001b[2;36m \u001b[0m\u001b[34mINFO    \u001b[0m Interpolation: number of points = \u001b[1;36m8\u001b[0m, polynomial degree = \u001b[1;36m4\u001b[0m, logarithmic =  \u001b]8;id=318276;file:///Users/giacomomagni/.conda/envs/yad_dev/lib/python3.10/site-packages/eko/interpolation.py\u001b\\\u001b[2minterpolation.py\u001b[0m\u001b]8;;\u001b\\\u001b[2m:\u001b[0m\u001b]8;id=976795;file:///Users/giacomomagni/.conda/envs/yad_dev/lib/python3.10/site-packages/eko/interpolation.py#538\u001b\\\u001b[2m538\u001b[0m\u001b]8;;\u001b\\\n",
       "\u001b[2;36m           \u001b[0m         \u001b[3;92mTrue\u001b[0m                                                                       \u001b[2m                    \u001b[0m\n"
      ]
     },
     "metadata": {},
     "output_type": "display_data"
    },
    {
     "data": {
      "text/html": [
       "<pre style=\"white-space:pre;overflow-x:auto;line-height:normal;font-family:Menlo,'DejaVu Sans Mono',consolas,'Courier New',monospace\"><span style=\"color: #7fbfbf; text-decoration-color: #7fbfbf\">           </span><span style=\"color: #000080; text-decoration-color: #000080\">INFO    </span> <span style=\"font-weight: bold\">{</span><span style=\"color: #008000; text-decoration-color: #008000\">'MZ2'</span>: <span style=\"color: #008080; text-decoration-color: #008080; font-weight: bold\">8315.178393760001</span>, <span style=\"color: #008000; text-decoration-color: #008000\">'CKM'</span>: <span style=\"color: #800080; text-decoration-color: #800080; font-weight: bold\">CKM</span><span style=\"font-weight: bold\">([[</span><span style=\"color: #008080; text-decoration-color: #008080; font-weight: bold\">9.49221518e-01</span> <span style=\"color: #008080; text-decoration-color: #008080; font-weight: bold\">5.07600900e-02</span>  <a href=\"file:///Volumes/Git_Workspace/physicstools/NN3PDF/yadism/src/yadism/coefficient_functions/coupling_constants.py\" target=\"_blank\"><span style=\"color: #7f7f7f; text-decoration-color: #7f7f7f\">coupling_constants.py</span></a><span style=\"color: #7f7f7f; text-decoration-color: #7f7f7f\">:</span><a href=\"file:///Volumes/Git_Workspace/physicstools/NN3PDF/yadism/src/yadism/coefficient_functions/coupling_constants.py#53\" target=\"_blank\"><span style=\"color: #7f7f7f; text-decoration-color: #7f7f7f\">53</span></a>\n",
       "<span style=\"color: #7fbfbf; text-decoration-color: #7fbfbf\">           </span>         <span style=\"color: #008080; text-decoration-color: #008080; font-weight: bold\">1.20409000e-05</span><span style=\"font-weight: bold\">]</span> <span style=\"font-weight: bold\">[</span><span style=\"color: #008080; text-decoration-color: #008080; font-weight: bold\">5.07150400e-02</span> <span style=\"color: #008080; text-decoration-color: #008080; font-weight: bold\">9.47604903e-01</span> <span style=\"color: #008080; text-decoration-color: #008080; font-weight: bold\">1.68100000e-03</span><span style=\"font-weight: bold\">]</span>         <span style=\"color: #7f7f7f; text-decoration-color: #7f7f7f\">                        </span>\n",
       "<span style=\"color: #7fbfbf; text-decoration-color: #7fbfbf\">           </span>         <span style=\"font-weight: bold\">[</span><span style=\"color: #008080; text-decoration-color: #008080; font-weight: bold\">7.43044000e-05</span> <span style=\"color: #008080; text-decoration-color: #008080; font-weight: bold\">1.62409000e-03</span> <span style=\"color: #008080; text-decoration-color: #008080; font-weight: bold\">9.98304719e-01</span><span style=\"font-weight: bold\">]])</span>, <span style=\"color: #008000; text-decoration-color: #008000\">'sin2theta_weak'</span>:    <span style=\"color: #7f7f7f; text-decoration-color: #7f7f7f\">                        </span>\n",
       "<span style=\"color: #7fbfbf; text-decoration-color: #7fbfbf\">           </span>         <span style=\"color: #008080; text-decoration-color: #008080; font-weight: bold\">0.23121</span>, <span style=\"color: #008000; text-decoration-color: #008000\">'MW2'</span>: <span style=\"color: #008080; text-decoration-color: #008080; font-weight: bold\">6463.838403999999</span><span style=\"font-weight: bold\">}</span>                                     <span style=\"color: #7f7f7f; text-decoration-color: #7f7f7f\">                        </span>\n",
       "</pre>\n"
      ],
      "text/plain": [
       "\u001b[2;36m          \u001b[0m\u001b[2;36m \u001b[0m\u001b[34mINFO    \u001b[0m \u001b[1m{\u001b[0m\u001b[32m'MZ2'\u001b[0m: \u001b[1;36m8315.178393760001\u001b[0m, \u001b[32m'CKM'\u001b[0m: \u001b[1;35mCKM\u001b[0m\u001b[1m(\u001b[0m\u001b[1m[\u001b[0m\u001b[1m[\u001b[0m\u001b[1;36m9.49221518e-01\u001b[0m \u001b[1;36m5.07600900e-02\u001b[0m  \u001b]8;id=221214;file:///Volumes/Git_Workspace/physicstools/NN3PDF/yadism/src/yadism/coefficient_functions/coupling_constants.py\u001b\\\u001b[2mcoupling_constants.py\u001b[0m\u001b]8;;\u001b\\\u001b[2m:\u001b[0m\u001b]8;id=8210;file:///Volumes/Git_Workspace/physicstools/NN3PDF/yadism/src/yadism/coefficient_functions/coupling_constants.py#53\u001b\\\u001b[2m53\u001b[0m\u001b]8;;\u001b\\\n",
       "\u001b[2;36m           \u001b[0m         \u001b[1;36m1.20409000e-05\u001b[0m\u001b[1m]\u001b[0m \u001b[1m[\u001b[0m\u001b[1;36m5.07150400e-02\u001b[0m \u001b[1;36m9.47604903e-01\u001b[0m \u001b[1;36m1.68100000e-03\u001b[0m\u001b[1m]\u001b[0m         \u001b[2m                        \u001b[0m\n",
       "\u001b[2;36m           \u001b[0m         \u001b[1m[\u001b[0m\u001b[1;36m7.43044000e-05\u001b[0m \u001b[1;36m1.62409000e-03\u001b[0m \u001b[1;36m9.98304719e-01\u001b[0m\u001b[1m]\u001b[0m\u001b[1m]\u001b[0m\u001b[1m)\u001b[0m, \u001b[32m'sin2theta_weak'\u001b[0m:    \u001b[2m                        \u001b[0m\n",
       "\u001b[2;36m           \u001b[0m         \u001b[1;36m0.23121\u001b[0m, \u001b[32m'MW2'\u001b[0m: \u001b[1;36m6463.838403999999\u001b[0m\u001b[1m}\u001b[0m                                     \u001b[2m                        \u001b[0m\n"
      ]
     },
     "metadata": {},
     "output_type": "display_data"
    },
    {
     "data": {
      "text/html": [
       "<pre style=\"white-space:pre;overflow-x:auto;line-height:normal;font-family:Menlo,'DejaVu Sans Mono',consolas,'Courier New',monospace\"><span style=\"color: #7fbfbf; text-decoration-color: #7fbfbf\">           </span><span style=\"color: #000080; text-decoration-color: #000080\">INFO    </span> <span style=\"font-weight: bold\">{</span><span style=\"color: #008000; text-decoration-color: #008000\">'process'</span>: <span style=\"color: #008000; text-decoration-color: #008000\">'NC'</span>, <span style=\"color: #008000; text-decoration-color: #008000\">'projectilePID'</span>: <span style=\"color: #008080; text-decoration-color: #008080; font-weight: bold\">11</span>, <span style=\"color: #008000; text-decoration-color: #008000\">'polarization'</span>: <span style=\"color: #008080; text-decoration-color: #008080; font-weight: bold\">0.0</span>,            <a href=\"file:///Volumes/Git_Workspace/physicstools/NN3PDF/yadism/src/yadism/coefficient_functions/coupling_constants.py\" target=\"_blank\"><span style=\"color: #7f7f7f; text-decoration-color: #7f7f7f\">coupling_constants.py</span></a><span style=\"color: #7f7f7f; text-decoration-color: #7f7f7f\">:</span><a href=\"file:///Volumes/Git_Workspace/physicstools/NN3PDF/yadism/src/yadism/coefficient_functions/coupling_constants.py#54\" target=\"_blank\"><span style=\"color: #7f7f7f; text-decoration-color: #7f7f7f\">54</span></a>\n",
       "<span style=\"color: #7fbfbf; text-decoration-color: #7fbfbf\">           </span>         <span style=\"color: #008000; text-decoration-color: #008000\">'propagatorCorrection'</span>: <span style=\"color: #008080; text-decoration-color: #008080; font-weight: bold\">0.0</span>, <span style=\"color: #008000; text-decoration-color: #008000\">'nc_pos_charge'</span>: <span style=\"color: #800080; text-decoration-color: #800080; font-style: italic\">None</span><span style=\"font-weight: bold\">}</span>                    <span style=\"color: #7f7f7f; text-decoration-color: #7f7f7f\">                        </span>\n",
       "</pre>\n"
      ],
      "text/plain": [
       "\u001b[2;36m          \u001b[0m\u001b[2;36m \u001b[0m\u001b[34mINFO    \u001b[0m \u001b[1m{\u001b[0m\u001b[32m'process'\u001b[0m: \u001b[32m'NC'\u001b[0m, \u001b[32m'projectilePID'\u001b[0m: \u001b[1;36m11\u001b[0m, \u001b[32m'polarization'\u001b[0m: \u001b[1;36m0.0\u001b[0m,            \u001b]8;id=851593;file:///Volumes/Git_Workspace/physicstools/NN3PDF/yadism/src/yadism/coefficient_functions/coupling_constants.py\u001b\\\u001b[2mcoupling_constants.py\u001b[0m\u001b]8;;\u001b\\\u001b[2m:\u001b[0m\u001b]8;id=703185;file:///Volumes/Git_Workspace/physicstools/NN3PDF/yadism/src/yadism/coefficient_functions/coupling_constants.py#54\u001b\\\u001b[2m54\u001b[0m\u001b]8;;\u001b\\\n",
       "\u001b[2;36m           \u001b[0m         \u001b[32m'propagatorCorrection'\u001b[0m: \u001b[1;36m0.0\u001b[0m, \u001b[32m'nc_pos_charge'\u001b[0m: \u001b[3;35mNone\u001b[0m\u001b[1m}\u001b[0m                    \u001b[2m                        \u001b[0m\n"
      ]
     },
     "metadata": {},
     "output_type": "display_data"
    },
    {
     "data": {
      "text/html": [
       "<pre style=\"white-space:pre;overflow-x:auto;line-height:normal;font-family:Menlo,'DejaVu Sans Mono',consolas,'Courier New',monospace\"><span style=\"color: #7fbfbf; text-decoration-color: #7fbfbf\">           </span><span style=\"color: #000080; text-decoration-color: #000080\">INFO    </span> RenScaleVar: <span style=\"color: #00ff00; text-decoration-color: #00ff00; font-style: italic\">True</span>, FactScaleVar: <span style=\"color: #00ff00; text-decoration-color: #00ff00; font-style: italic\">True</span>                                    <a href=\"file:///Volumes/Git_Workspace/physicstools/NN3PDF/yadism/src/yadism/esf/scale_variations.py\" target=\"_blank\"><span style=\"color: #7f7f7f; text-decoration-color: #7f7f7f\">scale_variations.py</span></a><span style=\"color: #7f7f7f; text-decoration-color: #7f7f7f\">:</span><a href=\"file:///Volumes/Git_Workspace/physicstools/NN3PDF/yadism/src/yadism/esf/scale_variations.py#62\" target=\"_blank\"><span style=\"color: #7f7f7f; text-decoration-color: #7f7f7f\">62</span></a>\n",
       "</pre>\n"
      ],
      "text/plain": [
       "\u001b[2;36m          \u001b[0m\u001b[2;36m \u001b[0m\u001b[34mINFO    \u001b[0m RenScaleVar: \u001b[3;92mTrue\u001b[0m, FactScaleVar: \u001b[3;92mTrue\u001b[0m                                    \u001b]8;id=827094;file:///Volumes/Git_Workspace/physicstools/NN3PDF/yadism/src/yadism/esf/scale_variations.py\u001b\\\u001b[2mscale_variations.py\u001b[0m\u001b]8;;\u001b\\\u001b[2m:\u001b[0m\u001b]8;id=40020;file:///Volumes/Git_Workspace/physicstools/NN3PDF/yadism/src/yadism/esf/scale_variations.py#62\u001b\\\u001b[2m62\u001b[0m\u001b]8;;\u001b\\\n"
      ]
     },
     "metadata": {},
     "output_type": "display_data"
    },
    {
     "data": {
      "text/html": [
       "<pre style=\"white-space:pre;overflow-x:auto;line-height:normal;font-family:Menlo,'DejaVu Sans Mono',consolas,'Courier New',monospace\"><span style=\"color: #7fbfbf; text-decoration-color: #7fbfbf\">           </span><span style=\"color: #000080; text-decoration-color: #000080\">INFO    </span> Atlas <span style=\"font-weight: bold\">[</span><span style=\"color: #008080; text-decoration-color: #008080; font-weight: bold\">0.00e+00</span> - <span style=\"color: #008080; text-decoration-color: #008080; font-weight: bold\">0.00e+00</span> - inf - inf - inf<span style=\"font-weight: bold\">]</span>, <span style=\"color: #808000; text-decoration-color: #808000\">ref</span>=<span style=\"color: #008080; text-decoration-color: #008080; font-weight: bold\">2.7224999999999997</span> @ <span style=\"color: #008080; text-decoration-color: #008080; font-weight: bold\">4</span>       <a href=\"file:///Users/giacomomagni/.conda/envs/yad_dev/lib/python3.10/site-packages/eko/matchings.py\" target=\"_blank\"><span style=\"color: #7f7f7f; text-decoration-color: #7f7f7f\">matchings.py</span></a><span style=\"color: #7f7f7f; text-decoration-color: #7f7f7f\">:</span><a href=\"file:///Users/giacomomagni/.conda/envs/yad_dev/lib/python3.10/site-packages/eko/matchings.py#72\" target=\"_blank\"><span style=\"color: #7f7f7f; text-decoration-color: #7f7f7f\">72</span></a>\n",
       "</pre>\n"
      ],
      "text/plain": [
       "\u001b[2;36m          \u001b[0m\u001b[2;36m \u001b[0m\u001b[34mINFO    \u001b[0m Atlas \u001b[1m[\u001b[0m\u001b[1;36m0.00e+00\u001b[0m - \u001b[1;36m0.00e+00\u001b[0m - inf - inf - inf\u001b[1m]\u001b[0m, \u001b[33mref\u001b[0m=\u001b[1;36m2\u001b[0m\u001b[1;36m.7224999999999997\u001b[0m @ \u001b[1;36m4\u001b[0m       \u001b]8;id=663608;file:///Users/giacomomagni/.conda/envs/yad_dev/lib/python3.10/site-packages/eko/matchings.py\u001b\\\u001b[2mmatchings.py\u001b[0m\u001b]8;;\u001b\\\u001b[2m:\u001b[0m\u001b]8;id=797774;file:///Users/giacomomagni/.conda/envs/yad_dev/lib/python3.10/site-packages/eko/matchings.py#72\u001b\\\u001b[2m72\u001b[0m\u001b]8;;\u001b\\\n"
      ]
     },
     "metadata": {},
     "output_type": "display_data"
    },
    {
     "data": {
      "text/html": [
       "<pre style=\"white-space:pre;overflow-x:auto;line-height:normal;font-family:Menlo,'DejaVu Sans Mono',consolas,'Courier New',monospace\"><span style=\"color: #7fbfbf; text-decoration-color: #7fbfbf\">           </span><span style=\"color: #000080; text-decoration-color: #000080\">INFO    </span> PTO: <span style=\"color: #008080; text-decoration-color: #008080; font-weight: bold\">1</span>, PTO@evolution: <span style=\"color: #008080; text-decoration-color: #008080; font-weight: bold\">1</span>, process: NC                                             <a href=\"file:///Volumes/Git_Workspace/physicstools/NN3PDF/yadism/src/yadism/runner.py\" target=\"_blank\"><span style=\"color: #7f7f7f; text-decoration-color: #7f7f7f\">runner.py</span></a><span style=\"color: #7f7f7f; text-decoration-color: #7f7f7f\">:</span><a href=\"file:///Volumes/Git_Workspace/physicstools/NN3PDF/yadism/src/yadism/runner.py#142\" target=\"_blank\"><span style=\"color: #7f7f7f; text-decoration-color: #7f7f7f\">142</span></a>\n",
       "</pre>\n"
      ],
      "text/plain": [
       "\u001b[2;36m          \u001b[0m\u001b[2;36m \u001b[0m\u001b[34mINFO    \u001b[0m PTO: \u001b[1;36m1\u001b[0m, PTO@evolution: \u001b[1;36m1\u001b[0m, process: NC                                             \u001b]8;id=901610;file:///Volumes/Git_Workspace/physicstools/NN3PDF/yadism/src/yadism/runner.py\u001b\\\u001b[2mrunner.py\u001b[0m\u001b]8;;\u001b\\\u001b[2m:\u001b[0m\u001b]8;id=638159;file:///Volumes/Git_Workspace/physicstools/NN3PDF/yadism/src/yadism/runner.py#142\u001b\\\u001b[2m142\u001b[0m\u001b]8;;\u001b\\\n"
      ]
     },
     "metadata": {},
     "output_type": "display_data"
    },
    {
     "data": {
      "text/html": [
       "<pre style=\"white-space:pre;overflow-x:auto;line-height:normal;font-family:Menlo,'DejaVu Sans Mono',consolas,'Courier New',monospace\"><span style=\"color: #7fbfbf; text-decoration-color: #7fbfbf\">           </span><span style=\"color: #000080; text-decoration-color: #000080\">INFO    </span> FNS: FONLL-FFNS, NfFF: <span style=\"color: #008080; text-decoration-color: #008080; font-weight: bold\">4</span>                                                          <a href=\"file:///Volumes/Git_Workspace/physicstools/NN3PDF/yadism/src/yadism/runner.py\" target=\"_blank\"><span style=\"color: #7f7f7f; text-decoration-color: #7f7f7f\">runner.py</span></a><span style=\"color: #7f7f7f; text-decoration-color: #7f7f7f\">:</span><a href=\"file:///Volumes/Git_Workspace/physicstools/NN3PDF/yadism/src/yadism/runner.py#149\" target=\"_blank\"><span style=\"color: #7f7f7f; text-decoration-color: #7f7f7f\">149</span></a>\n",
       "</pre>\n"
      ],
      "text/plain": [
       "\u001b[2;36m          \u001b[0m\u001b[2;36m \u001b[0m\u001b[34mINFO    \u001b[0m FNS: FONLL-FFNS, NfFF: \u001b[1;36m4\u001b[0m                                                          \u001b]8;id=138527;file:///Volumes/Git_Workspace/physicstools/NN3PDF/yadism/src/yadism/runner.py\u001b\\\u001b[2mrunner.py\u001b[0m\u001b]8;;\u001b\\\u001b[2m:\u001b[0m\u001b]8;id=169516;file:///Volumes/Git_Workspace/physicstools/NN3PDF/yadism/src/yadism/runner.py#149\u001b\\\u001b[2m149\u001b[0m\u001b]8;;\u001b\\\n"
      ]
     },
     "metadata": {},
     "output_type": "display_data"
    },
    {
     "data": {
      "text/html": [
       "<pre style=\"white-space:pre;overflow-x:auto;line-height:normal;font-family:Menlo,'DejaVu Sans Mono',consolas,'Courier New',monospace\"><span style=\"color: #7fbfbf; text-decoration-color: #7fbfbf\">           </span><span style=\"color: #000080; text-decoration-color: #000080\">INFO    </span> projectile: electron, target: <span style=\"font-weight: bold\">{</span>Z: <span style=\"color: #008080; text-decoration-color: #008080; font-weight: bold\">1</span>, A: <span style=\"color: #008080; text-decoration-color: #008080; font-weight: bold\">1</span><span style=\"font-weight: bold\">}</span>                                        <a href=\"file:///Volumes/Git_Workspace/physicstools/NN3PDF/yadism/src/yadism/runner.py\" target=\"_blank\"><span style=\"color: #7f7f7f; text-decoration-color: #7f7f7f\">runner.py</span></a><span style=\"color: #7f7f7f; text-decoration-color: #7f7f7f\">:</span><a href=\"file:///Volumes/Git_Workspace/physicstools/NN3PDF/yadism/src/yadism/runner.py#150\" target=\"_blank\"><span style=\"color: #7f7f7f; text-decoration-color: #7f7f7f\">150</span></a>\n",
       "</pre>\n"
      ],
      "text/plain": [
       "\u001b[2;36m          \u001b[0m\u001b[2;36m \u001b[0m\u001b[34mINFO    \u001b[0m projectile: electron, target: \u001b[1m{\u001b[0mZ: \u001b[1;36m1\u001b[0m, A: \u001b[1;36m1\u001b[0m\u001b[1m}\u001b[0m                                        \u001b]8;id=191567;file:///Volumes/Git_Workspace/physicstools/NN3PDF/yadism/src/yadism/runner.py\u001b\\\u001b[2mrunner.py\u001b[0m\u001b]8;;\u001b\\\u001b[2m:\u001b[0m\u001b]8;id=235286;file:///Volumes/Git_Workspace/physicstools/NN3PDF/yadism/src/yadism/runner.py#150\u001b\\\u001b[2m150\u001b[0m\u001b]8;;\u001b\\\n"
      ]
     },
     "metadata": {},
     "output_type": "display_data"
    },
    {
     "data": {
      "text/html": [
       "<pre style=\"white-space:pre;overflow-x:auto;line-height:normal;font-family:Menlo,'DejaVu Sans Mono',consolas,'Courier New',monospace\">                                      <span style=\"color: #800080; text-decoration-color: #800080\">┌────────────────────────────────────┐</span>                                       \n",
       "                                      <span style=\"color: #800080; text-decoration-color: #800080\">│                                    │</span>                                       \n",
       "                                      <span style=\"color: #800080; text-decoration-color: #800080\">│ __     __       _ _                │</span>                                       \n",
       "                                      <span style=\"color: #800080; text-decoration-color: #800080\">│ \\ \\   / /      | (_)               │</span>                                       \n",
       "                                      <span style=\"color: #800080; text-decoration-color: #800080\">│  \\ \\_/ /_ _  __| |_ ___ _ __ ___   │</span>                                       \n",
       "                                      <span style=\"color: #800080; text-decoration-color: #800080\">│   \\   / _` |/ _` | / __| '_ ` _ \\  │</span>                                       \n",
       "                                      <span style=\"color: #800080; text-decoration-color: #800080\">│    | | (_| | (_| | \\__ \\ | | | | | │</span>                                       \n",
       "                                      <span style=\"color: #800080; text-decoration-color: #800080\">│    |_|\\__,_|\\__,_|_|___/_| |_| |_| │</span>                                       \n",
       "                                      <span style=\"color: #800080; text-decoration-color: #800080\">│                                    │</span>                                       \n",
       "                                      <span style=\"color: #800080; text-decoration-color: #800080\">└────────────────────────────────────┘</span>                                       \n",
       "</pre>\n"
      ],
      "text/plain": [
       "                                      \u001b[35m┌────────────────────────────────────┐\u001b[0m                                       \n",
       "                                      \u001b[35m│\u001b[0m\u001b[35m                                    \u001b[0m\u001b[35m│\u001b[0m                                       \n",
       "                                      \u001b[35m│\u001b[0m\u001b[35m \u001b[0m\u001b[35m__     __       _ _\u001b[0m\u001b[35m               \u001b[0m\u001b[35m \u001b[0m\u001b[35m│\u001b[0m                                       \n",
       "                                      \u001b[35m│\u001b[0m\u001b[35m \u001b[0m\u001b[35m\\ \\   / /      | (_)\u001b[0m\u001b[35m              \u001b[0m\u001b[35m \u001b[0m\u001b[35m│\u001b[0m                                       \n",
       "                                      \u001b[35m│\u001b[0m\u001b[35m \u001b[0m\u001b[35m \\ \\_/ /_ _  __| |_ ___ _ __ ___\u001b[0m\u001b[35m  \u001b[0m\u001b[35m \u001b[0m\u001b[35m│\u001b[0m                                       \n",
       "                                      \u001b[35m│\u001b[0m\u001b[35m \u001b[0m\u001b[35m  \\   / _` |/ _` | / __| '_ ` _ \\\u001b[0m\u001b[35m \u001b[0m\u001b[35m \u001b[0m\u001b[35m│\u001b[0m                                       \n",
       "                                      \u001b[35m│\u001b[0m\u001b[35m \u001b[0m\u001b[35m   | | (_| | (_| | \\__ \\ | | | | |\u001b[0m\u001b[35m \u001b[0m\u001b[35m│\u001b[0m                                       \n",
       "                                      \u001b[35m│\u001b[0m\u001b[35m \u001b[0m\u001b[35m   |_|\\__,_|\\__,_|_|___/_| |_| |_|\u001b[0m\u001b[35m \u001b[0m\u001b[35m│\u001b[0m                                       \n",
       "                                      \u001b[35m│\u001b[0m\u001b[35m                                    \u001b[0m\u001b[35m│\u001b[0m                                       \n",
       "                                      \u001b[35m└────────────────────────────────────┘\u001b[0m                                       \n"
      ]
     },
     "metadata": {},
     "output_type": "display_data"
    },
    {
     "data": {
      "text/html": [
       "<pre style=\"white-space:pre;overflow-x:auto;line-height:normal;font-family:Menlo,'DejaVu Sans Mono',consolas,'Courier New',monospace\">\n",
       "                                                       <span style=\"font-weight: bold; text-decoration: underline\">Plan</span>                                                        \n",
       "</pre>\n"
      ],
      "text/plain": [
       "\n",
       "                                                       \u001b[1;4mPlan\u001b[0m                                                        \n"
      ]
     },
     "metadata": {},
     "output_type": "display_data"
    },
    {
     "data": {
      "text/html": [
       "<pre style=\"white-space:pre;overflow-x:auto;line-height:normal;font-family:Menlo,'DejaVu Sans Mono',consolas,'Courier New',monospace\">\n",
       "<span style=\"color: #808000; text-decoration-color: #808000; font-weight: bold\"> • </span>F2_charm at 2 pts                                                                                               \n",
       "</pre>\n"
      ],
      "text/plain": [
       "\n",
       "\u001b[1;33m • \u001b[0mF2_charm at 2 pts                                                                                               \n"
      ]
     },
     "metadata": {},
     "output_type": "display_data"
    },
    {
     "data": {
      "text/html": [
       "<pre style=\"white-space:pre;overflow-x:auto;line-height:normal;font-family:Menlo,'DejaVu Sans Mono',consolas,'Courier New',monospace\">\n",
       "                                                    <span style=\"font-weight: bold; text-decoration: underline\">Calculation</span>                                                    \n",
       "</pre>\n"
      ],
      "text/plain": [
       "\n",
       "                                                    \u001b[1;4mCalculation\u001b[0m                                                    \n"
      ]
     },
     "metadata": {},
     "output_type": "display_data"
    },
    {
     "data": {
      "text/html": [
       "<pre style=\"white-space:pre;overflow-x:auto;line-height:normal;font-family:Menlo,'DejaVu Sans Mono',consolas,'Courier New',monospace\">yadism took off! please stay tuned <span style=\"color: #808000; text-decoration-color: #808000\">...</span>\n",
       "</pre>\n"
      ],
      "text/plain": [
       "yadism took off! please stay tuned \u001b[33m...\u001b[0m\n"
      ]
     },
     "metadata": {},
     "output_type": "display_data"
    },
    {
     "data": {
      "text/html": [
       "<pre style=\"white-space:pre;overflow-x:auto;line-height:normal;font-family:Menlo,'DejaVu Sans Mono',consolas,'Courier New',monospace\"></pre>\n"
      ],
      "text/plain": [
       "\u001b[?25l"
      ]
     },
     "metadata": {},
     "output_type": "display_data"
    },
    {
     "data": {
      "application/vnd.jupyter.widget-view+json": {
       "model_id": "187143ed90194541911a5c19bb3977bb",
       "version_major": 2,
       "version_minor": 0
      },
      "text/plain": [
       "Output()"
      ]
     },
     "metadata": {},
     "output_type": "display_data"
    },
    {
     "data": {
      "text/html": [
       "<pre style=\"white-space:pre;overflow-x:auto;line-height:normal;font-family:Menlo,'DejaVu Sans Mono',consolas,'Courier New',monospace\"><span style=\"color: #7fbfbf; text-decoration-color: #7fbfbf\">[14:08:29] </span><span style=\"color: #000080; text-decoration-color: #000080\">INFO    </span> computing P_qq_0 - took: <span style=\"color: #008080; text-decoration-color: #008080; font-weight: bold\">0.028671</span> s                                      <a href=\"file:///Volumes/Git_Workspace/physicstools/NN3PDF/yadism/src/yadism/esf/scale_variations.py\" target=\"_blank\"><span style=\"color: #7f7f7f; text-decoration-color: #7f7f7f\">scale_variations.py</span></a><span style=\"color: #7f7f7f; text-decoration-color: #7f7f7f\">:</span><a href=\"file:///Volumes/Git_Workspace/physicstools/NN3PDF/yadism/src/yadism/esf/scale_variations.py#85\" target=\"_blank\"><span style=\"color: #7f7f7f; text-decoration-color: #7f7f7f\">85</span></a>\n",
       "Starting... <span style=\"color: #3a3a3a; text-decoration-color: #3a3a3a\">━━━━━━━━━━━━━━━━━━━━━━━━━━━━━━━━━━━━━━━━</span> <span style=\"color: #800080; text-decoration-color: #800080\">  0%</span> <span style=\"color: #008080; text-decoration-color: #008080\">-:--:--</span></pre>\n"
      ],
      "text/plain": [
       "\r\u001b[2K\u001b[2;36m[14:08:29]\u001b[0m\u001b[2;36m \u001b[0m\u001b[34mINFO    \u001b[0m computing P_qq_0 - took: \u001b[1;36m0.028671\u001b[0m s                                      \u001b]8;id=446701;file:///Volumes/Git_Workspace/physicstools/NN3PDF/yadism/src/yadism/esf/scale_variations.py\u001b\\\u001b[2mscale_variations.py\u001b[0m\u001b]8;;\u001b\\\u001b[2m:\u001b[0m\u001b]8;id=956676;file:///Volumes/Git_Workspace/physicstools/NN3PDF/yadism/src/yadism/esf/scale_variations.py#85\u001b\\\u001b[2m85\u001b[0m\u001b]8;;\u001b\\\n",
       "Starting... \u001b[38;5;237m━━━━━━━━━━━━━━━━━━━━━━━━━━━━━━━━━━━━━━━━\u001b[0m \u001b[35m  0%\u001b[0m \u001b[36m-:--:--\u001b[0m"
      ]
     },
     "metadata": {},
     "output_type": "display_data"
    },
    {
     "data": {
      "text/html": [
       "<pre style=\"white-space:pre;overflow-x:auto;line-height:normal;font-family:Menlo,'DejaVu Sans Mono',consolas,'Courier New',monospace\"><span style=\"color: #7fbfbf; text-decoration-color: #7fbfbf\">           </span><span style=\"color: #000080; text-decoration-color: #000080\">INFO    </span> computing P_qg_0 - took: <span style=\"color: #008080; text-decoration-color: #008080; font-weight: bold\">0.022261</span> s                                      <a href=\"file:///Volumes/Git_Workspace/physicstools/NN3PDF/yadism/src/yadism/esf/scale_variations.py\" target=\"_blank\"><span style=\"color: #7f7f7f; text-decoration-color: #7f7f7f\">scale_variations.py</span></a><span style=\"color: #7f7f7f; text-decoration-color: #7f7f7f\">:</span><a href=\"file:///Volumes/Git_Workspace/physicstools/NN3PDF/yadism/src/yadism/esf/scale_variations.py#85\" target=\"_blank\"><span style=\"color: #7f7f7f; text-decoration-color: #7f7f7f\">85</span></a>\n",
       "Starting... <span style=\"color: #3a3a3a; text-decoration-color: #3a3a3a\">━━━━━━━━━━━━━━━━━━━━━━━━━━━━━━━━━━━━━━━━</span> <span style=\"color: #800080; text-decoration-color: #800080\">  0%</span> <span style=\"color: #008080; text-decoration-color: #008080\">-:--:--</span></pre>\n"
      ],
      "text/plain": [
       "\r\u001b[2K\u001b[2;36m          \u001b[0m\u001b[2;36m \u001b[0m\u001b[34mINFO    \u001b[0m computing P_qg_0 - took: \u001b[1;36m0.022261\u001b[0m s                                      \u001b]8;id=339595;file:///Volumes/Git_Workspace/physicstools/NN3PDF/yadism/src/yadism/esf/scale_variations.py\u001b\\\u001b[2mscale_variations.py\u001b[0m\u001b]8;;\u001b\\\u001b[2m:\u001b[0m\u001b]8;id=523766;file:///Volumes/Git_Workspace/physicstools/NN3PDF/yadism/src/yadism/esf/scale_variations.py#85\u001b\\\u001b[2m85\u001b[0m\u001b]8;;\u001b\\\n",
       "Starting... \u001b[38;5;237m━━━━━━━━━━━━━━━━━━━━━━━━━━━━━━━━━━━━━━━━\u001b[0m \u001b[35m  0%\u001b[0m \u001b[36m-:--:--\u001b[0m"
      ]
     },
     "metadata": {},
     "output_type": "display_data"
    },
    {
     "data": {
      "text/html": [
       "<pre style=\"white-space:pre;overflow-x:auto;line-height:normal;font-family:Menlo,'DejaVu Sans Mono',consolas,'Courier New',monospace\">\n",
       "</pre>\n"
      ],
      "text/plain": [
       "\n",
       "\u001b[?25h\r\u001b[1A\u001b[2K"
      ]
     },
     "metadata": {},
     "output_type": "display_data"
    },
    {
     "data": {
      "text/html": [
       "<pre style=\"white-space:pre;overflow-x:auto;line-height:normal;font-family:Menlo,'DejaVu Sans Mono',consolas,'Courier New',monospace\"><span style=\"color: #008080; text-decoration-color: #008080\">took </span><span style=\"color: #008080; text-decoration-color: #008080; font-weight: bold\">0.20</span><span style=\"color: #008080; text-decoration-color: #008080\"> s</span>\n",
       "</pre>\n"
      ],
      "text/plain": [
       "\u001b[36mtook \u001b[0m\u001b[1;36m0.20\u001b[0m\u001b[36m s\u001b[0m\n"
      ]
     },
     "metadata": {},
     "output_type": "display_data"
    },
    {
     "data": {
      "text/html": [
       "<pre style=\"white-space:pre;overflow-x:auto;line-height:normal;font-family:Menlo,'DejaVu Sans Mono',consolas,'Courier New',monospace\"><span style=\"color: #7fbfbf; text-decoration-color: #7fbfbf\">           </span><span style=\"color: #000080; text-decoration-color: #000080\">INFO    </span> Atlas <span style=\"font-weight: bold\">[</span><span style=\"color: #008080; text-decoration-color: #008080; font-weight: bold\">0.00e+00</span> - <span style=\"color: #008080; text-decoration-color: #008080; font-weight: bold\">2.28e+00</span> - <span style=\"color: #008080; text-decoration-color: #008080; font-weight: bold\">2.42e+01</span> - <span style=\"color: #008080; text-decoration-color: #008080; font-weight: bold\">2.98e+04</span> - inf<span style=\"font-weight: bold\">]</span>, <span style=\"color: #808000; text-decoration-color: #808000\">ref</span>=<span style=\"color: #008080; text-decoration-color: #008080; font-weight: bold\">8317.44</span> @ <span style=\"color: #008080; text-decoration-color: #008080; font-weight: bold\">5</span>        <a href=\"file:///Users/giacomomagni/.conda/envs/yad_dev/lib/python3.10/site-packages/eko/matchings.py\" target=\"_blank\"><span style=\"color: #7f7f7f; text-decoration-color: #7f7f7f\">matchings.py</span></a><span style=\"color: #7f7f7f; text-decoration-color: #7f7f7f\">:</span><a href=\"file:///Users/giacomomagni/.conda/envs/yad_dev/lib/python3.10/site-packages/eko/matchings.py#72\" target=\"_blank\"><span style=\"color: #7f7f7f; text-decoration-color: #7f7f7f\">72</span></a>\n",
       "</pre>\n"
      ],
      "text/plain": [
       "\u001b[2;36m          \u001b[0m\u001b[2;36m \u001b[0m\u001b[34mINFO    \u001b[0m Atlas \u001b[1m[\u001b[0m\u001b[1;36m0.00e+00\u001b[0m - \u001b[1;36m2.28e+00\u001b[0m - \u001b[1;36m2.42e+01\u001b[0m - \u001b[1;36m2.98e+04\u001b[0m - inf\u001b[1m]\u001b[0m, \u001b[33mref\u001b[0m=\u001b[1;36m8317\u001b[0m\u001b[1;36m.44\u001b[0m @ \u001b[1;36m5\u001b[0m        \u001b]8;id=495017;file:///Users/giacomomagni/.conda/envs/yad_dev/lib/python3.10/site-packages/eko/matchings.py\u001b\\\u001b[2mmatchings.py\u001b[0m\u001b]8;;\u001b\\\u001b[2m:\u001b[0m\u001b]8;id=807124;file:///Users/giacomomagni/.conda/envs/yad_dev/lib/python3.10/site-packages/eko/matchings.py#72\u001b\\\u001b[2m72\u001b[0m\u001b]8;;\u001b\\\n"
      ]
     },
     "metadata": {},
     "output_type": "display_data"
    },
    {
     "data": {
      "text/html": [
       "<pre style=\"white-space:pre;overflow-x:auto;line-height:normal;font-family:Menlo,'DejaVu Sans Mono',consolas,'Courier New',monospace\"><span style=\"color: #7fbfbf; text-decoration-color: #7fbfbf\">           </span><span style=\"color: #000080; text-decoration-color: #000080\">INFO    </span> Strong Coupling: <span style=\"color: #800080; text-decoration-color: #800080; font-weight: bold\">a_s</span><span style=\"font-weight: bold\">(</span>µ_R^<span style=\"color: #008080; text-decoration-color: #008080; font-weight: bold\">2</span>=<span style=\"color: #008080; text-decoration-color: #008080; font-weight: bold\">8317.440000</span><span style=\"font-weight: bold\">)</span>^<span style=\"font-weight: bold\">(</span><span style=\"color: #808000; text-decoration-color: #808000\">nf</span>=<span style=\"color: #008080; text-decoration-color: #008080; font-weight: bold\">5</span><span style=\"font-weight: bold\">)</span>=<span style=\"color: #008080; text-decoration-color: #008080; font-weight: bold\">0.009390</span>=<span style=\"color: #008080; text-decoration-color: #008080; font-weight: bold\">0.118000</span>/<span style=\"font-weight: bold\">(</span>4π<span style=\"font-weight: bold\">)</span>          <a href=\"file:///Users/giacomomagni/.conda/envs/yad_dev/lib/python3.10/site-packages/eko/couplings.py\" target=\"_blank\"><span style=\"color: #7f7f7f; text-decoration-color: #7f7f7f\">couplings.py</span></a><span style=\"color: #7f7f7f; text-decoration-color: #7f7f7f\">:</span><a href=\"file:///Users/giacomomagni/.conda/envs/yad_dev/lib/python3.10/site-packages/eko/couplings.py#464\" target=\"_blank\"><span style=\"color: #7f7f7f; text-decoration-color: #7f7f7f\">464</span></a>\n",
       "</pre>\n"
      ],
      "text/plain": [
       "\u001b[2;36m          \u001b[0m\u001b[2;36m \u001b[0m\u001b[34mINFO    \u001b[0m Strong Coupling: \u001b[1;35ma_s\u001b[0m\u001b[1m(\u001b[0mµ_R^\u001b[1;36m2\u001b[0m=\u001b[1;36m8317\u001b[0m\u001b[1;36m.440000\u001b[0m\u001b[1m)\u001b[0m^\u001b[1m(\u001b[0m\u001b[33mnf\u001b[0m=\u001b[1;36m5\u001b[0m\u001b[1m)\u001b[0m=\u001b[1;36m0.\u001b[0m\u001b[1;36m009390\u001b[0m=\u001b[1;36m0\u001b[0m\u001b[1;36m.118000\u001b[0m/\u001b[1m(\u001b[0m4π\u001b[1m)\u001b[0m          \u001b]8;id=890749;file:///Users/giacomomagni/.conda/envs/yad_dev/lib/python3.10/site-packages/eko/couplings.py\u001b\\\u001b[2mcouplings.py\u001b[0m\u001b]8;;\u001b\\\u001b[2m:\u001b[0m\u001b]8;id=181273;file:///Users/giacomomagni/.conda/envs/yad_dev/lib/python3.10/site-packages/eko/couplings.py#464\u001b\\\u001b[2m464\u001b[0m\u001b]8;;\u001b\\\n"
      ]
     },
     "metadata": {},
     "output_type": "display_data"
    },
    {
     "data": {
      "text/html": [
       "<pre style=\"white-space:pre;overflow-x:auto;line-height:normal;font-family:Menlo,'DejaVu Sans Mono',consolas,'Courier New',monospace\"><span style=\"color: #7fbfbf; text-decoration-color: #7fbfbf\">           </span><span style=\"color: #000080; text-decoration-color: #000080\">INFO    </span> Atlas <span style=\"font-weight: bold\">[</span><span style=\"color: #008080; text-decoration-color: #008080; font-weight: bold\">0.00e+00</span> - <span style=\"color: #008080; text-decoration-color: #008080; font-weight: bold\">2.28e+00</span> - <span style=\"color: #008080; text-decoration-color: #008080; font-weight: bold\">2.42e+01</span> - <span style=\"color: #008080; text-decoration-color: #008080; font-weight: bold\">2.98e+04</span> - inf<span style=\"font-weight: bold\">]</span>, <span style=\"color: #808000; text-decoration-color: #808000\">ref</span>=<span style=\"color: #008080; text-decoration-color: #008080; font-weight: bold\">8317.44</span> @ <span style=\"color: #008080; text-decoration-color: #008080; font-weight: bold\">5</span>        <a href=\"file:///Users/giacomomagni/.conda/envs/yad_dev/lib/python3.10/site-packages/eko/matchings.py\" target=\"_blank\"><span style=\"color: #7f7f7f; text-decoration-color: #7f7f7f\">matchings.py</span></a><span style=\"color: #7f7f7f; text-decoration-color: #7f7f7f\">:</span><a href=\"file:///Users/giacomomagni/.conda/envs/yad_dev/lib/python3.10/site-packages/eko/matchings.py#72\" target=\"_blank\"><span style=\"color: #7f7f7f; text-decoration-color: #7f7f7f\">72</span></a>\n",
       "</pre>\n"
      ],
      "text/plain": [
       "\u001b[2;36m          \u001b[0m\u001b[2;36m \u001b[0m\u001b[34mINFO    \u001b[0m Atlas \u001b[1m[\u001b[0m\u001b[1;36m0.00e+00\u001b[0m - \u001b[1;36m2.28e+00\u001b[0m - \u001b[1;36m2.42e+01\u001b[0m - \u001b[1;36m2.98e+04\u001b[0m - inf\u001b[1m]\u001b[0m, \u001b[33mref\u001b[0m=\u001b[1;36m8317\u001b[0m\u001b[1;36m.44\u001b[0m @ \u001b[1;36m5\u001b[0m        \u001b]8;id=527119;file:///Users/giacomomagni/.conda/envs/yad_dev/lib/python3.10/site-packages/eko/matchings.py\u001b\\\u001b[2mmatchings.py\u001b[0m\u001b]8;;\u001b\\\u001b[2m:\u001b[0m\u001b]8;id=892857;file:///Users/giacomomagni/.conda/envs/yad_dev/lib/python3.10/site-packages/eko/matchings.py#72\u001b\\\u001b[2m72\u001b[0m\u001b]8;;\u001b\\\n"
      ]
     },
     "metadata": {},
     "output_type": "display_data"
    },
    {
     "name": "stdout",
     "output_type": "stream",
     "text": [
      "LHAPDF 6.5.0 loading "
     ]
    },
    {
     "data": {
      "text/html": [
       "<pre style=\"white-space:pre;overflow-x:auto;line-height:normal;font-family:Menlo,'DejaVu Sans Mono',consolas,'Courier New',monospace\"><span style=\"color: #7fbfbf; text-decoration-color: #7fbfbf\">           </span><span style=\"color: #000080; text-decoration-color: #000080\">INFO    </span> Interpolation: number of points = <span style=\"color: #008080; text-decoration-color: #008080; font-weight: bold\">8</span>, polynomial degree = <span style=\"color: #008080; text-decoration-color: #008080; font-weight: bold\">4</span>, logarithmic =  <a href=\"file:///Users/giacomomagni/.conda/envs/yad_dev/lib/python3.10/site-packages/eko/interpolation.py\" target=\"_blank\"><span style=\"color: #7f7f7f; text-decoration-color: #7f7f7f\">interpolation.py</span></a><span style=\"color: #7f7f7f; text-decoration-color: #7f7f7f\">:</span><a href=\"file:///Users/giacomomagni/.conda/envs/yad_dev/lib/python3.10/site-packages/eko/interpolation.py#538\" target=\"_blank\"><span style=\"color: #7f7f7f; text-decoration-color: #7f7f7f\">538</span></a>\n",
       "<span style=\"color: #7fbfbf; text-decoration-color: #7fbfbf\">           </span>         <span style=\"color: #00ff00; text-decoration-color: #00ff00; font-style: italic\">True</span>                                                                       <span style=\"color: #7f7f7f; text-decoration-color: #7f7f7f\">                    </span>\n",
       "</pre>\n"
      ],
      "text/plain": [
       "\u001b[2;36m          \u001b[0m\u001b[2;36m \u001b[0m\u001b[34mINFO    \u001b[0m Interpolation: number of points = \u001b[1;36m8\u001b[0m, polynomial degree = \u001b[1;36m4\u001b[0m, logarithmic =  \u001b]8;id=565936;file:///Users/giacomomagni/.conda/envs/yad_dev/lib/python3.10/site-packages/eko/interpolation.py\u001b\\\u001b[2minterpolation.py\u001b[0m\u001b]8;;\u001b\\\u001b[2m:\u001b[0m\u001b]8;id=345515;file:///Users/giacomomagni/.conda/envs/yad_dev/lib/python3.10/site-packages/eko/interpolation.py#538\u001b\\\u001b[2m538\u001b[0m\u001b]8;;\u001b\\\n",
       "\u001b[2;36m           \u001b[0m         \u001b[3;92mTrue\u001b[0m                                                                       \u001b[2m                    \u001b[0m\n"
      ]
     },
     "metadata": {},
     "output_type": "display_data"
    },
    {
     "name": "stdout",
     "output_type": "stream",
     "text": [
      "/Users/giacomomagni/.conda/envs/yad_dev/share/LHAPDF/NNPDF40_evolved_nf4/NNPDF40_evolved_nf4_0000.dat\n",
      "NNPDF40_evolved_nf4 PDF set, member #0, version 1\n"
     ]
    },
    {
     "data": {
      "text/html": [
       "<pre style=\"white-space:pre;overflow-x:auto;line-height:normal;font-family:Menlo,'DejaVu Sans Mono',consolas,'Courier New',monospace\"><span style=\"color: #7fbfbf; text-decoration-color: #7fbfbf\">           </span><span style=\"color: #000080; text-decoration-color: #000080\">INFO    </span> <span style=\"font-weight: bold\">{</span><span style=\"color: #008000; text-decoration-color: #008000\">'MZ2'</span>: <span style=\"color: #008080; text-decoration-color: #008080; font-weight: bold\">8315.178393760001</span>, <span style=\"color: #008000; text-decoration-color: #008000\">'CKM'</span>: <span style=\"color: #800080; text-decoration-color: #800080; font-weight: bold\">CKM</span><span style=\"font-weight: bold\">([[</span><span style=\"color: #008080; text-decoration-color: #008080; font-weight: bold\">9.49221518e-01</span> <span style=\"color: #008080; text-decoration-color: #008080; font-weight: bold\">5.07600900e-02</span>  <a href=\"file:///Volumes/Git_Workspace/physicstools/NN3PDF/yadism/src/yadism/coefficient_functions/coupling_constants.py\" target=\"_blank\"><span style=\"color: #7f7f7f; text-decoration-color: #7f7f7f\">coupling_constants.py</span></a><span style=\"color: #7f7f7f; text-decoration-color: #7f7f7f\">:</span><a href=\"file:///Volumes/Git_Workspace/physicstools/NN3PDF/yadism/src/yadism/coefficient_functions/coupling_constants.py#53\" target=\"_blank\"><span style=\"color: #7f7f7f; text-decoration-color: #7f7f7f\">53</span></a>\n",
       "<span style=\"color: #7fbfbf; text-decoration-color: #7fbfbf\">           </span>         <span style=\"color: #008080; text-decoration-color: #008080; font-weight: bold\">1.20409000e-05</span><span style=\"font-weight: bold\">]</span> <span style=\"font-weight: bold\">[</span><span style=\"color: #008080; text-decoration-color: #008080; font-weight: bold\">5.07150400e-02</span> <span style=\"color: #008080; text-decoration-color: #008080; font-weight: bold\">9.47604903e-01</span> <span style=\"color: #008080; text-decoration-color: #008080; font-weight: bold\">1.68100000e-03</span><span style=\"font-weight: bold\">]</span>         <span style=\"color: #7f7f7f; text-decoration-color: #7f7f7f\">                        </span>\n",
       "<span style=\"color: #7fbfbf; text-decoration-color: #7fbfbf\">           </span>         <span style=\"font-weight: bold\">[</span><span style=\"color: #008080; text-decoration-color: #008080; font-weight: bold\">7.43044000e-05</span> <span style=\"color: #008080; text-decoration-color: #008080; font-weight: bold\">1.62409000e-03</span> <span style=\"color: #008080; text-decoration-color: #008080; font-weight: bold\">9.98304719e-01</span><span style=\"font-weight: bold\">]])</span>, <span style=\"color: #008000; text-decoration-color: #008000\">'sin2theta_weak'</span>:    <span style=\"color: #7f7f7f; text-decoration-color: #7f7f7f\">                        </span>\n",
       "<span style=\"color: #7fbfbf; text-decoration-color: #7fbfbf\">           </span>         <span style=\"color: #008080; text-decoration-color: #008080; font-weight: bold\">0.23121</span>, <span style=\"color: #008000; text-decoration-color: #008000\">'MW2'</span>: <span style=\"color: #008080; text-decoration-color: #008080; font-weight: bold\">6463.838403999999</span><span style=\"font-weight: bold\">}</span>                                     <span style=\"color: #7f7f7f; text-decoration-color: #7f7f7f\">                        </span>\n",
       "</pre>\n"
      ],
      "text/plain": [
       "\u001b[2;36m          \u001b[0m\u001b[2;36m \u001b[0m\u001b[34mINFO    \u001b[0m \u001b[1m{\u001b[0m\u001b[32m'MZ2'\u001b[0m: \u001b[1;36m8315.178393760001\u001b[0m, \u001b[32m'CKM'\u001b[0m: \u001b[1;35mCKM\u001b[0m\u001b[1m(\u001b[0m\u001b[1m[\u001b[0m\u001b[1m[\u001b[0m\u001b[1;36m9.49221518e-01\u001b[0m \u001b[1;36m5.07600900e-02\u001b[0m  \u001b]8;id=592534;file:///Volumes/Git_Workspace/physicstools/NN3PDF/yadism/src/yadism/coefficient_functions/coupling_constants.py\u001b\\\u001b[2mcoupling_constants.py\u001b[0m\u001b]8;;\u001b\\\u001b[2m:\u001b[0m\u001b]8;id=544983;file:///Volumes/Git_Workspace/physicstools/NN3PDF/yadism/src/yadism/coefficient_functions/coupling_constants.py#53\u001b\\\u001b[2m53\u001b[0m\u001b]8;;\u001b\\\n",
       "\u001b[2;36m           \u001b[0m         \u001b[1;36m1.20409000e-05\u001b[0m\u001b[1m]\u001b[0m \u001b[1m[\u001b[0m\u001b[1;36m5.07150400e-02\u001b[0m \u001b[1;36m9.47604903e-01\u001b[0m \u001b[1;36m1.68100000e-03\u001b[0m\u001b[1m]\u001b[0m         \u001b[2m                        \u001b[0m\n",
       "\u001b[2;36m           \u001b[0m         \u001b[1m[\u001b[0m\u001b[1;36m7.43044000e-05\u001b[0m \u001b[1;36m1.62409000e-03\u001b[0m \u001b[1;36m9.98304719e-01\u001b[0m\u001b[1m]\u001b[0m\u001b[1m]\u001b[0m\u001b[1m)\u001b[0m, \u001b[32m'sin2theta_weak'\u001b[0m:    \u001b[2m                        \u001b[0m\n",
       "\u001b[2;36m           \u001b[0m         \u001b[1;36m0.23121\u001b[0m, \u001b[32m'MW2'\u001b[0m: \u001b[1;36m6463.838403999999\u001b[0m\u001b[1m}\u001b[0m                                     \u001b[2m                        \u001b[0m\n"
      ]
     },
     "metadata": {},
     "output_type": "display_data"
    },
    {
     "data": {
      "text/html": [
       "<pre style=\"white-space:pre;overflow-x:auto;line-height:normal;font-family:Menlo,'DejaVu Sans Mono',consolas,'Courier New',monospace\"><span style=\"color: #7fbfbf; text-decoration-color: #7fbfbf\">           </span><span style=\"color: #000080; text-decoration-color: #000080\">INFO    </span> <span style=\"font-weight: bold\">{</span><span style=\"color: #008000; text-decoration-color: #008000\">'process'</span>: <span style=\"color: #008000; text-decoration-color: #008000\">'NC'</span>, <span style=\"color: #008000; text-decoration-color: #008000\">'projectilePID'</span>: <span style=\"color: #008080; text-decoration-color: #008080; font-weight: bold\">11</span>, <span style=\"color: #008000; text-decoration-color: #008000\">'polarization'</span>: <span style=\"color: #008080; text-decoration-color: #008080; font-weight: bold\">0.0</span>,            <a href=\"file:///Volumes/Git_Workspace/physicstools/NN3PDF/yadism/src/yadism/coefficient_functions/coupling_constants.py\" target=\"_blank\"><span style=\"color: #7f7f7f; text-decoration-color: #7f7f7f\">coupling_constants.py</span></a><span style=\"color: #7f7f7f; text-decoration-color: #7f7f7f\">:</span><a href=\"file:///Volumes/Git_Workspace/physicstools/NN3PDF/yadism/src/yadism/coefficient_functions/coupling_constants.py#54\" target=\"_blank\"><span style=\"color: #7f7f7f; text-decoration-color: #7f7f7f\">54</span></a>\n",
       "<span style=\"color: #7fbfbf; text-decoration-color: #7fbfbf\">           </span>         <span style=\"color: #008000; text-decoration-color: #008000\">'propagatorCorrection'</span>: <span style=\"color: #008080; text-decoration-color: #008080; font-weight: bold\">0.0</span>, <span style=\"color: #008000; text-decoration-color: #008000\">'nc_pos_charge'</span>: <span style=\"color: #800080; text-decoration-color: #800080; font-style: italic\">None</span><span style=\"font-weight: bold\">}</span>                    <span style=\"color: #7f7f7f; text-decoration-color: #7f7f7f\">                        </span>\n",
       "</pre>\n"
      ],
      "text/plain": [
       "\u001b[2;36m          \u001b[0m\u001b[2;36m \u001b[0m\u001b[34mINFO    \u001b[0m \u001b[1m{\u001b[0m\u001b[32m'process'\u001b[0m: \u001b[32m'NC'\u001b[0m, \u001b[32m'projectilePID'\u001b[0m: \u001b[1;36m11\u001b[0m, \u001b[32m'polarization'\u001b[0m: \u001b[1;36m0.0\u001b[0m,            \u001b]8;id=605382;file:///Volumes/Git_Workspace/physicstools/NN3PDF/yadism/src/yadism/coefficient_functions/coupling_constants.py\u001b\\\u001b[2mcoupling_constants.py\u001b[0m\u001b]8;;\u001b\\\u001b[2m:\u001b[0m\u001b]8;id=839295;file:///Volumes/Git_Workspace/physicstools/NN3PDF/yadism/src/yadism/coefficient_functions/coupling_constants.py#54\u001b\\\u001b[2m54\u001b[0m\u001b]8;;\u001b\\\n",
       "\u001b[2;36m           \u001b[0m         \u001b[32m'propagatorCorrection'\u001b[0m: \u001b[1;36m0.0\u001b[0m, \u001b[32m'nc_pos_charge'\u001b[0m: \u001b[3;35mNone\u001b[0m\u001b[1m}\u001b[0m                    \u001b[2m                        \u001b[0m\n"
      ]
     },
     "metadata": {},
     "output_type": "display_data"
    },
    {
     "data": {
      "text/html": [
       "<pre style=\"white-space:pre;overflow-x:auto;line-height:normal;font-family:Menlo,'DejaVu Sans Mono',consolas,'Courier New',monospace\"><span style=\"color: #7fbfbf; text-decoration-color: #7fbfbf\">           </span><span style=\"color: #000080; text-decoration-color: #000080\">INFO    </span> RenScaleVar: <span style=\"color: #00ff00; text-decoration-color: #00ff00; font-style: italic\">True</span>, FactScaleVar: <span style=\"color: #00ff00; text-decoration-color: #00ff00; font-style: italic\">True</span>                                    <a href=\"file:///Volumes/Git_Workspace/physicstools/NN3PDF/yadism/src/yadism/esf/scale_variations.py\" target=\"_blank\"><span style=\"color: #7f7f7f; text-decoration-color: #7f7f7f\">scale_variations.py</span></a><span style=\"color: #7f7f7f; text-decoration-color: #7f7f7f\">:</span><a href=\"file:///Volumes/Git_Workspace/physicstools/NN3PDF/yadism/src/yadism/esf/scale_variations.py#62\" target=\"_blank\"><span style=\"color: #7f7f7f; text-decoration-color: #7f7f7f\">62</span></a>\n",
       "</pre>\n"
      ],
      "text/plain": [
       "\u001b[2;36m          \u001b[0m\u001b[2;36m \u001b[0m\u001b[34mINFO    \u001b[0m RenScaleVar: \u001b[3;92mTrue\u001b[0m, FactScaleVar: \u001b[3;92mTrue\u001b[0m                                    \u001b]8;id=137774;file:///Volumes/Git_Workspace/physicstools/NN3PDF/yadism/src/yadism/esf/scale_variations.py\u001b\\\u001b[2mscale_variations.py\u001b[0m\u001b]8;;\u001b\\\u001b[2m:\u001b[0m\u001b]8;id=604029;file:///Volumes/Git_Workspace/physicstools/NN3PDF/yadism/src/yadism/esf/scale_variations.py#62\u001b\\\u001b[2m62\u001b[0m\u001b]8;;\u001b\\\n"
      ]
     },
     "metadata": {},
     "output_type": "display_data"
    },
    {
     "data": {
      "text/html": [
       "<pre style=\"white-space:pre;overflow-x:auto;line-height:normal;font-family:Menlo,'DejaVu Sans Mono',consolas,'Courier New',monospace\"><span style=\"color: #7fbfbf; text-decoration-color: #7fbfbf\">           </span><span style=\"color: #000080; text-decoration-color: #000080\">INFO    </span> Atlas <span style=\"font-weight: bold\">[</span><span style=\"color: #008080; text-decoration-color: #008080; font-weight: bold\">0.00e+00</span> - <span style=\"color: #008080; text-decoration-color: #008080; font-weight: bold\">0.00e+00</span> - inf - inf - inf<span style=\"font-weight: bold\">]</span>, <span style=\"color: #808000; text-decoration-color: #808000\">ref</span>=<span style=\"color: #008080; text-decoration-color: #008080; font-weight: bold\">2.7224999999999997</span> @ <span style=\"color: #008080; text-decoration-color: #008080; font-weight: bold\">4</span>       <a href=\"file:///Users/giacomomagni/.conda/envs/yad_dev/lib/python3.10/site-packages/eko/matchings.py\" target=\"_blank\"><span style=\"color: #7f7f7f; text-decoration-color: #7f7f7f\">matchings.py</span></a><span style=\"color: #7f7f7f; text-decoration-color: #7f7f7f\">:</span><a href=\"file:///Users/giacomomagni/.conda/envs/yad_dev/lib/python3.10/site-packages/eko/matchings.py#72\" target=\"_blank\"><span style=\"color: #7f7f7f; text-decoration-color: #7f7f7f\">72</span></a>\n",
       "</pre>\n"
      ],
      "text/plain": [
       "\u001b[2;36m          \u001b[0m\u001b[2;36m \u001b[0m\u001b[34mINFO    \u001b[0m Atlas \u001b[1m[\u001b[0m\u001b[1;36m0.00e+00\u001b[0m - \u001b[1;36m0.00e+00\u001b[0m - inf - inf - inf\u001b[1m]\u001b[0m, \u001b[33mref\u001b[0m=\u001b[1;36m2\u001b[0m\u001b[1;36m.7224999999999997\u001b[0m @ \u001b[1;36m4\u001b[0m       \u001b]8;id=420908;file:///Users/giacomomagni/.conda/envs/yad_dev/lib/python3.10/site-packages/eko/matchings.py\u001b\\\u001b[2mmatchings.py\u001b[0m\u001b]8;;\u001b\\\u001b[2m:\u001b[0m\u001b]8;id=395283;file:///Users/giacomomagni/.conda/envs/yad_dev/lib/python3.10/site-packages/eko/matchings.py#72\u001b\\\u001b[2m72\u001b[0m\u001b]8;;\u001b\\\n"
      ]
     },
     "metadata": {},
     "output_type": "display_data"
    },
    {
     "data": {
      "text/html": [
       "<pre style=\"white-space:pre;overflow-x:auto;line-height:normal;font-family:Menlo,'DejaVu Sans Mono',consolas,'Courier New',monospace\"><span style=\"color: #7fbfbf; text-decoration-color: #7fbfbf\">           </span><span style=\"color: #000080; text-decoration-color: #000080\">INFO    </span> PTO: <span style=\"color: #008080; text-decoration-color: #008080; font-weight: bold\">1</span>, PTO@evolution: <span style=\"color: #008080; text-decoration-color: #008080; font-weight: bold\">1</span>, process: NC                                             <a href=\"file:///Volumes/Git_Workspace/physicstools/NN3PDF/yadism/src/yadism/runner.py\" target=\"_blank\"><span style=\"color: #7f7f7f; text-decoration-color: #7f7f7f\">runner.py</span></a><span style=\"color: #7f7f7f; text-decoration-color: #7f7f7f\">:</span><a href=\"file:///Volumes/Git_Workspace/physicstools/NN3PDF/yadism/src/yadism/runner.py#142\" target=\"_blank\"><span style=\"color: #7f7f7f; text-decoration-color: #7f7f7f\">142</span></a>\n",
       "</pre>\n"
      ],
      "text/plain": [
       "\u001b[2;36m          \u001b[0m\u001b[2;36m \u001b[0m\u001b[34mINFO    \u001b[0m PTO: \u001b[1;36m1\u001b[0m, PTO@evolution: \u001b[1;36m1\u001b[0m, process: NC                                             \u001b]8;id=609838;file:///Volumes/Git_Workspace/physicstools/NN3PDF/yadism/src/yadism/runner.py\u001b\\\u001b[2mrunner.py\u001b[0m\u001b]8;;\u001b\\\u001b[2m:\u001b[0m\u001b]8;id=242603;file:///Volumes/Git_Workspace/physicstools/NN3PDF/yadism/src/yadism/runner.py#142\u001b\\\u001b[2m142\u001b[0m\u001b]8;;\u001b\\\n"
      ]
     },
     "metadata": {},
     "output_type": "display_data"
    },
    {
     "data": {
      "text/html": [
       "<pre style=\"white-space:pre;overflow-x:auto;line-height:normal;font-family:Menlo,'DejaVu Sans Mono',consolas,'Courier New',monospace\"><span style=\"color: #7fbfbf; text-decoration-color: #7fbfbf\">           </span><span style=\"color: #000080; text-decoration-color: #000080\">INFO    </span> FNS: FONLL-FFN0, NfFF: <span style=\"color: #008080; text-decoration-color: #008080; font-weight: bold\">4</span>                                                          <a href=\"file:///Volumes/Git_Workspace/physicstools/NN3PDF/yadism/src/yadism/runner.py\" target=\"_blank\"><span style=\"color: #7f7f7f; text-decoration-color: #7f7f7f\">runner.py</span></a><span style=\"color: #7f7f7f; text-decoration-color: #7f7f7f\">:</span><a href=\"file:///Volumes/Git_Workspace/physicstools/NN3PDF/yadism/src/yadism/runner.py#149\" target=\"_blank\"><span style=\"color: #7f7f7f; text-decoration-color: #7f7f7f\">149</span></a>\n",
       "</pre>\n"
      ],
      "text/plain": [
       "\u001b[2;36m          \u001b[0m\u001b[2;36m \u001b[0m\u001b[34mINFO    \u001b[0m FNS: FONLL-FFN0, NfFF: \u001b[1;36m4\u001b[0m                                                          \u001b]8;id=927258;file:///Volumes/Git_Workspace/physicstools/NN3PDF/yadism/src/yadism/runner.py\u001b\\\u001b[2mrunner.py\u001b[0m\u001b]8;;\u001b\\\u001b[2m:\u001b[0m\u001b]8;id=110279;file:///Volumes/Git_Workspace/physicstools/NN3PDF/yadism/src/yadism/runner.py#149\u001b\\\u001b[2m149\u001b[0m\u001b]8;;\u001b\\\n"
      ]
     },
     "metadata": {},
     "output_type": "display_data"
    },
    {
     "data": {
      "text/html": [
       "<pre style=\"white-space:pre;overflow-x:auto;line-height:normal;font-family:Menlo,'DejaVu Sans Mono',consolas,'Courier New',monospace\"><span style=\"color: #7fbfbf; text-decoration-color: #7fbfbf\">           </span><span style=\"color: #000080; text-decoration-color: #000080\">INFO    </span> projectile: electron, target: <span style=\"font-weight: bold\">{</span>Z: <span style=\"color: #008080; text-decoration-color: #008080; font-weight: bold\">1</span>, A: <span style=\"color: #008080; text-decoration-color: #008080; font-weight: bold\">1</span><span style=\"font-weight: bold\">}</span>                                        <a href=\"file:///Volumes/Git_Workspace/physicstools/NN3PDF/yadism/src/yadism/runner.py\" target=\"_blank\"><span style=\"color: #7f7f7f; text-decoration-color: #7f7f7f\">runner.py</span></a><span style=\"color: #7f7f7f; text-decoration-color: #7f7f7f\">:</span><a href=\"file:///Volumes/Git_Workspace/physicstools/NN3PDF/yadism/src/yadism/runner.py#150\" target=\"_blank\"><span style=\"color: #7f7f7f; text-decoration-color: #7f7f7f\">150</span></a>\n",
       "</pre>\n"
      ],
      "text/plain": [
       "\u001b[2;36m          \u001b[0m\u001b[2;36m \u001b[0m\u001b[34mINFO    \u001b[0m projectile: electron, target: \u001b[1m{\u001b[0mZ: \u001b[1;36m1\u001b[0m, A: \u001b[1;36m1\u001b[0m\u001b[1m}\u001b[0m                                        \u001b]8;id=576502;file:///Volumes/Git_Workspace/physicstools/NN3PDF/yadism/src/yadism/runner.py\u001b\\\u001b[2mrunner.py\u001b[0m\u001b]8;;\u001b\\\u001b[2m:\u001b[0m\u001b]8;id=5474;file:///Volumes/Git_Workspace/physicstools/NN3PDF/yadism/src/yadism/runner.py#150\u001b\\\u001b[2m150\u001b[0m\u001b]8;;\u001b\\\n"
      ]
     },
     "metadata": {},
     "output_type": "display_data"
    },
    {
     "data": {
      "text/html": [
       "<pre style=\"white-space:pre;overflow-x:auto;line-height:normal;font-family:Menlo,'DejaVu Sans Mono',consolas,'Courier New',monospace\">                                      <span style=\"color: #800080; text-decoration-color: #800080\">┌────────────────────────────────────┐</span>                                       \n",
       "                                      <span style=\"color: #800080; text-decoration-color: #800080\">│                                    │</span>                                       \n",
       "                                      <span style=\"color: #800080; text-decoration-color: #800080\">│ __     __       _ _                │</span>                                       \n",
       "                                      <span style=\"color: #800080; text-decoration-color: #800080\">│ \\ \\   / /      | (_)               │</span>                                       \n",
       "                                      <span style=\"color: #800080; text-decoration-color: #800080\">│  \\ \\_/ /_ _  __| |_ ___ _ __ ___   │</span>                                       \n",
       "                                      <span style=\"color: #800080; text-decoration-color: #800080\">│   \\   / _` |/ _` | / __| '_ ` _ \\  │</span>                                       \n",
       "                                      <span style=\"color: #800080; text-decoration-color: #800080\">│    | | (_| | (_| | \\__ \\ | | | | | │</span>                                       \n",
       "                                      <span style=\"color: #800080; text-decoration-color: #800080\">│    |_|\\__,_|\\__,_|_|___/_| |_| |_| │</span>                                       \n",
       "                                      <span style=\"color: #800080; text-decoration-color: #800080\">│                                    │</span>                                       \n",
       "                                      <span style=\"color: #800080; text-decoration-color: #800080\">└────────────────────────────────────┘</span>                                       \n",
       "</pre>\n"
      ],
      "text/plain": [
       "                                      \u001b[35m┌────────────────────────────────────┐\u001b[0m                                       \n",
       "                                      \u001b[35m│\u001b[0m\u001b[35m                                    \u001b[0m\u001b[35m│\u001b[0m                                       \n",
       "                                      \u001b[35m│\u001b[0m\u001b[35m \u001b[0m\u001b[35m__     __       _ _\u001b[0m\u001b[35m               \u001b[0m\u001b[35m \u001b[0m\u001b[35m│\u001b[0m                                       \n",
       "                                      \u001b[35m│\u001b[0m\u001b[35m \u001b[0m\u001b[35m\\ \\   / /      | (_)\u001b[0m\u001b[35m              \u001b[0m\u001b[35m \u001b[0m\u001b[35m│\u001b[0m                                       \n",
       "                                      \u001b[35m│\u001b[0m\u001b[35m \u001b[0m\u001b[35m \\ \\_/ /_ _  __| |_ ___ _ __ ___\u001b[0m\u001b[35m  \u001b[0m\u001b[35m \u001b[0m\u001b[35m│\u001b[0m                                       \n",
       "                                      \u001b[35m│\u001b[0m\u001b[35m \u001b[0m\u001b[35m  \\   / _` |/ _` | / __| '_ ` _ \\\u001b[0m\u001b[35m \u001b[0m\u001b[35m \u001b[0m\u001b[35m│\u001b[0m                                       \n",
       "                                      \u001b[35m│\u001b[0m\u001b[35m \u001b[0m\u001b[35m   | | (_| | (_| | \\__ \\ | | | | |\u001b[0m\u001b[35m \u001b[0m\u001b[35m│\u001b[0m                                       \n",
       "                                      \u001b[35m│\u001b[0m\u001b[35m \u001b[0m\u001b[35m   |_|\\__,_|\\__,_|_|___/_| |_| |_|\u001b[0m\u001b[35m \u001b[0m\u001b[35m│\u001b[0m                                       \n",
       "                                      \u001b[35m│\u001b[0m\u001b[35m                                    \u001b[0m\u001b[35m│\u001b[0m                                       \n",
       "                                      \u001b[35m└────────────────────────────────────┘\u001b[0m                                       \n"
      ]
     },
     "metadata": {},
     "output_type": "display_data"
    },
    {
     "data": {
      "text/html": [
       "<pre style=\"white-space:pre;overflow-x:auto;line-height:normal;font-family:Menlo,'DejaVu Sans Mono',consolas,'Courier New',monospace\">\n",
       "                                                       <span style=\"font-weight: bold; text-decoration: underline\">Plan</span>                                                        \n",
       "</pre>\n"
      ],
      "text/plain": [
       "\n",
       "                                                       \u001b[1;4mPlan\u001b[0m                                                        \n"
      ]
     },
     "metadata": {},
     "output_type": "display_data"
    },
    {
     "data": {
      "text/html": [
       "<pre style=\"white-space:pre;overflow-x:auto;line-height:normal;font-family:Menlo,'DejaVu Sans Mono',consolas,'Courier New',monospace\">\n",
       "<span style=\"color: #808000; text-decoration-color: #808000; font-weight: bold\"> • </span>F2_charm at 2 pts                                                                                               \n",
       "</pre>\n"
      ],
      "text/plain": [
       "\n",
       "\u001b[1;33m • \u001b[0mF2_charm at 2 pts                                                                                               \n"
      ]
     },
     "metadata": {},
     "output_type": "display_data"
    },
    {
     "data": {
      "text/html": [
       "<pre style=\"white-space:pre;overflow-x:auto;line-height:normal;font-family:Menlo,'DejaVu Sans Mono',consolas,'Courier New',monospace\">\n",
       "                                                    <span style=\"font-weight: bold; text-decoration: underline\">Calculation</span>                                                    \n",
       "</pre>\n"
      ],
      "text/plain": [
       "\n",
       "                                                    \u001b[1;4mCalculation\u001b[0m                                                    \n"
      ]
     },
     "metadata": {},
     "output_type": "display_data"
    },
    {
     "data": {
      "text/html": [
       "<pre style=\"white-space:pre;overflow-x:auto;line-height:normal;font-family:Menlo,'DejaVu Sans Mono',consolas,'Courier New',monospace\">yadism took off! please stay tuned <span style=\"color: #808000; text-decoration-color: #808000\">...</span>\n",
       "</pre>\n"
      ],
      "text/plain": [
       "yadism took off! please stay tuned \u001b[33m...\u001b[0m\n"
      ]
     },
     "metadata": {},
     "output_type": "display_data"
    },
    {
     "data": {
      "text/html": [
       "<pre style=\"white-space:pre;overflow-x:auto;line-height:normal;font-family:Menlo,'DejaVu Sans Mono',consolas,'Courier New',monospace\"></pre>\n"
      ],
      "text/plain": [
       "\u001b[?25l"
      ]
     },
     "metadata": {},
     "output_type": "display_data"
    },
    {
     "data": {
      "application/vnd.jupyter.widget-view+json": {
       "model_id": "d17b209ccf3046b4a0f07aef5a9d53d6",
       "version_major": 2,
       "version_minor": 0
      },
      "text/plain": [
       "Output()"
      ]
     },
     "metadata": {},
     "output_type": "display_data"
    },
    {
     "data": {
      "text/html": [
       "<pre style=\"white-space:pre;overflow-x:auto;line-height:normal;font-family:Menlo,'DejaVu Sans Mono',consolas,'Courier New',monospace\"><span style=\"color: #7fbfbf; text-decoration-color: #7fbfbf\">[14:08:29] </span><span style=\"color: #000080; text-decoration-color: #000080\">INFO    </span> computing P_qq_0 - took: <span style=\"color: #008080; text-decoration-color: #008080; font-weight: bold\">0.043403</span> s                                      <a href=\"file:///Volumes/Git_Workspace/physicstools/NN3PDF/yadism/src/yadism/esf/scale_variations.py\" target=\"_blank\"><span style=\"color: #7f7f7f; text-decoration-color: #7f7f7f\">scale_variations.py</span></a><span style=\"color: #7f7f7f; text-decoration-color: #7f7f7f\">:</span><a href=\"file:///Volumes/Git_Workspace/physicstools/NN3PDF/yadism/src/yadism/esf/scale_variations.py#85\" target=\"_blank\"><span style=\"color: #7f7f7f; text-decoration-color: #7f7f7f\">85</span></a>\n",
       "Starting... <span style=\"color: #3a3a3a; text-decoration-color: #3a3a3a\">━━━━━━━━━━━━━━━━━━━━━━━━━━━━━━━━━━━━━━━━</span> <span style=\"color: #800080; text-decoration-color: #800080\">  0%</span> <span style=\"color: #008080; text-decoration-color: #008080\">-:--:--</span></pre>\n"
      ],
      "text/plain": [
       "\r\u001b[2K\u001b[2;36m[14:08:29]\u001b[0m\u001b[2;36m \u001b[0m\u001b[34mINFO    \u001b[0m computing P_qq_0 - took: \u001b[1;36m0.043403\u001b[0m s                                      \u001b]8;id=506231;file:///Volumes/Git_Workspace/physicstools/NN3PDF/yadism/src/yadism/esf/scale_variations.py\u001b\\\u001b[2mscale_variations.py\u001b[0m\u001b]8;;\u001b\\\u001b[2m:\u001b[0m\u001b]8;id=735706;file:///Volumes/Git_Workspace/physicstools/NN3PDF/yadism/src/yadism/esf/scale_variations.py#85\u001b\\\u001b[2m85\u001b[0m\u001b]8;;\u001b\\\n",
       "Starting... \u001b[38;5;237m━━━━━━━━━━━━━━━━━━━━━━━━━━━━━━━━━━━━━━━━\u001b[0m \u001b[35m  0%\u001b[0m \u001b[36m-:--:--\u001b[0m"
      ]
     },
     "metadata": {},
     "output_type": "display_data"
    },
    {
     "data": {
      "text/html": [
       "<pre style=\"white-space:pre;overflow-x:auto;line-height:normal;font-family:Menlo,'DejaVu Sans Mono',consolas,'Courier New',monospace\"><span style=\"color: #7fbfbf; text-decoration-color: #7fbfbf\">           </span><span style=\"color: #000080; text-decoration-color: #000080\">INFO    </span> computing P_qg_0 - took: <span style=\"color: #008080; text-decoration-color: #008080; font-weight: bold\">0.030231</span> s                                      <a href=\"file:///Volumes/Git_Workspace/physicstools/NN3PDF/yadism/src/yadism/esf/scale_variations.py\" target=\"_blank\"><span style=\"color: #7f7f7f; text-decoration-color: #7f7f7f\">scale_variations.py</span></a><span style=\"color: #7f7f7f; text-decoration-color: #7f7f7f\">:</span><a href=\"file:///Volumes/Git_Workspace/physicstools/NN3PDF/yadism/src/yadism/esf/scale_variations.py#85\" target=\"_blank\"><span style=\"color: #7f7f7f; text-decoration-color: #7f7f7f\">85</span></a>\n",
       "Starting... <span style=\"color: #3a3a3a; text-decoration-color: #3a3a3a\">━━━━━━━━━━━━━━━━━━━━━━━━━━━━━━━━━━━━━━━━</span> <span style=\"color: #800080; text-decoration-color: #800080\">  0%</span> <span style=\"color: #008080; text-decoration-color: #008080\">-:--:--</span></pre>\n"
      ],
      "text/plain": [
       "\r\u001b[2K\u001b[2;36m          \u001b[0m\u001b[2;36m \u001b[0m\u001b[34mINFO    \u001b[0m computing P_qg_0 - took: \u001b[1;36m0.030231\u001b[0m s                                      \u001b]8;id=357465;file:///Volumes/Git_Workspace/physicstools/NN3PDF/yadism/src/yadism/esf/scale_variations.py\u001b\\\u001b[2mscale_variations.py\u001b[0m\u001b]8;;\u001b\\\u001b[2m:\u001b[0m\u001b]8;id=817908;file:///Volumes/Git_Workspace/physicstools/NN3PDF/yadism/src/yadism/esf/scale_variations.py#85\u001b\\\u001b[2m85\u001b[0m\u001b]8;;\u001b\\\n",
       "Starting... \u001b[38;5;237m━━━━━━━━━━━━━━━━━━━━━━━━━━━━━━━━━━━━━━━━\u001b[0m \u001b[35m  0%\u001b[0m \u001b[36m-:--:--\u001b[0m"
      ]
     },
     "metadata": {},
     "output_type": "display_data"
    },
    {
     "data": {
      "text/html": [
       "<pre style=\"white-space:pre;overflow-x:auto;line-height:normal;font-family:Menlo,'DejaVu Sans Mono',consolas,'Courier New',monospace\">\n",
       "</pre>\n"
      ],
      "text/plain": [
       "\n",
       "\u001b[?25h\r\u001b[1A\u001b[2K"
      ]
     },
     "metadata": {},
     "output_type": "display_data"
    },
    {
     "data": {
      "text/html": [
       "<pre style=\"white-space:pre;overflow-x:auto;line-height:normal;font-family:Menlo,'DejaVu Sans Mono',consolas,'Courier New',monospace\"><span style=\"color: #008080; text-decoration-color: #008080\">took </span><span style=\"color: #008080; text-decoration-color: #008080; font-weight: bold\">0.24</span><span style=\"color: #008080; text-decoration-color: #008080\"> s</span>\n",
       "</pre>\n"
      ],
      "text/plain": [
       "\u001b[36mtook \u001b[0m\u001b[1;36m0.24\u001b[0m\u001b[36m s\u001b[0m\n"
      ]
     },
     "metadata": {},
     "output_type": "display_data"
    },
    {
     "data": {
      "text/html": [
       "<pre style=\"white-space:pre;overflow-x:auto;line-height:normal;font-family:Menlo,'DejaVu Sans Mono',consolas,'Courier New',monospace\"><span style=\"color: #7fbfbf; text-decoration-color: #7fbfbf\">           </span><span style=\"color: #000080; text-decoration-color: #000080\">INFO    </span> Atlas <span style=\"font-weight: bold\">[</span><span style=\"color: #008080; text-decoration-color: #008080; font-weight: bold\">0.00e+00</span> - <span style=\"color: #008080; text-decoration-color: #008080; font-weight: bold\">2.28e+00</span> - <span style=\"color: #008080; text-decoration-color: #008080; font-weight: bold\">2.42e+01</span> - <span style=\"color: #008080; text-decoration-color: #008080; font-weight: bold\">2.98e+04</span> - inf<span style=\"font-weight: bold\">]</span>, <span style=\"color: #808000; text-decoration-color: #808000\">ref</span>=<span style=\"color: #008080; text-decoration-color: #008080; font-weight: bold\">8317.44</span> @ <span style=\"color: #008080; text-decoration-color: #008080; font-weight: bold\">5</span>        <a href=\"file:///Users/giacomomagni/.conda/envs/yad_dev/lib/python3.10/site-packages/eko/matchings.py\" target=\"_blank\"><span style=\"color: #7f7f7f; text-decoration-color: #7f7f7f\">matchings.py</span></a><span style=\"color: #7f7f7f; text-decoration-color: #7f7f7f\">:</span><a href=\"file:///Users/giacomomagni/.conda/envs/yad_dev/lib/python3.10/site-packages/eko/matchings.py#72\" target=\"_blank\"><span style=\"color: #7f7f7f; text-decoration-color: #7f7f7f\">72</span></a>\n",
       "</pre>\n"
      ],
      "text/plain": [
       "\u001b[2;36m          \u001b[0m\u001b[2;36m \u001b[0m\u001b[34mINFO    \u001b[0m Atlas \u001b[1m[\u001b[0m\u001b[1;36m0.00e+00\u001b[0m - \u001b[1;36m2.28e+00\u001b[0m - \u001b[1;36m2.42e+01\u001b[0m - \u001b[1;36m2.98e+04\u001b[0m - inf\u001b[1m]\u001b[0m, \u001b[33mref\u001b[0m=\u001b[1;36m8317\u001b[0m\u001b[1;36m.44\u001b[0m @ \u001b[1;36m5\u001b[0m        \u001b]8;id=869494;file:///Users/giacomomagni/.conda/envs/yad_dev/lib/python3.10/site-packages/eko/matchings.py\u001b\\\u001b[2mmatchings.py\u001b[0m\u001b]8;;\u001b\\\u001b[2m:\u001b[0m\u001b]8;id=994228;file:///Users/giacomomagni/.conda/envs/yad_dev/lib/python3.10/site-packages/eko/matchings.py#72\u001b\\\u001b[2m72\u001b[0m\u001b]8;;\u001b\\\n"
      ]
     },
     "metadata": {},
     "output_type": "display_data"
    },
    {
     "data": {
      "text/html": [
       "<pre style=\"white-space:pre;overflow-x:auto;line-height:normal;font-family:Menlo,'DejaVu Sans Mono',consolas,'Courier New',monospace\"><span style=\"color: #7fbfbf; text-decoration-color: #7fbfbf\">           </span><span style=\"color: #000080; text-decoration-color: #000080\">INFO    </span> Strong Coupling: <span style=\"color: #800080; text-decoration-color: #800080; font-weight: bold\">a_s</span><span style=\"font-weight: bold\">(</span>µ_R^<span style=\"color: #008080; text-decoration-color: #008080; font-weight: bold\">2</span>=<span style=\"color: #008080; text-decoration-color: #008080; font-weight: bold\">8317.440000</span><span style=\"font-weight: bold\">)</span>^<span style=\"font-weight: bold\">(</span><span style=\"color: #808000; text-decoration-color: #808000\">nf</span>=<span style=\"color: #008080; text-decoration-color: #008080; font-weight: bold\">5</span><span style=\"font-weight: bold\">)</span>=<span style=\"color: #008080; text-decoration-color: #008080; font-weight: bold\">0.009390</span>=<span style=\"color: #008080; text-decoration-color: #008080; font-weight: bold\">0.118000</span>/<span style=\"font-weight: bold\">(</span>4π<span style=\"font-weight: bold\">)</span>          <a href=\"file:///Users/giacomomagni/.conda/envs/yad_dev/lib/python3.10/site-packages/eko/couplings.py\" target=\"_blank\"><span style=\"color: #7f7f7f; text-decoration-color: #7f7f7f\">couplings.py</span></a><span style=\"color: #7f7f7f; text-decoration-color: #7f7f7f\">:</span><a href=\"file:///Users/giacomomagni/.conda/envs/yad_dev/lib/python3.10/site-packages/eko/couplings.py#464\" target=\"_blank\"><span style=\"color: #7f7f7f; text-decoration-color: #7f7f7f\">464</span></a>\n",
       "</pre>\n"
      ],
      "text/plain": [
       "\u001b[2;36m          \u001b[0m\u001b[2;36m \u001b[0m\u001b[34mINFO    \u001b[0m Strong Coupling: \u001b[1;35ma_s\u001b[0m\u001b[1m(\u001b[0mµ_R^\u001b[1;36m2\u001b[0m=\u001b[1;36m8317\u001b[0m\u001b[1;36m.440000\u001b[0m\u001b[1m)\u001b[0m^\u001b[1m(\u001b[0m\u001b[33mnf\u001b[0m=\u001b[1;36m5\u001b[0m\u001b[1m)\u001b[0m=\u001b[1;36m0.\u001b[0m\u001b[1;36m009390\u001b[0m=\u001b[1;36m0\u001b[0m\u001b[1;36m.118000\u001b[0m/\u001b[1m(\u001b[0m4π\u001b[1m)\u001b[0m          \u001b]8;id=699828;file:///Users/giacomomagni/.conda/envs/yad_dev/lib/python3.10/site-packages/eko/couplings.py\u001b\\\u001b[2mcouplings.py\u001b[0m\u001b]8;;\u001b\\\u001b[2m:\u001b[0m\u001b]8;id=261076;file:///Users/giacomomagni/.conda/envs/yad_dev/lib/python3.10/site-packages/eko/couplings.py#464\u001b\\\u001b[2m464\u001b[0m\u001b]8;;\u001b\\\n"
      ]
     },
     "metadata": {},
     "output_type": "display_data"
    },
    {
     "data": {
      "text/html": [
       "<pre style=\"white-space:pre;overflow-x:auto;line-height:normal;font-family:Menlo,'DejaVu Sans Mono',consolas,'Courier New',monospace\"><span style=\"color: #7fbfbf; text-decoration-color: #7fbfbf\">           </span><span style=\"color: #000080; text-decoration-color: #000080\">INFO    </span> Atlas <span style=\"font-weight: bold\">[</span><span style=\"color: #008080; text-decoration-color: #008080; font-weight: bold\">0.00e+00</span> - <span style=\"color: #008080; text-decoration-color: #008080; font-weight: bold\">2.28e+00</span> - <span style=\"color: #008080; text-decoration-color: #008080; font-weight: bold\">2.42e+01</span> - <span style=\"color: #008080; text-decoration-color: #008080; font-weight: bold\">2.98e+04</span> - inf<span style=\"font-weight: bold\">]</span>, <span style=\"color: #808000; text-decoration-color: #808000\">ref</span>=<span style=\"color: #008080; text-decoration-color: #008080; font-weight: bold\">8317.44</span> @ <span style=\"color: #008080; text-decoration-color: #008080; font-weight: bold\">5</span>        <a href=\"file:///Users/giacomomagni/.conda/envs/yad_dev/lib/python3.10/site-packages/eko/matchings.py\" target=\"_blank\"><span style=\"color: #7f7f7f; text-decoration-color: #7f7f7f\">matchings.py</span></a><span style=\"color: #7f7f7f; text-decoration-color: #7f7f7f\">:</span><a href=\"file:///Users/giacomomagni/.conda/envs/yad_dev/lib/python3.10/site-packages/eko/matchings.py#72\" target=\"_blank\"><span style=\"color: #7f7f7f; text-decoration-color: #7f7f7f\">72</span></a>\n",
       "</pre>\n"
      ],
      "text/plain": [
       "\u001b[2;36m          \u001b[0m\u001b[2;36m \u001b[0m\u001b[34mINFO    \u001b[0m Atlas \u001b[1m[\u001b[0m\u001b[1;36m0.00e+00\u001b[0m - \u001b[1;36m2.28e+00\u001b[0m - \u001b[1;36m2.42e+01\u001b[0m - \u001b[1;36m2.98e+04\u001b[0m - inf\u001b[1m]\u001b[0m, \u001b[33mref\u001b[0m=\u001b[1;36m8317\u001b[0m\u001b[1;36m.44\u001b[0m @ \u001b[1;36m5\u001b[0m        \u001b]8;id=368963;file:///Users/giacomomagni/.conda/envs/yad_dev/lib/python3.10/site-packages/eko/matchings.py\u001b\\\u001b[2mmatchings.py\u001b[0m\u001b]8;;\u001b\\\u001b[2m:\u001b[0m\u001b]8;id=553049;file:///Users/giacomomagni/.conda/envs/yad_dev/lib/python3.10/site-packages/eko/matchings.py#72\u001b\\\u001b[2m72\u001b[0m\u001b]8;;\u001b\\\n"
      ]
     },
     "metadata": {},
     "output_type": "display_data"
    },
    {
     "name": "stdout",
     "output_type": "stream",
     "text": [
      "LHAPDF 6.5.0 loading "
     ]
    },
    {
     "data": {
      "text/html": [
       "<pre style=\"white-space:pre;overflow-x:auto;line-height:normal;font-family:Menlo,'DejaVu Sans Mono',consolas,'Courier New',monospace\"><span style=\"color: #7fbfbf; text-decoration-color: #7fbfbf\">           </span><span style=\"color: #000080; text-decoration-color: #000080\">INFO    </span> Interpolation: number of points = <span style=\"color: #008080; text-decoration-color: #008080; font-weight: bold\">8</span>, polynomial degree = <span style=\"color: #008080; text-decoration-color: #008080; font-weight: bold\">4</span>, logarithmic =  <a href=\"file:///Users/giacomomagni/.conda/envs/yad_dev/lib/python3.10/site-packages/eko/interpolation.py\" target=\"_blank\"><span style=\"color: #7f7f7f; text-decoration-color: #7f7f7f\">interpolation.py</span></a><span style=\"color: #7f7f7f; text-decoration-color: #7f7f7f\">:</span><a href=\"file:///Users/giacomomagni/.conda/envs/yad_dev/lib/python3.10/site-packages/eko/interpolation.py#538\" target=\"_blank\"><span style=\"color: #7f7f7f; text-decoration-color: #7f7f7f\">538</span></a>\n",
       "<span style=\"color: #7fbfbf; text-decoration-color: #7fbfbf\">           </span>         <span style=\"color: #00ff00; text-decoration-color: #00ff00; font-style: italic\">True</span>                                                                       <span style=\"color: #7f7f7f; text-decoration-color: #7f7f7f\">                    </span>\n",
       "</pre>\n"
      ],
      "text/plain": [
       "\u001b[2;36m          \u001b[0m\u001b[2;36m \u001b[0m\u001b[34mINFO    \u001b[0m Interpolation: number of points = \u001b[1;36m8\u001b[0m, polynomial degree = \u001b[1;36m4\u001b[0m, logarithmic =  \u001b]8;id=149642;file:///Users/giacomomagni/.conda/envs/yad_dev/lib/python3.10/site-packages/eko/interpolation.py\u001b\\\u001b[2minterpolation.py\u001b[0m\u001b]8;;\u001b\\\u001b[2m:\u001b[0m\u001b]8;id=997597;file:///Users/giacomomagni/.conda/envs/yad_dev/lib/python3.10/site-packages/eko/interpolation.py#538\u001b\\\u001b[2m538\u001b[0m\u001b]8;;\u001b\\\n",
       "\u001b[2;36m           \u001b[0m         \u001b[3;92mTrue\u001b[0m                                                                       \u001b[2m                    \u001b[0m\n"
      ]
     },
     "metadata": {},
     "output_type": "display_data"
    },
    {
     "name": "stdout",
     "output_type": "stream",
     "text": [
      "/Users/giacomomagni/.conda/envs/yad_dev/share/LHAPDF/NNPDF40_evolved_nf5/NNPDF40_evolved_nf5_0000.dat\n",
      "NNPDF40_evolved_nf5 PDF set, member #0, version 1\n"
     ]
    },
    {
     "data": {
      "text/html": [
       "<pre style=\"white-space:pre;overflow-x:auto;line-height:normal;font-family:Menlo,'DejaVu Sans Mono',consolas,'Courier New',monospace\"><span style=\"color: #7fbfbf; text-decoration-color: #7fbfbf\">           </span><span style=\"color: #000080; text-decoration-color: #000080\">INFO    </span> <span style=\"font-weight: bold\">{</span><span style=\"color: #008000; text-decoration-color: #008000\">'MZ2'</span>: <span style=\"color: #008080; text-decoration-color: #008080; font-weight: bold\">8315.178393760001</span>, <span style=\"color: #008000; text-decoration-color: #008000\">'CKM'</span>: <span style=\"color: #800080; text-decoration-color: #800080; font-weight: bold\">CKM</span><span style=\"font-weight: bold\">([[</span><span style=\"color: #008080; text-decoration-color: #008080; font-weight: bold\">9.49221518e-01</span> <span style=\"color: #008080; text-decoration-color: #008080; font-weight: bold\">5.07600900e-02</span>  <a href=\"file:///Volumes/Git_Workspace/physicstools/NN3PDF/yadism/src/yadism/coefficient_functions/coupling_constants.py\" target=\"_blank\"><span style=\"color: #7f7f7f; text-decoration-color: #7f7f7f\">coupling_constants.py</span></a><span style=\"color: #7f7f7f; text-decoration-color: #7f7f7f\">:</span><a href=\"file:///Volumes/Git_Workspace/physicstools/NN3PDF/yadism/src/yadism/coefficient_functions/coupling_constants.py#53\" target=\"_blank\"><span style=\"color: #7f7f7f; text-decoration-color: #7f7f7f\">53</span></a>\n",
       "<span style=\"color: #7fbfbf; text-decoration-color: #7fbfbf\">           </span>         <span style=\"color: #008080; text-decoration-color: #008080; font-weight: bold\">1.20409000e-05</span><span style=\"font-weight: bold\">]</span> <span style=\"font-weight: bold\">[</span><span style=\"color: #008080; text-decoration-color: #008080; font-weight: bold\">5.07150400e-02</span> <span style=\"color: #008080; text-decoration-color: #008080; font-weight: bold\">9.47604903e-01</span> <span style=\"color: #008080; text-decoration-color: #008080; font-weight: bold\">1.68100000e-03</span><span style=\"font-weight: bold\">]</span>         <span style=\"color: #7f7f7f; text-decoration-color: #7f7f7f\">                        </span>\n",
       "<span style=\"color: #7fbfbf; text-decoration-color: #7fbfbf\">           </span>         <span style=\"font-weight: bold\">[</span><span style=\"color: #008080; text-decoration-color: #008080; font-weight: bold\">7.43044000e-05</span> <span style=\"color: #008080; text-decoration-color: #008080; font-weight: bold\">1.62409000e-03</span> <span style=\"color: #008080; text-decoration-color: #008080; font-weight: bold\">9.98304719e-01</span><span style=\"font-weight: bold\">]])</span>, <span style=\"color: #008000; text-decoration-color: #008000\">'sin2theta_weak'</span>:    <span style=\"color: #7f7f7f; text-decoration-color: #7f7f7f\">                        </span>\n",
       "<span style=\"color: #7fbfbf; text-decoration-color: #7fbfbf\">           </span>         <span style=\"color: #008080; text-decoration-color: #008080; font-weight: bold\">0.23121</span>, <span style=\"color: #008000; text-decoration-color: #008000\">'MW2'</span>: <span style=\"color: #008080; text-decoration-color: #008080; font-weight: bold\">6463.838403999999</span><span style=\"font-weight: bold\">}</span>                                     <span style=\"color: #7f7f7f; text-decoration-color: #7f7f7f\">                        </span>\n",
       "</pre>\n"
      ],
      "text/plain": [
       "\u001b[2;36m          \u001b[0m\u001b[2;36m \u001b[0m\u001b[34mINFO    \u001b[0m \u001b[1m{\u001b[0m\u001b[32m'MZ2'\u001b[0m: \u001b[1;36m8315.178393760001\u001b[0m, \u001b[32m'CKM'\u001b[0m: \u001b[1;35mCKM\u001b[0m\u001b[1m(\u001b[0m\u001b[1m[\u001b[0m\u001b[1m[\u001b[0m\u001b[1;36m9.49221518e-01\u001b[0m \u001b[1;36m5.07600900e-02\u001b[0m  \u001b]8;id=417257;file:///Volumes/Git_Workspace/physicstools/NN3PDF/yadism/src/yadism/coefficient_functions/coupling_constants.py\u001b\\\u001b[2mcoupling_constants.py\u001b[0m\u001b]8;;\u001b\\\u001b[2m:\u001b[0m\u001b]8;id=935400;file:///Volumes/Git_Workspace/physicstools/NN3PDF/yadism/src/yadism/coefficient_functions/coupling_constants.py#53\u001b\\\u001b[2m53\u001b[0m\u001b]8;;\u001b\\\n",
       "\u001b[2;36m           \u001b[0m         \u001b[1;36m1.20409000e-05\u001b[0m\u001b[1m]\u001b[0m \u001b[1m[\u001b[0m\u001b[1;36m5.07150400e-02\u001b[0m \u001b[1;36m9.47604903e-01\u001b[0m \u001b[1;36m1.68100000e-03\u001b[0m\u001b[1m]\u001b[0m         \u001b[2m                        \u001b[0m\n",
       "\u001b[2;36m           \u001b[0m         \u001b[1m[\u001b[0m\u001b[1;36m7.43044000e-05\u001b[0m \u001b[1;36m1.62409000e-03\u001b[0m \u001b[1;36m9.98304719e-01\u001b[0m\u001b[1m]\u001b[0m\u001b[1m]\u001b[0m\u001b[1m)\u001b[0m, \u001b[32m'sin2theta_weak'\u001b[0m:    \u001b[2m                        \u001b[0m\n",
       "\u001b[2;36m           \u001b[0m         \u001b[1;36m0.23121\u001b[0m, \u001b[32m'MW2'\u001b[0m: \u001b[1;36m6463.838403999999\u001b[0m\u001b[1m}\u001b[0m                                     \u001b[2m                        \u001b[0m\n"
      ]
     },
     "metadata": {},
     "output_type": "display_data"
    },
    {
     "data": {
      "text/html": [
       "<pre style=\"white-space:pre;overflow-x:auto;line-height:normal;font-family:Menlo,'DejaVu Sans Mono',consolas,'Courier New',monospace\"><span style=\"color: #7fbfbf; text-decoration-color: #7fbfbf\">           </span><span style=\"color: #000080; text-decoration-color: #000080\">INFO    </span> <span style=\"font-weight: bold\">{</span><span style=\"color: #008000; text-decoration-color: #008000\">'process'</span>: <span style=\"color: #008000; text-decoration-color: #008000\">'NC'</span>, <span style=\"color: #008000; text-decoration-color: #008000\">'projectilePID'</span>: <span style=\"color: #008080; text-decoration-color: #008080; font-weight: bold\">11</span>, <span style=\"color: #008000; text-decoration-color: #008000\">'polarization'</span>: <span style=\"color: #008080; text-decoration-color: #008080; font-weight: bold\">0.0</span>,            <a href=\"file:///Volumes/Git_Workspace/physicstools/NN3PDF/yadism/src/yadism/coefficient_functions/coupling_constants.py\" target=\"_blank\"><span style=\"color: #7f7f7f; text-decoration-color: #7f7f7f\">coupling_constants.py</span></a><span style=\"color: #7f7f7f; text-decoration-color: #7f7f7f\">:</span><a href=\"file:///Volumes/Git_Workspace/physicstools/NN3PDF/yadism/src/yadism/coefficient_functions/coupling_constants.py#54\" target=\"_blank\"><span style=\"color: #7f7f7f; text-decoration-color: #7f7f7f\">54</span></a>\n",
       "<span style=\"color: #7fbfbf; text-decoration-color: #7fbfbf\">           </span>         <span style=\"color: #008000; text-decoration-color: #008000\">'propagatorCorrection'</span>: <span style=\"color: #008080; text-decoration-color: #008080; font-weight: bold\">0.0</span>, <span style=\"color: #008000; text-decoration-color: #008000\">'nc_pos_charge'</span>: <span style=\"color: #800080; text-decoration-color: #800080; font-style: italic\">None</span><span style=\"font-weight: bold\">}</span>                    <span style=\"color: #7f7f7f; text-decoration-color: #7f7f7f\">                        </span>\n",
       "</pre>\n"
      ],
      "text/plain": [
       "\u001b[2;36m          \u001b[0m\u001b[2;36m \u001b[0m\u001b[34mINFO    \u001b[0m \u001b[1m{\u001b[0m\u001b[32m'process'\u001b[0m: \u001b[32m'NC'\u001b[0m, \u001b[32m'projectilePID'\u001b[0m: \u001b[1;36m11\u001b[0m, \u001b[32m'polarization'\u001b[0m: \u001b[1;36m0.0\u001b[0m,            \u001b]8;id=35758;file:///Volumes/Git_Workspace/physicstools/NN3PDF/yadism/src/yadism/coefficient_functions/coupling_constants.py\u001b\\\u001b[2mcoupling_constants.py\u001b[0m\u001b]8;;\u001b\\\u001b[2m:\u001b[0m\u001b]8;id=921132;file:///Volumes/Git_Workspace/physicstools/NN3PDF/yadism/src/yadism/coefficient_functions/coupling_constants.py#54\u001b\\\u001b[2m54\u001b[0m\u001b]8;;\u001b\\\n",
       "\u001b[2;36m           \u001b[0m         \u001b[32m'propagatorCorrection'\u001b[0m: \u001b[1;36m0.0\u001b[0m, \u001b[32m'nc_pos_charge'\u001b[0m: \u001b[3;35mNone\u001b[0m\u001b[1m}\u001b[0m                    \u001b[2m                        \u001b[0m\n"
      ]
     },
     "metadata": {},
     "output_type": "display_data"
    },
    {
     "data": {
      "text/html": [
       "<pre style=\"white-space:pre;overflow-x:auto;line-height:normal;font-family:Menlo,'DejaVu Sans Mono',consolas,'Courier New',monospace\"><span style=\"color: #7fbfbf; text-decoration-color: #7fbfbf\">           </span><span style=\"color: #000080; text-decoration-color: #000080\">INFO    </span> RenScaleVar: <span style=\"color: #00ff00; text-decoration-color: #00ff00; font-style: italic\">True</span>, FactScaleVar: <span style=\"color: #00ff00; text-decoration-color: #00ff00; font-style: italic\">True</span>                                    <a href=\"file:///Volumes/Git_Workspace/physicstools/NN3PDF/yadism/src/yadism/esf/scale_variations.py\" target=\"_blank\"><span style=\"color: #7f7f7f; text-decoration-color: #7f7f7f\">scale_variations.py</span></a><span style=\"color: #7f7f7f; text-decoration-color: #7f7f7f\">:</span><a href=\"file:///Volumes/Git_Workspace/physicstools/NN3PDF/yadism/src/yadism/esf/scale_variations.py#62\" target=\"_blank\"><span style=\"color: #7f7f7f; text-decoration-color: #7f7f7f\">62</span></a>\n",
       "</pre>\n"
      ],
      "text/plain": [
       "\u001b[2;36m          \u001b[0m\u001b[2;36m \u001b[0m\u001b[34mINFO    \u001b[0m RenScaleVar: \u001b[3;92mTrue\u001b[0m, FactScaleVar: \u001b[3;92mTrue\u001b[0m                                    \u001b]8;id=274498;file:///Volumes/Git_Workspace/physicstools/NN3PDF/yadism/src/yadism/esf/scale_variations.py\u001b\\\u001b[2mscale_variations.py\u001b[0m\u001b]8;;\u001b\\\u001b[2m:\u001b[0m\u001b]8;id=575451;file:///Volumes/Git_Workspace/physicstools/NN3PDF/yadism/src/yadism/esf/scale_variations.py#62\u001b\\\u001b[2m62\u001b[0m\u001b]8;;\u001b\\\n"
      ]
     },
     "metadata": {},
     "output_type": "display_data"
    },
    {
     "data": {
      "text/html": [
       "<pre style=\"white-space:pre;overflow-x:auto;line-height:normal;font-family:Menlo,'DejaVu Sans Mono',consolas,'Courier New',monospace\"><span style=\"color: #7fbfbf; text-decoration-color: #7fbfbf\">           </span><span style=\"color: #000080; text-decoration-color: #000080\">INFO    </span> Atlas <span style=\"font-weight: bold\">[</span><span style=\"color: #008080; text-decoration-color: #008080; font-weight: bold\">0.00e+00</span> - <span style=\"color: #008080; text-decoration-color: #008080; font-weight: bold\">0.00e+00</span> - <span style=\"color: #008080; text-decoration-color: #008080; font-weight: bold\">0.00e+00</span> - inf - inf<span style=\"font-weight: bold\">]</span>, <span style=\"color: #808000; text-decoration-color: #808000\">ref</span>=<span style=\"color: #008080; text-decoration-color: #008080; font-weight: bold\">2.7224999999999997</span> @ <span style=\"color: #008080; text-decoration-color: #008080; font-weight: bold\">4</span>  <a href=\"file:///Users/giacomomagni/.conda/envs/yad_dev/lib/python3.10/site-packages/eko/matchings.py\" target=\"_blank\"><span style=\"color: #7f7f7f; text-decoration-color: #7f7f7f\">matchings.py</span></a><span style=\"color: #7f7f7f; text-decoration-color: #7f7f7f\">:</span><a href=\"file:///Users/giacomomagni/.conda/envs/yad_dev/lib/python3.10/site-packages/eko/matchings.py#72\" target=\"_blank\"><span style=\"color: #7f7f7f; text-decoration-color: #7f7f7f\">72</span></a>\n",
       "</pre>\n"
      ],
      "text/plain": [
       "\u001b[2;36m          \u001b[0m\u001b[2;36m \u001b[0m\u001b[34mINFO    \u001b[0m Atlas \u001b[1m[\u001b[0m\u001b[1;36m0.00e+00\u001b[0m - \u001b[1;36m0.00e+00\u001b[0m - \u001b[1;36m0.00e+00\u001b[0m - inf - inf\u001b[1m]\u001b[0m, \u001b[33mref\u001b[0m=\u001b[1;36m2\u001b[0m\u001b[1;36m.7224999999999997\u001b[0m @ \u001b[1;36m4\u001b[0m  \u001b]8;id=763536;file:///Users/giacomomagni/.conda/envs/yad_dev/lib/python3.10/site-packages/eko/matchings.py\u001b\\\u001b[2mmatchings.py\u001b[0m\u001b]8;;\u001b\\\u001b[2m:\u001b[0m\u001b]8;id=304035;file:///Users/giacomomagni/.conda/envs/yad_dev/lib/python3.10/site-packages/eko/matchings.py#72\u001b\\\u001b[2m72\u001b[0m\u001b]8;;\u001b\\\n"
      ]
     },
     "metadata": {},
     "output_type": "display_data"
    },
    {
     "data": {
      "text/html": [
       "<pre style=\"white-space:pre;overflow-x:auto;line-height:normal;font-family:Menlo,'DejaVu Sans Mono',consolas,'Courier New',monospace\"><span style=\"color: #7fbfbf; text-decoration-color: #7fbfbf\">           </span><span style=\"color: #000080; text-decoration-color: #000080\">INFO    </span> PTO: <span style=\"color: #008080; text-decoration-color: #008080; font-weight: bold\">1</span>, PTO@evolution: <span style=\"color: #008080; text-decoration-color: #008080; font-weight: bold\">1</span>, process: NC                                             <a href=\"file:///Volumes/Git_Workspace/physicstools/NN3PDF/yadism/src/yadism/runner.py\" target=\"_blank\"><span style=\"color: #7f7f7f; text-decoration-color: #7f7f7f\">runner.py</span></a><span style=\"color: #7f7f7f; text-decoration-color: #7f7f7f\">:</span><a href=\"file:///Volumes/Git_Workspace/physicstools/NN3PDF/yadism/src/yadism/runner.py#142\" target=\"_blank\"><span style=\"color: #7f7f7f; text-decoration-color: #7f7f7f\">142</span></a>\n",
       "</pre>\n"
      ],
      "text/plain": [
       "\u001b[2;36m          \u001b[0m\u001b[2;36m \u001b[0m\u001b[34mINFO    \u001b[0m PTO: \u001b[1;36m1\u001b[0m, PTO@evolution: \u001b[1;36m1\u001b[0m, process: NC                                             \u001b]8;id=197386;file:///Volumes/Git_Workspace/physicstools/NN3PDF/yadism/src/yadism/runner.py\u001b\\\u001b[2mrunner.py\u001b[0m\u001b]8;;\u001b\\\u001b[2m:\u001b[0m\u001b]8;id=844855;file:///Volumes/Git_Workspace/physicstools/NN3PDF/yadism/src/yadism/runner.py#142\u001b\\\u001b[2m142\u001b[0m\u001b]8;;\u001b\\\n"
      ]
     },
     "metadata": {},
     "output_type": "display_data"
    },
    {
     "data": {
      "text/html": [
       "<pre style=\"white-space:pre;overflow-x:auto;line-height:normal;font-family:Menlo,'DejaVu Sans Mono',consolas,'Courier New',monospace\"><span style=\"color: #7fbfbf; text-decoration-color: #7fbfbf\">           </span><span style=\"color: #000080; text-decoration-color: #000080\">INFO    </span> FNS: FONLL-FFNS, NfFF: <span style=\"color: #008080; text-decoration-color: #008080; font-weight: bold\">5</span>                                                          <a href=\"file:///Volumes/Git_Workspace/physicstools/NN3PDF/yadism/src/yadism/runner.py\" target=\"_blank\"><span style=\"color: #7f7f7f; text-decoration-color: #7f7f7f\">runner.py</span></a><span style=\"color: #7f7f7f; text-decoration-color: #7f7f7f\">:</span><a href=\"file:///Volumes/Git_Workspace/physicstools/NN3PDF/yadism/src/yadism/runner.py#149\" target=\"_blank\"><span style=\"color: #7f7f7f; text-decoration-color: #7f7f7f\">149</span></a>\n",
       "</pre>\n"
      ],
      "text/plain": [
       "\u001b[2;36m          \u001b[0m\u001b[2;36m \u001b[0m\u001b[34mINFO    \u001b[0m FNS: FONLL-FFNS, NfFF: \u001b[1;36m5\u001b[0m                                                          \u001b]8;id=521743;file:///Volumes/Git_Workspace/physicstools/NN3PDF/yadism/src/yadism/runner.py\u001b\\\u001b[2mrunner.py\u001b[0m\u001b]8;;\u001b\\\u001b[2m:\u001b[0m\u001b]8;id=327243;file:///Volumes/Git_Workspace/physicstools/NN3PDF/yadism/src/yadism/runner.py#149\u001b\\\u001b[2m149\u001b[0m\u001b]8;;\u001b\\\n"
      ]
     },
     "metadata": {},
     "output_type": "display_data"
    },
    {
     "data": {
      "text/html": [
       "<pre style=\"white-space:pre;overflow-x:auto;line-height:normal;font-family:Menlo,'DejaVu Sans Mono',consolas,'Courier New',monospace\"><span style=\"color: #7fbfbf; text-decoration-color: #7fbfbf\">           </span><span style=\"color: #000080; text-decoration-color: #000080\">INFO    </span> projectile: electron, target: <span style=\"font-weight: bold\">{</span>Z: <span style=\"color: #008080; text-decoration-color: #008080; font-weight: bold\">1</span>, A: <span style=\"color: #008080; text-decoration-color: #008080; font-weight: bold\">1</span><span style=\"font-weight: bold\">}</span>                                        <a href=\"file:///Volumes/Git_Workspace/physicstools/NN3PDF/yadism/src/yadism/runner.py\" target=\"_blank\"><span style=\"color: #7f7f7f; text-decoration-color: #7f7f7f\">runner.py</span></a><span style=\"color: #7f7f7f; text-decoration-color: #7f7f7f\">:</span><a href=\"file:///Volumes/Git_Workspace/physicstools/NN3PDF/yadism/src/yadism/runner.py#150\" target=\"_blank\"><span style=\"color: #7f7f7f; text-decoration-color: #7f7f7f\">150</span></a>\n",
       "</pre>\n"
      ],
      "text/plain": [
       "\u001b[2;36m          \u001b[0m\u001b[2;36m \u001b[0m\u001b[34mINFO    \u001b[0m projectile: electron, target: \u001b[1m{\u001b[0mZ: \u001b[1;36m1\u001b[0m, A: \u001b[1;36m1\u001b[0m\u001b[1m}\u001b[0m                                        \u001b]8;id=658318;file:///Volumes/Git_Workspace/physicstools/NN3PDF/yadism/src/yadism/runner.py\u001b\\\u001b[2mrunner.py\u001b[0m\u001b]8;;\u001b\\\u001b[2m:\u001b[0m\u001b]8;id=993587;file:///Volumes/Git_Workspace/physicstools/NN3PDF/yadism/src/yadism/runner.py#150\u001b\\\u001b[2m150\u001b[0m\u001b]8;;\u001b\\\n"
      ]
     },
     "metadata": {},
     "output_type": "display_data"
    },
    {
     "data": {
      "text/html": [
       "<pre style=\"white-space:pre;overflow-x:auto;line-height:normal;font-family:Menlo,'DejaVu Sans Mono',consolas,'Courier New',monospace\">                                      <span style=\"color: #800080; text-decoration-color: #800080\">┌────────────────────────────────────┐</span>                                       \n",
       "                                      <span style=\"color: #800080; text-decoration-color: #800080\">│                                    │</span>                                       \n",
       "                                      <span style=\"color: #800080; text-decoration-color: #800080\">│ __     __       _ _                │</span>                                       \n",
       "                                      <span style=\"color: #800080; text-decoration-color: #800080\">│ \\ \\   / /      | (_)               │</span>                                       \n",
       "                                      <span style=\"color: #800080; text-decoration-color: #800080\">│  \\ \\_/ /_ _  __| |_ ___ _ __ ___   │</span>                                       \n",
       "                                      <span style=\"color: #800080; text-decoration-color: #800080\">│   \\   / _` |/ _` | / __| '_ ` _ \\  │</span>                                       \n",
       "                                      <span style=\"color: #800080; text-decoration-color: #800080\">│    | | (_| | (_| | \\__ \\ | | | | | │</span>                                       \n",
       "                                      <span style=\"color: #800080; text-decoration-color: #800080\">│    |_|\\__,_|\\__,_|_|___/_| |_| |_| │</span>                                       \n",
       "                                      <span style=\"color: #800080; text-decoration-color: #800080\">│                                    │</span>                                       \n",
       "                                      <span style=\"color: #800080; text-decoration-color: #800080\">└────────────────────────────────────┘</span>                                       \n",
       "</pre>\n"
      ],
      "text/plain": [
       "                                      \u001b[35m┌────────────────────────────────────┐\u001b[0m                                       \n",
       "                                      \u001b[35m│\u001b[0m\u001b[35m                                    \u001b[0m\u001b[35m│\u001b[0m                                       \n",
       "                                      \u001b[35m│\u001b[0m\u001b[35m \u001b[0m\u001b[35m__     __       _ _\u001b[0m\u001b[35m               \u001b[0m\u001b[35m \u001b[0m\u001b[35m│\u001b[0m                                       \n",
       "                                      \u001b[35m│\u001b[0m\u001b[35m \u001b[0m\u001b[35m\\ \\   / /      | (_)\u001b[0m\u001b[35m              \u001b[0m\u001b[35m \u001b[0m\u001b[35m│\u001b[0m                                       \n",
       "                                      \u001b[35m│\u001b[0m\u001b[35m \u001b[0m\u001b[35m \\ \\_/ /_ _  __| |_ ___ _ __ ___\u001b[0m\u001b[35m  \u001b[0m\u001b[35m \u001b[0m\u001b[35m│\u001b[0m                                       \n",
       "                                      \u001b[35m│\u001b[0m\u001b[35m \u001b[0m\u001b[35m  \\   / _` |/ _` | / __| '_ ` _ \\\u001b[0m\u001b[35m \u001b[0m\u001b[35m \u001b[0m\u001b[35m│\u001b[0m                                       \n",
       "                                      \u001b[35m│\u001b[0m\u001b[35m \u001b[0m\u001b[35m   | | (_| | (_| | \\__ \\ | | | | |\u001b[0m\u001b[35m \u001b[0m\u001b[35m│\u001b[0m                                       \n",
       "                                      \u001b[35m│\u001b[0m\u001b[35m \u001b[0m\u001b[35m   |_|\\__,_|\\__,_|_|___/_| |_| |_|\u001b[0m\u001b[35m \u001b[0m\u001b[35m│\u001b[0m                                       \n",
       "                                      \u001b[35m│\u001b[0m\u001b[35m                                    \u001b[0m\u001b[35m│\u001b[0m                                       \n",
       "                                      \u001b[35m└────────────────────────────────────┘\u001b[0m                                       \n"
      ]
     },
     "metadata": {},
     "output_type": "display_data"
    },
    {
     "data": {
      "text/html": [
       "<pre style=\"white-space:pre;overflow-x:auto;line-height:normal;font-family:Menlo,'DejaVu Sans Mono',consolas,'Courier New',monospace\">\n",
       "                                                       <span style=\"font-weight: bold; text-decoration: underline\">Plan</span>                                                        \n",
       "</pre>\n"
      ],
      "text/plain": [
       "\n",
       "                                                       \u001b[1;4mPlan\u001b[0m                                                        \n"
      ]
     },
     "metadata": {},
     "output_type": "display_data"
    },
    {
     "data": {
      "text/html": [
       "<pre style=\"white-space:pre;overflow-x:auto;line-height:normal;font-family:Menlo,'DejaVu Sans Mono',consolas,'Courier New',monospace\">\n",
       "<span style=\"color: #808000; text-decoration-color: #808000; font-weight: bold\"> • </span>F2_charm at 2 pts                                                                                               \n",
       "</pre>\n"
      ],
      "text/plain": [
       "\n",
       "\u001b[1;33m • \u001b[0mF2_charm at 2 pts                                                                                               \n"
      ]
     },
     "metadata": {},
     "output_type": "display_data"
    },
    {
     "data": {
      "text/html": [
       "<pre style=\"white-space:pre;overflow-x:auto;line-height:normal;font-family:Menlo,'DejaVu Sans Mono',consolas,'Courier New',monospace\">\n",
       "                                                    <span style=\"font-weight: bold; text-decoration: underline\">Calculation</span>                                                    \n",
       "</pre>\n"
      ],
      "text/plain": [
       "\n",
       "                                                    \u001b[1;4mCalculation\u001b[0m                                                    \n"
      ]
     },
     "metadata": {},
     "output_type": "display_data"
    },
    {
     "data": {
      "text/html": [
       "<pre style=\"white-space:pre;overflow-x:auto;line-height:normal;font-family:Menlo,'DejaVu Sans Mono',consolas,'Courier New',monospace\">yadism took off! please stay tuned <span style=\"color: #808000; text-decoration-color: #808000\">...</span>\n",
       "</pre>\n"
      ],
      "text/plain": [
       "yadism took off! please stay tuned \u001b[33m...\u001b[0m\n"
      ]
     },
     "metadata": {},
     "output_type": "display_data"
    },
    {
     "data": {
      "text/html": [
       "<pre style=\"white-space:pre;overflow-x:auto;line-height:normal;font-family:Menlo,'DejaVu Sans Mono',consolas,'Courier New',monospace\"></pre>\n"
      ],
      "text/plain": [
       "\u001b[?25l"
      ]
     },
     "metadata": {},
     "output_type": "display_data"
    },
    {
     "data": {
      "application/vnd.jupyter.widget-view+json": {
       "model_id": "965db65e69e44996b552de6a45246148",
       "version_major": 2,
       "version_minor": 0
      },
      "text/plain": [
       "Output()"
      ]
     },
     "metadata": {},
     "output_type": "display_data"
    },
    {
     "data": {
      "text/html": [
       "<pre style=\"white-space:pre;overflow-x:auto;line-height:normal;font-family:Menlo,'DejaVu Sans Mono',consolas,'Courier New',monospace\"><span style=\"color: #7fbfbf; text-decoration-color: #7fbfbf\">[14:08:30] </span><span style=\"color: #000080; text-decoration-color: #000080\">INFO    </span> computing P_qq_0 - took: <span style=\"color: #008080; text-decoration-color: #008080; font-weight: bold\">0.036981</span> s                                      <a href=\"file:///Volumes/Git_Workspace/physicstools/NN3PDF/yadism/src/yadism/esf/scale_variations.py\" target=\"_blank\"><span style=\"color: #7f7f7f; text-decoration-color: #7f7f7f\">scale_variations.py</span></a><span style=\"color: #7f7f7f; text-decoration-color: #7f7f7f\">:</span><a href=\"file:///Volumes/Git_Workspace/physicstools/NN3PDF/yadism/src/yadism/esf/scale_variations.py#85\" target=\"_blank\"><span style=\"color: #7f7f7f; text-decoration-color: #7f7f7f\">85</span></a>\n",
       "Starting... <span style=\"color: #3a3a3a; text-decoration-color: #3a3a3a\">━━━━━━━━━━━━━━━━━━━━━━━━━━━━━━━━━━━━━━━━</span> <span style=\"color: #800080; text-decoration-color: #800080\">  0%</span> <span style=\"color: #008080; text-decoration-color: #008080\">-:--:--</span></pre>\n"
      ],
      "text/plain": [
       "\r\u001b[2K\u001b[2;36m[14:08:30]\u001b[0m\u001b[2;36m \u001b[0m\u001b[34mINFO    \u001b[0m computing P_qq_0 - took: \u001b[1;36m0.036981\u001b[0m s                                      \u001b]8;id=509971;file:///Volumes/Git_Workspace/physicstools/NN3PDF/yadism/src/yadism/esf/scale_variations.py\u001b\\\u001b[2mscale_variations.py\u001b[0m\u001b]8;;\u001b\\\u001b[2m:\u001b[0m\u001b]8;id=246449;file:///Volumes/Git_Workspace/physicstools/NN3PDF/yadism/src/yadism/esf/scale_variations.py#85\u001b\\\u001b[2m85\u001b[0m\u001b]8;;\u001b\\\n",
       "Starting... \u001b[38;5;237m━━━━━━━━━━━━━━━━━━━━━━━━━━━━━━━━━━━━━━━━\u001b[0m \u001b[35m  0%\u001b[0m \u001b[36m-:--:--\u001b[0m"
      ]
     },
     "metadata": {},
     "output_type": "display_data"
    },
    {
     "data": {
      "text/html": [
       "<pre style=\"white-space:pre;overflow-x:auto;line-height:normal;font-family:Menlo,'DejaVu Sans Mono',consolas,'Courier New',monospace\"><span style=\"color: #7fbfbf; text-decoration-color: #7fbfbf\">           </span><span style=\"color: #000080; text-decoration-color: #000080\">INFO    </span> computing P_qg_0 - took: <span style=\"color: #008080; text-decoration-color: #008080; font-weight: bold\">0.023234</span> s                                      <a href=\"file:///Volumes/Git_Workspace/physicstools/NN3PDF/yadism/src/yadism/esf/scale_variations.py\" target=\"_blank\"><span style=\"color: #7f7f7f; text-decoration-color: #7f7f7f\">scale_variations.py</span></a><span style=\"color: #7f7f7f; text-decoration-color: #7f7f7f\">:</span><a href=\"file:///Volumes/Git_Workspace/physicstools/NN3PDF/yadism/src/yadism/esf/scale_variations.py#85\" target=\"_blank\"><span style=\"color: #7f7f7f; text-decoration-color: #7f7f7f\">85</span></a>\n",
       "Starting... <span style=\"color: #3a3a3a; text-decoration-color: #3a3a3a\">━━━━━━━━━━━━━━━━━━━━━━━━━━━━━━━━━━━━━━━━</span> <span style=\"color: #800080; text-decoration-color: #800080\">  0%</span> <span style=\"color: #008080; text-decoration-color: #008080\">-:--:--</span></pre>\n"
      ],
      "text/plain": [
       "\r\u001b[2K\u001b[2;36m          \u001b[0m\u001b[2;36m \u001b[0m\u001b[34mINFO    \u001b[0m computing P_qg_0 - took: \u001b[1;36m0.023234\u001b[0m s                                      \u001b]8;id=371523;file:///Volumes/Git_Workspace/physicstools/NN3PDF/yadism/src/yadism/esf/scale_variations.py\u001b\\\u001b[2mscale_variations.py\u001b[0m\u001b]8;;\u001b\\\u001b[2m:\u001b[0m\u001b]8;id=692913;file:///Volumes/Git_Workspace/physicstools/NN3PDF/yadism/src/yadism/esf/scale_variations.py#85\u001b\\\u001b[2m85\u001b[0m\u001b]8;;\u001b\\\n",
       "Starting... \u001b[38;5;237m━━━━━━━━━━━━━━━━━━━━━━━━━━━━━━━━━━━━━━━━\u001b[0m \u001b[35m  0%\u001b[0m \u001b[36m-:--:--\u001b[0m"
      ]
     },
     "metadata": {},
     "output_type": "display_data"
    },
    {
     "data": {
      "text/html": [
       "<pre style=\"white-space:pre;overflow-x:auto;line-height:normal;font-family:Menlo,'DejaVu Sans Mono',consolas,'Courier New',monospace\">\n",
       "</pre>\n"
      ],
      "text/plain": [
       "\n",
       "\u001b[?25h\r\u001b[1A\u001b[2K"
      ]
     },
     "metadata": {},
     "output_type": "display_data"
    },
    {
     "data": {
      "text/html": [
       "<pre style=\"white-space:pre;overflow-x:auto;line-height:normal;font-family:Menlo,'DejaVu Sans Mono',consolas,'Courier New',monospace\"><span style=\"color: #008080; text-decoration-color: #008080\">took </span><span style=\"color: #008080; text-decoration-color: #008080; font-weight: bold\">0.22</span><span style=\"color: #008080; text-decoration-color: #008080\"> s</span>\n",
       "</pre>\n"
      ],
      "text/plain": [
       "\u001b[36mtook \u001b[0m\u001b[1;36m0.22\u001b[0m\u001b[36m s\u001b[0m\n"
      ]
     },
     "metadata": {},
     "output_type": "display_data"
    },
    {
     "data": {
      "text/html": [
       "<pre style=\"white-space:pre;overflow-x:auto;line-height:normal;font-family:Menlo,'DejaVu Sans Mono',consolas,'Courier New',monospace\"><span style=\"color: #7fbfbf; text-decoration-color: #7fbfbf\">           </span><span style=\"color: #000080; text-decoration-color: #000080\">INFO    </span> Atlas <span style=\"font-weight: bold\">[</span><span style=\"color: #008080; text-decoration-color: #008080; font-weight: bold\">0.00e+00</span> - <span style=\"color: #008080; text-decoration-color: #008080; font-weight: bold\">2.28e+00</span> - <span style=\"color: #008080; text-decoration-color: #008080; font-weight: bold\">2.42e+01</span> - <span style=\"color: #008080; text-decoration-color: #008080; font-weight: bold\">2.98e+04</span> - inf<span style=\"font-weight: bold\">]</span>, <span style=\"color: #808000; text-decoration-color: #808000\">ref</span>=<span style=\"color: #008080; text-decoration-color: #008080; font-weight: bold\">8317.44</span> @ <span style=\"color: #008080; text-decoration-color: #008080; font-weight: bold\">5</span>        <a href=\"file:///Users/giacomomagni/.conda/envs/yad_dev/lib/python3.10/site-packages/eko/matchings.py\" target=\"_blank\"><span style=\"color: #7f7f7f; text-decoration-color: #7f7f7f\">matchings.py</span></a><span style=\"color: #7f7f7f; text-decoration-color: #7f7f7f\">:</span><a href=\"file:///Users/giacomomagni/.conda/envs/yad_dev/lib/python3.10/site-packages/eko/matchings.py#72\" target=\"_blank\"><span style=\"color: #7f7f7f; text-decoration-color: #7f7f7f\">72</span></a>\n",
       "</pre>\n"
      ],
      "text/plain": [
       "\u001b[2;36m          \u001b[0m\u001b[2;36m \u001b[0m\u001b[34mINFO    \u001b[0m Atlas \u001b[1m[\u001b[0m\u001b[1;36m0.00e+00\u001b[0m - \u001b[1;36m2.28e+00\u001b[0m - \u001b[1;36m2.42e+01\u001b[0m - \u001b[1;36m2.98e+04\u001b[0m - inf\u001b[1m]\u001b[0m, \u001b[33mref\u001b[0m=\u001b[1;36m8317\u001b[0m\u001b[1;36m.44\u001b[0m @ \u001b[1;36m5\u001b[0m        \u001b]8;id=929556;file:///Users/giacomomagni/.conda/envs/yad_dev/lib/python3.10/site-packages/eko/matchings.py\u001b\\\u001b[2mmatchings.py\u001b[0m\u001b]8;;\u001b\\\u001b[2m:\u001b[0m\u001b]8;id=311260;file:///Users/giacomomagni/.conda/envs/yad_dev/lib/python3.10/site-packages/eko/matchings.py#72\u001b\\\u001b[2m72\u001b[0m\u001b]8;;\u001b\\\n"
      ]
     },
     "metadata": {},
     "output_type": "display_data"
    },
    {
     "data": {
      "text/html": [
       "<pre style=\"white-space:pre;overflow-x:auto;line-height:normal;font-family:Menlo,'DejaVu Sans Mono',consolas,'Courier New',monospace\"><span style=\"color: #7fbfbf; text-decoration-color: #7fbfbf\">           </span><span style=\"color: #000080; text-decoration-color: #000080\">INFO    </span> Strong Coupling: <span style=\"color: #800080; text-decoration-color: #800080; font-weight: bold\">a_s</span><span style=\"font-weight: bold\">(</span>µ_R^<span style=\"color: #008080; text-decoration-color: #008080; font-weight: bold\">2</span>=<span style=\"color: #008080; text-decoration-color: #008080; font-weight: bold\">8317.440000</span><span style=\"font-weight: bold\">)</span>^<span style=\"font-weight: bold\">(</span><span style=\"color: #808000; text-decoration-color: #808000\">nf</span>=<span style=\"color: #008080; text-decoration-color: #008080; font-weight: bold\">5</span><span style=\"font-weight: bold\">)</span>=<span style=\"color: #008080; text-decoration-color: #008080; font-weight: bold\">0.009390</span>=<span style=\"color: #008080; text-decoration-color: #008080; font-weight: bold\">0.118000</span>/<span style=\"font-weight: bold\">(</span>4π<span style=\"font-weight: bold\">)</span>          <a href=\"file:///Users/giacomomagni/.conda/envs/yad_dev/lib/python3.10/site-packages/eko/couplings.py\" target=\"_blank\"><span style=\"color: #7f7f7f; text-decoration-color: #7f7f7f\">couplings.py</span></a><span style=\"color: #7f7f7f; text-decoration-color: #7f7f7f\">:</span><a href=\"file:///Users/giacomomagni/.conda/envs/yad_dev/lib/python3.10/site-packages/eko/couplings.py#464\" target=\"_blank\"><span style=\"color: #7f7f7f; text-decoration-color: #7f7f7f\">464</span></a>\n",
       "</pre>\n"
      ],
      "text/plain": [
       "\u001b[2;36m          \u001b[0m\u001b[2;36m \u001b[0m\u001b[34mINFO    \u001b[0m Strong Coupling: \u001b[1;35ma_s\u001b[0m\u001b[1m(\u001b[0mµ_R^\u001b[1;36m2\u001b[0m=\u001b[1;36m8317\u001b[0m\u001b[1;36m.440000\u001b[0m\u001b[1m)\u001b[0m^\u001b[1m(\u001b[0m\u001b[33mnf\u001b[0m=\u001b[1;36m5\u001b[0m\u001b[1m)\u001b[0m=\u001b[1;36m0.\u001b[0m\u001b[1;36m009390\u001b[0m=\u001b[1;36m0\u001b[0m\u001b[1;36m.118000\u001b[0m/\u001b[1m(\u001b[0m4π\u001b[1m)\u001b[0m          \u001b]8;id=486822;file:///Users/giacomomagni/.conda/envs/yad_dev/lib/python3.10/site-packages/eko/couplings.py\u001b\\\u001b[2mcouplings.py\u001b[0m\u001b]8;;\u001b\\\u001b[2m:\u001b[0m\u001b]8;id=754730;file:///Users/giacomomagni/.conda/envs/yad_dev/lib/python3.10/site-packages/eko/couplings.py#464\u001b\\\u001b[2m464\u001b[0m\u001b]8;;\u001b\\\n"
      ]
     },
     "metadata": {},
     "output_type": "display_data"
    },
    {
     "data": {
      "text/html": [
       "<pre style=\"white-space:pre;overflow-x:auto;line-height:normal;font-family:Menlo,'DejaVu Sans Mono',consolas,'Courier New',monospace\"><span style=\"color: #7fbfbf; text-decoration-color: #7fbfbf\">           </span><span style=\"color: #000080; text-decoration-color: #000080\">INFO    </span> Atlas <span style=\"font-weight: bold\">[</span><span style=\"color: #008080; text-decoration-color: #008080; font-weight: bold\">0.00e+00</span> - <span style=\"color: #008080; text-decoration-color: #008080; font-weight: bold\">2.28e+00</span> - <span style=\"color: #008080; text-decoration-color: #008080; font-weight: bold\">2.42e+01</span> - <span style=\"color: #008080; text-decoration-color: #008080; font-weight: bold\">2.98e+04</span> - inf<span style=\"font-weight: bold\">]</span>, <span style=\"color: #808000; text-decoration-color: #808000\">ref</span>=<span style=\"color: #008080; text-decoration-color: #008080; font-weight: bold\">8317.44</span> @ <span style=\"color: #008080; text-decoration-color: #008080; font-weight: bold\">5</span>        <a href=\"file:///Users/giacomomagni/.conda/envs/yad_dev/lib/python3.10/site-packages/eko/matchings.py\" target=\"_blank\"><span style=\"color: #7f7f7f; text-decoration-color: #7f7f7f\">matchings.py</span></a><span style=\"color: #7f7f7f; text-decoration-color: #7f7f7f\">:</span><a href=\"file:///Users/giacomomagni/.conda/envs/yad_dev/lib/python3.10/site-packages/eko/matchings.py#72\" target=\"_blank\"><span style=\"color: #7f7f7f; text-decoration-color: #7f7f7f\">72</span></a>\n",
       "</pre>\n"
      ],
      "text/plain": [
       "\u001b[2;36m          \u001b[0m\u001b[2;36m \u001b[0m\u001b[34mINFO    \u001b[0m Atlas \u001b[1m[\u001b[0m\u001b[1;36m0.00e+00\u001b[0m - \u001b[1;36m2.28e+00\u001b[0m - \u001b[1;36m2.42e+01\u001b[0m - \u001b[1;36m2.98e+04\u001b[0m - inf\u001b[1m]\u001b[0m, \u001b[33mref\u001b[0m=\u001b[1;36m8317\u001b[0m\u001b[1;36m.44\u001b[0m @ \u001b[1;36m5\u001b[0m        \u001b]8;id=708339;file:///Users/giacomomagni/.conda/envs/yad_dev/lib/python3.10/site-packages/eko/matchings.py\u001b\\\u001b[2mmatchings.py\u001b[0m\u001b]8;;\u001b\\\u001b[2m:\u001b[0m\u001b]8;id=81565;file:///Users/giacomomagni/.conda/envs/yad_dev/lib/python3.10/site-packages/eko/matchings.py#72\u001b\\\u001b[2m72\u001b[0m\u001b]8;;\u001b\\\n"
      ]
     },
     "metadata": {},
     "output_type": "display_data"
    }
   ],
   "source": [
    "import yadism\n",
    "\n",
    "# Define the settings for the different contributions to the FONLL observable\n",
    "settings_list = [\n",
    "    [\"FONLL-FFNS\", 3, \"full\", \"NNPDF40_evolved_nf3\"],\n",
    "    [\"FONLL-FFN0\", 3, \"full\", \"NNPDF40_evolved_nf3\"],\n",
    "    [\"FONLL-FFNS\", 4, \"massless\", \"NNPDF40_evolved_nf4\"],\n",
    "    [\"FONLL-FFN0\", 4, \"full\", \"NNPDF40_evolved_nf4\"],\n",
    "    [\"FONLL-FFNS\", 5, \"full\", \"NNPDF40_evolved_nf5\"],\n",
    "]\n",
    "\n",
    "single_scheme_result = []\n",
    "# Iterate parts\n",
    "for fns, nf, fonllparts, pdfname in settings_list:\n",
    "    # Replace the relevant settings in the theory card\n",
    "    theorycard[\"FNS\"] = fns\n",
    "    theorycard[\"NfFF\"] = nf\n",
    "    theorycard[\"FONLLParts\"] = fonllparts\n",
    "    pdf = lhapdf.mkPDF(pdfname)\n",
    "\n",
    "    # Compute the observable in each of the schemes defined in settings_list\n",
    "    out = yadism.run_yadism(theorycard, observablecard)\n",
    "\n",
    "    # Store the results in single_scheme_result\n",
    "    single_scheme_result.append(out.apply_pdf(pdf))\n",
    "\n",
    "# Extract the different terms form single_scheme_result and combine them to\n",
    "# obtain the coexisting flavor number scheme FONLL result\n",
    "result = {}\n",
    "for observable_name, kinematic_points in single_scheme_result[0].items():\n",
    "    result[observable_name] = []\n",
    "    for i in range(len(kinematic_points)):\n",
    "        result[observable_name].append(\n",
    "            single_scheme_result[0][observable_name][i][\"result\"]  # FONLL-FFNS3\n",
    "            - single_scheme_result[1][observable_name][i][\"result\"]  # FONLL-FFN03\n",
    "            + single_scheme_result[2][observable_name][i][\"result\"]  # FONLL-FFNS4\n",
    "            - single_scheme_result[3][observable_name][i][\"result\"]  # FONLL-FFN04\n",
    "            + single_scheme_result[4][observable_name][i][\"result\"]  # FONLL-FFNS5\n",
    "        )"
   ]
  },
  {
   "cell_type": "code",
   "execution_count": 54,
   "id": "af97aab2",
   "metadata": {},
   "outputs": [
    {
     "data": {
      "text/plain": [
       "{'F2_charm': [1036.7275411503838, -303.19449001078374]}"
      ]
     },
     "execution_count": 54,
     "metadata": {},
     "output_type": "execute_result"
    }
   ],
   "source": [
    "result"
   ]
  },
  {
   "cell_type": "code",
   "execution_count": null,
   "metadata": {},
   "outputs": [],
   "source": []
  }
 ],
 "metadata": {
  "kernelspec": {
   "display_name": "yadism-QljnF84o-py3.12",
   "language": "python",
   "name": "yadism-qljnf84o-py3.12"
  },
  "language_info": {
   "codemirror_mode": {
    "name": "ipython",
    "version": 3
   },
   "file_extension": ".py",
   "mimetype": "text/x-python",
   "name": "python",
   "nbconvert_exporter": "python",
   "pygments_lexer": "ipython3",
   "version": "3.12.4"
  }
 },
 "nbformat": 4,
 "nbformat_minor": 5
}
