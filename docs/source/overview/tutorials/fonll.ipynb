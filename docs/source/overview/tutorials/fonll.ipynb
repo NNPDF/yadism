{
 "cells": [
  {
   "cell_type": "markdown",
   "id": "8dc7e32e",
   "metadata": {},
   "source": [
    "# Computing observables in the FONLL scheme\n",
    "\n",
    "The actual implementation of FONLL observables requires \n",
    "the computation of the partonic coefficients functions using different\n",
    "FFNS settings with `yadism` and the possibility to compute coexisting flavor number PDFs, \n",
    "which is provided by the `EKO` library.\n",
    "In this tutorial we explain, using an example, how observables can be calculated using a fixed input PDF by evolving it to the three different flavor number schemes."
   ]
  },
  {
   "cell_type": "markdown",
   "id": "d523eb17",
   "metadata": {},
   "source": [
    "As a first step we define the define the inputs needed for a computation of a DIS observable. \n",
    "In the following example we will compute predictions for $F_{2c}$."
   ]
  },
  {
   "cell_type": "code",
   "execution_count": 1,
   "id": "d359e703",
   "metadata": {},
   "outputs": [],
   "source": [
    "# Define a DIS observable runcard:\n",
    "observablecard = {\n",
    "    # Process type: \"EM\", \"NC\", \"CC\"\n",
    "    \"prDIS\": \"NC\",\n",
    "    # Projectile: \"electron\", \"positron\", \"neutrino\", \"antineutrino\"\n",
    "    \"ProjectileDIS\": \"electron\",\n",
    "    # Scattering target: \"proton\", \"neutron\", \"isoscalar\", \"lead\", \"iron\", \"neon\" or \"marble\"\n",
    "    \"TargetDIS\": \"proton\",\n",
    "    # Interpolation: if True use log interpolation\n",
    "    \"interpolation_is_log\": True,\n",
    "    # Interpolation: polynomial degree, 1 = linear, ...\n",
    "    \"interpolation_polynomial_degree\": 4,\n",
    "    # Interpolation: xgrid values\n",
    "    # Note: for illustrative purposes the grid is chosen very small here\n",
    "    \"interpolation_xgrid\": [1e-7, 1e-6, 1e-5, 1e-4, 1e-3, 1e-2, 1e-1, 1.0],\n",
    "    # Observables configurations\n",
    "    \"observables\": {\n",
    "      \"F2_charm\": [\n",
    "        {\n",
    "            \"y\": 0.,\n",
    "            \"x\": 1e-4,\n",
    "            \"Q2\": 15.0,\n",
    "        },\n",
    "        {\n",
    "            \"y\": 0.,\n",
    "            \"x\": 1e-3,\n",
    "            \"Q2\": 15.0,\n",
    "        },\n",
    "        # Add here the kinematics of other datapoints\n",
    "      ],\n",
    "      # Potentially include observables other than F2_charm,\n",
    "      # each of them has to be: TYPE_heaviness, where heaviness can take:\n",
    "      # \"charm\", \"bottom\", \"total\" or \"light\".\n",
    "    },\n",
    "    # Projectile polarization faction, float from 0 to 1.\n",
    "    \"PolarizationDIS\": 0.0,\n",
    "    # Exchanged boson propagator correction\n",
    "    \"PropagatorCorrection\": 0.0,\n",
    "    # Restrict boson coupling to a single parton ? Monte Carlo PID or None for all partons\n",
    "    \"NCPositivityCharge\": None,\n",
    "}\n",
    "\n",
    "# Define the theory parameters:\n",
    "theorycard = {\n",
    "    \"CKM\": \"0.97428 0.22530 0.003470 0.22520 0.97345 0.041000 0.00862 0.04030 0.999152\", # CKM matrix elements\n",
    "    \"GF\": 1.1663787e-05, # [GeV^-2] Fermi coupling constant\n",
    "    \"MP\": 0.938, # [GeV] proton mass\n",
    "    \"MW\": 80.398, # [GeV] W boson mass\n",
    "    \"MZ\": 91.1876, # [GeV] Z boson mass\n",
    "    \"mc\": 1.51, # [GeV] charm mass\n",
    "    \"mb\": 4.92, # [GeV] bottom mass\n",
    "    \"mt\": 172.5, # [GeV] top mass\n",
    "    \"kcThr\": 1.0, # ratio of the charm matching scale over the charm mass\n",
    "    \"kbThr\": 1.0, # ratio of the bottom matching scale over the bottom mass\n",
    "    \"ktThr\": 1.0, # ratio of the top matching scale over the top mass\n",
    "    \"alphas\": 0.118, # alphas value at the reference scale\n",
    "    \"Q0\": 1.65, # [GeV] reference scale for the flavor patch determination\n",
    "    \"nf0\": 4, # number of active flavors at the Q0 reference scale\n",
    "    \"PTO\": 0, # perturbative order in alpha_s: 0 = LO (alpha_s^0), 1 = NLO (alpha_s^1) ...\n",
    "    \"alphaqed\": 0.007496252, # alpha_em value\n",
    "    \"Qref\": 91.2, # [GeV] reference scale for the alphas value\n",
    "    \"nfref\": 5, # number of active flavors at the reference scale Qref\n",
    "    \"QED\": 0, # QED correction to running of strong coupling: 0 = disabled, 1 = allowed\n",
    "    \"XIF\": 1.0, # ratio of factorization scale over the hard scattering scale\n",
    "    \"XIR\": 1.0, # ratio of renormalization scale over the hard scattering scale\n",
    "    \"TMC\": 1, # include target mass corrections: 0 = disabled, 1 = leading twist, 2 = higher twist approximated, 3 = higher twist exact\n",
    "    \"n3lo_cf_variation\": 0, # N3LO coefficient functions variation: -1 = lower bound, 0 = central , 1 = upper bound\n",
    "    \"MaxNfAs\": 5, # maximum number of flavors in running of strong coupling\n",
    "    \"HQ\": \"POLE\", # heavy quark mass scheme (only for DGLAP evolution)\n",
    "    \"MaxNfPdf\": 5, # maximum number of flavors in running of PDFs (needed by pineko)\n",
    "    \"IC\": 1, # 0 = perturbative charm only, 1 = intrinsic charm allowed\n",
    "    \"ModEv\": \"EXA\",  # alphas evolution method, \"EXA\" = \"exact\", \"TRN\" = \"truncated\"\n",
    "}\n",
    "\n",
    "# Define the PDF evolution grid and other DGLAP evolution parameters\n",
    "operatorcard = {\n",
    "    # Evolution starting scale\n",
    "    'mu0': theorycard[\"Q0\"],\n",
    "    # Evolution final scales: add here all the points needed in the evolved PDF\n",
    "    # with the corresponding active number of flavor (Q_i, nf_i)\n",
    "    # (we will update this entry later)\n",
    "    'mugrid': [(10.0, 5),(15.0, 5),(20.0, 5),],\n",
    "    # specify an interpolation grid\n",
    "    'xgrid': [1e-7, 1e-6, 1e-5, 1e-4, 1e-3, 1e-2, 1e-1, 1.0],\n",
    "    # DGLAP evolution settings\n",
    "    'configs': {\n",
    "        # evolution method: 'iterate-exact', 'iterate-expanded', 'truncated' ... see https://eko.readthedocs.io/en/latest/theory/DGLAP.html\n",
    "        'evolution_method': 'iterate-exact',\n",
    "        # other evolution parameters. See https://eko.readthedocs.io/en/latest/theory/DGLAP.html\n",
    "        'ev_op_max_order': [10, 0],\n",
    "        'ev_op_iterations': 10,\n",
    "        # Interpolation: polynomial degree, 1 = linear, ...\n",
    "        'interpolation_polynomial_degree': 4,\n",
    "        # Interpolation: if True use log interpolation\n",
    "        'interpolation_is_log': True,\n",
    "        # Scale variations: \"None\", \"expanded\", \"exponentiated\"\n",
    "        'scvar_method': None,\n",
    "        # Backward evolution matching inversion: \"None\", \"expanded\", \"exact\"\n",
    "        'inversion_method': None,\n",
    "        # Number of parallel cores to use: 0 = all, 1 = one, -1 = all but one ...\n",
    "        'n_integration_cores': 1,\n",
    "        # Polarized evolution ?\n",
    "        'polarized': False,\n",
    "        # Time like evolution ?\n",
    "        'time_like': False\n",
    "    },\n",
    "    # Debug options\n",
    "    'debug': {\n",
    "        'skip_singlet': False,\n",
    "        'skip_non_singlet': False\n",
    "    }\n",
    "}"
   ]
  },
  {
   "cell_type": "markdown",
   "id": "2907d131",
   "metadata": {},
   "source": [
    "Then we compute the necessary coexisting flavor number PDFs starting from a given PDF defined for some value of $Q$ and corresponding $n_f$\n",
    "using `EKO` (for more detailed information on the use of `EKO` we refer to the [documentation](https://eko.readthedocs.io) ).\n",
    "Here, we show how to evolve `NNPDF40_nnlo_as_01180` to produce three PDFs in FFNS3, FFNS4, and FFNS5 respectively."
   ]
  },
  {
   "cell_type": "code",
   "execution_count": 2,
   "id": "b001ecf8",
   "metadata": {},
   "outputs": [
    {
     "name": "stdout",
     "output_type": "stream",
     "text": [
      "LHAPDF 6.5.4 loading /home/felix/local/share/LHAPDF/NNPDF40_nnlo_as_01180/NNPDF40_nnlo_as_01180_0000.dat\n",
      "NNPDF40_nnlo_as_01180 PDF set, member #0, version 1; LHAPDF ID = 331100\n"
     ]
    },
    {
     "name": "stderr",
     "output_type": "stream",
     "text": [
      "Overwriting old PDF installation\n"
     ]
    },
    {
     "name": "stdout",
     "output_type": "stream",
     "text": [
      "install_pdf NNPDF40_evolved_nf3\n"
     ]
    },
    {
     "name": "stderr",
     "output_type": "stream",
     "text": [
      "Overwriting old PDF installation\n"
     ]
    },
    {
     "name": "stdout",
     "output_type": "stream",
     "text": [
      "install_pdf NNPDF40_evolved_nf4\n"
     ]
    },
    {
     "name": "stderr",
     "output_type": "stream",
     "text": [
      "Overwriting old PDF installation\n"
     ]
    },
    {
     "name": "stdout",
     "output_type": "stream",
     "text": [
      "install_pdf NNPDF40_evolved_nf5\n"
     ]
    }
   ],
   "source": [
    "import lhapdf\n",
    "from eko.io import runcards\n",
    "from ekobox.evol_pdf import evolve_pdfs\n",
    "\n",
    "# Define the PDF for which we want to make the prediction\n",
    "# Here we take the replica 0 of NNPDF4.0 - remember to have it available via LHAPDF.\n",
    "# You can install it if necessary via `lhapdf get NNPDF40_nnlo_as_01180`.\n",
    "input_pdf = lhapdf.mkPDF(\"NNPDF40_nnlo_as_01180\", 0)\n",
    "\n",
    "# Build eko-like runcards objects\n",
    "theory_card = runcards.Legacy(theorycard, {}).new_theory\n",
    "operators_card = runcards.OperatorCard.from_dict(operatorcard)\n",
    "\n",
    "# Iterate the flavor numbers\n",
    "for nf in [3, 4, 5]:\n",
    "    # Update the nf value in the mugrid\n",
    "    operators_card.mugrid = [(mu, nf) for (mu,_) in operators_card.mugrid]\n",
    "\n",
    "    # Evolve the LHAPDF grid and store the output\n",
    "    evolve_pdfs(\n",
    "        initial_PDF_list=[input_pdf],\n",
    "        theory_card=theory_card,\n",
    "        operators_card=operators_card,\n",
    "        store_path=f\"eko_nf{nf}.tar\",  # where to store the eko\n",
    "        install=True, # Install in the evolved PDF in the LHAPDF directory\n",
    "        name=f\"NNPDF40_evolved_nf{nf}\",  # name of the evolved pdf\n",
    "    )"
   ]
  },
  {
   "cell_type": "markdown",
   "id": "1ec4dbbc",
   "metadata": {},
   "source": [
    "Next, we compute the coefficient functions using `yadism` and convolve them with the three PDFs generated in the script above. \n",
    "The example script works for `FONLL-A` and `FONLL-C` without damping. \n",
    "`FONLL-B` requires more care as one has to compute the same coefficient functions but at different perturbative orders.\n",
    "Also note that the script below just combines various FFNSs, but does not produce a full VFNS.\n",
    "For example, one might want to introduce here a dumping function to turn off e.g. $n_f=4$ contributions \n",
    "below the charm matching scale."
   ]
  },
  {
   "cell_type": "code",
   "execution_count": 3,
   "id": "0aec5c71",
   "metadata": {},
   "outputs": [
    {
     "name": "stdout",
     "output_type": "stream",
     "text": [
      "LHAPDF 6.5.4 loading /home/felix/local/share/LHAPDF/NNPDF40_evolved_nf3/NNPDF40_evolved_nf3_0000.dat\n",
      "NNPDF40_evolved_nf3 PDF set, member #0, version 1\n"
     ]
    },
    {
     "data": {
      "text/html": [
       "<pre style=\"white-space:pre;overflow-x:auto;line-height:normal;font-family:Menlo,'DejaVu Sans Mono',consolas,'Courier New',monospace\">                                      <span style=\"color: #800080; text-decoration-color: #800080\">┌────────────────────────────────────┐</span>                                       \n",
       "                                      <span style=\"color: #800080; text-decoration-color: #800080\">│                                    │</span>                                       \n",
       "                                      <span style=\"color: #800080; text-decoration-color: #800080\">│ __     __       _ _                │</span>                                       \n",
       "                                      <span style=\"color: #800080; text-decoration-color: #800080\">│ \\ \\   / /      | (_)               │</span>                                       \n",
       "                                      <span style=\"color: #800080; text-decoration-color: #800080\">│  \\ \\_/ /_ _  __| |_ ___ _ __ ___   │</span>                                       \n",
       "                                      <span style=\"color: #800080; text-decoration-color: #800080\">│   \\   / _` |/ _` | / __| '_ ` _ \\  │</span>                                       \n",
       "                                      <span style=\"color: #800080; text-decoration-color: #800080\">│    | | (_| | (_| | \\__ \\ | | | | | │</span>                                       \n",
       "                                      <span style=\"color: #800080; text-decoration-color: #800080\">│    |_|\\__,_|\\__,_|_|___/_| |_| |_| │</span>                                       \n",
       "                                      <span style=\"color: #800080; text-decoration-color: #800080\">│                                    │</span>                                       \n",
       "                                      <span style=\"color: #800080; text-decoration-color: #800080\">└────────────────────────────────────┘</span>                                       \n",
       "</pre>\n"
      ],
      "text/plain": [
       "                                      \u001b[35m┌────────────────────────────────────┐\u001b[0m                                       \n",
       "                                      \u001b[35m│\u001b[0m\u001b[35m                                    \u001b[0m\u001b[35m│\u001b[0m                                       \n",
       "                                      \u001b[35m│\u001b[0m\u001b[35m \u001b[0m\u001b[35m__     __       _ _\u001b[0m\u001b[35m               \u001b[0m\u001b[35m \u001b[0m\u001b[35m│\u001b[0m                                       \n",
       "                                      \u001b[35m│\u001b[0m\u001b[35m \u001b[0m\u001b[35m\\ \\   / /      | (_)\u001b[0m\u001b[35m              \u001b[0m\u001b[35m \u001b[0m\u001b[35m│\u001b[0m                                       \n",
       "                                      \u001b[35m│\u001b[0m\u001b[35m \u001b[0m\u001b[35m \\ \\_/ /_ _  __| |_ ___ _ __ ___\u001b[0m\u001b[35m  \u001b[0m\u001b[35m \u001b[0m\u001b[35m│\u001b[0m                                       \n",
       "                                      \u001b[35m│\u001b[0m\u001b[35m \u001b[0m\u001b[35m  \\   / _` |/ _` | / __| '_ ` _ \\\u001b[0m\u001b[35m \u001b[0m\u001b[35m \u001b[0m\u001b[35m│\u001b[0m                                       \n",
       "                                      \u001b[35m│\u001b[0m\u001b[35m \u001b[0m\u001b[35m   | | (_| | (_| | \\__ \\ | | | | |\u001b[0m\u001b[35m \u001b[0m\u001b[35m│\u001b[0m                                       \n",
       "                                      \u001b[35m│\u001b[0m\u001b[35m \u001b[0m\u001b[35m   |_|\\__,_|\\__,_|_|___/_| |_| |_|\u001b[0m\u001b[35m \u001b[0m\u001b[35m│\u001b[0m                                       \n",
       "                                      \u001b[35m│\u001b[0m\u001b[35m                                    \u001b[0m\u001b[35m│\u001b[0m                                       \n",
       "                                      \u001b[35m└────────────────────────────────────┘\u001b[0m                                       \n"
      ]
     },
     "metadata": {},
     "output_type": "display_data"
    },
    {
     "data": {
      "text/html": [
       "<pre style=\"white-space:pre;overflow-x:auto;line-height:normal;font-family:Menlo,'DejaVu Sans Mono',consolas,'Courier New',monospace\">\n",
       "                                                       <span style=\"font-weight: bold; text-decoration: underline\">Plan</span>                                                        \n",
       "</pre>\n"
      ],
      "text/plain": [
       "\n",
       "                                                       \u001b[1;4mPlan\u001b[0m                                                        \n"
      ]
     },
     "metadata": {},
     "output_type": "display_data"
    },
    {
     "data": {
      "text/html": [
       "<pre style=\"white-space:pre;overflow-x:auto;line-height:normal;font-family:Menlo,'DejaVu Sans Mono',consolas,'Courier New',monospace\">\n",
       "<span style=\"color: #808000; text-decoration-color: #808000; font-weight: bold\"> • </span>F2_charm at 2 pts                                                                                               \n",
       "</pre>\n"
      ],
      "text/plain": [
       "\n",
       "\u001b[1;33m • \u001b[0mF2_charm at 2 pts                                                                                               \n"
      ]
     },
     "metadata": {},
     "output_type": "display_data"
    },
    {
     "data": {
      "text/html": [
       "<pre style=\"white-space:pre;overflow-x:auto;line-height:normal;font-family:Menlo,'DejaVu Sans Mono',consolas,'Courier New',monospace\">\n",
       "                                                    <span style=\"font-weight: bold; text-decoration: underline\">Calculation</span>                                                    \n",
       "</pre>\n"
      ],
      "text/plain": [
       "\n",
       "                                                    \u001b[1;4mCalculation\u001b[0m                                                    \n"
      ]
     },
     "metadata": {},
     "output_type": "display_data"
    },
    {
     "data": {
      "text/html": [
       "<pre style=\"white-space:pre;overflow-x:auto;line-height:normal;font-family:Menlo,'DejaVu Sans Mono',consolas,'Courier New',monospace\">yadism took off! please stay tuned <span style=\"color: #808000; text-decoration-color: #808000\">...</span>\n",
       "</pre>\n"
      ],
      "text/plain": [
       "yadism took off! please stay tuned \u001b[33m...\u001b[0m\n"
      ]
     },
     "metadata": {},
     "output_type": "display_data"
    },
    {
     "data": {
      "text/html": [
       "<pre style=\"white-space:pre;overflow-x:auto;line-height:normal;font-family:Menlo,'DejaVu Sans Mono',consolas,'Courier New',monospace\"></pre>\n"
      ],
      "text/plain": [
       "\u001b[?25l"
      ]
     },
     "metadata": {},
     "output_type": "display_data"
    },
    {
     "data": {
      "text/html": [
       "<pre style=\"white-space:pre;overflow-x:auto;line-height:normal;font-family:Menlo,'DejaVu Sans Mono',consolas,'Courier New',monospace\">/home/felix/.cache/pypoetry/virtualenvs/yadism-QljnF84o-py3.12/lib/python3.12/site-packages/rich/live.py:229: \n",
       "UserWarning: install \"ipywidgets\" for Jupyter support\n",
       "  warnings.warn('install \"ipywidgets\" for Jupyter support')\n",
       "</pre>\n"
      ],
      "text/plain": [
       "/home/felix/.cache/pypoetry/virtualenvs/yadism-QljnF84o-py3.12/lib/python3.12/site-packages/rich/live.py:229: \n",
       "UserWarning: install \"ipywidgets\" for Jupyter support\n",
       "  warnings.warn('install \"ipywidgets\" for Jupyter support')\n"
      ]
     },
     "metadata": {},
     "output_type": "display_data"
    },
    {
     "data": {
      "text/html": [
       "<pre style=\"white-space:pre;overflow-x:auto;line-height:normal;font-family:Menlo,'DejaVu Sans Mono',consolas,'Courier New',monospace\">\n",
       "</pre>\n"
      ],
      "text/plain": [
       "\n",
       "\u001b[?25h\r"
      ]
     },
     "metadata": {},
     "output_type": "display_data"
    },
    {
     "data": {
      "text/html": [
       "<pre style=\"white-space:pre;overflow-x:auto;line-height:normal;font-family:Menlo,'DejaVu Sans Mono',consolas,'Courier New',monospace\"><span style=\"color: #008080; text-decoration-color: #008080\">took </span><span style=\"color: #008080; text-decoration-color: #008080; font-weight: bold\">0.68</span><span style=\"color: #008080; text-decoration-color: #008080\"> s</span>\n",
       "</pre>\n"
      ],
      "text/plain": [
       "\u001b[36mtook \u001b[0m\u001b[1;36m0.68\u001b[0m\u001b[36m s\u001b[0m\n"
      ]
     },
     "metadata": {},
     "output_type": "display_data"
    },
    {
     "data": {
      "text/html": [
       "<pre style=\"white-space:pre;overflow-x:auto;line-height:normal;font-family:Menlo,'DejaVu Sans Mono',consolas,'Courier New',monospace\"><span style=\"color: #7fbfbf; text-decoration-color: #7fbfbf\">[14:30:45] </span><span style=\"color: #000080; text-decoration-color: #000080\">INFO    </span> Atlas <span style=\"font-weight: bold\">[</span><span style=\"color: #008080; text-decoration-color: #008080; font-weight: bold\">0.00e+00</span> - <span style=\"color: #008080; text-decoration-color: #008080; font-weight: bold\">2.28e+00</span> - <span style=\"color: #008080; text-decoration-color: #008080; font-weight: bold\">2.42e+01</span> - <span style=\"color: #008080; text-decoration-color: #008080; font-weight: bold\">2.98e+04</span> - inf<span style=\"font-weight: bold\">]</span>, <span style=\"color: #808000; text-decoration-color: #808000\">ref</span>=<span style=\"color: #008080; text-decoration-color: #008080; font-weight: bold\">8317.44</span> @ <span style=\"color: #008080; text-decoration-color: #008080; font-weight: bold\">5</span>        <a href=\"file:///home/felix/.cache/pypoetry/virtualenvs/yadism-QljnF84o-py3.12/lib/python3.12/site-packages/eko/matchings.py\" target=\"_blank\"><span style=\"color: #7f7f7f; text-decoration-color: #7f7f7f\">matchings.py</span></a><span style=\"color: #7f7f7f; text-decoration-color: #7f7f7f\">:</span><a href=\"file:///home/felix/.cache/pypoetry/virtualenvs/yadism-QljnF84o-py3.12/lib/python3.12/site-packages/eko/matchings.py#72\" target=\"_blank\"><span style=\"color: #7f7f7f; text-decoration-color: #7f7f7f\">72</span></a>\n",
       "</pre>\n"
      ],
      "text/plain": [
       "\u001b[2;36m[14:30:45]\u001b[0m\u001b[2;36m \u001b[0m\u001b[34mINFO    \u001b[0m Atlas \u001b[1m[\u001b[0m\u001b[1;36m0.00e+00\u001b[0m - \u001b[1;36m2.28e+00\u001b[0m - \u001b[1;36m2.42e+01\u001b[0m - \u001b[1;36m2.98e+04\u001b[0m - inf\u001b[1m]\u001b[0m, \u001b[33mref\u001b[0m=\u001b[1;36m8317\u001b[0m\u001b[1;36m.44\u001b[0m @ \u001b[1;36m5\u001b[0m        \u001b]8;id=690432;file:///home/felix/.cache/pypoetry/virtualenvs/yadism-QljnF84o-py3.12/lib/python3.12/site-packages/eko/matchings.py\u001b\\\u001b[2mmatchings.py\u001b[0m\u001b]8;;\u001b\\\u001b[2m:\u001b[0m\u001b]8;id=979853;file:///home/felix/.cache/pypoetry/virtualenvs/yadism-QljnF84o-py3.12/lib/python3.12/site-packages/eko/matchings.py#72\u001b\\\u001b[2m72\u001b[0m\u001b]8;;\u001b\\\n"
      ]
     },
     "metadata": {},
     "output_type": "display_data"
    },
    {
     "data": {
      "text/html": [
       "<pre style=\"white-space:pre;overflow-x:auto;line-height:normal;font-family:Menlo,'DejaVu Sans Mono',consolas,'Courier New',monospace\"><span style=\"color: #7fbfbf; text-decoration-color: #7fbfbf\">           </span><span style=\"color: #000080; text-decoration-color: #000080\">INFO    </span> Strong Coupling: <span style=\"color: #800080; text-decoration-color: #800080; font-weight: bold\">a_s</span><span style=\"font-weight: bold\">(</span>µ_R^<span style=\"color: #008080; text-decoration-color: #008080; font-weight: bold\">2</span>=<span style=\"color: #008080; text-decoration-color: #008080; font-weight: bold\">8317.440000</span><span style=\"font-weight: bold\">)</span>^<span style=\"font-weight: bold\">(</span><span style=\"color: #808000; text-decoration-color: #808000\">nf</span>=<span style=\"color: #008080; text-decoration-color: #008080; font-weight: bold\">5</span><span style=\"font-weight: bold\">)</span>=<span style=\"color: #008080; text-decoration-color: #008080; font-weight: bold\">0.009390</span>=<span style=\"color: #008080; text-decoration-color: #008080; font-weight: bold\">0.118000</span>/<span style=\"font-weight: bold\">(</span>4π<span style=\"font-weight: bold\">)</span>          <a href=\"file:///home/felix/.cache/pypoetry/virtualenvs/yadism-QljnF84o-py3.12/lib/python3.12/site-packages/eko/couplings.py\" target=\"_blank\"><span style=\"color: #7f7f7f; text-decoration-color: #7f7f7f\">couplings.py</span></a><span style=\"color: #7f7f7f; text-decoration-color: #7f7f7f\">:</span><a href=\"file:///home/felix/.cache/pypoetry/virtualenvs/yadism-QljnF84o-py3.12/lib/python3.12/site-packages/eko/couplings.py#464\" target=\"_blank\"><span style=\"color: #7f7f7f; text-decoration-color: #7f7f7f\">464</span></a>\n",
       "</pre>\n"
      ],
      "text/plain": [
       "\u001b[2;36m          \u001b[0m\u001b[2;36m \u001b[0m\u001b[34mINFO    \u001b[0m Strong Coupling: \u001b[1;35ma_s\u001b[0m\u001b[1m(\u001b[0mµ_R^\u001b[1;36m2\u001b[0m=\u001b[1;36m8317\u001b[0m\u001b[1;36m.440000\u001b[0m\u001b[1m)\u001b[0m^\u001b[1m(\u001b[0m\u001b[33mnf\u001b[0m=\u001b[1;36m5\u001b[0m\u001b[1m)\u001b[0m=\u001b[1;36m0.\u001b[0m\u001b[1;36m009390\u001b[0m=\u001b[1;36m0\u001b[0m\u001b[1;36m.118000\u001b[0m/\u001b[1m(\u001b[0m4π\u001b[1m)\u001b[0m          \u001b]8;id=743343;file:///home/felix/.cache/pypoetry/virtualenvs/yadism-QljnF84o-py3.12/lib/python3.12/site-packages/eko/couplings.py\u001b\\\u001b[2mcouplings.py\u001b[0m\u001b]8;;\u001b\\\u001b[2m:\u001b[0m\u001b]8;id=302574;file:///home/felix/.cache/pypoetry/virtualenvs/yadism-QljnF84o-py3.12/lib/python3.12/site-packages/eko/couplings.py#464\u001b\\\u001b[2m464\u001b[0m\u001b]8;;\u001b\\\n"
      ]
     },
     "metadata": {},
     "output_type": "display_data"
    },
    {
     "data": {
      "text/html": [
       "<pre style=\"white-space:pre;overflow-x:auto;line-height:normal;font-family:Menlo,'DejaVu Sans Mono',consolas,'Courier New',monospace\"><span style=\"color: #7fbfbf; text-decoration-color: #7fbfbf\">           </span><span style=\"color: #000080; text-decoration-color: #000080\">INFO    </span> Atlas <span style=\"font-weight: bold\">[</span><span style=\"color: #008080; text-decoration-color: #008080; font-weight: bold\">0.00e+00</span> - <span style=\"color: #008080; text-decoration-color: #008080; font-weight: bold\">2.28e+00</span> - <span style=\"color: #008080; text-decoration-color: #008080; font-weight: bold\">2.42e+01</span> - <span style=\"color: #008080; text-decoration-color: #008080; font-weight: bold\">2.98e+04</span> - inf<span style=\"font-weight: bold\">]</span>, <span style=\"color: #808000; text-decoration-color: #808000\">ref</span>=<span style=\"color: #008080; text-decoration-color: #008080; font-weight: bold\">8317.44</span> @ <span style=\"color: #008080; text-decoration-color: #008080; font-weight: bold\">5</span>        <a href=\"file:///home/felix/.cache/pypoetry/virtualenvs/yadism-QljnF84o-py3.12/lib/python3.12/site-packages/eko/matchings.py\" target=\"_blank\"><span style=\"color: #7f7f7f; text-decoration-color: #7f7f7f\">matchings.py</span></a><span style=\"color: #7f7f7f; text-decoration-color: #7f7f7f\">:</span><a href=\"file:///home/felix/.cache/pypoetry/virtualenvs/yadism-QljnF84o-py3.12/lib/python3.12/site-packages/eko/matchings.py#72\" target=\"_blank\"><span style=\"color: #7f7f7f; text-decoration-color: #7f7f7f\">72</span></a>\n",
       "</pre>\n"
      ],
      "text/plain": [
       "\u001b[2;36m          \u001b[0m\u001b[2;36m \u001b[0m\u001b[34mINFO    \u001b[0m Atlas \u001b[1m[\u001b[0m\u001b[1;36m0.00e+00\u001b[0m - \u001b[1;36m2.28e+00\u001b[0m - \u001b[1;36m2.42e+01\u001b[0m - \u001b[1;36m2.98e+04\u001b[0m - inf\u001b[1m]\u001b[0m, \u001b[33mref\u001b[0m=\u001b[1;36m8317\u001b[0m\u001b[1;36m.44\u001b[0m @ \u001b[1;36m5\u001b[0m        \u001b]8;id=942074;file:///home/felix/.cache/pypoetry/virtualenvs/yadism-QljnF84o-py3.12/lib/python3.12/site-packages/eko/matchings.py\u001b\\\u001b[2mmatchings.py\u001b[0m\u001b]8;;\u001b\\\u001b[2m:\u001b[0m\u001b]8;id=510547;file:///home/felix/.cache/pypoetry/virtualenvs/yadism-QljnF84o-py3.12/lib/python3.12/site-packages/eko/matchings.py#72\u001b\\\u001b[2m72\u001b[0m\u001b]8;;\u001b\\\n"
      ]
     },
     "metadata": {},
     "output_type": "display_data"
    },
    {
     "name": "stdout",
     "output_type": "stream",
     "text": [
      "LHAPDF 6.5.4 loading /home/felix/local/share/LHAPDF/NNPDF40_evolved_nf3/NNPDF40_evolved_nf3_0000.dat"
     ]
    },
    {
     "data": {
      "text/html": [
       "<pre style=\"white-space:pre;overflow-x:auto;line-height:normal;font-family:Menlo,'DejaVu Sans Mono',consolas,'Courier New',monospace\"><span style=\"color: #7fbfbf; text-decoration-color: #7fbfbf\">           </span><span style=\"color: #000080; text-decoration-color: #000080\">INFO    </span> Interpolation: number of points = <span style=\"color: #008080; text-decoration-color: #008080; font-weight: bold\">8</span>, polynomial degree = <span style=\"color: #008080; text-decoration-color: #008080; font-weight: bold\">4</span>, logarithmic =  <a href=\"file:///home/felix/.cache/pypoetry/virtualenvs/yadism-QljnF84o-py3.12/lib/python3.12/site-packages/eko/interpolation.py\" target=\"_blank\"><span style=\"color: #7f7f7f; text-decoration-color: #7f7f7f\">interpolation.py</span></a><span style=\"color: #7f7f7f; text-decoration-color: #7f7f7f\">:</span><a href=\"file:///home/felix/.cache/pypoetry/virtualenvs/yadism-QljnF84o-py3.12/lib/python3.12/site-packages/eko/interpolation.py#538\" target=\"_blank\"><span style=\"color: #7f7f7f; text-decoration-color: #7f7f7f\">538</span></a>\n",
       "<span style=\"color: #7fbfbf; text-decoration-color: #7fbfbf\">           </span>         <span style=\"color: #00ff00; text-decoration-color: #00ff00; font-style: italic\">True</span>                                                                       <span style=\"color: #7f7f7f; text-decoration-color: #7f7f7f\">                    </span>\n",
       "</pre>\n"
      ],
      "text/plain": [
       "\u001b[2;36m          \u001b[0m\u001b[2;36m \u001b[0m\u001b[34mINFO    \u001b[0m Interpolation: number of points = \u001b[1;36m8\u001b[0m, polynomial degree = \u001b[1;36m4\u001b[0m, logarithmic =  \u001b]8;id=524809;file:///home/felix/.cache/pypoetry/virtualenvs/yadism-QljnF84o-py3.12/lib/python3.12/site-packages/eko/interpolation.py\u001b\\\u001b[2minterpolation.py\u001b[0m\u001b]8;;\u001b\\\u001b[2m:\u001b[0m\u001b]8;id=144155;file:///home/felix/.cache/pypoetry/virtualenvs/yadism-QljnF84o-py3.12/lib/python3.12/site-packages/eko/interpolation.py#538\u001b\\\u001b[2m538\u001b[0m\u001b]8;;\u001b\\\n",
       "\u001b[2;36m           \u001b[0m         \u001b[3;92mTrue\u001b[0m                                                                       \u001b[2m                    \u001b[0m\n"
      ]
     },
     "metadata": {},
     "output_type": "display_data"
    },
    {
     "name": "stdout",
     "output_type": "stream",
     "text": [
      "\n",
      "NNPDF40_evolved_nf3 PDF set, member #0, version 1\n"
     ]
    },
    {
     "data": {
      "text/html": [
       "<pre style=\"white-space:pre;overflow-x:auto;line-height:normal;font-family:Menlo,'DejaVu Sans Mono',consolas,'Courier New',monospace\"><span style=\"color: #7fbfbf; text-decoration-color: #7fbfbf\">           </span><span style=\"color: #000080; text-decoration-color: #000080\">INFO    </span> <span style=\"font-weight: bold\">{</span><span style=\"color: #008000; text-decoration-color: #008000\">'MZ2'</span>: <span style=\"color: #008080; text-decoration-color: #008080; font-weight: bold\">8315.178393760001</span>, <span style=\"color: #008000; text-decoration-color: #008000\">'CKM'</span>: <span style=\"color: #800080; text-decoration-color: #800080; font-weight: bold\">CKM</span><span style=\"font-weight: bold\">([[</span><span style=\"color: #008080; text-decoration-color: #008080; font-weight: bold\">9.49221518e-01</span> <span style=\"color: #008080; text-decoration-color: #008080; font-weight: bold\">5.07600900e-02</span>  <a href=\"file:///home/felix/Physik/N3PDF/DIS/yadism/src/yadism/coefficient_functions/coupling_constants.py\" target=\"_blank\"><span style=\"color: #7f7f7f; text-decoration-color: #7f7f7f\">coupling_constants.py</span></a><span style=\"color: #7f7f7f; text-decoration-color: #7f7f7f\">:</span><a href=\"file:///home/felix/Physik/N3PDF/DIS/yadism/src/yadism/coefficient_functions/coupling_constants.py#53\" target=\"_blank\"><span style=\"color: #7f7f7f; text-decoration-color: #7f7f7f\">53</span></a>\n",
       "<span style=\"color: #7fbfbf; text-decoration-color: #7fbfbf\">           </span>         <span style=\"color: #008080; text-decoration-color: #008080; font-weight: bold\">1.20409000e-05</span><span style=\"font-weight: bold\">]</span> <span style=\"font-weight: bold\">[</span><span style=\"color: #008080; text-decoration-color: #008080; font-weight: bold\">5.07150400e-02</span> <span style=\"color: #008080; text-decoration-color: #008080; font-weight: bold\">9.47604903e-01</span> <span style=\"color: #008080; text-decoration-color: #008080; font-weight: bold\">1.68100000e-03</span><span style=\"font-weight: bold\">]</span>         <span style=\"color: #7f7f7f; text-decoration-color: #7f7f7f\">                        </span>\n",
       "<span style=\"color: #7fbfbf; text-decoration-color: #7fbfbf\">           </span>         <span style=\"font-weight: bold\">[</span><span style=\"color: #008080; text-decoration-color: #008080; font-weight: bold\">7.43044000e-05</span> <span style=\"color: #008080; text-decoration-color: #008080; font-weight: bold\">1.62409000e-03</span> <span style=\"color: #008080; text-decoration-color: #008080; font-weight: bold\">9.98304719e-01</span><span style=\"font-weight: bold\">]])</span>, <span style=\"color: #008000; text-decoration-color: #008000\">'sin2theta_weak'</span>:    <span style=\"color: #7f7f7f; text-decoration-color: #7f7f7f\">                        </span>\n",
       "<span style=\"color: #7fbfbf; text-decoration-color: #7fbfbf\">           </span>         <span style=\"color: #008080; text-decoration-color: #008080; font-weight: bold\">0.23121</span>, <span style=\"color: #008000; text-decoration-color: #008000\">'MW2'</span>: <span style=\"color: #008080; text-decoration-color: #008080; font-weight: bold\">6463.838403999999</span><span style=\"font-weight: bold\">}</span>                                     <span style=\"color: #7f7f7f; text-decoration-color: #7f7f7f\">                        </span>\n",
       "</pre>\n"
      ],
      "text/plain": [
       "\u001b[2;36m          \u001b[0m\u001b[2;36m \u001b[0m\u001b[34mINFO    \u001b[0m \u001b[1m{\u001b[0m\u001b[32m'MZ2'\u001b[0m: \u001b[1;36m8315.178393760001\u001b[0m, \u001b[32m'CKM'\u001b[0m: \u001b[1;35mCKM\u001b[0m\u001b[1m(\u001b[0m\u001b[1m[\u001b[0m\u001b[1m[\u001b[0m\u001b[1;36m9.49221518e-01\u001b[0m \u001b[1;36m5.07600900e-02\u001b[0m  \u001b]8;id=827594;file:///home/felix/Physik/N3PDF/DIS/yadism/src/yadism/coefficient_functions/coupling_constants.py\u001b\\\u001b[2mcoupling_constants.py\u001b[0m\u001b]8;;\u001b\\\u001b[2m:\u001b[0m\u001b]8;id=91333;file:///home/felix/Physik/N3PDF/DIS/yadism/src/yadism/coefficient_functions/coupling_constants.py#53\u001b\\\u001b[2m53\u001b[0m\u001b]8;;\u001b\\\n",
       "\u001b[2;36m           \u001b[0m         \u001b[1;36m1.20409000e-05\u001b[0m\u001b[1m]\u001b[0m \u001b[1m[\u001b[0m\u001b[1;36m5.07150400e-02\u001b[0m \u001b[1;36m9.47604903e-01\u001b[0m \u001b[1;36m1.68100000e-03\u001b[0m\u001b[1m]\u001b[0m         \u001b[2m                        \u001b[0m\n",
       "\u001b[2;36m           \u001b[0m         \u001b[1m[\u001b[0m\u001b[1;36m7.43044000e-05\u001b[0m \u001b[1;36m1.62409000e-03\u001b[0m \u001b[1;36m9.98304719e-01\u001b[0m\u001b[1m]\u001b[0m\u001b[1m]\u001b[0m\u001b[1m)\u001b[0m, \u001b[32m'sin2theta_weak'\u001b[0m:    \u001b[2m                        \u001b[0m\n",
       "\u001b[2;36m           \u001b[0m         \u001b[1;36m0.23121\u001b[0m, \u001b[32m'MW2'\u001b[0m: \u001b[1;36m6463.838403999999\u001b[0m\u001b[1m}\u001b[0m                                     \u001b[2m                        \u001b[0m\n"
      ]
     },
     "metadata": {},
     "output_type": "display_data"
    },
    {
     "data": {
      "text/html": [
       "<pre style=\"white-space:pre;overflow-x:auto;line-height:normal;font-family:Menlo,'DejaVu Sans Mono',consolas,'Courier New',monospace\"><span style=\"color: #7fbfbf; text-decoration-color: #7fbfbf\">           </span><span style=\"color: #000080; text-decoration-color: #000080\">INFO    </span> <span style=\"font-weight: bold\">{</span><span style=\"color: #008000; text-decoration-color: #008000\">'process'</span>: <span style=\"color: #008000; text-decoration-color: #008000\">'NC'</span>, <span style=\"color: #008000; text-decoration-color: #008000\">'projectilePID'</span>: <span style=\"color: #008080; text-decoration-color: #008080; font-weight: bold\">11</span>, <span style=\"color: #008000; text-decoration-color: #008000\">'polarization'</span>: <span style=\"color: #008080; text-decoration-color: #008080; font-weight: bold\">0.0</span>,            <a href=\"file:///home/felix/Physik/N3PDF/DIS/yadism/src/yadism/coefficient_functions/coupling_constants.py\" target=\"_blank\"><span style=\"color: #7f7f7f; text-decoration-color: #7f7f7f\">coupling_constants.py</span></a><span style=\"color: #7f7f7f; text-decoration-color: #7f7f7f\">:</span><a href=\"file:///home/felix/Physik/N3PDF/DIS/yadism/src/yadism/coefficient_functions/coupling_constants.py#54\" target=\"_blank\"><span style=\"color: #7f7f7f; text-decoration-color: #7f7f7f\">54</span></a>\n",
       "<span style=\"color: #7fbfbf; text-decoration-color: #7fbfbf\">           </span>         <span style=\"color: #008000; text-decoration-color: #008000\">'propagatorCorrection'</span>: <span style=\"color: #008080; text-decoration-color: #008080; font-weight: bold\">0.0</span>, <span style=\"color: #008000; text-decoration-color: #008000\">'nc_pos_charge'</span>: <span style=\"color: #800080; text-decoration-color: #800080; font-style: italic\">None</span><span style=\"font-weight: bold\">}</span>                    <span style=\"color: #7f7f7f; text-decoration-color: #7f7f7f\">                        </span>\n",
       "</pre>\n"
      ],
      "text/plain": [
       "\u001b[2;36m          \u001b[0m\u001b[2;36m \u001b[0m\u001b[34mINFO    \u001b[0m \u001b[1m{\u001b[0m\u001b[32m'process'\u001b[0m: \u001b[32m'NC'\u001b[0m, \u001b[32m'projectilePID'\u001b[0m: \u001b[1;36m11\u001b[0m, \u001b[32m'polarization'\u001b[0m: \u001b[1;36m0.0\u001b[0m,            \u001b]8;id=868733;file:///home/felix/Physik/N3PDF/DIS/yadism/src/yadism/coefficient_functions/coupling_constants.py\u001b\\\u001b[2mcoupling_constants.py\u001b[0m\u001b]8;;\u001b\\\u001b[2m:\u001b[0m\u001b]8;id=984118;file:///home/felix/Physik/N3PDF/DIS/yadism/src/yadism/coefficient_functions/coupling_constants.py#54\u001b\\\u001b[2m54\u001b[0m\u001b]8;;\u001b\\\n",
       "\u001b[2;36m           \u001b[0m         \u001b[32m'propagatorCorrection'\u001b[0m: \u001b[1;36m0.0\u001b[0m, \u001b[32m'nc_pos_charge'\u001b[0m: \u001b[3;35mNone\u001b[0m\u001b[1m}\u001b[0m                    \u001b[2m                        \u001b[0m\n"
      ]
     },
     "metadata": {},
     "output_type": "display_data"
    },
    {
     "data": {
      "text/html": [
       "<pre style=\"white-space:pre;overflow-x:auto;line-height:normal;font-family:Menlo,'DejaVu Sans Mono',consolas,'Courier New',monospace\"><span style=\"color: #7fbfbf; text-decoration-color: #7fbfbf\">           </span><span style=\"color: #000080; text-decoration-color: #000080\">INFO    </span> RenScaleVar: <span style=\"color: #00ff00; text-decoration-color: #00ff00; font-style: italic\">True</span>, FactScaleVar: <span style=\"color: #00ff00; text-decoration-color: #00ff00; font-style: italic\">True</span>                                    <a href=\"file:///home/felix/Physik/N3PDF/DIS/yadism/src/yadism/esf/scale_variations.py\" target=\"_blank\"><span style=\"color: #7f7f7f; text-decoration-color: #7f7f7f\">scale_variations.py</span></a><span style=\"color: #7f7f7f; text-decoration-color: #7f7f7f\">:</span><a href=\"file:///home/felix/Physik/N3PDF/DIS/yadism/src/yadism/esf/scale_variations.py#62\" target=\"_blank\"><span style=\"color: #7f7f7f; text-decoration-color: #7f7f7f\">62</span></a>\n",
       "</pre>\n"
      ],
      "text/plain": [
       "\u001b[2;36m          \u001b[0m\u001b[2;36m \u001b[0m\u001b[34mINFO    \u001b[0m RenScaleVar: \u001b[3;92mTrue\u001b[0m, FactScaleVar: \u001b[3;92mTrue\u001b[0m                                    \u001b]8;id=340226;file:///home/felix/Physik/N3PDF/DIS/yadism/src/yadism/esf/scale_variations.py\u001b\\\u001b[2mscale_variations.py\u001b[0m\u001b]8;;\u001b\\\u001b[2m:\u001b[0m\u001b]8;id=210140;file:///home/felix/Physik/N3PDF/DIS/yadism/src/yadism/esf/scale_variations.py#62\u001b\\\u001b[2m62\u001b[0m\u001b]8;;\u001b\\\n"
      ]
     },
     "metadata": {},
     "output_type": "display_data"
    },
    {
     "data": {
      "text/html": [
       "<pre style=\"white-space:pre;overflow-x:auto;line-height:normal;font-family:Menlo,'DejaVu Sans Mono',consolas,'Courier New',monospace\"><span style=\"color: #7fbfbf; text-decoration-color: #7fbfbf\">           </span><span style=\"color: #000080; text-decoration-color: #000080\">INFO    </span> Atlas <span style=\"font-weight: bold\">[</span><span style=\"color: #008080; text-decoration-color: #008080; font-weight: bold\">0.00e+00</span> - inf - inf - inf - inf<span style=\"font-weight: bold\">]</span>, <span style=\"color: #808000; text-decoration-color: #808000\">ref</span>=<span style=\"color: #008080; text-decoration-color: #008080; font-weight: bold\">2.7224999999999997</span> @ <span style=\"color: #008080; text-decoration-color: #008080; font-weight: bold\">4</span>            <a href=\"file:///home/felix/.cache/pypoetry/virtualenvs/yadism-QljnF84o-py3.12/lib/python3.12/site-packages/eko/matchings.py\" target=\"_blank\"><span style=\"color: #7f7f7f; text-decoration-color: #7f7f7f\">matchings.py</span></a><span style=\"color: #7f7f7f; text-decoration-color: #7f7f7f\">:</span><a href=\"file:///home/felix/.cache/pypoetry/virtualenvs/yadism-QljnF84o-py3.12/lib/python3.12/site-packages/eko/matchings.py#72\" target=\"_blank\"><span style=\"color: #7f7f7f; text-decoration-color: #7f7f7f\">72</span></a>\n",
       "</pre>\n"
      ],
      "text/plain": [
       "\u001b[2;36m          \u001b[0m\u001b[2;36m \u001b[0m\u001b[34mINFO    \u001b[0m Atlas \u001b[1m[\u001b[0m\u001b[1;36m0.00e+00\u001b[0m - inf - inf - inf - inf\u001b[1m]\u001b[0m, \u001b[33mref\u001b[0m=\u001b[1;36m2\u001b[0m\u001b[1;36m.7224999999999997\u001b[0m @ \u001b[1;36m4\u001b[0m            \u001b]8;id=66831;file:///home/felix/.cache/pypoetry/virtualenvs/yadism-QljnF84o-py3.12/lib/python3.12/site-packages/eko/matchings.py\u001b\\\u001b[2mmatchings.py\u001b[0m\u001b]8;;\u001b\\\u001b[2m:\u001b[0m\u001b]8;id=399776;file:///home/felix/.cache/pypoetry/virtualenvs/yadism-QljnF84o-py3.12/lib/python3.12/site-packages/eko/matchings.py#72\u001b\\\u001b[2m72\u001b[0m\u001b]8;;\u001b\\\n"
      ]
     },
     "metadata": {},
     "output_type": "display_data"
    },
    {
     "data": {
      "text/html": [
       "<pre style=\"white-space:pre;overflow-x:auto;line-height:normal;font-family:Menlo,'DejaVu Sans Mono',consolas,'Courier New',monospace\"><span style=\"color: #7fbfbf; text-decoration-color: #7fbfbf\">           </span><span style=\"color: #000080; text-decoration-color: #000080\">INFO    </span> PTO: <span style=\"color: #008080; text-decoration-color: #008080; font-weight: bold\">0</span>, PTO@evolution: <span style=\"color: #008080; text-decoration-color: #008080; font-weight: bold\">0</span>, process: NC                                             <a href=\"file:///home/felix/Physik/N3PDF/DIS/yadism/src/yadism/runner.py\" target=\"_blank\"><span style=\"color: #7f7f7f; text-decoration-color: #7f7f7f\">runner.py</span></a><span style=\"color: #7f7f7f; text-decoration-color: #7f7f7f\">:</span><a href=\"file:///home/felix/Physik/N3PDF/DIS/yadism/src/yadism/runner.py#142\" target=\"_blank\"><span style=\"color: #7f7f7f; text-decoration-color: #7f7f7f\">142</span></a>\n",
       "</pre>\n"
      ],
      "text/plain": [
       "\u001b[2;36m          \u001b[0m\u001b[2;36m \u001b[0m\u001b[34mINFO    \u001b[0m PTO: \u001b[1;36m0\u001b[0m, PTO@evolution: \u001b[1;36m0\u001b[0m, process: NC                                             \u001b]8;id=207767;file:///home/felix/Physik/N3PDF/DIS/yadism/src/yadism/runner.py\u001b\\\u001b[2mrunner.py\u001b[0m\u001b]8;;\u001b\\\u001b[2m:\u001b[0m\u001b]8;id=890274;file:///home/felix/Physik/N3PDF/DIS/yadism/src/yadism/runner.py#142\u001b\\\u001b[2m142\u001b[0m\u001b]8;;\u001b\\\n"
      ]
     },
     "metadata": {},
     "output_type": "display_data"
    },
    {
     "data": {
      "text/html": [
       "<pre style=\"white-space:pre;overflow-x:auto;line-height:normal;font-family:Menlo,'DejaVu Sans Mono',consolas,'Courier New',monospace\"><span style=\"color: #7fbfbf; text-decoration-color: #7fbfbf\">           </span><span style=\"color: #000080; text-decoration-color: #000080\">INFO    </span> FNS: FONLL-FFN0, NfFF: <span style=\"color: #008080; text-decoration-color: #008080; font-weight: bold\">3</span>                                                          <a href=\"file:///home/felix/Physik/N3PDF/DIS/yadism/src/yadism/runner.py\" target=\"_blank\"><span style=\"color: #7f7f7f; text-decoration-color: #7f7f7f\">runner.py</span></a><span style=\"color: #7f7f7f; text-decoration-color: #7f7f7f\">:</span><a href=\"file:///home/felix/Physik/N3PDF/DIS/yadism/src/yadism/runner.py#149\" target=\"_blank\"><span style=\"color: #7f7f7f; text-decoration-color: #7f7f7f\">149</span></a>\n",
       "</pre>\n"
      ],
      "text/plain": [
       "\u001b[2;36m          \u001b[0m\u001b[2;36m \u001b[0m\u001b[34mINFO    \u001b[0m FNS: FONLL-FFN0, NfFF: \u001b[1;36m3\u001b[0m                                                          \u001b]8;id=247473;file:///home/felix/Physik/N3PDF/DIS/yadism/src/yadism/runner.py\u001b\\\u001b[2mrunner.py\u001b[0m\u001b]8;;\u001b\\\u001b[2m:\u001b[0m\u001b]8;id=344666;file:///home/felix/Physik/N3PDF/DIS/yadism/src/yadism/runner.py#149\u001b\\\u001b[2m149\u001b[0m\u001b]8;;\u001b\\\n"
      ]
     },
     "metadata": {},
     "output_type": "display_data"
    },
    {
     "data": {
      "text/html": [
       "<pre style=\"white-space:pre;overflow-x:auto;line-height:normal;font-family:Menlo,'DejaVu Sans Mono',consolas,'Courier New',monospace\"><span style=\"color: #7fbfbf; text-decoration-color: #7fbfbf\">           </span><span style=\"color: #000080; text-decoration-color: #000080\">INFO    </span> projectile: electron, target: <span style=\"font-weight: bold\">{</span>Z: <span style=\"color: #008080; text-decoration-color: #008080; font-weight: bold\">1</span>, A: <span style=\"color: #008080; text-decoration-color: #008080; font-weight: bold\">1</span><span style=\"font-weight: bold\">}</span>                                        <a href=\"file:///home/felix/Physik/N3PDF/DIS/yadism/src/yadism/runner.py\" target=\"_blank\"><span style=\"color: #7f7f7f; text-decoration-color: #7f7f7f\">runner.py</span></a><span style=\"color: #7f7f7f; text-decoration-color: #7f7f7f\">:</span><a href=\"file:///home/felix/Physik/N3PDF/DIS/yadism/src/yadism/runner.py#150\" target=\"_blank\"><span style=\"color: #7f7f7f; text-decoration-color: #7f7f7f\">150</span></a>\n",
       "</pre>\n"
      ],
      "text/plain": [
       "\u001b[2;36m          \u001b[0m\u001b[2;36m \u001b[0m\u001b[34mINFO    \u001b[0m projectile: electron, target: \u001b[1m{\u001b[0mZ: \u001b[1;36m1\u001b[0m, A: \u001b[1;36m1\u001b[0m\u001b[1m}\u001b[0m                                        \u001b]8;id=176613;file:///home/felix/Physik/N3PDF/DIS/yadism/src/yadism/runner.py\u001b\\\u001b[2mrunner.py\u001b[0m\u001b]8;;\u001b\\\u001b[2m:\u001b[0m\u001b]8;id=220684;file:///home/felix/Physik/N3PDF/DIS/yadism/src/yadism/runner.py#150\u001b\\\u001b[2m150\u001b[0m\u001b]8;;\u001b\\\n"
      ]
     },
     "metadata": {},
     "output_type": "display_data"
    },
    {
     "data": {
      "text/html": [
       "<pre style=\"white-space:pre;overflow-x:auto;line-height:normal;font-family:Menlo,'DejaVu Sans Mono',consolas,'Courier New',monospace\">                                      <span style=\"color: #800080; text-decoration-color: #800080\">┌────────────────────────────────────┐</span>                                       \n",
       "                                      <span style=\"color: #800080; text-decoration-color: #800080\">│                                    │</span>                                       \n",
       "                                      <span style=\"color: #800080; text-decoration-color: #800080\">│ __     __       _ _                │</span>                                       \n",
       "                                      <span style=\"color: #800080; text-decoration-color: #800080\">│ \\ \\   / /      | (_)               │</span>                                       \n",
       "                                      <span style=\"color: #800080; text-decoration-color: #800080\">│  \\ \\_/ /_ _  __| |_ ___ _ __ ___   │</span>                                       \n",
       "                                      <span style=\"color: #800080; text-decoration-color: #800080\">│   \\   / _` |/ _` | / __| '_ ` _ \\  │</span>                                       \n",
       "                                      <span style=\"color: #800080; text-decoration-color: #800080\">│    | | (_| | (_| | \\__ \\ | | | | | │</span>                                       \n",
       "                                      <span style=\"color: #800080; text-decoration-color: #800080\">│    |_|\\__,_|\\__,_|_|___/_| |_| |_| │</span>                                       \n",
       "                                      <span style=\"color: #800080; text-decoration-color: #800080\">│                                    │</span>                                       \n",
       "                                      <span style=\"color: #800080; text-decoration-color: #800080\">└────────────────────────────────────┘</span>                                       \n",
       "</pre>\n"
      ],
      "text/plain": [
       "                                      \u001b[35m┌────────────────────────────────────┐\u001b[0m                                       \n",
       "                                      \u001b[35m│\u001b[0m\u001b[35m                                    \u001b[0m\u001b[35m│\u001b[0m                                       \n",
       "                                      \u001b[35m│\u001b[0m\u001b[35m \u001b[0m\u001b[35m__     __       _ _\u001b[0m\u001b[35m               \u001b[0m\u001b[35m \u001b[0m\u001b[35m│\u001b[0m                                       \n",
       "                                      \u001b[35m│\u001b[0m\u001b[35m \u001b[0m\u001b[35m\\ \\   / /      | (_)\u001b[0m\u001b[35m              \u001b[0m\u001b[35m \u001b[0m\u001b[35m│\u001b[0m                                       \n",
       "                                      \u001b[35m│\u001b[0m\u001b[35m \u001b[0m\u001b[35m \\ \\_/ /_ _  __| |_ ___ _ __ ___\u001b[0m\u001b[35m  \u001b[0m\u001b[35m \u001b[0m\u001b[35m│\u001b[0m                                       \n",
       "                                      \u001b[35m│\u001b[0m\u001b[35m \u001b[0m\u001b[35m  \\   / _` |/ _` | / __| '_ ` _ \\\u001b[0m\u001b[35m \u001b[0m\u001b[35m \u001b[0m\u001b[35m│\u001b[0m                                       \n",
       "                                      \u001b[35m│\u001b[0m\u001b[35m \u001b[0m\u001b[35m   | | (_| | (_| | \\__ \\ | | | | |\u001b[0m\u001b[35m \u001b[0m\u001b[35m│\u001b[0m                                       \n",
       "                                      \u001b[35m│\u001b[0m\u001b[35m \u001b[0m\u001b[35m   |_|\\__,_|\\__,_|_|___/_| |_| |_|\u001b[0m\u001b[35m \u001b[0m\u001b[35m│\u001b[0m                                       \n",
       "                                      \u001b[35m│\u001b[0m\u001b[35m                                    \u001b[0m\u001b[35m│\u001b[0m                                       \n",
       "                                      \u001b[35m└────────────────────────────────────┘\u001b[0m                                       \n"
      ]
     },
     "metadata": {},
     "output_type": "display_data"
    },
    {
     "data": {
      "text/html": [
       "<pre style=\"white-space:pre;overflow-x:auto;line-height:normal;font-family:Menlo,'DejaVu Sans Mono',consolas,'Courier New',monospace\">\n",
       "                                                       <span style=\"font-weight: bold; text-decoration: underline\">Plan</span>                                                        \n",
       "</pre>\n"
      ],
      "text/plain": [
       "\n",
       "                                                       \u001b[1;4mPlan\u001b[0m                                                        \n"
      ]
     },
     "metadata": {},
     "output_type": "display_data"
    },
    {
     "data": {
      "text/html": [
       "<pre style=\"white-space:pre;overflow-x:auto;line-height:normal;font-family:Menlo,'DejaVu Sans Mono',consolas,'Courier New',monospace\">\n",
       "<span style=\"color: #808000; text-decoration-color: #808000; font-weight: bold\"> • </span>F2_charm at 2 pts                                                                                               \n",
       "</pre>\n"
      ],
      "text/plain": [
       "\n",
       "\u001b[1;33m • \u001b[0mF2_charm at 2 pts                                                                                               \n"
      ]
     },
     "metadata": {},
     "output_type": "display_data"
    },
    {
     "data": {
      "text/html": [
       "<pre style=\"white-space:pre;overflow-x:auto;line-height:normal;font-family:Menlo,'DejaVu Sans Mono',consolas,'Courier New',monospace\">\n",
       "                                                    <span style=\"font-weight: bold; text-decoration: underline\">Calculation</span>                                                    \n",
       "</pre>\n"
      ],
      "text/plain": [
       "\n",
       "                                                    \u001b[1;4mCalculation\u001b[0m                                                    \n"
      ]
     },
     "metadata": {},
     "output_type": "display_data"
    },
    {
     "data": {
      "text/html": [
       "<pre style=\"white-space:pre;overflow-x:auto;line-height:normal;font-family:Menlo,'DejaVu Sans Mono',consolas,'Courier New',monospace\">yadism took off! please stay tuned <span style=\"color: #808000; text-decoration-color: #808000\">...</span>\n",
       "</pre>\n"
      ],
      "text/plain": [
       "yadism took off! please stay tuned \u001b[33m...\u001b[0m\n"
      ]
     },
     "metadata": {},
     "output_type": "display_data"
    },
    {
     "data": {
      "text/html": [
       "<pre style=\"white-space:pre;overflow-x:auto;line-height:normal;font-family:Menlo,'DejaVu Sans Mono',consolas,'Courier New',monospace\"></pre>\n"
      ],
      "text/plain": [
       "\u001b[?25l"
      ]
     },
     "metadata": {},
     "output_type": "display_data"
    },
    {
     "data": {
      "text/html": [
       "<pre style=\"white-space:pre;overflow-x:auto;line-height:normal;font-family:Menlo,'DejaVu Sans Mono',consolas,'Courier New',monospace\">/home/felix/.cache/pypoetry/virtualenvs/yadism-QljnF84o-py3.12/lib/python3.12/site-packages/rich/live.py:229: \n",
       "UserWarning: install \"ipywidgets\" for Jupyter support\n",
       "  warnings.warn('install \"ipywidgets\" for Jupyter support')\n",
       "Starting... <span style=\"color: #3a3a3a; text-decoration-color: #3a3a3a\">━━━━━━━━━━━━━━━━━━━━━━━━━━━━━━━━━━━━━━━━</span> <span style=\"color: #800080; text-decoration-color: #800080\">  0%</span> <span style=\"color: #008080; text-decoration-color: #008080\">-:--:--</span></pre>\n"
      ],
      "text/plain": [
       "/home/felix/.cache/pypoetry/virtualenvs/yadism-QljnF84o-py3.12/lib/python3.12/site-packages/rich/live.py:229: \n",
       "UserWarning: install \"ipywidgets\" for Jupyter support\n",
       "  warnings.warn('install \"ipywidgets\" for Jupyter support')\n",
       "Starting... \u001b[38;5;237m━━━━━━━━━━━━━━━━━━━━━━━━━━━━━━━━━━━━━━━━\u001b[0m \u001b[35m  0%\u001b[0m \u001b[36m-:--:--\u001b[0m"
      ]
     },
     "metadata": {},
     "output_type": "display_data"
    },
    {
     "data": {
      "text/html": [
       "<pre style=\"white-space:pre;overflow-x:auto;line-height:normal;font-family:Menlo,'DejaVu Sans Mono',consolas,'Courier New',monospace\">\n",
       "</pre>\n"
      ],
      "text/plain": [
       "\n",
       "\u001b[?25h\r\u001b[1A\u001b[2K"
      ]
     },
     "metadata": {},
     "output_type": "display_data"
    },
    {
     "data": {
      "text/html": [
       "<pre style=\"white-space:pre;overflow-x:auto;line-height:normal;font-family:Menlo,'DejaVu Sans Mono',consolas,'Courier New',monospace\"><span style=\"color: #008080; text-decoration-color: #008080\">took </span><span style=\"color: #008080; text-decoration-color: #008080; font-weight: bold\">0.68</span><span style=\"color: #008080; text-decoration-color: #008080\"> s</span>\n",
       "</pre>\n"
      ],
      "text/plain": [
       "\u001b[36mtook \u001b[0m\u001b[1;36m0.68\u001b[0m\u001b[36m s\u001b[0m\n"
      ]
     },
     "metadata": {},
     "output_type": "display_data"
    },
    {
     "data": {
      "text/html": [
       "<pre style=\"white-space:pre;overflow-x:auto;line-height:normal;font-family:Menlo,'DejaVu Sans Mono',consolas,'Courier New',monospace\"><span style=\"color: #7fbfbf; text-decoration-color: #7fbfbf\">[14:30:46] </span><span style=\"color: #000080; text-decoration-color: #000080\">INFO    </span> Atlas <span style=\"font-weight: bold\">[</span><span style=\"color: #008080; text-decoration-color: #008080; font-weight: bold\">0.00e+00</span> - <span style=\"color: #008080; text-decoration-color: #008080; font-weight: bold\">2.28e+00</span> - <span style=\"color: #008080; text-decoration-color: #008080; font-weight: bold\">2.42e+01</span> - <span style=\"color: #008080; text-decoration-color: #008080; font-weight: bold\">2.98e+04</span> - inf<span style=\"font-weight: bold\">]</span>, <span style=\"color: #808000; text-decoration-color: #808000\">ref</span>=<span style=\"color: #008080; text-decoration-color: #008080; font-weight: bold\">8317.44</span> @ <span style=\"color: #008080; text-decoration-color: #008080; font-weight: bold\">5</span>        <a href=\"file:///home/felix/.cache/pypoetry/virtualenvs/yadism-QljnF84o-py3.12/lib/python3.12/site-packages/eko/matchings.py\" target=\"_blank\"><span style=\"color: #7f7f7f; text-decoration-color: #7f7f7f\">matchings.py</span></a><span style=\"color: #7f7f7f; text-decoration-color: #7f7f7f\">:</span><a href=\"file:///home/felix/.cache/pypoetry/virtualenvs/yadism-QljnF84o-py3.12/lib/python3.12/site-packages/eko/matchings.py#72\" target=\"_blank\"><span style=\"color: #7f7f7f; text-decoration-color: #7f7f7f\">72</span></a>\n",
       "</pre>\n"
      ],
      "text/plain": [
       "\u001b[2;36m[14:30:46]\u001b[0m\u001b[2;36m \u001b[0m\u001b[34mINFO    \u001b[0m Atlas \u001b[1m[\u001b[0m\u001b[1;36m0.00e+00\u001b[0m - \u001b[1;36m2.28e+00\u001b[0m - \u001b[1;36m2.42e+01\u001b[0m - \u001b[1;36m2.98e+04\u001b[0m - inf\u001b[1m]\u001b[0m, \u001b[33mref\u001b[0m=\u001b[1;36m8317\u001b[0m\u001b[1;36m.44\u001b[0m @ \u001b[1;36m5\u001b[0m        \u001b]8;id=310977;file:///home/felix/.cache/pypoetry/virtualenvs/yadism-QljnF84o-py3.12/lib/python3.12/site-packages/eko/matchings.py\u001b\\\u001b[2mmatchings.py\u001b[0m\u001b]8;;\u001b\\\u001b[2m:\u001b[0m\u001b]8;id=845737;file:///home/felix/.cache/pypoetry/virtualenvs/yadism-QljnF84o-py3.12/lib/python3.12/site-packages/eko/matchings.py#72\u001b\\\u001b[2m72\u001b[0m\u001b]8;;\u001b\\\n"
      ]
     },
     "metadata": {},
     "output_type": "display_data"
    },
    {
     "data": {
      "text/html": [
       "<pre style=\"white-space:pre;overflow-x:auto;line-height:normal;font-family:Menlo,'DejaVu Sans Mono',consolas,'Courier New',monospace\"><span style=\"color: #7fbfbf; text-decoration-color: #7fbfbf\">           </span><span style=\"color: #000080; text-decoration-color: #000080\">INFO    </span> Strong Coupling: <span style=\"color: #800080; text-decoration-color: #800080; font-weight: bold\">a_s</span><span style=\"font-weight: bold\">(</span>µ_R^<span style=\"color: #008080; text-decoration-color: #008080; font-weight: bold\">2</span>=<span style=\"color: #008080; text-decoration-color: #008080; font-weight: bold\">8317.440000</span><span style=\"font-weight: bold\">)</span>^<span style=\"font-weight: bold\">(</span><span style=\"color: #808000; text-decoration-color: #808000\">nf</span>=<span style=\"color: #008080; text-decoration-color: #008080; font-weight: bold\">5</span><span style=\"font-weight: bold\">)</span>=<span style=\"color: #008080; text-decoration-color: #008080; font-weight: bold\">0.009390</span>=<span style=\"color: #008080; text-decoration-color: #008080; font-weight: bold\">0.118000</span>/<span style=\"font-weight: bold\">(</span>4π<span style=\"font-weight: bold\">)</span>          <a href=\"file:///home/felix/.cache/pypoetry/virtualenvs/yadism-QljnF84o-py3.12/lib/python3.12/site-packages/eko/couplings.py\" target=\"_blank\"><span style=\"color: #7f7f7f; text-decoration-color: #7f7f7f\">couplings.py</span></a><span style=\"color: #7f7f7f; text-decoration-color: #7f7f7f\">:</span><a href=\"file:///home/felix/.cache/pypoetry/virtualenvs/yadism-QljnF84o-py3.12/lib/python3.12/site-packages/eko/couplings.py#464\" target=\"_blank\"><span style=\"color: #7f7f7f; text-decoration-color: #7f7f7f\">464</span></a>\n",
       "</pre>\n"
      ],
      "text/plain": [
       "\u001b[2;36m          \u001b[0m\u001b[2;36m \u001b[0m\u001b[34mINFO    \u001b[0m Strong Coupling: \u001b[1;35ma_s\u001b[0m\u001b[1m(\u001b[0mµ_R^\u001b[1;36m2\u001b[0m=\u001b[1;36m8317\u001b[0m\u001b[1;36m.440000\u001b[0m\u001b[1m)\u001b[0m^\u001b[1m(\u001b[0m\u001b[33mnf\u001b[0m=\u001b[1;36m5\u001b[0m\u001b[1m)\u001b[0m=\u001b[1;36m0.\u001b[0m\u001b[1;36m009390\u001b[0m=\u001b[1;36m0\u001b[0m\u001b[1;36m.118000\u001b[0m/\u001b[1m(\u001b[0m4π\u001b[1m)\u001b[0m          \u001b]8;id=435592;file:///home/felix/.cache/pypoetry/virtualenvs/yadism-QljnF84o-py3.12/lib/python3.12/site-packages/eko/couplings.py\u001b\\\u001b[2mcouplings.py\u001b[0m\u001b]8;;\u001b\\\u001b[2m:\u001b[0m\u001b]8;id=136149;file:///home/felix/.cache/pypoetry/virtualenvs/yadism-QljnF84o-py3.12/lib/python3.12/site-packages/eko/couplings.py#464\u001b\\\u001b[2m464\u001b[0m\u001b]8;;\u001b\\\n"
      ]
     },
     "metadata": {},
     "output_type": "display_data"
    },
    {
     "data": {
      "text/html": [
       "<pre style=\"white-space:pre;overflow-x:auto;line-height:normal;font-family:Menlo,'DejaVu Sans Mono',consolas,'Courier New',monospace\"><span style=\"color: #7fbfbf; text-decoration-color: #7fbfbf\">           </span><span style=\"color: #000080; text-decoration-color: #000080\">INFO    </span> Atlas <span style=\"font-weight: bold\">[</span><span style=\"color: #008080; text-decoration-color: #008080; font-weight: bold\">0.00e+00</span> - <span style=\"color: #008080; text-decoration-color: #008080; font-weight: bold\">2.28e+00</span> - <span style=\"color: #008080; text-decoration-color: #008080; font-weight: bold\">2.42e+01</span> - <span style=\"color: #008080; text-decoration-color: #008080; font-weight: bold\">2.98e+04</span> - inf<span style=\"font-weight: bold\">]</span>, <span style=\"color: #808000; text-decoration-color: #808000\">ref</span>=<span style=\"color: #008080; text-decoration-color: #008080; font-weight: bold\">8317.44</span> @ <span style=\"color: #008080; text-decoration-color: #008080; font-weight: bold\">5</span>        <a href=\"file:///home/felix/.cache/pypoetry/virtualenvs/yadism-QljnF84o-py3.12/lib/python3.12/site-packages/eko/matchings.py\" target=\"_blank\"><span style=\"color: #7f7f7f; text-decoration-color: #7f7f7f\">matchings.py</span></a><span style=\"color: #7f7f7f; text-decoration-color: #7f7f7f\">:</span><a href=\"file:///home/felix/.cache/pypoetry/virtualenvs/yadism-QljnF84o-py3.12/lib/python3.12/site-packages/eko/matchings.py#72\" target=\"_blank\"><span style=\"color: #7f7f7f; text-decoration-color: #7f7f7f\">72</span></a>\n",
       "</pre>\n"
      ],
      "text/plain": [
       "\u001b[2;36m          \u001b[0m\u001b[2;36m \u001b[0m\u001b[34mINFO    \u001b[0m Atlas \u001b[1m[\u001b[0m\u001b[1;36m0.00e+00\u001b[0m - \u001b[1;36m2.28e+00\u001b[0m - \u001b[1;36m2.42e+01\u001b[0m - \u001b[1;36m2.98e+04\u001b[0m - inf\u001b[1m]\u001b[0m, \u001b[33mref\u001b[0m=\u001b[1;36m8317\u001b[0m\u001b[1;36m.44\u001b[0m @ \u001b[1;36m5\u001b[0m        \u001b]8;id=141935;file:///home/felix/.cache/pypoetry/virtualenvs/yadism-QljnF84o-py3.12/lib/python3.12/site-packages/eko/matchings.py\u001b\\\u001b[2mmatchings.py\u001b[0m\u001b]8;;\u001b\\\u001b[2m:\u001b[0m\u001b]8;id=95155;file:///home/felix/.cache/pypoetry/virtualenvs/yadism-QljnF84o-py3.12/lib/python3.12/site-packages/eko/matchings.py#72\u001b\\\u001b[2m72\u001b[0m\u001b]8;;\u001b\\\n"
      ]
     },
     "metadata": {},
     "output_type": "display_data"
    },
    {
     "data": {
      "text/html": [
       "<pre style=\"white-space:pre;overflow-x:auto;line-height:normal;font-family:Menlo,'DejaVu Sans Mono',consolas,'Courier New',monospace\"><span style=\"color: #7fbfbf; text-decoration-color: #7fbfbf\">           </span><span style=\"color: #000080; text-decoration-color: #000080\">INFO    </span> Interpolation: number of points = <span style=\"color: #008080; text-decoration-color: #008080; font-weight: bold\">8</span>, polynomial degree = <span style=\"color: #008080; text-decoration-color: #008080; font-weight: bold\">4</span>, logarithmic =  <a href=\"file:///home/felix/.cache/pypoetry/virtualenvs/yadism-QljnF84o-py3.12/lib/python3.12/site-packages/eko/interpolation.py\" target=\"_blank\"><span style=\"color: #7f7f7f; text-decoration-color: #7f7f7f\">interpolation.py</span></a><span style=\"color: #7f7f7f; text-decoration-color: #7f7f7f\">:</span><a href=\"file:///home/felix/.cache/pypoetry/virtualenvs/yadism-QljnF84o-py3.12/lib/python3.12/site-packages/eko/interpolation.py#538\" target=\"_blank\"><span style=\"color: #7f7f7f; text-decoration-color: #7f7f7f\">538</span></a>\n",
       "<span style=\"color: #7fbfbf; text-decoration-color: #7fbfbf\">           </span>         <span style=\"color: #00ff00; text-decoration-color: #00ff00; font-style: italic\">True</span>                                                                       <span style=\"color: #7f7f7f; text-decoration-color: #7f7f7f\">                    </span>\n",
       "</pre>\n"
      ],
      "text/plain": [
       "\u001b[2;36m          \u001b[0m\u001b[2;36m \u001b[0m\u001b[34mINFO    \u001b[0m Interpolation: number of points = \u001b[1;36m8\u001b[0m, polynomial degree = \u001b[1;36m4\u001b[0m, logarithmic =  \u001b]8;id=676870;file:///home/felix/.cache/pypoetry/virtualenvs/yadism-QljnF84o-py3.12/lib/python3.12/site-packages/eko/interpolation.py\u001b\\\u001b[2minterpolation.py\u001b[0m\u001b]8;;\u001b\\\u001b[2m:\u001b[0m\u001b]8;id=298514;file:///home/felix/.cache/pypoetry/virtualenvs/yadism-QljnF84o-py3.12/lib/python3.12/site-packages/eko/interpolation.py#538\u001b\\\u001b[2m538\u001b[0m\u001b]8;;\u001b\\\n",
       "\u001b[2;36m           \u001b[0m         \u001b[3;92mTrue\u001b[0m                                                                       \u001b[2m                    \u001b[0m\n"
      ]
     },
     "metadata": {},
     "output_type": "display_data"
    },
    {
     "name": "stdout",
     "output_type": "stream",
     "text": [
      "LHAPDF 6.5.4 loading /home/felix/local/share/LHAPDF/NNPDF40_evolved_nf4/NNPDF40_evolved_nf4_0000.dat\n",
      "NNPDF40_evolved_nf4 PDF set, member #0, version 1\n"
     ]
    },
    {
     "data": {
      "text/html": [
       "<pre style=\"white-space:pre;overflow-x:auto;line-height:normal;font-family:Menlo,'DejaVu Sans Mono',consolas,'Courier New',monospace\"><span style=\"color: #7fbfbf; text-decoration-color: #7fbfbf\">           </span><span style=\"color: #000080; text-decoration-color: #000080\">INFO    </span> <span style=\"font-weight: bold\">{</span><span style=\"color: #008000; text-decoration-color: #008000\">'MZ2'</span>: <span style=\"color: #008080; text-decoration-color: #008080; font-weight: bold\">8315.178393760001</span>, <span style=\"color: #008000; text-decoration-color: #008000\">'CKM'</span>: <span style=\"color: #800080; text-decoration-color: #800080; font-weight: bold\">CKM</span><span style=\"font-weight: bold\">([[</span><span style=\"color: #008080; text-decoration-color: #008080; font-weight: bold\">9.49221518e-01</span> <span style=\"color: #008080; text-decoration-color: #008080; font-weight: bold\">5.07600900e-02</span>  <a href=\"file:///home/felix/Physik/N3PDF/DIS/yadism/src/yadism/coefficient_functions/coupling_constants.py\" target=\"_blank\"><span style=\"color: #7f7f7f; text-decoration-color: #7f7f7f\">coupling_constants.py</span></a><span style=\"color: #7f7f7f; text-decoration-color: #7f7f7f\">:</span><a href=\"file:///home/felix/Physik/N3PDF/DIS/yadism/src/yadism/coefficient_functions/coupling_constants.py#53\" target=\"_blank\"><span style=\"color: #7f7f7f; text-decoration-color: #7f7f7f\">53</span></a>\n",
       "<span style=\"color: #7fbfbf; text-decoration-color: #7fbfbf\">           </span>         <span style=\"color: #008080; text-decoration-color: #008080; font-weight: bold\">1.20409000e-05</span><span style=\"font-weight: bold\">]</span> <span style=\"font-weight: bold\">[</span><span style=\"color: #008080; text-decoration-color: #008080; font-weight: bold\">5.07150400e-02</span> <span style=\"color: #008080; text-decoration-color: #008080; font-weight: bold\">9.47604903e-01</span> <span style=\"color: #008080; text-decoration-color: #008080; font-weight: bold\">1.68100000e-03</span><span style=\"font-weight: bold\">]</span>         <span style=\"color: #7f7f7f; text-decoration-color: #7f7f7f\">                        </span>\n",
       "<span style=\"color: #7fbfbf; text-decoration-color: #7fbfbf\">           </span>         <span style=\"font-weight: bold\">[</span><span style=\"color: #008080; text-decoration-color: #008080; font-weight: bold\">7.43044000e-05</span> <span style=\"color: #008080; text-decoration-color: #008080; font-weight: bold\">1.62409000e-03</span> <span style=\"color: #008080; text-decoration-color: #008080; font-weight: bold\">9.98304719e-01</span><span style=\"font-weight: bold\">]])</span>, <span style=\"color: #008000; text-decoration-color: #008000\">'sin2theta_weak'</span>:    <span style=\"color: #7f7f7f; text-decoration-color: #7f7f7f\">                        </span>\n",
       "<span style=\"color: #7fbfbf; text-decoration-color: #7fbfbf\">           </span>         <span style=\"color: #008080; text-decoration-color: #008080; font-weight: bold\">0.23121</span>, <span style=\"color: #008000; text-decoration-color: #008000\">'MW2'</span>: <span style=\"color: #008080; text-decoration-color: #008080; font-weight: bold\">6463.838403999999</span><span style=\"font-weight: bold\">}</span>                                     <span style=\"color: #7f7f7f; text-decoration-color: #7f7f7f\">                        </span>\n",
       "</pre>\n"
      ],
      "text/plain": [
       "\u001b[2;36m          \u001b[0m\u001b[2;36m \u001b[0m\u001b[34mINFO    \u001b[0m \u001b[1m{\u001b[0m\u001b[32m'MZ2'\u001b[0m: \u001b[1;36m8315.178393760001\u001b[0m, \u001b[32m'CKM'\u001b[0m: \u001b[1;35mCKM\u001b[0m\u001b[1m(\u001b[0m\u001b[1m[\u001b[0m\u001b[1m[\u001b[0m\u001b[1;36m9.49221518e-01\u001b[0m \u001b[1;36m5.07600900e-02\u001b[0m  \u001b]8;id=449451;file:///home/felix/Physik/N3PDF/DIS/yadism/src/yadism/coefficient_functions/coupling_constants.py\u001b\\\u001b[2mcoupling_constants.py\u001b[0m\u001b]8;;\u001b\\\u001b[2m:\u001b[0m\u001b]8;id=661945;file:///home/felix/Physik/N3PDF/DIS/yadism/src/yadism/coefficient_functions/coupling_constants.py#53\u001b\\\u001b[2m53\u001b[0m\u001b]8;;\u001b\\\n",
       "\u001b[2;36m           \u001b[0m         \u001b[1;36m1.20409000e-05\u001b[0m\u001b[1m]\u001b[0m \u001b[1m[\u001b[0m\u001b[1;36m5.07150400e-02\u001b[0m \u001b[1;36m9.47604903e-01\u001b[0m \u001b[1;36m1.68100000e-03\u001b[0m\u001b[1m]\u001b[0m         \u001b[2m                        \u001b[0m\n",
       "\u001b[2;36m           \u001b[0m         \u001b[1m[\u001b[0m\u001b[1;36m7.43044000e-05\u001b[0m \u001b[1;36m1.62409000e-03\u001b[0m \u001b[1;36m9.98304719e-01\u001b[0m\u001b[1m]\u001b[0m\u001b[1m]\u001b[0m\u001b[1m)\u001b[0m, \u001b[32m'sin2theta_weak'\u001b[0m:    \u001b[2m                        \u001b[0m\n",
       "\u001b[2;36m           \u001b[0m         \u001b[1;36m0.23121\u001b[0m, \u001b[32m'MW2'\u001b[0m: \u001b[1;36m6463.838403999999\u001b[0m\u001b[1m}\u001b[0m                                     \u001b[2m                        \u001b[0m\n"
      ]
     },
     "metadata": {},
     "output_type": "display_data"
    },
    {
     "data": {
      "text/html": [
       "<pre style=\"white-space:pre;overflow-x:auto;line-height:normal;font-family:Menlo,'DejaVu Sans Mono',consolas,'Courier New',monospace\"><span style=\"color: #7fbfbf; text-decoration-color: #7fbfbf\">           </span><span style=\"color: #000080; text-decoration-color: #000080\">INFO    </span> <span style=\"font-weight: bold\">{</span><span style=\"color: #008000; text-decoration-color: #008000\">'process'</span>: <span style=\"color: #008000; text-decoration-color: #008000\">'NC'</span>, <span style=\"color: #008000; text-decoration-color: #008000\">'projectilePID'</span>: <span style=\"color: #008080; text-decoration-color: #008080; font-weight: bold\">11</span>, <span style=\"color: #008000; text-decoration-color: #008000\">'polarization'</span>: <span style=\"color: #008080; text-decoration-color: #008080; font-weight: bold\">0.0</span>,            <a href=\"file:///home/felix/Physik/N3PDF/DIS/yadism/src/yadism/coefficient_functions/coupling_constants.py\" target=\"_blank\"><span style=\"color: #7f7f7f; text-decoration-color: #7f7f7f\">coupling_constants.py</span></a><span style=\"color: #7f7f7f; text-decoration-color: #7f7f7f\">:</span><a href=\"file:///home/felix/Physik/N3PDF/DIS/yadism/src/yadism/coefficient_functions/coupling_constants.py#54\" target=\"_blank\"><span style=\"color: #7f7f7f; text-decoration-color: #7f7f7f\">54</span></a>\n",
       "<span style=\"color: #7fbfbf; text-decoration-color: #7fbfbf\">           </span>         <span style=\"color: #008000; text-decoration-color: #008000\">'propagatorCorrection'</span>: <span style=\"color: #008080; text-decoration-color: #008080; font-weight: bold\">0.0</span>, <span style=\"color: #008000; text-decoration-color: #008000\">'nc_pos_charge'</span>: <span style=\"color: #800080; text-decoration-color: #800080; font-style: italic\">None</span><span style=\"font-weight: bold\">}</span>                    <span style=\"color: #7f7f7f; text-decoration-color: #7f7f7f\">                        </span>\n",
       "</pre>\n"
      ],
      "text/plain": [
       "\u001b[2;36m          \u001b[0m\u001b[2;36m \u001b[0m\u001b[34mINFO    \u001b[0m \u001b[1m{\u001b[0m\u001b[32m'process'\u001b[0m: \u001b[32m'NC'\u001b[0m, \u001b[32m'projectilePID'\u001b[0m: \u001b[1;36m11\u001b[0m, \u001b[32m'polarization'\u001b[0m: \u001b[1;36m0.0\u001b[0m,            \u001b]8;id=131162;file:///home/felix/Physik/N3PDF/DIS/yadism/src/yadism/coefficient_functions/coupling_constants.py\u001b\\\u001b[2mcoupling_constants.py\u001b[0m\u001b]8;;\u001b\\\u001b[2m:\u001b[0m\u001b]8;id=669042;file:///home/felix/Physik/N3PDF/DIS/yadism/src/yadism/coefficient_functions/coupling_constants.py#54\u001b\\\u001b[2m54\u001b[0m\u001b]8;;\u001b\\\n",
       "\u001b[2;36m           \u001b[0m         \u001b[32m'propagatorCorrection'\u001b[0m: \u001b[1;36m0.0\u001b[0m, \u001b[32m'nc_pos_charge'\u001b[0m: \u001b[3;35mNone\u001b[0m\u001b[1m}\u001b[0m                    \u001b[2m                        \u001b[0m\n"
      ]
     },
     "metadata": {},
     "output_type": "display_data"
    },
    {
     "data": {
      "text/html": [
       "<pre style=\"white-space:pre;overflow-x:auto;line-height:normal;font-family:Menlo,'DejaVu Sans Mono',consolas,'Courier New',monospace\"><span style=\"color: #7fbfbf; text-decoration-color: #7fbfbf\">           </span><span style=\"color: #000080; text-decoration-color: #000080\">INFO    </span> RenScaleVar: <span style=\"color: #00ff00; text-decoration-color: #00ff00; font-style: italic\">True</span>, FactScaleVar: <span style=\"color: #00ff00; text-decoration-color: #00ff00; font-style: italic\">True</span>                                    <a href=\"file:///home/felix/Physik/N3PDF/DIS/yadism/src/yadism/esf/scale_variations.py\" target=\"_blank\"><span style=\"color: #7f7f7f; text-decoration-color: #7f7f7f\">scale_variations.py</span></a><span style=\"color: #7f7f7f; text-decoration-color: #7f7f7f\">:</span><a href=\"file:///home/felix/Physik/N3PDF/DIS/yadism/src/yadism/esf/scale_variations.py#62\" target=\"_blank\"><span style=\"color: #7f7f7f; text-decoration-color: #7f7f7f\">62</span></a>\n",
       "</pre>\n"
      ],
      "text/plain": [
       "\u001b[2;36m          \u001b[0m\u001b[2;36m \u001b[0m\u001b[34mINFO    \u001b[0m RenScaleVar: \u001b[3;92mTrue\u001b[0m, FactScaleVar: \u001b[3;92mTrue\u001b[0m                                    \u001b]8;id=854780;file:///home/felix/Physik/N3PDF/DIS/yadism/src/yadism/esf/scale_variations.py\u001b\\\u001b[2mscale_variations.py\u001b[0m\u001b]8;;\u001b\\\u001b[2m:\u001b[0m\u001b]8;id=636099;file:///home/felix/Physik/N3PDF/DIS/yadism/src/yadism/esf/scale_variations.py#62\u001b\\\u001b[2m62\u001b[0m\u001b]8;;\u001b\\\n"
      ]
     },
     "metadata": {},
     "output_type": "display_data"
    },
    {
     "data": {
      "text/html": [
       "<pre style=\"white-space:pre;overflow-x:auto;line-height:normal;font-family:Menlo,'DejaVu Sans Mono',consolas,'Courier New',monospace\"><span style=\"color: #7fbfbf; text-decoration-color: #7fbfbf\">           </span><span style=\"color: #000080; text-decoration-color: #000080\">INFO    </span> Atlas <span style=\"font-weight: bold\">[</span><span style=\"color: #008080; text-decoration-color: #008080; font-weight: bold\">0.00e+00</span> - <span style=\"color: #008080; text-decoration-color: #008080; font-weight: bold\">0.00e+00</span> - inf - inf - inf<span style=\"font-weight: bold\">]</span>, <span style=\"color: #808000; text-decoration-color: #808000\">ref</span>=<span style=\"color: #008080; text-decoration-color: #008080; font-weight: bold\">2.7224999999999997</span> @ <span style=\"color: #008080; text-decoration-color: #008080; font-weight: bold\">4</span>       <a href=\"file:///home/felix/.cache/pypoetry/virtualenvs/yadism-QljnF84o-py3.12/lib/python3.12/site-packages/eko/matchings.py\" target=\"_blank\"><span style=\"color: #7f7f7f; text-decoration-color: #7f7f7f\">matchings.py</span></a><span style=\"color: #7f7f7f; text-decoration-color: #7f7f7f\">:</span><a href=\"file:///home/felix/.cache/pypoetry/virtualenvs/yadism-QljnF84o-py3.12/lib/python3.12/site-packages/eko/matchings.py#72\" target=\"_blank\"><span style=\"color: #7f7f7f; text-decoration-color: #7f7f7f\">72</span></a>\n",
       "</pre>\n"
      ],
      "text/plain": [
       "\u001b[2;36m          \u001b[0m\u001b[2;36m \u001b[0m\u001b[34mINFO    \u001b[0m Atlas \u001b[1m[\u001b[0m\u001b[1;36m0.00e+00\u001b[0m - \u001b[1;36m0.00e+00\u001b[0m - inf - inf - inf\u001b[1m]\u001b[0m, \u001b[33mref\u001b[0m=\u001b[1;36m2\u001b[0m\u001b[1;36m.7224999999999997\u001b[0m @ \u001b[1;36m4\u001b[0m       \u001b]8;id=476798;file:///home/felix/.cache/pypoetry/virtualenvs/yadism-QljnF84o-py3.12/lib/python3.12/site-packages/eko/matchings.py\u001b\\\u001b[2mmatchings.py\u001b[0m\u001b]8;;\u001b\\\u001b[2m:\u001b[0m\u001b]8;id=521636;file:///home/felix/.cache/pypoetry/virtualenvs/yadism-QljnF84o-py3.12/lib/python3.12/site-packages/eko/matchings.py#72\u001b\\\u001b[2m72\u001b[0m\u001b]8;;\u001b\\\n"
      ]
     },
     "metadata": {},
     "output_type": "display_data"
    },
    {
     "data": {
      "text/html": [
       "<pre style=\"white-space:pre;overflow-x:auto;line-height:normal;font-family:Menlo,'DejaVu Sans Mono',consolas,'Courier New',monospace\"><span style=\"color: #7fbfbf; text-decoration-color: #7fbfbf\">           </span><span style=\"color: #000080; text-decoration-color: #000080\">INFO    </span> PTO: <span style=\"color: #008080; text-decoration-color: #008080; font-weight: bold\">0</span>, PTO@evolution: <span style=\"color: #008080; text-decoration-color: #008080; font-weight: bold\">0</span>, process: NC                                             <a href=\"file:///home/felix/Physik/N3PDF/DIS/yadism/src/yadism/runner.py\" target=\"_blank\"><span style=\"color: #7f7f7f; text-decoration-color: #7f7f7f\">runner.py</span></a><span style=\"color: #7f7f7f; text-decoration-color: #7f7f7f\">:</span><a href=\"file:///home/felix/Physik/N3PDF/DIS/yadism/src/yadism/runner.py#142\" target=\"_blank\"><span style=\"color: #7f7f7f; text-decoration-color: #7f7f7f\">142</span></a>\n",
       "</pre>\n"
      ],
      "text/plain": [
       "\u001b[2;36m          \u001b[0m\u001b[2;36m \u001b[0m\u001b[34mINFO    \u001b[0m PTO: \u001b[1;36m0\u001b[0m, PTO@evolution: \u001b[1;36m0\u001b[0m, process: NC                                             \u001b]8;id=336828;file:///home/felix/Physik/N3PDF/DIS/yadism/src/yadism/runner.py\u001b\\\u001b[2mrunner.py\u001b[0m\u001b]8;;\u001b\\\u001b[2m:\u001b[0m\u001b]8;id=800214;file:///home/felix/Physik/N3PDF/DIS/yadism/src/yadism/runner.py#142\u001b\\\u001b[2m142\u001b[0m\u001b]8;;\u001b\\\n"
      ]
     },
     "metadata": {},
     "output_type": "display_data"
    },
    {
     "data": {
      "text/html": [
       "<pre style=\"white-space:pre;overflow-x:auto;line-height:normal;font-family:Menlo,'DejaVu Sans Mono',consolas,'Courier New',monospace\"><span style=\"color: #7fbfbf; text-decoration-color: #7fbfbf\">           </span><span style=\"color: #000080; text-decoration-color: #000080\">INFO    </span> FNS: FONLL-FFNS, NfFF: <span style=\"color: #008080; text-decoration-color: #008080; font-weight: bold\">4</span>                                                          <a href=\"file:///home/felix/Physik/N3PDF/DIS/yadism/src/yadism/runner.py\" target=\"_blank\"><span style=\"color: #7f7f7f; text-decoration-color: #7f7f7f\">runner.py</span></a><span style=\"color: #7f7f7f; text-decoration-color: #7f7f7f\">:</span><a href=\"file:///home/felix/Physik/N3PDF/DIS/yadism/src/yadism/runner.py#149\" target=\"_blank\"><span style=\"color: #7f7f7f; text-decoration-color: #7f7f7f\">149</span></a>\n",
       "</pre>\n"
      ],
      "text/plain": [
       "\u001b[2;36m          \u001b[0m\u001b[2;36m \u001b[0m\u001b[34mINFO    \u001b[0m FNS: FONLL-FFNS, NfFF: \u001b[1;36m4\u001b[0m                                                          \u001b]8;id=223655;file:///home/felix/Physik/N3PDF/DIS/yadism/src/yadism/runner.py\u001b\\\u001b[2mrunner.py\u001b[0m\u001b]8;;\u001b\\\u001b[2m:\u001b[0m\u001b]8;id=728901;file:///home/felix/Physik/N3PDF/DIS/yadism/src/yadism/runner.py#149\u001b\\\u001b[2m149\u001b[0m\u001b]8;;\u001b\\\n"
      ]
     },
     "metadata": {},
     "output_type": "display_data"
    },
    {
     "data": {
      "text/html": [
       "<pre style=\"white-space:pre;overflow-x:auto;line-height:normal;font-family:Menlo,'DejaVu Sans Mono',consolas,'Courier New',monospace\"><span style=\"color: #7fbfbf; text-decoration-color: #7fbfbf\">           </span><span style=\"color: #000080; text-decoration-color: #000080\">INFO    </span> projectile: electron, target: <span style=\"font-weight: bold\">{</span>Z: <span style=\"color: #008080; text-decoration-color: #008080; font-weight: bold\">1</span>, A: <span style=\"color: #008080; text-decoration-color: #008080; font-weight: bold\">1</span><span style=\"font-weight: bold\">}</span>                                        <a href=\"file:///home/felix/Physik/N3PDF/DIS/yadism/src/yadism/runner.py\" target=\"_blank\"><span style=\"color: #7f7f7f; text-decoration-color: #7f7f7f\">runner.py</span></a><span style=\"color: #7f7f7f; text-decoration-color: #7f7f7f\">:</span><a href=\"file:///home/felix/Physik/N3PDF/DIS/yadism/src/yadism/runner.py#150\" target=\"_blank\"><span style=\"color: #7f7f7f; text-decoration-color: #7f7f7f\">150</span></a>\n",
       "</pre>\n"
      ],
      "text/plain": [
       "\u001b[2;36m          \u001b[0m\u001b[2;36m \u001b[0m\u001b[34mINFO    \u001b[0m projectile: electron, target: \u001b[1m{\u001b[0mZ: \u001b[1;36m1\u001b[0m, A: \u001b[1;36m1\u001b[0m\u001b[1m}\u001b[0m                                        \u001b]8;id=719132;file:///home/felix/Physik/N3PDF/DIS/yadism/src/yadism/runner.py\u001b\\\u001b[2mrunner.py\u001b[0m\u001b]8;;\u001b\\\u001b[2m:\u001b[0m\u001b]8;id=102746;file:///home/felix/Physik/N3PDF/DIS/yadism/src/yadism/runner.py#150\u001b\\\u001b[2m150\u001b[0m\u001b]8;;\u001b\\\n"
      ]
     },
     "metadata": {},
     "output_type": "display_data"
    },
    {
     "data": {
      "text/html": [
       "<pre style=\"white-space:pre;overflow-x:auto;line-height:normal;font-family:Menlo,'DejaVu Sans Mono',consolas,'Courier New',monospace\">                                      <span style=\"color: #800080; text-decoration-color: #800080\">┌────────────────────────────────────┐</span>                                       \n",
       "                                      <span style=\"color: #800080; text-decoration-color: #800080\">│                                    │</span>                                       \n",
       "                                      <span style=\"color: #800080; text-decoration-color: #800080\">│ __     __       _ _                │</span>                                       \n",
       "                                      <span style=\"color: #800080; text-decoration-color: #800080\">│ \\ \\   / /      | (_)               │</span>                                       \n",
       "                                      <span style=\"color: #800080; text-decoration-color: #800080\">│  \\ \\_/ /_ _  __| |_ ___ _ __ ___   │</span>                                       \n",
       "                                      <span style=\"color: #800080; text-decoration-color: #800080\">│   \\   / _` |/ _` | / __| '_ ` _ \\  │</span>                                       \n",
       "                                      <span style=\"color: #800080; text-decoration-color: #800080\">│    | | (_| | (_| | \\__ \\ | | | | | │</span>                                       \n",
       "                                      <span style=\"color: #800080; text-decoration-color: #800080\">│    |_|\\__,_|\\__,_|_|___/_| |_| |_| │</span>                                       \n",
       "                                      <span style=\"color: #800080; text-decoration-color: #800080\">│                                    │</span>                                       \n",
       "                                      <span style=\"color: #800080; text-decoration-color: #800080\">└────────────────────────────────────┘</span>                                       \n",
       "</pre>\n"
      ],
      "text/plain": [
       "                                      \u001b[35m┌────────────────────────────────────┐\u001b[0m                                       \n",
       "                                      \u001b[35m│\u001b[0m\u001b[35m                                    \u001b[0m\u001b[35m│\u001b[0m                                       \n",
       "                                      \u001b[35m│\u001b[0m\u001b[35m \u001b[0m\u001b[35m__     __       _ _\u001b[0m\u001b[35m               \u001b[0m\u001b[35m \u001b[0m\u001b[35m│\u001b[0m                                       \n",
       "                                      \u001b[35m│\u001b[0m\u001b[35m \u001b[0m\u001b[35m\\ \\   / /      | (_)\u001b[0m\u001b[35m              \u001b[0m\u001b[35m \u001b[0m\u001b[35m│\u001b[0m                                       \n",
       "                                      \u001b[35m│\u001b[0m\u001b[35m \u001b[0m\u001b[35m \\ \\_/ /_ _  __| |_ ___ _ __ ___\u001b[0m\u001b[35m  \u001b[0m\u001b[35m \u001b[0m\u001b[35m│\u001b[0m                                       \n",
       "                                      \u001b[35m│\u001b[0m\u001b[35m \u001b[0m\u001b[35m  \\   / _` |/ _` | / __| '_ ` _ \\\u001b[0m\u001b[35m \u001b[0m\u001b[35m \u001b[0m\u001b[35m│\u001b[0m                                       \n",
       "                                      \u001b[35m│\u001b[0m\u001b[35m \u001b[0m\u001b[35m   | | (_| | (_| | \\__ \\ | | | | |\u001b[0m\u001b[35m \u001b[0m\u001b[35m│\u001b[0m                                       \n",
       "                                      \u001b[35m│\u001b[0m\u001b[35m \u001b[0m\u001b[35m   |_|\\__,_|\\__,_|_|___/_| |_| |_|\u001b[0m\u001b[35m \u001b[0m\u001b[35m│\u001b[0m                                       \n",
       "                                      \u001b[35m│\u001b[0m\u001b[35m                                    \u001b[0m\u001b[35m│\u001b[0m                                       \n",
       "                                      \u001b[35m└────────────────────────────────────┘\u001b[0m                                       \n"
      ]
     },
     "metadata": {},
     "output_type": "display_data"
    },
    {
     "data": {
      "text/html": [
       "<pre style=\"white-space:pre;overflow-x:auto;line-height:normal;font-family:Menlo,'DejaVu Sans Mono',consolas,'Courier New',monospace\">\n",
       "                                                       <span style=\"font-weight: bold; text-decoration: underline\">Plan</span>                                                        \n",
       "</pre>\n"
      ],
      "text/plain": [
       "\n",
       "                                                       \u001b[1;4mPlan\u001b[0m                                                        \n"
      ]
     },
     "metadata": {},
     "output_type": "display_data"
    },
    {
     "data": {
      "text/html": [
       "<pre style=\"white-space:pre;overflow-x:auto;line-height:normal;font-family:Menlo,'DejaVu Sans Mono',consolas,'Courier New',monospace\">\n",
       "<span style=\"color: #808000; text-decoration-color: #808000; font-weight: bold\"> • </span>F2_charm at 2 pts                                                                                               \n",
       "</pre>\n"
      ],
      "text/plain": [
       "\n",
       "\u001b[1;33m • \u001b[0mF2_charm at 2 pts                                                                                               \n"
      ]
     },
     "metadata": {},
     "output_type": "display_data"
    },
    {
     "data": {
      "text/html": [
       "<pre style=\"white-space:pre;overflow-x:auto;line-height:normal;font-family:Menlo,'DejaVu Sans Mono',consolas,'Courier New',monospace\">\n",
       "                                                    <span style=\"font-weight: bold; text-decoration: underline\">Calculation</span>                                                    \n",
       "</pre>\n"
      ],
      "text/plain": [
       "\n",
       "                                                    \u001b[1;4mCalculation\u001b[0m                                                    \n"
      ]
     },
     "metadata": {},
     "output_type": "display_data"
    },
    {
     "data": {
      "text/html": [
       "<pre style=\"white-space:pre;overflow-x:auto;line-height:normal;font-family:Menlo,'DejaVu Sans Mono',consolas,'Courier New',monospace\">yadism took off! please stay tuned <span style=\"color: #808000; text-decoration-color: #808000\">...</span>\n",
       "</pre>\n"
      ],
      "text/plain": [
       "yadism took off! please stay tuned \u001b[33m...\u001b[0m\n"
      ]
     },
     "metadata": {},
     "output_type": "display_data"
    },
    {
     "data": {
      "text/html": [
       "<pre style=\"white-space:pre;overflow-x:auto;line-height:normal;font-family:Menlo,'DejaVu Sans Mono',consolas,'Courier New',monospace\"></pre>\n"
      ],
      "text/plain": [
       "\u001b[?25l"
      ]
     },
     "metadata": {},
     "output_type": "display_data"
    },
    {
     "data": {
      "text/html": [
       "<pre style=\"white-space:pre;overflow-x:auto;line-height:normal;font-family:Menlo,'DejaVu Sans Mono',consolas,'Courier New',monospace\">\n",
       "\u001b[?25h</pre>\n"
      ],
      "text/plain": [
       "\n",
       "\u001b[?25h"
      ]
     },
     "metadata": {},
     "output_type": "display_data"
    },
    {
     "data": {
      "text/html": [
       "<pre style=\"white-space:pre;overflow-x:auto;line-height:normal;font-family:Menlo,'DejaVu Sans Mono',consolas,'Courier New',monospace\"><span style=\"color: #008080; text-decoration-color: #008080\">took </span><span style=\"color: #008080; text-decoration-color: #008080; font-weight: bold\">0.04</span><span style=\"color: #008080; text-decoration-color: #008080\"> s</span>\n",
       "</pre>\n"
      ],
      "text/plain": [
       "\u001b[36mtook \u001b[0m\u001b[1;36m0.04\u001b[0m\u001b[36m s\u001b[0m\n"
      ]
     },
     "metadata": {},
     "output_type": "display_data"
    },
    {
     "data": {
      "text/html": [
       "<pre style=\"white-space:pre;overflow-x:auto;line-height:normal;font-family:Menlo,'DejaVu Sans Mono',consolas,'Courier New',monospace\"><span style=\"color: #7fbfbf; text-decoration-color: #7fbfbf\">[14:30:46] </span><span style=\"color: #000080; text-decoration-color: #000080\">INFO    </span> Atlas <span style=\"font-weight: bold\">[</span><span style=\"color: #008080; text-decoration-color: #008080; font-weight: bold\">0.00e+00</span> - <span style=\"color: #008080; text-decoration-color: #008080; font-weight: bold\">2.28e+00</span> - <span style=\"color: #008080; text-decoration-color: #008080; font-weight: bold\">2.42e+01</span> - <span style=\"color: #008080; text-decoration-color: #008080; font-weight: bold\">2.98e+04</span> - inf<span style=\"font-weight: bold\">]</span>, <span style=\"color: #808000; text-decoration-color: #808000\">ref</span>=<span style=\"color: #008080; text-decoration-color: #008080; font-weight: bold\">8317.44</span> @ <span style=\"color: #008080; text-decoration-color: #008080; font-weight: bold\">5</span>        <a href=\"file:///home/felix/.cache/pypoetry/virtualenvs/yadism-QljnF84o-py3.12/lib/python3.12/site-packages/eko/matchings.py\" target=\"_blank\"><span style=\"color: #7f7f7f; text-decoration-color: #7f7f7f\">matchings.py</span></a><span style=\"color: #7f7f7f; text-decoration-color: #7f7f7f\">:</span><a href=\"file:///home/felix/.cache/pypoetry/virtualenvs/yadism-QljnF84o-py3.12/lib/python3.12/site-packages/eko/matchings.py#72\" target=\"_blank\"><span style=\"color: #7f7f7f; text-decoration-color: #7f7f7f\">72</span></a>\n",
       "</pre>\n"
      ],
      "text/plain": [
       "\u001b[2;36m[14:30:46]\u001b[0m\u001b[2;36m \u001b[0m\u001b[34mINFO    \u001b[0m Atlas \u001b[1m[\u001b[0m\u001b[1;36m0.00e+00\u001b[0m - \u001b[1;36m2.28e+00\u001b[0m - \u001b[1;36m2.42e+01\u001b[0m - \u001b[1;36m2.98e+04\u001b[0m - inf\u001b[1m]\u001b[0m, \u001b[33mref\u001b[0m=\u001b[1;36m8317\u001b[0m\u001b[1;36m.44\u001b[0m @ \u001b[1;36m5\u001b[0m        \u001b]8;id=998266;file:///home/felix/.cache/pypoetry/virtualenvs/yadism-QljnF84o-py3.12/lib/python3.12/site-packages/eko/matchings.py\u001b\\\u001b[2mmatchings.py\u001b[0m\u001b]8;;\u001b\\\u001b[2m:\u001b[0m\u001b]8;id=851342;file:///home/felix/.cache/pypoetry/virtualenvs/yadism-QljnF84o-py3.12/lib/python3.12/site-packages/eko/matchings.py#72\u001b\\\u001b[2m72\u001b[0m\u001b]8;;\u001b\\\n"
      ]
     },
     "metadata": {},
     "output_type": "display_data"
    },
    {
     "data": {
      "text/html": [
       "<pre style=\"white-space:pre;overflow-x:auto;line-height:normal;font-family:Menlo,'DejaVu Sans Mono',consolas,'Courier New',monospace\"><span style=\"color: #7fbfbf; text-decoration-color: #7fbfbf\">           </span><span style=\"color: #000080; text-decoration-color: #000080\">INFO    </span> Strong Coupling: <span style=\"color: #800080; text-decoration-color: #800080; font-weight: bold\">a_s</span><span style=\"font-weight: bold\">(</span>µ_R^<span style=\"color: #008080; text-decoration-color: #008080; font-weight: bold\">2</span>=<span style=\"color: #008080; text-decoration-color: #008080; font-weight: bold\">8317.440000</span><span style=\"font-weight: bold\">)</span>^<span style=\"font-weight: bold\">(</span><span style=\"color: #808000; text-decoration-color: #808000\">nf</span>=<span style=\"color: #008080; text-decoration-color: #008080; font-weight: bold\">5</span><span style=\"font-weight: bold\">)</span>=<span style=\"color: #008080; text-decoration-color: #008080; font-weight: bold\">0.009390</span>=<span style=\"color: #008080; text-decoration-color: #008080; font-weight: bold\">0.118000</span>/<span style=\"font-weight: bold\">(</span>4π<span style=\"font-weight: bold\">)</span>          <a href=\"file:///home/felix/.cache/pypoetry/virtualenvs/yadism-QljnF84o-py3.12/lib/python3.12/site-packages/eko/couplings.py\" target=\"_blank\"><span style=\"color: #7f7f7f; text-decoration-color: #7f7f7f\">couplings.py</span></a><span style=\"color: #7f7f7f; text-decoration-color: #7f7f7f\">:</span><a href=\"file:///home/felix/.cache/pypoetry/virtualenvs/yadism-QljnF84o-py3.12/lib/python3.12/site-packages/eko/couplings.py#464\" target=\"_blank\"><span style=\"color: #7f7f7f; text-decoration-color: #7f7f7f\">464</span></a>\n",
       "</pre>\n"
      ],
      "text/plain": [
       "\u001b[2;36m          \u001b[0m\u001b[2;36m \u001b[0m\u001b[34mINFO    \u001b[0m Strong Coupling: \u001b[1;35ma_s\u001b[0m\u001b[1m(\u001b[0mµ_R^\u001b[1;36m2\u001b[0m=\u001b[1;36m8317\u001b[0m\u001b[1;36m.440000\u001b[0m\u001b[1m)\u001b[0m^\u001b[1m(\u001b[0m\u001b[33mnf\u001b[0m=\u001b[1;36m5\u001b[0m\u001b[1m)\u001b[0m=\u001b[1;36m0.\u001b[0m\u001b[1;36m009390\u001b[0m=\u001b[1;36m0\u001b[0m\u001b[1;36m.118000\u001b[0m/\u001b[1m(\u001b[0m4π\u001b[1m)\u001b[0m          \u001b]8;id=318973;file:///home/felix/.cache/pypoetry/virtualenvs/yadism-QljnF84o-py3.12/lib/python3.12/site-packages/eko/couplings.py\u001b\\\u001b[2mcouplings.py\u001b[0m\u001b]8;;\u001b\\\u001b[2m:\u001b[0m\u001b]8;id=655348;file:///home/felix/.cache/pypoetry/virtualenvs/yadism-QljnF84o-py3.12/lib/python3.12/site-packages/eko/couplings.py#464\u001b\\\u001b[2m464\u001b[0m\u001b]8;;\u001b\\\n"
      ]
     },
     "metadata": {},
     "output_type": "display_data"
    },
    {
     "data": {
      "text/html": [
       "<pre style=\"white-space:pre;overflow-x:auto;line-height:normal;font-family:Menlo,'DejaVu Sans Mono',consolas,'Courier New',monospace\"><span style=\"color: #7fbfbf; text-decoration-color: #7fbfbf\">           </span><span style=\"color: #000080; text-decoration-color: #000080\">INFO    </span> Atlas <span style=\"font-weight: bold\">[</span><span style=\"color: #008080; text-decoration-color: #008080; font-weight: bold\">0.00e+00</span> - <span style=\"color: #008080; text-decoration-color: #008080; font-weight: bold\">2.28e+00</span> - <span style=\"color: #008080; text-decoration-color: #008080; font-weight: bold\">2.42e+01</span> - <span style=\"color: #008080; text-decoration-color: #008080; font-weight: bold\">2.98e+04</span> - inf<span style=\"font-weight: bold\">]</span>, <span style=\"color: #808000; text-decoration-color: #808000\">ref</span>=<span style=\"color: #008080; text-decoration-color: #008080; font-weight: bold\">8317.44</span> @ <span style=\"color: #008080; text-decoration-color: #008080; font-weight: bold\">5</span>        <a href=\"file:///home/felix/.cache/pypoetry/virtualenvs/yadism-QljnF84o-py3.12/lib/python3.12/site-packages/eko/matchings.py\" target=\"_blank\"><span style=\"color: #7f7f7f; text-decoration-color: #7f7f7f\">matchings.py</span></a><span style=\"color: #7f7f7f; text-decoration-color: #7f7f7f\">:</span><a href=\"file:///home/felix/.cache/pypoetry/virtualenvs/yadism-QljnF84o-py3.12/lib/python3.12/site-packages/eko/matchings.py#72\" target=\"_blank\"><span style=\"color: #7f7f7f; text-decoration-color: #7f7f7f\">72</span></a>\n",
       "</pre>\n"
      ],
      "text/plain": [
       "\u001b[2;36m          \u001b[0m\u001b[2;36m \u001b[0m\u001b[34mINFO    \u001b[0m Atlas \u001b[1m[\u001b[0m\u001b[1;36m0.00e+00\u001b[0m - \u001b[1;36m2.28e+00\u001b[0m - \u001b[1;36m2.42e+01\u001b[0m - \u001b[1;36m2.98e+04\u001b[0m - inf\u001b[1m]\u001b[0m, \u001b[33mref\u001b[0m=\u001b[1;36m8317\u001b[0m\u001b[1;36m.44\u001b[0m @ \u001b[1;36m5\u001b[0m        \u001b]8;id=57255;file:///home/felix/.cache/pypoetry/virtualenvs/yadism-QljnF84o-py3.12/lib/python3.12/site-packages/eko/matchings.py\u001b\\\u001b[2mmatchings.py\u001b[0m\u001b]8;;\u001b\\\u001b[2m:\u001b[0m\u001b]8;id=749767;file:///home/felix/.cache/pypoetry/virtualenvs/yadism-QljnF84o-py3.12/lib/python3.12/site-packages/eko/matchings.py#72\u001b\\\u001b[2m72\u001b[0m\u001b]8;;\u001b\\\n"
      ]
     },
     "metadata": {},
     "output_type": "display_data"
    },
    {
     "name": "stdout",
     "output_type": "stream",
     "text": [
      "LHAPDF 6.5.4 loading /home/felix/local/share/LHAPDF/NNPDF40_evolved_nf4/NNPDF40_evolved_nf4_0000.dat\n",
      "NNPDF40_evolved_nf4 PDF set, member #0, version 1\n"
     ]
    },
    {
     "data": {
      "text/html": [
       "<pre style=\"white-space:pre;overflow-x:auto;line-height:normal;font-family:Menlo,'DejaVu Sans Mono',consolas,'Courier New',monospace\"><span style=\"color: #7fbfbf; text-decoration-color: #7fbfbf\">           </span><span style=\"color: #000080; text-decoration-color: #000080\">INFO    </span> Interpolation: number of points = <span style=\"color: #008080; text-decoration-color: #008080; font-weight: bold\">8</span>, polynomial degree = <span style=\"color: #008080; text-decoration-color: #008080; font-weight: bold\">4</span>, logarithmic =  <a href=\"file:///home/felix/.cache/pypoetry/virtualenvs/yadism-QljnF84o-py3.12/lib/python3.12/site-packages/eko/interpolation.py\" target=\"_blank\"><span style=\"color: #7f7f7f; text-decoration-color: #7f7f7f\">interpolation.py</span></a><span style=\"color: #7f7f7f; text-decoration-color: #7f7f7f\">:</span><a href=\"file:///home/felix/.cache/pypoetry/virtualenvs/yadism-QljnF84o-py3.12/lib/python3.12/site-packages/eko/interpolation.py#538\" target=\"_blank\"><span style=\"color: #7f7f7f; text-decoration-color: #7f7f7f\">538</span></a>\n",
       "<span style=\"color: #7fbfbf; text-decoration-color: #7fbfbf\">           </span>         <span style=\"color: #00ff00; text-decoration-color: #00ff00; font-style: italic\">True</span>                                                                       <span style=\"color: #7f7f7f; text-decoration-color: #7f7f7f\">                    </span>\n",
       "</pre>\n"
      ],
      "text/plain": [
       "\u001b[2;36m          \u001b[0m\u001b[2;36m \u001b[0m\u001b[34mINFO    \u001b[0m Interpolation: number of points = \u001b[1;36m8\u001b[0m, polynomial degree = \u001b[1;36m4\u001b[0m, logarithmic =  \u001b]8;id=692954;file:///home/felix/.cache/pypoetry/virtualenvs/yadism-QljnF84o-py3.12/lib/python3.12/site-packages/eko/interpolation.py\u001b\\\u001b[2minterpolation.py\u001b[0m\u001b]8;;\u001b\\\u001b[2m:\u001b[0m\u001b]8;id=195027;file:///home/felix/.cache/pypoetry/virtualenvs/yadism-QljnF84o-py3.12/lib/python3.12/site-packages/eko/interpolation.py#538\u001b\\\u001b[2m538\u001b[0m\u001b]8;;\u001b\\\n",
       "\u001b[2;36m           \u001b[0m         \u001b[3;92mTrue\u001b[0m                                                                       \u001b[2m                    \u001b[0m\n"
      ]
     },
     "metadata": {},
     "output_type": "display_data"
    },
    {
     "data": {
      "text/html": [
       "<pre style=\"white-space:pre;overflow-x:auto;line-height:normal;font-family:Menlo,'DejaVu Sans Mono',consolas,'Courier New',monospace\"><span style=\"color: #7fbfbf; text-decoration-color: #7fbfbf\">           </span><span style=\"color: #000080; text-decoration-color: #000080\">INFO    </span> <span style=\"font-weight: bold\">{</span><span style=\"color: #008000; text-decoration-color: #008000\">'MZ2'</span>: <span style=\"color: #008080; text-decoration-color: #008080; font-weight: bold\">8315.178393760001</span>, <span style=\"color: #008000; text-decoration-color: #008000\">'CKM'</span>: <span style=\"color: #800080; text-decoration-color: #800080; font-weight: bold\">CKM</span><span style=\"font-weight: bold\">([[</span><span style=\"color: #008080; text-decoration-color: #008080; font-weight: bold\">9.49221518e-01</span> <span style=\"color: #008080; text-decoration-color: #008080; font-weight: bold\">5.07600900e-02</span>  <a href=\"file:///home/felix/Physik/N3PDF/DIS/yadism/src/yadism/coefficient_functions/coupling_constants.py\" target=\"_blank\"><span style=\"color: #7f7f7f; text-decoration-color: #7f7f7f\">coupling_constants.py</span></a><span style=\"color: #7f7f7f; text-decoration-color: #7f7f7f\">:</span><a href=\"file:///home/felix/Physik/N3PDF/DIS/yadism/src/yadism/coefficient_functions/coupling_constants.py#53\" target=\"_blank\"><span style=\"color: #7f7f7f; text-decoration-color: #7f7f7f\">53</span></a>\n",
       "<span style=\"color: #7fbfbf; text-decoration-color: #7fbfbf\">           </span>         <span style=\"color: #008080; text-decoration-color: #008080; font-weight: bold\">1.20409000e-05</span><span style=\"font-weight: bold\">]</span> <span style=\"font-weight: bold\">[</span><span style=\"color: #008080; text-decoration-color: #008080; font-weight: bold\">5.07150400e-02</span> <span style=\"color: #008080; text-decoration-color: #008080; font-weight: bold\">9.47604903e-01</span> <span style=\"color: #008080; text-decoration-color: #008080; font-weight: bold\">1.68100000e-03</span><span style=\"font-weight: bold\">]</span>         <span style=\"color: #7f7f7f; text-decoration-color: #7f7f7f\">                        </span>\n",
       "<span style=\"color: #7fbfbf; text-decoration-color: #7fbfbf\">           </span>         <span style=\"font-weight: bold\">[</span><span style=\"color: #008080; text-decoration-color: #008080; font-weight: bold\">7.43044000e-05</span> <span style=\"color: #008080; text-decoration-color: #008080; font-weight: bold\">1.62409000e-03</span> <span style=\"color: #008080; text-decoration-color: #008080; font-weight: bold\">9.98304719e-01</span><span style=\"font-weight: bold\">]])</span>, <span style=\"color: #008000; text-decoration-color: #008000\">'sin2theta_weak'</span>:    <span style=\"color: #7f7f7f; text-decoration-color: #7f7f7f\">                        </span>\n",
       "<span style=\"color: #7fbfbf; text-decoration-color: #7fbfbf\">           </span>         <span style=\"color: #008080; text-decoration-color: #008080; font-weight: bold\">0.23121</span>, <span style=\"color: #008000; text-decoration-color: #008000\">'MW2'</span>: <span style=\"color: #008080; text-decoration-color: #008080; font-weight: bold\">6463.838403999999</span><span style=\"font-weight: bold\">}</span>                                     <span style=\"color: #7f7f7f; text-decoration-color: #7f7f7f\">                        </span>\n",
       "</pre>\n"
      ],
      "text/plain": [
       "\u001b[2;36m          \u001b[0m\u001b[2;36m \u001b[0m\u001b[34mINFO    \u001b[0m \u001b[1m{\u001b[0m\u001b[32m'MZ2'\u001b[0m: \u001b[1;36m8315.178393760001\u001b[0m, \u001b[32m'CKM'\u001b[0m: \u001b[1;35mCKM\u001b[0m\u001b[1m(\u001b[0m\u001b[1m[\u001b[0m\u001b[1m[\u001b[0m\u001b[1;36m9.49221518e-01\u001b[0m \u001b[1;36m5.07600900e-02\u001b[0m  \u001b]8;id=340705;file:///home/felix/Physik/N3PDF/DIS/yadism/src/yadism/coefficient_functions/coupling_constants.py\u001b\\\u001b[2mcoupling_constants.py\u001b[0m\u001b]8;;\u001b\\\u001b[2m:\u001b[0m\u001b]8;id=95776;file:///home/felix/Physik/N3PDF/DIS/yadism/src/yadism/coefficient_functions/coupling_constants.py#53\u001b\\\u001b[2m53\u001b[0m\u001b]8;;\u001b\\\n",
       "\u001b[2;36m           \u001b[0m         \u001b[1;36m1.20409000e-05\u001b[0m\u001b[1m]\u001b[0m \u001b[1m[\u001b[0m\u001b[1;36m5.07150400e-02\u001b[0m \u001b[1;36m9.47604903e-01\u001b[0m \u001b[1;36m1.68100000e-03\u001b[0m\u001b[1m]\u001b[0m         \u001b[2m                        \u001b[0m\n",
       "\u001b[2;36m           \u001b[0m         \u001b[1m[\u001b[0m\u001b[1;36m7.43044000e-05\u001b[0m \u001b[1;36m1.62409000e-03\u001b[0m \u001b[1;36m9.98304719e-01\u001b[0m\u001b[1m]\u001b[0m\u001b[1m]\u001b[0m\u001b[1m)\u001b[0m, \u001b[32m'sin2theta_weak'\u001b[0m:    \u001b[2m                        \u001b[0m\n",
       "\u001b[2;36m           \u001b[0m         \u001b[1;36m0.23121\u001b[0m, \u001b[32m'MW2'\u001b[0m: \u001b[1;36m6463.838403999999\u001b[0m\u001b[1m}\u001b[0m                                     \u001b[2m                        \u001b[0m\n"
      ]
     },
     "metadata": {},
     "output_type": "display_data"
    },
    {
     "data": {
      "text/html": [
       "<pre style=\"white-space:pre;overflow-x:auto;line-height:normal;font-family:Menlo,'DejaVu Sans Mono',consolas,'Courier New',monospace\"><span style=\"color: #7fbfbf; text-decoration-color: #7fbfbf\">           </span><span style=\"color: #000080; text-decoration-color: #000080\">INFO    </span> <span style=\"font-weight: bold\">{</span><span style=\"color: #008000; text-decoration-color: #008000\">'process'</span>: <span style=\"color: #008000; text-decoration-color: #008000\">'NC'</span>, <span style=\"color: #008000; text-decoration-color: #008000\">'projectilePID'</span>: <span style=\"color: #008080; text-decoration-color: #008080; font-weight: bold\">11</span>, <span style=\"color: #008000; text-decoration-color: #008000\">'polarization'</span>: <span style=\"color: #008080; text-decoration-color: #008080; font-weight: bold\">0.0</span>,            <a href=\"file:///home/felix/Physik/N3PDF/DIS/yadism/src/yadism/coefficient_functions/coupling_constants.py\" target=\"_blank\"><span style=\"color: #7f7f7f; text-decoration-color: #7f7f7f\">coupling_constants.py</span></a><span style=\"color: #7f7f7f; text-decoration-color: #7f7f7f\">:</span><a href=\"file:///home/felix/Physik/N3PDF/DIS/yadism/src/yadism/coefficient_functions/coupling_constants.py#54\" target=\"_blank\"><span style=\"color: #7f7f7f; text-decoration-color: #7f7f7f\">54</span></a>\n",
       "<span style=\"color: #7fbfbf; text-decoration-color: #7fbfbf\">           </span>         <span style=\"color: #008000; text-decoration-color: #008000\">'propagatorCorrection'</span>: <span style=\"color: #008080; text-decoration-color: #008080; font-weight: bold\">0.0</span>, <span style=\"color: #008000; text-decoration-color: #008000\">'nc_pos_charge'</span>: <span style=\"color: #800080; text-decoration-color: #800080; font-style: italic\">None</span><span style=\"font-weight: bold\">}</span>                    <span style=\"color: #7f7f7f; text-decoration-color: #7f7f7f\">                        </span>\n",
       "</pre>\n"
      ],
      "text/plain": [
       "\u001b[2;36m          \u001b[0m\u001b[2;36m \u001b[0m\u001b[34mINFO    \u001b[0m \u001b[1m{\u001b[0m\u001b[32m'process'\u001b[0m: \u001b[32m'NC'\u001b[0m, \u001b[32m'projectilePID'\u001b[0m: \u001b[1;36m11\u001b[0m, \u001b[32m'polarization'\u001b[0m: \u001b[1;36m0.0\u001b[0m,            \u001b]8;id=570975;file:///home/felix/Physik/N3PDF/DIS/yadism/src/yadism/coefficient_functions/coupling_constants.py\u001b\\\u001b[2mcoupling_constants.py\u001b[0m\u001b]8;;\u001b\\\u001b[2m:\u001b[0m\u001b]8;id=689054;file:///home/felix/Physik/N3PDF/DIS/yadism/src/yadism/coefficient_functions/coupling_constants.py#54\u001b\\\u001b[2m54\u001b[0m\u001b]8;;\u001b\\\n",
       "\u001b[2;36m           \u001b[0m         \u001b[32m'propagatorCorrection'\u001b[0m: \u001b[1;36m0.0\u001b[0m, \u001b[32m'nc_pos_charge'\u001b[0m: \u001b[3;35mNone\u001b[0m\u001b[1m}\u001b[0m                    \u001b[2m                        \u001b[0m\n"
      ]
     },
     "metadata": {},
     "output_type": "display_data"
    },
    {
     "data": {
      "text/html": [
       "<pre style=\"white-space:pre;overflow-x:auto;line-height:normal;font-family:Menlo,'DejaVu Sans Mono',consolas,'Courier New',monospace\"><span style=\"color: #7fbfbf; text-decoration-color: #7fbfbf\">           </span><span style=\"color: #000080; text-decoration-color: #000080\">INFO    </span> RenScaleVar: <span style=\"color: #00ff00; text-decoration-color: #00ff00; font-style: italic\">True</span>, FactScaleVar: <span style=\"color: #00ff00; text-decoration-color: #00ff00; font-style: italic\">True</span>                                    <a href=\"file:///home/felix/Physik/N3PDF/DIS/yadism/src/yadism/esf/scale_variations.py\" target=\"_blank\"><span style=\"color: #7f7f7f; text-decoration-color: #7f7f7f\">scale_variations.py</span></a><span style=\"color: #7f7f7f; text-decoration-color: #7f7f7f\">:</span><a href=\"file:///home/felix/Physik/N3PDF/DIS/yadism/src/yadism/esf/scale_variations.py#62\" target=\"_blank\"><span style=\"color: #7f7f7f; text-decoration-color: #7f7f7f\">62</span></a>\n",
       "</pre>\n"
      ],
      "text/plain": [
       "\u001b[2;36m          \u001b[0m\u001b[2;36m \u001b[0m\u001b[34mINFO    \u001b[0m RenScaleVar: \u001b[3;92mTrue\u001b[0m, FactScaleVar: \u001b[3;92mTrue\u001b[0m                                    \u001b]8;id=872222;file:///home/felix/Physik/N3PDF/DIS/yadism/src/yadism/esf/scale_variations.py\u001b\\\u001b[2mscale_variations.py\u001b[0m\u001b]8;;\u001b\\\u001b[2m:\u001b[0m\u001b]8;id=212782;file:///home/felix/Physik/N3PDF/DIS/yadism/src/yadism/esf/scale_variations.py#62\u001b\\\u001b[2m62\u001b[0m\u001b]8;;\u001b\\\n"
      ]
     },
     "metadata": {},
     "output_type": "display_data"
    },
    {
     "data": {
      "text/html": [
       "<pre style=\"white-space:pre;overflow-x:auto;line-height:normal;font-family:Menlo,'DejaVu Sans Mono',consolas,'Courier New',monospace\"><span style=\"color: #7fbfbf; text-decoration-color: #7fbfbf\">           </span><span style=\"color: #000080; text-decoration-color: #000080\">INFO    </span> Atlas <span style=\"font-weight: bold\">[</span><span style=\"color: #008080; text-decoration-color: #008080; font-weight: bold\">0.00e+00</span> - <span style=\"color: #008080; text-decoration-color: #008080; font-weight: bold\">0.00e+00</span> - inf - inf - inf<span style=\"font-weight: bold\">]</span>, <span style=\"color: #808000; text-decoration-color: #808000\">ref</span>=<span style=\"color: #008080; text-decoration-color: #008080; font-weight: bold\">2.7224999999999997</span> @ <span style=\"color: #008080; text-decoration-color: #008080; font-weight: bold\">4</span>       <a href=\"file:///home/felix/.cache/pypoetry/virtualenvs/yadism-QljnF84o-py3.12/lib/python3.12/site-packages/eko/matchings.py\" target=\"_blank\"><span style=\"color: #7f7f7f; text-decoration-color: #7f7f7f\">matchings.py</span></a><span style=\"color: #7f7f7f; text-decoration-color: #7f7f7f\">:</span><a href=\"file:///home/felix/.cache/pypoetry/virtualenvs/yadism-QljnF84o-py3.12/lib/python3.12/site-packages/eko/matchings.py#72\" target=\"_blank\"><span style=\"color: #7f7f7f; text-decoration-color: #7f7f7f\">72</span></a>\n",
       "</pre>\n"
      ],
      "text/plain": [
       "\u001b[2;36m          \u001b[0m\u001b[2;36m \u001b[0m\u001b[34mINFO    \u001b[0m Atlas \u001b[1m[\u001b[0m\u001b[1;36m0.00e+00\u001b[0m - \u001b[1;36m0.00e+00\u001b[0m - inf - inf - inf\u001b[1m]\u001b[0m, \u001b[33mref\u001b[0m=\u001b[1;36m2\u001b[0m\u001b[1;36m.7224999999999997\u001b[0m @ \u001b[1;36m4\u001b[0m       \u001b]8;id=226415;file:///home/felix/.cache/pypoetry/virtualenvs/yadism-QljnF84o-py3.12/lib/python3.12/site-packages/eko/matchings.py\u001b\\\u001b[2mmatchings.py\u001b[0m\u001b]8;;\u001b\\\u001b[2m:\u001b[0m\u001b]8;id=838119;file:///home/felix/.cache/pypoetry/virtualenvs/yadism-QljnF84o-py3.12/lib/python3.12/site-packages/eko/matchings.py#72\u001b\\\u001b[2m72\u001b[0m\u001b]8;;\u001b\\\n"
      ]
     },
     "metadata": {},
     "output_type": "display_data"
    },
    {
     "data": {
      "text/html": [
       "<pre style=\"white-space:pre;overflow-x:auto;line-height:normal;font-family:Menlo,'DejaVu Sans Mono',consolas,'Courier New',monospace\"><span style=\"color: #7fbfbf; text-decoration-color: #7fbfbf\">           </span><span style=\"color: #000080; text-decoration-color: #000080\">INFO    </span> PTO: <span style=\"color: #008080; text-decoration-color: #008080; font-weight: bold\">0</span>, PTO@evolution: <span style=\"color: #008080; text-decoration-color: #008080; font-weight: bold\">0</span>, process: NC                                             <a href=\"file:///home/felix/Physik/N3PDF/DIS/yadism/src/yadism/runner.py\" target=\"_blank\"><span style=\"color: #7f7f7f; text-decoration-color: #7f7f7f\">runner.py</span></a><span style=\"color: #7f7f7f; text-decoration-color: #7f7f7f\">:</span><a href=\"file:///home/felix/Physik/N3PDF/DIS/yadism/src/yadism/runner.py#142\" target=\"_blank\"><span style=\"color: #7f7f7f; text-decoration-color: #7f7f7f\">142</span></a>\n",
       "</pre>\n"
      ],
      "text/plain": [
       "\u001b[2;36m          \u001b[0m\u001b[2;36m \u001b[0m\u001b[34mINFO    \u001b[0m PTO: \u001b[1;36m0\u001b[0m, PTO@evolution: \u001b[1;36m0\u001b[0m, process: NC                                             \u001b]8;id=305516;file:///home/felix/Physik/N3PDF/DIS/yadism/src/yadism/runner.py\u001b\\\u001b[2mrunner.py\u001b[0m\u001b]8;;\u001b\\\u001b[2m:\u001b[0m\u001b]8;id=23592;file:///home/felix/Physik/N3PDF/DIS/yadism/src/yadism/runner.py#142\u001b\\\u001b[2m142\u001b[0m\u001b]8;;\u001b\\\n"
      ]
     },
     "metadata": {},
     "output_type": "display_data"
    },
    {
     "data": {
      "text/html": [
       "<pre style=\"white-space:pre;overflow-x:auto;line-height:normal;font-family:Menlo,'DejaVu Sans Mono',consolas,'Courier New',monospace\"><span style=\"color: #7fbfbf; text-decoration-color: #7fbfbf\">           </span><span style=\"color: #000080; text-decoration-color: #000080\">INFO    </span> FNS: FONLL-FFN0, NfFF: <span style=\"color: #008080; text-decoration-color: #008080; font-weight: bold\">4</span>                                                          <a href=\"file:///home/felix/Physik/N3PDF/DIS/yadism/src/yadism/runner.py\" target=\"_blank\"><span style=\"color: #7f7f7f; text-decoration-color: #7f7f7f\">runner.py</span></a><span style=\"color: #7f7f7f; text-decoration-color: #7f7f7f\">:</span><a href=\"file:///home/felix/Physik/N3PDF/DIS/yadism/src/yadism/runner.py#149\" target=\"_blank\"><span style=\"color: #7f7f7f; text-decoration-color: #7f7f7f\">149</span></a>\n",
       "</pre>\n"
      ],
      "text/plain": [
       "\u001b[2;36m          \u001b[0m\u001b[2;36m \u001b[0m\u001b[34mINFO    \u001b[0m FNS: FONLL-FFN0, NfFF: \u001b[1;36m4\u001b[0m                                                          \u001b]8;id=647297;file:///home/felix/Physik/N3PDF/DIS/yadism/src/yadism/runner.py\u001b\\\u001b[2mrunner.py\u001b[0m\u001b]8;;\u001b\\\u001b[2m:\u001b[0m\u001b]8;id=876887;file:///home/felix/Physik/N3PDF/DIS/yadism/src/yadism/runner.py#149\u001b\\\u001b[2m149\u001b[0m\u001b]8;;\u001b\\\n"
      ]
     },
     "metadata": {},
     "output_type": "display_data"
    },
    {
     "data": {
      "text/html": [
       "<pre style=\"white-space:pre;overflow-x:auto;line-height:normal;font-family:Menlo,'DejaVu Sans Mono',consolas,'Courier New',monospace\"><span style=\"color: #7fbfbf; text-decoration-color: #7fbfbf\">           </span><span style=\"color: #000080; text-decoration-color: #000080\">INFO    </span> projectile: electron, target: <span style=\"font-weight: bold\">{</span>Z: <span style=\"color: #008080; text-decoration-color: #008080; font-weight: bold\">1</span>, A: <span style=\"color: #008080; text-decoration-color: #008080; font-weight: bold\">1</span><span style=\"font-weight: bold\">}</span>                                        <a href=\"file:///home/felix/Physik/N3PDF/DIS/yadism/src/yadism/runner.py\" target=\"_blank\"><span style=\"color: #7f7f7f; text-decoration-color: #7f7f7f\">runner.py</span></a><span style=\"color: #7f7f7f; text-decoration-color: #7f7f7f\">:</span><a href=\"file:///home/felix/Physik/N3PDF/DIS/yadism/src/yadism/runner.py#150\" target=\"_blank\"><span style=\"color: #7f7f7f; text-decoration-color: #7f7f7f\">150</span></a>\n",
       "</pre>\n"
      ],
      "text/plain": [
       "\u001b[2;36m          \u001b[0m\u001b[2;36m \u001b[0m\u001b[34mINFO    \u001b[0m projectile: electron, target: \u001b[1m{\u001b[0mZ: \u001b[1;36m1\u001b[0m, A: \u001b[1;36m1\u001b[0m\u001b[1m}\u001b[0m                                        \u001b]8;id=925129;file:///home/felix/Physik/N3PDF/DIS/yadism/src/yadism/runner.py\u001b\\\u001b[2mrunner.py\u001b[0m\u001b]8;;\u001b\\\u001b[2m:\u001b[0m\u001b]8;id=866587;file:///home/felix/Physik/N3PDF/DIS/yadism/src/yadism/runner.py#150\u001b\\\u001b[2m150\u001b[0m\u001b]8;;\u001b\\\n"
      ]
     },
     "metadata": {},
     "output_type": "display_data"
    },
    {
     "data": {
      "text/html": [
       "<pre style=\"white-space:pre;overflow-x:auto;line-height:normal;font-family:Menlo,'DejaVu Sans Mono',consolas,'Courier New',monospace\">                                      <span style=\"color: #800080; text-decoration-color: #800080\">┌────────────────────────────────────┐</span>                                       \n",
       "                                      <span style=\"color: #800080; text-decoration-color: #800080\">│                                    │</span>                                       \n",
       "                                      <span style=\"color: #800080; text-decoration-color: #800080\">│ __     __       _ _                │</span>                                       \n",
       "                                      <span style=\"color: #800080; text-decoration-color: #800080\">│ \\ \\   / /      | (_)               │</span>                                       \n",
       "                                      <span style=\"color: #800080; text-decoration-color: #800080\">│  \\ \\_/ /_ _  __| |_ ___ _ __ ___   │</span>                                       \n",
       "                                      <span style=\"color: #800080; text-decoration-color: #800080\">│   \\   / _` |/ _` | / __| '_ ` _ \\  │</span>                                       \n",
       "                                      <span style=\"color: #800080; text-decoration-color: #800080\">│    | | (_| | (_| | \\__ \\ | | | | | │</span>                                       \n",
       "                                      <span style=\"color: #800080; text-decoration-color: #800080\">│    |_|\\__,_|\\__,_|_|___/_| |_| |_| │</span>                                       \n",
       "                                      <span style=\"color: #800080; text-decoration-color: #800080\">│                                    │</span>                                       \n",
       "                                      <span style=\"color: #800080; text-decoration-color: #800080\">└────────────────────────────────────┘</span>                                       \n",
       "</pre>\n"
      ],
      "text/plain": [
       "                                      \u001b[35m┌────────────────────────────────────┐\u001b[0m                                       \n",
       "                                      \u001b[35m│\u001b[0m\u001b[35m                                    \u001b[0m\u001b[35m│\u001b[0m                                       \n",
       "                                      \u001b[35m│\u001b[0m\u001b[35m \u001b[0m\u001b[35m__     __       _ _\u001b[0m\u001b[35m               \u001b[0m\u001b[35m \u001b[0m\u001b[35m│\u001b[0m                                       \n",
       "                                      \u001b[35m│\u001b[0m\u001b[35m \u001b[0m\u001b[35m\\ \\   / /      | (_)\u001b[0m\u001b[35m              \u001b[0m\u001b[35m \u001b[0m\u001b[35m│\u001b[0m                                       \n",
       "                                      \u001b[35m│\u001b[0m\u001b[35m \u001b[0m\u001b[35m \\ \\_/ /_ _  __| |_ ___ _ __ ___\u001b[0m\u001b[35m  \u001b[0m\u001b[35m \u001b[0m\u001b[35m│\u001b[0m                                       \n",
       "                                      \u001b[35m│\u001b[0m\u001b[35m \u001b[0m\u001b[35m  \\   / _` |/ _` | / __| '_ ` _ \\\u001b[0m\u001b[35m \u001b[0m\u001b[35m \u001b[0m\u001b[35m│\u001b[0m                                       \n",
       "                                      \u001b[35m│\u001b[0m\u001b[35m \u001b[0m\u001b[35m   | | (_| | (_| | \\__ \\ | | | | |\u001b[0m\u001b[35m \u001b[0m\u001b[35m│\u001b[0m                                       \n",
       "                                      \u001b[35m│\u001b[0m\u001b[35m \u001b[0m\u001b[35m   |_|\\__,_|\\__,_|_|___/_| |_| |_|\u001b[0m\u001b[35m \u001b[0m\u001b[35m│\u001b[0m                                       \n",
       "                                      \u001b[35m│\u001b[0m\u001b[35m                                    \u001b[0m\u001b[35m│\u001b[0m                                       \n",
       "                                      \u001b[35m└────────────────────────────────────┘\u001b[0m                                       \n"
      ]
     },
     "metadata": {},
     "output_type": "display_data"
    },
    {
     "data": {
      "text/html": [
       "<pre style=\"white-space:pre;overflow-x:auto;line-height:normal;font-family:Menlo,'DejaVu Sans Mono',consolas,'Courier New',monospace\">\n",
       "                                                       <span style=\"font-weight: bold; text-decoration: underline\">Plan</span>                                                        \n",
       "</pre>\n"
      ],
      "text/plain": [
       "\n",
       "                                                       \u001b[1;4mPlan\u001b[0m                                                        \n"
      ]
     },
     "metadata": {},
     "output_type": "display_data"
    },
    {
     "data": {
      "text/html": [
       "<pre style=\"white-space:pre;overflow-x:auto;line-height:normal;font-family:Menlo,'DejaVu Sans Mono',consolas,'Courier New',monospace\">\n",
       "<span style=\"color: #808000; text-decoration-color: #808000; font-weight: bold\"> • </span>F2_charm at 2 pts                                                                                               \n",
       "</pre>\n"
      ],
      "text/plain": [
       "\n",
       "\u001b[1;33m • \u001b[0mF2_charm at 2 pts                                                                                               \n"
      ]
     },
     "metadata": {},
     "output_type": "display_data"
    },
    {
     "data": {
      "text/html": [
       "<pre style=\"white-space:pre;overflow-x:auto;line-height:normal;font-family:Menlo,'DejaVu Sans Mono',consolas,'Courier New',monospace\">\n",
       "                                                    <span style=\"font-weight: bold; text-decoration: underline\">Calculation</span>                                                    \n",
       "</pre>\n"
      ],
      "text/plain": [
       "\n",
       "                                                    \u001b[1;4mCalculation\u001b[0m                                                    \n"
      ]
     },
     "metadata": {},
     "output_type": "display_data"
    },
    {
     "data": {
      "text/html": [
       "<pre style=\"white-space:pre;overflow-x:auto;line-height:normal;font-family:Menlo,'DejaVu Sans Mono',consolas,'Courier New',monospace\">yadism took off! please stay tuned <span style=\"color: #808000; text-decoration-color: #808000\">...</span>\n",
       "</pre>\n"
      ],
      "text/plain": [
       "yadism took off! please stay tuned \u001b[33m...\u001b[0m\n"
      ]
     },
     "metadata": {},
     "output_type": "display_data"
    },
    {
     "data": {
      "text/html": [
       "<pre style=\"white-space:pre;overflow-x:auto;line-height:normal;font-family:Menlo,'DejaVu Sans Mono',consolas,'Courier New',monospace\"></pre>\n"
      ],
      "text/plain": [
       "\u001b[?25l"
      ]
     },
     "metadata": {},
     "output_type": "display_data"
    },
    {
     "data": {
      "text/html": [
       "<pre style=\"white-space:pre;overflow-x:auto;line-height:normal;font-family:Menlo,'DejaVu Sans Mono',consolas,'Courier New',monospace\">\n",
       "\u001b[?25h</pre>\n"
      ],
      "text/plain": [
       "\n",
       "\u001b[?25h"
      ]
     },
     "metadata": {},
     "output_type": "display_data"
    },
    {
     "data": {
      "text/html": [
       "<pre style=\"white-space:pre;overflow-x:auto;line-height:normal;font-family:Menlo,'DejaVu Sans Mono',consolas,'Courier New',monospace\"><span style=\"color: #008080; text-decoration-color: #008080\">took </span><span style=\"color: #008080; text-decoration-color: #008080; font-weight: bold\">0.06</span><span style=\"color: #008080; text-decoration-color: #008080\"> s</span>\n",
       "</pre>\n"
      ],
      "text/plain": [
       "\u001b[36mtook \u001b[0m\u001b[1;36m0.06\u001b[0m\u001b[36m s\u001b[0m\n"
      ]
     },
     "metadata": {},
     "output_type": "display_data"
    },
    {
     "data": {
      "text/html": [
       "<pre style=\"white-space:pre;overflow-x:auto;line-height:normal;font-family:Menlo,'DejaVu Sans Mono',consolas,'Courier New',monospace\"><span style=\"color: #7fbfbf; text-decoration-color: #7fbfbf\">[14:30:46] </span><span style=\"color: #000080; text-decoration-color: #000080\">INFO    </span> Atlas <span style=\"font-weight: bold\">[</span><span style=\"color: #008080; text-decoration-color: #008080; font-weight: bold\">0.00e+00</span> - <span style=\"color: #008080; text-decoration-color: #008080; font-weight: bold\">2.28e+00</span> - <span style=\"color: #008080; text-decoration-color: #008080; font-weight: bold\">2.42e+01</span> - <span style=\"color: #008080; text-decoration-color: #008080; font-weight: bold\">2.98e+04</span> - inf<span style=\"font-weight: bold\">]</span>, <span style=\"color: #808000; text-decoration-color: #808000\">ref</span>=<span style=\"color: #008080; text-decoration-color: #008080; font-weight: bold\">8317.44</span> @ <span style=\"color: #008080; text-decoration-color: #008080; font-weight: bold\">5</span>        <a href=\"file:///home/felix/.cache/pypoetry/virtualenvs/yadism-QljnF84o-py3.12/lib/python3.12/site-packages/eko/matchings.py\" target=\"_blank\"><span style=\"color: #7f7f7f; text-decoration-color: #7f7f7f\">matchings.py</span></a><span style=\"color: #7f7f7f; text-decoration-color: #7f7f7f\">:</span><a href=\"file:///home/felix/.cache/pypoetry/virtualenvs/yadism-QljnF84o-py3.12/lib/python3.12/site-packages/eko/matchings.py#72\" target=\"_blank\"><span style=\"color: #7f7f7f; text-decoration-color: #7f7f7f\">72</span></a>\n",
       "</pre>\n"
      ],
      "text/plain": [
       "\u001b[2;36m[14:30:46]\u001b[0m\u001b[2;36m \u001b[0m\u001b[34mINFO    \u001b[0m Atlas \u001b[1m[\u001b[0m\u001b[1;36m0.00e+00\u001b[0m - \u001b[1;36m2.28e+00\u001b[0m - \u001b[1;36m2.42e+01\u001b[0m - \u001b[1;36m2.98e+04\u001b[0m - inf\u001b[1m]\u001b[0m, \u001b[33mref\u001b[0m=\u001b[1;36m8317\u001b[0m\u001b[1;36m.44\u001b[0m @ \u001b[1;36m5\u001b[0m        \u001b]8;id=81242;file:///home/felix/.cache/pypoetry/virtualenvs/yadism-QljnF84o-py3.12/lib/python3.12/site-packages/eko/matchings.py\u001b\\\u001b[2mmatchings.py\u001b[0m\u001b]8;;\u001b\\\u001b[2m:\u001b[0m\u001b]8;id=60364;file:///home/felix/.cache/pypoetry/virtualenvs/yadism-QljnF84o-py3.12/lib/python3.12/site-packages/eko/matchings.py#72\u001b\\\u001b[2m72\u001b[0m\u001b]8;;\u001b\\\n"
      ]
     },
     "metadata": {},
     "output_type": "display_data"
    },
    {
     "data": {
      "text/html": [
       "<pre style=\"white-space:pre;overflow-x:auto;line-height:normal;font-family:Menlo,'DejaVu Sans Mono',consolas,'Courier New',monospace\"><span style=\"color: #7fbfbf; text-decoration-color: #7fbfbf\">           </span><span style=\"color: #000080; text-decoration-color: #000080\">INFO    </span> Strong Coupling: <span style=\"color: #800080; text-decoration-color: #800080; font-weight: bold\">a_s</span><span style=\"font-weight: bold\">(</span>µ_R^<span style=\"color: #008080; text-decoration-color: #008080; font-weight: bold\">2</span>=<span style=\"color: #008080; text-decoration-color: #008080; font-weight: bold\">8317.440000</span><span style=\"font-weight: bold\">)</span>^<span style=\"font-weight: bold\">(</span><span style=\"color: #808000; text-decoration-color: #808000\">nf</span>=<span style=\"color: #008080; text-decoration-color: #008080; font-weight: bold\">5</span><span style=\"font-weight: bold\">)</span>=<span style=\"color: #008080; text-decoration-color: #008080; font-weight: bold\">0.009390</span>=<span style=\"color: #008080; text-decoration-color: #008080; font-weight: bold\">0.118000</span>/<span style=\"font-weight: bold\">(</span>4π<span style=\"font-weight: bold\">)</span>          <a href=\"file:///home/felix/.cache/pypoetry/virtualenvs/yadism-QljnF84o-py3.12/lib/python3.12/site-packages/eko/couplings.py\" target=\"_blank\"><span style=\"color: #7f7f7f; text-decoration-color: #7f7f7f\">couplings.py</span></a><span style=\"color: #7f7f7f; text-decoration-color: #7f7f7f\">:</span><a href=\"file:///home/felix/.cache/pypoetry/virtualenvs/yadism-QljnF84o-py3.12/lib/python3.12/site-packages/eko/couplings.py#464\" target=\"_blank\"><span style=\"color: #7f7f7f; text-decoration-color: #7f7f7f\">464</span></a>\n",
       "</pre>\n"
      ],
      "text/plain": [
       "\u001b[2;36m          \u001b[0m\u001b[2;36m \u001b[0m\u001b[34mINFO    \u001b[0m Strong Coupling: \u001b[1;35ma_s\u001b[0m\u001b[1m(\u001b[0mµ_R^\u001b[1;36m2\u001b[0m=\u001b[1;36m8317\u001b[0m\u001b[1;36m.440000\u001b[0m\u001b[1m)\u001b[0m^\u001b[1m(\u001b[0m\u001b[33mnf\u001b[0m=\u001b[1;36m5\u001b[0m\u001b[1m)\u001b[0m=\u001b[1;36m0.\u001b[0m\u001b[1;36m009390\u001b[0m=\u001b[1;36m0\u001b[0m\u001b[1;36m.118000\u001b[0m/\u001b[1m(\u001b[0m4π\u001b[1m)\u001b[0m          \u001b]8;id=945786;file:///home/felix/.cache/pypoetry/virtualenvs/yadism-QljnF84o-py3.12/lib/python3.12/site-packages/eko/couplings.py\u001b\\\u001b[2mcouplings.py\u001b[0m\u001b]8;;\u001b\\\u001b[2m:\u001b[0m\u001b]8;id=699913;file:///home/felix/.cache/pypoetry/virtualenvs/yadism-QljnF84o-py3.12/lib/python3.12/site-packages/eko/couplings.py#464\u001b\\\u001b[2m464\u001b[0m\u001b]8;;\u001b\\\n"
      ]
     },
     "metadata": {},
     "output_type": "display_data"
    },
    {
     "data": {
      "text/html": [
       "<pre style=\"white-space:pre;overflow-x:auto;line-height:normal;font-family:Menlo,'DejaVu Sans Mono',consolas,'Courier New',monospace\"><span style=\"color: #7fbfbf; text-decoration-color: #7fbfbf\">           </span><span style=\"color: #000080; text-decoration-color: #000080\">INFO    </span> Atlas <span style=\"font-weight: bold\">[</span><span style=\"color: #008080; text-decoration-color: #008080; font-weight: bold\">0.00e+00</span> - <span style=\"color: #008080; text-decoration-color: #008080; font-weight: bold\">2.28e+00</span> - <span style=\"color: #008080; text-decoration-color: #008080; font-weight: bold\">2.42e+01</span> - <span style=\"color: #008080; text-decoration-color: #008080; font-weight: bold\">2.98e+04</span> - inf<span style=\"font-weight: bold\">]</span>, <span style=\"color: #808000; text-decoration-color: #808000\">ref</span>=<span style=\"color: #008080; text-decoration-color: #008080; font-weight: bold\">8317.44</span> @ <span style=\"color: #008080; text-decoration-color: #008080; font-weight: bold\">5</span>        <a href=\"file:///home/felix/.cache/pypoetry/virtualenvs/yadism-QljnF84o-py3.12/lib/python3.12/site-packages/eko/matchings.py\" target=\"_blank\"><span style=\"color: #7f7f7f; text-decoration-color: #7f7f7f\">matchings.py</span></a><span style=\"color: #7f7f7f; text-decoration-color: #7f7f7f\">:</span><a href=\"file:///home/felix/.cache/pypoetry/virtualenvs/yadism-QljnF84o-py3.12/lib/python3.12/site-packages/eko/matchings.py#72\" target=\"_blank\"><span style=\"color: #7f7f7f; text-decoration-color: #7f7f7f\">72</span></a>\n",
       "</pre>\n"
      ],
      "text/plain": [
       "\u001b[2;36m          \u001b[0m\u001b[2;36m \u001b[0m\u001b[34mINFO    \u001b[0m Atlas \u001b[1m[\u001b[0m\u001b[1;36m0.00e+00\u001b[0m - \u001b[1;36m2.28e+00\u001b[0m - \u001b[1;36m2.42e+01\u001b[0m - \u001b[1;36m2.98e+04\u001b[0m - inf\u001b[1m]\u001b[0m, \u001b[33mref\u001b[0m=\u001b[1;36m8317\u001b[0m\u001b[1;36m.44\u001b[0m @ \u001b[1;36m5\u001b[0m        \u001b]8;id=184254;file:///home/felix/.cache/pypoetry/virtualenvs/yadism-QljnF84o-py3.12/lib/python3.12/site-packages/eko/matchings.py\u001b\\\u001b[2mmatchings.py\u001b[0m\u001b]8;;\u001b\\\u001b[2m:\u001b[0m\u001b]8;id=206548;file:///home/felix/.cache/pypoetry/virtualenvs/yadism-QljnF84o-py3.12/lib/python3.12/site-packages/eko/matchings.py#72\u001b\\\u001b[2m72\u001b[0m\u001b]8;;\u001b\\\n"
      ]
     },
     "metadata": {},
     "output_type": "display_data"
    },
    {
     "name": "stdout",
     "output_type": "stream",
     "text": [
      "LHAPDF 6.5.4 loading /home/felix/local/share/LHAPDF/NNPDF40_evolved_nf5/NNPDF40_evolved_nf5_0000.dat\n",
      "NNPDF40_evolved_nf5 PDF set, member #0, version 1\n"
     ]
    },
    {
     "data": {
      "text/html": [
       "<pre style=\"white-space:pre;overflow-x:auto;line-height:normal;font-family:Menlo,'DejaVu Sans Mono',consolas,'Courier New',monospace\"><span style=\"color: #7fbfbf; text-decoration-color: #7fbfbf\">           </span><span style=\"color: #000080; text-decoration-color: #000080\">INFO    </span> Interpolation: number of points = <span style=\"color: #008080; text-decoration-color: #008080; font-weight: bold\">8</span>, polynomial degree = <span style=\"color: #008080; text-decoration-color: #008080; font-weight: bold\">4</span>, logarithmic =  <a href=\"file:///home/felix/.cache/pypoetry/virtualenvs/yadism-QljnF84o-py3.12/lib/python3.12/site-packages/eko/interpolation.py\" target=\"_blank\"><span style=\"color: #7f7f7f; text-decoration-color: #7f7f7f\">interpolation.py</span></a><span style=\"color: #7f7f7f; text-decoration-color: #7f7f7f\">:</span><a href=\"file:///home/felix/.cache/pypoetry/virtualenvs/yadism-QljnF84o-py3.12/lib/python3.12/site-packages/eko/interpolation.py#538\" target=\"_blank\"><span style=\"color: #7f7f7f; text-decoration-color: #7f7f7f\">538</span></a>\n",
       "<span style=\"color: #7fbfbf; text-decoration-color: #7fbfbf\">           </span>         <span style=\"color: #00ff00; text-decoration-color: #00ff00; font-style: italic\">True</span>                                                                       <span style=\"color: #7f7f7f; text-decoration-color: #7f7f7f\">                    </span>\n",
       "</pre>\n"
      ],
      "text/plain": [
       "\u001b[2;36m          \u001b[0m\u001b[2;36m \u001b[0m\u001b[34mINFO    \u001b[0m Interpolation: number of points = \u001b[1;36m8\u001b[0m, polynomial degree = \u001b[1;36m4\u001b[0m, logarithmic =  \u001b]8;id=501401;file:///home/felix/.cache/pypoetry/virtualenvs/yadism-QljnF84o-py3.12/lib/python3.12/site-packages/eko/interpolation.py\u001b\\\u001b[2minterpolation.py\u001b[0m\u001b]8;;\u001b\\\u001b[2m:\u001b[0m\u001b]8;id=1645;file:///home/felix/.cache/pypoetry/virtualenvs/yadism-QljnF84o-py3.12/lib/python3.12/site-packages/eko/interpolation.py#538\u001b\\\u001b[2m538\u001b[0m\u001b]8;;\u001b\\\n",
       "\u001b[2;36m           \u001b[0m         \u001b[3;92mTrue\u001b[0m                                                                       \u001b[2m                    \u001b[0m\n"
      ]
     },
     "metadata": {},
     "output_type": "display_data"
    },
    {
     "data": {
      "text/html": [
       "<pre style=\"white-space:pre;overflow-x:auto;line-height:normal;font-family:Menlo,'DejaVu Sans Mono',consolas,'Courier New',monospace\"><span style=\"color: #7fbfbf; text-decoration-color: #7fbfbf\">           </span><span style=\"color: #000080; text-decoration-color: #000080\">INFO    </span> <span style=\"font-weight: bold\">{</span><span style=\"color: #008000; text-decoration-color: #008000\">'MZ2'</span>: <span style=\"color: #008080; text-decoration-color: #008080; font-weight: bold\">8315.178393760001</span>, <span style=\"color: #008000; text-decoration-color: #008000\">'CKM'</span>: <span style=\"color: #800080; text-decoration-color: #800080; font-weight: bold\">CKM</span><span style=\"font-weight: bold\">([[</span><span style=\"color: #008080; text-decoration-color: #008080; font-weight: bold\">9.49221518e-01</span> <span style=\"color: #008080; text-decoration-color: #008080; font-weight: bold\">5.07600900e-02</span>  <a href=\"file:///home/felix/Physik/N3PDF/DIS/yadism/src/yadism/coefficient_functions/coupling_constants.py\" target=\"_blank\"><span style=\"color: #7f7f7f; text-decoration-color: #7f7f7f\">coupling_constants.py</span></a><span style=\"color: #7f7f7f; text-decoration-color: #7f7f7f\">:</span><a href=\"file:///home/felix/Physik/N3PDF/DIS/yadism/src/yadism/coefficient_functions/coupling_constants.py#53\" target=\"_blank\"><span style=\"color: #7f7f7f; text-decoration-color: #7f7f7f\">53</span></a>\n",
       "<span style=\"color: #7fbfbf; text-decoration-color: #7fbfbf\">           </span>         <span style=\"color: #008080; text-decoration-color: #008080; font-weight: bold\">1.20409000e-05</span><span style=\"font-weight: bold\">]</span> <span style=\"font-weight: bold\">[</span><span style=\"color: #008080; text-decoration-color: #008080; font-weight: bold\">5.07150400e-02</span> <span style=\"color: #008080; text-decoration-color: #008080; font-weight: bold\">9.47604903e-01</span> <span style=\"color: #008080; text-decoration-color: #008080; font-weight: bold\">1.68100000e-03</span><span style=\"font-weight: bold\">]</span>         <span style=\"color: #7f7f7f; text-decoration-color: #7f7f7f\">                        </span>\n",
       "<span style=\"color: #7fbfbf; text-decoration-color: #7fbfbf\">           </span>         <span style=\"font-weight: bold\">[</span><span style=\"color: #008080; text-decoration-color: #008080; font-weight: bold\">7.43044000e-05</span> <span style=\"color: #008080; text-decoration-color: #008080; font-weight: bold\">1.62409000e-03</span> <span style=\"color: #008080; text-decoration-color: #008080; font-weight: bold\">9.98304719e-01</span><span style=\"font-weight: bold\">]])</span>, <span style=\"color: #008000; text-decoration-color: #008000\">'sin2theta_weak'</span>:    <span style=\"color: #7f7f7f; text-decoration-color: #7f7f7f\">                        </span>\n",
       "<span style=\"color: #7fbfbf; text-decoration-color: #7fbfbf\">           </span>         <span style=\"color: #008080; text-decoration-color: #008080; font-weight: bold\">0.23121</span>, <span style=\"color: #008000; text-decoration-color: #008000\">'MW2'</span>: <span style=\"color: #008080; text-decoration-color: #008080; font-weight: bold\">6463.838403999999</span><span style=\"font-weight: bold\">}</span>                                     <span style=\"color: #7f7f7f; text-decoration-color: #7f7f7f\">                        </span>\n",
       "</pre>\n"
      ],
      "text/plain": [
       "\u001b[2;36m          \u001b[0m\u001b[2;36m \u001b[0m\u001b[34mINFO    \u001b[0m \u001b[1m{\u001b[0m\u001b[32m'MZ2'\u001b[0m: \u001b[1;36m8315.178393760001\u001b[0m, \u001b[32m'CKM'\u001b[0m: \u001b[1;35mCKM\u001b[0m\u001b[1m(\u001b[0m\u001b[1m[\u001b[0m\u001b[1m[\u001b[0m\u001b[1;36m9.49221518e-01\u001b[0m \u001b[1;36m5.07600900e-02\u001b[0m  \u001b]8;id=377012;file:///home/felix/Physik/N3PDF/DIS/yadism/src/yadism/coefficient_functions/coupling_constants.py\u001b\\\u001b[2mcoupling_constants.py\u001b[0m\u001b]8;;\u001b\\\u001b[2m:\u001b[0m\u001b]8;id=216016;file:///home/felix/Physik/N3PDF/DIS/yadism/src/yadism/coefficient_functions/coupling_constants.py#53\u001b\\\u001b[2m53\u001b[0m\u001b]8;;\u001b\\\n",
       "\u001b[2;36m           \u001b[0m         \u001b[1;36m1.20409000e-05\u001b[0m\u001b[1m]\u001b[0m \u001b[1m[\u001b[0m\u001b[1;36m5.07150400e-02\u001b[0m \u001b[1;36m9.47604903e-01\u001b[0m \u001b[1;36m1.68100000e-03\u001b[0m\u001b[1m]\u001b[0m         \u001b[2m                        \u001b[0m\n",
       "\u001b[2;36m           \u001b[0m         \u001b[1m[\u001b[0m\u001b[1;36m7.43044000e-05\u001b[0m \u001b[1;36m1.62409000e-03\u001b[0m \u001b[1;36m9.98304719e-01\u001b[0m\u001b[1m]\u001b[0m\u001b[1m]\u001b[0m\u001b[1m)\u001b[0m, \u001b[32m'sin2theta_weak'\u001b[0m:    \u001b[2m                        \u001b[0m\n",
       "\u001b[2;36m           \u001b[0m         \u001b[1;36m0.23121\u001b[0m, \u001b[32m'MW2'\u001b[0m: \u001b[1;36m6463.838403999999\u001b[0m\u001b[1m}\u001b[0m                                     \u001b[2m                        \u001b[0m\n"
      ]
     },
     "metadata": {},
     "output_type": "display_data"
    },
    {
     "data": {
      "text/html": [
       "<pre style=\"white-space:pre;overflow-x:auto;line-height:normal;font-family:Menlo,'DejaVu Sans Mono',consolas,'Courier New',monospace\"><span style=\"color: #7fbfbf; text-decoration-color: #7fbfbf\">           </span><span style=\"color: #000080; text-decoration-color: #000080\">INFO    </span> <span style=\"font-weight: bold\">{</span><span style=\"color: #008000; text-decoration-color: #008000\">'process'</span>: <span style=\"color: #008000; text-decoration-color: #008000\">'NC'</span>, <span style=\"color: #008000; text-decoration-color: #008000\">'projectilePID'</span>: <span style=\"color: #008080; text-decoration-color: #008080; font-weight: bold\">11</span>, <span style=\"color: #008000; text-decoration-color: #008000\">'polarization'</span>: <span style=\"color: #008080; text-decoration-color: #008080; font-weight: bold\">0.0</span>,            <a href=\"file:///home/felix/Physik/N3PDF/DIS/yadism/src/yadism/coefficient_functions/coupling_constants.py\" target=\"_blank\"><span style=\"color: #7f7f7f; text-decoration-color: #7f7f7f\">coupling_constants.py</span></a><span style=\"color: #7f7f7f; text-decoration-color: #7f7f7f\">:</span><a href=\"file:///home/felix/Physik/N3PDF/DIS/yadism/src/yadism/coefficient_functions/coupling_constants.py#54\" target=\"_blank\"><span style=\"color: #7f7f7f; text-decoration-color: #7f7f7f\">54</span></a>\n",
       "<span style=\"color: #7fbfbf; text-decoration-color: #7fbfbf\">           </span>         <span style=\"color: #008000; text-decoration-color: #008000\">'propagatorCorrection'</span>: <span style=\"color: #008080; text-decoration-color: #008080; font-weight: bold\">0.0</span>, <span style=\"color: #008000; text-decoration-color: #008000\">'nc_pos_charge'</span>: <span style=\"color: #800080; text-decoration-color: #800080; font-style: italic\">None</span><span style=\"font-weight: bold\">}</span>                    <span style=\"color: #7f7f7f; text-decoration-color: #7f7f7f\">                        </span>\n",
       "</pre>\n"
      ],
      "text/plain": [
       "\u001b[2;36m          \u001b[0m\u001b[2;36m \u001b[0m\u001b[34mINFO    \u001b[0m \u001b[1m{\u001b[0m\u001b[32m'process'\u001b[0m: \u001b[32m'NC'\u001b[0m, \u001b[32m'projectilePID'\u001b[0m: \u001b[1;36m11\u001b[0m, \u001b[32m'polarization'\u001b[0m: \u001b[1;36m0.0\u001b[0m,            \u001b]8;id=32557;file:///home/felix/Physik/N3PDF/DIS/yadism/src/yadism/coefficient_functions/coupling_constants.py\u001b\\\u001b[2mcoupling_constants.py\u001b[0m\u001b]8;;\u001b\\\u001b[2m:\u001b[0m\u001b]8;id=88683;file:///home/felix/Physik/N3PDF/DIS/yadism/src/yadism/coefficient_functions/coupling_constants.py#54\u001b\\\u001b[2m54\u001b[0m\u001b]8;;\u001b\\\n",
       "\u001b[2;36m           \u001b[0m         \u001b[32m'propagatorCorrection'\u001b[0m: \u001b[1;36m0.0\u001b[0m, \u001b[32m'nc_pos_charge'\u001b[0m: \u001b[3;35mNone\u001b[0m\u001b[1m}\u001b[0m                    \u001b[2m                        \u001b[0m\n"
      ]
     },
     "metadata": {},
     "output_type": "display_data"
    },
    {
     "data": {
      "text/html": [
       "<pre style=\"white-space:pre;overflow-x:auto;line-height:normal;font-family:Menlo,'DejaVu Sans Mono',consolas,'Courier New',monospace\"><span style=\"color: #7fbfbf; text-decoration-color: #7fbfbf\">           </span><span style=\"color: #000080; text-decoration-color: #000080\">INFO    </span> RenScaleVar: <span style=\"color: #00ff00; text-decoration-color: #00ff00; font-style: italic\">True</span>, FactScaleVar: <span style=\"color: #00ff00; text-decoration-color: #00ff00; font-style: italic\">True</span>                                    <a href=\"file:///home/felix/Physik/N3PDF/DIS/yadism/src/yadism/esf/scale_variations.py\" target=\"_blank\"><span style=\"color: #7f7f7f; text-decoration-color: #7f7f7f\">scale_variations.py</span></a><span style=\"color: #7f7f7f; text-decoration-color: #7f7f7f\">:</span><a href=\"file:///home/felix/Physik/N3PDF/DIS/yadism/src/yadism/esf/scale_variations.py#62\" target=\"_blank\"><span style=\"color: #7f7f7f; text-decoration-color: #7f7f7f\">62</span></a>\n",
       "</pre>\n"
      ],
      "text/plain": [
       "\u001b[2;36m          \u001b[0m\u001b[2;36m \u001b[0m\u001b[34mINFO    \u001b[0m RenScaleVar: \u001b[3;92mTrue\u001b[0m, FactScaleVar: \u001b[3;92mTrue\u001b[0m                                    \u001b]8;id=162376;file:///home/felix/Physik/N3PDF/DIS/yadism/src/yadism/esf/scale_variations.py\u001b\\\u001b[2mscale_variations.py\u001b[0m\u001b]8;;\u001b\\\u001b[2m:\u001b[0m\u001b]8;id=103698;file:///home/felix/Physik/N3PDF/DIS/yadism/src/yadism/esf/scale_variations.py#62\u001b\\\u001b[2m62\u001b[0m\u001b]8;;\u001b\\\n"
      ]
     },
     "metadata": {},
     "output_type": "display_data"
    },
    {
     "data": {
      "text/html": [
       "<pre style=\"white-space:pre;overflow-x:auto;line-height:normal;font-family:Menlo,'DejaVu Sans Mono',consolas,'Courier New',monospace\"><span style=\"color: #7fbfbf; text-decoration-color: #7fbfbf\">           </span><span style=\"color: #000080; text-decoration-color: #000080\">INFO    </span> Atlas <span style=\"font-weight: bold\">[</span><span style=\"color: #008080; text-decoration-color: #008080; font-weight: bold\">0.00e+00</span> - <span style=\"color: #008080; text-decoration-color: #008080; font-weight: bold\">0.00e+00</span> - <span style=\"color: #008080; text-decoration-color: #008080; font-weight: bold\">0.00e+00</span> - inf - inf<span style=\"font-weight: bold\">]</span>, <span style=\"color: #808000; text-decoration-color: #808000\">ref</span>=<span style=\"color: #008080; text-decoration-color: #008080; font-weight: bold\">2.7224999999999997</span> @ <span style=\"color: #008080; text-decoration-color: #008080; font-weight: bold\">4</span>  <a href=\"file:///home/felix/.cache/pypoetry/virtualenvs/yadism-QljnF84o-py3.12/lib/python3.12/site-packages/eko/matchings.py\" target=\"_blank\"><span style=\"color: #7f7f7f; text-decoration-color: #7f7f7f\">matchings.py</span></a><span style=\"color: #7f7f7f; text-decoration-color: #7f7f7f\">:</span><a href=\"file:///home/felix/.cache/pypoetry/virtualenvs/yadism-QljnF84o-py3.12/lib/python3.12/site-packages/eko/matchings.py#72\" target=\"_blank\"><span style=\"color: #7f7f7f; text-decoration-color: #7f7f7f\">72</span></a>\n",
       "</pre>\n"
      ],
      "text/plain": [
       "\u001b[2;36m          \u001b[0m\u001b[2;36m \u001b[0m\u001b[34mINFO    \u001b[0m Atlas \u001b[1m[\u001b[0m\u001b[1;36m0.00e+00\u001b[0m - \u001b[1;36m0.00e+00\u001b[0m - \u001b[1;36m0.00e+00\u001b[0m - inf - inf\u001b[1m]\u001b[0m, \u001b[33mref\u001b[0m=\u001b[1;36m2\u001b[0m\u001b[1;36m.7224999999999997\u001b[0m @ \u001b[1;36m4\u001b[0m  \u001b]8;id=972236;file:///home/felix/.cache/pypoetry/virtualenvs/yadism-QljnF84o-py3.12/lib/python3.12/site-packages/eko/matchings.py\u001b\\\u001b[2mmatchings.py\u001b[0m\u001b]8;;\u001b\\\u001b[2m:\u001b[0m\u001b]8;id=139635;file:///home/felix/.cache/pypoetry/virtualenvs/yadism-QljnF84o-py3.12/lib/python3.12/site-packages/eko/matchings.py#72\u001b\\\u001b[2m72\u001b[0m\u001b]8;;\u001b\\\n"
      ]
     },
     "metadata": {},
     "output_type": "display_data"
    },
    {
     "data": {
      "text/html": [
       "<pre style=\"white-space:pre;overflow-x:auto;line-height:normal;font-family:Menlo,'DejaVu Sans Mono',consolas,'Courier New',monospace\"><span style=\"color: #7fbfbf; text-decoration-color: #7fbfbf\">           </span><span style=\"color: #000080; text-decoration-color: #000080\">INFO    </span> PTO: <span style=\"color: #008080; text-decoration-color: #008080; font-weight: bold\">0</span>, PTO@evolution: <span style=\"color: #008080; text-decoration-color: #008080; font-weight: bold\">0</span>, process: NC                                             <a href=\"file:///home/felix/Physik/N3PDF/DIS/yadism/src/yadism/runner.py\" target=\"_blank\"><span style=\"color: #7f7f7f; text-decoration-color: #7f7f7f\">runner.py</span></a><span style=\"color: #7f7f7f; text-decoration-color: #7f7f7f\">:</span><a href=\"file:///home/felix/Physik/N3PDF/DIS/yadism/src/yadism/runner.py#142\" target=\"_blank\"><span style=\"color: #7f7f7f; text-decoration-color: #7f7f7f\">142</span></a>\n",
       "</pre>\n"
      ],
      "text/plain": [
       "\u001b[2;36m          \u001b[0m\u001b[2;36m \u001b[0m\u001b[34mINFO    \u001b[0m PTO: \u001b[1;36m0\u001b[0m, PTO@evolution: \u001b[1;36m0\u001b[0m, process: NC                                             \u001b]8;id=286352;file:///home/felix/Physik/N3PDF/DIS/yadism/src/yadism/runner.py\u001b\\\u001b[2mrunner.py\u001b[0m\u001b]8;;\u001b\\\u001b[2m:\u001b[0m\u001b]8;id=168887;file:///home/felix/Physik/N3PDF/DIS/yadism/src/yadism/runner.py#142\u001b\\\u001b[2m142\u001b[0m\u001b]8;;\u001b\\\n"
      ]
     },
     "metadata": {},
     "output_type": "display_data"
    },
    {
     "data": {
      "text/html": [
       "<pre style=\"white-space:pre;overflow-x:auto;line-height:normal;font-family:Menlo,'DejaVu Sans Mono',consolas,'Courier New',monospace\"><span style=\"color: #7fbfbf; text-decoration-color: #7fbfbf\">           </span><span style=\"color: #000080; text-decoration-color: #000080\">INFO    </span> FNS: FONLL-FFNS, NfFF: <span style=\"color: #008080; text-decoration-color: #008080; font-weight: bold\">5</span>                                                          <a href=\"file:///home/felix/Physik/N3PDF/DIS/yadism/src/yadism/runner.py\" target=\"_blank\"><span style=\"color: #7f7f7f; text-decoration-color: #7f7f7f\">runner.py</span></a><span style=\"color: #7f7f7f; text-decoration-color: #7f7f7f\">:</span><a href=\"file:///home/felix/Physik/N3PDF/DIS/yadism/src/yadism/runner.py#149\" target=\"_blank\"><span style=\"color: #7f7f7f; text-decoration-color: #7f7f7f\">149</span></a>\n",
       "</pre>\n"
      ],
      "text/plain": [
       "\u001b[2;36m          \u001b[0m\u001b[2;36m \u001b[0m\u001b[34mINFO    \u001b[0m FNS: FONLL-FFNS, NfFF: \u001b[1;36m5\u001b[0m                                                          \u001b]8;id=575758;file:///home/felix/Physik/N3PDF/DIS/yadism/src/yadism/runner.py\u001b\\\u001b[2mrunner.py\u001b[0m\u001b]8;;\u001b\\\u001b[2m:\u001b[0m\u001b]8;id=701703;file:///home/felix/Physik/N3PDF/DIS/yadism/src/yadism/runner.py#149\u001b\\\u001b[2m149\u001b[0m\u001b]8;;\u001b\\\n"
      ]
     },
     "metadata": {},
     "output_type": "display_data"
    },
    {
     "data": {
      "text/html": [
       "<pre style=\"white-space:pre;overflow-x:auto;line-height:normal;font-family:Menlo,'DejaVu Sans Mono',consolas,'Courier New',monospace\"><span style=\"color: #7fbfbf; text-decoration-color: #7fbfbf\">           </span><span style=\"color: #000080; text-decoration-color: #000080\">INFO    </span> projectile: electron, target: <span style=\"font-weight: bold\">{</span>Z: <span style=\"color: #008080; text-decoration-color: #008080; font-weight: bold\">1</span>, A: <span style=\"color: #008080; text-decoration-color: #008080; font-weight: bold\">1</span><span style=\"font-weight: bold\">}</span>                                        <a href=\"file:///home/felix/Physik/N3PDF/DIS/yadism/src/yadism/runner.py\" target=\"_blank\"><span style=\"color: #7f7f7f; text-decoration-color: #7f7f7f\">runner.py</span></a><span style=\"color: #7f7f7f; text-decoration-color: #7f7f7f\">:</span><a href=\"file:///home/felix/Physik/N3PDF/DIS/yadism/src/yadism/runner.py#150\" target=\"_blank\"><span style=\"color: #7f7f7f; text-decoration-color: #7f7f7f\">150</span></a>\n",
       "</pre>\n"
      ],
      "text/plain": [
       "\u001b[2;36m          \u001b[0m\u001b[2;36m \u001b[0m\u001b[34mINFO    \u001b[0m projectile: electron, target: \u001b[1m{\u001b[0mZ: \u001b[1;36m1\u001b[0m, A: \u001b[1;36m1\u001b[0m\u001b[1m}\u001b[0m                                        \u001b]8;id=275167;file:///home/felix/Physik/N3PDF/DIS/yadism/src/yadism/runner.py\u001b\\\u001b[2mrunner.py\u001b[0m\u001b]8;;\u001b\\\u001b[2m:\u001b[0m\u001b]8;id=459147;file:///home/felix/Physik/N3PDF/DIS/yadism/src/yadism/runner.py#150\u001b\\\u001b[2m150\u001b[0m\u001b]8;;\u001b\\\n"
      ]
     },
     "metadata": {},
     "output_type": "display_data"
    },
    {
     "data": {
      "text/html": [
       "<pre style=\"white-space:pre;overflow-x:auto;line-height:normal;font-family:Menlo,'DejaVu Sans Mono',consolas,'Courier New',monospace\">                                      <span style=\"color: #800080; text-decoration-color: #800080\">┌────────────────────────────────────┐</span>                                       \n",
       "                                      <span style=\"color: #800080; text-decoration-color: #800080\">│                                    │</span>                                       \n",
       "                                      <span style=\"color: #800080; text-decoration-color: #800080\">│ __     __       _ _                │</span>                                       \n",
       "                                      <span style=\"color: #800080; text-decoration-color: #800080\">│ \\ \\   / /      | (_)               │</span>                                       \n",
       "                                      <span style=\"color: #800080; text-decoration-color: #800080\">│  \\ \\_/ /_ _  __| |_ ___ _ __ ___   │</span>                                       \n",
       "                                      <span style=\"color: #800080; text-decoration-color: #800080\">│   \\   / _` |/ _` | / __| '_ ` _ \\  │</span>                                       \n",
       "                                      <span style=\"color: #800080; text-decoration-color: #800080\">│    | | (_| | (_| | \\__ \\ | | | | | │</span>                                       \n",
       "                                      <span style=\"color: #800080; text-decoration-color: #800080\">│    |_|\\__,_|\\__,_|_|___/_| |_| |_| │</span>                                       \n",
       "                                      <span style=\"color: #800080; text-decoration-color: #800080\">│                                    │</span>                                       \n",
       "                                      <span style=\"color: #800080; text-decoration-color: #800080\">└────────────────────────────────────┘</span>                                       \n",
       "</pre>\n"
      ],
      "text/plain": [
       "                                      \u001b[35m┌────────────────────────────────────┐\u001b[0m                                       \n",
       "                                      \u001b[35m│\u001b[0m\u001b[35m                                    \u001b[0m\u001b[35m│\u001b[0m                                       \n",
       "                                      \u001b[35m│\u001b[0m\u001b[35m \u001b[0m\u001b[35m__     __       _ _\u001b[0m\u001b[35m               \u001b[0m\u001b[35m \u001b[0m\u001b[35m│\u001b[0m                                       \n",
       "                                      \u001b[35m│\u001b[0m\u001b[35m \u001b[0m\u001b[35m\\ \\   / /      | (_)\u001b[0m\u001b[35m              \u001b[0m\u001b[35m \u001b[0m\u001b[35m│\u001b[0m                                       \n",
       "                                      \u001b[35m│\u001b[0m\u001b[35m \u001b[0m\u001b[35m \\ \\_/ /_ _  __| |_ ___ _ __ ___\u001b[0m\u001b[35m  \u001b[0m\u001b[35m \u001b[0m\u001b[35m│\u001b[0m                                       \n",
       "                                      \u001b[35m│\u001b[0m\u001b[35m \u001b[0m\u001b[35m  \\   / _` |/ _` | / __| '_ ` _ \\\u001b[0m\u001b[35m \u001b[0m\u001b[35m \u001b[0m\u001b[35m│\u001b[0m                                       \n",
       "                                      \u001b[35m│\u001b[0m\u001b[35m \u001b[0m\u001b[35m   | | (_| | (_| | \\__ \\ | | | | |\u001b[0m\u001b[35m \u001b[0m\u001b[35m│\u001b[0m                                       \n",
       "                                      \u001b[35m│\u001b[0m\u001b[35m \u001b[0m\u001b[35m   |_|\\__,_|\\__,_|_|___/_| |_| |_|\u001b[0m\u001b[35m \u001b[0m\u001b[35m│\u001b[0m                                       \n",
       "                                      \u001b[35m│\u001b[0m\u001b[35m                                    \u001b[0m\u001b[35m│\u001b[0m                                       \n",
       "                                      \u001b[35m└────────────────────────────────────┘\u001b[0m                                       \n"
      ]
     },
     "metadata": {},
     "output_type": "display_data"
    },
    {
     "data": {
      "text/html": [
       "<pre style=\"white-space:pre;overflow-x:auto;line-height:normal;font-family:Menlo,'DejaVu Sans Mono',consolas,'Courier New',monospace\">\n",
       "                                                       <span style=\"font-weight: bold; text-decoration: underline\">Plan</span>                                                        \n",
       "</pre>\n"
      ],
      "text/plain": [
       "\n",
       "                                                       \u001b[1;4mPlan\u001b[0m                                                        \n"
      ]
     },
     "metadata": {},
     "output_type": "display_data"
    },
    {
     "data": {
      "text/html": [
       "<pre style=\"white-space:pre;overflow-x:auto;line-height:normal;font-family:Menlo,'DejaVu Sans Mono',consolas,'Courier New',monospace\">\n",
       "<span style=\"color: #808000; text-decoration-color: #808000; font-weight: bold\"> • </span>F2_charm at 2 pts                                                                                               \n",
       "</pre>\n"
      ],
      "text/plain": [
       "\n",
       "\u001b[1;33m • \u001b[0mF2_charm at 2 pts                                                                                               \n"
      ]
     },
     "metadata": {},
     "output_type": "display_data"
    },
    {
     "data": {
      "text/html": [
       "<pre style=\"white-space:pre;overflow-x:auto;line-height:normal;font-family:Menlo,'DejaVu Sans Mono',consolas,'Courier New',monospace\">\n",
       "                                                    <span style=\"font-weight: bold; text-decoration: underline\">Calculation</span>                                                    \n",
       "</pre>\n"
      ],
      "text/plain": [
       "\n",
       "                                                    \u001b[1;4mCalculation\u001b[0m                                                    \n"
      ]
     },
     "metadata": {},
     "output_type": "display_data"
    },
    {
     "data": {
      "text/html": [
       "<pre style=\"white-space:pre;overflow-x:auto;line-height:normal;font-family:Menlo,'DejaVu Sans Mono',consolas,'Courier New',monospace\">yadism took off! please stay tuned <span style=\"color: #808000; text-decoration-color: #808000\">...</span>\n",
       "</pre>\n"
      ],
      "text/plain": [
       "yadism took off! please stay tuned \u001b[33m...\u001b[0m\n"
      ]
     },
     "metadata": {},
     "output_type": "display_data"
    },
    {
     "data": {
      "text/html": [
       "<pre style=\"white-space:pre;overflow-x:auto;line-height:normal;font-family:Menlo,'DejaVu Sans Mono',consolas,'Courier New',monospace\"></pre>\n"
      ],
      "text/plain": [
       "\u001b[?25l"
      ]
     },
     "metadata": {},
     "output_type": "display_data"
    },
    {
     "data": {
      "text/html": [
       "<pre style=\"white-space:pre;overflow-x:auto;line-height:normal;font-family:Menlo,'DejaVu Sans Mono',consolas,'Courier New',monospace\">\n",
       "\u001b[?25h</pre>\n"
      ],
      "text/plain": [
       "\n",
       "\u001b[?25h"
      ]
     },
     "metadata": {},
     "output_type": "display_data"
    },
    {
     "data": {
      "text/html": [
       "<pre style=\"white-space:pre;overflow-x:auto;line-height:normal;font-family:Menlo,'DejaVu Sans Mono',consolas,'Courier New',monospace\"><span style=\"color: #008080; text-decoration-color: #008080\">took </span><span style=\"color: #008080; text-decoration-color: #008080; font-weight: bold\">0.05</span><span style=\"color: #008080; text-decoration-color: #008080\"> s</span>\n",
       "</pre>\n"
      ],
      "text/plain": [
       "\u001b[36mtook \u001b[0m\u001b[1;36m0.05\u001b[0m\u001b[36m s\u001b[0m\n"
      ]
     },
     "metadata": {},
     "output_type": "display_data"
    },
    {
     "data": {
      "text/html": [
       "<pre style=\"white-space:pre;overflow-x:auto;line-height:normal;font-family:Menlo,'DejaVu Sans Mono',consolas,'Courier New',monospace\"><span style=\"color: #7fbfbf; text-decoration-color: #7fbfbf\">[14:30:46] </span><span style=\"color: #000080; text-decoration-color: #000080\">INFO    </span> Atlas <span style=\"font-weight: bold\">[</span><span style=\"color: #008080; text-decoration-color: #008080; font-weight: bold\">0.00e+00</span> - <span style=\"color: #008080; text-decoration-color: #008080; font-weight: bold\">2.28e+00</span> - <span style=\"color: #008080; text-decoration-color: #008080; font-weight: bold\">2.42e+01</span> - <span style=\"color: #008080; text-decoration-color: #008080; font-weight: bold\">2.98e+04</span> - inf<span style=\"font-weight: bold\">]</span>, <span style=\"color: #808000; text-decoration-color: #808000\">ref</span>=<span style=\"color: #008080; text-decoration-color: #008080; font-weight: bold\">8317.44</span> @ <span style=\"color: #008080; text-decoration-color: #008080; font-weight: bold\">5</span>        <a href=\"file:///home/felix/.cache/pypoetry/virtualenvs/yadism-QljnF84o-py3.12/lib/python3.12/site-packages/eko/matchings.py\" target=\"_blank\"><span style=\"color: #7f7f7f; text-decoration-color: #7f7f7f\">matchings.py</span></a><span style=\"color: #7f7f7f; text-decoration-color: #7f7f7f\">:</span><a href=\"file:///home/felix/.cache/pypoetry/virtualenvs/yadism-QljnF84o-py3.12/lib/python3.12/site-packages/eko/matchings.py#72\" target=\"_blank\"><span style=\"color: #7f7f7f; text-decoration-color: #7f7f7f\">72</span></a>\n",
       "</pre>\n"
      ],
      "text/plain": [
       "\u001b[2;36m[14:30:46]\u001b[0m\u001b[2;36m \u001b[0m\u001b[34mINFO    \u001b[0m Atlas \u001b[1m[\u001b[0m\u001b[1;36m0.00e+00\u001b[0m - \u001b[1;36m2.28e+00\u001b[0m - \u001b[1;36m2.42e+01\u001b[0m - \u001b[1;36m2.98e+04\u001b[0m - inf\u001b[1m]\u001b[0m, \u001b[33mref\u001b[0m=\u001b[1;36m8317\u001b[0m\u001b[1;36m.44\u001b[0m @ \u001b[1;36m5\u001b[0m        \u001b]8;id=616370;file:///home/felix/.cache/pypoetry/virtualenvs/yadism-QljnF84o-py3.12/lib/python3.12/site-packages/eko/matchings.py\u001b\\\u001b[2mmatchings.py\u001b[0m\u001b]8;;\u001b\\\u001b[2m:\u001b[0m\u001b]8;id=286093;file:///home/felix/.cache/pypoetry/virtualenvs/yadism-QljnF84o-py3.12/lib/python3.12/site-packages/eko/matchings.py#72\u001b\\\u001b[2m72\u001b[0m\u001b]8;;\u001b\\\n"
      ]
     },
     "metadata": {},
     "output_type": "display_data"
    },
    {
     "data": {
      "text/html": [
       "<pre style=\"white-space:pre;overflow-x:auto;line-height:normal;font-family:Menlo,'DejaVu Sans Mono',consolas,'Courier New',monospace\"><span style=\"color: #7fbfbf; text-decoration-color: #7fbfbf\">[14:30:47] </span><span style=\"color: #000080; text-decoration-color: #000080\">INFO    </span> Strong Coupling: <span style=\"color: #800080; text-decoration-color: #800080; font-weight: bold\">a_s</span><span style=\"font-weight: bold\">(</span>µ_R^<span style=\"color: #008080; text-decoration-color: #008080; font-weight: bold\">2</span>=<span style=\"color: #008080; text-decoration-color: #008080; font-weight: bold\">8317.440000</span><span style=\"font-weight: bold\">)</span>^<span style=\"font-weight: bold\">(</span><span style=\"color: #808000; text-decoration-color: #808000\">nf</span>=<span style=\"color: #008080; text-decoration-color: #008080; font-weight: bold\">5</span><span style=\"font-weight: bold\">)</span>=<span style=\"color: #008080; text-decoration-color: #008080; font-weight: bold\">0.009390</span>=<span style=\"color: #008080; text-decoration-color: #008080; font-weight: bold\">0.118000</span>/<span style=\"font-weight: bold\">(</span>4π<span style=\"font-weight: bold\">)</span>          <a href=\"file:///home/felix/.cache/pypoetry/virtualenvs/yadism-QljnF84o-py3.12/lib/python3.12/site-packages/eko/couplings.py\" target=\"_blank\"><span style=\"color: #7f7f7f; text-decoration-color: #7f7f7f\">couplings.py</span></a><span style=\"color: #7f7f7f; text-decoration-color: #7f7f7f\">:</span><a href=\"file:///home/felix/.cache/pypoetry/virtualenvs/yadism-QljnF84o-py3.12/lib/python3.12/site-packages/eko/couplings.py#464\" target=\"_blank\"><span style=\"color: #7f7f7f; text-decoration-color: #7f7f7f\">464</span></a>\n",
       "</pre>\n"
      ],
      "text/plain": [
       "\u001b[2;36m[14:30:47]\u001b[0m\u001b[2;36m \u001b[0m\u001b[34mINFO    \u001b[0m Strong Coupling: \u001b[1;35ma_s\u001b[0m\u001b[1m(\u001b[0mµ_R^\u001b[1;36m2\u001b[0m=\u001b[1;36m8317\u001b[0m\u001b[1;36m.440000\u001b[0m\u001b[1m)\u001b[0m^\u001b[1m(\u001b[0m\u001b[33mnf\u001b[0m=\u001b[1;36m5\u001b[0m\u001b[1m)\u001b[0m=\u001b[1;36m0.\u001b[0m\u001b[1;36m009390\u001b[0m=\u001b[1;36m0\u001b[0m\u001b[1;36m.118000\u001b[0m/\u001b[1m(\u001b[0m4π\u001b[1m)\u001b[0m          \u001b]8;id=302683;file:///home/felix/.cache/pypoetry/virtualenvs/yadism-QljnF84o-py3.12/lib/python3.12/site-packages/eko/couplings.py\u001b\\\u001b[2mcouplings.py\u001b[0m\u001b]8;;\u001b\\\u001b[2m:\u001b[0m\u001b]8;id=721360;file:///home/felix/.cache/pypoetry/virtualenvs/yadism-QljnF84o-py3.12/lib/python3.12/site-packages/eko/couplings.py#464\u001b\\\u001b[2m464\u001b[0m\u001b]8;;\u001b\\\n"
      ]
     },
     "metadata": {},
     "output_type": "display_data"
    },
    {
     "data": {
      "text/html": [
       "<pre style=\"white-space:pre;overflow-x:auto;line-height:normal;font-family:Menlo,'DejaVu Sans Mono',consolas,'Courier New',monospace\"><span style=\"color: #7fbfbf; text-decoration-color: #7fbfbf\">           </span><span style=\"color: #000080; text-decoration-color: #000080\">INFO    </span> Atlas <span style=\"font-weight: bold\">[</span><span style=\"color: #008080; text-decoration-color: #008080; font-weight: bold\">0.00e+00</span> - <span style=\"color: #008080; text-decoration-color: #008080; font-weight: bold\">2.28e+00</span> - <span style=\"color: #008080; text-decoration-color: #008080; font-weight: bold\">2.42e+01</span> - <span style=\"color: #008080; text-decoration-color: #008080; font-weight: bold\">2.98e+04</span> - inf<span style=\"font-weight: bold\">]</span>, <span style=\"color: #808000; text-decoration-color: #808000\">ref</span>=<span style=\"color: #008080; text-decoration-color: #008080; font-weight: bold\">8317.44</span> @ <span style=\"color: #008080; text-decoration-color: #008080; font-weight: bold\">5</span>        <a href=\"file:///home/felix/.cache/pypoetry/virtualenvs/yadism-QljnF84o-py3.12/lib/python3.12/site-packages/eko/matchings.py\" target=\"_blank\"><span style=\"color: #7f7f7f; text-decoration-color: #7f7f7f\">matchings.py</span></a><span style=\"color: #7f7f7f; text-decoration-color: #7f7f7f\">:</span><a href=\"file:///home/felix/.cache/pypoetry/virtualenvs/yadism-QljnF84o-py3.12/lib/python3.12/site-packages/eko/matchings.py#72\" target=\"_blank\"><span style=\"color: #7f7f7f; text-decoration-color: #7f7f7f\">72</span></a>\n",
       "</pre>\n"
      ],
      "text/plain": [
       "\u001b[2;36m          \u001b[0m\u001b[2;36m \u001b[0m\u001b[34mINFO    \u001b[0m Atlas \u001b[1m[\u001b[0m\u001b[1;36m0.00e+00\u001b[0m - \u001b[1;36m2.28e+00\u001b[0m - \u001b[1;36m2.42e+01\u001b[0m - \u001b[1;36m2.98e+04\u001b[0m - inf\u001b[1m]\u001b[0m, \u001b[33mref\u001b[0m=\u001b[1;36m8317\u001b[0m\u001b[1;36m.44\u001b[0m @ \u001b[1;36m5\u001b[0m        \u001b]8;id=249513;file:///home/felix/.cache/pypoetry/virtualenvs/yadism-QljnF84o-py3.12/lib/python3.12/site-packages/eko/matchings.py\u001b\\\u001b[2mmatchings.py\u001b[0m\u001b]8;;\u001b\\\u001b[2m:\u001b[0m\u001b]8;id=912406;file:///home/felix/.cache/pypoetry/virtualenvs/yadism-QljnF84o-py3.12/lib/python3.12/site-packages/eko/matchings.py#72\u001b\\\u001b[2m72\u001b[0m\u001b]8;;\u001b\\\n"
      ]
     },
     "metadata": {},
     "output_type": "display_data"
    }
   ],
   "source": [
    "import yadism\n",
    "\n",
    "# Define the settings for the different contributions to the FONLL observable\n",
    "settings_list = [\n",
    "    [\"FONLL-FFNS\", 3, \"full\", \"NNPDF40_evolved_nf3\"],\n",
    "    [\"FONLL-FFN0\", 3, \"full\", \"NNPDF40_evolved_nf3\"],\n",
    "    [\"FONLL-FFNS\", 4, \"massless\", \"NNPDF40_evolved_nf4\"],\n",
    "    [\"FONLL-FFN0\", 4, \"full\", \"NNPDF40_evolved_nf4\"],\n",
    "    [\"FONLL-FFNS\", 5, \"full\", \"NNPDF40_evolved_nf5\"],\n",
    "]\n",
    "\n",
    "single_scheme_result = []\n",
    "# Iterate parts\n",
    "for fns, nf, fonllparts, pdfname in settings_list:\n",
    "    # Replace the relevant settings in the theory card\n",
    "    theorycard[\"FNS\"] = fns\n",
    "    theorycard[\"NfFF\"] = nf\n",
    "    theorycard[\"FONLLParts\"] = fonllparts\n",
    "    pdf = lhapdf.mkPDF(pdfname)\n",
    "\n",
    "    # Compute the observable in each of the schemes defined in settings_list\n",
    "    out = yadism.run_yadism(theorycard, observablecard)\n",
    "\n",
    "    # Store the results in single_scheme_result\n",
    "    single_scheme_result.append(out.apply_pdf(pdf))\n",
    "\n",
    "# Extract the different terms form single_scheme_result and combine them to\n",
    "# obtain the coexisting flavor number scheme FONLL result\n",
    "result = {}\n",
    "for observable_name, kinematic_points in single_scheme_result[0].items():\n",
    "    result[observable_name] = []\n",
    "    for i in range(len(kinematic_points)):\n",
    "        result[observable_name].append(\n",
    "            single_scheme_result[0][observable_name][i][\"result\"]  # FONLL-FFNS3\n",
    "            - single_scheme_result[1][observable_name][i][\"result\"]  # FONLL-FFN03\n",
    "            + single_scheme_result[2][observable_name][i][\"result\"]  # FONLL-FFNS4\n",
    "            - single_scheme_result[3][observable_name][i][\"result\"]  # FONLL-FFN04\n",
    "            + single_scheme_result[4][observable_name][i][\"result\"]  # FONLL-FFNS5\n",
    "        )"
   ]
  },
  {
   "cell_type": "code",
   "execution_count": 4,
   "id": "af97aab2",
   "metadata": {},
   "outputs": [
    {
     "data": {
      "text/plain": [
       "{'F2_charm': [17.46360693877942, 16.00893571150022]}"
      ]
     },
     "execution_count": 4,
     "metadata": {},
     "output_type": "execute_result"
    }
   ],
   "source": [
    "result"
   ]
  }
 ],
 "metadata": {
  "kernelspec": {
   "display_name": "yadism-QljnF84o-py3.12",
   "language": "python",
   "name": "yadism-qljnf84o-py3.12"
  },
  "language_info": {
   "codemirror_mode": {
    "name": "ipython",
    "version": 3
   },
   "file_extension": ".py",
   "mimetype": "text/x-python",
   "name": "python",
   "nbconvert_exporter": "python",
   "pygments_lexer": "ipython3",
   "version": "3.12.4"
  }
 },
 "nbformat": 4,
 "nbformat_minor": 5
}
