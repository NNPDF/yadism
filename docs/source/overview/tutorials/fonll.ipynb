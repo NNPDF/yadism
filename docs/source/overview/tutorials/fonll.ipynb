{
 "cells": [
  {
   "cell_type": "markdown",
   "id": "8dc7e32e",
   "metadata": {},
   "source": [
    "# Computing observables in the FONLL scheme\n",
    "\n",
    "The actual implementation of FONLL observables requires \n",
    "the computation of the partonic coefficients functions using different\n",
    "FFNS settings with `yadism` and the possibility to compute coexisting flavor number PDFs, \n",
    "which is provided by the `EKO` library.\n",
    "In this tutorial we explain, using an example, how observables can be calculated using a fixed input PDF by evolving it to the three different flavor number schemes."
   ]
  },
  {
   "cell_type": "markdown",
   "id": "d523eb17",
   "metadata": {},
   "source": [
    "As a first step we define the define the inputs needed for a computation of a DIS observable. \n",
    "In the following example we will compute predictions for $F_{2c}$."
   ]
  },
  {
   "cell_type": "code",
   "execution_count": 82,
   "id": "d359e703",
   "metadata": {},
   "outputs": [],
   "source": [
    "from eko.interpolation import lambertgrid\n",
    "\n",
    "# Define a DIS observable runcard:\n",
    "observablecard = {\n",
    "    # Process type: \"EM\", \"NC\", \"CC\"\n",
    "    \"prDIS\": \"NC\",\n",
    "    # Projectile: \"electron\", \"positron\", \"neutrino\", \"antineutrino\"\n",
    "    \"ProjectileDIS\": \"electron\",\n",
    "    # Scattering target: \"proton\", \"neutron\", \"isoscalar\", \"lead\", \"iron\", \"neon\" or \"marble\"\n",
    "    \"TargetDIS\": \"proton\",\n",
    "    # Interpolation: if True use log interpolation\n",
    "    \"interpolation_is_log\": True,\n",
    "    # Interpolation: polynomial degree, 1 = linear, ...\n",
    "    \"interpolation_polynomial_degree\": 4,\n",
    "    # Interpolation: xgrid values\n",
    "    # here we use an equally log-linear spaced grid\n",
    "    \"interpolation_xgrid\": lambertgrid(30),\n",
    "    # Observables configurations\n",
    "    \"observables\": {\n",
    "      \"F2_charm\": [\n",
    "        {\n",
    "            \"y\": 0.,\n",
    "            \"x\": 1e-4,\n",
    "            \"Q2\": 15.0**2,\n",
    "        },\n",
    "        {\n",
    "            \"y\": 0.,\n",
    "            \"x\": 1e-3,\n",
    "            \"Q2\": 15.0**2,\n",
    "        },\n",
    "        # Add here the kinematics of other datapoints\n",
    "      ],\n",
    "      # Potentially include observables other than F2_charm,\n",
    "      # each of them has to be: TYPE_heaviness, where heaviness can take:\n",
    "      # \"charm\", \"bottom\", \"total\" or \"light\".\n",
    "    },\n",
    "    # Projectile polarization faction, float from 0 to 1.\n",
    "    \"PolarizationDIS\": 0.0,\n",
    "    # Exchanged boson propagator correction\n",
    "    \"PropagatorCorrection\": 0.0,\n",
    "    # Restrict boson coupling to a single parton ? Monte Carlo PID or None for all partons\n",
    "    \"NCPositivityCharge\": None,\n",
    "}\n",
    "\n",
    "# Define the theory parameters:\n",
    "theorycard = {\n",
    "    \"CKM\": \"0.97428 0.22530 0.003470 0.22520 0.97345 0.041000 0.00862 0.04030 0.999152\", # CKM matrix elements\n",
    "    \"GF\": 1.1663787e-05, # [GeV^-2] Fermi coupling constant\n",
    "    \"MP\": 0.938, # [GeV] proton mass\n",
    "    \"MW\": 80.398, # [GeV] W boson mass\n",
    "    \"MZ\": 91.1876, # [GeV] Z boson mass\n",
    "    \"mc\": 1.51, # [GeV] charm mass\n",
    "    \"mb\": 4.92, # [GeV] bottom mass\n",
    "    \"mt\": 172.5, # [GeV] top mass\n",
    "    \"kcThr\": 1.0, # ratio of the charm matching scale over the charm mass\n",
    "    \"kbThr\": 1.0, # ratio of the bottom matching scale over the bottom mass\n",
    "    \"ktThr\": 1.0, # ratio of the top matching scale over the top mass\n",
    "    \"alphas\": 0.118, # alphas value at the reference scale\n",
    "    \"Q0\": 1.65, # [GeV] reference scale for the flavor patch determination\n",
    "    \"nf0\": 4, # number of active flavors at the Q0 reference scale\n",
    "    \"PTO\": 1, # perturbative order in alpha_s: 0 = LO (alpha_s^0), 1 = NLO (alpha_s^1) ...\n",
    "    \"alphaqed\": 0.007496252, # alpha_em value\n",
    "    \"Qref\": 91.2, # [GeV] reference scale for the alphas value\n",
    "    \"nfref\": 5, # number of active flavors at the reference scale Qref\n",
    "    \"QED\": 0, # QED correction to running of strong coupling: 0 = disabled, 1 = allowed\n",
    "    \"XIF\": 1.0, # ratio of factorization scale over the hard scattering scale\n",
    "    \"XIR\": 1.0, # ratio of renormalization scale over the hard scattering scale\n",
    "    \"TMC\": 1, # include target mass corrections: 0 = disabled, 1 = leading twist, 2 = higher twist approximated, 3 = higher twist exact\n",
    "    \"n3lo_cf_variation\": 0, # N3LO coefficient functions variation: -1 = lower bound, 0 = central , 1 = upper bound\n",
    "    \"MaxNfAs\": 5, # maximum number of flavors in running of strong coupling\n",
    "    \"HQ\": \"POLE\", # heavy quark mass scheme (only for DGLAP evolution)\n",
    "    \"MaxNfPdf\": 5, # maximum number of flavors in running of PDFs (needed by pineko)\n",
    "    \"IC\": 1, # 0 = perturbative charm only, 1 = intrinsic charm allowed\n",
    "    \"ModEv\": \"EXA\",  # alphas evolution method, \"EXA\" = \"exact\", \"TRN\" = \"truncated\"\n",
    "}\n",
    "\n",
    "# Define the PDF evolution grid and other DGLAP evolution parameters\n",
    "operatorcard = {\n",
    "    # Evolution starting scale\n",
    "    'mu0': theorycard[\"Q0\"],\n",
    "    # Evolution final scales: add here all the points needed in the evolved PDF\n",
    "    # with the corresponding active number of flavor (Q_i, nf_i)\n",
    "    # (we will update this entry later)\n",
    "    'mugrid': [(10.0, 5),(15.0, 5),(20.0, 5),],\n",
    "    # specify an interpolation grid\n",
    "    'xgrid': lambertgrid(30),\n",
    "    # DGLAP evolution settings\n",
    "    'configs': {\n",
    "        # evolution method: 'iterate-exact', 'iterate-expanded', 'truncated' ... see https://eko.readthedocs.io/en/latest/theory/DGLAP.html\n",
    "        'evolution_method': 'iterate-exact',\n",
    "        # other evolution parameters. See https://eko.readthedocs.io/en/latest/theory/DGLAP.html\n",
    "        'ev_op_max_order': [10, 0],\n",
    "        'ev_op_iterations': 10,\n",
    "        # Interpolation: polynomial degree, 1 = linear, ...\n",
    "        'interpolation_polynomial_degree': 4,\n",
    "        # Interpolation: if True use log interpolation\n",
    "        'interpolation_is_log': True,\n",
    "        # Scale variations: \"None\", \"expanded\", \"exponentiated\"\n",
    "        'scvar_method': None,\n",
    "        # Backward evolution matching inversion: \"None\", \"expanded\", \"exact\"\n",
    "        'inversion_method': None,\n",
    "        # Number of parallel cores to use: 0 = all, 1 = one, -1 = all but one ...\n",
    "        'n_integration_cores': 1,\n",
    "        # Polarized evolution ?\n",
    "        'polarized': False,\n",
    "        # Time like evolution ?\n",
    "        'time_like': False\n",
    "    },\n",
    "    # Debug options\n",
    "    'debug': {\n",
    "        'skip_singlet': False,\n",
    "        'skip_non_singlet': False\n",
    "    }\n",
    "}"
   ]
  },
  {
   "cell_type": "markdown",
   "id": "2907d131",
   "metadata": {},
   "source": [
    "Then we compute the necessary coexisting flavor number PDFs starting from a given PDF defined for some value of $Q$ and corresponding $n_f$\n",
    "using `EKO` (for more detailed information on the use of `EKO` we refer to the [documentation](https://eko.readthedocs.io) ).\n",
    "Here, we show how to evolve `NNPDF40_nnlo_as_01180` to produce three PDFs in FFNS3, FFNS4, and FFNS5 respectively."
   ]
  },
  {
   "cell_type": "code",
   "execution_count": 83,
   "id": "b001ecf8",
   "metadata": {},
   "outputs": [
    {
     "name": "stdout",
     "output_type": "stream",
     "text": [
      "LHAPDF 6.5.0 loading /Users/giacomomagni/.conda/envs/yad_dev/share/LHAPDF/NNPDF40_nlo_as_01180/NNPDF40_nlo_as_01180_0000.dat\n",
      "NNPDF40_nlo_as_01180 PDF set, member #0, version 1; LHAPDF ID = 331700\n"
     ]
    },
    {
     "data": {
      "text/html": [
       "<pre style=\"white-space:pre;overflow-x:auto;line-height:normal;font-family:Menlo,'DejaVu Sans Mono',consolas,'Courier New',monospace\"><span style=\"color: #7fbfbf; text-decoration-color: #7fbfbf\">[15:30:11] </span><span style=\"color: #000080; text-decoration-color: #000080\">INFO    </span> Interpolation: number of points = <span style=\"color: #008080; text-decoration-color: #008080; font-weight: bold\">30</span>, polynomial degree = <span style=\"color: #008080; text-decoration-color: #008080; font-weight: bold\">4</span>, logarithmic = <a href=\"file:///Users/giacomomagni/.conda/envs/yad_dev/lib/python3.10/site-packages/eko/interpolation.py\" target=\"_blank\"><span style=\"color: #7f7f7f; text-decoration-color: #7f7f7f\">interpolation.py</span></a><span style=\"color: #7f7f7f; text-decoration-color: #7f7f7f\">:</span><a href=\"file:///Users/giacomomagni/.conda/envs/yad_dev/lib/python3.10/site-packages/eko/interpolation.py#538\" target=\"_blank\"><span style=\"color: #7f7f7f; text-decoration-color: #7f7f7f\">538</span></a>\n",
       "<span style=\"color: #7fbfbf; text-decoration-color: #7fbfbf\">           </span>         <span style=\"color: #00ff00; text-decoration-color: #00ff00; font-style: italic\">True</span>                                                                       <span style=\"color: #7f7f7f; text-decoration-color: #7f7f7f\">                    </span>\n",
       "</pre>\n"
      ],
      "text/plain": [
       "\u001b[2;36m[15:30:11]\u001b[0m\u001b[2;36m \u001b[0m\u001b[34mINFO    \u001b[0m Interpolation: number of points = \u001b[1;36m30\u001b[0m, polynomial degree = \u001b[1;36m4\u001b[0m, logarithmic = \u001b]8;id=598173;file:///Users/giacomomagni/.conda/envs/yad_dev/lib/python3.10/site-packages/eko/interpolation.py\u001b\\\u001b[2minterpolation.py\u001b[0m\u001b]8;;\u001b\\\u001b[2m:\u001b[0m\u001b]8;id=881425;file:///Users/giacomomagni/.conda/envs/yad_dev/lib/python3.10/site-packages/eko/interpolation.py#538\u001b\\\u001b[2m538\u001b[0m\u001b]8;;\u001b\\\n",
       "\u001b[2;36m           \u001b[0m         \u001b[3;92mTrue\u001b[0m                                                                       \u001b[2m                    \u001b[0m\n"
      ]
     },
     "metadata": {},
     "output_type": "display_data"
    },
    {
     "data": {
      "text/html": [
       "<pre style=\"white-space:pre;overflow-x:auto;line-height:normal;font-family:Menlo,'DejaVu Sans Mono',consolas,'Courier New',monospace\"><span style=\"color: #7fbfbf; text-decoration-color: #7fbfbf\">           </span><span style=\"color: #000080; text-decoration-color: #000080\">INFO    </span> Atlas <span style=\"font-weight: bold\">[</span><span style=\"color: #008080; text-decoration-color: #008080; font-weight: bold\">0.00e+00</span> - <span style=\"color: #008080; text-decoration-color: #008080; font-weight: bold\">2.28e+00</span> - <span style=\"color: #008080; text-decoration-color: #008080; font-weight: bold\">2.42e+01</span> - <span style=\"color: #008080; text-decoration-color: #008080; font-weight: bold\">2.98e+04</span> - inf<span style=\"font-weight: bold\">]</span>, <span style=\"color: #808000; text-decoration-color: #808000\">ref</span>=<span style=\"color: #008080; text-decoration-color: #008080; font-weight: bold\">2.7224999999999997</span> <a href=\"file:///Users/giacomomagni/.conda/envs/yad_dev/lib/python3.10/site-packages/eko/matchings.py\" target=\"_blank\"><span style=\"color: #7f7f7f; text-decoration-color: #7f7f7f\">matchings.py</span></a><span style=\"color: #7f7f7f; text-decoration-color: #7f7f7f\">:</span><a href=\"file:///Users/giacomomagni/.conda/envs/yad_dev/lib/python3.10/site-packages/eko/matchings.py#72\" target=\"_blank\"><span style=\"color: #7f7f7f; text-decoration-color: #7f7f7f\">72</span></a>\n",
       "<span style=\"color: #7fbfbf; text-decoration-color: #7fbfbf\">           </span>         @ <span style=\"color: #008080; text-decoration-color: #008080; font-weight: bold\">4</span>                                                                             <span style=\"color: #7f7f7f; text-decoration-color: #7f7f7f\">               </span>\n",
       "</pre>\n"
      ],
      "text/plain": [
       "\u001b[2;36m          \u001b[0m\u001b[2;36m \u001b[0m\u001b[34mINFO    \u001b[0m Atlas \u001b[1m[\u001b[0m\u001b[1;36m0.00e+00\u001b[0m - \u001b[1;36m2.28e+00\u001b[0m - \u001b[1;36m2.42e+01\u001b[0m - \u001b[1;36m2.98e+04\u001b[0m - inf\u001b[1m]\u001b[0m, \u001b[33mref\u001b[0m=\u001b[1;36m2\u001b[0m\u001b[1;36m.7224999999999997\u001b[0m \u001b]8;id=337023;file:///Users/giacomomagni/.conda/envs/yad_dev/lib/python3.10/site-packages/eko/matchings.py\u001b\\\u001b[2mmatchings.py\u001b[0m\u001b]8;;\u001b\\\u001b[2m:\u001b[0m\u001b]8;id=738979;file:///Users/giacomomagni/.conda/envs/yad_dev/lib/python3.10/site-packages/eko/matchings.py#72\u001b\\\u001b[2m72\u001b[0m\u001b]8;;\u001b\\\n",
       "\u001b[2;36m           \u001b[0m         @ \u001b[1;36m4\u001b[0m                                                                             \u001b[2m               \u001b[0m\n"
      ]
     },
     "metadata": {},
     "output_type": "display_data"
    },
    {
     "data": {
      "text/html": [
       "<pre style=\"white-space:pre;overflow-x:auto;line-height:normal;font-family:Menlo,'DejaVu Sans Mono',consolas,'Courier New',monospace\"><span style=\"color: #7fbfbf; text-decoration-color: #7fbfbf\">           </span><span style=\"color: #000080; text-decoration-color: #000080\">INFO    </span> Atlas <span style=\"font-weight: bold\">[</span><span style=\"color: #008080; text-decoration-color: #008080; font-weight: bold\">0.00e+00</span> - <span style=\"color: #008080; text-decoration-color: #008080; font-weight: bold\">2.28e+00</span> - <span style=\"color: #008080; text-decoration-color: #008080; font-weight: bold\">2.42e+01</span> - <span style=\"color: #008080; text-decoration-color: #008080; font-weight: bold\">2.98e+04</span> - inf<span style=\"font-weight: bold\">]</span>, <span style=\"color: #808000; text-decoration-color: #808000\">ref</span>=<span style=\"color: #008080; text-decoration-color: #008080; font-weight: bold\">8317.44</span> @ <span style=\"color: #008080; text-decoration-color: #008080; font-weight: bold\">5</span>        <a href=\"file:///Users/giacomomagni/.conda/envs/yad_dev/lib/python3.10/site-packages/eko/matchings.py\" target=\"_blank\"><span style=\"color: #7f7f7f; text-decoration-color: #7f7f7f\">matchings.py</span></a><span style=\"color: #7f7f7f; text-decoration-color: #7f7f7f\">:</span><a href=\"file:///Users/giacomomagni/.conda/envs/yad_dev/lib/python3.10/site-packages/eko/matchings.py#72\" target=\"_blank\"><span style=\"color: #7f7f7f; text-decoration-color: #7f7f7f\">72</span></a>\n",
       "</pre>\n"
      ],
      "text/plain": [
       "\u001b[2;36m          \u001b[0m\u001b[2;36m \u001b[0m\u001b[34mINFO    \u001b[0m Atlas \u001b[1m[\u001b[0m\u001b[1;36m0.00e+00\u001b[0m - \u001b[1;36m2.28e+00\u001b[0m - \u001b[1;36m2.42e+01\u001b[0m - \u001b[1;36m2.98e+04\u001b[0m - inf\u001b[1m]\u001b[0m, \u001b[33mref\u001b[0m=\u001b[1;36m8317\u001b[0m\u001b[1;36m.44\u001b[0m @ \u001b[1;36m5\u001b[0m        \u001b]8;id=896872;file:///Users/giacomomagni/.conda/envs/yad_dev/lib/python3.10/site-packages/eko/matchings.py\u001b\\\u001b[2mmatchings.py\u001b[0m\u001b]8;;\u001b\\\u001b[2m:\u001b[0m\u001b]8;id=494891;file:///Users/giacomomagni/.conda/envs/yad_dev/lib/python3.10/site-packages/eko/matchings.py#72\u001b\\\u001b[2m72\u001b[0m\u001b]8;;\u001b\\\n"
      ]
     },
     "metadata": {},
     "output_type": "display_data"
    },
    {
     "data": {
      "text/html": [
       "<pre style=\"white-space:pre;overflow-x:auto;line-height:normal;font-family:Menlo,'DejaVu Sans Mono',consolas,'Courier New',monospace\"><span style=\"color: #7fbfbf; text-decoration-color: #7fbfbf\">           </span><span style=\"color: #000080; text-decoration-color: #000080\">INFO    </span> Strong Coupling: <span style=\"color: #800080; text-decoration-color: #800080; font-weight: bold\">a_s</span><span style=\"font-weight: bold\">(</span>µ_R^<span style=\"color: #008080; text-decoration-color: #008080; font-weight: bold\">2</span>=<span style=\"color: #008080; text-decoration-color: #008080; font-weight: bold\">8317.440000</span><span style=\"font-weight: bold\">)</span>^<span style=\"font-weight: bold\">(</span><span style=\"color: #808000; text-decoration-color: #808000\">nf</span>=<span style=\"color: #008080; text-decoration-color: #008080; font-weight: bold\">5</span><span style=\"font-weight: bold\">)</span>=<span style=\"color: #008080; text-decoration-color: #008080; font-weight: bold\">0.009390</span>=<span style=\"color: #008080; text-decoration-color: #008080; font-weight: bold\">0.118000</span>/<span style=\"font-weight: bold\">(</span>4π<span style=\"font-weight: bold\">)</span>          <a href=\"file:///Users/giacomomagni/.conda/envs/yad_dev/lib/python3.10/site-packages/eko/couplings.py\" target=\"_blank\"><span style=\"color: #7f7f7f; text-decoration-color: #7f7f7f\">couplings.py</span></a><span style=\"color: #7f7f7f; text-decoration-color: #7f7f7f\">:</span><a href=\"file:///Users/giacomomagni/.conda/envs/yad_dev/lib/python3.10/site-packages/eko/couplings.py#464\" target=\"_blank\"><span style=\"color: #7f7f7f; text-decoration-color: #7f7f7f\">464</span></a>\n",
       "</pre>\n"
      ],
      "text/plain": [
       "\u001b[2;36m          \u001b[0m\u001b[2;36m \u001b[0m\u001b[34mINFO    \u001b[0m Strong Coupling: \u001b[1;35ma_s\u001b[0m\u001b[1m(\u001b[0mµ_R^\u001b[1;36m2\u001b[0m=\u001b[1;36m8317\u001b[0m\u001b[1;36m.440000\u001b[0m\u001b[1m)\u001b[0m^\u001b[1m(\u001b[0m\u001b[33mnf\u001b[0m=\u001b[1;36m5\u001b[0m\u001b[1m)\u001b[0m=\u001b[1;36m0.\u001b[0m\u001b[1;36m009390\u001b[0m=\u001b[1;36m0\u001b[0m\u001b[1;36m.118000\u001b[0m/\u001b[1m(\u001b[0m4π\u001b[1m)\u001b[0m          \u001b]8;id=770219;file:///Users/giacomomagni/.conda/envs/yad_dev/lib/python3.10/site-packages/eko/couplings.py\u001b\\\u001b[2mcouplings.py\u001b[0m\u001b]8;;\u001b\\\u001b[2m:\u001b[0m\u001b]8;id=515209;file:///Users/giacomomagni/.conda/envs/yad_dev/lib/python3.10/site-packages/eko/couplings.py#464\u001b\\\u001b[2m464\u001b[0m\u001b]8;;\u001b\\\n"
      ]
     },
     "metadata": {},
     "output_type": "display_data"
    },
    {
     "data": {
      "text/html": [
       "<pre style=\"white-space:pre;overflow-x:auto;line-height:normal;font-family:Menlo,'DejaVu Sans Mono',consolas,'Courier New',monospace\"><span style=\"color: #7fbfbf; text-decoration-color: #7fbfbf\">           </span><span style=\"color: #000080; text-decoration-color: #000080\">INFO    </span> <span style=\"font-weight: bold\">{</span><span style=\"color: #008000; text-decoration-color: #008000\">'polarized'</span>: <span style=\"color: #ff0000; text-decoration-color: #ff0000; font-style: italic\">False</span><span style=\"font-weight: bold\">}</span>                                                                 <a href=\"file:///Users/giacomomagni/.conda/envs/yad_dev/lib/python3.10/site-packages/eko/evolution_operator/grid.py\" target=\"_blank\"><span style=\"color: #7f7f7f; text-decoration-color: #7f7f7f\">grid.py</span></a><span style=\"color: #7f7f7f; text-decoration-color: #7f7f7f\">:</span><a href=\"file:///Users/giacomomagni/.conda/envs/yad_dev/lib/python3.10/site-packages/eko/evolution_operator/grid.py#93\" target=\"_blank\"><span style=\"color: #7f7f7f; text-decoration-color: #7f7f7f\">93</span></a>\n",
       "</pre>\n"
      ],
      "text/plain": [
       "\u001b[2;36m          \u001b[0m\u001b[2;36m \u001b[0m\u001b[34mINFO    \u001b[0m \u001b[1m{\u001b[0m\u001b[32m'polarized'\u001b[0m: \u001b[3;91mFalse\u001b[0m\u001b[1m}\u001b[0m                                                                 \u001b]8;id=95541;file:///Users/giacomomagni/.conda/envs/yad_dev/lib/python3.10/site-packages/eko/evolution_operator/grid.py\u001b\\\u001b[2mgrid.py\u001b[0m\u001b]8;;\u001b\\\u001b[2m:\u001b[0m\u001b]8;id=925948;file:///Users/giacomomagni/.conda/envs/yad_dev/lib/python3.10/site-packages/eko/evolution_operator/grid.py#93\u001b\\\u001b[2m93\u001b[0m\u001b]8;;\u001b\\\n"
      ]
     },
     "metadata": {},
     "output_type": "display_data"
    },
    {
     "data": {
      "text/html": [
       "<pre style=\"white-space:pre;overflow-x:auto;line-height:normal;font-family:Menlo,'DejaVu Sans Mono',consolas,'Courier New',monospace\"><span style=\"color: #7fbfbf; text-decoration-color: #7fbfbf\">           </span><span style=\"color: #000080; text-decoration-color: #000080\">INFO    </span> <span style=\"font-weight: bold\">{</span><span style=\"color: #008000; text-decoration-color: #008000\">'time_like'</span>: <span style=\"color: #ff0000; text-decoration-color: #ff0000; font-style: italic\">False</span><span style=\"font-weight: bold\">}</span>                                                                 <a href=\"file:///Users/giacomomagni/.conda/envs/yad_dev/lib/python3.10/site-packages/eko/evolution_operator/grid.py\" target=\"_blank\"><span style=\"color: #7f7f7f; text-decoration-color: #7f7f7f\">grid.py</span></a><span style=\"color: #7f7f7f; text-decoration-color: #7f7f7f\">:</span><a href=\"file:///Users/giacomomagni/.conda/envs/yad_dev/lib/python3.10/site-packages/eko/evolution_operator/grid.py#94\" target=\"_blank\"><span style=\"color: #7f7f7f; text-decoration-color: #7f7f7f\">94</span></a>\n",
       "</pre>\n"
      ],
      "text/plain": [
       "\u001b[2;36m          \u001b[0m\u001b[2;36m \u001b[0m\u001b[34mINFO    \u001b[0m \u001b[1m{\u001b[0m\u001b[32m'time_like'\u001b[0m: \u001b[3;91mFalse\u001b[0m\u001b[1m}\u001b[0m                                                                 \u001b]8;id=411226;file:///Users/giacomomagni/.conda/envs/yad_dev/lib/python3.10/site-packages/eko/evolution_operator/grid.py\u001b\\\u001b[2mgrid.py\u001b[0m\u001b]8;;\u001b\\\u001b[2m:\u001b[0m\u001b]8;id=497504;file:///Users/giacomomagni/.conda/envs/yad_dev/lib/python3.10/site-packages/eko/evolution_operator/grid.py#94\u001b\\\u001b[2m94\u001b[0m\u001b]8;;\u001b\\\n"
      ]
     },
     "metadata": {},
     "output_type": "display_data"
    },
    {
     "data": {
      "text/html": [
       "<pre style=\"white-space:pre;overflow-x:auto;line-height:normal;font-family:Menlo,'DejaVu Sans Mono',consolas,'Courier New',monospace\"><span style=\"color: #7fbfbf; text-decoration-color: #7fbfbf\">           </span><span style=\"color: #000080; text-decoration-color: #000080\">INFO    </span> Prepare threshold operator                                                          <a href=\"file:///Users/giacomomagni/.conda/envs/yad_dev/lib/python3.10/site-packages/eko/evolution_operator/grid.py\" target=\"_blank\"><span style=\"color: #7f7f7f; text-decoration-color: #7f7f7f\">grid.py</span></a><span style=\"color: #7f7f7f; text-decoration-color: #7f7f7f\">:</span><a href=\"file:///Users/giacomomagni/.conda/envs/yad_dev/lib/python3.10/site-packages/eko/evolution_operator/grid.py#139\" target=\"_blank\"><span style=\"color: #7f7f7f; text-decoration-color: #7f7f7f\">139</span></a>\n",
       "</pre>\n"
      ],
      "text/plain": [
       "\u001b[2;36m          \u001b[0m\u001b[2;36m \u001b[0m\u001b[34mINFO    \u001b[0m Prepare threshold operator                                                          \u001b]8;id=974346;file:///Users/giacomomagni/.conda/envs/yad_dev/lib/python3.10/site-packages/eko/evolution_operator/grid.py\u001b\\\u001b[2mgrid.py\u001b[0m\u001b]8;;\u001b\\\u001b[2m:\u001b[0m\u001b]8;id=824791;file:///Users/giacomomagni/.conda/envs/yad_dev/lib/python3.10/site-packages/eko/evolution_operator/grid.py#139\u001b\\\u001b[2m139\u001b[0m\u001b]8;;\u001b\\\n"
      ]
     },
     "metadata": {},
     "output_type": "display_data"
    },
    {
     "data": {
      "text/html": [
       "<pre style=\"white-space:pre;overflow-x:auto;line-height:normal;font-family:Menlo,'DejaVu Sans Mono',consolas,'Courier New',monospace\"><span style=\"color: #7fbfbf; text-decoration-color: #7fbfbf\">           </span><span style=\"color: #000080; text-decoration-color: #000080\">INFO    </span> Evolution: computing operators <span style=\"color: #008080; text-decoration-color: #008080; font-weight: bold\">2.722500e+00</span> -&gt; <span style=\"color: #008080; text-decoration-color: #008080; font-weight: bold\">2.280100e+00</span>, <span style=\"color: #808000; text-decoration-color: #808000\">nf</span>=<span style=\"color: #008080; text-decoration-color: #008080; font-weight: bold\">4</span>               <a href=\"file:///Users/giacomomagni/.conda/envs/yad_dev/lib/python3.10/site-packages/eko/evolution_operator/__init__.py\" target=\"_blank\"><span style=\"color: #7f7f7f; text-decoration-color: #7f7f7f\">__init__.py</span></a><span style=\"color: #7f7f7f; text-decoration-color: #7f7f7f\">:</span><a href=\"file:///Users/giacomomagni/.conda/envs/yad_dev/lib/python3.10/site-packages/eko/evolution_operator/__init__.py#917\" target=\"_blank\"><span style=\"color: #7f7f7f; text-decoration-color: #7f7f7f\">917</span></a>\n",
       "</pre>\n"
      ],
      "text/plain": [
       "\u001b[2;36m          \u001b[0m\u001b[2;36m \u001b[0m\u001b[34mINFO    \u001b[0m Evolution: computing operators \u001b[1;36m2.722500e+00\u001b[0m -> \u001b[1;36m2.280100e+00\u001b[0m, \u001b[33mnf\u001b[0m=\u001b[1;36m4\u001b[0m               \u001b]8;id=923825;file:///Users/giacomomagni/.conda/envs/yad_dev/lib/python3.10/site-packages/eko/evolution_operator/__init__.py\u001b\\\u001b[2m__init__.py\u001b[0m\u001b]8;;\u001b\\\u001b[2m:\u001b[0m\u001b]8;id=195313;file:///Users/giacomomagni/.conda/envs/yad_dev/lib/python3.10/site-packages/eko/evolution_operator/__init__.py#917\u001b\\\u001b[2m917\u001b[0m\u001b]8;;\u001b\\\n"
      ]
     },
     "metadata": {},
     "output_type": "display_data"
    },
    {
     "data": {
      "text/html": [
       "<pre style=\"white-space:pre;overflow-x:auto;line-height:normal;font-family:Menlo,'DejaVu Sans Mono',consolas,'Courier New',monospace\"><span style=\"color: #7fbfbf; text-decoration-color: #7fbfbf\">           </span><span style=\"color: #000080; text-decoration-color: #000080\">INFO    </span> Evolution: µ_R^<span style=\"color: #008080; text-decoration-color: #008080; font-weight: bold\">2</span> distance: <span style=\"color: #008080; text-decoration-color: #008080; font-weight: bold\">2.722500e+00</span> -&gt; <span style=\"color: #008080; text-decoration-color: #008080; font-weight: bold\">2.280100e+00</span>                         <a href=\"file:///Users/giacomomagni/.conda/envs/yad_dev/lib/python3.10/site-packages/eko/evolution_operator/__init__.py\" target=\"_blank\"><span style=\"color: #7f7f7f; text-decoration-color: #7f7f7f\">__init__.py</span></a><span style=\"color: #7f7f7f; text-decoration-color: #7f7f7f\">:</span><a href=\"file:///Users/giacomomagni/.conda/envs/yad_dev/lib/python3.10/site-packages/eko/evolution_operator/__init__.py#924\" target=\"_blank\"><span style=\"color: #7f7f7f; text-decoration-color: #7f7f7f\">924</span></a>\n",
       "</pre>\n"
      ],
      "text/plain": [
       "\u001b[2;36m          \u001b[0m\u001b[2;36m \u001b[0m\u001b[34mINFO    \u001b[0m Evolution: µ_R^\u001b[1;36m2\u001b[0m distance: \u001b[1;36m2.722500e+00\u001b[0m -> \u001b[1;36m2.280100e+00\u001b[0m                         \u001b]8;id=415346;file:///Users/giacomomagni/.conda/envs/yad_dev/lib/python3.10/site-packages/eko/evolution_operator/__init__.py\u001b\\\u001b[2m__init__.py\u001b[0m\u001b]8;;\u001b\\\u001b[2m:\u001b[0m\u001b]8;id=534557;file:///Users/giacomomagni/.conda/envs/yad_dev/lib/python3.10/site-packages/eko/evolution_operator/__init__.py#924\u001b\\\u001b[2m924\u001b[0m\u001b]8;;\u001b\\\n"
      ]
     },
     "metadata": {},
     "output_type": "display_data"
    },
    {
     "data": {
      "text/html": [
       "<pre style=\"white-space:pre;overflow-x:auto;line-height:normal;font-family:Menlo,'DejaVu Sans Mono',consolas,'Courier New',monospace\"><span style=\"color: #7fbfbf; text-decoration-color: #7fbfbf\">           </span><span style=\"color: #000080; text-decoration-color: #000080\">INFO    </span> Evolution: a_s distance: <span style=\"color: #008080; text-decoration-color: #008080; font-weight: bold\">2.605852e-02</span> -&gt; <span style=\"color: #008080; text-decoration-color: #008080; font-weight: bold\">2.728162e-02</span>                           <a href=\"file:///Users/giacomomagni/.conda/envs/yad_dev/lib/python3.10/site-packages/eko/evolution_operator/__init__.py\" target=\"_blank\"><span style=\"color: #7f7f7f; text-decoration-color: #7f7f7f\">__init__.py</span></a><span style=\"color: #7f7f7f; text-decoration-color: #7f7f7f\">:</span><a href=\"file:///Users/giacomomagni/.conda/envs/yad_dev/lib/python3.10/site-packages/eko/evolution_operator/__init__.py#936\" target=\"_blank\"><span style=\"color: #7f7f7f; text-decoration-color: #7f7f7f\">936</span></a>\n",
       "</pre>\n"
      ],
      "text/plain": [
       "\u001b[2;36m          \u001b[0m\u001b[2;36m \u001b[0m\u001b[34mINFO    \u001b[0m Evolution: a_s distance: \u001b[1;36m2.605852e-02\u001b[0m -> \u001b[1;36m2.728162e-02\u001b[0m                           \u001b]8;id=701948;file:///Users/giacomomagni/.conda/envs/yad_dev/lib/python3.10/site-packages/eko/evolution_operator/__init__.py\u001b\\\u001b[2m__init__.py\u001b[0m\u001b]8;;\u001b\\\u001b[2m:\u001b[0m\u001b]8;id=940502;file:///Users/giacomomagni/.conda/envs/yad_dev/lib/python3.10/site-packages/eko/evolution_operator/__init__.py#936\u001b\\\u001b[2m936\u001b[0m\u001b]8;;\u001b\\\n"
      ]
     },
     "metadata": {},
     "output_type": "display_data"
    },
    {
     "data": {
      "text/html": [
       "<pre style=\"white-space:pre;overflow-x:auto;line-height:normal;font-family:Menlo,'DejaVu Sans Mono',consolas,'Courier New',monospace\"><span style=\"color: #7fbfbf; text-decoration-color: #7fbfbf\">           </span><span style=\"color: #000080; text-decoration-color: #000080\">INFO    </span> Evolution: order: <span style=\"font-weight: bold\">(</span><span style=\"color: #008080; text-decoration-color: #008080; font-weight: bold\">2</span>, <span style=\"color: #008080; text-decoration-color: #008080; font-weight: bold\">0</span><span style=\"font-weight: bold\">)</span>, solution strategy: iterate-exact, use fhmruvv: <span style=\"color: #ff0000; text-decoration-color: #ff0000; font-style: italic\">False</span>  <a href=\"file:///Users/giacomomagni/.conda/envs/yad_dev/lib/python3.10/site-packages/eko/evolution_operator/__init__.py\" target=\"_blank\"><span style=\"color: #7f7f7f; text-decoration-color: #7f7f7f\">__init__.py</span></a><span style=\"color: #7f7f7f; text-decoration-color: #7f7f7f\">:</span><a href=\"file:///Users/giacomomagni/.conda/envs/yad_dev/lib/python3.10/site-packages/eko/evolution_operator/__init__.py#946\" target=\"_blank\"><span style=\"color: #7f7f7f; text-decoration-color: #7f7f7f\">946</span></a>\n",
       "</pre>\n"
      ],
      "text/plain": [
       "\u001b[2;36m          \u001b[0m\u001b[2;36m \u001b[0m\u001b[34mINFO    \u001b[0m Evolution: order: \u001b[1m(\u001b[0m\u001b[1;36m2\u001b[0m, \u001b[1;36m0\u001b[0m\u001b[1m)\u001b[0m, solution strategy: iterate-exact, use fhmruvv: \u001b[3;91mFalse\u001b[0m  \u001b]8;id=933878;file:///Users/giacomomagni/.conda/envs/yad_dev/lib/python3.10/site-packages/eko/evolution_operator/__init__.py\u001b\\\u001b[2m__init__.py\u001b[0m\u001b]8;;\u001b\\\u001b[2m:\u001b[0m\u001b]8;id=81061;file:///Users/giacomomagni/.conda/envs/yad_dev/lib/python3.10/site-packages/eko/evolution_operator/__init__.py#946\u001b\\\u001b[2m946\u001b[0m\u001b]8;;\u001b\\\n"
      ]
     },
     "metadata": {},
     "output_type": "display_data"
    },
    {
     "data": {
      "text/html": [
       "<pre style=\"white-space:pre;overflow-x:auto;line-height:normal;font-family:Menlo,'DejaVu Sans Mono',consolas,'Courier New',monospace\"><span style=\"color: #7fbfbf; text-decoration-color: #7fbfbf\">[15:30:20] </span><span style=\"color: #000080; text-decoration-color: #000080\">INFO    </span> Evolution: Total time <span style=\"color: #008080; text-decoration-color: #008080; font-weight: bold\">8.296076</span> s                                                <a href=\"file:///Users/giacomomagni/.conda/envs/yad_dev/lib/python3.10/site-packages/eko/evolution_operator/__init__.py\" target=\"_blank\"><span style=\"color: #7f7f7f; text-decoration-color: #7f7f7f\">__init__.py</span></a><span style=\"color: #7f7f7f; text-decoration-color: #7f7f7f\">:</span><a href=\"file:///Users/giacomomagni/.conda/envs/yad_dev/lib/python3.10/site-packages/eko/evolution_operator/__init__.py#982\" target=\"_blank\"><span style=\"color: #7f7f7f; text-decoration-color: #7f7f7f\">982</span></a>\n",
       "</pre>\n"
      ],
      "text/plain": [
       "\u001b[2;36m[15:30:20]\u001b[0m\u001b[2;36m \u001b[0m\u001b[34mINFO    \u001b[0m Evolution: Total time \u001b[1;36m8.296076\u001b[0m s                                                \u001b]8;id=414751;file:///Users/giacomomagni/.conda/envs/yad_dev/lib/python3.10/site-packages/eko/evolution_operator/__init__.py\u001b\\\u001b[2m__init__.py\u001b[0m\u001b]8;;\u001b\\\u001b[2m:\u001b[0m\u001b]8;id=993849;file:///Users/giacomomagni/.conda/envs/yad_dev/lib/python3.10/site-packages/eko/evolution_operator/__init__.py#982\u001b\\\u001b[2m982\u001b[0m\u001b]8;;\u001b\\\n"
      ]
     },
     "metadata": {},
     "output_type": "display_data"
    },
    {
     "data": {
      "text/html": [
       "<pre style=\"white-space:pre;overflow-x:auto;line-height:normal;font-family:Menlo,'DejaVu Sans Mono',consolas,'Courier New',monospace\"><span style=\"color: #7fbfbf; text-decoration-color: #7fbfbf\">           </span><span style=\"color: #000080; text-decoration-color: #000080\">INFO    </span> Matching: order: <span style=\"font-weight: bold\">(</span><span style=\"color: #008080; text-decoration-color: #008080; font-weight: bold\">1</span>, <span style=\"color: #008080; text-decoration-color: #008080; font-weight: bold\">0</span><span style=\"font-weight: bold\">)</span>, backward method: <span style=\"color: #800080; text-decoration-color: #800080; font-style: italic\">None</span>                   <a href=\"file:///Users/giacomomagni/.conda/envs/yad_dev/lib/python3.10/site-packages/eko/evolution_operator/operator_matrix_element.py\" target=\"_blank\"><span style=\"color: #7f7f7f; text-decoration-color: #7f7f7f\">operator_matrix_element.py</span></a><span style=\"color: #7f7f7f; text-decoration-color: #7f7f7f\">:</span><a href=\"file:///Users/giacomomagni/.conda/envs/yad_dev/lib/python3.10/site-packages/eko/evolution_operator/operator_matrix_element.py#327\" target=\"_blank\"><span style=\"color: #7f7f7f; text-decoration-color: #7f7f7f\">327</span></a>\n",
       "</pre>\n"
      ],
      "text/plain": [
       "\u001b[2;36m          \u001b[0m\u001b[2;36m \u001b[0m\u001b[34mINFO    \u001b[0m Matching: order: \u001b[1m(\u001b[0m\u001b[1;36m1\u001b[0m, \u001b[1;36m0\u001b[0m\u001b[1m)\u001b[0m, backward method: \u001b[3;35mNone\u001b[0m                   \u001b]8;id=316257;file:///Users/giacomomagni/.conda/envs/yad_dev/lib/python3.10/site-packages/eko/evolution_operator/operator_matrix_element.py\u001b\\\u001b[2moperator_matrix_element.py\u001b[0m\u001b]8;;\u001b\\\u001b[2m:\u001b[0m\u001b]8;id=886459;file:///Users/giacomomagni/.conda/envs/yad_dev/lib/python3.10/site-packages/eko/evolution_operator/operator_matrix_element.py#327\u001b\\\u001b[2m327\u001b[0m\u001b]8;;\u001b\\\n"
      ]
     },
     "metadata": {},
     "output_type": "display_data"
    },
    {
     "data": {
      "text/html": [
       "<pre style=\"white-space:pre;overflow-x:auto;line-height:normal;font-family:Menlo,'DejaVu Sans Mono',consolas,'Courier New',monospace\"><span style=\"color: #7fbfbf; text-decoration-color: #7fbfbf\">[15:30:31] </span><span style=\"color: #000080; text-decoration-color: #000080\">INFO    </span> Matching: Total time <span style=\"color: #008080; text-decoration-color: #008080; font-weight: bold\">11.472626</span> s                                                <a href=\"file:///Users/giacomomagni/.conda/envs/yad_dev/lib/python3.10/site-packages/eko/evolution_operator/__init__.py\" target=\"_blank\"><span style=\"color: #7f7f7f; text-decoration-color: #7f7f7f\">__init__.py</span></a><span style=\"color: #7f7f7f; text-decoration-color: #7f7f7f\">:</span><a href=\"file:///Users/giacomomagni/.conda/envs/yad_dev/lib/python3.10/site-packages/eko/evolution_operator/__init__.py#982\" target=\"_blank\"><span style=\"color: #7f7f7f; text-decoration-color: #7f7f7f\">982</span></a>\n",
       "</pre>\n"
      ],
      "text/plain": [
       "\u001b[2;36m[15:30:31]\u001b[0m\u001b[2;36m \u001b[0m\u001b[34mINFO    \u001b[0m Matching: Total time \u001b[1;36m11.472626\u001b[0m s                                                \u001b]8;id=278456;file:///Users/giacomomagni/.conda/envs/yad_dev/lib/python3.10/site-packages/eko/evolution_operator/__init__.py\u001b\\\u001b[2m__init__.py\u001b[0m\u001b]8;;\u001b\\\u001b[2m:\u001b[0m\u001b]8;id=651749;file:///Users/giacomomagni/.conda/envs/yad_dev/lib/python3.10/site-packages/eko/evolution_operator/__init__.py#982\u001b\\\u001b[2m982\u001b[0m\u001b]8;;\u001b\\\n"
      ]
     },
     "metadata": {},
     "output_type": "display_data"
    },
    {
     "data": {
      "text/html": [
       "<pre style=\"white-space:pre;overflow-x:auto;line-height:normal;font-family:Menlo,'DejaVu Sans Mono',consolas,'Courier New',monospace\"><span style=\"color: #7fbfbf; text-decoration-color: #7fbfbf\">           </span><span style=\"color: #000080; text-decoration-color: #000080\">INFO    </span> Evolution: computing operators <span style=\"color: #008080; text-decoration-color: #008080; font-weight: bold\">2.280100e+00</span> -&gt; <span style=\"color: #008080; text-decoration-color: #008080; font-weight: bold\">1.000000e+02</span>, <span style=\"color: #808000; text-decoration-color: #808000\">nf</span>=<span style=\"color: #008080; text-decoration-color: #008080; font-weight: bold\">3</span>               <a href=\"file:///Users/giacomomagni/.conda/envs/yad_dev/lib/python3.10/site-packages/eko/evolution_operator/__init__.py\" target=\"_blank\"><span style=\"color: #7f7f7f; text-decoration-color: #7f7f7f\">__init__.py</span></a><span style=\"color: #7f7f7f; text-decoration-color: #7f7f7f\">:</span><a href=\"file:///Users/giacomomagni/.conda/envs/yad_dev/lib/python3.10/site-packages/eko/evolution_operator/__init__.py#917\" target=\"_blank\"><span style=\"color: #7f7f7f; text-decoration-color: #7f7f7f\">917</span></a>\n",
       "</pre>\n"
      ],
      "text/plain": [
       "\u001b[2;36m          \u001b[0m\u001b[2;36m \u001b[0m\u001b[34mINFO    \u001b[0m Evolution: computing operators \u001b[1;36m2.280100e+00\u001b[0m -> \u001b[1;36m1.000000e+02\u001b[0m, \u001b[33mnf\u001b[0m=\u001b[1;36m3\u001b[0m               \u001b]8;id=195377;file:///Users/giacomomagni/.conda/envs/yad_dev/lib/python3.10/site-packages/eko/evolution_operator/__init__.py\u001b\\\u001b[2m__init__.py\u001b[0m\u001b]8;;\u001b\\\u001b[2m:\u001b[0m\u001b]8;id=966900;file:///Users/giacomomagni/.conda/envs/yad_dev/lib/python3.10/site-packages/eko/evolution_operator/__init__.py#917\u001b\\\u001b[2m917\u001b[0m\u001b]8;;\u001b\\\n"
      ]
     },
     "metadata": {},
     "output_type": "display_data"
    },
    {
     "data": {
      "text/html": [
       "<pre style=\"white-space:pre;overflow-x:auto;line-height:normal;font-family:Menlo,'DejaVu Sans Mono',consolas,'Courier New',monospace\"><span style=\"color: #7fbfbf; text-decoration-color: #7fbfbf\">           </span><span style=\"color: #000080; text-decoration-color: #000080\">INFO    </span> Evolution: µ_R^<span style=\"color: #008080; text-decoration-color: #008080; font-weight: bold\">2</span> distance: <span style=\"color: #008080; text-decoration-color: #008080; font-weight: bold\">2.280100e+00</span> -&gt; <span style=\"color: #008080; text-decoration-color: #008080; font-weight: bold\">1.000000e+02</span>                         <a href=\"file:///Users/giacomomagni/.conda/envs/yad_dev/lib/python3.10/site-packages/eko/evolution_operator/__init__.py\" target=\"_blank\"><span style=\"color: #7f7f7f; text-decoration-color: #7f7f7f\">__init__.py</span></a><span style=\"color: #7f7f7f; text-decoration-color: #7f7f7f\">:</span><a href=\"file:///Users/giacomomagni/.conda/envs/yad_dev/lib/python3.10/site-packages/eko/evolution_operator/__init__.py#924\" target=\"_blank\"><span style=\"color: #7f7f7f; text-decoration-color: #7f7f7f\">924</span></a>\n",
       "</pre>\n"
      ],
      "text/plain": [
       "\u001b[2;36m          \u001b[0m\u001b[2;36m \u001b[0m\u001b[34mINFO    \u001b[0m Evolution: µ_R^\u001b[1;36m2\u001b[0m distance: \u001b[1;36m2.280100e+00\u001b[0m -> \u001b[1;36m1.000000e+02\u001b[0m                         \u001b]8;id=967130;file:///Users/giacomomagni/.conda/envs/yad_dev/lib/python3.10/site-packages/eko/evolution_operator/__init__.py\u001b\\\u001b[2m__init__.py\u001b[0m\u001b]8;;\u001b\\\u001b[2m:\u001b[0m\u001b]8;id=43266;file:///Users/giacomomagni/.conda/envs/yad_dev/lib/python3.10/site-packages/eko/evolution_operator/__init__.py#924\u001b\\\u001b[2m924\u001b[0m\u001b]8;;\u001b\\\n"
      ]
     },
     "metadata": {},
     "output_type": "display_data"
    },
    {
     "data": {
      "text/html": [
       "<pre style=\"white-space:pre;overflow-x:auto;line-height:normal;font-family:Menlo,'DejaVu Sans Mono',consolas,'Courier New',monospace\"><span style=\"color: #7fbfbf; text-decoration-color: #7fbfbf\">           </span><span style=\"color: #000080; text-decoration-color: #000080\">INFO    </span> Evolution: a_s distance: <span style=\"color: #008080; text-decoration-color: #008080; font-weight: bold\">2.728162e-02</span> -&gt; <span style=\"color: #008080; text-decoration-color: #008080; font-weight: bold\">1.330271e-02</span>                           <a href=\"file:///Users/giacomomagni/.conda/envs/yad_dev/lib/python3.10/site-packages/eko/evolution_operator/__init__.py\" target=\"_blank\"><span style=\"color: #7f7f7f; text-decoration-color: #7f7f7f\">__init__.py</span></a><span style=\"color: #7f7f7f; text-decoration-color: #7f7f7f\">:</span><a href=\"file:///Users/giacomomagni/.conda/envs/yad_dev/lib/python3.10/site-packages/eko/evolution_operator/__init__.py#936\" target=\"_blank\"><span style=\"color: #7f7f7f; text-decoration-color: #7f7f7f\">936</span></a>\n",
       "</pre>\n"
      ],
      "text/plain": [
       "\u001b[2;36m          \u001b[0m\u001b[2;36m \u001b[0m\u001b[34mINFO    \u001b[0m Evolution: a_s distance: \u001b[1;36m2.728162e-02\u001b[0m -> \u001b[1;36m1.330271e-02\u001b[0m                           \u001b]8;id=782783;file:///Users/giacomomagni/.conda/envs/yad_dev/lib/python3.10/site-packages/eko/evolution_operator/__init__.py\u001b\\\u001b[2m__init__.py\u001b[0m\u001b]8;;\u001b\\\u001b[2m:\u001b[0m\u001b]8;id=114071;file:///Users/giacomomagni/.conda/envs/yad_dev/lib/python3.10/site-packages/eko/evolution_operator/__init__.py#936\u001b\\\u001b[2m936\u001b[0m\u001b]8;;\u001b\\\n"
      ]
     },
     "metadata": {},
     "output_type": "display_data"
    },
    {
     "data": {
      "text/html": [
       "<pre style=\"white-space:pre;overflow-x:auto;line-height:normal;font-family:Menlo,'DejaVu Sans Mono',consolas,'Courier New',monospace\"><span style=\"color: #7fbfbf; text-decoration-color: #7fbfbf\">           </span><span style=\"color: #000080; text-decoration-color: #000080\">INFO    </span> Evolution: order: <span style=\"font-weight: bold\">(</span><span style=\"color: #008080; text-decoration-color: #008080; font-weight: bold\">2</span>, <span style=\"color: #008080; text-decoration-color: #008080; font-weight: bold\">0</span><span style=\"font-weight: bold\">)</span>, solution strategy: iterate-exact, use fhmruvv: <span style=\"color: #ff0000; text-decoration-color: #ff0000; font-style: italic\">False</span>  <a href=\"file:///Users/giacomomagni/.conda/envs/yad_dev/lib/python3.10/site-packages/eko/evolution_operator/__init__.py\" target=\"_blank\"><span style=\"color: #7f7f7f; text-decoration-color: #7f7f7f\">__init__.py</span></a><span style=\"color: #7f7f7f; text-decoration-color: #7f7f7f\">:</span><a href=\"file:///Users/giacomomagni/.conda/envs/yad_dev/lib/python3.10/site-packages/eko/evolution_operator/__init__.py#946\" target=\"_blank\"><span style=\"color: #7f7f7f; text-decoration-color: #7f7f7f\">946</span></a>\n",
       "</pre>\n"
      ],
      "text/plain": [
       "\u001b[2;36m          \u001b[0m\u001b[2;36m \u001b[0m\u001b[34mINFO    \u001b[0m Evolution: order: \u001b[1m(\u001b[0m\u001b[1;36m2\u001b[0m, \u001b[1;36m0\u001b[0m\u001b[1m)\u001b[0m, solution strategy: iterate-exact, use fhmruvv: \u001b[3;91mFalse\u001b[0m  \u001b]8;id=716510;file:///Users/giacomomagni/.conda/envs/yad_dev/lib/python3.10/site-packages/eko/evolution_operator/__init__.py\u001b\\\u001b[2m__init__.py\u001b[0m\u001b]8;;\u001b\\\u001b[2m:\u001b[0m\u001b]8;id=130051;file:///Users/giacomomagni/.conda/envs/yad_dev/lib/python3.10/site-packages/eko/evolution_operator/__init__.py#946\u001b\\\u001b[2m946\u001b[0m\u001b]8;;\u001b\\\n"
      ]
     },
     "metadata": {},
     "output_type": "display_data"
    },
    {
     "data": {
      "text/html": [
       "<pre style=\"white-space:pre;overflow-x:auto;line-height:normal;font-family:Menlo,'DejaVu Sans Mono',consolas,'Courier New',monospace\"><span style=\"color: #7fbfbf; text-decoration-color: #7fbfbf\">[15:30:39] </span><span style=\"color: #000080; text-decoration-color: #000080\">INFO    </span> Evolution: Total time <span style=\"color: #008080; text-decoration-color: #008080; font-weight: bold\">8.060058</span> s                                                <a href=\"file:///Users/giacomomagni/.conda/envs/yad_dev/lib/python3.10/site-packages/eko/evolution_operator/__init__.py\" target=\"_blank\"><span style=\"color: #7f7f7f; text-decoration-color: #7f7f7f\">__init__.py</span></a><span style=\"color: #7f7f7f; text-decoration-color: #7f7f7f\">:</span><a href=\"file:///Users/giacomomagni/.conda/envs/yad_dev/lib/python3.10/site-packages/eko/evolution_operator/__init__.py#982\" target=\"_blank\"><span style=\"color: #7f7f7f; text-decoration-color: #7f7f7f\">982</span></a>\n",
       "</pre>\n"
      ],
      "text/plain": [
       "\u001b[2;36m[15:30:39]\u001b[0m\u001b[2;36m \u001b[0m\u001b[34mINFO    \u001b[0m Evolution: Total time \u001b[1;36m8.060058\u001b[0m s                                                \u001b]8;id=596747;file:///Users/giacomomagni/.conda/envs/yad_dev/lib/python3.10/site-packages/eko/evolution_operator/__init__.py\u001b\\\u001b[2m__init__.py\u001b[0m\u001b]8;;\u001b\\\u001b[2m:\u001b[0m\u001b]8;id=903883;file:///Users/giacomomagni/.conda/envs/yad_dev/lib/python3.10/site-packages/eko/evolution_operator/__init__.py#982\u001b\\\u001b[2m982\u001b[0m\u001b]8;;\u001b\\\n"
      ]
     },
     "metadata": {},
     "output_type": "display_data"
    },
    {
     "data": {
      "text/html": [
       "<pre style=\"white-space:pre;overflow-x:auto;line-height:normal;font-family:Menlo,'DejaVu Sans Mono',consolas,'Courier New',monospace\"><span style=\"color: #7fbfbf; text-decoration-color: #7fbfbf\">           </span><span style=\"color: #000080; text-decoration-color: #000080\">INFO    </span> Evolution: computing operators <span style=\"color: #008080; text-decoration-color: #008080; font-weight: bold\">2.280100e+00</span> -&gt; <span style=\"color: #008080; text-decoration-color: #008080; font-weight: bold\">2.250000e+02</span>, <span style=\"color: #808000; text-decoration-color: #808000\">nf</span>=<span style=\"color: #008080; text-decoration-color: #008080; font-weight: bold\">3</span>               <a href=\"file:///Users/giacomomagni/.conda/envs/yad_dev/lib/python3.10/site-packages/eko/evolution_operator/__init__.py\" target=\"_blank\"><span style=\"color: #7f7f7f; text-decoration-color: #7f7f7f\">__init__.py</span></a><span style=\"color: #7f7f7f; text-decoration-color: #7f7f7f\">:</span><a href=\"file:///Users/giacomomagni/.conda/envs/yad_dev/lib/python3.10/site-packages/eko/evolution_operator/__init__.py#917\" target=\"_blank\"><span style=\"color: #7f7f7f; text-decoration-color: #7f7f7f\">917</span></a>\n",
       "</pre>\n"
      ],
      "text/plain": [
       "\u001b[2;36m          \u001b[0m\u001b[2;36m \u001b[0m\u001b[34mINFO    \u001b[0m Evolution: computing operators \u001b[1;36m2.280100e+00\u001b[0m -> \u001b[1;36m2.250000e+02\u001b[0m, \u001b[33mnf\u001b[0m=\u001b[1;36m3\u001b[0m               \u001b]8;id=535017;file:///Users/giacomomagni/.conda/envs/yad_dev/lib/python3.10/site-packages/eko/evolution_operator/__init__.py\u001b\\\u001b[2m__init__.py\u001b[0m\u001b]8;;\u001b\\\u001b[2m:\u001b[0m\u001b]8;id=391942;file:///Users/giacomomagni/.conda/envs/yad_dev/lib/python3.10/site-packages/eko/evolution_operator/__init__.py#917\u001b\\\u001b[2m917\u001b[0m\u001b]8;;\u001b\\\n"
      ]
     },
     "metadata": {},
     "output_type": "display_data"
    },
    {
     "data": {
      "text/html": [
       "<pre style=\"white-space:pre;overflow-x:auto;line-height:normal;font-family:Menlo,'DejaVu Sans Mono',consolas,'Courier New',monospace\"><span style=\"color: #7fbfbf; text-decoration-color: #7fbfbf\">           </span><span style=\"color: #000080; text-decoration-color: #000080\">INFO    </span> Evolution: µ_R^<span style=\"color: #008080; text-decoration-color: #008080; font-weight: bold\">2</span> distance: <span style=\"color: #008080; text-decoration-color: #008080; font-weight: bold\">2.280100e+00</span> -&gt; <span style=\"color: #008080; text-decoration-color: #008080; font-weight: bold\">2.250000e+02</span>                         <a href=\"file:///Users/giacomomagni/.conda/envs/yad_dev/lib/python3.10/site-packages/eko/evolution_operator/__init__.py\" target=\"_blank\"><span style=\"color: #7f7f7f; text-decoration-color: #7f7f7f\">__init__.py</span></a><span style=\"color: #7f7f7f; text-decoration-color: #7f7f7f\">:</span><a href=\"file:///Users/giacomomagni/.conda/envs/yad_dev/lib/python3.10/site-packages/eko/evolution_operator/__init__.py#924\" target=\"_blank\"><span style=\"color: #7f7f7f; text-decoration-color: #7f7f7f\">924</span></a>\n",
       "</pre>\n"
      ],
      "text/plain": [
       "\u001b[2;36m          \u001b[0m\u001b[2;36m \u001b[0m\u001b[34mINFO    \u001b[0m Evolution: µ_R^\u001b[1;36m2\u001b[0m distance: \u001b[1;36m2.280100e+00\u001b[0m -> \u001b[1;36m2.250000e+02\u001b[0m                         \u001b]8;id=988740;file:///Users/giacomomagni/.conda/envs/yad_dev/lib/python3.10/site-packages/eko/evolution_operator/__init__.py\u001b\\\u001b[2m__init__.py\u001b[0m\u001b]8;;\u001b\\\u001b[2m:\u001b[0m\u001b]8;id=669601;file:///Users/giacomomagni/.conda/envs/yad_dev/lib/python3.10/site-packages/eko/evolution_operator/__init__.py#924\u001b\\\u001b[2m924\u001b[0m\u001b]8;;\u001b\\\n"
      ]
     },
     "metadata": {},
     "output_type": "display_data"
    },
    {
     "data": {
      "text/html": [
       "<pre style=\"white-space:pre;overflow-x:auto;line-height:normal;font-family:Menlo,'DejaVu Sans Mono',consolas,'Courier New',monospace\"><span style=\"color: #7fbfbf; text-decoration-color: #7fbfbf\">           </span><span style=\"color: #000080; text-decoration-color: #000080\">INFO    </span> Evolution: a_s distance: <span style=\"color: #008080; text-decoration-color: #008080; font-weight: bold\">2.728162e-02</span> -&gt; <span style=\"color: #008080; text-decoration-color: #008080; font-weight: bold\">1.202975e-02</span>                           <a href=\"file:///Users/giacomomagni/.conda/envs/yad_dev/lib/python3.10/site-packages/eko/evolution_operator/__init__.py\" target=\"_blank\"><span style=\"color: #7f7f7f; text-decoration-color: #7f7f7f\">__init__.py</span></a><span style=\"color: #7f7f7f; text-decoration-color: #7f7f7f\">:</span><a href=\"file:///Users/giacomomagni/.conda/envs/yad_dev/lib/python3.10/site-packages/eko/evolution_operator/__init__.py#936\" target=\"_blank\"><span style=\"color: #7f7f7f; text-decoration-color: #7f7f7f\">936</span></a>\n",
       "</pre>\n"
      ],
      "text/plain": [
       "\u001b[2;36m          \u001b[0m\u001b[2;36m \u001b[0m\u001b[34mINFO    \u001b[0m Evolution: a_s distance: \u001b[1;36m2.728162e-02\u001b[0m -> \u001b[1;36m1.202975e-02\u001b[0m                           \u001b]8;id=305435;file:///Users/giacomomagni/.conda/envs/yad_dev/lib/python3.10/site-packages/eko/evolution_operator/__init__.py\u001b\\\u001b[2m__init__.py\u001b[0m\u001b]8;;\u001b\\\u001b[2m:\u001b[0m\u001b]8;id=48842;file:///Users/giacomomagni/.conda/envs/yad_dev/lib/python3.10/site-packages/eko/evolution_operator/__init__.py#936\u001b\\\u001b[2m936\u001b[0m\u001b]8;;\u001b\\\n"
      ]
     },
     "metadata": {},
     "output_type": "display_data"
    },
    {
     "data": {
      "text/html": [
       "<pre style=\"white-space:pre;overflow-x:auto;line-height:normal;font-family:Menlo,'DejaVu Sans Mono',consolas,'Courier New',monospace\"><span style=\"color: #7fbfbf; text-decoration-color: #7fbfbf\">           </span><span style=\"color: #000080; text-decoration-color: #000080\">INFO    </span> Evolution: order: <span style=\"font-weight: bold\">(</span><span style=\"color: #008080; text-decoration-color: #008080; font-weight: bold\">2</span>, <span style=\"color: #008080; text-decoration-color: #008080; font-weight: bold\">0</span><span style=\"font-weight: bold\">)</span>, solution strategy: iterate-exact, use fhmruvv: <span style=\"color: #ff0000; text-decoration-color: #ff0000; font-style: italic\">False</span>  <a href=\"file:///Users/giacomomagni/.conda/envs/yad_dev/lib/python3.10/site-packages/eko/evolution_operator/__init__.py\" target=\"_blank\"><span style=\"color: #7f7f7f; text-decoration-color: #7f7f7f\">__init__.py</span></a><span style=\"color: #7f7f7f; text-decoration-color: #7f7f7f\">:</span><a href=\"file:///Users/giacomomagni/.conda/envs/yad_dev/lib/python3.10/site-packages/eko/evolution_operator/__init__.py#946\" target=\"_blank\"><span style=\"color: #7f7f7f; text-decoration-color: #7f7f7f\">946</span></a>\n",
       "</pre>\n"
      ],
      "text/plain": [
       "\u001b[2;36m          \u001b[0m\u001b[2;36m \u001b[0m\u001b[34mINFO    \u001b[0m Evolution: order: \u001b[1m(\u001b[0m\u001b[1;36m2\u001b[0m, \u001b[1;36m0\u001b[0m\u001b[1m)\u001b[0m, solution strategy: iterate-exact, use fhmruvv: \u001b[3;91mFalse\u001b[0m  \u001b]8;id=473372;file:///Users/giacomomagni/.conda/envs/yad_dev/lib/python3.10/site-packages/eko/evolution_operator/__init__.py\u001b\\\u001b[2m__init__.py\u001b[0m\u001b]8;;\u001b\\\u001b[2m:\u001b[0m\u001b]8;id=154089;file:///Users/giacomomagni/.conda/envs/yad_dev/lib/python3.10/site-packages/eko/evolution_operator/__init__.py#946\u001b\\\u001b[2m946\u001b[0m\u001b]8;;\u001b\\\n"
      ]
     },
     "metadata": {},
     "output_type": "display_data"
    },
    {
     "data": {
      "text/html": [
       "<pre style=\"white-space:pre;overflow-x:auto;line-height:normal;font-family:Menlo,'DejaVu Sans Mono',consolas,'Courier New',monospace\"><span style=\"color: #7fbfbf; text-decoration-color: #7fbfbf\">[15:30:47] </span><span style=\"color: #000080; text-decoration-color: #000080\">INFO    </span> Evolution: Total time <span style=\"color: #008080; text-decoration-color: #008080; font-weight: bold\">7.896101</span> s                                                <a href=\"file:///Users/giacomomagni/.conda/envs/yad_dev/lib/python3.10/site-packages/eko/evolution_operator/__init__.py\" target=\"_blank\"><span style=\"color: #7f7f7f; text-decoration-color: #7f7f7f\">__init__.py</span></a><span style=\"color: #7f7f7f; text-decoration-color: #7f7f7f\">:</span><a href=\"file:///Users/giacomomagni/.conda/envs/yad_dev/lib/python3.10/site-packages/eko/evolution_operator/__init__.py#982\" target=\"_blank\"><span style=\"color: #7f7f7f; text-decoration-color: #7f7f7f\">982</span></a>\n",
       "</pre>\n"
      ],
      "text/plain": [
       "\u001b[2;36m[15:30:47]\u001b[0m\u001b[2;36m \u001b[0m\u001b[34mINFO    \u001b[0m Evolution: Total time \u001b[1;36m7.896101\u001b[0m s                                                \u001b]8;id=924434;file:///Users/giacomomagni/.conda/envs/yad_dev/lib/python3.10/site-packages/eko/evolution_operator/__init__.py\u001b\\\u001b[2m__init__.py\u001b[0m\u001b]8;;\u001b\\\u001b[2m:\u001b[0m\u001b]8;id=989308;file:///Users/giacomomagni/.conda/envs/yad_dev/lib/python3.10/site-packages/eko/evolution_operator/__init__.py#982\u001b\\\u001b[2m982\u001b[0m\u001b]8;;\u001b\\\n"
      ]
     },
     "metadata": {},
     "output_type": "display_data"
    },
    {
     "data": {
      "text/html": [
       "<pre style=\"white-space:pre;overflow-x:auto;line-height:normal;font-family:Menlo,'DejaVu Sans Mono',consolas,'Courier New',monospace\"><span style=\"color: #7fbfbf; text-decoration-color: #7fbfbf\">           </span><span style=\"color: #000080; text-decoration-color: #000080\">INFO    </span> Evolution: computing operators <span style=\"color: #008080; text-decoration-color: #008080; font-weight: bold\">2.280100e+00</span> -&gt; <span style=\"color: #008080; text-decoration-color: #008080; font-weight: bold\">4.000000e+02</span>, <span style=\"color: #808000; text-decoration-color: #808000\">nf</span>=<span style=\"color: #008080; text-decoration-color: #008080; font-weight: bold\">3</span>               <a href=\"file:///Users/giacomomagni/.conda/envs/yad_dev/lib/python3.10/site-packages/eko/evolution_operator/__init__.py\" target=\"_blank\"><span style=\"color: #7f7f7f; text-decoration-color: #7f7f7f\">__init__.py</span></a><span style=\"color: #7f7f7f; text-decoration-color: #7f7f7f\">:</span><a href=\"file:///Users/giacomomagni/.conda/envs/yad_dev/lib/python3.10/site-packages/eko/evolution_operator/__init__.py#917\" target=\"_blank\"><span style=\"color: #7f7f7f; text-decoration-color: #7f7f7f\">917</span></a>\n",
       "</pre>\n"
      ],
      "text/plain": [
       "\u001b[2;36m          \u001b[0m\u001b[2;36m \u001b[0m\u001b[34mINFO    \u001b[0m Evolution: computing operators \u001b[1;36m2.280100e+00\u001b[0m -> \u001b[1;36m4.000000e+02\u001b[0m, \u001b[33mnf\u001b[0m=\u001b[1;36m3\u001b[0m               \u001b]8;id=456112;file:///Users/giacomomagni/.conda/envs/yad_dev/lib/python3.10/site-packages/eko/evolution_operator/__init__.py\u001b\\\u001b[2m__init__.py\u001b[0m\u001b]8;;\u001b\\\u001b[2m:\u001b[0m\u001b]8;id=381029;file:///Users/giacomomagni/.conda/envs/yad_dev/lib/python3.10/site-packages/eko/evolution_operator/__init__.py#917\u001b\\\u001b[2m917\u001b[0m\u001b]8;;\u001b\\\n"
      ]
     },
     "metadata": {},
     "output_type": "display_data"
    },
    {
     "data": {
      "text/html": [
       "<pre style=\"white-space:pre;overflow-x:auto;line-height:normal;font-family:Menlo,'DejaVu Sans Mono',consolas,'Courier New',monospace\"><span style=\"color: #7fbfbf; text-decoration-color: #7fbfbf\">           </span><span style=\"color: #000080; text-decoration-color: #000080\">INFO    </span> Evolution: µ_R^<span style=\"color: #008080; text-decoration-color: #008080; font-weight: bold\">2</span> distance: <span style=\"color: #008080; text-decoration-color: #008080; font-weight: bold\">2.280100e+00</span> -&gt; <span style=\"color: #008080; text-decoration-color: #008080; font-weight: bold\">4.000000e+02</span>                         <a href=\"file:///Users/giacomomagni/.conda/envs/yad_dev/lib/python3.10/site-packages/eko/evolution_operator/__init__.py\" target=\"_blank\"><span style=\"color: #7f7f7f; text-decoration-color: #7f7f7f\">__init__.py</span></a><span style=\"color: #7f7f7f; text-decoration-color: #7f7f7f\">:</span><a href=\"file:///Users/giacomomagni/.conda/envs/yad_dev/lib/python3.10/site-packages/eko/evolution_operator/__init__.py#924\" target=\"_blank\"><span style=\"color: #7f7f7f; text-decoration-color: #7f7f7f\">924</span></a>\n",
       "</pre>\n"
      ],
      "text/plain": [
       "\u001b[2;36m          \u001b[0m\u001b[2;36m \u001b[0m\u001b[34mINFO    \u001b[0m Evolution: µ_R^\u001b[1;36m2\u001b[0m distance: \u001b[1;36m2.280100e+00\u001b[0m -> \u001b[1;36m4.000000e+02\u001b[0m                         \u001b]8;id=19975;file:///Users/giacomomagni/.conda/envs/yad_dev/lib/python3.10/site-packages/eko/evolution_operator/__init__.py\u001b\\\u001b[2m__init__.py\u001b[0m\u001b]8;;\u001b\\\u001b[2m:\u001b[0m\u001b]8;id=868422;file:///Users/giacomomagni/.conda/envs/yad_dev/lib/python3.10/site-packages/eko/evolution_operator/__init__.py#924\u001b\\\u001b[2m924\u001b[0m\u001b]8;;\u001b\\\n"
      ]
     },
     "metadata": {},
     "output_type": "display_data"
    },
    {
     "data": {
      "text/html": [
       "<pre style=\"white-space:pre;overflow-x:auto;line-height:normal;font-family:Menlo,'DejaVu Sans Mono',consolas,'Courier New',monospace\"><span style=\"color: #7fbfbf; text-decoration-color: #7fbfbf\">           </span><span style=\"color: #000080; text-decoration-color: #000080\">INFO    </span> Evolution: a_s distance: <span style=\"color: #008080; text-decoration-color: #008080; font-weight: bold\">2.728162e-02</span> -&gt; <span style=\"color: #008080; text-decoration-color: #008080; font-weight: bold\">1.126961e-02</span>                           <a href=\"file:///Users/giacomomagni/.conda/envs/yad_dev/lib/python3.10/site-packages/eko/evolution_operator/__init__.py\" target=\"_blank\"><span style=\"color: #7f7f7f; text-decoration-color: #7f7f7f\">__init__.py</span></a><span style=\"color: #7f7f7f; text-decoration-color: #7f7f7f\">:</span><a href=\"file:///Users/giacomomagni/.conda/envs/yad_dev/lib/python3.10/site-packages/eko/evolution_operator/__init__.py#936\" target=\"_blank\"><span style=\"color: #7f7f7f; text-decoration-color: #7f7f7f\">936</span></a>\n",
       "</pre>\n"
      ],
      "text/plain": [
       "\u001b[2;36m          \u001b[0m\u001b[2;36m \u001b[0m\u001b[34mINFO    \u001b[0m Evolution: a_s distance: \u001b[1;36m2.728162e-02\u001b[0m -> \u001b[1;36m1.126961e-02\u001b[0m                           \u001b]8;id=710609;file:///Users/giacomomagni/.conda/envs/yad_dev/lib/python3.10/site-packages/eko/evolution_operator/__init__.py\u001b\\\u001b[2m__init__.py\u001b[0m\u001b]8;;\u001b\\\u001b[2m:\u001b[0m\u001b]8;id=694948;file:///Users/giacomomagni/.conda/envs/yad_dev/lib/python3.10/site-packages/eko/evolution_operator/__init__.py#936\u001b\\\u001b[2m936\u001b[0m\u001b]8;;\u001b\\\n"
      ]
     },
     "metadata": {},
     "output_type": "display_data"
    },
    {
     "data": {
      "text/html": [
       "<pre style=\"white-space:pre;overflow-x:auto;line-height:normal;font-family:Menlo,'DejaVu Sans Mono',consolas,'Courier New',monospace\"><span style=\"color: #7fbfbf; text-decoration-color: #7fbfbf\">           </span><span style=\"color: #000080; text-decoration-color: #000080\">INFO    </span> Evolution: order: <span style=\"font-weight: bold\">(</span><span style=\"color: #008080; text-decoration-color: #008080; font-weight: bold\">2</span>, <span style=\"color: #008080; text-decoration-color: #008080; font-weight: bold\">0</span><span style=\"font-weight: bold\">)</span>, solution strategy: iterate-exact, use fhmruvv: <span style=\"color: #ff0000; text-decoration-color: #ff0000; font-style: italic\">False</span>  <a href=\"file:///Users/giacomomagni/.conda/envs/yad_dev/lib/python3.10/site-packages/eko/evolution_operator/__init__.py\" target=\"_blank\"><span style=\"color: #7f7f7f; text-decoration-color: #7f7f7f\">__init__.py</span></a><span style=\"color: #7f7f7f; text-decoration-color: #7f7f7f\">:</span><a href=\"file:///Users/giacomomagni/.conda/envs/yad_dev/lib/python3.10/site-packages/eko/evolution_operator/__init__.py#946\" target=\"_blank\"><span style=\"color: #7f7f7f; text-decoration-color: #7f7f7f\">946</span></a>\n",
       "</pre>\n"
      ],
      "text/plain": [
       "\u001b[2;36m          \u001b[0m\u001b[2;36m \u001b[0m\u001b[34mINFO    \u001b[0m Evolution: order: \u001b[1m(\u001b[0m\u001b[1;36m2\u001b[0m, \u001b[1;36m0\u001b[0m\u001b[1m)\u001b[0m, solution strategy: iterate-exact, use fhmruvv: \u001b[3;91mFalse\u001b[0m  \u001b]8;id=324603;file:///Users/giacomomagni/.conda/envs/yad_dev/lib/python3.10/site-packages/eko/evolution_operator/__init__.py\u001b\\\u001b[2m__init__.py\u001b[0m\u001b]8;;\u001b\\\u001b[2m:\u001b[0m\u001b]8;id=70473;file:///Users/giacomomagni/.conda/envs/yad_dev/lib/python3.10/site-packages/eko/evolution_operator/__init__.py#946\u001b\\\u001b[2m946\u001b[0m\u001b]8;;\u001b\\\n"
      ]
     },
     "metadata": {},
     "output_type": "display_data"
    },
    {
     "data": {
      "text/html": [
       "<pre style=\"white-space:pre;overflow-x:auto;line-height:normal;font-family:Menlo,'DejaVu Sans Mono',consolas,'Courier New',monospace\"><span style=\"color: #7fbfbf; text-decoration-color: #7fbfbf\">[15:30:55] </span><span style=\"color: #000080; text-decoration-color: #000080\">INFO    </span> Evolution: Total time <span style=\"color: #008080; text-decoration-color: #008080; font-weight: bold\">7.954777</span> s                                                <a href=\"file:///Users/giacomomagni/.conda/envs/yad_dev/lib/python3.10/site-packages/eko/evolution_operator/__init__.py\" target=\"_blank\"><span style=\"color: #7f7f7f; text-decoration-color: #7f7f7f\">__init__.py</span></a><span style=\"color: #7f7f7f; text-decoration-color: #7f7f7f\">:</span><a href=\"file:///Users/giacomomagni/.conda/envs/yad_dev/lib/python3.10/site-packages/eko/evolution_operator/__init__.py#982\" target=\"_blank\"><span style=\"color: #7f7f7f; text-decoration-color: #7f7f7f\">982</span></a>\n",
       "</pre>\n"
      ],
      "text/plain": [
       "\u001b[2;36m[15:30:55]\u001b[0m\u001b[2;36m \u001b[0m\u001b[34mINFO    \u001b[0m Evolution: Total time \u001b[1;36m7.954777\u001b[0m s                                                \u001b]8;id=438128;file:///Users/giacomomagni/.conda/envs/yad_dev/lib/python3.10/site-packages/eko/evolution_operator/__init__.py\u001b\\\u001b[2m__init__.py\u001b[0m\u001b]8;;\u001b\\\u001b[2m:\u001b[0m\u001b]8;id=730180;file:///Users/giacomomagni/.conda/envs/yad_dev/lib/python3.10/site-packages/eko/evolution_operator/__init__.py#982\u001b\\\u001b[2m982\u001b[0m\u001b]8;;\u001b\\\n"
      ]
     },
     "metadata": {},
     "output_type": "display_data"
    },
    {
     "data": {
      "text/html": [
       "<pre style=\"white-space:pre;overflow-x:auto;line-height:normal;font-family:Menlo,'DejaVu Sans Mono',consolas,'Courier New',monospace\"><span style=\"color: #7fbfbf; text-decoration-color: #7fbfbf\">[15:30:56] </span><span style=\"color: #000080; text-decoration-color: #000080\">INFO    </span> Atlas <span style=\"font-weight: bold\">[</span><span style=\"color: #008080; text-decoration-color: #008080; font-weight: bold\">0.00e+00</span> - <span style=\"color: #008080; text-decoration-color: #008080; font-weight: bold\">2.28e+00</span> - <span style=\"color: #008080; text-decoration-color: #008080; font-weight: bold\">2.42e+01</span> - <span style=\"color: #008080; text-decoration-color: #008080; font-weight: bold\">2.98e+04</span> - inf<span style=\"font-weight: bold\">]</span>, <span style=\"color: #808000; text-decoration-color: #808000\">ref</span>=<span style=\"color: #008080; text-decoration-color: #008080; font-weight: bold\">8317.44</span> @ <span style=\"color: #008080; text-decoration-color: #008080; font-weight: bold\">5</span>        <a href=\"file:///Users/giacomomagni/.conda/envs/yad_dev/lib/python3.10/site-packages/eko/matchings.py\" target=\"_blank\"><span style=\"color: #7f7f7f; text-decoration-color: #7f7f7f\">matchings.py</span></a><span style=\"color: #7f7f7f; text-decoration-color: #7f7f7f\">:</span><a href=\"file:///Users/giacomomagni/.conda/envs/yad_dev/lib/python3.10/site-packages/eko/matchings.py#72\" target=\"_blank\"><span style=\"color: #7f7f7f; text-decoration-color: #7f7f7f\">72</span></a>\n",
       "</pre>\n"
      ],
      "text/plain": [
       "\u001b[2;36m[15:30:56]\u001b[0m\u001b[2;36m \u001b[0m\u001b[34mINFO    \u001b[0m Atlas \u001b[1m[\u001b[0m\u001b[1;36m0.00e+00\u001b[0m - \u001b[1;36m2.28e+00\u001b[0m - \u001b[1;36m2.42e+01\u001b[0m - \u001b[1;36m2.98e+04\u001b[0m - inf\u001b[1m]\u001b[0m, \u001b[33mref\u001b[0m=\u001b[1;36m8317\u001b[0m\u001b[1;36m.44\u001b[0m @ \u001b[1;36m5\u001b[0m        \u001b]8;id=598368;file:///Users/giacomomagni/.conda/envs/yad_dev/lib/python3.10/site-packages/eko/matchings.py\u001b\\\u001b[2mmatchings.py\u001b[0m\u001b]8;;\u001b\\\u001b[2m:\u001b[0m\u001b]8;id=893727;file:///Users/giacomomagni/.conda/envs/yad_dev/lib/python3.10/site-packages/eko/matchings.py#72\u001b\\\u001b[2m72\u001b[0m\u001b]8;;\u001b\\\n"
      ]
     },
     "metadata": {},
     "output_type": "display_data"
    },
    {
     "data": {
      "text/html": [
       "<pre style=\"white-space:pre;overflow-x:auto;line-height:normal;font-family:Menlo,'DejaVu Sans Mono',consolas,'Courier New',monospace\"><span style=\"color: #7fbfbf; text-decoration-color: #7fbfbf\">           </span><span style=\"color: #000080; text-decoration-color: #000080\">INFO    </span> Strong Coupling: <span style=\"color: #800080; text-decoration-color: #800080; font-weight: bold\">a_s</span><span style=\"font-weight: bold\">(</span>µ_R^<span style=\"color: #008080; text-decoration-color: #008080; font-weight: bold\">2</span>=<span style=\"color: #008080; text-decoration-color: #008080; font-weight: bold\">8317.440000</span><span style=\"font-weight: bold\">)</span>^<span style=\"font-weight: bold\">(</span><span style=\"color: #808000; text-decoration-color: #808000\">nf</span>=<span style=\"color: #008080; text-decoration-color: #008080; font-weight: bold\">5</span><span style=\"font-weight: bold\">)</span>=<span style=\"color: #008080; text-decoration-color: #008080; font-weight: bold\">0.009390</span>=<span style=\"color: #008080; text-decoration-color: #008080; font-weight: bold\">0.118000</span>/<span style=\"font-weight: bold\">(</span>4π<span style=\"font-weight: bold\">)</span>          <a href=\"file:///Users/giacomomagni/.conda/envs/yad_dev/lib/python3.10/site-packages/eko/couplings.py\" target=\"_blank\"><span style=\"color: #7f7f7f; text-decoration-color: #7f7f7f\">couplings.py</span></a><span style=\"color: #7f7f7f; text-decoration-color: #7f7f7f\">:</span><a href=\"file:///Users/giacomomagni/.conda/envs/yad_dev/lib/python3.10/site-packages/eko/couplings.py#464\" target=\"_blank\"><span style=\"color: #7f7f7f; text-decoration-color: #7f7f7f\">464</span></a>\n",
       "</pre>\n"
      ],
      "text/plain": [
       "\u001b[2;36m          \u001b[0m\u001b[2;36m \u001b[0m\u001b[34mINFO    \u001b[0m Strong Coupling: \u001b[1;35ma_s\u001b[0m\u001b[1m(\u001b[0mµ_R^\u001b[1;36m2\u001b[0m=\u001b[1;36m8317\u001b[0m\u001b[1;36m.440000\u001b[0m\u001b[1m)\u001b[0m^\u001b[1m(\u001b[0m\u001b[33mnf\u001b[0m=\u001b[1;36m5\u001b[0m\u001b[1m)\u001b[0m=\u001b[1;36m0.\u001b[0m\u001b[1;36m009390\u001b[0m=\u001b[1;36m0\u001b[0m\u001b[1;36m.118000\u001b[0m/\u001b[1m(\u001b[0m4π\u001b[1m)\u001b[0m          \u001b]8;id=736289;file:///Users/giacomomagni/.conda/envs/yad_dev/lib/python3.10/site-packages/eko/couplings.py\u001b\\\u001b[2mcouplings.py\u001b[0m\u001b]8;;\u001b\\\u001b[2m:\u001b[0m\u001b]8;id=443292;file:///Users/giacomomagni/.conda/envs/yad_dev/lib/python3.10/site-packages/eko/couplings.py#464\u001b\\\u001b[2m464\u001b[0m\u001b]8;;\u001b\\\n"
      ]
     },
     "metadata": {},
     "output_type": "display_data"
    },
    {
     "name": "stderr",
     "output_type": "stream",
     "text": [
      "Overwriting old PDF installation\n"
     ]
    },
    {
     "name": "stdout",
     "output_type": "stream",
     "text": [
      "install_pdf NNPDF40_evolved_nf3\n"
     ]
    },
    {
     "data": {
      "text/html": [
       "<pre style=\"white-space:pre;overflow-x:auto;line-height:normal;font-family:Menlo,'DejaVu Sans Mono',consolas,'Courier New',monospace\"><span style=\"color: #7fbfbf; text-decoration-color: #7fbfbf\">           </span><span style=\"color: #000080; text-decoration-color: #000080\">INFO    </span> Interpolation: number of points = <span style=\"color: #008080; text-decoration-color: #008080; font-weight: bold\">30</span>, polynomial degree = <span style=\"color: #008080; text-decoration-color: #008080; font-weight: bold\">4</span>, logarithmic = <a href=\"file:///Users/giacomomagni/.conda/envs/yad_dev/lib/python3.10/site-packages/eko/interpolation.py\" target=\"_blank\"><span style=\"color: #7f7f7f; text-decoration-color: #7f7f7f\">interpolation.py</span></a><span style=\"color: #7f7f7f; text-decoration-color: #7f7f7f\">:</span><a href=\"file:///Users/giacomomagni/.conda/envs/yad_dev/lib/python3.10/site-packages/eko/interpolation.py#538\" target=\"_blank\"><span style=\"color: #7f7f7f; text-decoration-color: #7f7f7f\">538</span></a>\n",
       "<span style=\"color: #7fbfbf; text-decoration-color: #7fbfbf\">           </span>         <span style=\"color: #00ff00; text-decoration-color: #00ff00; font-style: italic\">True</span>                                                                       <span style=\"color: #7f7f7f; text-decoration-color: #7f7f7f\">                    </span>\n",
       "</pre>\n"
      ],
      "text/plain": [
       "\u001b[2;36m          \u001b[0m\u001b[2;36m \u001b[0m\u001b[34mINFO    \u001b[0m Interpolation: number of points = \u001b[1;36m30\u001b[0m, polynomial degree = \u001b[1;36m4\u001b[0m, logarithmic = \u001b]8;id=750279;file:///Users/giacomomagni/.conda/envs/yad_dev/lib/python3.10/site-packages/eko/interpolation.py\u001b\\\u001b[2minterpolation.py\u001b[0m\u001b]8;;\u001b\\\u001b[2m:\u001b[0m\u001b]8;id=421019;file:///Users/giacomomagni/.conda/envs/yad_dev/lib/python3.10/site-packages/eko/interpolation.py#538\u001b\\\u001b[2m538\u001b[0m\u001b]8;;\u001b\\\n",
       "\u001b[2;36m           \u001b[0m         \u001b[3;92mTrue\u001b[0m                                                                       \u001b[2m                    \u001b[0m\n"
      ]
     },
     "metadata": {},
     "output_type": "display_data"
    },
    {
     "data": {
      "text/html": [
       "<pre style=\"white-space:pre;overflow-x:auto;line-height:normal;font-family:Menlo,'DejaVu Sans Mono',consolas,'Courier New',monospace\"><span style=\"color: #7fbfbf; text-decoration-color: #7fbfbf\">           </span><span style=\"color: #000080; text-decoration-color: #000080\">INFO    </span> Atlas <span style=\"font-weight: bold\">[</span><span style=\"color: #008080; text-decoration-color: #008080; font-weight: bold\">0.00e+00</span> - <span style=\"color: #008080; text-decoration-color: #008080; font-weight: bold\">2.28e+00</span> - <span style=\"color: #008080; text-decoration-color: #008080; font-weight: bold\">2.42e+01</span> - <span style=\"color: #008080; text-decoration-color: #008080; font-weight: bold\">2.98e+04</span> - inf<span style=\"font-weight: bold\">]</span>, <span style=\"color: #808000; text-decoration-color: #808000\">ref</span>=<span style=\"color: #008080; text-decoration-color: #008080; font-weight: bold\">2.7224999999999997</span> <a href=\"file:///Users/giacomomagni/.conda/envs/yad_dev/lib/python3.10/site-packages/eko/matchings.py\" target=\"_blank\"><span style=\"color: #7f7f7f; text-decoration-color: #7f7f7f\">matchings.py</span></a><span style=\"color: #7f7f7f; text-decoration-color: #7f7f7f\">:</span><a href=\"file:///Users/giacomomagni/.conda/envs/yad_dev/lib/python3.10/site-packages/eko/matchings.py#72\" target=\"_blank\"><span style=\"color: #7f7f7f; text-decoration-color: #7f7f7f\">72</span></a>\n",
       "<span style=\"color: #7fbfbf; text-decoration-color: #7fbfbf\">           </span>         @ <span style=\"color: #008080; text-decoration-color: #008080; font-weight: bold\">4</span>                                                                             <span style=\"color: #7f7f7f; text-decoration-color: #7f7f7f\">               </span>\n",
       "</pre>\n"
      ],
      "text/plain": [
       "\u001b[2;36m          \u001b[0m\u001b[2;36m \u001b[0m\u001b[34mINFO    \u001b[0m Atlas \u001b[1m[\u001b[0m\u001b[1;36m0.00e+00\u001b[0m - \u001b[1;36m2.28e+00\u001b[0m - \u001b[1;36m2.42e+01\u001b[0m - \u001b[1;36m2.98e+04\u001b[0m - inf\u001b[1m]\u001b[0m, \u001b[33mref\u001b[0m=\u001b[1;36m2\u001b[0m\u001b[1;36m.7224999999999997\u001b[0m \u001b]8;id=558383;file:///Users/giacomomagni/.conda/envs/yad_dev/lib/python3.10/site-packages/eko/matchings.py\u001b\\\u001b[2mmatchings.py\u001b[0m\u001b]8;;\u001b\\\u001b[2m:\u001b[0m\u001b]8;id=816080;file:///Users/giacomomagni/.conda/envs/yad_dev/lib/python3.10/site-packages/eko/matchings.py#72\u001b\\\u001b[2m72\u001b[0m\u001b]8;;\u001b\\\n",
       "\u001b[2;36m           \u001b[0m         @ \u001b[1;36m4\u001b[0m                                                                             \u001b[2m               \u001b[0m\n"
      ]
     },
     "metadata": {},
     "output_type": "display_data"
    },
    {
     "data": {
      "text/html": [
       "<pre style=\"white-space:pre;overflow-x:auto;line-height:normal;font-family:Menlo,'DejaVu Sans Mono',consolas,'Courier New',monospace\"><span style=\"color: #7fbfbf; text-decoration-color: #7fbfbf\">           </span><span style=\"color: #000080; text-decoration-color: #000080\">INFO    </span> Atlas <span style=\"font-weight: bold\">[</span><span style=\"color: #008080; text-decoration-color: #008080; font-weight: bold\">0.00e+00</span> - <span style=\"color: #008080; text-decoration-color: #008080; font-weight: bold\">2.28e+00</span> - <span style=\"color: #008080; text-decoration-color: #008080; font-weight: bold\">2.42e+01</span> - <span style=\"color: #008080; text-decoration-color: #008080; font-weight: bold\">2.98e+04</span> - inf<span style=\"font-weight: bold\">]</span>, <span style=\"color: #808000; text-decoration-color: #808000\">ref</span>=<span style=\"color: #008080; text-decoration-color: #008080; font-weight: bold\">8317.44</span> @ <span style=\"color: #008080; text-decoration-color: #008080; font-weight: bold\">5</span>        <a href=\"file:///Users/giacomomagni/.conda/envs/yad_dev/lib/python3.10/site-packages/eko/matchings.py\" target=\"_blank\"><span style=\"color: #7f7f7f; text-decoration-color: #7f7f7f\">matchings.py</span></a><span style=\"color: #7f7f7f; text-decoration-color: #7f7f7f\">:</span><a href=\"file:///Users/giacomomagni/.conda/envs/yad_dev/lib/python3.10/site-packages/eko/matchings.py#72\" target=\"_blank\"><span style=\"color: #7f7f7f; text-decoration-color: #7f7f7f\">72</span></a>\n",
       "</pre>\n"
      ],
      "text/plain": [
       "\u001b[2;36m          \u001b[0m\u001b[2;36m \u001b[0m\u001b[34mINFO    \u001b[0m Atlas \u001b[1m[\u001b[0m\u001b[1;36m0.00e+00\u001b[0m - \u001b[1;36m2.28e+00\u001b[0m - \u001b[1;36m2.42e+01\u001b[0m - \u001b[1;36m2.98e+04\u001b[0m - inf\u001b[1m]\u001b[0m, \u001b[33mref\u001b[0m=\u001b[1;36m8317\u001b[0m\u001b[1;36m.44\u001b[0m @ \u001b[1;36m5\u001b[0m        \u001b]8;id=129788;file:///Users/giacomomagni/.conda/envs/yad_dev/lib/python3.10/site-packages/eko/matchings.py\u001b\\\u001b[2mmatchings.py\u001b[0m\u001b]8;;\u001b\\\u001b[2m:\u001b[0m\u001b]8;id=474469;file:///Users/giacomomagni/.conda/envs/yad_dev/lib/python3.10/site-packages/eko/matchings.py#72\u001b\\\u001b[2m72\u001b[0m\u001b]8;;\u001b\\\n"
      ]
     },
     "metadata": {},
     "output_type": "display_data"
    },
    {
     "data": {
      "text/html": [
       "<pre style=\"white-space:pre;overflow-x:auto;line-height:normal;font-family:Menlo,'DejaVu Sans Mono',consolas,'Courier New',monospace\"><span style=\"color: #7fbfbf; text-decoration-color: #7fbfbf\">           </span><span style=\"color: #000080; text-decoration-color: #000080\">INFO    </span> Strong Coupling: <span style=\"color: #800080; text-decoration-color: #800080; font-weight: bold\">a_s</span><span style=\"font-weight: bold\">(</span>µ_R^<span style=\"color: #008080; text-decoration-color: #008080; font-weight: bold\">2</span>=<span style=\"color: #008080; text-decoration-color: #008080; font-weight: bold\">8317.440000</span><span style=\"font-weight: bold\">)</span>^<span style=\"font-weight: bold\">(</span><span style=\"color: #808000; text-decoration-color: #808000\">nf</span>=<span style=\"color: #008080; text-decoration-color: #008080; font-weight: bold\">5</span><span style=\"font-weight: bold\">)</span>=<span style=\"color: #008080; text-decoration-color: #008080; font-weight: bold\">0.009390</span>=<span style=\"color: #008080; text-decoration-color: #008080; font-weight: bold\">0.118000</span>/<span style=\"font-weight: bold\">(</span>4π<span style=\"font-weight: bold\">)</span>          <a href=\"file:///Users/giacomomagni/.conda/envs/yad_dev/lib/python3.10/site-packages/eko/couplings.py\" target=\"_blank\"><span style=\"color: #7f7f7f; text-decoration-color: #7f7f7f\">couplings.py</span></a><span style=\"color: #7f7f7f; text-decoration-color: #7f7f7f\">:</span><a href=\"file:///Users/giacomomagni/.conda/envs/yad_dev/lib/python3.10/site-packages/eko/couplings.py#464\" target=\"_blank\"><span style=\"color: #7f7f7f; text-decoration-color: #7f7f7f\">464</span></a>\n",
       "</pre>\n"
      ],
      "text/plain": [
       "\u001b[2;36m          \u001b[0m\u001b[2;36m \u001b[0m\u001b[34mINFO    \u001b[0m Strong Coupling: \u001b[1;35ma_s\u001b[0m\u001b[1m(\u001b[0mµ_R^\u001b[1;36m2\u001b[0m=\u001b[1;36m8317\u001b[0m\u001b[1;36m.440000\u001b[0m\u001b[1m)\u001b[0m^\u001b[1m(\u001b[0m\u001b[33mnf\u001b[0m=\u001b[1;36m5\u001b[0m\u001b[1m)\u001b[0m=\u001b[1;36m0.\u001b[0m\u001b[1;36m009390\u001b[0m=\u001b[1;36m0\u001b[0m\u001b[1;36m.118000\u001b[0m/\u001b[1m(\u001b[0m4π\u001b[1m)\u001b[0m          \u001b]8;id=53831;file:///Users/giacomomagni/.conda/envs/yad_dev/lib/python3.10/site-packages/eko/couplings.py\u001b\\\u001b[2mcouplings.py\u001b[0m\u001b]8;;\u001b\\\u001b[2m:\u001b[0m\u001b]8;id=992080;file:///Users/giacomomagni/.conda/envs/yad_dev/lib/python3.10/site-packages/eko/couplings.py#464\u001b\\\u001b[2m464\u001b[0m\u001b]8;;\u001b\\\n"
      ]
     },
     "metadata": {},
     "output_type": "display_data"
    },
    {
     "data": {
      "text/html": [
       "<pre style=\"white-space:pre;overflow-x:auto;line-height:normal;font-family:Menlo,'DejaVu Sans Mono',consolas,'Courier New',monospace\"><span style=\"color: #7fbfbf; text-decoration-color: #7fbfbf\">           </span><span style=\"color: #000080; text-decoration-color: #000080\">INFO    </span> <span style=\"font-weight: bold\">{</span><span style=\"color: #008000; text-decoration-color: #008000\">'polarized'</span>: <span style=\"color: #ff0000; text-decoration-color: #ff0000; font-style: italic\">False</span><span style=\"font-weight: bold\">}</span>                                                                 <a href=\"file:///Users/giacomomagni/.conda/envs/yad_dev/lib/python3.10/site-packages/eko/evolution_operator/grid.py\" target=\"_blank\"><span style=\"color: #7f7f7f; text-decoration-color: #7f7f7f\">grid.py</span></a><span style=\"color: #7f7f7f; text-decoration-color: #7f7f7f\">:</span><a href=\"file:///Users/giacomomagni/.conda/envs/yad_dev/lib/python3.10/site-packages/eko/evolution_operator/grid.py#93\" target=\"_blank\"><span style=\"color: #7f7f7f; text-decoration-color: #7f7f7f\">93</span></a>\n",
       "</pre>\n"
      ],
      "text/plain": [
       "\u001b[2;36m          \u001b[0m\u001b[2;36m \u001b[0m\u001b[34mINFO    \u001b[0m \u001b[1m{\u001b[0m\u001b[32m'polarized'\u001b[0m: \u001b[3;91mFalse\u001b[0m\u001b[1m}\u001b[0m                                                                 \u001b]8;id=27313;file:///Users/giacomomagni/.conda/envs/yad_dev/lib/python3.10/site-packages/eko/evolution_operator/grid.py\u001b\\\u001b[2mgrid.py\u001b[0m\u001b]8;;\u001b\\\u001b[2m:\u001b[0m\u001b]8;id=720120;file:///Users/giacomomagni/.conda/envs/yad_dev/lib/python3.10/site-packages/eko/evolution_operator/grid.py#93\u001b\\\u001b[2m93\u001b[0m\u001b]8;;\u001b\\\n"
      ]
     },
     "metadata": {},
     "output_type": "display_data"
    },
    {
     "data": {
      "text/html": [
       "<pre style=\"white-space:pre;overflow-x:auto;line-height:normal;font-family:Menlo,'DejaVu Sans Mono',consolas,'Courier New',monospace\"><span style=\"color: #7fbfbf; text-decoration-color: #7fbfbf\">           </span><span style=\"color: #000080; text-decoration-color: #000080\">INFO    </span> <span style=\"font-weight: bold\">{</span><span style=\"color: #008000; text-decoration-color: #008000\">'time_like'</span>: <span style=\"color: #ff0000; text-decoration-color: #ff0000; font-style: italic\">False</span><span style=\"font-weight: bold\">}</span>                                                                 <a href=\"file:///Users/giacomomagni/.conda/envs/yad_dev/lib/python3.10/site-packages/eko/evolution_operator/grid.py\" target=\"_blank\"><span style=\"color: #7f7f7f; text-decoration-color: #7f7f7f\">grid.py</span></a><span style=\"color: #7f7f7f; text-decoration-color: #7f7f7f\">:</span><a href=\"file:///Users/giacomomagni/.conda/envs/yad_dev/lib/python3.10/site-packages/eko/evolution_operator/grid.py#94\" target=\"_blank\"><span style=\"color: #7f7f7f; text-decoration-color: #7f7f7f\">94</span></a>\n",
       "</pre>\n"
      ],
      "text/plain": [
       "\u001b[2;36m          \u001b[0m\u001b[2;36m \u001b[0m\u001b[34mINFO    \u001b[0m \u001b[1m{\u001b[0m\u001b[32m'time_like'\u001b[0m: \u001b[3;91mFalse\u001b[0m\u001b[1m}\u001b[0m                                                                 \u001b]8;id=104622;file:///Users/giacomomagni/.conda/envs/yad_dev/lib/python3.10/site-packages/eko/evolution_operator/grid.py\u001b\\\u001b[2mgrid.py\u001b[0m\u001b]8;;\u001b\\\u001b[2m:\u001b[0m\u001b]8;id=202736;file:///Users/giacomomagni/.conda/envs/yad_dev/lib/python3.10/site-packages/eko/evolution_operator/grid.py#94\u001b\\\u001b[2m94\u001b[0m\u001b]8;;\u001b\\\n"
      ]
     },
     "metadata": {},
     "output_type": "display_data"
    },
    {
     "data": {
      "text/html": [
       "<pre style=\"white-space:pre;overflow-x:auto;line-height:normal;font-family:Menlo,'DejaVu Sans Mono',consolas,'Courier New',monospace\"><span style=\"color: #7fbfbf; text-decoration-color: #7fbfbf\">           </span><span style=\"color: #000080; text-decoration-color: #000080\">INFO    </span> Evolution: computing operators <span style=\"color: #008080; text-decoration-color: #008080; font-weight: bold\">2.722500e+00</span> -&gt; <span style=\"color: #008080; text-decoration-color: #008080; font-weight: bold\">1.000000e+02</span>, <span style=\"color: #808000; text-decoration-color: #808000\">nf</span>=<span style=\"color: #008080; text-decoration-color: #008080; font-weight: bold\">4</span>               <a href=\"file:///Users/giacomomagni/.conda/envs/yad_dev/lib/python3.10/site-packages/eko/evolution_operator/__init__.py\" target=\"_blank\"><span style=\"color: #7f7f7f; text-decoration-color: #7f7f7f\">__init__.py</span></a><span style=\"color: #7f7f7f; text-decoration-color: #7f7f7f\">:</span><a href=\"file:///Users/giacomomagni/.conda/envs/yad_dev/lib/python3.10/site-packages/eko/evolution_operator/__init__.py#917\" target=\"_blank\"><span style=\"color: #7f7f7f; text-decoration-color: #7f7f7f\">917</span></a>\n",
       "</pre>\n"
      ],
      "text/plain": [
       "\u001b[2;36m          \u001b[0m\u001b[2;36m \u001b[0m\u001b[34mINFO    \u001b[0m Evolution: computing operators \u001b[1;36m2.722500e+00\u001b[0m -> \u001b[1;36m1.000000e+02\u001b[0m, \u001b[33mnf\u001b[0m=\u001b[1;36m4\u001b[0m               \u001b]8;id=912934;file:///Users/giacomomagni/.conda/envs/yad_dev/lib/python3.10/site-packages/eko/evolution_operator/__init__.py\u001b\\\u001b[2m__init__.py\u001b[0m\u001b]8;;\u001b\\\u001b[2m:\u001b[0m\u001b]8;id=3804;file:///Users/giacomomagni/.conda/envs/yad_dev/lib/python3.10/site-packages/eko/evolution_operator/__init__.py#917\u001b\\\u001b[2m917\u001b[0m\u001b]8;;\u001b\\\n"
      ]
     },
     "metadata": {},
     "output_type": "display_data"
    },
    {
     "data": {
      "text/html": [
       "<pre style=\"white-space:pre;overflow-x:auto;line-height:normal;font-family:Menlo,'DejaVu Sans Mono',consolas,'Courier New',monospace\"><span style=\"color: #7fbfbf; text-decoration-color: #7fbfbf\">           </span><span style=\"color: #000080; text-decoration-color: #000080\">INFO    </span> Evolution: µ_R^<span style=\"color: #008080; text-decoration-color: #008080; font-weight: bold\">2</span> distance: <span style=\"color: #008080; text-decoration-color: #008080; font-weight: bold\">2.722500e+00</span> -&gt; <span style=\"color: #008080; text-decoration-color: #008080; font-weight: bold\">1.000000e+02</span>                         <a href=\"file:///Users/giacomomagni/.conda/envs/yad_dev/lib/python3.10/site-packages/eko/evolution_operator/__init__.py\" target=\"_blank\"><span style=\"color: #7f7f7f; text-decoration-color: #7f7f7f\">__init__.py</span></a><span style=\"color: #7f7f7f; text-decoration-color: #7f7f7f\">:</span><a href=\"file:///Users/giacomomagni/.conda/envs/yad_dev/lib/python3.10/site-packages/eko/evolution_operator/__init__.py#924\" target=\"_blank\"><span style=\"color: #7f7f7f; text-decoration-color: #7f7f7f\">924</span></a>\n",
       "</pre>\n"
      ],
      "text/plain": [
       "\u001b[2;36m          \u001b[0m\u001b[2;36m \u001b[0m\u001b[34mINFO    \u001b[0m Evolution: µ_R^\u001b[1;36m2\u001b[0m distance: \u001b[1;36m2.722500e+00\u001b[0m -> \u001b[1;36m1.000000e+02\u001b[0m                         \u001b]8;id=750091;file:///Users/giacomomagni/.conda/envs/yad_dev/lib/python3.10/site-packages/eko/evolution_operator/__init__.py\u001b\\\u001b[2m__init__.py\u001b[0m\u001b]8;;\u001b\\\u001b[2m:\u001b[0m\u001b]8;id=124404;file:///Users/giacomomagni/.conda/envs/yad_dev/lib/python3.10/site-packages/eko/evolution_operator/__init__.py#924\u001b\\\u001b[2m924\u001b[0m\u001b]8;;\u001b\\\n"
      ]
     },
     "metadata": {},
     "output_type": "display_data"
    },
    {
     "data": {
      "text/html": [
       "<pre style=\"white-space:pre;overflow-x:auto;line-height:normal;font-family:Menlo,'DejaVu Sans Mono',consolas,'Courier New',monospace\"><span style=\"color: #7fbfbf; text-decoration-color: #7fbfbf\">           </span><span style=\"color: #000080; text-decoration-color: #000080\">INFO    </span> Evolution: a_s distance: <span style=\"color: #008080; text-decoration-color: #008080; font-weight: bold\">2.605852e-02</span> -&gt; <span style=\"color: #008080; text-decoration-color: #008080; font-weight: bold\">1.391613e-02</span>                           <a href=\"file:///Users/giacomomagni/.conda/envs/yad_dev/lib/python3.10/site-packages/eko/evolution_operator/__init__.py\" target=\"_blank\"><span style=\"color: #7f7f7f; text-decoration-color: #7f7f7f\">__init__.py</span></a><span style=\"color: #7f7f7f; text-decoration-color: #7f7f7f\">:</span><a href=\"file:///Users/giacomomagni/.conda/envs/yad_dev/lib/python3.10/site-packages/eko/evolution_operator/__init__.py#936\" target=\"_blank\"><span style=\"color: #7f7f7f; text-decoration-color: #7f7f7f\">936</span></a>\n",
       "</pre>\n"
      ],
      "text/plain": [
       "\u001b[2;36m          \u001b[0m\u001b[2;36m \u001b[0m\u001b[34mINFO    \u001b[0m Evolution: a_s distance: \u001b[1;36m2.605852e-02\u001b[0m -> \u001b[1;36m1.391613e-02\u001b[0m                           \u001b]8;id=587266;file:///Users/giacomomagni/.conda/envs/yad_dev/lib/python3.10/site-packages/eko/evolution_operator/__init__.py\u001b\\\u001b[2m__init__.py\u001b[0m\u001b]8;;\u001b\\\u001b[2m:\u001b[0m\u001b]8;id=845346;file:///Users/giacomomagni/.conda/envs/yad_dev/lib/python3.10/site-packages/eko/evolution_operator/__init__.py#936\u001b\\\u001b[2m936\u001b[0m\u001b]8;;\u001b\\\n"
      ]
     },
     "metadata": {},
     "output_type": "display_data"
    },
    {
     "data": {
      "text/html": [
       "<pre style=\"white-space:pre;overflow-x:auto;line-height:normal;font-family:Menlo,'DejaVu Sans Mono',consolas,'Courier New',monospace\"><span style=\"color: #7fbfbf; text-decoration-color: #7fbfbf\">           </span><span style=\"color: #000080; text-decoration-color: #000080\">INFO    </span> Evolution: order: <span style=\"font-weight: bold\">(</span><span style=\"color: #008080; text-decoration-color: #008080; font-weight: bold\">2</span>, <span style=\"color: #008080; text-decoration-color: #008080; font-weight: bold\">0</span><span style=\"font-weight: bold\">)</span>, solution strategy: iterate-exact, use fhmruvv: <span style=\"color: #ff0000; text-decoration-color: #ff0000; font-style: italic\">False</span>  <a href=\"file:///Users/giacomomagni/.conda/envs/yad_dev/lib/python3.10/site-packages/eko/evolution_operator/__init__.py\" target=\"_blank\"><span style=\"color: #7f7f7f; text-decoration-color: #7f7f7f\">__init__.py</span></a><span style=\"color: #7f7f7f; text-decoration-color: #7f7f7f\">:</span><a href=\"file:///Users/giacomomagni/.conda/envs/yad_dev/lib/python3.10/site-packages/eko/evolution_operator/__init__.py#946\" target=\"_blank\"><span style=\"color: #7f7f7f; text-decoration-color: #7f7f7f\">946</span></a>\n",
       "</pre>\n"
      ],
      "text/plain": [
       "\u001b[2;36m          \u001b[0m\u001b[2;36m \u001b[0m\u001b[34mINFO    \u001b[0m Evolution: order: \u001b[1m(\u001b[0m\u001b[1;36m2\u001b[0m, \u001b[1;36m0\u001b[0m\u001b[1m)\u001b[0m, solution strategy: iterate-exact, use fhmruvv: \u001b[3;91mFalse\u001b[0m  \u001b]8;id=904356;file:///Users/giacomomagni/.conda/envs/yad_dev/lib/python3.10/site-packages/eko/evolution_operator/__init__.py\u001b\\\u001b[2m__init__.py\u001b[0m\u001b]8;;\u001b\\\u001b[2m:\u001b[0m\u001b]8;id=637642;file:///Users/giacomomagni/.conda/envs/yad_dev/lib/python3.10/site-packages/eko/evolution_operator/__init__.py#946\u001b\\\u001b[2m946\u001b[0m\u001b]8;;\u001b\\\n"
      ]
     },
     "metadata": {},
     "output_type": "display_data"
    },
    {
     "data": {
      "text/html": [
       "<pre style=\"white-space:pre;overflow-x:auto;line-height:normal;font-family:Menlo,'DejaVu Sans Mono',consolas,'Courier New',monospace\"><span style=\"color: #7fbfbf; text-decoration-color: #7fbfbf\">[15:31:04] </span><span style=\"color: #000080; text-decoration-color: #000080\">INFO    </span> Evolution: Total time <span style=\"color: #008080; text-decoration-color: #008080; font-weight: bold\">7.748763</span> s                                                <a href=\"file:///Users/giacomomagni/.conda/envs/yad_dev/lib/python3.10/site-packages/eko/evolution_operator/__init__.py\" target=\"_blank\"><span style=\"color: #7f7f7f; text-decoration-color: #7f7f7f\">__init__.py</span></a><span style=\"color: #7f7f7f; text-decoration-color: #7f7f7f\">:</span><a href=\"file:///Users/giacomomagni/.conda/envs/yad_dev/lib/python3.10/site-packages/eko/evolution_operator/__init__.py#982\" target=\"_blank\"><span style=\"color: #7f7f7f; text-decoration-color: #7f7f7f\">982</span></a>\n",
       "</pre>\n"
      ],
      "text/plain": [
       "\u001b[2;36m[15:31:04]\u001b[0m\u001b[2;36m \u001b[0m\u001b[34mINFO    \u001b[0m Evolution: Total time \u001b[1;36m7.748763\u001b[0m s                                                \u001b]8;id=145137;file:///Users/giacomomagni/.conda/envs/yad_dev/lib/python3.10/site-packages/eko/evolution_operator/__init__.py\u001b\\\u001b[2m__init__.py\u001b[0m\u001b]8;;\u001b\\\u001b[2m:\u001b[0m\u001b]8;id=580007;file:///Users/giacomomagni/.conda/envs/yad_dev/lib/python3.10/site-packages/eko/evolution_operator/__init__.py#982\u001b\\\u001b[2m982\u001b[0m\u001b]8;;\u001b\\\n"
      ]
     },
     "metadata": {},
     "output_type": "display_data"
    },
    {
     "data": {
      "text/html": [
       "<pre style=\"white-space:pre;overflow-x:auto;line-height:normal;font-family:Menlo,'DejaVu Sans Mono',consolas,'Courier New',monospace\"><span style=\"color: #7fbfbf; text-decoration-color: #7fbfbf\">           </span><span style=\"color: #000080; text-decoration-color: #000080\">INFO    </span> Evolution: computing operators <span style=\"color: #008080; text-decoration-color: #008080; font-weight: bold\">2.722500e+00</span> -&gt; <span style=\"color: #008080; text-decoration-color: #008080; font-weight: bold\">2.250000e+02</span>, <span style=\"color: #808000; text-decoration-color: #808000\">nf</span>=<span style=\"color: #008080; text-decoration-color: #008080; font-weight: bold\">4</span>               <a href=\"file:///Users/giacomomagni/.conda/envs/yad_dev/lib/python3.10/site-packages/eko/evolution_operator/__init__.py\" target=\"_blank\"><span style=\"color: #7f7f7f; text-decoration-color: #7f7f7f\">__init__.py</span></a><span style=\"color: #7f7f7f; text-decoration-color: #7f7f7f\">:</span><a href=\"file:///Users/giacomomagni/.conda/envs/yad_dev/lib/python3.10/site-packages/eko/evolution_operator/__init__.py#917\" target=\"_blank\"><span style=\"color: #7f7f7f; text-decoration-color: #7f7f7f\">917</span></a>\n",
       "</pre>\n"
      ],
      "text/plain": [
       "\u001b[2;36m          \u001b[0m\u001b[2;36m \u001b[0m\u001b[34mINFO    \u001b[0m Evolution: computing operators \u001b[1;36m2.722500e+00\u001b[0m -> \u001b[1;36m2.250000e+02\u001b[0m, \u001b[33mnf\u001b[0m=\u001b[1;36m4\u001b[0m               \u001b]8;id=215927;file:///Users/giacomomagni/.conda/envs/yad_dev/lib/python3.10/site-packages/eko/evolution_operator/__init__.py\u001b\\\u001b[2m__init__.py\u001b[0m\u001b]8;;\u001b\\\u001b[2m:\u001b[0m\u001b]8;id=862017;file:///Users/giacomomagni/.conda/envs/yad_dev/lib/python3.10/site-packages/eko/evolution_operator/__init__.py#917\u001b\\\u001b[2m917\u001b[0m\u001b]8;;\u001b\\\n"
      ]
     },
     "metadata": {},
     "output_type": "display_data"
    },
    {
     "data": {
      "text/html": [
       "<pre style=\"white-space:pre;overflow-x:auto;line-height:normal;font-family:Menlo,'DejaVu Sans Mono',consolas,'Courier New',monospace\"><span style=\"color: #7fbfbf; text-decoration-color: #7fbfbf\">           </span><span style=\"color: #000080; text-decoration-color: #000080\">INFO    </span> Evolution: µ_R^<span style=\"color: #008080; text-decoration-color: #008080; font-weight: bold\">2</span> distance: <span style=\"color: #008080; text-decoration-color: #008080; font-weight: bold\">2.722500e+00</span> -&gt; <span style=\"color: #008080; text-decoration-color: #008080; font-weight: bold\">2.250000e+02</span>                         <a href=\"file:///Users/giacomomagni/.conda/envs/yad_dev/lib/python3.10/site-packages/eko/evolution_operator/__init__.py\" target=\"_blank\"><span style=\"color: #7f7f7f; text-decoration-color: #7f7f7f\">__init__.py</span></a><span style=\"color: #7f7f7f; text-decoration-color: #7f7f7f\">:</span><a href=\"file:///Users/giacomomagni/.conda/envs/yad_dev/lib/python3.10/site-packages/eko/evolution_operator/__init__.py#924\" target=\"_blank\"><span style=\"color: #7f7f7f; text-decoration-color: #7f7f7f\">924</span></a>\n",
       "</pre>\n"
      ],
      "text/plain": [
       "\u001b[2;36m          \u001b[0m\u001b[2;36m \u001b[0m\u001b[34mINFO    \u001b[0m Evolution: µ_R^\u001b[1;36m2\u001b[0m distance: \u001b[1;36m2.722500e+00\u001b[0m -> \u001b[1;36m2.250000e+02\u001b[0m                         \u001b]8;id=485251;file:///Users/giacomomagni/.conda/envs/yad_dev/lib/python3.10/site-packages/eko/evolution_operator/__init__.py\u001b\\\u001b[2m__init__.py\u001b[0m\u001b]8;;\u001b\\\u001b[2m:\u001b[0m\u001b]8;id=998331;file:///Users/giacomomagni/.conda/envs/yad_dev/lib/python3.10/site-packages/eko/evolution_operator/__init__.py#924\u001b\\\u001b[2m924\u001b[0m\u001b]8;;\u001b\\\n"
      ]
     },
     "metadata": {},
     "output_type": "display_data"
    },
    {
     "data": {
      "text/html": [
       "<pre style=\"white-space:pre;overflow-x:auto;line-height:normal;font-family:Menlo,'DejaVu Sans Mono',consolas,'Courier New',monospace\"><span style=\"color: #7fbfbf; text-decoration-color: #7fbfbf\">           </span><span style=\"color: #000080; text-decoration-color: #000080\">INFO    </span> Evolution: a_s distance: <span style=\"color: #008080; text-decoration-color: #008080; font-weight: bold\">2.605852e-02</span> -&gt; <span style=\"color: #008080; text-decoration-color: #008080; font-weight: bold\">1.263129e-02</span>                           <a href=\"file:///Users/giacomomagni/.conda/envs/yad_dev/lib/python3.10/site-packages/eko/evolution_operator/__init__.py\" target=\"_blank\"><span style=\"color: #7f7f7f; text-decoration-color: #7f7f7f\">__init__.py</span></a><span style=\"color: #7f7f7f; text-decoration-color: #7f7f7f\">:</span><a href=\"file:///Users/giacomomagni/.conda/envs/yad_dev/lib/python3.10/site-packages/eko/evolution_operator/__init__.py#936\" target=\"_blank\"><span style=\"color: #7f7f7f; text-decoration-color: #7f7f7f\">936</span></a>\n",
       "</pre>\n"
      ],
      "text/plain": [
       "\u001b[2;36m          \u001b[0m\u001b[2;36m \u001b[0m\u001b[34mINFO    \u001b[0m Evolution: a_s distance: \u001b[1;36m2.605852e-02\u001b[0m -> \u001b[1;36m1.263129e-02\u001b[0m                           \u001b]8;id=575939;file:///Users/giacomomagni/.conda/envs/yad_dev/lib/python3.10/site-packages/eko/evolution_operator/__init__.py\u001b\\\u001b[2m__init__.py\u001b[0m\u001b]8;;\u001b\\\u001b[2m:\u001b[0m\u001b]8;id=146673;file:///Users/giacomomagni/.conda/envs/yad_dev/lib/python3.10/site-packages/eko/evolution_operator/__init__.py#936\u001b\\\u001b[2m936\u001b[0m\u001b]8;;\u001b\\\n"
      ]
     },
     "metadata": {},
     "output_type": "display_data"
    },
    {
     "data": {
      "text/html": [
       "<pre style=\"white-space:pre;overflow-x:auto;line-height:normal;font-family:Menlo,'DejaVu Sans Mono',consolas,'Courier New',monospace\"><span style=\"color: #7fbfbf; text-decoration-color: #7fbfbf\">           </span><span style=\"color: #000080; text-decoration-color: #000080\">INFO    </span> Evolution: order: <span style=\"font-weight: bold\">(</span><span style=\"color: #008080; text-decoration-color: #008080; font-weight: bold\">2</span>, <span style=\"color: #008080; text-decoration-color: #008080; font-weight: bold\">0</span><span style=\"font-weight: bold\">)</span>, solution strategy: iterate-exact, use fhmruvv: <span style=\"color: #ff0000; text-decoration-color: #ff0000; font-style: italic\">False</span>  <a href=\"file:///Users/giacomomagni/.conda/envs/yad_dev/lib/python3.10/site-packages/eko/evolution_operator/__init__.py\" target=\"_blank\"><span style=\"color: #7f7f7f; text-decoration-color: #7f7f7f\">__init__.py</span></a><span style=\"color: #7f7f7f; text-decoration-color: #7f7f7f\">:</span><a href=\"file:///Users/giacomomagni/.conda/envs/yad_dev/lib/python3.10/site-packages/eko/evolution_operator/__init__.py#946\" target=\"_blank\"><span style=\"color: #7f7f7f; text-decoration-color: #7f7f7f\">946</span></a>\n",
       "</pre>\n"
      ],
      "text/plain": [
       "\u001b[2;36m          \u001b[0m\u001b[2;36m \u001b[0m\u001b[34mINFO    \u001b[0m Evolution: order: \u001b[1m(\u001b[0m\u001b[1;36m2\u001b[0m, \u001b[1;36m0\u001b[0m\u001b[1m)\u001b[0m, solution strategy: iterate-exact, use fhmruvv: \u001b[3;91mFalse\u001b[0m  \u001b]8;id=482019;file:///Users/giacomomagni/.conda/envs/yad_dev/lib/python3.10/site-packages/eko/evolution_operator/__init__.py\u001b\\\u001b[2m__init__.py\u001b[0m\u001b]8;;\u001b\\\u001b[2m:\u001b[0m\u001b]8;id=40259;file:///Users/giacomomagni/.conda/envs/yad_dev/lib/python3.10/site-packages/eko/evolution_operator/__init__.py#946\u001b\\\u001b[2m946\u001b[0m\u001b]8;;\u001b\\\n"
      ]
     },
     "metadata": {},
     "output_type": "display_data"
    },
    {
     "data": {
      "text/html": [
       "<pre style=\"white-space:pre;overflow-x:auto;line-height:normal;font-family:Menlo,'DejaVu Sans Mono',consolas,'Courier New',monospace\"><span style=\"color: #7fbfbf; text-decoration-color: #7fbfbf\">[15:31:12] </span><span style=\"color: #000080; text-decoration-color: #000080\">INFO    </span> Evolution: Total time <span style=\"color: #008080; text-decoration-color: #008080; font-weight: bold\">7.965763</span> s                                                <a href=\"file:///Users/giacomomagni/.conda/envs/yad_dev/lib/python3.10/site-packages/eko/evolution_operator/__init__.py\" target=\"_blank\"><span style=\"color: #7f7f7f; text-decoration-color: #7f7f7f\">__init__.py</span></a><span style=\"color: #7f7f7f; text-decoration-color: #7f7f7f\">:</span><a href=\"file:///Users/giacomomagni/.conda/envs/yad_dev/lib/python3.10/site-packages/eko/evolution_operator/__init__.py#982\" target=\"_blank\"><span style=\"color: #7f7f7f; text-decoration-color: #7f7f7f\">982</span></a>\n",
       "</pre>\n"
      ],
      "text/plain": [
       "\u001b[2;36m[15:31:12]\u001b[0m\u001b[2;36m \u001b[0m\u001b[34mINFO    \u001b[0m Evolution: Total time \u001b[1;36m7.965763\u001b[0m s                                                \u001b]8;id=386664;file:///Users/giacomomagni/.conda/envs/yad_dev/lib/python3.10/site-packages/eko/evolution_operator/__init__.py\u001b\\\u001b[2m__init__.py\u001b[0m\u001b]8;;\u001b\\\u001b[2m:\u001b[0m\u001b]8;id=438774;file:///Users/giacomomagni/.conda/envs/yad_dev/lib/python3.10/site-packages/eko/evolution_operator/__init__.py#982\u001b\\\u001b[2m982\u001b[0m\u001b]8;;\u001b\\\n"
      ]
     },
     "metadata": {},
     "output_type": "display_data"
    },
    {
     "data": {
      "text/html": [
       "<pre style=\"white-space:pre;overflow-x:auto;line-height:normal;font-family:Menlo,'DejaVu Sans Mono',consolas,'Courier New',monospace\"><span style=\"color: #7fbfbf; text-decoration-color: #7fbfbf\">           </span><span style=\"color: #000080; text-decoration-color: #000080\">INFO    </span> Evolution: computing operators <span style=\"color: #008080; text-decoration-color: #008080; font-weight: bold\">2.722500e+00</span> -&gt; <span style=\"color: #008080; text-decoration-color: #008080; font-weight: bold\">4.000000e+02</span>, <span style=\"color: #808000; text-decoration-color: #808000\">nf</span>=<span style=\"color: #008080; text-decoration-color: #008080; font-weight: bold\">4</span>               <a href=\"file:///Users/giacomomagni/.conda/envs/yad_dev/lib/python3.10/site-packages/eko/evolution_operator/__init__.py\" target=\"_blank\"><span style=\"color: #7f7f7f; text-decoration-color: #7f7f7f\">__init__.py</span></a><span style=\"color: #7f7f7f; text-decoration-color: #7f7f7f\">:</span><a href=\"file:///Users/giacomomagni/.conda/envs/yad_dev/lib/python3.10/site-packages/eko/evolution_operator/__init__.py#917\" target=\"_blank\"><span style=\"color: #7f7f7f; text-decoration-color: #7f7f7f\">917</span></a>\n",
       "</pre>\n"
      ],
      "text/plain": [
       "\u001b[2;36m          \u001b[0m\u001b[2;36m \u001b[0m\u001b[34mINFO    \u001b[0m Evolution: computing operators \u001b[1;36m2.722500e+00\u001b[0m -> \u001b[1;36m4.000000e+02\u001b[0m, \u001b[33mnf\u001b[0m=\u001b[1;36m4\u001b[0m               \u001b]8;id=216161;file:///Users/giacomomagni/.conda/envs/yad_dev/lib/python3.10/site-packages/eko/evolution_operator/__init__.py\u001b\\\u001b[2m__init__.py\u001b[0m\u001b]8;;\u001b\\\u001b[2m:\u001b[0m\u001b]8;id=750604;file:///Users/giacomomagni/.conda/envs/yad_dev/lib/python3.10/site-packages/eko/evolution_operator/__init__.py#917\u001b\\\u001b[2m917\u001b[0m\u001b]8;;\u001b\\\n"
      ]
     },
     "metadata": {},
     "output_type": "display_data"
    },
    {
     "data": {
      "text/html": [
       "<pre style=\"white-space:pre;overflow-x:auto;line-height:normal;font-family:Menlo,'DejaVu Sans Mono',consolas,'Courier New',monospace\"><span style=\"color: #7fbfbf; text-decoration-color: #7fbfbf\">           </span><span style=\"color: #000080; text-decoration-color: #000080\">INFO    </span> Evolution: µ_R^<span style=\"color: #008080; text-decoration-color: #008080; font-weight: bold\">2</span> distance: <span style=\"color: #008080; text-decoration-color: #008080; font-weight: bold\">2.722500e+00</span> -&gt; <span style=\"color: #008080; text-decoration-color: #008080; font-weight: bold\">4.000000e+02</span>                         <a href=\"file:///Users/giacomomagni/.conda/envs/yad_dev/lib/python3.10/site-packages/eko/evolution_operator/__init__.py\" target=\"_blank\"><span style=\"color: #7f7f7f; text-decoration-color: #7f7f7f\">__init__.py</span></a><span style=\"color: #7f7f7f; text-decoration-color: #7f7f7f\">:</span><a href=\"file:///Users/giacomomagni/.conda/envs/yad_dev/lib/python3.10/site-packages/eko/evolution_operator/__init__.py#924\" target=\"_blank\"><span style=\"color: #7f7f7f; text-decoration-color: #7f7f7f\">924</span></a>\n",
       "</pre>\n"
      ],
      "text/plain": [
       "\u001b[2;36m          \u001b[0m\u001b[2;36m \u001b[0m\u001b[34mINFO    \u001b[0m Evolution: µ_R^\u001b[1;36m2\u001b[0m distance: \u001b[1;36m2.722500e+00\u001b[0m -> \u001b[1;36m4.000000e+02\u001b[0m                         \u001b]8;id=4473;file:///Users/giacomomagni/.conda/envs/yad_dev/lib/python3.10/site-packages/eko/evolution_operator/__init__.py\u001b\\\u001b[2m__init__.py\u001b[0m\u001b]8;;\u001b\\\u001b[2m:\u001b[0m\u001b]8;id=646009;file:///Users/giacomomagni/.conda/envs/yad_dev/lib/python3.10/site-packages/eko/evolution_operator/__init__.py#924\u001b\\\u001b[2m924\u001b[0m\u001b]8;;\u001b\\\n"
      ]
     },
     "metadata": {},
     "output_type": "display_data"
    },
    {
     "data": {
      "text/html": [
       "<pre style=\"white-space:pre;overflow-x:auto;line-height:normal;font-family:Menlo,'DejaVu Sans Mono',consolas,'Courier New',monospace\"><span style=\"color: #7fbfbf; text-decoration-color: #7fbfbf\">           </span><span style=\"color: #000080; text-decoration-color: #000080\">INFO    </span> Evolution: a_s distance: <span style=\"color: #008080; text-decoration-color: #008080; font-weight: bold\">2.605852e-02</span> -&gt; <span style=\"color: #008080; text-decoration-color: #008080; font-weight: bold\">1.185893e-02</span>                           <a href=\"file:///Users/giacomomagni/.conda/envs/yad_dev/lib/python3.10/site-packages/eko/evolution_operator/__init__.py\" target=\"_blank\"><span style=\"color: #7f7f7f; text-decoration-color: #7f7f7f\">__init__.py</span></a><span style=\"color: #7f7f7f; text-decoration-color: #7f7f7f\">:</span><a href=\"file:///Users/giacomomagni/.conda/envs/yad_dev/lib/python3.10/site-packages/eko/evolution_operator/__init__.py#936\" target=\"_blank\"><span style=\"color: #7f7f7f; text-decoration-color: #7f7f7f\">936</span></a>\n",
       "</pre>\n"
      ],
      "text/plain": [
       "\u001b[2;36m          \u001b[0m\u001b[2;36m \u001b[0m\u001b[34mINFO    \u001b[0m Evolution: a_s distance: \u001b[1;36m2.605852e-02\u001b[0m -> \u001b[1;36m1.185893e-02\u001b[0m                           \u001b]8;id=350249;file:///Users/giacomomagni/.conda/envs/yad_dev/lib/python3.10/site-packages/eko/evolution_operator/__init__.py\u001b\\\u001b[2m__init__.py\u001b[0m\u001b]8;;\u001b\\\u001b[2m:\u001b[0m\u001b]8;id=188311;file:///Users/giacomomagni/.conda/envs/yad_dev/lib/python3.10/site-packages/eko/evolution_operator/__init__.py#936\u001b\\\u001b[2m936\u001b[0m\u001b]8;;\u001b\\\n"
      ]
     },
     "metadata": {},
     "output_type": "display_data"
    },
    {
     "data": {
      "text/html": [
       "<pre style=\"white-space:pre;overflow-x:auto;line-height:normal;font-family:Menlo,'DejaVu Sans Mono',consolas,'Courier New',monospace\"><span style=\"color: #7fbfbf; text-decoration-color: #7fbfbf\">           </span><span style=\"color: #000080; text-decoration-color: #000080\">INFO    </span> Evolution: order: <span style=\"font-weight: bold\">(</span><span style=\"color: #008080; text-decoration-color: #008080; font-weight: bold\">2</span>, <span style=\"color: #008080; text-decoration-color: #008080; font-weight: bold\">0</span><span style=\"font-weight: bold\">)</span>, solution strategy: iterate-exact, use fhmruvv: <span style=\"color: #ff0000; text-decoration-color: #ff0000; font-style: italic\">False</span>  <a href=\"file:///Users/giacomomagni/.conda/envs/yad_dev/lib/python3.10/site-packages/eko/evolution_operator/__init__.py\" target=\"_blank\"><span style=\"color: #7f7f7f; text-decoration-color: #7f7f7f\">__init__.py</span></a><span style=\"color: #7f7f7f; text-decoration-color: #7f7f7f\">:</span><a href=\"file:///Users/giacomomagni/.conda/envs/yad_dev/lib/python3.10/site-packages/eko/evolution_operator/__init__.py#946\" target=\"_blank\"><span style=\"color: #7f7f7f; text-decoration-color: #7f7f7f\">946</span></a>\n",
       "</pre>\n"
      ],
      "text/plain": [
       "\u001b[2;36m          \u001b[0m\u001b[2;36m \u001b[0m\u001b[34mINFO    \u001b[0m Evolution: order: \u001b[1m(\u001b[0m\u001b[1;36m2\u001b[0m, \u001b[1;36m0\u001b[0m\u001b[1m)\u001b[0m, solution strategy: iterate-exact, use fhmruvv: \u001b[3;91mFalse\u001b[0m  \u001b]8;id=370086;file:///Users/giacomomagni/.conda/envs/yad_dev/lib/python3.10/site-packages/eko/evolution_operator/__init__.py\u001b\\\u001b[2m__init__.py\u001b[0m\u001b]8;;\u001b\\\u001b[2m:\u001b[0m\u001b]8;id=80694;file:///Users/giacomomagni/.conda/envs/yad_dev/lib/python3.10/site-packages/eko/evolution_operator/__init__.py#946\u001b\\\u001b[2m946\u001b[0m\u001b]8;;\u001b\\\n"
      ]
     },
     "metadata": {},
     "output_type": "display_data"
    },
    {
     "data": {
      "text/html": [
       "<pre style=\"white-space:pre;overflow-x:auto;line-height:normal;font-family:Menlo,'DejaVu Sans Mono',consolas,'Courier New',monospace\"><span style=\"color: #7fbfbf; text-decoration-color: #7fbfbf\">[15:31:20] </span><span style=\"color: #000080; text-decoration-color: #000080\">INFO    </span> Evolution: Total time <span style=\"color: #008080; text-decoration-color: #008080; font-weight: bold\">7.973417</span> s                                                <a href=\"file:///Users/giacomomagni/.conda/envs/yad_dev/lib/python3.10/site-packages/eko/evolution_operator/__init__.py\" target=\"_blank\"><span style=\"color: #7f7f7f; text-decoration-color: #7f7f7f\">__init__.py</span></a><span style=\"color: #7f7f7f; text-decoration-color: #7f7f7f\">:</span><a href=\"file:///Users/giacomomagni/.conda/envs/yad_dev/lib/python3.10/site-packages/eko/evolution_operator/__init__.py#982\" target=\"_blank\"><span style=\"color: #7f7f7f; text-decoration-color: #7f7f7f\">982</span></a>\n",
       "</pre>\n"
      ],
      "text/plain": [
       "\u001b[2;36m[15:31:20]\u001b[0m\u001b[2;36m \u001b[0m\u001b[34mINFO    \u001b[0m Evolution: Total time \u001b[1;36m7.973417\u001b[0m s                                                \u001b]8;id=961771;file:///Users/giacomomagni/.conda/envs/yad_dev/lib/python3.10/site-packages/eko/evolution_operator/__init__.py\u001b\\\u001b[2m__init__.py\u001b[0m\u001b]8;;\u001b\\\u001b[2m:\u001b[0m\u001b]8;id=26688;file:///Users/giacomomagni/.conda/envs/yad_dev/lib/python3.10/site-packages/eko/evolution_operator/__init__.py#982\u001b\\\u001b[2m982\u001b[0m\u001b]8;;\u001b\\\n"
      ]
     },
     "metadata": {},
     "output_type": "display_data"
    },
    {
     "data": {
      "text/html": [
       "<pre style=\"white-space:pre;overflow-x:auto;line-height:normal;font-family:Menlo,'DejaVu Sans Mono',consolas,'Courier New',monospace\"><span style=\"color: #7fbfbf; text-decoration-color: #7fbfbf\">           </span><span style=\"color: #000080; text-decoration-color: #000080\">INFO    </span> Atlas <span style=\"font-weight: bold\">[</span><span style=\"color: #008080; text-decoration-color: #008080; font-weight: bold\">0.00e+00</span> - <span style=\"color: #008080; text-decoration-color: #008080; font-weight: bold\">2.28e+00</span> - <span style=\"color: #008080; text-decoration-color: #008080; font-weight: bold\">2.42e+01</span> - <span style=\"color: #008080; text-decoration-color: #008080; font-weight: bold\">2.98e+04</span> - inf<span style=\"font-weight: bold\">]</span>, <span style=\"color: #808000; text-decoration-color: #808000\">ref</span>=<span style=\"color: #008080; text-decoration-color: #008080; font-weight: bold\">8317.44</span> @ <span style=\"color: #008080; text-decoration-color: #008080; font-weight: bold\">5</span>        <a href=\"file:///Users/giacomomagni/.conda/envs/yad_dev/lib/python3.10/site-packages/eko/matchings.py\" target=\"_blank\"><span style=\"color: #7f7f7f; text-decoration-color: #7f7f7f\">matchings.py</span></a><span style=\"color: #7f7f7f; text-decoration-color: #7f7f7f\">:</span><a href=\"file:///Users/giacomomagni/.conda/envs/yad_dev/lib/python3.10/site-packages/eko/matchings.py#72\" target=\"_blank\"><span style=\"color: #7f7f7f; text-decoration-color: #7f7f7f\">72</span></a>\n",
       "</pre>\n"
      ],
      "text/plain": [
       "\u001b[2;36m          \u001b[0m\u001b[2;36m \u001b[0m\u001b[34mINFO    \u001b[0m Atlas \u001b[1m[\u001b[0m\u001b[1;36m0.00e+00\u001b[0m - \u001b[1;36m2.28e+00\u001b[0m - \u001b[1;36m2.42e+01\u001b[0m - \u001b[1;36m2.98e+04\u001b[0m - inf\u001b[1m]\u001b[0m, \u001b[33mref\u001b[0m=\u001b[1;36m8317\u001b[0m\u001b[1;36m.44\u001b[0m @ \u001b[1;36m5\u001b[0m        \u001b]8;id=25639;file:///Users/giacomomagni/.conda/envs/yad_dev/lib/python3.10/site-packages/eko/matchings.py\u001b\\\u001b[2mmatchings.py\u001b[0m\u001b]8;;\u001b\\\u001b[2m:\u001b[0m\u001b]8;id=559303;file:///Users/giacomomagni/.conda/envs/yad_dev/lib/python3.10/site-packages/eko/matchings.py#72\u001b\\\u001b[2m72\u001b[0m\u001b]8;;\u001b\\\n"
      ]
     },
     "metadata": {},
     "output_type": "display_data"
    },
    {
     "data": {
      "text/html": [
       "<pre style=\"white-space:pre;overflow-x:auto;line-height:normal;font-family:Menlo,'DejaVu Sans Mono',consolas,'Courier New',monospace\"><span style=\"color: #7fbfbf; text-decoration-color: #7fbfbf\">           </span><span style=\"color: #000080; text-decoration-color: #000080\">INFO    </span> Strong Coupling: <span style=\"color: #800080; text-decoration-color: #800080; font-weight: bold\">a_s</span><span style=\"font-weight: bold\">(</span>µ_R^<span style=\"color: #008080; text-decoration-color: #008080; font-weight: bold\">2</span>=<span style=\"color: #008080; text-decoration-color: #008080; font-weight: bold\">8317.440000</span><span style=\"font-weight: bold\">)</span>^<span style=\"font-weight: bold\">(</span><span style=\"color: #808000; text-decoration-color: #808000\">nf</span>=<span style=\"color: #008080; text-decoration-color: #008080; font-weight: bold\">5</span><span style=\"font-weight: bold\">)</span>=<span style=\"color: #008080; text-decoration-color: #008080; font-weight: bold\">0.009390</span>=<span style=\"color: #008080; text-decoration-color: #008080; font-weight: bold\">0.118000</span>/<span style=\"font-weight: bold\">(</span>4π<span style=\"font-weight: bold\">)</span>          <a href=\"file:///Users/giacomomagni/.conda/envs/yad_dev/lib/python3.10/site-packages/eko/couplings.py\" target=\"_blank\"><span style=\"color: #7f7f7f; text-decoration-color: #7f7f7f\">couplings.py</span></a><span style=\"color: #7f7f7f; text-decoration-color: #7f7f7f\">:</span><a href=\"file:///Users/giacomomagni/.conda/envs/yad_dev/lib/python3.10/site-packages/eko/couplings.py#464\" target=\"_blank\"><span style=\"color: #7f7f7f; text-decoration-color: #7f7f7f\">464</span></a>\n",
       "</pre>\n"
      ],
      "text/plain": [
       "\u001b[2;36m          \u001b[0m\u001b[2;36m \u001b[0m\u001b[34mINFO    \u001b[0m Strong Coupling: \u001b[1;35ma_s\u001b[0m\u001b[1m(\u001b[0mµ_R^\u001b[1;36m2\u001b[0m=\u001b[1;36m8317\u001b[0m\u001b[1;36m.440000\u001b[0m\u001b[1m)\u001b[0m^\u001b[1m(\u001b[0m\u001b[33mnf\u001b[0m=\u001b[1;36m5\u001b[0m\u001b[1m)\u001b[0m=\u001b[1;36m0.\u001b[0m\u001b[1;36m009390\u001b[0m=\u001b[1;36m0\u001b[0m\u001b[1;36m.118000\u001b[0m/\u001b[1m(\u001b[0m4π\u001b[1m)\u001b[0m          \u001b]8;id=590086;file:///Users/giacomomagni/.conda/envs/yad_dev/lib/python3.10/site-packages/eko/couplings.py\u001b\\\u001b[2mcouplings.py\u001b[0m\u001b]8;;\u001b\\\u001b[2m:\u001b[0m\u001b]8;id=729923;file:///Users/giacomomagni/.conda/envs/yad_dev/lib/python3.10/site-packages/eko/couplings.py#464\u001b\\\u001b[2m464\u001b[0m\u001b]8;;\u001b\\\n"
      ]
     },
     "metadata": {},
     "output_type": "display_data"
    },
    {
     "name": "stderr",
     "output_type": "stream",
     "text": [
      "Overwriting old PDF installation\n"
     ]
    },
    {
     "name": "stdout",
     "output_type": "stream",
     "text": [
      "install_pdf NNPDF40_evolved_nf4\n"
     ]
    },
    {
     "data": {
      "text/html": [
       "<pre style=\"white-space:pre;overflow-x:auto;line-height:normal;font-family:Menlo,'DejaVu Sans Mono',consolas,'Courier New',monospace\"><span style=\"color: #7fbfbf; text-decoration-color: #7fbfbf\">           </span><span style=\"color: #000080; text-decoration-color: #000080\">INFO    </span> Interpolation: number of points = <span style=\"color: #008080; text-decoration-color: #008080; font-weight: bold\">30</span>, polynomial degree = <span style=\"color: #008080; text-decoration-color: #008080; font-weight: bold\">4</span>, logarithmic = <a href=\"file:///Users/giacomomagni/.conda/envs/yad_dev/lib/python3.10/site-packages/eko/interpolation.py\" target=\"_blank\"><span style=\"color: #7f7f7f; text-decoration-color: #7f7f7f\">interpolation.py</span></a><span style=\"color: #7f7f7f; text-decoration-color: #7f7f7f\">:</span><a href=\"file:///Users/giacomomagni/.conda/envs/yad_dev/lib/python3.10/site-packages/eko/interpolation.py#538\" target=\"_blank\"><span style=\"color: #7f7f7f; text-decoration-color: #7f7f7f\">538</span></a>\n",
       "<span style=\"color: #7fbfbf; text-decoration-color: #7fbfbf\">           </span>         <span style=\"color: #00ff00; text-decoration-color: #00ff00; font-style: italic\">True</span>                                                                       <span style=\"color: #7f7f7f; text-decoration-color: #7f7f7f\">                    </span>\n",
       "</pre>\n"
      ],
      "text/plain": [
       "\u001b[2;36m          \u001b[0m\u001b[2;36m \u001b[0m\u001b[34mINFO    \u001b[0m Interpolation: number of points = \u001b[1;36m30\u001b[0m, polynomial degree = \u001b[1;36m4\u001b[0m, logarithmic = \u001b]8;id=288248;file:///Users/giacomomagni/.conda/envs/yad_dev/lib/python3.10/site-packages/eko/interpolation.py\u001b\\\u001b[2minterpolation.py\u001b[0m\u001b]8;;\u001b\\\u001b[2m:\u001b[0m\u001b]8;id=919638;file:///Users/giacomomagni/.conda/envs/yad_dev/lib/python3.10/site-packages/eko/interpolation.py#538\u001b\\\u001b[2m538\u001b[0m\u001b]8;;\u001b\\\n",
       "\u001b[2;36m           \u001b[0m         \u001b[3;92mTrue\u001b[0m                                                                       \u001b[2m                    \u001b[0m\n"
      ]
     },
     "metadata": {},
     "output_type": "display_data"
    },
    {
     "data": {
      "text/html": [
       "<pre style=\"white-space:pre;overflow-x:auto;line-height:normal;font-family:Menlo,'DejaVu Sans Mono',consolas,'Courier New',monospace\"><span style=\"color: #7fbfbf; text-decoration-color: #7fbfbf\">           </span><span style=\"color: #000080; text-decoration-color: #000080\">INFO    </span> Atlas <span style=\"font-weight: bold\">[</span><span style=\"color: #008080; text-decoration-color: #008080; font-weight: bold\">0.00e+00</span> - <span style=\"color: #008080; text-decoration-color: #008080; font-weight: bold\">2.28e+00</span> - <span style=\"color: #008080; text-decoration-color: #008080; font-weight: bold\">2.42e+01</span> - <span style=\"color: #008080; text-decoration-color: #008080; font-weight: bold\">2.98e+04</span> - inf<span style=\"font-weight: bold\">]</span>, <span style=\"color: #808000; text-decoration-color: #808000\">ref</span>=<span style=\"color: #008080; text-decoration-color: #008080; font-weight: bold\">2.7224999999999997</span> <a href=\"file:///Users/giacomomagni/.conda/envs/yad_dev/lib/python3.10/site-packages/eko/matchings.py\" target=\"_blank\"><span style=\"color: #7f7f7f; text-decoration-color: #7f7f7f\">matchings.py</span></a><span style=\"color: #7f7f7f; text-decoration-color: #7f7f7f\">:</span><a href=\"file:///Users/giacomomagni/.conda/envs/yad_dev/lib/python3.10/site-packages/eko/matchings.py#72\" target=\"_blank\"><span style=\"color: #7f7f7f; text-decoration-color: #7f7f7f\">72</span></a>\n",
       "<span style=\"color: #7fbfbf; text-decoration-color: #7fbfbf\">           </span>         @ <span style=\"color: #008080; text-decoration-color: #008080; font-weight: bold\">4</span>                                                                             <span style=\"color: #7f7f7f; text-decoration-color: #7f7f7f\">               </span>\n",
       "</pre>\n"
      ],
      "text/plain": [
       "\u001b[2;36m          \u001b[0m\u001b[2;36m \u001b[0m\u001b[34mINFO    \u001b[0m Atlas \u001b[1m[\u001b[0m\u001b[1;36m0.00e+00\u001b[0m - \u001b[1;36m2.28e+00\u001b[0m - \u001b[1;36m2.42e+01\u001b[0m - \u001b[1;36m2.98e+04\u001b[0m - inf\u001b[1m]\u001b[0m, \u001b[33mref\u001b[0m=\u001b[1;36m2\u001b[0m\u001b[1;36m.7224999999999997\u001b[0m \u001b]8;id=563145;file:///Users/giacomomagni/.conda/envs/yad_dev/lib/python3.10/site-packages/eko/matchings.py\u001b\\\u001b[2mmatchings.py\u001b[0m\u001b]8;;\u001b\\\u001b[2m:\u001b[0m\u001b]8;id=481779;file:///Users/giacomomagni/.conda/envs/yad_dev/lib/python3.10/site-packages/eko/matchings.py#72\u001b\\\u001b[2m72\u001b[0m\u001b]8;;\u001b\\\n",
       "\u001b[2;36m           \u001b[0m         @ \u001b[1;36m4\u001b[0m                                                                             \u001b[2m               \u001b[0m\n"
      ]
     },
     "metadata": {},
     "output_type": "display_data"
    },
    {
     "data": {
      "text/html": [
       "<pre style=\"white-space:pre;overflow-x:auto;line-height:normal;font-family:Menlo,'DejaVu Sans Mono',consolas,'Courier New',monospace\"><span style=\"color: #7fbfbf; text-decoration-color: #7fbfbf\">           </span><span style=\"color: #000080; text-decoration-color: #000080\">INFO    </span> Atlas <span style=\"font-weight: bold\">[</span><span style=\"color: #008080; text-decoration-color: #008080; font-weight: bold\">0.00e+00</span> - <span style=\"color: #008080; text-decoration-color: #008080; font-weight: bold\">2.28e+00</span> - <span style=\"color: #008080; text-decoration-color: #008080; font-weight: bold\">2.42e+01</span> - <span style=\"color: #008080; text-decoration-color: #008080; font-weight: bold\">2.98e+04</span> - inf<span style=\"font-weight: bold\">]</span>, <span style=\"color: #808000; text-decoration-color: #808000\">ref</span>=<span style=\"color: #008080; text-decoration-color: #008080; font-weight: bold\">8317.44</span> @ <span style=\"color: #008080; text-decoration-color: #008080; font-weight: bold\">5</span>        <a href=\"file:///Users/giacomomagni/.conda/envs/yad_dev/lib/python3.10/site-packages/eko/matchings.py\" target=\"_blank\"><span style=\"color: #7f7f7f; text-decoration-color: #7f7f7f\">matchings.py</span></a><span style=\"color: #7f7f7f; text-decoration-color: #7f7f7f\">:</span><a href=\"file:///Users/giacomomagni/.conda/envs/yad_dev/lib/python3.10/site-packages/eko/matchings.py#72\" target=\"_blank\"><span style=\"color: #7f7f7f; text-decoration-color: #7f7f7f\">72</span></a>\n",
       "</pre>\n"
      ],
      "text/plain": [
       "\u001b[2;36m          \u001b[0m\u001b[2;36m \u001b[0m\u001b[34mINFO    \u001b[0m Atlas \u001b[1m[\u001b[0m\u001b[1;36m0.00e+00\u001b[0m - \u001b[1;36m2.28e+00\u001b[0m - \u001b[1;36m2.42e+01\u001b[0m - \u001b[1;36m2.98e+04\u001b[0m - inf\u001b[1m]\u001b[0m, \u001b[33mref\u001b[0m=\u001b[1;36m8317\u001b[0m\u001b[1;36m.44\u001b[0m @ \u001b[1;36m5\u001b[0m        \u001b]8;id=765382;file:///Users/giacomomagni/.conda/envs/yad_dev/lib/python3.10/site-packages/eko/matchings.py\u001b\\\u001b[2mmatchings.py\u001b[0m\u001b]8;;\u001b\\\u001b[2m:\u001b[0m\u001b]8;id=777146;file:///Users/giacomomagni/.conda/envs/yad_dev/lib/python3.10/site-packages/eko/matchings.py#72\u001b\\\u001b[2m72\u001b[0m\u001b]8;;\u001b\\\n"
      ]
     },
     "metadata": {},
     "output_type": "display_data"
    },
    {
     "data": {
      "text/html": [
       "<pre style=\"white-space:pre;overflow-x:auto;line-height:normal;font-family:Menlo,'DejaVu Sans Mono',consolas,'Courier New',monospace\"><span style=\"color: #7fbfbf; text-decoration-color: #7fbfbf\">           </span><span style=\"color: #000080; text-decoration-color: #000080\">INFO    </span> Strong Coupling: <span style=\"color: #800080; text-decoration-color: #800080; font-weight: bold\">a_s</span><span style=\"font-weight: bold\">(</span>µ_R^<span style=\"color: #008080; text-decoration-color: #008080; font-weight: bold\">2</span>=<span style=\"color: #008080; text-decoration-color: #008080; font-weight: bold\">8317.440000</span><span style=\"font-weight: bold\">)</span>^<span style=\"font-weight: bold\">(</span><span style=\"color: #808000; text-decoration-color: #808000\">nf</span>=<span style=\"color: #008080; text-decoration-color: #008080; font-weight: bold\">5</span><span style=\"font-weight: bold\">)</span>=<span style=\"color: #008080; text-decoration-color: #008080; font-weight: bold\">0.009390</span>=<span style=\"color: #008080; text-decoration-color: #008080; font-weight: bold\">0.118000</span>/<span style=\"font-weight: bold\">(</span>4π<span style=\"font-weight: bold\">)</span>          <a href=\"file:///Users/giacomomagni/.conda/envs/yad_dev/lib/python3.10/site-packages/eko/couplings.py\" target=\"_blank\"><span style=\"color: #7f7f7f; text-decoration-color: #7f7f7f\">couplings.py</span></a><span style=\"color: #7f7f7f; text-decoration-color: #7f7f7f\">:</span><a href=\"file:///Users/giacomomagni/.conda/envs/yad_dev/lib/python3.10/site-packages/eko/couplings.py#464\" target=\"_blank\"><span style=\"color: #7f7f7f; text-decoration-color: #7f7f7f\">464</span></a>\n",
       "</pre>\n"
      ],
      "text/plain": [
       "\u001b[2;36m          \u001b[0m\u001b[2;36m \u001b[0m\u001b[34mINFO    \u001b[0m Strong Coupling: \u001b[1;35ma_s\u001b[0m\u001b[1m(\u001b[0mµ_R^\u001b[1;36m2\u001b[0m=\u001b[1;36m8317\u001b[0m\u001b[1;36m.440000\u001b[0m\u001b[1m)\u001b[0m^\u001b[1m(\u001b[0m\u001b[33mnf\u001b[0m=\u001b[1;36m5\u001b[0m\u001b[1m)\u001b[0m=\u001b[1;36m0.\u001b[0m\u001b[1;36m009390\u001b[0m=\u001b[1;36m0\u001b[0m\u001b[1;36m.118000\u001b[0m/\u001b[1m(\u001b[0m4π\u001b[1m)\u001b[0m          \u001b]8;id=951945;file:///Users/giacomomagni/.conda/envs/yad_dev/lib/python3.10/site-packages/eko/couplings.py\u001b\\\u001b[2mcouplings.py\u001b[0m\u001b]8;;\u001b\\\u001b[2m:\u001b[0m\u001b]8;id=291674;file:///Users/giacomomagni/.conda/envs/yad_dev/lib/python3.10/site-packages/eko/couplings.py#464\u001b\\\u001b[2m464\u001b[0m\u001b]8;;\u001b\\\n"
      ]
     },
     "metadata": {},
     "output_type": "display_data"
    },
    {
     "data": {
      "text/html": [
       "<pre style=\"white-space:pre;overflow-x:auto;line-height:normal;font-family:Menlo,'DejaVu Sans Mono',consolas,'Courier New',monospace\"><span style=\"color: #7fbfbf; text-decoration-color: #7fbfbf\">           </span><span style=\"color: #000080; text-decoration-color: #000080\">INFO    </span> <span style=\"font-weight: bold\">{</span><span style=\"color: #008000; text-decoration-color: #008000\">'polarized'</span>: <span style=\"color: #ff0000; text-decoration-color: #ff0000; font-style: italic\">False</span><span style=\"font-weight: bold\">}</span>                                                                 <a href=\"file:///Users/giacomomagni/.conda/envs/yad_dev/lib/python3.10/site-packages/eko/evolution_operator/grid.py\" target=\"_blank\"><span style=\"color: #7f7f7f; text-decoration-color: #7f7f7f\">grid.py</span></a><span style=\"color: #7f7f7f; text-decoration-color: #7f7f7f\">:</span><a href=\"file:///Users/giacomomagni/.conda/envs/yad_dev/lib/python3.10/site-packages/eko/evolution_operator/grid.py#93\" target=\"_blank\"><span style=\"color: #7f7f7f; text-decoration-color: #7f7f7f\">93</span></a>\n",
       "</pre>\n"
      ],
      "text/plain": [
       "\u001b[2;36m          \u001b[0m\u001b[2;36m \u001b[0m\u001b[34mINFO    \u001b[0m \u001b[1m{\u001b[0m\u001b[32m'polarized'\u001b[0m: \u001b[3;91mFalse\u001b[0m\u001b[1m}\u001b[0m                                                                 \u001b]8;id=567757;file:///Users/giacomomagni/.conda/envs/yad_dev/lib/python3.10/site-packages/eko/evolution_operator/grid.py\u001b\\\u001b[2mgrid.py\u001b[0m\u001b]8;;\u001b\\\u001b[2m:\u001b[0m\u001b]8;id=802511;file:///Users/giacomomagni/.conda/envs/yad_dev/lib/python3.10/site-packages/eko/evolution_operator/grid.py#93\u001b\\\u001b[2m93\u001b[0m\u001b]8;;\u001b\\\n"
      ]
     },
     "metadata": {},
     "output_type": "display_data"
    },
    {
     "data": {
      "text/html": [
       "<pre style=\"white-space:pre;overflow-x:auto;line-height:normal;font-family:Menlo,'DejaVu Sans Mono',consolas,'Courier New',monospace\"><span style=\"color: #7fbfbf; text-decoration-color: #7fbfbf\">           </span><span style=\"color: #000080; text-decoration-color: #000080\">INFO    </span> <span style=\"font-weight: bold\">{</span><span style=\"color: #008000; text-decoration-color: #008000\">'time_like'</span>: <span style=\"color: #ff0000; text-decoration-color: #ff0000; font-style: italic\">False</span><span style=\"font-weight: bold\">}</span>                                                                 <a href=\"file:///Users/giacomomagni/.conda/envs/yad_dev/lib/python3.10/site-packages/eko/evolution_operator/grid.py\" target=\"_blank\"><span style=\"color: #7f7f7f; text-decoration-color: #7f7f7f\">grid.py</span></a><span style=\"color: #7f7f7f; text-decoration-color: #7f7f7f\">:</span><a href=\"file:///Users/giacomomagni/.conda/envs/yad_dev/lib/python3.10/site-packages/eko/evolution_operator/grid.py#94\" target=\"_blank\"><span style=\"color: #7f7f7f; text-decoration-color: #7f7f7f\">94</span></a>\n",
       "</pre>\n"
      ],
      "text/plain": [
       "\u001b[2;36m          \u001b[0m\u001b[2;36m \u001b[0m\u001b[34mINFO    \u001b[0m \u001b[1m{\u001b[0m\u001b[32m'time_like'\u001b[0m: \u001b[3;91mFalse\u001b[0m\u001b[1m}\u001b[0m                                                                 \u001b]8;id=421699;file:///Users/giacomomagni/.conda/envs/yad_dev/lib/python3.10/site-packages/eko/evolution_operator/grid.py\u001b\\\u001b[2mgrid.py\u001b[0m\u001b]8;;\u001b\\\u001b[2m:\u001b[0m\u001b]8;id=481146;file:///Users/giacomomagni/.conda/envs/yad_dev/lib/python3.10/site-packages/eko/evolution_operator/grid.py#94\u001b\\\u001b[2m94\u001b[0m\u001b]8;;\u001b\\\n"
      ]
     },
     "metadata": {},
     "output_type": "display_data"
    },
    {
     "data": {
      "text/html": [
       "<pre style=\"white-space:pre;overflow-x:auto;line-height:normal;font-family:Menlo,'DejaVu Sans Mono',consolas,'Courier New',monospace\"><span style=\"color: #7fbfbf; text-decoration-color: #7fbfbf\">           </span><span style=\"color: #000080; text-decoration-color: #000080\">INFO    </span> Prepare threshold operator                                                          <a href=\"file:///Users/giacomomagni/.conda/envs/yad_dev/lib/python3.10/site-packages/eko/evolution_operator/grid.py\" target=\"_blank\"><span style=\"color: #7f7f7f; text-decoration-color: #7f7f7f\">grid.py</span></a><span style=\"color: #7f7f7f; text-decoration-color: #7f7f7f\">:</span><a href=\"file:///Users/giacomomagni/.conda/envs/yad_dev/lib/python3.10/site-packages/eko/evolution_operator/grid.py#139\" target=\"_blank\"><span style=\"color: #7f7f7f; text-decoration-color: #7f7f7f\">139</span></a>\n",
       "</pre>\n"
      ],
      "text/plain": [
       "\u001b[2;36m          \u001b[0m\u001b[2;36m \u001b[0m\u001b[34mINFO    \u001b[0m Prepare threshold operator                                                          \u001b]8;id=30040;file:///Users/giacomomagni/.conda/envs/yad_dev/lib/python3.10/site-packages/eko/evolution_operator/grid.py\u001b\\\u001b[2mgrid.py\u001b[0m\u001b]8;;\u001b\\\u001b[2m:\u001b[0m\u001b]8;id=25405;file:///Users/giacomomagni/.conda/envs/yad_dev/lib/python3.10/site-packages/eko/evolution_operator/grid.py#139\u001b\\\u001b[2m139\u001b[0m\u001b]8;;\u001b\\\n"
      ]
     },
     "metadata": {},
     "output_type": "display_data"
    },
    {
     "data": {
      "text/html": [
       "<pre style=\"white-space:pre;overflow-x:auto;line-height:normal;font-family:Menlo,'DejaVu Sans Mono',consolas,'Courier New',monospace\"><span style=\"color: #7fbfbf; text-decoration-color: #7fbfbf\">           </span><span style=\"color: #000080; text-decoration-color: #000080\">INFO    </span> Evolution: computing operators <span style=\"color: #008080; text-decoration-color: #008080; font-weight: bold\">2.722500e+00</span> -&gt; <span style=\"color: #008080; text-decoration-color: #008080; font-weight: bold\">2.420640e+01</span>, <span style=\"color: #808000; text-decoration-color: #808000\">nf</span>=<span style=\"color: #008080; text-decoration-color: #008080; font-weight: bold\">4</span>               <a href=\"file:///Users/giacomomagni/.conda/envs/yad_dev/lib/python3.10/site-packages/eko/evolution_operator/__init__.py\" target=\"_blank\"><span style=\"color: #7f7f7f; text-decoration-color: #7f7f7f\">__init__.py</span></a><span style=\"color: #7f7f7f; text-decoration-color: #7f7f7f\">:</span><a href=\"file:///Users/giacomomagni/.conda/envs/yad_dev/lib/python3.10/site-packages/eko/evolution_operator/__init__.py#917\" target=\"_blank\"><span style=\"color: #7f7f7f; text-decoration-color: #7f7f7f\">917</span></a>\n",
       "</pre>\n"
      ],
      "text/plain": [
       "\u001b[2;36m          \u001b[0m\u001b[2;36m \u001b[0m\u001b[34mINFO    \u001b[0m Evolution: computing operators \u001b[1;36m2.722500e+00\u001b[0m -> \u001b[1;36m2.420640e+01\u001b[0m, \u001b[33mnf\u001b[0m=\u001b[1;36m4\u001b[0m               \u001b]8;id=59591;file:///Users/giacomomagni/.conda/envs/yad_dev/lib/python3.10/site-packages/eko/evolution_operator/__init__.py\u001b\\\u001b[2m__init__.py\u001b[0m\u001b]8;;\u001b\\\u001b[2m:\u001b[0m\u001b]8;id=667879;file:///Users/giacomomagni/.conda/envs/yad_dev/lib/python3.10/site-packages/eko/evolution_operator/__init__.py#917\u001b\\\u001b[2m917\u001b[0m\u001b]8;;\u001b\\\n"
      ]
     },
     "metadata": {},
     "output_type": "display_data"
    },
    {
     "data": {
      "text/html": [
       "<pre style=\"white-space:pre;overflow-x:auto;line-height:normal;font-family:Menlo,'DejaVu Sans Mono',consolas,'Courier New',monospace\"><span style=\"color: #7fbfbf; text-decoration-color: #7fbfbf\">           </span><span style=\"color: #000080; text-decoration-color: #000080\">INFO    </span> Evolution: µ_R^<span style=\"color: #008080; text-decoration-color: #008080; font-weight: bold\">2</span> distance: <span style=\"color: #008080; text-decoration-color: #008080; font-weight: bold\">2.722500e+00</span> -&gt; <span style=\"color: #008080; text-decoration-color: #008080; font-weight: bold\">2.420640e+01</span>                         <a href=\"file:///Users/giacomomagni/.conda/envs/yad_dev/lib/python3.10/site-packages/eko/evolution_operator/__init__.py\" target=\"_blank\"><span style=\"color: #7f7f7f; text-decoration-color: #7f7f7f\">__init__.py</span></a><span style=\"color: #7f7f7f; text-decoration-color: #7f7f7f\">:</span><a href=\"file:///Users/giacomomagni/.conda/envs/yad_dev/lib/python3.10/site-packages/eko/evolution_operator/__init__.py#924\" target=\"_blank\"><span style=\"color: #7f7f7f; text-decoration-color: #7f7f7f\">924</span></a>\n",
       "</pre>\n"
      ],
      "text/plain": [
       "\u001b[2;36m          \u001b[0m\u001b[2;36m \u001b[0m\u001b[34mINFO    \u001b[0m Evolution: µ_R^\u001b[1;36m2\u001b[0m distance: \u001b[1;36m2.722500e+00\u001b[0m -> \u001b[1;36m2.420640e+01\u001b[0m                         \u001b]8;id=170747;file:///Users/giacomomagni/.conda/envs/yad_dev/lib/python3.10/site-packages/eko/evolution_operator/__init__.py\u001b\\\u001b[2m__init__.py\u001b[0m\u001b]8;;\u001b\\\u001b[2m:\u001b[0m\u001b]8;id=453790;file:///Users/giacomomagni/.conda/envs/yad_dev/lib/python3.10/site-packages/eko/evolution_operator/__init__.py#924\u001b\\\u001b[2m924\u001b[0m\u001b]8;;\u001b\\\n"
      ]
     },
     "metadata": {},
     "output_type": "display_data"
    },
    {
     "data": {
      "text/html": [
       "<pre style=\"white-space:pre;overflow-x:auto;line-height:normal;font-family:Menlo,'DejaVu Sans Mono',consolas,'Courier New',monospace\"><span style=\"color: #7fbfbf; text-decoration-color: #7fbfbf\">           </span><span style=\"color: #000080; text-decoration-color: #000080\">INFO    </span> Evolution: a_s distance: <span style=\"color: #008080; text-decoration-color: #008080; font-weight: bold\">2.605852e-02</span> -&gt; <span style=\"color: #008080; text-decoration-color: #008080; font-weight: bold\">1.697192e-02</span>                           <a href=\"file:///Users/giacomomagni/.conda/envs/yad_dev/lib/python3.10/site-packages/eko/evolution_operator/__init__.py\" target=\"_blank\"><span style=\"color: #7f7f7f; text-decoration-color: #7f7f7f\">__init__.py</span></a><span style=\"color: #7f7f7f; text-decoration-color: #7f7f7f\">:</span><a href=\"file:///Users/giacomomagni/.conda/envs/yad_dev/lib/python3.10/site-packages/eko/evolution_operator/__init__.py#936\" target=\"_blank\"><span style=\"color: #7f7f7f; text-decoration-color: #7f7f7f\">936</span></a>\n",
       "</pre>\n"
      ],
      "text/plain": [
       "\u001b[2;36m          \u001b[0m\u001b[2;36m \u001b[0m\u001b[34mINFO    \u001b[0m Evolution: a_s distance: \u001b[1;36m2.605852e-02\u001b[0m -> \u001b[1;36m1.697192e-02\u001b[0m                           \u001b]8;id=136150;file:///Users/giacomomagni/.conda/envs/yad_dev/lib/python3.10/site-packages/eko/evolution_operator/__init__.py\u001b\\\u001b[2m__init__.py\u001b[0m\u001b]8;;\u001b\\\u001b[2m:\u001b[0m\u001b]8;id=579095;file:///Users/giacomomagni/.conda/envs/yad_dev/lib/python3.10/site-packages/eko/evolution_operator/__init__.py#936\u001b\\\u001b[2m936\u001b[0m\u001b]8;;\u001b\\\n"
      ]
     },
     "metadata": {},
     "output_type": "display_data"
    },
    {
     "data": {
      "text/html": [
       "<pre style=\"white-space:pre;overflow-x:auto;line-height:normal;font-family:Menlo,'DejaVu Sans Mono',consolas,'Courier New',monospace\"><span style=\"color: #7fbfbf; text-decoration-color: #7fbfbf\">           </span><span style=\"color: #000080; text-decoration-color: #000080\">INFO    </span> Evolution: order: <span style=\"font-weight: bold\">(</span><span style=\"color: #008080; text-decoration-color: #008080; font-weight: bold\">2</span>, <span style=\"color: #008080; text-decoration-color: #008080; font-weight: bold\">0</span><span style=\"font-weight: bold\">)</span>, solution strategy: iterate-exact, use fhmruvv: <span style=\"color: #ff0000; text-decoration-color: #ff0000; font-style: italic\">False</span>  <a href=\"file:///Users/giacomomagni/.conda/envs/yad_dev/lib/python3.10/site-packages/eko/evolution_operator/__init__.py\" target=\"_blank\"><span style=\"color: #7f7f7f; text-decoration-color: #7f7f7f\">__init__.py</span></a><span style=\"color: #7f7f7f; text-decoration-color: #7f7f7f\">:</span><a href=\"file:///Users/giacomomagni/.conda/envs/yad_dev/lib/python3.10/site-packages/eko/evolution_operator/__init__.py#946\" target=\"_blank\"><span style=\"color: #7f7f7f; text-decoration-color: #7f7f7f\">946</span></a>\n",
       "</pre>\n"
      ],
      "text/plain": [
       "\u001b[2;36m          \u001b[0m\u001b[2;36m \u001b[0m\u001b[34mINFO    \u001b[0m Evolution: order: \u001b[1m(\u001b[0m\u001b[1;36m2\u001b[0m, \u001b[1;36m0\u001b[0m\u001b[1m)\u001b[0m, solution strategy: iterate-exact, use fhmruvv: \u001b[3;91mFalse\u001b[0m  \u001b]8;id=883208;file:///Users/giacomomagni/.conda/envs/yad_dev/lib/python3.10/site-packages/eko/evolution_operator/__init__.py\u001b\\\u001b[2m__init__.py\u001b[0m\u001b]8;;\u001b\\\u001b[2m:\u001b[0m\u001b]8;id=938561;file:///Users/giacomomagni/.conda/envs/yad_dev/lib/python3.10/site-packages/eko/evolution_operator/__init__.py#946\u001b\\\u001b[2m946\u001b[0m\u001b]8;;\u001b\\\n"
      ]
     },
     "metadata": {},
     "output_type": "display_data"
    },
    {
     "data": {
      "text/html": [
       "<pre style=\"white-space:pre;overflow-x:auto;line-height:normal;font-family:Menlo,'DejaVu Sans Mono',consolas,'Courier New',monospace\"><span style=\"color: #7fbfbf; text-decoration-color: #7fbfbf\">[15:31:28] </span><span style=\"color: #000080; text-decoration-color: #000080\">INFO    </span> Evolution: Total time <span style=\"color: #008080; text-decoration-color: #008080; font-weight: bold\">7.918660</span> s                                                <a href=\"file:///Users/giacomomagni/.conda/envs/yad_dev/lib/python3.10/site-packages/eko/evolution_operator/__init__.py\" target=\"_blank\"><span style=\"color: #7f7f7f; text-decoration-color: #7f7f7f\">__init__.py</span></a><span style=\"color: #7f7f7f; text-decoration-color: #7f7f7f\">:</span><a href=\"file:///Users/giacomomagni/.conda/envs/yad_dev/lib/python3.10/site-packages/eko/evolution_operator/__init__.py#982\" target=\"_blank\"><span style=\"color: #7f7f7f; text-decoration-color: #7f7f7f\">982</span></a>\n",
       "</pre>\n"
      ],
      "text/plain": [
       "\u001b[2;36m[15:31:28]\u001b[0m\u001b[2;36m \u001b[0m\u001b[34mINFO    \u001b[0m Evolution: Total time \u001b[1;36m7.918660\u001b[0m s                                                \u001b]8;id=934189;file:///Users/giacomomagni/.conda/envs/yad_dev/lib/python3.10/site-packages/eko/evolution_operator/__init__.py\u001b\\\u001b[2m__init__.py\u001b[0m\u001b]8;;\u001b\\\u001b[2m:\u001b[0m\u001b]8;id=780709;file:///Users/giacomomagni/.conda/envs/yad_dev/lib/python3.10/site-packages/eko/evolution_operator/__init__.py#982\u001b\\\u001b[2m982\u001b[0m\u001b]8;;\u001b\\\n"
      ]
     },
     "metadata": {},
     "output_type": "display_data"
    },
    {
     "data": {
      "text/html": [
       "<pre style=\"white-space:pre;overflow-x:auto;line-height:normal;font-family:Menlo,'DejaVu Sans Mono',consolas,'Courier New',monospace\"><span style=\"color: #7fbfbf; text-decoration-color: #7fbfbf\">           </span><span style=\"color: #000080; text-decoration-color: #000080\">INFO    </span> Matching: order: <span style=\"font-weight: bold\">(</span><span style=\"color: #008080; text-decoration-color: #008080; font-weight: bold\">1</span>, <span style=\"color: #008080; text-decoration-color: #008080; font-weight: bold\">0</span><span style=\"font-weight: bold\">)</span>, backward method: <span style=\"color: #800080; text-decoration-color: #800080; font-style: italic\">None</span>                   <a href=\"file:///Users/giacomomagni/.conda/envs/yad_dev/lib/python3.10/site-packages/eko/evolution_operator/operator_matrix_element.py\" target=\"_blank\"><span style=\"color: #7f7f7f; text-decoration-color: #7f7f7f\">operator_matrix_element.py</span></a><span style=\"color: #7f7f7f; text-decoration-color: #7f7f7f\">:</span><a href=\"file:///Users/giacomomagni/.conda/envs/yad_dev/lib/python3.10/site-packages/eko/evolution_operator/operator_matrix_element.py#327\" target=\"_blank\"><span style=\"color: #7f7f7f; text-decoration-color: #7f7f7f\">327</span></a>\n",
       "</pre>\n"
      ],
      "text/plain": [
       "\u001b[2;36m          \u001b[0m\u001b[2;36m \u001b[0m\u001b[34mINFO    \u001b[0m Matching: order: \u001b[1m(\u001b[0m\u001b[1;36m1\u001b[0m, \u001b[1;36m0\u001b[0m\u001b[1m)\u001b[0m, backward method: \u001b[3;35mNone\u001b[0m                   \u001b]8;id=100473;file:///Users/giacomomagni/.conda/envs/yad_dev/lib/python3.10/site-packages/eko/evolution_operator/operator_matrix_element.py\u001b\\\u001b[2moperator_matrix_element.py\u001b[0m\u001b]8;;\u001b\\\u001b[2m:\u001b[0m\u001b]8;id=920138;file:///Users/giacomomagni/.conda/envs/yad_dev/lib/python3.10/site-packages/eko/evolution_operator/operator_matrix_element.py#327\u001b\\\u001b[2m327\u001b[0m\u001b]8;;\u001b\\\n"
      ]
     },
     "metadata": {},
     "output_type": "display_data"
    },
    {
     "data": {
      "text/html": [
       "<pre style=\"white-space:pre;overflow-x:auto;line-height:normal;font-family:Menlo,'DejaVu Sans Mono',consolas,'Courier New',monospace\"><span style=\"color: #7fbfbf; text-decoration-color: #7fbfbf\">[15:31:41] </span><span style=\"color: #000080; text-decoration-color: #000080\">INFO    </span> Matching: Total time <span style=\"color: #008080; text-decoration-color: #008080; font-weight: bold\">13.032816</span> s                                                <a href=\"file:///Users/giacomomagni/.conda/envs/yad_dev/lib/python3.10/site-packages/eko/evolution_operator/__init__.py\" target=\"_blank\"><span style=\"color: #7f7f7f; text-decoration-color: #7f7f7f\">__init__.py</span></a><span style=\"color: #7f7f7f; text-decoration-color: #7f7f7f\">:</span><a href=\"file:///Users/giacomomagni/.conda/envs/yad_dev/lib/python3.10/site-packages/eko/evolution_operator/__init__.py#982\" target=\"_blank\"><span style=\"color: #7f7f7f; text-decoration-color: #7f7f7f\">982</span></a>\n",
       "</pre>\n"
      ],
      "text/plain": [
       "\u001b[2;36m[15:31:41]\u001b[0m\u001b[2;36m \u001b[0m\u001b[34mINFO    \u001b[0m Matching: Total time \u001b[1;36m13.032816\u001b[0m s                                                \u001b]8;id=250798;file:///Users/giacomomagni/.conda/envs/yad_dev/lib/python3.10/site-packages/eko/evolution_operator/__init__.py\u001b\\\u001b[2m__init__.py\u001b[0m\u001b]8;;\u001b\\\u001b[2m:\u001b[0m\u001b]8;id=448606;file:///Users/giacomomagni/.conda/envs/yad_dev/lib/python3.10/site-packages/eko/evolution_operator/__init__.py#982\u001b\\\u001b[2m982\u001b[0m\u001b]8;;\u001b\\\n"
      ]
     },
     "metadata": {},
     "output_type": "display_data"
    },
    {
     "data": {
      "text/html": [
       "<pre style=\"white-space:pre;overflow-x:auto;line-height:normal;font-family:Menlo,'DejaVu Sans Mono',consolas,'Courier New',monospace\"><span style=\"color: #7fbfbf; text-decoration-color: #7fbfbf\">           </span><span style=\"color: #000080; text-decoration-color: #000080\">INFO    </span> Evolution: computing operators <span style=\"color: #008080; text-decoration-color: #008080; font-weight: bold\">2.420640e+01</span> -&gt; <span style=\"color: #008080; text-decoration-color: #008080; font-weight: bold\">1.000000e+02</span>, <span style=\"color: #808000; text-decoration-color: #808000\">nf</span>=<span style=\"color: #008080; text-decoration-color: #008080; font-weight: bold\">5</span>               <a href=\"file:///Users/giacomomagni/.conda/envs/yad_dev/lib/python3.10/site-packages/eko/evolution_operator/__init__.py\" target=\"_blank\"><span style=\"color: #7f7f7f; text-decoration-color: #7f7f7f\">__init__.py</span></a><span style=\"color: #7f7f7f; text-decoration-color: #7f7f7f\">:</span><a href=\"file:///Users/giacomomagni/.conda/envs/yad_dev/lib/python3.10/site-packages/eko/evolution_operator/__init__.py#917\" target=\"_blank\"><span style=\"color: #7f7f7f; text-decoration-color: #7f7f7f\">917</span></a>\n",
       "</pre>\n"
      ],
      "text/plain": [
       "\u001b[2;36m          \u001b[0m\u001b[2;36m \u001b[0m\u001b[34mINFO    \u001b[0m Evolution: computing operators \u001b[1;36m2.420640e+01\u001b[0m -> \u001b[1;36m1.000000e+02\u001b[0m, \u001b[33mnf\u001b[0m=\u001b[1;36m5\u001b[0m               \u001b]8;id=570485;file:///Users/giacomomagni/.conda/envs/yad_dev/lib/python3.10/site-packages/eko/evolution_operator/__init__.py\u001b\\\u001b[2m__init__.py\u001b[0m\u001b]8;;\u001b\\\u001b[2m:\u001b[0m\u001b]8;id=297076;file:///Users/giacomomagni/.conda/envs/yad_dev/lib/python3.10/site-packages/eko/evolution_operator/__init__.py#917\u001b\\\u001b[2m917\u001b[0m\u001b]8;;\u001b\\\n"
      ]
     },
     "metadata": {},
     "output_type": "display_data"
    },
    {
     "data": {
      "text/html": [
       "<pre style=\"white-space:pre;overflow-x:auto;line-height:normal;font-family:Menlo,'DejaVu Sans Mono',consolas,'Courier New',monospace\"><span style=\"color: #7fbfbf; text-decoration-color: #7fbfbf\">           </span><span style=\"color: #000080; text-decoration-color: #000080\">INFO    </span> Evolution: µ_R^<span style=\"color: #008080; text-decoration-color: #008080; font-weight: bold\">2</span> distance: <span style=\"color: #008080; text-decoration-color: #008080; font-weight: bold\">2.420640e+01</span> -&gt; <span style=\"color: #008080; text-decoration-color: #008080; font-weight: bold\">1.000000e+02</span>                         <a href=\"file:///Users/giacomomagni/.conda/envs/yad_dev/lib/python3.10/site-packages/eko/evolution_operator/__init__.py\" target=\"_blank\"><span style=\"color: #7f7f7f; text-decoration-color: #7f7f7f\">__init__.py</span></a><span style=\"color: #7f7f7f; text-decoration-color: #7f7f7f\">:</span><a href=\"file:///Users/giacomomagni/.conda/envs/yad_dev/lib/python3.10/site-packages/eko/evolution_operator/__init__.py#924\" target=\"_blank\"><span style=\"color: #7f7f7f; text-decoration-color: #7f7f7f\">924</span></a>\n",
       "</pre>\n"
      ],
      "text/plain": [
       "\u001b[2;36m          \u001b[0m\u001b[2;36m \u001b[0m\u001b[34mINFO    \u001b[0m Evolution: µ_R^\u001b[1;36m2\u001b[0m distance: \u001b[1;36m2.420640e+01\u001b[0m -> \u001b[1;36m1.000000e+02\u001b[0m                         \u001b]8;id=150024;file:///Users/giacomomagni/.conda/envs/yad_dev/lib/python3.10/site-packages/eko/evolution_operator/__init__.py\u001b\\\u001b[2m__init__.py\u001b[0m\u001b]8;;\u001b\\\u001b[2m:\u001b[0m\u001b]8;id=654287;file:///Users/giacomomagni/.conda/envs/yad_dev/lib/python3.10/site-packages/eko/evolution_operator/__init__.py#924\u001b\\\u001b[2m924\u001b[0m\u001b]8;;\u001b\\\n"
      ]
     },
     "metadata": {},
     "output_type": "display_data"
    },
    {
     "data": {
      "text/html": [
       "<pre style=\"white-space:pre;overflow-x:auto;line-height:normal;font-family:Menlo,'DejaVu Sans Mono',consolas,'Courier New',monospace\"><span style=\"color: #7fbfbf; text-decoration-color: #7fbfbf\">           </span><span style=\"color: #000080; text-decoration-color: #000080\">INFO    </span> Evolution: a_s distance: <span style=\"color: #008080; text-decoration-color: #008080; font-weight: bold\">1.697192e-02</span> -&gt; <span style=\"color: #008080; text-decoration-color: #008080; font-weight: bold\">1.415523e-02</span>                           <a href=\"file:///Users/giacomomagni/.conda/envs/yad_dev/lib/python3.10/site-packages/eko/evolution_operator/__init__.py\" target=\"_blank\"><span style=\"color: #7f7f7f; text-decoration-color: #7f7f7f\">__init__.py</span></a><span style=\"color: #7f7f7f; text-decoration-color: #7f7f7f\">:</span><a href=\"file:///Users/giacomomagni/.conda/envs/yad_dev/lib/python3.10/site-packages/eko/evolution_operator/__init__.py#936\" target=\"_blank\"><span style=\"color: #7f7f7f; text-decoration-color: #7f7f7f\">936</span></a>\n",
       "</pre>\n"
      ],
      "text/plain": [
       "\u001b[2;36m          \u001b[0m\u001b[2;36m \u001b[0m\u001b[34mINFO    \u001b[0m Evolution: a_s distance: \u001b[1;36m1.697192e-02\u001b[0m -> \u001b[1;36m1.415523e-02\u001b[0m                           \u001b]8;id=319065;file:///Users/giacomomagni/.conda/envs/yad_dev/lib/python3.10/site-packages/eko/evolution_operator/__init__.py\u001b\\\u001b[2m__init__.py\u001b[0m\u001b]8;;\u001b\\\u001b[2m:\u001b[0m\u001b]8;id=264739;file:///Users/giacomomagni/.conda/envs/yad_dev/lib/python3.10/site-packages/eko/evolution_operator/__init__.py#936\u001b\\\u001b[2m936\u001b[0m\u001b]8;;\u001b\\\n"
      ]
     },
     "metadata": {},
     "output_type": "display_data"
    },
    {
     "data": {
      "text/html": [
       "<pre style=\"white-space:pre;overflow-x:auto;line-height:normal;font-family:Menlo,'DejaVu Sans Mono',consolas,'Courier New',monospace\"><span style=\"color: #7fbfbf; text-decoration-color: #7fbfbf\">           </span><span style=\"color: #000080; text-decoration-color: #000080\">INFO    </span> Evolution: order: <span style=\"font-weight: bold\">(</span><span style=\"color: #008080; text-decoration-color: #008080; font-weight: bold\">2</span>, <span style=\"color: #008080; text-decoration-color: #008080; font-weight: bold\">0</span><span style=\"font-weight: bold\">)</span>, solution strategy: iterate-exact, use fhmruvv: <span style=\"color: #ff0000; text-decoration-color: #ff0000; font-style: italic\">False</span>  <a href=\"file:///Users/giacomomagni/.conda/envs/yad_dev/lib/python3.10/site-packages/eko/evolution_operator/__init__.py\" target=\"_blank\"><span style=\"color: #7f7f7f; text-decoration-color: #7f7f7f\">__init__.py</span></a><span style=\"color: #7f7f7f; text-decoration-color: #7f7f7f\">:</span><a href=\"file:///Users/giacomomagni/.conda/envs/yad_dev/lib/python3.10/site-packages/eko/evolution_operator/__init__.py#946\" target=\"_blank\"><span style=\"color: #7f7f7f; text-decoration-color: #7f7f7f\">946</span></a>\n",
       "</pre>\n"
      ],
      "text/plain": [
       "\u001b[2;36m          \u001b[0m\u001b[2;36m \u001b[0m\u001b[34mINFO    \u001b[0m Evolution: order: \u001b[1m(\u001b[0m\u001b[1;36m2\u001b[0m, \u001b[1;36m0\u001b[0m\u001b[1m)\u001b[0m, solution strategy: iterate-exact, use fhmruvv: \u001b[3;91mFalse\u001b[0m  \u001b]8;id=97685;file:///Users/giacomomagni/.conda/envs/yad_dev/lib/python3.10/site-packages/eko/evolution_operator/__init__.py\u001b\\\u001b[2m__init__.py\u001b[0m\u001b]8;;\u001b\\\u001b[2m:\u001b[0m\u001b]8;id=104348;file:///Users/giacomomagni/.conda/envs/yad_dev/lib/python3.10/site-packages/eko/evolution_operator/__init__.py#946\u001b\\\u001b[2m946\u001b[0m\u001b]8;;\u001b\\\n"
      ]
     },
     "metadata": {},
     "output_type": "display_data"
    },
    {
     "data": {
      "text/html": [
       "<pre style=\"white-space:pre;overflow-x:auto;line-height:normal;font-family:Menlo,'DejaVu Sans Mono',consolas,'Courier New',monospace\"><span style=\"color: #7fbfbf; text-decoration-color: #7fbfbf\">[15:31:49] </span><span style=\"color: #000080; text-decoration-color: #000080\">INFO    </span> Evolution: Total time <span style=\"color: #008080; text-decoration-color: #008080; font-weight: bold\">8.292476</span> s                                                <a href=\"file:///Users/giacomomagni/.conda/envs/yad_dev/lib/python3.10/site-packages/eko/evolution_operator/__init__.py\" target=\"_blank\"><span style=\"color: #7f7f7f; text-decoration-color: #7f7f7f\">__init__.py</span></a><span style=\"color: #7f7f7f; text-decoration-color: #7f7f7f\">:</span><a href=\"file:///Users/giacomomagni/.conda/envs/yad_dev/lib/python3.10/site-packages/eko/evolution_operator/__init__.py#982\" target=\"_blank\"><span style=\"color: #7f7f7f; text-decoration-color: #7f7f7f\">982</span></a>\n",
       "</pre>\n"
      ],
      "text/plain": [
       "\u001b[2;36m[15:31:49]\u001b[0m\u001b[2;36m \u001b[0m\u001b[34mINFO    \u001b[0m Evolution: Total time \u001b[1;36m8.292476\u001b[0m s                                                \u001b]8;id=221679;file:///Users/giacomomagni/.conda/envs/yad_dev/lib/python3.10/site-packages/eko/evolution_operator/__init__.py\u001b\\\u001b[2m__init__.py\u001b[0m\u001b]8;;\u001b\\\u001b[2m:\u001b[0m\u001b]8;id=829022;file:///Users/giacomomagni/.conda/envs/yad_dev/lib/python3.10/site-packages/eko/evolution_operator/__init__.py#982\u001b\\\u001b[2m982\u001b[0m\u001b]8;;\u001b\\\n"
      ]
     },
     "metadata": {},
     "output_type": "display_data"
    },
    {
     "data": {
      "text/html": [
       "<pre style=\"white-space:pre;overflow-x:auto;line-height:normal;font-family:Menlo,'DejaVu Sans Mono',consolas,'Courier New',monospace\"><span style=\"color: #7fbfbf; text-decoration-color: #7fbfbf\">           </span><span style=\"color: #000080; text-decoration-color: #000080\">INFO    </span> Evolution: computing operators <span style=\"color: #008080; text-decoration-color: #008080; font-weight: bold\">2.420640e+01</span> -&gt; <span style=\"color: #008080; text-decoration-color: #008080; font-weight: bold\">2.250000e+02</span>, <span style=\"color: #808000; text-decoration-color: #808000\">nf</span>=<span style=\"color: #008080; text-decoration-color: #008080; font-weight: bold\">5</span>               <a href=\"file:///Users/giacomomagni/.conda/envs/yad_dev/lib/python3.10/site-packages/eko/evolution_operator/__init__.py\" target=\"_blank\"><span style=\"color: #7f7f7f; text-decoration-color: #7f7f7f\">__init__.py</span></a><span style=\"color: #7f7f7f; text-decoration-color: #7f7f7f\">:</span><a href=\"file:///Users/giacomomagni/.conda/envs/yad_dev/lib/python3.10/site-packages/eko/evolution_operator/__init__.py#917\" target=\"_blank\"><span style=\"color: #7f7f7f; text-decoration-color: #7f7f7f\">917</span></a>\n",
       "</pre>\n"
      ],
      "text/plain": [
       "\u001b[2;36m          \u001b[0m\u001b[2;36m \u001b[0m\u001b[34mINFO    \u001b[0m Evolution: computing operators \u001b[1;36m2.420640e+01\u001b[0m -> \u001b[1;36m2.250000e+02\u001b[0m, \u001b[33mnf\u001b[0m=\u001b[1;36m5\u001b[0m               \u001b]8;id=34299;file:///Users/giacomomagni/.conda/envs/yad_dev/lib/python3.10/site-packages/eko/evolution_operator/__init__.py\u001b\\\u001b[2m__init__.py\u001b[0m\u001b]8;;\u001b\\\u001b[2m:\u001b[0m\u001b]8;id=452037;file:///Users/giacomomagni/.conda/envs/yad_dev/lib/python3.10/site-packages/eko/evolution_operator/__init__.py#917\u001b\\\u001b[2m917\u001b[0m\u001b]8;;\u001b\\\n"
      ]
     },
     "metadata": {},
     "output_type": "display_data"
    },
    {
     "data": {
      "text/html": [
       "<pre style=\"white-space:pre;overflow-x:auto;line-height:normal;font-family:Menlo,'DejaVu Sans Mono',consolas,'Courier New',monospace\"><span style=\"color: #7fbfbf; text-decoration-color: #7fbfbf\">           </span><span style=\"color: #000080; text-decoration-color: #000080\">INFO    </span> Evolution: µ_R^<span style=\"color: #008080; text-decoration-color: #008080; font-weight: bold\">2</span> distance: <span style=\"color: #008080; text-decoration-color: #008080; font-weight: bold\">2.420640e+01</span> -&gt; <span style=\"color: #008080; text-decoration-color: #008080; font-weight: bold\">2.250000e+02</span>                         <a href=\"file:///Users/giacomomagni/.conda/envs/yad_dev/lib/python3.10/site-packages/eko/evolution_operator/__init__.py\" target=\"_blank\"><span style=\"color: #7f7f7f; text-decoration-color: #7f7f7f\">__init__.py</span></a><span style=\"color: #7f7f7f; text-decoration-color: #7f7f7f\">:</span><a href=\"file:///Users/giacomomagni/.conda/envs/yad_dev/lib/python3.10/site-packages/eko/evolution_operator/__init__.py#924\" target=\"_blank\"><span style=\"color: #7f7f7f; text-decoration-color: #7f7f7f\">924</span></a>\n",
       "</pre>\n"
      ],
      "text/plain": [
       "\u001b[2;36m          \u001b[0m\u001b[2;36m \u001b[0m\u001b[34mINFO    \u001b[0m Evolution: µ_R^\u001b[1;36m2\u001b[0m distance: \u001b[1;36m2.420640e+01\u001b[0m -> \u001b[1;36m2.250000e+02\u001b[0m                         \u001b]8;id=377688;file:///Users/giacomomagni/.conda/envs/yad_dev/lib/python3.10/site-packages/eko/evolution_operator/__init__.py\u001b\\\u001b[2m__init__.py\u001b[0m\u001b]8;;\u001b\\\u001b[2m:\u001b[0m\u001b]8;id=852910;file:///Users/giacomomagni/.conda/envs/yad_dev/lib/python3.10/site-packages/eko/evolution_operator/__init__.py#924\u001b\\\u001b[2m924\u001b[0m\u001b]8;;\u001b\\\n"
      ]
     },
     "metadata": {},
     "output_type": "display_data"
    },
    {
     "data": {
      "text/html": [
       "<pre style=\"white-space:pre;overflow-x:auto;line-height:normal;font-family:Menlo,'DejaVu Sans Mono',consolas,'Courier New',monospace\"><span style=\"color: #7fbfbf; text-decoration-color: #7fbfbf\">           </span><span style=\"color: #000080; text-decoration-color: #000080\">INFO    </span> Evolution: a_s distance: <span style=\"color: #008080; text-decoration-color: #008080; font-weight: bold\">1.697192e-02</span> -&gt; <span style=\"color: #008080; text-decoration-color: #008080; font-weight: bold\">1.293886e-02</span>                           <a href=\"file:///Users/giacomomagni/.conda/envs/yad_dev/lib/python3.10/site-packages/eko/evolution_operator/__init__.py\" target=\"_blank\"><span style=\"color: #7f7f7f; text-decoration-color: #7f7f7f\">__init__.py</span></a><span style=\"color: #7f7f7f; text-decoration-color: #7f7f7f\">:</span><a href=\"file:///Users/giacomomagni/.conda/envs/yad_dev/lib/python3.10/site-packages/eko/evolution_operator/__init__.py#936\" target=\"_blank\"><span style=\"color: #7f7f7f; text-decoration-color: #7f7f7f\">936</span></a>\n",
       "</pre>\n"
      ],
      "text/plain": [
       "\u001b[2;36m          \u001b[0m\u001b[2;36m \u001b[0m\u001b[34mINFO    \u001b[0m Evolution: a_s distance: \u001b[1;36m1.697192e-02\u001b[0m -> \u001b[1;36m1.293886e-02\u001b[0m                           \u001b]8;id=850635;file:///Users/giacomomagni/.conda/envs/yad_dev/lib/python3.10/site-packages/eko/evolution_operator/__init__.py\u001b\\\u001b[2m__init__.py\u001b[0m\u001b]8;;\u001b\\\u001b[2m:\u001b[0m\u001b]8;id=870093;file:///Users/giacomomagni/.conda/envs/yad_dev/lib/python3.10/site-packages/eko/evolution_operator/__init__.py#936\u001b\\\u001b[2m936\u001b[0m\u001b]8;;\u001b\\\n"
      ]
     },
     "metadata": {},
     "output_type": "display_data"
    },
    {
     "data": {
      "text/html": [
       "<pre style=\"white-space:pre;overflow-x:auto;line-height:normal;font-family:Menlo,'DejaVu Sans Mono',consolas,'Courier New',monospace\"><span style=\"color: #7fbfbf; text-decoration-color: #7fbfbf\">           </span><span style=\"color: #000080; text-decoration-color: #000080\">INFO    </span> Evolution: order: <span style=\"font-weight: bold\">(</span><span style=\"color: #008080; text-decoration-color: #008080; font-weight: bold\">2</span>, <span style=\"color: #008080; text-decoration-color: #008080; font-weight: bold\">0</span><span style=\"font-weight: bold\">)</span>, solution strategy: iterate-exact, use fhmruvv: <span style=\"color: #ff0000; text-decoration-color: #ff0000; font-style: italic\">False</span>  <a href=\"file:///Users/giacomomagni/.conda/envs/yad_dev/lib/python3.10/site-packages/eko/evolution_operator/__init__.py\" target=\"_blank\"><span style=\"color: #7f7f7f; text-decoration-color: #7f7f7f\">__init__.py</span></a><span style=\"color: #7f7f7f; text-decoration-color: #7f7f7f\">:</span><a href=\"file:///Users/giacomomagni/.conda/envs/yad_dev/lib/python3.10/site-packages/eko/evolution_operator/__init__.py#946\" target=\"_blank\"><span style=\"color: #7f7f7f; text-decoration-color: #7f7f7f\">946</span></a>\n",
       "</pre>\n"
      ],
      "text/plain": [
       "\u001b[2;36m          \u001b[0m\u001b[2;36m \u001b[0m\u001b[34mINFO    \u001b[0m Evolution: order: \u001b[1m(\u001b[0m\u001b[1;36m2\u001b[0m, \u001b[1;36m0\u001b[0m\u001b[1m)\u001b[0m, solution strategy: iterate-exact, use fhmruvv: \u001b[3;91mFalse\u001b[0m  \u001b]8;id=264542;file:///Users/giacomomagni/.conda/envs/yad_dev/lib/python3.10/site-packages/eko/evolution_operator/__init__.py\u001b\\\u001b[2m__init__.py\u001b[0m\u001b]8;;\u001b\\\u001b[2m:\u001b[0m\u001b]8;id=59873;file:///Users/giacomomagni/.conda/envs/yad_dev/lib/python3.10/site-packages/eko/evolution_operator/__init__.py#946\u001b\\\u001b[2m946\u001b[0m\u001b]8;;\u001b\\\n"
      ]
     },
     "metadata": {},
     "output_type": "display_data"
    },
    {
     "data": {
      "text/html": [
       "<pre style=\"white-space:pre;overflow-x:auto;line-height:normal;font-family:Menlo,'DejaVu Sans Mono',consolas,'Courier New',monospace\"><span style=\"color: #7fbfbf; text-decoration-color: #7fbfbf\">[15:31:58] </span><span style=\"color: #000080; text-decoration-color: #000080\">INFO    </span> Evolution: Total time <span style=\"color: #008080; text-decoration-color: #008080; font-weight: bold\">8.344759</span> s                                                <a href=\"file:///Users/giacomomagni/.conda/envs/yad_dev/lib/python3.10/site-packages/eko/evolution_operator/__init__.py\" target=\"_blank\"><span style=\"color: #7f7f7f; text-decoration-color: #7f7f7f\">__init__.py</span></a><span style=\"color: #7f7f7f; text-decoration-color: #7f7f7f\">:</span><a href=\"file:///Users/giacomomagni/.conda/envs/yad_dev/lib/python3.10/site-packages/eko/evolution_operator/__init__.py#982\" target=\"_blank\"><span style=\"color: #7f7f7f; text-decoration-color: #7f7f7f\">982</span></a>\n",
       "</pre>\n"
      ],
      "text/plain": [
       "\u001b[2;36m[15:31:58]\u001b[0m\u001b[2;36m \u001b[0m\u001b[34mINFO    \u001b[0m Evolution: Total time \u001b[1;36m8.344759\u001b[0m s                                                \u001b]8;id=236389;file:///Users/giacomomagni/.conda/envs/yad_dev/lib/python3.10/site-packages/eko/evolution_operator/__init__.py\u001b\\\u001b[2m__init__.py\u001b[0m\u001b]8;;\u001b\\\u001b[2m:\u001b[0m\u001b]8;id=827557;file:///Users/giacomomagni/.conda/envs/yad_dev/lib/python3.10/site-packages/eko/evolution_operator/__init__.py#982\u001b\\\u001b[2m982\u001b[0m\u001b]8;;\u001b\\\n"
      ]
     },
     "metadata": {},
     "output_type": "display_data"
    },
    {
     "data": {
      "text/html": [
       "<pre style=\"white-space:pre;overflow-x:auto;line-height:normal;font-family:Menlo,'DejaVu Sans Mono',consolas,'Courier New',monospace\"><span style=\"color: #7fbfbf; text-decoration-color: #7fbfbf\">           </span><span style=\"color: #000080; text-decoration-color: #000080\">INFO    </span> Evolution: computing operators <span style=\"color: #008080; text-decoration-color: #008080; font-weight: bold\">2.420640e+01</span> -&gt; <span style=\"color: #008080; text-decoration-color: #008080; font-weight: bold\">4.000000e+02</span>, <span style=\"color: #808000; text-decoration-color: #808000\">nf</span>=<span style=\"color: #008080; text-decoration-color: #008080; font-weight: bold\">5</span>               <a href=\"file:///Users/giacomomagni/.conda/envs/yad_dev/lib/python3.10/site-packages/eko/evolution_operator/__init__.py\" target=\"_blank\"><span style=\"color: #7f7f7f; text-decoration-color: #7f7f7f\">__init__.py</span></a><span style=\"color: #7f7f7f; text-decoration-color: #7f7f7f\">:</span><a href=\"file:///Users/giacomomagni/.conda/envs/yad_dev/lib/python3.10/site-packages/eko/evolution_operator/__init__.py#917\" target=\"_blank\"><span style=\"color: #7f7f7f; text-decoration-color: #7f7f7f\">917</span></a>\n",
       "</pre>\n"
      ],
      "text/plain": [
       "\u001b[2;36m          \u001b[0m\u001b[2;36m \u001b[0m\u001b[34mINFO    \u001b[0m Evolution: computing operators \u001b[1;36m2.420640e+01\u001b[0m -> \u001b[1;36m4.000000e+02\u001b[0m, \u001b[33mnf\u001b[0m=\u001b[1;36m5\u001b[0m               \u001b]8;id=905310;file:///Users/giacomomagni/.conda/envs/yad_dev/lib/python3.10/site-packages/eko/evolution_operator/__init__.py\u001b\\\u001b[2m__init__.py\u001b[0m\u001b]8;;\u001b\\\u001b[2m:\u001b[0m\u001b]8;id=706175;file:///Users/giacomomagni/.conda/envs/yad_dev/lib/python3.10/site-packages/eko/evolution_operator/__init__.py#917\u001b\\\u001b[2m917\u001b[0m\u001b]8;;\u001b\\\n"
      ]
     },
     "metadata": {},
     "output_type": "display_data"
    },
    {
     "data": {
      "text/html": [
       "<pre style=\"white-space:pre;overflow-x:auto;line-height:normal;font-family:Menlo,'DejaVu Sans Mono',consolas,'Courier New',monospace\"><span style=\"color: #7fbfbf; text-decoration-color: #7fbfbf\">           </span><span style=\"color: #000080; text-decoration-color: #000080\">INFO    </span> Evolution: µ_R^<span style=\"color: #008080; text-decoration-color: #008080; font-weight: bold\">2</span> distance: <span style=\"color: #008080; text-decoration-color: #008080; font-weight: bold\">2.420640e+01</span> -&gt; <span style=\"color: #008080; text-decoration-color: #008080; font-weight: bold\">4.000000e+02</span>                         <a href=\"file:///Users/giacomomagni/.conda/envs/yad_dev/lib/python3.10/site-packages/eko/evolution_operator/__init__.py\" target=\"_blank\"><span style=\"color: #7f7f7f; text-decoration-color: #7f7f7f\">__init__.py</span></a><span style=\"color: #7f7f7f; text-decoration-color: #7f7f7f\">:</span><a href=\"file:///Users/giacomomagni/.conda/envs/yad_dev/lib/python3.10/site-packages/eko/evolution_operator/__init__.py#924\" target=\"_blank\"><span style=\"color: #7f7f7f; text-decoration-color: #7f7f7f\">924</span></a>\n",
       "</pre>\n"
      ],
      "text/plain": [
       "\u001b[2;36m          \u001b[0m\u001b[2;36m \u001b[0m\u001b[34mINFO    \u001b[0m Evolution: µ_R^\u001b[1;36m2\u001b[0m distance: \u001b[1;36m2.420640e+01\u001b[0m -> \u001b[1;36m4.000000e+02\u001b[0m                         \u001b]8;id=547266;file:///Users/giacomomagni/.conda/envs/yad_dev/lib/python3.10/site-packages/eko/evolution_operator/__init__.py\u001b\\\u001b[2m__init__.py\u001b[0m\u001b]8;;\u001b\\\u001b[2m:\u001b[0m\u001b]8;id=251433;file:///Users/giacomomagni/.conda/envs/yad_dev/lib/python3.10/site-packages/eko/evolution_operator/__init__.py#924\u001b\\\u001b[2m924\u001b[0m\u001b]8;;\u001b\\\n"
      ]
     },
     "metadata": {},
     "output_type": "display_data"
    },
    {
     "data": {
      "text/html": [
       "<pre style=\"white-space:pre;overflow-x:auto;line-height:normal;font-family:Menlo,'DejaVu Sans Mono',consolas,'Courier New',monospace\"><span style=\"color: #7fbfbf; text-decoration-color: #7fbfbf\">           </span><span style=\"color: #000080; text-decoration-color: #000080\">INFO    </span> Evolution: a_s distance: <span style=\"color: #008080; text-decoration-color: #008080; font-weight: bold\">1.697192e-02</span> -&gt; <span style=\"color: #008080; text-decoration-color: #008080; font-weight: bold\">1.219852e-02</span>                           <a href=\"file:///Users/giacomomagni/.conda/envs/yad_dev/lib/python3.10/site-packages/eko/evolution_operator/__init__.py\" target=\"_blank\"><span style=\"color: #7f7f7f; text-decoration-color: #7f7f7f\">__init__.py</span></a><span style=\"color: #7f7f7f; text-decoration-color: #7f7f7f\">:</span><a href=\"file:///Users/giacomomagni/.conda/envs/yad_dev/lib/python3.10/site-packages/eko/evolution_operator/__init__.py#936\" target=\"_blank\"><span style=\"color: #7f7f7f; text-decoration-color: #7f7f7f\">936</span></a>\n",
       "</pre>\n"
      ],
      "text/plain": [
       "\u001b[2;36m          \u001b[0m\u001b[2;36m \u001b[0m\u001b[34mINFO    \u001b[0m Evolution: a_s distance: \u001b[1;36m1.697192e-02\u001b[0m -> \u001b[1;36m1.219852e-02\u001b[0m                           \u001b]8;id=303143;file:///Users/giacomomagni/.conda/envs/yad_dev/lib/python3.10/site-packages/eko/evolution_operator/__init__.py\u001b\\\u001b[2m__init__.py\u001b[0m\u001b]8;;\u001b\\\u001b[2m:\u001b[0m\u001b]8;id=153702;file:///Users/giacomomagni/.conda/envs/yad_dev/lib/python3.10/site-packages/eko/evolution_operator/__init__.py#936\u001b\\\u001b[2m936\u001b[0m\u001b]8;;\u001b\\\n"
      ]
     },
     "metadata": {},
     "output_type": "display_data"
    },
    {
     "data": {
      "text/html": [
       "<pre style=\"white-space:pre;overflow-x:auto;line-height:normal;font-family:Menlo,'DejaVu Sans Mono',consolas,'Courier New',monospace\"><span style=\"color: #7fbfbf; text-decoration-color: #7fbfbf\">           </span><span style=\"color: #000080; text-decoration-color: #000080\">INFO    </span> Evolution: order: <span style=\"font-weight: bold\">(</span><span style=\"color: #008080; text-decoration-color: #008080; font-weight: bold\">2</span>, <span style=\"color: #008080; text-decoration-color: #008080; font-weight: bold\">0</span><span style=\"font-weight: bold\">)</span>, solution strategy: iterate-exact, use fhmruvv: <span style=\"color: #ff0000; text-decoration-color: #ff0000; font-style: italic\">False</span>  <a href=\"file:///Users/giacomomagni/.conda/envs/yad_dev/lib/python3.10/site-packages/eko/evolution_operator/__init__.py\" target=\"_blank\"><span style=\"color: #7f7f7f; text-decoration-color: #7f7f7f\">__init__.py</span></a><span style=\"color: #7f7f7f; text-decoration-color: #7f7f7f\">:</span><a href=\"file:///Users/giacomomagni/.conda/envs/yad_dev/lib/python3.10/site-packages/eko/evolution_operator/__init__.py#946\" target=\"_blank\"><span style=\"color: #7f7f7f; text-decoration-color: #7f7f7f\">946</span></a>\n",
       "</pre>\n"
      ],
      "text/plain": [
       "\u001b[2;36m          \u001b[0m\u001b[2;36m \u001b[0m\u001b[34mINFO    \u001b[0m Evolution: order: \u001b[1m(\u001b[0m\u001b[1;36m2\u001b[0m, \u001b[1;36m0\u001b[0m\u001b[1m)\u001b[0m, solution strategy: iterate-exact, use fhmruvv: \u001b[3;91mFalse\u001b[0m  \u001b]8;id=555893;file:///Users/giacomomagni/.conda/envs/yad_dev/lib/python3.10/site-packages/eko/evolution_operator/__init__.py\u001b\\\u001b[2m__init__.py\u001b[0m\u001b]8;;\u001b\\\u001b[2m:\u001b[0m\u001b]8;id=33455;file:///Users/giacomomagni/.conda/envs/yad_dev/lib/python3.10/site-packages/eko/evolution_operator/__init__.py#946\u001b\\\u001b[2m946\u001b[0m\u001b]8;;\u001b\\\n"
      ]
     },
     "metadata": {},
     "output_type": "display_data"
    },
    {
     "data": {
      "text/html": [
       "<pre style=\"white-space:pre;overflow-x:auto;line-height:normal;font-family:Menlo,'DejaVu Sans Mono',consolas,'Courier New',monospace\"><span style=\"color: #7fbfbf; text-decoration-color: #7fbfbf\">[15:32:05] </span><span style=\"color: #000080; text-decoration-color: #000080\">INFO    </span> Evolution: Total time <span style=\"color: #008080; text-decoration-color: #008080; font-weight: bold\">7.532989</span> s                                                <a href=\"file:///Users/giacomomagni/.conda/envs/yad_dev/lib/python3.10/site-packages/eko/evolution_operator/__init__.py\" target=\"_blank\"><span style=\"color: #7f7f7f; text-decoration-color: #7f7f7f\">__init__.py</span></a><span style=\"color: #7f7f7f; text-decoration-color: #7f7f7f\">:</span><a href=\"file:///Users/giacomomagni/.conda/envs/yad_dev/lib/python3.10/site-packages/eko/evolution_operator/__init__.py#982\" target=\"_blank\"><span style=\"color: #7f7f7f; text-decoration-color: #7f7f7f\">982</span></a>\n",
       "</pre>\n"
      ],
      "text/plain": [
       "\u001b[2;36m[15:32:05]\u001b[0m\u001b[2;36m \u001b[0m\u001b[34mINFO    \u001b[0m Evolution: Total time \u001b[1;36m7.532989\u001b[0m s                                                \u001b]8;id=756929;file:///Users/giacomomagni/.conda/envs/yad_dev/lib/python3.10/site-packages/eko/evolution_operator/__init__.py\u001b\\\u001b[2m__init__.py\u001b[0m\u001b]8;;\u001b\\\u001b[2m:\u001b[0m\u001b]8;id=86890;file:///Users/giacomomagni/.conda/envs/yad_dev/lib/python3.10/site-packages/eko/evolution_operator/__init__.py#982\u001b\\\u001b[2m982\u001b[0m\u001b]8;;\u001b\\\n"
      ]
     },
     "metadata": {},
     "output_type": "display_data"
    },
    {
     "data": {
      "text/html": [
       "<pre style=\"white-space:pre;overflow-x:auto;line-height:normal;font-family:Menlo,'DejaVu Sans Mono',consolas,'Courier New',monospace\"><span style=\"color: #7fbfbf; text-decoration-color: #7fbfbf\">[15:32:06] </span><span style=\"color: #000080; text-decoration-color: #000080\">INFO    </span> Atlas <span style=\"font-weight: bold\">[</span><span style=\"color: #008080; text-decoration-color: #008080; font-weight: bold\">0.00e+00</span> - <span style=\"color: #008080; text-decoration-color: #008080; font-weight: bold\">2.28e+00</span> - <span style=\"color: #008080; text-decoration-color: #008080; font-weight: bold\">2.42e+01</span> - <span style=\"color: #008080; text-decoration-color: #008080; font-weight: bold\">2.98e+04</span> - inf<span style=\"font-weight: bold\">]</span>, <span style=\"color: #808000; text-decoration-color: #808000\">ref</span>=<span style=\"color: #008080; text-decoration-color: #008080; font-weight: bold\">8317.44</span> @ <span style=\"color: #008080; text-decoration-color: #008080; font-weight: bold\">5</span>        <a href=\"file:///Users/giacomomagni/.conda/envs/yad_dev/lib/python3.10/site-packages/eko/matchings.py\" target=\"_blank\"><span style=\"color: #7f7f7f; text-decoration-color: #7f7f7f\">matchings.py</span></a><span style=\"color: #7f7f7f; text-decoration-color: #7f7f7f\">:</span><a href=\"file:///Users/giacomomagni/.conda/envs/yad_dev/lib/python3.10/site-packages/eko/matchings.py#72\" target=\"_blank\"><span style=\"color: #7f7f7f; text-decoration-color: #7f7f7f\">72</span></a>\n",
       "</pre>\n"
      ],
      "text/plain": [
       "\u001b[2;36m[15:32:06]\u001b[0m\u001b[2;36m \u001b[0m\u001b[34mINFO    \u001b[0m Atlas \u001b[1m[\u001b[0m\u001b[1;36m0.00e+00\u001b[0m - \u001b[1;36m2.28e+00\u001b[0m - \u001b[1;36m2.42e+01\u001b[0m - \u001b[1;36m2.98e+04\u001b[0m - inf\u001b[1m]\u001b[0m, \u001b[33mref\u001b[0m=\u001b[1;36m8317\u001b[0m\u001b[1;36m.44\u001b[0m @ \u001b[1;36m5\u001b[0m        \u001b]8;id=33079;file:///Users/giacomomagni/.conda/envs/yad_dev/lib/python3.10/site-packages/eko/matchings.py\u001b\\\u001b[2mmatchings.py\u001b[0m\u001b]8;;\u001b\\\u001b[2m:\u001b[0m\u001b]8;id=78152;file:///Users/giacomomagni/.conda/envs/yad_dev/lib/python3.10/site-packages/eko/matchings.py#72\u001b\\\u001b[2m72\u001b[0m\u001b]8;;\u001b\\\n"
      ]
     },
     "metadata": {},
     "output_type": "display_data"
    },
    {
     "data": {
      "text/html": [
       "<pre style=\"white-space:pre;overflow-x:auto;line-height:normal;font-family:Menlo,'DejaVu Sans Mono',consolas,'Courier New',monospace\"><span style=\"color: #7fbfbf; text-decoration-color: #7fbfbf\">           </span><span style=\"color: #000080; text-decoration-color: #000080\">INFO    </span> Strong Coupling: <span style=\"color: #800080; text-decoration-color: #800080; font-weight: bold\">a_s</span><span style=\"font-weight: bold\">(</span>µ_R^<span style=\"color: #008080; text-decoration-color: #008080; font-weight: bold\">2</span>=<span style=\"color: #008080; text-decoration-color: #008080; font-weight: bold\">8317.440000</span><span style=\"font-weight: bold\">)</span>^<span style=\"font-weight: bold\">(</span><span style=\"color: #808000; text-decoration-color: #808000\">nf</span>=<span style=\"color: #008080; text-decoration-color: #008080; font-weight: bold\">5</span><span style=\"font-weight: bold\">)</span>=<span style=\"color: #008080; text-decoration-color: #008080; font-weight: bold\">0.009390</span>=<span style=\"color: #008080; text-decoration-color: #008080; font-weight: bold\">0.118000</span>/<span style=\"font-weight: bold\">(</span>4π<span style=\"font-weight: bold\">)</span>          <a href=\"file:///Users/giacomomagni/.conda/envs/yad_dev/lib/python3.10/site-packages/eko/couplings.py\" target=\"_blank\"><span style=\"color: #7f7f7f; text-decoration-color: #7f7f7f\">couplings.py</span></a><span style=\"color: #7f7f7f; text-decoration-color: #7f7f7f\">:</span><a href=\"file:///Users/giacomomagni/.conda/envs/yad_dev/lib/python3.10/site-packages/eko/couplings.py#464\" target=\"_blank\"><span style=\"color: #7f7f7f; text-decoration-color: #7f7f7f\">464</span></a>\n",
       "</pre>\n"
      ],
      "text/plain": [
       "\u001b[2;36m          \u001b[0m\u001b[2;36m \u001b[0m\u001b[34mINFO    \u001b[0m Strong Coupling: \u001b[1;35ma_s\u001b[0m\u001b[1m(\u001b[0mµ_R^\u001b[1;36m2\u001b[0m=\u001b[1;36m8317\u001b[0m\u001b[1;36m.440000\u001b[0m\u001b[1m)\u001b[0m^\u001b[1m(\u001b[0m\u001b[33mnf\u001b[0m=\u001b[1;36m5\u001b[0m\u001b[1m)\u001b[0m=\u001b[1;36m0.\u001b[0m\u001b[1;36m009390\u001b[0m=\u001b[1;36m0\u001b[0m\u001b[1;36m.118000\u001b[0m/\u001b[1m(\u001b[0m4π\u001b[1m)\u001b[0m          \u001b]8;id=266137;file:///Users/giacomomagni/.conda/envs/yad_dev/lib/python3.10/site-packages/eko/couplings.py\u001b\\\u001b[2mcouplings.py\u001b[0m\u001b]8;;\u001b\\\u001b[2m:\u001b[0m\u001b]8;id=576731;file:///Users/giacomomagni/.conda/envs/yad_dev/lib/python3.10/site-packages/eko/couplings.py#464\u001b\\\u001b[2m464\u001b[0m\u001b]8;;\u001b\\\n"
      ]
     },
     "metadata": {},
     "output_type": "display_data"
    },
    {
     "name": "stderr",
     "output_type": "stream",
     "text": [
      "Overwriting old PDF installation\n"
     ]
    },
    {
     "name": "stdout",
     "output_type": "stream",
     "text": [
      "install_pdf NNPDF40_evolved_nf5\n"
     ]
    }
   ],
   "source": [
    "import lhapdf\n",
    "import pathlib\n",
    "from eko.io import runcards\n",
    "from ekobox.evol_pdf import evolve_pdfs\n",
    "\n",
    "\n",
    "# Define the PDF for which we want to make the prediction\n",
    "# Here we take the replica 0 of NNPDF4.0 - remember to have it available via LHAPDF.\n",
    "# You can install it if necessary via `lhapdf get NNPDF40_nnlo_as_01180`.\n",
    "input_pdf = lhapdf.mkPDF(\"NNPDF40_nlo_as_01180\", 0)\n",
    "\n",
    "# Build eko-like runcards objects\n",
    "theory_card = runcards.Legacy(theorycard, {}).new_theory\n",
    "operators_card = runcards.OperatorCard.from_dict(operatorcard)\n",
    "\n",
    "# Iterate the flavor numbers\n",
    "for nf in [3, 4, 5]:\n",
    "    # Update the nf value in the mugrid\n",
    "    operators_card.mugrid = [(mu, nf) for (mu,_) in operators_card.mugrid]\n",
    "\n",
    "    eko_name = f\"eko_nf{nf}.tar\"\n",
    "    pathlib.Path(eko_name).unlink(missing_ok=True)\n",
    "    # Evolve the LHAPDF grid and store the output\n",
    "    evolve_pdfs(\n",
    "        initial_PDF_list=[input_pdf],\n",
    "        theory_card=theory_card,\n",
    "        operators_card=operators_card,\n",
    "        store_path=eko_name,  # where to store the eko\n",
    "        install=True, # Install in the evolved PDF in the LHAPDF directory\n",
    "        name=f\"NNPDF40_evolved_nf{nf}\",  # name of the evolved pdf\n",
    "    )"
   ]
  },
  {
   "cell_type": "markdown",
   "id": "1ec4dbbc",
   "metadata": {},
   "source": [
    "Next, we compute the coefficient functions using `yadism` and convolve them with the three PDFs generated in the script above. \n",
    "The example script works for `FONLL-A` and `FONLL-C` without damping. \n",
    "`FONLL-B` requires more care as one has to compute the same coefficient functions but at different perturbative orders.\n",
    "Also note that the script below just combines various FFNSs, but does not produce a full VFNS.\n",
    "For example, one might want to introduce here a dumping function to turn off e.g. $n_f=4$ contributions \n",
    "below the charm matching scale."
   ]
  },
  {
   "cell_type": "code",
   "execution_count": 84,
   "id": "0aec5c71",
   "metadata": {},
   "outputs": [
    {
     "name": "stdout",
     "output_type": "stream",
     "text": [
      "LHAPDF 6.5.0 loading /Users/giacomomagni/.conda/envs/yad_dev/share/LHAPDF/NNPDF40_evolved_nf3/NNPDF40_evolved_nf3_0000.dat\n",
      "NNPDF40_evolved_nf3 PDF set, member #0, version 1\n"
     ]
    },
    {
     "data": {
      "text/html": [
       "<pre style=\"white-space:pre;overflow-x:auto;line-height:normal;font-family:Menlo,'DejaVu Sans Mono',consolas,'Courier New',monospace\"><span style=\"color: #7fbfbf; text-decoration-color: #7fbfbf\">[15:32:10] </span><span style=\"color: #000080; text-decoration-color: #000080\">INFO    </span> Interpolation: number of points = <span style=\"color: #008080; text-decoration-color: #008080; font-weight: bold\">30</span>, polynomial degree = <span style=\"color: #008080; text-decoration-color: #008080; font-weight: bold\">4</span>, logarithmic = <a href=\"file:///Users/giacomomagni/.conda/envs/yad_dev/lib/python3.10/site-packages/eko/interpolation.py\" target=\"_blank\"><span style=\"color: #7f7f7f; text-decoration-color: #7f7f7f\">interpolation.py</span></a><span style=\"color: #7f7f7f; text-decoration-color: #7f7f7f\">:</span><a href=\"file:///Users/giacomomagni/.conda/envs/yad_dev/lib/python3.10/site-packages/eko/interpolation.py#538\" target=\"_blank\"><span style=\"color: #7f7f7f; text-decoration-color: #7f7f7f\">538</span></a>\n",
       "<span style=\"color: #7fbfbf; text-decoration-color: #7fbfbf\">           </span>         <span style=\"color: #00ff00; text-decoration-color: #00ff00; font-style: italic\">True</span>                                                                       <span style=\"color: #7f7f7f; text-decoration-color: #7f7f7f\">                    </span>\n",
       "</pre>\n"
      ],
      "text/plain": [
       "\u001b[2;36m[15:32:10]\u001b[0m\u001b[2;36m \u001b[0m\u001b[34mINFO    \u001b[0m Interpolation: number of points = \u001b[1;36m30\u001b[0m, polynomial degree = \u001b[1;36m4\u001b[0m, logarithmic = \u001b]8;id=724653;file:///Users/giacomomagni/.conda/envs/yad_dev/lib/python3.10/site-packages/eko/interpolation.py\u001b\\\u001b[2minterpolation.py\u001b[0m\u001b]8;;\u001b\\\u001b[2m:\u001b[0m\u001b]8;id=505859;file:///Users/giacomomagni/.conda/envs/yad_dev/lib/python3.10/site-packages/eko/interpolation.py#538\u001b\\\u001b[2m538\u001b[0m\u001b]8;;\u001b\\\n",
       "\u001b[2;36m           \u001b[0m         \u001b[3;92mTrue\u001b[0m                                                                       \u001b[2m                    \u001b[0m\n"
      ]
     },
     "metadata": {},
     "output_type": "display_data"
    },
    {
     "data": {
      "text/html": [
       "<pre style=\"white-space:pre;overflow-x:auto;line-height:normal;font-family:Menlo,'DejaVu Sans Mono',consolas,'Courier New',monospace\"><span style=\"color: #7fbfbf; text-decoration-color: #7fbfbf\">           </span><span style=\"color: #000080; text-decoration-color: #000080\">INFO    </span> <span style=\"font-weight: bold\">{</span><span style=\"color: #008000; text-decoration-color: #008000\">'MZ2'</span>: <span style=\"color: #008080; text-decoration-color: #008080; font-weight: bold\">8315.178393760001</span>, <span style=\"color: #008000; text-decoration-color: #008000\">'CKM'</span>: <span style=\"color: #800080; text-decoration-color: #800080; font-weight: bold\">CKM</span><span style=\"font-weight: bold\">([[</span><span style=\"color: #008080; text-decoration-color: #008080; font-weight: bold\">9.49221518e-01</span> <span style=\"color: #008080; text-decoration-color: #008080; font-weight: bold\">5.07600900e-02</span>  <a href=\"file:///Volumes/Git_Workspace/physicstools/NN3PDF/yadism/src/yadism/coefficient_functions/coupling_constants.py\" target=\"_blank\"><span style=\"color: #7f7f7f; text-decoration-color: #7f7f7f\">coupling_constants.py</span></a><span style=\"color: #7f7f7f; text-decoration-color: #7f7f7f\">:</span><a href=\"file:///Volumes/Git_Workspace/physicstools/NN3PDF/yadism/src/yadism/coefficient_functions/coupling_constants.py#53\" target=\"_blank\"><span style=\"color: #7f7f7f; text-decoration-color: #7f7f7f\">53</span></a>\n",
       "<span style=\"color: #7fbfbf; text-decoration-color: #7fbfbf\">           </span>         <span style=\"color: #008080; text-decoration-color: #008080; font-weight: bold\">1.20409000e-05</span><span style=\"font-weight: bold\">]</span> <span style=\"font-weight: bold\">[</span><span style=\"color: #008080; text-decoration-color: #008080; font-weight: bold\">5.07150400e-02</span> <span style=\"color: #008080; text-decoration-color: #008080; font-weight: bold\">9.47604903e-01</span> <span style=\"color: #008080; text-decoration-color: #008080; font-weight: bold\">1.68100000e-03</span><span style=\"font-weight: bold\">]</span>         <span style=\"color: #7f7f7f; text-decoration-color: #7f7f7f\">                        </span>\n",
       "<span style=\"color: #7fbfbf; text-decoration-color: #7fbfbf\">           </span>         <span style=\"font-weight: bold\">[</span><span style=\"color: #008080; text-decoration-color: #008080; font-weight: bold\">7.43044000e-05</span> <span style=\"color: #008080; text-decoration-color: #008080; font-weight: bold\">1.62409000e-03</span> <span style=\"color: #008080; text-decoration-color: #008080; font-weight: bold\">9.98304719e-01</span><span style=\"font-weight: bold\">]])</span>, <span style=\"color: #008000; text-decoration-color: #008000\">'sin2theta_weak'</span>:    <span style=\"color: #7f7f7f; text-decoration-color: #7f7f7f\">                        </span>\n",
       "<span style=\"color: #7fbfbf; text-decoration-color: #7fbfbf\">           </span>         <span style=\"color: #008080; text-decoration-color: #008080; font-weight: bold\">0.23121</span>, <span style=\"color: #008000; text-decoration-color: #008000\">'MW2'</span>: <span style=\"color: #008080; text-decoration-color: #008080; font-weight: bold\">6463.838403999999</span><span style=\"font-weight: bold\">}</span>                                     <span style=\"color: #7f7f7f; text-decoration-color: #7f7f7f\">                        </span>\n",
       "</pre>\n"
      ],
      "text/plain": [
       "\u001b[2;36m          \u001b[0m\u001b[2;36m \u001b[0m\u001b[34mINFO    \u001b[0m \u001b[1m{\u001b[0m\u001b[32m'MZ2'\u001b[0m: \u001b[1;36m8315.178393760001\u001b[0m, \u001b[32m'CKM'\u001b[0m: \u001b[1;35mCKM\u001b[0m\u001b[1m(\u001b[0m\u001b[1m[\u001b[0m\u001b[1m[\u001b[0m\u001b[1;36m9.49221518e-01\u001b[0m \u001b[1;36m5.07600900e-02\u001b[0m  \u001b]8;id=667938;file:///Volumes/Git_Workspace/physicstools/NN3PDF/yadism/src/yadism/coefficient_functions/coupling_constants.py\u001b\\\u001b[2mcoupling_constants.py\u001b[0m\u001b]8;;\u001b\\\u001b[2m:\u001b[0m\u001b]8;id=350851;file:///Volumes/Git_Workspace/physicstools/NN3PDF/yadism/src/yadism/coefficient_functions/coupling_constants.py#53\u001b\\\u001b[2m53\u001b[0m\u001b]8;;\u001b\\\n",
       "\u001b[2;36m           \u001b[0m         \u001b[1;36m1.20409000e-05\u001b[0m\u001b[1m]\u001b[0m \u001b[1m[\u001b[0m\u001b[1;36m5.07150400e-02\u001b[0m \u001b[1;36m9.47604903e-01\u001b[0m \u001b[1;36m1.68100000e-03\u001b[0m\u001b[1m]\u001b[0m         \u001b[2m                        \u001b[0m\n",
       "\u001b[2;36m           \u001b[0m         \u001b[1m[\u001b[0m\u001b[1;36m7.43044000e-05\u001b[0m \u001b[1;36m1.62409000e-03\u001b[0m \u001b[1;36m9.98304719e-01\u001b[0m\u001b[1m]\u001b[0m\u001b[1m]\u001b[0m\u001b[1m)\u001b[0m, \u001b[32m'sin2theta_weak'\u001b[0m:    \u001b[2m                        \u001b[0m\n",
       "\u001b[2;36m           \u001b[0m         \u001b[1;36m0.23121\u001b[0m, \u001b[32m'MW2'\u001b[0m: \u001b[1;36m6463.838403999999\u001b[0m\u001b[1m}\u001b[0m                                     \u001b[2m                        \u001b[0m\n"
      ]
     },
     "metadata": {},
     "output_type": "display_data"
    },
    {
     "data": {
      "text/html": [
       "<pre style=\"white-space:pre;overflow-x:auto;line-height:normal;font-family:Menlo,'DejaVu Sans Mono',consolas,'Courier New',monospace\"><span style=\"color: #7fbfbf; text-decoration-color: #7fbfbf\">           </span><span style=\"color: #000080; text-decoration-color: #000080\">INFO    </span> <span style=\"font-weight: bold\">{</span><span style=\"color: #008000; text-decoration-color: #008000\">'process'</span>: <span style=\"color: #008000; text-decoration-color: #008000\">'NC'</span>, <span style=\"color: #008000; text-decoration-color: #008000\">'projectilePID'</span>: <span style=\"color: #008080; text-decoration-color: #008080; font-weight: bold\">11</span>, <span style=\"color: #008000; text-decoration-color: #008000\">'polarization'</span>: <span style=\"color: #008080; text-decoration-color: #008080; font-weight: bold\">0.0</span>,            <a href=\"file:///Volumes/Git_Workspace/physicstools/NN3PDF/yadism/src/yadism/coefficient_functions/coupling_constants.py\" target=\"_blank\"><span style=\"color: #7f7f7f; text-decoration-color: #7f7f7f\">coupling_constants.py</span></a><span style=\"color: #7f7f7f; text-decoration-color: #7f7f7f\">:</span><a href=\"file:///Volumes/Git_Workspace/physicstools/NN3PDF/yadism/src/yadism/coefficient_functions/coupling_constants.py#54\" target=\"_blank\"><span style=\"color: #7f7f7f; text-decoration-color: #7f7f7f\">54</span></a>\n",
       "<span style=\"color: #7fbfbf; text-decoration-color: #7fbfbf\">           </span>         <span style=\"color: #008000; text-decoration-color: #008000\">'propagatorCorrection'</span>: <span style=\"color: #008080; text-decoration-color: #008080; font-weight: bold\">0.0</span>, <span style=\"color: #008000; text-decoration-color: #008000\">'nc_pos_charge'</span>: <span style=\"color: #800080; text-decoration-color: #800080; font-style: italic\">None</span><span style=\"font-weight: bold\">}</span>                    <span style=\"color: #7f7f7f; text-decoration-color: #7f7f7f\">                        </span>\n",
       "</pre>\n"
      ],
      "text/plain": [
       "\u001b[2;36m          \u001b[0m\u001b[2;36m \u001b[0m\u001b[34mINFO    \u001b[0m \u001b[1m{\u001b[0m\u001b[32m'process'\u001b[0m: \u001b[32m'NC'\u001b[0m, \u001b[32m'projectilePID'\u001b[0m: \u001b[1;36m11\u001b[0m, \u001b[32m'polarization'\u001b[0m: \u001b[1;36m0.0\u001b[0m,            \u001b]8;id=405794;file:///Volumes/Git_Workspace/physicstools/NN3PDF/yadism/src/yadism/coefficient_functions/coupling_constants.py\u001b\\\u001b[2mcoupling_constants.py\u001b[0m\u001b]8;;\u001b\\\u001b[2m:\u001b[0m\u001b]8;id=61244;file:///Volumes/Git_Workspace/physicstools/NN3PDF/yadism/src/yadism/coefficient_functions/coupling_constants.py#54\u001b\\\u001b[2m54\u001b[0m\u001b]8;;\u001b\\\n",
       "\u001b[2;36m           \u001b[0m         \u001b[32m'propagatorCorrection'\u001b[0m: \u001b[1;36m0.0\u001b[0m, \u001b[32m'nc_pos_charge'\u001b[0m: \u001b[3;35mNone\u001b[0m\u001b[1m}\u001b[0m                    \u001b[2m                        \u001b[0m\n"
      ]
     },
     "metadata": {},
     "output_type": "display_data"
    },
    {
     "data": {
      "text/html": [
       "<pre style=\"white-space:pre;overflow-x:auto;line-height:normal;font-family:Menlo,'DejaVu Sans Mono',consolas,'Courier New',monospace\"><span style=\"color: #7fbfbf; text-decoration-color: #7fbfbf\">           </span><span style=\"color: #000080; text-decoration-color: #000080\">INFO    </span> RenScaleVar: <span style=\"color: #00ff00; text-decoration-color: #00ff00; font-style: italic\">True</span>, FactScaleVar: <span style=\"color: #00ff00; text-decoration-color: #00ff00; font-style: italic\">True</span>                                    <a href=\"file:///Volumes/Git_Workspace/physicstools/NN3PDF/yadism/src/yadism/esf/scale_variations.py\" target=\"_blank\"><span style=\"color: #7f7f7f; text-decoration-color: #7f7f7f\">scale_variations.py</span></a><span style=\"color: #7f7f7f; text-decoration-color: #7f7f7f\">:</span><a href=\"file:///Volumes/Git_Workspace/physicstools/NN3PDF/yadism/src/yadism/esf/scale_variations.py#62\" target=\"_blank\"><span style=\"color: #7f7f7f; text-decoration-color: #7f7f7f\">62</span></a>\n",
       "</pre>\n"
      ],
      "text/plain": [
       "\u001b[2;36m          \u001b[0m\u001b[2;36m \u001b[0m\u001b[34mINFO    \u001b[0m RenScaleVar: \u001b[3;92mTrue\u001b[0m, FactScaleVar: \u001b[3;92mTrue\u001b[0m                                    \u001b]8;id=721925;file:///Volumes/Git_Workspace/physicstools/NN3PDF/yadism/src/yadism/esf/scale_variations.py\u001b\\\u001b[2mscale_variations.py\u001b[0m\u001b]8;;\u001b\\\u001b[2m:\u001b[0m\u001b]8;id=998807;file:///Volumes/Git_Workspace/physicstools/NN3PDF/yadism/src/yadism/esf/scale_variations.py#62\u001b\\\u001b[2m62\u001b[0m\u001b]8;;\u001b\\\n"
      ]
     },
     "metadata": {},
     "output_type": "display_data"
    },
    {
     "data": {
      "text/html": [
       "<pre style=\"white-space:pre;overflow-x:auto;line-height:normal;font-family:Menlo,'DejaVu Sans Mono',consolas,'Courier New',monospace\"><span style=\"color: #7fbfbf; text-decoration-color: #7fbfbf\">           </span><span style=\"color: #000080; text-decoration-color: #000080\">INFO    </span> Atlas <span style=\"font-weight: bold\">[</span><span style=\"color: #008080; text-decoration-color: #008080; font-weight: bold\">0.00e+00</span> - inf - inf - inf - inf<span style=\"font-weight: bold\">]</span>, <span style=\"color: #808000; text-decoration-color: #808000\">ref</span>=<span style=\"color: #008080; text-decoration-color: #008080; font-weight: bold\">2.7224999999999997</span> @ <span style=\"color: #008080; text-decoration-color: #008080; font-weight: bold\">4</span>            <a href=\"file:///Users/giacomomagni/.conda/envs/yad_dev/lib/python3.10/site-packages/eko/matchings.py\" target=\"_blank\"><span style=\"color: #7f7f7f; text-decoration-color: #7f7f7f\">matchings.py</span></a><span style=\"color: #7f7f7f; text-decoration-color: #7f7f7f\">:</span><a href=\"file:///Users/giacomomagni/.conda/envs/yad_dev/lib/python3.10/site-packages/eko/matchings.py#72\" target=\"_blank\"><span style=\"color: #7f7f7f; text-decoration-color: #7f7f7f\">72</span></a>\n",
       "</pre>\n"
      ],
      "text/plain": [
       "\u001b[2;36m          \u001b[0m\u001b[2;36m \u001b[0m\u001b[34mINFO    \u001b[0m Atlas \u001b[1m[\u001b[0m\u001b[1;36m0.00e+00\u001b[0m - inf - inf - inf - inf\u001b[1m]\u001b[0m, \u001b[33mref\u001b[0m=\u001b[1;36m2\u001b[0m\u001b[1;36m.7224999999999997\u001b[0m @ \u001b[1;36m4\u001b[0m            \u001b]8;id=630226;file:///Users/giacomomagni/.conda/envs/yad_dev/lib/python3.10/site-packages/eko/matchings.py\u001b\\\u001b[2mmatchings.py\u001b[0m\u001b]8;;\u001b\\\u001b[2m:\u001b[0m\u001b]8;id=441433;file:///Users/giacomomagni/.conda/envs/yad_dev/lib/python3.10/site-packages/eko/matchings.py#72\u001b\\\u001b[2m72\u001b[0m\u001b]8;;\u001b\\\n"
      ]
     },
     "metadata": {},
     "output_type": "display_data"
    },
    {
     "data": {
      "text/html": [
       "<pre style=\"white-space:pre;overflow-x:auto;line-height:normal;font-family:Menlo,'DejaVu Sans Mono',consolas,'Courier New',monospace\"><span style=\"color: #7fbfbf; text-decoration-color: #7fbfbf\">           </span><span style=\"color: #000080; text-decoration-color: #000080\">INFO    </span> PTO: <span style=\"color: #008080; text-decoration-color: #008080; font-weight: bold\">1</span>, PTO@evolution: <span style=\"color: #008080; text-decoration-color: #008080; font-weight: bold\">1</span>, process: NC                                             <a href=\"file:///Volumes/Git_Workspace/physicstools/NN3PDF/yadism/src/yadism/runner.py\" target=\"_blank\"><span style=\"color: #7f7f7f; text-decoration-color: #7f7f7f\">runner.py</span></a><span style=\"color: #7f7f7f; text-decoration-color: #7f7f7f\">:</span><a href=\"file:///Volumes/Git_Workspace/physicstools/NN3PDF/yadism/src/yadism/runner.py#142\" target=\"_blank\"><span style=\"color: #7f7f7f; text-decoration-color: #7f7f7f\">142</span></a>\n",
       "</pre>\n"
      ],
      "text/plain": [
       "\u001b[2;36m          \u001b[0m\u001b[2;36m \u001b[0m\u001b[34mINFO    \u001b[0m PTO: \u001b[1;36m1\u001b[0m, PTO@evolution: \u001b[1;36m1\u001b[0m, process: NC                                             \u001b]8;id=457793;file:///Volumes/Git_Workspace/physicstools/NN3PDF/yadism/src/yadism/runner.py\u001b\\\u001b[2mrunner.py\u001b[0m\u001b]8;;\u001b\\\u001b[2m:\u001b[0m\u001b]8;id=93504;file:///Volumes/Git_Workspace/physicstools/NN3PDF/yadism/src/yadism/runner.py#142\u001b\\\u001b[2m142\u001b[0m\u001b]8;;\u001b\\\n"
      ]
     },
     "metadata": {},
     "output_type": "display_data"
    },
    {
     "data": {
      "text/html": [
       "<pre style=\"white-space:pre;overflow-x:auto;line-height:normal;font-family:Menlo,'DejaVu Sans Mono',consolas,'Courier New',monospace\"><span style=\"color: #7fbfbf; text-decoration-color: #7fbfbf\">           </span><span style=\"color: #000080; text-decoration-color: #000080\">INFO    </span> FNS: FONLL-FFNS, NfFF: <span style=\"color: #008080; text-decoration-color: #008080; font-weight: bold\">3</span>                                                          <a href=\"file:///Volumes/Git_Workspace/physicstools/NN3PDF/yadism/src/yadism/runner.py\" target=\"_blank\"><span style=\"color: #7f7f7f; text-decoration-color: #7f7f7f\">runner.py</span></a><span style=\"color: #7f7f7f; text-decoration-color: #7f7f7f\">:</span><a href=\"file:///Volumes/Git_Workspace/physicstools/NN3PDF/yadism/src/yadism/runner.py#149\" target=\"_blank\"><span style=\"color: #7f7f7f; text-decoration-color: #7f7f7f\">149</span></a>\n",
       "</pre>\n"
      ],
      "text/plain": [
       "\u001b[2;36m          \u001b[0m\u001b[2;36m \u001b[0m\u001b[34mINFO    \u001b[0m FNS: FONLL-FFNS, NfFF: \u001b[1;36m3\u001b[0m                                                          \u001b]8;id=695280;file:///Volumes/Git_Workspace/physicstools/NN3PDF/yadism/src/yadism/runner.py\u001b\\\u001b[2mrunner.py\u001b[0m\u001b]8;;\u001b\\\u001b[2m:\u001b[0m\u001b]8;id=987505;file:///Volumes/Git_Workspace/physicstools/NN3PDF/yadism/src/yadism/runner.py#149\u001b\\\u001b[2m149\u001b[0m\u001b]8;;\u001b\\\n"
      ]
     },
     "metadata": {},
     "output_type": "display_data"
    },
    {
     "data": {
      "text/html": [
       "<pre style=\"white-space:pre;overflow-x:auto;line-height:normal;font-family:Menlo,'DejaVu Sans Mono',consolas,'Courier New',monospace\"><span style=\"color: #7fbfbf; text-decoration-color: #7fbfbf\">           </span><span style=\"color: #000080; text-decoration-color: #000080\">INFO    </span> projectile: electron, target: <span style=\"font-weight: bold\">{</span>Z: <span style=\"color: #008080; text-decoration-color: #008080; font-weight: bold\">1</span>, A: <span style=\"color: #008080; text-decoration-color: #008080; font-weight: bold\">1</span><span style=\"font-weight: bold\">}</span>                                        <a href=\"file:///Volumes/Git_Workspace/physicstools/NN3PDF/yadism/src/yadism/runner.py\" target=\"_blank\"><span style=\"color: #7f7f7f; text-decoration-color: #7f7f7f\">runner.py</span></a><span style=\"color: #7f7f7f; text-decoration-color: #7f7f7f\">:</span><a href=\"file:///Volumes/Git_Workspace/physicstools/NN3PDF/yadism/src/yadism/runner.py#150\" target=\"_blank\"><span style=\"color: #7f7f7f; text-decoration-color: #7f7f7f\">150</span></a>\n",
       "</pre>\n"
      ],
      "text/plain": [
       "\u001b[2;36m          \u001b[0m\u001b[2;36m \u001b[0m\u001b[34mINFO    \u001b[0m projectile: electron, target: \u001b[1m{\u001b[0mZ: \u001b[1;36m1\u001b[0m, A: \u001b[1;36m1\u001b[0m\u001b[1m}\u001b[0m                                        \u001b]8;id=67157;file:///Volumes/Git_Workspace/physicstools/NN3PDF/yadism/src/yadism/runner.py\u001b\\\u001b[2mrunner.py\u001b[0m\u001b]8;;\u001b\\\u001b[2m:\u001b[0m\u001b]8;id=74228;file:///Volumes/Git_Workspace/physicstools/NN3PDF/yadism/src/yadism/runner.py#150\u001b\\\u001b[2m150\u001b[0m\u001b]8;;\u001b\\\n"
      ]
     },
     "metadata": {},
     "output_type": "display_data"
    },
    {
     "data": {
      "text/html": [
       "<pre style=\"white-space:pre;overflow-x:auto;line-height:normal;font-family:Menlo,'DejaVu Sans Mono',consolas,'Courier New',monospace\">                                      <span style=\"color: #800080; text-decoration-color: #800080\">┌────────────────────────────────────┐</span>                                       \n",
       "                                      <span style=\"color: #800080; text-decoration-color: #800080\">│                                    │</span>                                       \n",
       "                                      <span style=\"color: #800080; text-decoration-color: #800080\">│ __     __       _ _                │</span>                                       \n",
       "                                      <span style=\"color: #800080; text-decoration-color: #800080\">│ \\ \\   / /      | (_)               │</span>                                       \n",
       "                                      <span style=\"color: #800080; text-decoration-color: #800080\">│  \\ \\_/ /_ _  __| |_ ___ _ __ ___   │</span>                                       \n",
       "                                      <span style=\"color: #800080; text-decoration-color: #800080\">│   \\   / _` |/ _` | / __| '_ ` _ \\  │</span>                                       \n",
       "                                      <span style=\"color: #800080; text-decoration-color: #800080\">│    | | (_| | (_| | \\__ \\ | | | | | │</span>                                       \n",
       "                                      <span style=\"color: #800080; text-decoration-color: #800080\">│    |_|\\__,_|\\__,_|_|___/_| |_| |_| │</span>                                       \n",
       "                                      <span style=\"color: #800080; text-decoration-color: #800080\">│                                    │</span>                                       \n",
       "                                      <span style=\"color: #800080; text-decoration-color: #800080\">└────────────────────────────────────┘</span>                                       \n",
       "</pre>\n"
      ],
      "text/plain": [
       "                                      \u001b[35m┌────────────────────────────────────┐\u001b[0m                                       \n",
       "                                      \u001b[35m│\u001b[0m\u001b[35m                                    \u001b[0m\u001b[35m│\u001b[0m                                       \n",
       "                                      \u001b[35m│\u001b[0m\u001b[35m \u001b[0m\u001b[35m__     __       _ _\u001b[0m\u001b[35m               \u001b[0m\u001b[35m \u001b[0m\u001b[35m│\u001b[0m                                       \n",
       "                                      \u001b[35m│\u001b[0m\u001b[35m \u001b[0m\u001b[35m\\ \\   / /      | (_)\u001b[0m\u001b[35m              \u001b[0m\u001b[35m \u001b[0m\u001b[35m│\u001b[0m                                       \n",
       "                                      \u001b[35m│\u001b[0m\u001b[35m \u001b[0m\u001b[35m \\ \\_/ /_ _  __| |_ ___ _ __ ___\u001b[0m\u001b[35m  \u001b[0m\u001b[35m \u001b[0m\u001b[35m│\u001b[0m                                       \n",
       "                                      \u001b[35m│\u001b[0m\u001b[35m \u001b[0m\u001b[35m  \\   / _` |/ _` | / __| '_ ` _ \\\u001b[0m\u001b[35m \u001b[0m\u001b[35m \u001b[0m\u001b[35m│\u001b[0m                                       \n",
       "                                      \u001b[35m│\u001b[0m\u001b[35m \u001b[0m\u001b[35m   | | (_| | (_| | \\__ \\ | | | | |\u001b[0m\u001b[35m \u001b[0m\u001b[35m│\u001b[0m                                       \n",
       "                                      \u001b[35m│\u001b[0m\u001b[35m \u001b[0m\u001b[35m   |_|\\__,_|\\__,_|_|___/_| |_| |_|\u001b[0m\u001b[35m \u001b[0m\u001b[35m│\u001b[0m                                       \n",
       "                                      \u001b[35m│\u001b[0m\u001b[35m                                    \u001b[0m\u001b[35m│\u001b[0m                                       \n",
       "                                      \u001b[35m└────────────────────────────────────┘\u001b[0m                                       \n"
      ]
     },
     "metadata": {},
     "output_type": "display_data"
    },
    {
     "data": {
      "text/html": [
       "<pre style=\"white-space:pre;overflow-x:auto;line-height:normal;font-family:Menlo,'DejaVu Sans Mono',consolas,'Courier New',monospace\">\n",
       "                                                       <span style=\"font-weight: bold; text-decoration: underline\">Plan</span>                                                        \n",
       "</pre>\n"
      ],
      "text/plain": [
       "\n",
       "                                                       \u001b[1;4mPlan\u001b[0m                                                        \n"
      ]
     },
     "metadata": {},
     "output_type": "display_data"
    },
    {
     "data": {
      "text/html": [
       "<pre style=\"white-space:pre;overflow-x:auto;line-height:normal;font-family:Menlo,'DejaVu Sans Mono',consolas,'Courier New',monospace\">\n",
       "<span style=\"color: #808000; text-decoration-color: #808000; font-weight: bold\"> • </span>F2_charm at 2 pts                                                                                               \n",
       "</pre>\n"
      ],
      "text/plain": [
       "\n",
       "\u001b[1;33m • \u001b[0mF2_charm at 2 pts                                                                                               \n"
      ]
     },
     "metadata": {},
     "output_type": "display_data"
    },
    {
     "data": {
      "text/html": [
       "<pre style=\"white-space:pre;overflow-x:auto;line-height:normal;font-family:Menlo,'DejaVu Sans Mono',consolas,'Courier New',monospace\">\n",
       "                                                    <span style=\"font-weight: bold; text-decoration: underline\">Calculation</span>                                                    \n",
       "</pre>\n"
      ],
      "text/plain": [
       "\n",
       "                                                    \u001b[1;4mCalculation\u001b[0m                                                    \n"
      ]
     },
     "metadata": {},
     "output_type": "display_data"
    },
    {
     "data": {
      "text/html": [
       "<pre style=\"white-space:pre;overflow-x:auto;line-height:normal;font-family:Menlo,'DejaVu Sans Mono',consolas,'Courier New',monospace\">yadism took off! please stay tuned <span style=\"color: #808000; text-decoration-color: #808000\">...</span>\n",
       "</pre>\n"
      ],
      "text/plain": [
       "yadism took off! please stay tuned \u001b[33m...\u001b[0m\n"
      ]
     },
     "metadata": {},
     "output_type": "display_data"
    },
    {
     "data": {
      "text/html": [
       "<pre style=\"white-space:pre;overflow-x:auto;line-height:normal;font-family:Menlo,'DejaVu Sans Mono',consolas,'Courier New',monospace\"></pre>\n"
      ],
      "text/plain": [
       "\u001b[?25l"
      ]
     },
     "metadata": {},
     "output_type": "display_data"
    },
    {
     "data": {
      "application/vnd.jupyter.widget-view+json": {
       "model_id": "30f77109aa9141a297cb396f807d35dc",
       "version_major": 2,
       "version_minor": 0
      },
      "text/plain": [
       "Output()"
      ]
     },
     "metadata": {},
     "output_type": "display_data"
    },
    {
     "data": {
      "text/html": [
       "<pre style=\"white-space:pre;overflow-x:auto;line-height:normal;font-family:Menlo,'DejaVu Sans Mono',consolas,'Courier New',monospace\"><span style=\"color: #7fbfbf; text-decoration-color: #7fbfbf\">[15:32:10] </span><span style=\"color: #000080; text-decoration-color: #000080\">INFO    </span> computing P_qq_0 - took: <span style=\"color: #008080; text-decoration-color: #008080; font-weight: bold\">0.161964</span> s                                      <a href=\"file:///Volumes/Git_Workspace/physicstools/NN3PDF/yadism/src/yadism/esf/scale_variations.py\" target=\"_blank\"><span style=\"color: #7f7f7f; text-decoration-color: #7f7f7f\">scale_variations.py</span></a><span style=\"color: #7f7f7f; text-decoration-color: #7f7f7f\">:</span><a href=\"file:///Volumes/Git_Workspace/physicstools/NN3PDF/yadism/src/yadism/esf/scale_variations.py#85\" target=\"_blank\"><span style=\"color: #7f7f7f; text-decoration-color: #7f7f7f\">85</span></a>\n",
       "Starting... <span style=\"color: #3a3a3a; text-decoration-color: #3a3a3a\">━━━━━━━━━━━━━━━━━━━━━━━━━━━━━━━━━━━━━━━━</span> <span style=\"color: #800080; text-decoration-color: #800080\">  0%</span> <span style=\"color: #008080; text-decoration-color: #008080\">-:--:--</span></pre>\n"
      ],
      "text/plain": [
       "\r\u001b[2K\u001b[2;36m[15:32:10]\u001b[0m\u001b[2;36m \u001b[0m\u001b[34mINFO    \u001b[0m computing P_qq_0 - took: \u001b[1;36m0.161964\u001b[0m s                                      \u001b]8;id=580267;file:///Volumes/Git_Workspace/physicstools/NN3PDF/yadism/src/yadism/esf/scale_variations.py\u001b\\\u001b[2mscale_variations.py\u001b[0m\u001b]8;;\u001b\\\u001b[2m:\u001b[0m\u001b]8;id=808659;file:///Volumes/Git_Workspace/physicstools/NN3PDF/yadism/src/yadism/esf/scale_variations.py#85\u001b\\\u001b[2m85\u001b[0m\u001b]8;;\u001b\\\n",
       "Starting... \u001b[38;5;237m━━━━━━━━━━━━━━━━━━━━━━━━━━━━━━━━━━━━━━━━\u001b[0m \u001b[35m  0%\u001b[0m \u001b[36m-:--:--\u001b[0m"
      ]
     },
     "metadata": {},
     "output_type": "display_data"
    },
    {
     "data": {
      "text/html": [
       "<pre style=\"white-space:pre;overflow-x:auto;line-height:normal;font-family:Menlo,'DejaVu Sans Mono',consolas,'Courier New',monospace\"><span style=\"color: #7fbfbf; text-decoration-color: #7fbfbf\">           </span><span style=\"color: #000080; text-decoration-color: #000080\">INFO    </span> computing P_qg_0 - took: <span style=\"color: #008080; text-decoration-color: #008080; font-weight: bold\">0.134157</span> s                                      <a href=\"file:///Volumes/Git_Workspace/physicstools/NN3PDF/yadism/src/yadism/esf/scale_variations.py\" target=\"_blank\"><span style=\"color: #7f7f7f; text-decoration-color: #7f7f7f\">scale_variations.py</span></a><span style=\"color: #7f7f7f; text-decoration-color: #7f7f7f\">:</span><a href=\"file:///Volumes/Git_Workspace/physicstools/NN3PDF/yadism/src/yadism/esf/scale_variations.py#85\" target=\"_blank\"><span style=\"color: #7f7f7f; text-decoration-color: #7f7f7f\">85</span></a>\n",
       "Starting... <span style=\"color: #3a3a3a; text-decoration-color: #3a3a3a\">━━━━━━━━━━━━━━━━━━━━━━━━━━━━━━━━━━━━━━━━</span> <span style=\"color: #800080; text-decoration-color: #800080\">  0%</span> <span style=\"color: #008080; text-decoration-color: #008080\">-:--:--</span></pre>\n"
      ],
      "text/plain": [
       "\r\u001b[2K\u001b[2;36m          \u001b[0m\u001b[2;36m \u001b[0m\u001b[34mINFO    \u001b[0m computing P_qg_0 - took: \u001b[1;36m0.134157\u001b[0m s                                      \u001b]8;id=209988;file:///Volumes/Git_Workspace/physicstools/NN3PDF/yadism/src/yadism/esf/scale_variations.py\u001b\\\u001b[2mscale_variations.py\u001b[0m\u001b]8;;\u001b\\\u001b[2m:\u001b[0m\u001b]8;id=643495;file:///Volumes/Git_Workspace/physicstools/NN3PDF/yadism/src/yadism/esf/scale_variations.py#85\u001b\\\u001b[2m85\u001b[0m\u001b]8;;\u001b\\\n",
       "Starting... \u001b[38;5;237m━━━━━━━━━━━━━━━━━━━━━━━━━━━━━━━━━━━━━━━━\u001b[0m \u001b[35m  0%\u001b[0m \u001b[36m-:--:--\u001b[0m"
      ]
     },
     "metadata": {},
     "output_type": "display_data"
    },
    {
     "data": {
      "text/html": [
       "<pre style=\"white-space:pre;overflow-x:auto;line-height:normal;font-family:Menlo,'DejaVu Sans Mono',consolas,'Courier New',monospace\">\n",
       "</pre>\n"
      ],
      "text/plain": [
       "\n",
       "\u001b[?25h\r\u001b[1A\u001b[2K"
      ]
     },
     "metadata": {},
     "output_type": "display_data"
    },
    {
     "data": {
      "text/html": [
       "<pre style=\"white-space:pre;overflow-x:auto;line-height:normal;font-family:Menlo,'DejaVu Sans Mono',consolas,'Courier New',monospace\"><span style=\"color: #008080; text-decoration-color: #008080\">took </span><span style=\"color: #008080; text-decoration-color: #008080; font-weight: bold\">2.99</span><span style=\"color: #008080; text-decoration-color: #008080\"> s</span>\n",
       "</pre>\n"
      ],
      "text/plain": [
       "\u001b[36mtook \u001b[0m\u001b[1;36m2.99\u001b[0m\u001b[36m s\u001b[0m\n"
      ]
     },
     "metadata": {},
     "output_type": "display_data"
    },
    {
     "data": {
      "text/html": [
       "<pre style=\"white-space:pre;overflow-x:auto;line-height:normal;font-family:Menlo,'DejaVu Sans Mono',consolas,'Courier New',monospace\"><span style=\"color: #7fbfbf; text-decoration-color: #7fbfbf\">[15:32:13] </span><span style=\"color: #000080; text-decoration-color: #000080\">INFO    </span> Atlas <span style=\"font-weight: bold\">[</span><span style=\"color: #008080; text-decoration-color: #008080; font-weight: bold\">0.00e+00</span> - <span style=\"color: #008080; text-decoration-color: #008080; font-weight: bold\">2.28e+00</span> - <span style=\"color: #008080; text-decoration-color: #008080; font-weight: bold\">2.42e+01</span> - <span style=\"color: #008080; text-decoration-color: #008080; font-weight: bold\">2.98e+04</span> - inf<span style=\"font-weight: bold\">]</span>, <span style=\"color: #808000; text-decoration-color: #808000\">ref</span>=<span style=\"color: #008080; text-decoration-color: #008080; font-weight: bold\">8317.44</span> @ <span style=\"color: #008080; text-decoration-color: #008080; font-weight: bold\">5</span>        <a href=\"file:///Users/giacomomagni/.conda/envs/yad_dev/lib/python3.10/site-packages/eko/matchings.py\" target=\"_blank\"><span style=\"color: #7f7f7f; text-decoration-color: #7f7f7f\">matchings.py</span></a><span style=\"color: #7f7f7f; text-decoration-color: #7f7f7f\">:</span><a href=\"file:///Users/giacomomagni/.conda/envs/yad_dev/lib/python3.10/site-packages/eko/matchings.py#72\" target=\"_blank\"><span style=\"color: #7f7f7f; text-decoration-color: #7f7f7f\">72</span></a>\n",
       "</pre>\n"
      ],
      "text/plain": [
       "\u001b[2;36m[15:32:13]\u001b[0m\u001b[2;36m \u001b[0m\u001b[34mINFO    \u001b[0m Atlas \u001b[1m[\u001b[0m\u001b[1;36m0.00e+00\u001b[0m - \u001b[1;36m2.28e+00\u001b[0m - \u001b[1;36m2.42e+01\u001b[0m - \u001b[1;36m2.98e+04\u001b[0m - inf\u001b[1m]\u001b[0m, \u001b[33mref\u001b[0m=\u001b[1;36m8317\u001b[0m\u001b[1;36m.44\u001b[0m @ \u001b[1;36m5\u001b[0m        \u001b]8;id=958009;file:///Users/giacomomagni/.conda/envs/yad_dev/lib/python3.10/site-packages/eko/matchings.py\u001b\\\u001b[2mmatchings.py\u001b[0m\u001b]8;;\u001b\\\u001b[2m:\u001b[0m\u001b]8;id=911704;file:///Users/giacomomagni/.conda/envs/yad_dev/lib/python3.10/site-packages/eko/matchings.py#72\u001b\\\u001b[2m72\u001b[0m\u001b]8;;\u001b\\\n"
      ]
     },
     "metadata": {},
     "output_type": "display_data"
    },
    {
     "data": {
      "text/html": [
       "<pre style=\"white-space:pre;overflow-x:auto;line-height:normal;font-family:Menlo,'DejaVu Sans Mono',consolas,'Courier New',monospace\"><span style=\"color: #7fbfbf; text-decoration-color: #7fbfbf\">           </span><span style=\"color: #000080; text-decoration-color: #000080\">INFO    </span> Strong Coupling: <span style=\"color: #800080; text-decoration-color: #800080; font-weight: bold\">a_s</span><span style=\"font-weight: bold\">(</span>µ_R^<span style=\"color: #008080; text-decoration-color: #008080; font-weight: bold\">2</span>=<span style=\"color: #008080; text-decoration-color: #008080; font-weight: bold\">8317.440000</span><span style=\"font-weight: bold\">)</span>^<span style=\"font-weight: bold\">(</span><span style=\"color: #808000; text-decoration-color: #808000\">nf</span>=<span style=\"color: #008080; text-decoration-color: #008080; font-weight: bold\">5</span><span style=\"font-weight: bold\">)</span>=<span style=\"color: #008080; text-decoration-color: #008080; font-weight: bold\">0.009390</span>=<span style=\"color: #008080; text-decoration-color: #008080; font-weight: bold\">0.118000</span>/<span style=\"font-weight: bold\">(</span>4π<span style=\"font-weight: bold\">)</span>          <a href=\"file:///Users/giacomomagni/.conda/envs/yad_dev/lib/python3.10/site-packages/eko/couplings.py\" target=\"_blank\"><span style=\"color: #7f7f7f; text-decoration-color: #7f7f7f\">couplings.py</span></a><span style=\"color: #7f7f7f; text-decoration-color: #7f7f7f\">:</span><a href=\"file:///Users/giacomomagni/.conda/envs/yad_dev/lib/python3.10/site-packages/eko/couplings.py#464\" target=\"_blank\"><span style=\"color: #7f7f7f; text-decoration-color: #7f7f7f\">464</span></a>\n",
       "</pre>\n"
      ],
      "text/plain": [
       "\u001b[2;36m          \u001b[0m\u001b[2;36m \u001b[0m\u001b[34mINFO    \u001b[0m Strong Coupling: \u001b[1;35ma_s\u001b[0m\u001b[1m(\u001b[0mµ_R^\u001b[1;36m2\u001b[0m=\u001b[1;36m8317\u001b[0m\u001b[1;36m.440000\u001b[0m\u001b[1m)\u001b[0m^\u001b[1m(\u001b[0m\u001b[33mnf\u001b[0m=\u001b[1;36m5\u001b[0m\u001b[1m)\u001b[0m=\u001b[1;36m0.\u001b[0m\u001b[1;36m009390\u001b[0m=\u001b[1;36m0\u001b[0m\u001b[1;36m.118000\u001b[0m/\u001b[1m(\u001b[0m4π\u001b[1m)\u001b[0m          \u001b]8;id=632403;file:///Users/giacomomagni/.conda/envs/yad_dev/lib/python3.10/site-packages/eko/couplings.py\u001b\\\u001b[2mcouplings.py\u001b[0m\u001b]8;;\u001b\\\u001b[2m:\u001b[0m\u001b]8;id=125728;file:///Users/giacomomagni/.conda/envs/yad_dev/lib/python3.10/site-packages/eko/couplings.py#464\u001b\\\u001b[2m464\u001b[0m\u001b]8;;\u001b\\\n"
      ]
     },
     "metadata": {},
     "output_type": "display_data"
    },
    {
     "data": {
      "text/html": [
       "<pre style=\"white-space:pre;overflow-x:auto;line-height:normal;font-family:Menlo,'DejaVu Sans Mono',consolas,'Courier New',monospace\"><span style=\"color: #7fbfbf; text-decoration-color: #7fbfbf\">           </span><span style=\"color: #000080; text-decoration-color: #000080\">INFO    </span> Atlas <span style=\"font-weight: bold\">[</span><span style=\"color: #008080; text-decoration-color: #008080; font-weight: bold\">0.00e+00</span> - <span style=\"color: #008080; text-decoration-color: #008080; font-weight: bold\">2.28e+00</span> - <span style=\"color: #008080; text-decoration-color: #008080; font-weight: bold\">2.42e+01</span> - <span style=\"color: #008080; text-decoration-color: #008080; font-weight: bold\">2.98e+04</span> - inf<span style=\"font-weight: bold\">]</span>, <span style=\"color: #808000; text-decoration-color: #808000\">ref</span>=<span style=\"color: #008080; text-decoration-color: #008080; font-weight: bold\">8317.44</span> @ <span style=\"color: #008080; text-decoration-color: #008080; font-weight: bold\">5</span>        <a href=\"file:///Users/giacomomagni/.conda/envs/yad_dev/lib/python3.10/site-packages/eko/matchings.py\" target=\"_blank\"><span style=\"color: #7f7f7f; text-decoration-color: #7f7f7f\">matchings.py</span></a><span style=\"color: #7f7f7f; text-decoration-color: #7f7f7f\">:</span><a href=\"file:///Users/giacomomagni/.conda/envs/yad_dev/lib/python3.10/site-packages/eko/matchings.py#72\" target=\"_blank\"><span style=\"color: #7f7f7f; text-decoration-color: #7f7f7f\">72</span></a>\n",
       "</pre>\n"
      ],
      "text/plain": [
       "\u001b[2;36m          \u001b[0m\u001b[2;36m \u001b[0m\u001b[34mINFO    \u001b[0m Atlas \u001b[1m[\u001b[0m\u001b[1;36m0.00e+00\u001b[0m - \u001b[1;36m2.28e+00\u001b[0m - \u001b[1;36m2.42e+01\u001b[0m - \u001b[1;36m2.98e+04\u001b[0m - inf\u001b[1m]\u001b[0m, \u001b[33mref\u001b[0m=\u001b[1;36m8317\u001b[0m\u001b[1;36m.44\u001b[0m @ \u001b[1;36m5\u001b[0m        \u001b]8;id=289969;file:///Users/giacomomagni/.conda/envs/yad_dev/lib/python3.10/site-packages/eko/matchings.py\u001b\\\u001b[2mmatchings.py\u001b[0m\u001b]8;;\u001b\\\u001b[2m:\u001b[0m\u001b]8;id=77938;file:///Users/giacomomagni/.conda/envs/yad_dev/lib/python3.10/site-packages/eko/matchings.py#72\u001b\\\u001b[2m72\u001b[0m\u001b]8;;\u001b\\\n"
      ]
     },
     "metadata": {},
     "output_type": "display_data"
    },
    {
     "data": {
      "text/html": [
       "<pre style=\"white-space:pre;overflow-x:auto;line-height:normal;font-family:Menlo,'DejaVu Sans Mono',consolas,'Courier New',monospace\"><span style=\"color: #7fbfbf; text-decoration-color: #7fbfbf\">           </span><span style=\"color: #000080; text-decoration-color: #000080\">INFO    </span> Interpolation: number of points = <span style=\"color: #008080; text-decoration-color: #008080; font-weight: bold\">30</span>, polynomial degree = <span style=\"color: #008080; text-decoration-color: #008080; font-weight: bold\">4</span>, logarithmic = <a href=\"file:///Users/giacomomagni/.conda/envs/yad_dev/lib/python3.10/site-packages/eko/interpolation.py\" target=\"_blank\"><span style=\"color: #7f7f7f; text-decoration-color: #7f7f7f\">interpolation.py</span></a><span style=\"color: #7f7f7f; text-decoration-color: #7f7f7f\">:</span><a href=\"file:///Users/giacomomagni/.conda/envs/yad_dev/lib/python3.10/site-packages/eko/interpolation.py#538\" target=\"_blank\"><span style=\"color: #7f7f7f; text-decoration-color: #7f7f7f\">538</span></a>\n",
       "<span style=\"color: #7fbfbf; text-decoration-color: #7fbfbf\">           </span>         <span style=\"color: #00ff00; text-decoration-color: #00ff00; font-style: italic\">True</span>                                                                       <span style=\"color: #7f7f7f; text-decoration-color: #7f7f7f\">                    </span>\n",
       "</pre>\n"
      ],
      "text/plain": [
       "\u001b[2;36m          \u001b[0m\u001b[2;36m \u001b[0m\u001b[34mINFO    \u001b[0m Interpolation: number of points = \u001b[1;36m30\u001b[0m, polynomial degree = \u001b[1;36m4\u001b[0m, logarithmic = \u001b]8;id=820163;file:///Users/giacomomagni/.conda/envs/yad_dev/lib/python3.10/site-packages/eko/interpolation.py\u001b\\\u001b[2minterpolation.py\u001b[0m\u001b]8;;\u001b\\\u001b[2m:\u001b[0m\u001b]8;id=635044;file:///Users/giacomomagni/.conda/envs/yad_dev/lib/python3.10/site-packages/eko/interpolation.py#538\u001b\\\u001b[2m538\u001b[0m\u001b]8;;\u001b\\\n",
       "\u001b[2;36m           \u001b[0m         \u001b[3;92mTrue\u001b[0m                                                                       \u001b[2m                    \u001b[0m\n"
      ]
     },
     "metadata": {},
     "output_type": "display_data"
    },
    {
     "name": "stdout",
     "output_type": "stream",
     "text": [
      "LHAPDF 6.5.0 loading /Users/giacomomagni/.conda/envs/yad_dev/share/LHAPDF/NNPDF40_evolved_nf3/NNPDF40_evolved_nf3_0000.dat\n",
      "NNPDF40_evolved_nf3 PDF set, member #0, version 1\n"
     ]
    },
    {
     "data": {
      "text/html": [
       "<pre style=\"white-space:pre;overflow-x:auto;line-height:normal;font-family:Menlo,'DejaVu Sans Mono',consolas,'Courier New',monospace\"><span style=\"color: #7fbfbf; text-decoration-color: #7fbfbf\">           </span><span style=\"color: #000080; text-decoration-color: #000080\">INFO    </span> <span style=\"font-weight: bold\">{</span><span style=\"color: #008000; text-decoration-color: #008000\">'MZ2'</span>: <span style=\"color: #008080; text-decoration-color: #008080; font-weight: bold\">8315.178393760001</span>, <span style=\"color: #008000; text-decoration-color: #008000\">'CKM'</span>: <span style=\"color: #800080; text-decoration-color: #800080; font-weight: bold\">CKM</span><span style=\"font-weight: bold\">([[</span><span style=\"color: #008080; text-decoration-color: #008080; font-weight: bold\">9.49221518e-01</span> <span style=\"color: #008080; text-decoration-color: #008080; font-weight: bold\">5.07600900e-02</span>  <a href=\"file:///Volumes/Git_Workspace/physicstools/NN3PDF/yadism/src/yadism/coefficient_functions/coupling_constants.py\" target=\"_blank\"><span style=\"color: #7f7f7f; text-decoration-color: #7f7f7f\">coupling_constants.py</span></a><span style=\"color: #7f7f7f; text-decoration-color: #7f7f7f\">:</span><a href=\"file:///Volumes/Git_Workspace/physicstools/NN3PDF/yadism/src/yadism/coefficient_functions/coupling_constants.py#53\" target=\"_blank\"><span style=\"color: #7f7f7f; text-decoration-color: #7f7f7f\">53</span></a>\n",
       "<span style=\"color: #7fbfbf; text-decoration-color: #7fbfbf\">           </span>         <span style=\"color: #008080; text-decoration-color: #008080; font-weight: bold\">1.20409000e-05</span><span style=\"font-weight: bold\">]</span> <span style=\"font-weight: bold\">[</span><span style=\"color: #008080; text-decoration-color: #008080; font-weight: bold\">5.07150400e-02</span> <span style=\"color: #008080; text-decoration-color: #008080; font-weight: bold\">9.47604903e-01</span> <span style=\"color: #008080; text-decoration-color: #008080; font-weight: bold\">1.68100000e-03</span><span style=\"font-weight: bold\">]</span>         <span style=\"color: #7f7f7f; text-decoration-color: #7f7f7f\">                        </span>\n",
       "<span style=\"color: #7fbfbf; text-decoration-color: #7fbfbf\">           </span>         <span style=\"font-weight: bold\">[</span><span style=\"color: #008080; text-decoration-color: #008080; font-weight: bold\">7.43044000e-05</span> <span style=\"color: #008080; text-decoration-color: #008080; font-weight: bold\">1.62409000e-03</span> <span style=\"color: #008080; text-decoration-color: #008080; font-weight: bold\">9.98304719e-01</span><span style=\"font-weight: bold\">]])</span>, <span style=\"color: #008000; text-decoration-color: #008000\">'sin2theta_weak'</span>:    <span style=\"color: #7f7f7f; text-decoration-color: #7f7f7f\">                        </span>\n",
       "<span style=\"color: #7fbfbf; text-decoration-color: #7fbfbf\">           </span>         <span style=\"color: #008080; text-decoration-color: #008080; font-weight: bold\">0.23121</span>, <span style=\"color: #008000; text-decoration-color: #008000\">'MW2'</span>: <span style=\"color: #008080; text-decoration-color: #008080; font-weight: bold\">6463.838403999999</span><span style=\"font-weight: bold\">}</span>                                     <span style=\"color: #7f7f7f; text-decoration-color: #7f7f7f\">                        </span>\n",
       "</pre>\n"
      ],
      "text/plain": [
       "\u001b[2;36m          \u001b[0m\u001b[2;36m \u001b[0m\u001b[34mINFO    \u001b[0m \u001b[1m{\u001b[0m\u001b[32m'MZ2'\u001b[0m: \u001b[1;36m8315.178393760001\u001b[0m, \u001b[32m'CKM'\u001b[0m: \u001b[1;35mCKM\u001b[0m\u001b[1m(\u001b[0m\u001b[1m[\u001b[0m\u001b[1m[\u001b[0m\u001b[1;36m9.49221518e-01\u001b[0m \u001b[1;36m5.07600900e-02\u001b[0m  \u001b]8;id=564078;file:///Volumes/Git_Workspace/physicstools/NN3PDF/yadism/src/yadism/coefficient_functions/coupling_constants.py\u001b\\\u001b[2mcoupling_constants.py\u001b[0m\u001b]8;;\u001b\\\u001b[2m:\u001b[0m\u001b]8;id=90647;file:///Volumes/Git_Workspace/physicstools/NN3PDF/yadism/src/yadism/coefficient_functions/coupling_constants.py#53\u001b\\\u001b[2m53\u001b[0m\u001b]8;;\u001b\\\n",
       "\u001b[2;36m           \u001b[0m         \u001b[1;36m1.20409000e-05\u001b[0m\u001b[1m]\u001b[0m \u001b[1m[\u001b[0m\u001b[1;36m5.07150400e-02\u001b[0m \u001b[1;36m9.47604903e-01\u001b[0m \u001b[1;36m1.68100000e-03\u001b[0m\u001b[1m]\u001b[0m         \u001b[2m                        \u001b[0m\n",
       "\u001b[2;36m           \u001b[0m         \u001b[1m[\u001b[0m\u001b[1;36m7.43044000e-05\u001b[0m \u001b[1;36m1.62409000e-03\u001b[0m \u001b[1;36m9.98304719e-01\u001b[0m\u001b[1m]\u001b[0m\u001b[1m]\u001b[0m\u001b[1m)\u001b[0m, \u001b[32m'sin2theta_weak'\u001b[0m:    \u001b[2m                        \u001b[0m\n",
       "\u001b[2;36m           \u001b[0m         \u001b[1;36m0.23121\u001b[0m, \u001b[32m'MW2'\u001b[0m: \u001b[1;36m6463.838403999999\u001b[0m\u001b[1m}\u001b[0m                                     \u001b[2m                        \u001b[0m\n"
      ]
     },
     "metadata": {},
     "output_type": "display_data"
    },
    {
     "data": {
      "text/html": [
       "<pre style=\"white-space:pre;overflow-x:auto;line-height:normal;font-family:Menlo,'DejaVu Sans Mono',consolas,'Courier New',monospace\"><span style=\"color: #7fbfbf; text-decoration-color: #7fbfbf\">           </span><span style=\"color: #000080; text-decoration-color: #000080\">INFO    </span> <span style=\"font-weight: bold\">{</span><span style=\"color: #008000; text-decoration-color: #008000\">'process'</span>: <span style=\"color: #008000; text-decoration-color: #008000\">'NC'</span>, <span style=\"color: #008000; text-decoration-color: #008000\">'projectilePID'</span>: <span style=\"color: #008080; text-decoration-color: #008080; font-weight: bold\">11</span>, <span style=\"color: #008000; text-decoration-color: #008000\">'polarization'</span>: <span style=\"color: #008080; text-decoration-color: #008080; font-weight: bold\">0.0</span>,            <a href=\"file:///Volumes/Git_Workspace/physicstools/NN3PDF/yadism/src/yadism/coefficient_functions/coupling_constants.py\" target=\"_blank\"><span style=\"color: #7f7f7f; text-decoration-color: #7f7f7f\">coupling_constants.py</span></a><span style=\"color: #7f7f7f; text-decoration-color: #7f7f7f\">:</span><a href=\"file:///Volumes/Git_Workspace/physicstools/NN3PDF/yadism/src/yadism/coefficient_functions/coupling_constants.py#54\" target=\"_blank\"><span style=\"color: #7f7f7f; text-decoration-color: #7f7f7f\">54</span></a>\n",
       "<span style=\"color: #7fbfbf; text-decoration-color: #7fbfbf\">           </span>         <span style=\"color: #008000; text-decoration-color: #008000\">'propagatorCorrection'</span>: <span style=\"color: #008080; text-decoration-color: #008080; font-weight: bold\">0.0</span>, <span style=\"color: #008000; text-decoration-color: #008000\">'nc_pos_charge'</span>: <span style=\"color: #800080; text-decoration-color: #800080; font-style: italic\">None</span><span style=\"font-weight: bold\">}</span>                    <span style=\"color: #7f7f7f; text-decoration-color: #7f7f7f\">                        </span>\n",
       "</pre>\n"
      ],
      "text/plain": [
       "\u001b[2;36m          \u001b[0m\u001b[2;36m \u001b[0m\u001b[34mINFO    \u001b[0m \u001b[1m{\u001b[0m\u001b[32m'process'\u001b[0m: \u001b[32m'NC'\u001b[0m, \u001b[32m'projectilePID'\u001b[0m: \u001b[1;36m11\u001b[0m, \u001b[32m'polarization'\u001b[0m: \u001b[1;36m0.0\u001b[0m,            \u001b]8;id=719935;file:///Volumes/Git_Workspace/physicstools/NN3PDF/yadism/src/yadism/coefficient_functions/coupling_constants.py\u001b\\\u001b[2mcoupling_constants.py\u001b[0m\u001b]8;;\u001b\\\u001b[2m:\u001b[0m\u001b]8;id=193865;file:///Volumes/Git_Workspace/physicstools/NN3PDF/yadism/src/yadism/coefficient_functions/coupling_constants.py#54\u001b\\\u001b[2m54\u001b[0m\u001b]8;;\u001b\\\n",
       "\u001b[2;36m           \u001b[0m         \u001b[32m'propagatorCorrection'\u001b[0m: \u001b[1;36m0.0\u001b[0m, \u001b[32m'nc_pos_charge'\u001b[0m: \u001b[3;35mNone\u001b[0m\u001b[1m}\u001b[0m                    \u001b[2m                        \u001b[0m\n"
      ]
     },
     "metadata": {},
     "output_type": "display_data"
    },
    {
     "data": {
      "text/html": [
       "<pre style=\"white-space:pre;overflow-x:auto;line-height:normal;font-family:Menlo,'DejaVu Sans Mono',consolas,'Courier New',monospace\"><span style=\"color: #7fbfbf; text-decoration-color: #7fbfbf\">           </span><span style=\"color: #000080; text-decoration-color: #000080\">INFO    </span> RenScaleVar: <span style=\"color: #00ff00; text-decoration-color: #00ff00; font-style: italic\">True</span>, FactScaleVar: <span style=\"color: #00ff00; text-decoration-color: #00ff00; font-style: italic\">True</span>                                    <a href=\"file:///Volumes/Git_Workspace/physicstools/NN3PDF/yadism/src/yadism/esf/scale_variations.py\" target=\"_blank\"><span style=\"color: #7f7f7f; text-decoration-color: #7f7f7f\">scale_variations.py</span></a><span style=\"color: #7f7f7f; text-decoration-color: #7f7f7f\">:</span><a href=\"file:///Volumes/Git_Workspace/physicstools/NN3PDF/yadism/src/yadism/esf/scale_variations.py#62\" target=\"_blank\"><span style=\"color: #7f7f7f; text-decoration-color: #7f7f7f\">62</span></a>\n",
       "</pre>\n"
      ],
      "text/plain": [
       "\u001b[2;36m          \u001b[0m\u001b[2;36m \u001b[0m\u001b[34mINFO    \u001b[0m RenScaleVar: \u001b[3;92mTrue\u001b[0m, FactScaleVar: \u001b[3;92mTrue\u001b[0m                                    \u001b]8;id=81253;file:///Volumes/Git_Workspace/physicstools/NN3PDF/yadism/src/yadism/esf/scale_variations.py\u001b\\\u001b[2mscale_variations.py\u001b[0m\u001b]8;;\u001b\\\u001b[2m:\u001b[0m\u001b]8;id=153607;file:///Volumes/Git_Workspace/physicstools/NN3PDF/yadism/src/yadism/esf/scale_variations.py#62\u001b\\\u001b[2m62\u001b[0m\u001b]8;;\u001b\\\n"
      ]
     },
     "metadata": {},
     "output_type": "display_data"
    },
    {
     "data": {
      "text/html": [
       "<pre style=\"white-space:pre;overflow-x:auto;line-height:normal;font-family:Menlo,'DejaVu Sans Mono',consolas,'Courier New',monospace\"><span style=\"color: #7fbfbf; text-decoration-color: #7fbfbf\">           </span><span style=\"color: #000080; text-decoration-color: #000080\">INFO    </span> Atlas <span style=\"font-weight: bold\">[</span><span style=\"color: #008080; text-decoration-color: #008080; font-weight: bold\">0.00e+00</span> - inf - inf - inf - inf<span style=\"font-weight: bold\">]</span>, <span style=\"color: #808000; text-decoration-color: #808000\">ref</span>=<span style=\"color: #008080; text-decoration-color: #008080; font-weight: bold\">2.7224999999999997</span> @ <span style=\"color: #008080; text-decoration-color: #008080; font-weight: bold\">4</span>            <a href=\"file:///Users/giacomomagni/.conda/envs/yad_dev/lib/python3.10/site-packages/eko/matchings.py\" target=\"_blank\"><span style=\"color: #7f7f7f; text-decoration-color: #7f7f7f\">matchings.py</span></a><span style=\"color: #7f7f7f; text-decoration-color: #7f7f7f\">:</span><a href=\"file:///Users/giacomomagni/.conda/envs/yad_dev/lib/python3.10/site-packages/eko/matchings.py#72\" target=\"_blank\"><span style=\"color: #7f7f7f; text-decoration-color: #7f7f7f\">72</span></a>\n",
       "</pre>\n"
      ],
      "text/plain": [
       "\u001b[2;36m          \u001b[0m\u001b[2;36m \u001b[0m\u001b[34mINFO    \u001b[0m Atlas \u001b[1m[\u001b[0m\u001b[1;36m0.00e+00\u001b[0m - inf - inf - inf - inf\u001b[1m]\u001b[0m, \u001b[33mref\u001b[0m=\u001b[1;36m2\u001b[0m\u001b[1;36m.7224999999999997\u001b[0m @ \u001b[1;36m4\u001b[0m            \u001b]8;id=752078;file:///Users/giacomomagni/.conda/envs/yad_dev/lib/python3.10/site-packages/eko/matchings.py\u001b\\\u001b[2mmatchings.py\u001b[0m\u001b]8;;\u001b\\\u001b[2m:\u001b[0m\u001b]8;id=198756;file:///Users/giacomomagni/.conda/envs/yad_dev/lib/python3.10/site-packages/eko/matchings.py#72\u001b\\\u001b[2m72\u001b[0m\u001b]8;;\u001b\\\n"
      ]
     },
     "metadata": {},
     "output_type": "display_data"
    },
    {
     "data": {
      "text/html": [
       "<pre style=\"white-space:pre;overflow-x:auto;line-height:normal;font-family:Menlo,'DejaVu Sans Mono',consolas,'Courier New',monospace\"><span style=\"color: #7fbfbf; text-decoration-color: #7fbfbf\">           </span><span style=\"color: #000080; text-decoration-color: #000080\">INFO    </span> PTO: <span style=\"color: #008080; text-decoration-color: #008080; font-weight: bold\">1</span>, PTO@evolution: <span style=\"color: #008080; text-decoration-color: #008080; font-weight: bold\">1</span>, process: NC                                             <a href=\"file:///Volumes/Git_Workspace/physicstools/NN3PDF/yadism/src/yadism/runner.py\" target=\"_blank\"><span style=\"color: #7f7f7f; text-decoration-color: #7f7f7f\">runner.py</span></a><span style=\"color: #7f7f7f; text-decoration-color: #7f7f7f\">:</span><a href=\"file:///Volumes/Git_Workspace/physicstools/NN3PDF/yadism/src/yadism/runner.py#142\" target=\"_blank\"><span style=\"color: #7f7f7f; text-decoration-color: #7f7f7f\">142</span></a>\n",
       "</pre>\n"
      ],
      "text/plain": [
       "\u001b[2;36m          \u001b[0m\u001b[2;36m \u001b[0m\u001b[34mINFO    \u001b[0m PTO: \u001b[1;36m1\u001b[0m, PTO@evolution: \u001b[1;36m1\u001b[0m, process: NC                                             \u001b]8;id=257846;file:///Volumes/Git_Workspace/physicstools/NN3PDF/yadism/src/yadism/runner.py\u001b\\\u001b[2mrunner.py\u001b[0m\u001b]8;;\u001b\\\u001b[2m:\u001b[0m\u001b]8;id=549584;file:///Volumes/Git_Workspace/physicstools/NN3PDF/yadism/src/yadism/runner.py#142\u001b\\\u001b[2m142\u001b[0m\u001b]8;;\u001b\\\n"
      ]
     },
     "metadata": {},
     "output_type": "display_data"
    },
    {
     "data": {
      "text/html": [
       "<pre style=\"white-space:pre;overflow-x:auto;line-height:normal;font-family:Menlo,'DejaVu Sans Mono',consolas,'Courier New',monospace\"><span style=\"color: #7fbfbf; text-decoration-color: #7fbfbf\">           </span><span style=\"color: #000080; text-decoration-color: #000080\">INFO    </span> FNS: FONLL-FFN0, NfFF: <span style=\"color: #008080; text-decoration-color: #008080; font-weight: bold\">3</span>                                                          <a href=\"file:///Volumes/Git_Workspace/physicstools/NN3PDF/yadism/src/yadism/runner.py\" target=\"_blank\"><span style=\"color: #7f7f7f; text-decoration-color: #7f7f7f\">runner.py</span></a><span style=\"color: #7f7f7f; text-decoration-color: #7f7f7f\">:</span><a href=\"file:///Volumes/Git_Workspace/physicstools/NN3PDF/yadism/src/yadism/runner.py#149\" target=\"_blank\"><span style=\"color: #7f7f7f; text-decoration-color: #7f7f7f\">149</span></a>\n",
       "</pre>\n"
      ],
      "text/plain": [
       "\u001b[2;36m          \u001b[0m\u001b[2;36m \u001b[0m\u001b[34mINFO    \u001b[0m FNS: FONLL-FFN0, NfFF: \u001b[1;36m3\u001b[0m                                                          \u001b]8;id=642270;file:///Volumes/Git_Workspace/physicstools/NN3PDF/yadism/src/yadism/runner.py\u001b\\\u001b[2mrunner.py\u001b[0m\u001b]8;;\u001b\\\u001b[2m:\u001b[0m\u001b]8;id=537564;file:///Volumes/Git_Workspace/physicstools/NN3PDF/yadism/src/yadism/runner.py#149\u001b\\\u001b[2m149\u001b[0m\u001b]8;;\u001b\\\n"
      ]
     },
     "metadata": {},
     "output_type": "display_data"
    },
    {
     "data": {
      "text/html": [
       "<pre style=\"white-space:pre;overflow-x:auto;line-height:normal;font-family:Menlo,'DejaVu Sans Mono',consolas,'Courier New',monospace\"><span style=\"color: #7fbfbf; text-decoration-color: #7fbfbf\">           </span><span style=\"color: #000080; text-decoration-color: #000080\">INFO    </span> projectile: electron, target: <span style=\"font-weight: bold\">{</span>Z: <span style=\"color: #008080; text-decoration-color: #008080; font-weight: bold\">1</span>, A: <span style=\"color: #008080; text-decoration-color: #008080; font-weight: bold\">1</span><span style=\"font-weight: bold\">}</span>                                        <a href=\"file:///Volumes/Git_Workspace/physicstools/NN3PDF/yadism/src/yadism/runner.py\" target=\"_blank\"><span style=\"color: #7f7f7f; text-decoration-color: #7f7f7f\">runner.py</span></a><span style=\"color: #7f7f7f; text-decoration-color: #7f7f7f\">:</span><a href=\"file:///Volumes/Git_Workspace/physicstools/NN3PDF/yadism/src/yadism/runner.py#150\" target=\"_blank\"><span style=\"color: #7f7f7f; text-decoration-color: #7f7f7f\">150</span></a>\n",
       "</pre>\n"
      ],
      "text/plain": [
       "\u001b[2;36m          \u001b[0m\u001b[2;36m \u001b[0m\u001b[34mINFO    \u001b[0m projectile: electron, target: \u001b[1m{\u001b[0mZ: \u001b[1;36m1\u001b[0m, A: \u001b[1;36m1\u001b[0m\u001b[1m}\u001b[0m                                        \u001b]8;id=194392;file:///Volumes/Git_Workspace/physicstools/NN3PDF/yadism/src/yadism/runner.py\u001b\\\u001b[2mrunner.py\u001b[0m\u001b]8;;\u001b\\\u001b[2m:\u001b[0m\u001b]8;id=759359;file:///Volumes/Git_Workspace/physicstools/NN3PDF/yadism/src/yadism/runner.py#150\u001b\\\u001b[2m150\u001b[0m\u001b]8;;\u001b\\\n"
      ]
     },
     "metadata": {},
     "output_type": "display_data"
    },
    {
     "data": {
      "text/html": [
       "<pre style=\"white-space:pre;overflow-x:auto;line-height:normal;font-family:Menlo,'DejaVu Sans Mono',consolas,'Courier New',monospace\">                                      <span style=\"color: #800080; text-decoration-color: #800080\">┌────────────────────────────────────┐</span>                                       \n",
       "                                      <span style=\"color: #800080; text-decoration-color: #800080\">│                                    │</span>                                       \n",
       "                                      <span style=\"color: #800080; text-decoration-color: #800080\">│ __     __       _ _                │</span>                                       \n",
       "                                      <span style=\"color: #800080; text-decoration-color: #800080\">│ \\ \\   / /      | (_)               │</span>                                       \n",
       "                                      <span style=\"color: #800080; text-decoration-color: #800080\">│  \\ \\_/ /_ _  __| |_ ___ _ __ ___   │</span>                                       \n",
       "                                      <span style=\"color: #800080; text-decoration-color: #800080\">│   \\   / _` |/ _` | / __| '_ ` _ \\  │</span>                                       \n",
       "                                      <span style=\"color: #800080; text-decoration-color: #800080\">│    | | (_| | (_| | \\__ \\ | | | | | │</span>                                       \n",
       "                                      <span style=\"color: #800080; text-decoration-color: #800080\">│    |_|\\__,_|\\__,_|_|___/_| |_| |_| │</span>                                       \n",
       "                                      <span style=\"color: #800080; text-decoration-color: #800080\">│                                    │</span>                                       \n",
       "                                      <span style=\"color: #800080; text-decoration-color: #800080\">└────────────────────────────────────┘</span>                                       \n",
       "</pre>\n"
      ],
      "text/plain": [
       "                                      \u001b[35m┌────────────────────────────────────┐\u001b[0m                                       \n",
       "                                      \u001b[35m│\u001b[0m\u001b[35m                                    \u001b[0m\u001b[35m│\u001b[0m                                       \n",
       "                                      \u001b[35m│\u001b[0m\u001b[35m \u001b[0m\u001b[35m__     __       _ _\u001b[0m\u001b[35m               \u001b[0m\u001b[35m \u001b[0m\u001b[35m│\u001b[0m                                       \n",
       "                                      \u001b[35m│\u001b[0m\u001b[35m \u001b[0m\u001b[35m\\ \\   / /      | (_)\u001b[0m\u001b[35m              \u001b[0m\u001b[35m \u001b[0m\u001b[35m│\u001b[0m                                       \n",
       "                                      \u001b[35m│\u001b[0m\u001b[35m \u001b[0m\u001b[35m \\ \\_/ /_ _  __| |_ ___ _ __ ___\u001b[0m\u001b[35m  \u001b[0m\u001b[35m \u001b[0m\u001b[35m│\u001b[0m                                       \n",
       "                                      \u001b[35m│\u001b[0m\u001b[35m \u001b[0m\u001b[35m  \\   / _` |/ _` | / __| '_ ` _ \\\u001b[0m\u001b[35m \u001b[0m\u001b[35m \u001b[0m\u001b[35m│\u001b[0m                                       \n",
       "                                      \u001b[35m│\u001b[0m\u001b[35m \u001b[0m\u001b[35m   | | (_| | (_| | \\__ \\ | | | | |\u001b[0m\u001b[35m \u001b[0m\u001b[35m│\u001b[0m                                       \n",
       "                                      \u001b[35m│\u001b[0m\u001b[35m \u001b[0m\u001b[35m   |_|\\__,_|\\__,_|_|___/_| |_| |_|\u001b[0m\u001b[35m \u001b[0m\u001b[35m│\u001b[0m                                       \n",
       "                                      \u001b[35m│\u001b[0m\u001b[35m                                    \u001b[0m\u001b[35m│\u001b[0m                                       \n",
       "                                      \u001b[35m└────────────────────────────────────┘\u001b[0m                                       \n"
      ]
     },
     "metadata": {},
     "output_type": "display_data"
    },
    {
     "data": {
      "text/html": [
       "<pre style=\"white-space:pre;overflow-x:auto;line-height:normal;font-family:Menlo,'DejaVu Sans Mono',consolas,'Courier New',monospace\">\n",
       "                                                       <span style=\"font-weight: bold; text-decoration: underline\">Plan</span>                                                        \n",
       "</pre>\n"
      ],
      "text/plain": [
       "\n",
       "                                                       \u001b[1;4mPlan\u001b[0m                                                        \n"
      ]
     },
     "metadata": {},
     "output_type": "display_data"
    },
    {
     "data": {
      "text/html": [
       "<pre style=\"white-space:pre;overflow-x:auto;line-height:normal;font-family:Menlo,'DejaVu Sans Mono',consolas,'Courier New',monospace\">\n",
       "<span style=\"color: #808000; text-decoration-color: #808000; font-weight: bold\"> • </span>F2_charm at 2 pts                                                                                               \n",
       "</pre>\n"
      ],
      "text/plain": [
       "\n",
       "\u001b[1;33m • \u001b[0mF2_charm at 2 pts                                                                                               \n"
      ]
     },
     "metadata": {},
     "output_type": "display_data"
    },
    {
     "data": {
      "text/html": [
       "<pre style=\"white-space:pre;overflow-x:auto;line-height:normal;font-family:Menlo,'DejaVu Sans Mono',consolas,'Courier New',monospace\">\n",
       "                                                    <span style=\"font-weight: bold; text-decoration: underline\">Calculation</span>                                                    \n",
       "</pre>\n"
      ],
      "text/plain": [
       "\n",
       "                                                    \u001b[1;4mCalculation\u001b[0m                                                    \n"
      ]
     },
     "metadata": {},
     "output_type": "display_data"
    },
    {
     "data": {
      "text/html": [
       "<pre style=\"white-space:pre;overflow-x:auto;line-height:normal;font-family:Menlo,'DejaVu Sans Mono',consolas,'Courier New',monospace\">yadism took off! please stay tuned <span style=\"color: #808000; text-decoration-color: #808000\">...</span>\n",
       "</pre>\n"
      ],
      "text/plain": [
       "yadism took off! please stay tuned \u001b[33m...\u001b[0m\n"
      ]
     },
     "metadata": {},
     "output_type": "display_data"
    },
    {
     "data": {
      "text/html": [
       "<pre style=\"white-space:pre;overflow-x:auto;line-height:normal;font-family:Menlo,'DejaVu Sans Mono',consolas,'Courier New',monospace\"></pre>\n"
      ],
      "text/plain": [
       "\u001b[?25l"
      ]
     },
     "metadata": {},
     "output_type": "display_data"
    },
    {
     "data": {
      "application/vnd.jupyter.widget-view+json": {
       "model_id": "13a371ad8b44482c976f8e7b7364fdd2",
       "version_major": 2,
       "version_minor": 0
      },
      "text/plain": [
       "Output()"
      ]
     },
     "metadata": {},
     "output_type": "display_data"
    },
    {
     "data": {
      "text/html": [
       "<pre style=\"white-space:pre;overflow-x:auto;line-height:normal;font-family:Menlo,'DejaVu Sans Mono',consolas,'Courier New',monospace\"><span style=\"color: #7fbfbf; text-decoration-color: #7fbfbf\">[15:32:13] </span><span style=\"color: #000080; text-decoration-color: #000080\">INFO    </span> computing P_qq_0 - took: <span style=\"color: #008080; text-decoration-color: #008080; font-weight: bold\">0.165385</span> s                                      <a href=\"file:///Volumes/Git_Workspace/physicstools/NN3PDF/yadism/src/yadism/esf/scale_variations.py\" target=\"_blank\"><span style=\"color: #7f7f7f; text-decoration-color: #7f7f7f\">scale_variations.py</span></a><span style=\"color: #7f7f7f; text-decoration-color: #7f7f7f\">:</span><a href=\"file:///Volumes/Git_Workspace/physicstools/NN3PDF/yadism/src/yadism/esf/scale_variations.py#85\" target=\"_blank\"><span style=\"color: #7f7f7f; text-decoration-color: #7f7f7f\">85</span></a>\n",
       "Starting... <span style=\"color: #3a3a3a; text-decoration-color: #3a3a3a\">━━━━━━━━━━━━━━━━━━━━━━━━━━━━━━━━━━━━━━━━</span> <span style=\"color: #800080; text-decoration-color: #800080\">  0%</span> <span style=\"color: #008080; text-decoration-color: #008080\">-:--:--</span></pre>\n"
      ],
      "text/plain": [
       "\r\u001b[2K\u001b[2;36m[15:32:13]\u001b[0m\u001b[2;36m \u001b[0m\u001b[34mINFO    \u001b[0m computing P_qq_0 - took: \u001b[1;36m0.165385\u001b[0m s                                      \u001b]8;id=470632;file:///Volumes/Git_Workspace/physicstools/NN3PDF/yadism/src/yadism/esf/scale_variations.py\u001b\\\u001b[2mscale_variations.py\u001b[0m\u001b]8;;\u001b\\\u001b[2m:\u001b[0m\u001b]8;id=159092;file:///Volumes/Git_Workspace/physicstools/NN3PDF/yadism/src/yadism/esf/scale_variations.py#85\u001b\\\u001b[2m85\u001b[0m\u001b]8;;\u001b\\\n",
       "Starting... \u001b[38;5;237m━━━━━━━━━━━━━━━━━━━━━━━━━━━━━━━━━━━━━━━━\u001b[0m \u001b[35m  0%\u001b[0m \u001b[36m-:--:--\u001b[0m"
      ]
     },
     "metadata": {},
     "output_type": "display_data"
    },
    {
     "data": {
      "text/html": [
       "<pre style=\"white-space:pre;overflow-x:auto;line-height:normal;font-family:Menlo,'DejaVu Sans Mono',consolas,'Courier New',monospace\"><span style=\"color: #7fbfbf; text-decoration-color: #7fbfbf\">           </span><span style=\"color: #000080; text-decoration-color: #000080\">INFO    </span> computing P_qg_0 - took: <span style=\"color: #008080; text-decoration-color: #008080; font-weight: bold\">0.134486</span> s                                      <a href=\"file:///Volumes/Git_Workspace/physicstools/NN3PDF/yadism/src/yadism/esf/scale_variations.py\" target=\"_blank\"><span style=\"color: #7f7f7f; text-decoration-color: #7f7f7f\">scale_variations.py</span></a><span style=\"color: #7f7f7f; text-decoration-color: #7f7f7f\">:</span><a href=\"file:///Volumes/Git_Workspace/physicstools/NN3PDF/yadism/src/yadism/esf/scale_variations.py#85\" target=\"_blank\"><span style=\"color: #7f7f7f; text-decoration-color: #7f7f7f\">85</span></a>\n",
       "Starting... <span style=\"color: #3a3a3a; text-decoration-color: #3a3a3a\">━━━━━━━━━━━━━━━━━━━━━━━━━━━━━━━━━━━━━━━━</span> <span style=\"color: #800080; text-decoration-color: #800080\">  0%</span> <span style=\"color: #008080; text-decoration-color: #008080\">-:--:--</span></pre>\n"
      ],
      "text/plain": [
       "\r\u001b[2K\u001b[2;36m          \u001b[0m\u001b[2;36m \u001b[0m\u001b[34mINFO    \u001b[0m computing P_qg_0 - took: \u001b[1;36m0.134486\u001b[0m s                                      \u001b]8;id=259115;file:///Volumes/Git_Workspace/physicstools/NN3PDF/yadism/src/yadism/esf/scale_variations.py\u001b\\\u001b[2mscale_variations.py\u001b[0m\u001b]8;;\u001b\\\u001b[2m:\u001b[0m\u001b]8;id=905741;file:///Volumes/Git_Workspace/physicstools/NN3PDF/yadism/src/yadism/esf/scale_variations.py#85\u001b\\\u001b[2m85\u001b[0m\u001b]8;;\u001b\\\n",
       "Starting... \u001b[38;5;237m━━━━━━━━━━━━━━━━━━━━━━━━━━━━━━━━━━━━━━━━\u001b[0m \u001b[35m  0%\u001b[0m \u001b[36m-:--:--\u001b[0m"
      ]
     },
     "metadata": {},
     "output_type": "display_data"
    },
    {
     "data": {
      "text/html": [
       "<pre style=\"white-space:pre;overflow-x:auto;line-height:normal;font-family:Menlo,'DejaVu Sans Mono',consolas,'Courier New',monospace\">\n",
       "</pre>\n"
      ],
      "text/plain": [
       "\n",
       "\u001b[?25h\r\u001b[1A\u001b[2K"
      ]
     },
     "metadata": {},
     "output_type": "display_data"
    },
    {
     "data": {
      "text/html": [
       "<pre style=\"white-space:pre;overflow-x:auto;line-height:normal;font-family:Menlo,'DejaVu Sans Mono',consolas,'Courier New',monospace\"><span style=\"color: #008080; text-decoration-color: #008080\">took </span><span style=\"color: #008080; text-decoration-color: #008080; font-weight: bold\">1.57</span><span style=\"color: #008080; text-decoration-color: #008080\"> s</span>\n",
       "</pre>\n"
      ],
      "text/plain": [
       "\u001b[36mtook \u001b[0m\u001b[1;36m1.57\u001b[0m\u001b[36m s\u001b[0m\n"
      ]
     },
     "metadata": {},
     "output_type": "display_data"
    },
    {
     "data": {
      "text/html": [
       "<pre style=\"white-space:pre;overflow-x:auto;line-height:normal;font-family:Menlo,'DejaVu Sans Mono',consolas,'Courier New',monospace\"><span style=\"color: #7fbfbf; text-decoration-color: #7fbfbf\">[15:32:14] </span><span style=\"color: #000080; text-decoration-color: #000080\">INFO    </span> Atlas <span style=\"font-weight: bold\">[</span><span style=\"color: #008080; text-decoration-color: #008080; font-weight: bold\">0.00e+00</span> - <span style=\"color: #008080; text-decoration-color: #008080; font-weight: bold\">2.28e+00</span> - <span style=\"color: #008080; text-decoration-color: #008080; font-weight: bold\">2.42e+01</span> - <span style=\"color: #008080; text-decoration-color: #008080; font-weight: bold\">2.98e+04</span> - inf<span style=\"font-weight: bold\">]</span>, <span style=\"color: #808000; text-decoration-color: #808000\">ref</span>=<span style=\"color: #008080; text-decoration-color: #008080; font-weight: bold\">8317.44</span> @ <span style=\"color: #008080; text-decoration-color: #008080; font-weight: bold\">5</span>        <a href=\"file:///Users/giacomomagni/.conda/envs/yad_dev/lib/python3.10/site-packages/eko/matchings.py\" target=\"_blank\"><span style=\"color: #7f7f7f; text-decoration-color: #7f7f7f\">matchings.py</span></a><span style=\"color: #7f7f7f; text-decoration-color: #7f7f7f\">:</span><a href=\"file:///Users/giacomomagni/.conda/envs/yad_dev/lib/python3.10/site-packages/eko/matchings.py#72\" target=\"_blank\"><span style=\"color: #7f7f7f; text-decoration-color: #7f7f7f\">72</span></a>\n",
       "</pre>\n"
      ],
      "text/plain": [
       "\u001b[2;36m[15:32:14]\u001b[0m\u001b[2;36m \u001b[0m\u001b[34mINFO    \u001b[0m Atlas \u001b[1m[\u001b[0m\u001b[1;36m0.00e+00\u001b[0m - \u001b[1;36m2.28e+00\u001b[0m - \u001b[1;36m2.42e+01\u001b[0m - \u001b[1;36m2.98e+04\u001b[0m - inf\u001b[1m]\u001b[0m, \u001b[33mref\u001b[0m=\u001b[1;36m8317\u001b[0m\u001b[1;36m.44\u001b[0m @ \u001b[1;36m5\u001b[0m        \u001b]8;id=190275;file:///Users/giacomomagni/.conda/envs/yad_dev/lib/python3.10/site-packages/eko/matchings.py\u001b\\\u001b[2mmatchings.py\u001b[0m\u001b]8;;\u001b\\\u001b[2m:\u001b[0m\u001b]8;id=107972;file:///Users/giacomomagni/.conda/envs/yad_dev/lib/python3.10/site-packages/eko/matchings.py#72\u001b\\\u001b[2m72\u001b[0m\u001b]8;;\u001b\\\n"
      ]
     },
     "metadata": {},
     "output_type": "display_data"
    },
    {
     "data": {
      "text/html": [
       "<pre style=\"white-space:pre;overflow-x:auto;line-height:normal;font-family:Menlo,'DejaVu Sans Mono',consolas,'Courier New',monospace\"><span style=\"color: #7fbfbf; text-decoration-color: #7fbfbf\">           </span><span style=\"color: #000080; text-decoration-color: #000080\">INFO    </span> Strong Coupling: <span style=\"color: #800080; text-decoration-color: #800080; font-weight: bold\">a_s</span><span style=\"font-weight: bold\">(</span>µ_R^<span style=\"color: #008080; text-decoration-color: #008080; font-weight: bold\">2</span>=<span style=\"color: #008080; text-decoration-color: #008080; font-weight: bold\">8317.440000</span><span style=\"font-weight: bold\">)</span>^<span style=\"font-weight: bold\">(</span><span style=\"color: #808000; text-decoration-color: #808000\">nf</span>=<span style=\"color: #008080; text-decoration-color: #008080; font-weight: bold\">5</span><span style=\"font-weight: bold\">)</span>=<span style=\"color: #008080; text-decoration-color: #008080; font-weight: bold\">0.009390</span>=<span style=\"color: #008080; text-decoration-color: #008080; font-weight: bold\">0.118000</span>/<span style=\"font-weight: bold\">(</span>4π<span style=\"font-weight: bold\">)</span>          <a href=\"file:///Users/giacomomagni/.conda/envs/yad_dev/lib/python3.10/site-packages/eko/couplings.py\" target=\"_blank\"><span style=\"color: #7f7f7f; text-decoration-color: #7f7f7f\">couplings.py</span></a><span style=\"color: #7f7f7f; text-decoration-color: #7f7f7f\">:</span><a href=\"file:///Users/giacomomagni/.conda/envs/yad_dev/lib/python3.10/site-packages/eko/couplings.py#464\" target=\"_blank\"><span style=\"color: #7f7f7f; text-decoration-color: #7f7f7f\">464</span></a>\n",
       "</pre>\n"
      ],
      "text/plain": [
       "\u001b[2;36m          \u001b[0m\u001b[2;36m \u001b[0m\u001b[34mINFO    \u001b[0m Strong Coupling: \u001b[1;35ma_s\u001b[0m\u001b[1m(\u001b[0mµ_R^\u001b[1;36m2\u001b[0m=\u001b[1;36m8317\u001b[0m\u001b[1;36m.440000\u001b[0m\u001b[1m)\u001b[0m^\u001b[1m(\u001b[0m\u001b[33mnf\u001b[0m=\u001b[1;36m5\u001b[0m\u001b[1m)\u001b[0m=\u001b[1;36m0.\u001b[0m\u001b[1;36m009390\u001b[0m=\u001b[1;36m0\u001b[0m\u001b[1;36m.118000\u001b[0m/\u001b[1m(\u001b[0m4π\u001b[1m)\u001b[0m          \u001b]8;id=590139;file:///Users/giacomomagni/.conda/envs/yad_dev/lib/python3.10/site-packages/eko/couplings.py\u001b\\\u001b[2mcouplings.py\u001b[0m\u001b]8;;\u001b\\\u001b[2m:\u001b[0m\u001b]8;id=881116;file:///Users/giacomomagni/.conda/envs/yad_dev/lib/python3.10/site-packages/eko/couplings.py#464\u001b\\\u001b[2m464\u001b[0m\u001b]8;;\u001b\\\n"
      ]
     },
     "metadata": {},
     "output_type": "display_data"
    },
    {
     "data": {
      "text/html": [
       "<pre style=\"white-space:pre;overflow-x:auto;line-height:normal;font-family:Menlo,'DejaVu Sans Mono',consolas,'Courier New',monospace\"><span style=\"color: #7fbfbf; text-decoration-color: #7fbfbf\">           </span><span style=\"color: #000080; text-decoration-color: #000080\">INFO    </span> Atlas <span style=\"font-weight: bold\">[</span><span style=\"color: #008080; text-decoration-color: #008080; font-weight: bold\">0.00e+00</span> - <span style=\"color: #008080; text-decoration-color: #008080; font-weight: bold\">2.28e+00</span> - <span style=\"color: #008080; text-decoration-color: #008080; font-weight: bold\">2.42e+01</span> - <span style=\"color: #008080; text-decoration-color: #008080; font-weight: bold\">2.98e+04</span> - inf<span style=\"font-weight: bold\">]</span>, <span style=\"color: #808000; text-decoration-color: #808000\">ref</span>=<span style=\"color: #008080; text-decoration-color: #008080; font-weight: bold\">8317.44</span> @ <span style=\"color: #008080; text-decoration-color: #008080; font-weight: bold\">5</span>        <a href=\"file:///Users/giacomomagni/.conda/envs/yad_dev/lib/python3.10/site-packages/eko/matchings.py\" target=\"_blank\"><span style=\"color: #7f7f7f; text-decoration-color: #7f7f7f\">matchings.py</span></a><span style=\"color: #7f7f7f; text-decoration-color: #7f7f7f\">:</span><a href=\"file:///Users/giacomomagni/.conda/envs/yad_dev/lib/python3.10/site-packages/eko/matchings.py#72\" target=\"_blank\"><span style=\"color: #7f7f7f; text-decoration-color: #7f7f7f\">72</span></a>\n",
       "</pre>\n"
      ],
      "text/plain": [
       "\u001b[2;36m          \u001b[0m\u001b[2;36m \u001b[0m\u001b[34mINFO    \u001b[0m Atlas \u001b[1m[\u001b[0m\u001b[1;36m0.00e+00\u001b[0m - \u001b[1;36m2.28e+00\u001b[0m - \u001b[1;36m2.42e+01\u001b[0m - \u001b[1;36m2.98e+04\u001b[0m - inf\u001b[1m]\u001b[0m, \u001b[33mref\u001b[0m=\u001b[1;36m8317\u001b[0m\u001b[1;36m.44\u001b[0m @ \u001b[1;36m5\u001b[0m        \u001b]8;id=335610;file:///Users/giacomomagni/.conda/envs/yad_dev/lib/python3.10/site-packages/eko/matchings.py\u001b\\\u001b[2mmatchings.py\u001b[0m\u001b]8;;\u001b\\\u001b[2m:\u001b[0m\u001b]8;id=459872;file:///Users/giacomomagni/.conda/envs/yad_dev/lib/python3.10/site-packages/eko/matchings.py#72\u001b\\\u001b[2m72\u001b[0m\u001b]8;;\u001b\\\n"
      ]
     },
     "metadata": {},
     "output_type": "display_data"
    },
    {
     "data": {
      "text/html": [
       "<pre style=\"white-space:pre;overflow-x:auto;line-height:normal;font-family:Menlo,'DejaVu Sans Mono',consolas,'Courier New',monospace\"><span style=\"color: #7fbfbf; text-decoration-color: #7fbfbf\">           </span><span style=\"color: #000080; text-decoration-color: #000080\">INFO    </span> Interpolation: number of points = <span style=\"color: #008080; text-decoration-color: #008080; font-weight: bold\">30</span>, polynomial degree = <span style=\"color: #008080; text-decoration-color: #008080; font-weight: bold\">4</span>, logarithmic = <a href=\"file:///Users/giacomomagni/.conda/envs/yad_dev/lib/python3.10/site-packages/eko/interpolation.py\" target=\"_blank\"><span style=\"color: #7f7f7f; text-decoration-color: #7f7f7f\">interpolation.py</span></a><span style=\"color: #7f7f7f; text-decoration-color: #7f7f7f\">:</span><a href=\"file:///Users/giacomomagni/.conda/envs/yad_dev/lib/python3.10/site-packages/eko/interpolation.py#538\" target=\"_blank\"><span style=\"color: #7f7f7f; text-decoration-color: #7f7f7f\">538</span></a>\n",
       "<span style=\"color: #7fbfbf; text-decoration-color: #7fbfbf\">           </span>         <span style=\"color: #00ff00; text-decoration-color: #00ff00; font-style: italic\">True</span>                                                                       <span style=\"color: #7f7f7f; text-decoration-color: #7f7f7f\">                    </span>\n",
       "</pre>\n"
      ],
      "text/plain": [
       "\u001b[2;36m          \u001b[0m\u001b[2;36m \u001b[0m\u001b[34mINFO    \u001b[0m Interpolation: number of points = \u001b[1;36m30\u001b[0m, polynomial degree = \u001b[1;36m4\u001b[0m, logarithmic = \u001b]8;id=94715;file:///Users/giacomomagni/.conda/envs/yad_dev/lib/python3.10/site-packages/eko/interpolation.py\u001b\\\u001b[2minterpolation.py\u001b[0m\u001b]8;;\u001b\\\u001b[2m:\u001b[0m\u001b]8;id=47559;file:///Users/giacomomagni/.conda/envs/yad_dev/lib/python3.10/site-packages/eko/interpolation.py#538\u001b\\\u001b[2m538\u001b[0m\u001b]8;;\u001b\\\n",
       "\u001b[2;36m           \u001b[0m         \u001b[3;92mTrue\u001b[0m                                                                       \u001b[2m                    \u001b[0m\n"
      ]
     },
     "metadata": {},
     "output_type": "display_data"
    },
    {
     "name": "stdout",
     "output_type": "stream",
     "text": [
      "LHAPDF 6.5.0 loading /Users/giacomomagni/.conda/envs/yad_dev/share/LHAPDF/NNPDF40_evolved_nf4/NNPDF40_evolved_nf4_0000.dat\n",
      "NNPDF40_evolved_nf4 PDF set, member #0, version 1\n"
     ]
    },
    {
     "data": {
      "text/html": [
       "<pre style=\"white-space:pre;overflow-x:auto;line-height:normal;font-family:Menlo,'DejaVu Sans Mono',consolas,'Courier New',monospace\"><span style=\"color: #7fbfbf; text-decoration-color: #7fbfbf\">           </span><span style=\"color: #000080; text-decoration-color: #000080\">INFO    </span> <span style=\"font-weight: bold\">{</span><span style=\"color: #008000; text-decoration-color: #008000\">'MZ2'</span>: <span style=\"color: #008080; text-decoration-color: #008080; font-weight: bold\">8315.178393760001</span>, <span style=\"color: #008000; text-decoration-color: #008000\">'CKM'</span>: <span style=\"color: #800080; text-decoration-color: #800080; font-weight: bold\">CKM</span><span style=\"font-weight: bold\">([[</span><span style=\"color: #008080; text-decoration-color: #008080; font-weight: bold\">9.49221518e-01</span> <span style=\"color: #008080; text-decoration-color: #008080; font-weight: bold\">5.07600900e-02</span>  <a href=\"file:///Volumes/Git_Workspace/physicstools/NN3PDF/yadism/src/yadism/coefficient_functions/coupling_constants.py\" target=\"_blank\"><span style=\"color: #7f7f7f; text-decoration-color: #7f7f7f\">coupling_constants.py</span></a><span style=\"color: #7f7f7f; text-decoration-color: #7f7f7f\">:</span><a href=\"file:///Volumes/Git_Workspace/physicstools/NN3PDF/yadism/src/yadism/coefficient_functions/coupling_constants.py#53\" target=\"_blank\"><span style=\"color: #7f7f7f; text-decoration-color: #7f7f7f\">53</span></a>\n",
       "<span style=\"color: #7fbfbf; text-decoration-color: #7fbfbf\">           </span>         <span style=\"color: #008080; text-decoration-color: #008080; font-weight: bold\">1.20409000e-05</span><span style=\"font-weight: bold\">]</span> <span style=\"font-weight: bold\">[</span><span style=\"color: #008080; text-decoration-color: #008080; font-weight: bold\">5.07150400e-02</span> <span style=\"color: #008080; text-decoration-color: #008080; font-weight: bold\">9.47604903e-01</span> <span style=\"color: #008080; text-decoration-color: #008080; font-weight: bold\">1.68100000e-03</span><span style=\"font-weight: bold\">]</span>         <span style=\"color: #7f7f7f; text-decoration-color: #7f7f7f\">                        </span>\n",
       "<span style=\"color: #7fbfbf; text-decoration-color: #7fbfbf\">           </span>         <span style=\"font-weight: bold\">[</span><span style=\"color: #008080; text-decoration-color: #008080; font-weight: bold\">7.43044000e-05</span> <span style=\"color: #008080; text-decoration-color: #008080; font-weight: bold\">1.62409000e-03</span> <span style=\"color: #008080; text-decoration-color: #008080; font-weight: bold\">9.98304719e-01</span><span style=\"font-weight: bold\">]])</span>, <span style=\"color: #008000; text-decoration-color: #008000\">'sin2theta_weak'</span>:    <span style=\"color: #7f7f7f; text-decoration-color: #7f7f7f\">                        </span>\n",
       "<span style=\"color: #7fbfbf; text-decoration-color: #7fbfbf\">           </span>         <span style=\"color: #008080; text-decoration-color: #008080; font-weight: bold\">0.23121</span>, <span style=\"color: #008000; text-decoration-color: #008000\">'MW2'</span>: <span style=\"color: #008080; text-decoration-color: #008080; font-weight: bold\">6463.838403999999</span><span style=\"font-weight: bold\">}</span>                                     <span style=\"color: #7f7f7f; text-decoration-color: #7f7f7f\">                        </span>\n",
       "</pre>\n"
      ],
      "text/plain": [
       "\u001b[2;36m          \u001b[0m\u001b[2;36m \u001b[0m\u001b[34mINFO    \u001b[0m \u001b[1m{\u001b[0m\u001b[32m'MZ2'\u001b[0m: \u001b[1;36m8315.178393760001\u001b[0m, \u001b[32m'CKM'\u001b[0m: \u001b[1;35mCKM\u001b[0m\u001b[1m(\u001b[0m\u001b[1m[\u001b[0m\u001b[1m[\u001b[0m\u001b[1;36m9.49221518e-01\u001b[0m \u001b[1;36m5.07600900e-02\u001b[0m  \u001b]8;id=691385;file:///Volumes/Git_Workspace/physicstools/NN3PDF/yadism/src/yadism/coefficient_functions/coupling_constants.py\u001b\\\u001b[2mcoupling_constants.py\u001b[0m\u001b]8;;\u001b\\\u001b[2m:\u001b[0m\u001b]8;id=591667;file:///Volumes/Git_Workspace/physicstools/NN3PDF/yadism/src/yadism/coefficient_functions/coupling_constants.py#53\u001b\\\u001b[2m53\u001b[0m\u001b]8;;\u001b\\\n",
       "\u001b[2;36m           \u001b[0m         \u001b[1;36m1.20409000e-05\u001b[0m\u001b[1m]\u001b[0m \u001b[1m[\u001b[0m\u001b[1;36m5.07150400e-02\u001b[0m \u001b[1;36m9.47604903e-01\u001b[0m \u001b[1;36m1.68100000e-03\u001b[0m\u001b[1m]\u001b[0m         \u001b[2m                        \u001b[0m\n",
       "\u001b[2;36m           \u001b[0m         \u001b[1m[\u001b[0m\u001b[1;36m7.43044000e-05\u001b[0m \u001b[1;36m1.62409000e-03\u001b[0m \u001b[1;36m9.98304719e-01\u001b[0m\u001b[1m]\u001b[0m\u001b[1m]\u001b[0m\u001b[1m)\u001b[0m, \u001b[32m'sin2theta_weak'\u001b[0m:    \u001b[2m                        \u001b[0m\n",
       "\u001b[2;36m           \u001b[0m         \u001b[1;36m0.23121\u001b[0m, \u001b[32m'MW2'\u001b[0m: \u001b[1;36m6463.838403999999\u001b[0m\u001b[1m}\u001b[0m                                     \u001b[2m                        \u001b[0m\n"
      ]
     },
     "metadata": {},
     "output_type": "display_data"
    },
    {
     "data": {
      "text/html": [
       "<pre style=\"white-space:pre;overflow-x:auto;line-height:normal;font-family:Menlo,'DejaVu Sans Mono',consolas,'Courier New',monospace\"><span style=\"color: #7fbfbf; text-decoration-color: #7fbfbf\">           </span><span style=\"color: #000080; text-decoration-color: #000080\">INFO    </span> <span style=\"font-weight: bold\">{</span><span style=\"color: #008000; text-decoration-color: #008000\">'process'</span>: <span style=\"color: #008000; text-decoration-color: #008000\">'NC'</span>, <span style=\"color: #008000; text-decoration-color: #008000\">'projectilePID'</span>: <span style=\"color: #008080; text-decoration-color: #008080; font-weight: bold\">11</span>, <span style=\"color: #008000; text-decoration-color: #008000\">'polarization'</span>: <span style=\"color: #008080; text-decoration-color: #008080; font-weight: bold\">0.0</span>,            <a href=\"file:///Volumes/Git_Workspace/physicstools/NN3PDF/yadism/src/yadism/coefficient_functions/coupling_constants.py\" target=\"_blank\"><span style=\"color: #7f7f7f; text-decoration-color: #7f7f7f\">coupling_constants.py</span></a><span style=\"color: #7f7f7f; text-decoration-color: #7f7f7f\">:</span><a href=\"file:///Volumes/Git_Workspace/physicstools/NN3PDF/yadism/src/yadism/coefficient_functions/coupling_constants.py#54\" target=\"_blank\"><span style=\"color: #7f7f7f; text-decoration-color: #7f7f7f\">54</span></a>\n",
       "<span style=\"color: #7fbfbf; text-decoration-color: #7fbfbf\">           </span>         <span style=\"color: #008000; text-decoration-color: #008000\">'propagatorCorrection'</span>: <span style=\"color: #008080; text-decoration-color: #008080; font-weight: bold\">0.0</span>, <span style=\"color: #008000; text-decoration-color: #008000\">'nc_pos_charge'</span>: <span style=\"color: #800080; text-decoration-color: #800080; font-style: italic\">None</span><span style=\"font-weight: bold\">}</span>                    <span style=\"color: #7f7f7f; text-decoration-color: #7f7f7f\">                        </span>\n",
       "</pre>\n"
      ],
      "text/plain": [
       "\u001b[2;36m          \u001b[0m\u001b[2;36m \u001b[0m\u001b[34mINFO    \u001b[0m \u001b[1m{\u001b[0m\u001b[32m'process'\u001b[0m: \u001b[32m'NC'\u001b[0m, \u001b[32m'projectilePID'\u001b[0m: \u001b[1;36m11\u001b[0m, \u001b[32m'polarization'\u001b[0m: \u001b[1;36m0.0\u001b[0m,            \u001b]8;id=840386;file:///Volumes/Git_Workspace/physicstools/NN3PDF/yadism/src/yadism/coefficient_functions/coupling_constants.py\u001b\\\u001b[2mcoupling_constants.py\u001b[0m\u001b]8;;\u001b\\\u001b[2m:\u001b[0m\u001b]8;id=575181;file:///Volumes/Git_Workspace/physicstools/NN3PDF/yadism/src/yadism/coefficient_functions/coupling_constants.py#54\u001b\\\u001b[2m54\u001b[0m\u001b]8;;\u001b\\\n",
       "\u001b[2;36m           \u001b[0m         \u001b[32m'propagatorCorrection'\u001b[0m: \u001b[1;36m0.0\u001b[0m, \u001b[32m'nc_pos_charge'\u001b[0m: \u001b[3;35mNone\u001b[0m\u001b[1m}\u001b[0m                    \u001b[2m                        \u001b[0m\n"
      ]
     },
     "metadata": {},
     "output_type": "display_data"
    },
    {
     "data": {
      "text/html": [
       "<pre style=\"white-space:pre;overflow-x:auto;line-height:normal;font-family:Menlo,'DejaVu Sans Mono',consolas,'Courier New',monospace\"><span style=\"color: #7fbfbf; text-decoration-color: #7fbfbf\">           </span><span style=\"color: #000080; text-decoration-color: #000080\">INFO    </span> RenScaleVar: <span style=\"color: #00ff00; text-decoration-color: #00ff00; font-style: italic\">True</span>, FactScaleVar: <span style=\"color: #00ff00; text-decoration-color: #00ff00; font-style: italic\">True</span>                                    <a href=\"file:///Volumes/Git_Workspace/physicstools/NN3PDF/yadism/src/yadism/esf/scale_variations.py\" target=\"_blank\"><span style=\"color: #7f7f7f; text-decoration-color: #7f7f7f\">scale_variations.py</span></a><span style=\"color: #7f7f7f; text-decoration-color: #7f7f7f\">:</span><a href=\"file:///Volumes/Git_Workspace/physicstools/NN3PDF/yadism/src/yadism/esf/scale_variations.py#62\" target=\"_blank\"><span style=\"color: #7f7f7f; text-decoration-color: #7f7f7f\">62</span></a>\n",
       "</pre>\n"
      ],
      "text/plain": [
       "\u001b[2;36m          \u001b[0m\u001b[2;36m \u001b[0m\u001b[34mINFO    \u001b[0m RenScaleVar: \u001b[3;92mTrue\u001b[0m, FactScaleVar: \u001b[3;92mTrue\u001b[0m                                    \u001b]8;id=254370;file:///Volumes/Git_Workspace/physicstools/NN3PDF/yadism/src/yadism/esf/scale_variations.py\u001b\\\u001b[2mscale_variations.py\u001b[0m\u001b]8;;\u001b\\\u001b[2m:\u001b[0m\u001b]8;id=50517;file:///Volumes/Git_Workspace/physicstools/NN3PDF/yadism/src/yadism/esf/scale_variations.py#62\u001b\\\u001b[2m62\u001b[0m\u001b]8;;\u001b\\\n"
      ]
     },
     "metadata": {},
     "output_type": "display_data"
    },
    {
     "data": {
      "text/html": [
       "<pre style=\"white-space:pre;overflow-x:auto;line-height:normal;font-family:Menlo,'DejaVu Sans Mono',consolas,'Courier New',monospace\"><span style=\"color: #7fbfbf; text-decoration-color: #7fbfbf\">           </span><span style=\"color: #000080; text-decoration-color: #000080\">INFO    </span> Atlas <span style=\"font-weight: bold\">[</span><span style=\"color: #008080; text-decoration-color: #008080; font-weight: bold\">0.00e+00</span> - <span style=\"color: #008080; text-decoration-color: #008080; font-weight: bold\">0.00e+00</span> - inf - inf - inf<span style=\"font-weight: bold\">]</span>, <span style=\"color: #808000; text-decoration-color: #808000\">ref</span>=<span style=\"color: #008080; text-decoration-color: #008080; font-weight: bold\">2.7224999999999997</span> @ <span style=\"color: #008080; text-decoration-color: #008080; font-weight: bold\">4</span>       <a href=\"file:///Users/giacomomagni/.conda/envs/yad_dev/lib/python3.10/site-packages/eko/matchings.py\" target=\"_blank\"><span style=\"color: #7f7f7f; text-decoration-color: #7f7f7f\">matchings.py</span></a><span style=\"color: #7f7f7f; text-decoration-color: #7f7f7f\">:</span><a href=\"file:///Users/giacomomagni/.conda/envs/yad_dev/lib/python3.10/site-packages/eko/matchings.py#72\" target=\"_blank\"><span style=\"color: #7f7f7f; text-decoration-color: #7f7f7f\">72</span></a>\n",
       "</pre>\n"
      ],
      "text/plain": [
       "\u001b[2;36m          \u001b[0m\u001b[2;36m \u001b[0m\u001b[34mINFO    \u001b[0m Atlas \u001b[1m[\u001b[0m\u001b[1;36m0.00e+00\u001b[0m - \u001b[1;36m0.00e+00\u001b[0m - inf - inf - inf\u001b[1m]\u001b[0m, \u001b[33mref\u001b[0m=\u001b[1;36m2\u001b[0m\u001b[1;36m.7224999999999997\u001b[0m @ \u001b[1;36m4\u001b[0m       \u001b]8;id=423901;file:///Users/giacomomagni/.conda/envs/yad_dev/lib/python3.10/site-packages/eko/matchings.py\u001b\\\u001b[2mmatchings.py\u001b[0m\u001b]8;;\u001b\\\u001b[2m:\u001b[0m\u001b]8;id=130517;file:///Users/giacomomagni/.conda/envs/yad_dev/lib/python3.10/site-packages/eko/matchings.py#72\u001b\\\u001b[2m72\u001b[0m\u001b]8;;\u001b\\\n"
      ]
     },
     "metadata": {},
     "output_type": "display_data"
    },
    {
     "data": {
      "text/html": [
       "<pre style=\"white-space:pre;overflow-x:auto;line-height:normal;font-family:Menlo,'DejaVu Sans Mono',consolas,'Courier New',monospace\"><span style=\"color: #7fbfbf; text-decoration-color: #7fbfbf\">           </span><span style=\"color: #000080; text-decoration-color: #000080\">INFO    </span> PTO: <span style=\"color: #008080; text-decoration-color: #008080; font-weight: bold\">1</span>, PTO@evolution: <span style=\"color: #008080; text-decoration-color: #008080; font-weight: bold\">1</span>, process: NC                                             <a href=\"file:///Volumes/Git_Workspace/physicstools/NN3PDF/yadism/src/yadism/runner.py\" target=\"_blank\"><span style=\"color: #7f7f7f; text-decoration-color: #7f7f7f\">runner.py</span></a><span style=\"color: #7f7f7f; text-decoration-color: #7f7f7f\">:</span><a href=\"file:///Volumes/Git_Workspace/physicstools/NN3PDF/yadism/src/yadism/runner.py#142\" target=\"_blank\"><span style=\"color: #7f7f7f; text-decoration-color: #7f7f7f\">142</span></a>\n",
       "</pre>\n"
      ],
      "text/plain": [
       "\u001b[2;36m          \u001b[0m\u001b[2;36m \u001b[0m\u001b[34mINFO    \u001b[0m PTO: \u001b[1;36m1\u001b[0m, PTO@evolution: \u001b[1;36m1\u001b[0m, process: NC                                             \u001b]8;id=73861;file:///Volumes/Git_Workspace/physicstools/NN3PDF/yadism/src/yadism/runner.py\u001b\\\u001b[2mrunner.py\u001b[0m\u001b]8;;\u001b\\\u001b[2m:\u001b[0m\u001b]8;id=711310;file:///Volumes/Git_Workspace/physicstools/NN3PDF/yadism/src/yadism/runner.py#142\u001b\\\u001b[2m142\u001b[0m\u001b]8;;\u001b\\\n"
      ]
     },
     "metadata": {},
     "output_type": "display_data"
    },
    {
     "data": {
      "text/html": [
       "<pre style=\"white-space:pre;overflow-x:auto;line-height:normal;font-family:Menlo,'DejaVu Sans Mono',consolas,'Courier New',monospace\"><span style=\"color: #7fbfbf; text-decoration-color: #7fbfbf\">           </span><span style=\"color: #000080; text-decoration-color: #000080\">INFO    </span> FNS: FONLL-FFNS, NfFF: <span style=\"color: #008080; text-decoration-color: #008080; font-weight: bold\">4</span>                                                          <a href=\"file:///Volumes/Git_Workspace/physicstools/NN3PDF/yadism/src/yadism/runner.py\" target=\"_blank\"><span style=\"color: #7f7f7f; text-decoration-color: #7f7f7f\">runner.py</span></a><span style=\"color: #7f7f7f; text-decoration-color: #7f7f7f\">:</span><a href=\"file:///Volumes/Git_Workspace/physicstools/NN3PDF/yadism/src/yadism/runner.py#149\" target=\"_blank\"><span style=\"color: #7f7f7f; text-decoration-color: #7f7f7f\">149</span></a>\n",
       "</pre>\n"
      ],
      "text/plain": [
       "\u001b[2;36m          \u001b[0m\u001b[2;36m \u001b[0m\u001b[34mINFO    \u001b[0m FNS: FONLL-FFNS, NfFF: \u001b[1;36m4\u001b[0m                                                          \u001b]8;id=54738;file:///Volumes/Git_Workspace/physicstools/NN3PDF/yadism/src/yadism/runner.py\u001b\\\u001b[2mrunner.py\u001b[0m\u001b]8;;\u001b\\\u001b[2m:\u001b[0m\u001b]8;id=390476;file:///Volumes/Git_Workspace/physicstools/NN3PDF/yadism/src/yadism/runner.py#149\u001b\\\u001b[2m149\u001b[0m\u001b]8;;\u001b\\\n"
      ]
     },
     "metadata": {},
     "output_type": "display_data"
    },
    {
     "data": {
      "text/html": [
       "<pre style=\"white-space:pre;overflow-x:auto;line-height:normal;font-family:Menlo,'DejaVu Sans Mono',consolas,'Courier New',monospace\"><span style=\"color: #7fbfbf; text-decoration-color: #7fbfbf\">           </span><span style=\"color: #000080; text-decoration-color: #000080\">INFO    </span> projectile: electron, target: <span style=\"font-weight: bold\">{</span>Z: <span style=\"color: #008080; text-decoration-color: #008080; font-weight: bold\">1</span>, A: <span style=\"color: #008080; text-decoration-color: #008080; font-weight: bold\">1</span><span style=\"font-weight: bold\">}</span>                                        <a href=\"file:///Volumes/Git_Workspace/physicstools/NN3PDF/yadism/src/yadism/runner.py\" target=\"_blank\"><span style=\"color: #7f7f7f; text-decoration-color: #7f7f7f\">runner.py</span></a><span style=\"color: #7f7f7f; text-decoration-color: #7f7f7f\">:</span><a href=\"file:///Volumes/Git_Workspace/physicstools/NN3PDF/yadism/src/yadism/runner.py#150\" target=\"_blank\"><span style=\"color: #7f7f7f; text-decoration-color: #7f7f7f\">150</span></a>\n",
       "</pre>\n"
      ],
      "text/plain": [
       "\u001b[2;36m          \u001b[0m\u001b[2;36m \u001b[0m\u001b[34mINFO    \u001b[0m projectile: electron, target: \u001b[1m{\u001b[0mZ: \u001b[1;36m1\u001b[0m, A: \u001b[1;36m1\u001b[0m\u001b[1m}\u001b[0m                                        \u001b]8;id=786884;file:///Volumes/Git_Workspace/physicstools/NN3PDF/yadism/src/yadism/runner.py\u001b\\\u001b[2mrunner.py\u001b[0m\u001b]8;;\u001b\\\u001b[2m:\u001b[0m\u001b]8;id=631192;file:///Volumes/Git_Workspace/physicstools/NN3PDF/yadism/src/yadism/runner.py#150\u001b\\\u001b[2m150\u001b[0m\u001b]8;;\u001b\\\n"
      ]
     },
     "metadata": {},
     "output_type": "display_data"
    },
    {
     "data": {
      "text/html": [
       "<pre style=\"white-space:pre;overflow-x:auto;line-height:normal;font-family:Menlo,'DejaVu Sans Mono',consolas,'Courier New',monospace\">                                      <span style=\"color: #800080; text-decoration-color: #800080\">┌────────────────────────────────────┐</span>                                       \n",
       "                                      <span style=\"color: #800080; text-decoration-color: #800080\">│                                    │</span>                                       \n",
       "                                      <span style=\"color: #800080; text-decoration-color: #800080\">│ __     __       _ _                │</span>                                       \n",
       "                                      <span style=\"color: #800080; text-decoration-color: #800080\">│ \\ \\   / /      | (_)               │</span>                                       \n",
       "                                      <span style=\"color: #800080; text-decoration-color: #800080\">│  \\ \\_/ /_ _  __| |_ ___ _ __ ___   │</span>                                       \n",
       "                                      <span style=\"color: #800080; text-decoration-color: #800080\">│   \\   / _` |/ _` | / __| '_ ` _ \\  │</span>                                       \n",
       "                                      <span style=\"color: #800080; text-decoration-color: #800080\">│    | | (_| | (_| | \\__ \\ | | | | | │</span>                                       \n",
       "                                      <span style=\"color: #800080; text-decoration-color: #800080\">│    |_|\\__,_|\\__,_|_|___/_| |_| |_| │</span>                                       \n",
       "                                      <span style=\"color: #800080; text-decoration-color: #800080\">│                                    │</span>                                       \n",
       "                                      <span style=\"color: #800080; text-decoration-color: #800080\">└────────────────────────────────────┘</span>                                       \n",
       "</pre>\n"
      ],
      "text/plain": [
       "                                      \u001b[35m┌────────────────────────────────────┐\u001b[0m                                       \n",
       "                                      \u001b[35m│\u001b[0m\u001b[35m                                    \u001b[0m\u001b[35m│\u001b[0m                                       \n",
       "                                      \u001b[35m│\u001b[0m\u001b[35m \u001b[0m\u001b[35m__     __       _ _\u001b[0m\u001b[35m               \u001b[0m\u001b[35m \u001b[0m\u001b[35m│\u001b[0m                                       \n",
       "                                      \u001b[35m│\u001b[0m\u001b[35m \u001b[0m\u001b[35m\\ \\   / /      | (_)\u001b[0m\u001b[35m              \u001b[0m\u001b[35m \u001b[0m\u001b[35m│\u001b[0m                                       \n",
       "                                      \u001b[35m│\u001b[0m\u001b[35m \u001b[0m\u001b[35m \\ \\_/ /_ _  __| |_ ___ _ __ ___\u001b[0m\u001b[35m  \u001b[0m\u001b[35m \u001b[0m\u001b[35m│\u001b[0m                                       \n",
       "                                      \u001b[35m│\u001b[0m\u001b[35m \u001b[0m\u001b[35m  \\   / _` |/ _` | / __| '_ ` _ \\\u001b[0m\u001b[35m \u001b[0m\u001b[35m \u001b[0m\u001b[35m│\u001b[0m                                       \n",
       "                                      \u001b[35m│\u001b[0m\u001b[35m \u001b[0m\u001b[35m   | | (_| | (_| | \\__ \\ | | | | |\u001b[0m\u001b[35m \u001b[0m\u001b[35m│\u001b[0m                                       \n",
       "                                      \u001b[35m│\u001b[0m\u001b[35m \u001b[0m\u001b[35m   |_|\\__,_|\\__,_|_|___/_| |_| |_|\u001b[0m\u001b[35m \u001b[0m\u001b[35m│\u001b[0m                                       \n",
       "                                      \u001b[35m│\u001b[0m\u001b[35m                                    \u001b[0m\u001b[35m│\u001b[0m                                       \n",
       "                                      \u001b[35m└────────────────────────────────────┘\u001b[0m                                       \n"
      ]
     },
     "metadata": {},
     "output_type": "display_data"
    },
    {
     "data": {
      "text/html": [
       "<pre style=\"white-space:pre;overflow-x:auto;line-height:normal;font-family:Menlo,'DejaVu Sans Mono',consolas,'Courier New',monospace\">\n",
       "                                                       <span style=\"font-weight: bold; text-decoration: underline\">Plan</span>                                                        \n",
       "</pre>\n"
      ],
      "text/plain": [
       "\n",
       "                                                       \u001b[1;4mPlan\u001b[0m                                                        \n"
      ]
     },
     "metadata": {},
     "output_type": "display_data"
    },
    {
     "data": {
      "text/html": [
       "<pre style=\"white-space:pre;overflow-x:auto;line-height:normal;font-family:Menlo,'DejaVu Sans Mono',consolas,'Courier New',monospace\">\n",
       "<span style=\"color: #808000; text-decoration-color: #808000; font-weight: bold\"> • </span>F2_charm at 2 pts                                                                                               \n",
       "</pre>\n"
      ],
      "text/plain": [
       "\n",
       "\u001b[1;33m • \u001b[0mF2_charm at 2 pts                                                                                               \n"
      ]
     },
     "metadata": {},
     "output_type": "display_data"
    },
    {
     "data": {
      "text/html": [
       "<pre style=\"white-space:pre;overflow-x:auto;line-height:normal;font-family:Menlo,'DejaVu Sans Mono',consolas,'Courier New',monospace\">\n",
       "                                                    <span style=\"font-weight: bold; text-decoration: underline\">Calculation</span>                                                    \n",
       "</pre>\n"
      ],
      "text/plain": [
       "\n",
       "                                                    \u001b[1;4mCalculation\u001b[0m                                                    \n"
      ]
     },
     "metadata": {},
     "output_type": "display_data"
    },
    {
     "data": {
      "text/html": [
       "<pre style=\"white-space:pre;overflow-x:auto;line-height:normal;font-family:Menlo,'DejaVu Sans Mono',consolas,'Courier New',monospace\">yadism took off! please stay tuned <span style=\"color: #808000; text-decoration-color: #808000\">...</span>\n",
       "</pre>\n"
      ],
      "text/plain": [
       "yadism took off! please stay tuned \u001b[33m...\u001b[0m\n"
      ]
     },
     "metadata": {},
     "output_type": "display_data"
    },
    {
     "data": {
      "text/html": [
       "<pre style=\"white-space:pre;overflow-x:auto;line-height:normal;font-family:Menlo,'DejaVu Sans Mono',consolas,'Courier New',monospace\"></pre>\n"
      ],
      "text/plain": [
       "\u001b[?25l"
      ]
     },
     "metadata": {},
     "output_type": "display_data"
    },
    {
     "data": {
      "application/vnd.jupyter.widget-view+json": {
       "model_id": "0a27204685b64e859e6c26a320398915",
       "version_major": 2,
       "version_minor": 0
      },
      "text/plain": [
       "Output()"
      ]
     },
     "metadata": {},
     "output_type": "display_data"
    },
    {
     "data": {
      "text/html": [
       "<pre style=\"white-space:pre;overflow-x:auto;line-height:normal;font-family:Menlo,'DejaVu Sans Mono',consolas,'Courier New',monospace\"><span style=\"color: #7fbfbf; text-decoration-color: #7fbfbf\">[15:32:15] </span><span style=\"color: #000080; text-decoration-color: #000080\">INFO    </span> computing P_qq_0 - took: <span style=\"color: #008080; text-decoration-color: #008080; font-weight: bold\">0.162115</span> s                                      <a href=\"file:///Volumes/Git_Workspace/physicstools/NN3PDF/yadism/src/yadism/esf/scale_variations.py\" target=\"_blank\"><span style=\"color: #7f7f7f; text-decoration-color: #7f7f7f\">scale_variations.py</span></a><span style=\"color: #7f7f7f; text-decoration-color: #7f7f7f\">:</span><a href=\"file:///Volumes/Git_Workspace/physicstools/NN3PDF/yadism/src/yadism/esf/scale_variations.py#85\" target=\"_blank\"><span style=\"color: #7f7f7f; text-decoration-color: #7f7f7f\">85</span></a>\n",
       "Starting... <span style=\"color: #3a3a3a; text-decoration-color: #3a3a3a\">━━━━━━━━━━━━━━━━━━━━━━━━━━━━━━━━━━━━━━━━</span> <span style=\"color: #800080; text-decoration-color: #800080\">  0%</span> <span style=\"color: #008080; text-decoration-color: #008080\">-:--:--</span></pre>\n"
      ],
      "text/plain": [
       "\r\u001b[2K\u001b[2;36m[15:32:15]\u001b[0m\u001b[2;36m \u001b[0m\u001b[34mINFO    \u001b[0m computing P_qq_0 - took: \u001b[1;36m0.162115\u001b[0m s                                      \u001b]8;id=624537;file:///Volumes/Git_Workspace/physicstools/NN3PDF/yadism/src/yadism/esf/scale_variations.py\u001b\\\u001b[2mscale_variations.py\u001b[0m\u001b]8;;\u001b\\\u001b[2m:\u001b[0m\u001b]8;id=491586;file:///Volumes/Git_Workspace/physicstools/NN3PDF/yadism/src/yadism/esf/scale_variations.py#85\u001b\\\u001b[2m85\u001b[0m\u001b]8;;\u001b\\\n",
       "Starting... \u001b[38;5;237m━━━━━━━━━━━━━━━━━━━━━━━━━━━━━━━━━━━━━━━━\u001b[0m \u001b[35m  0%\u001b[0m \u001b[36m-:--:--\u001b[0m"
      ]
     },
     "metadata": {},
     "output_type": "display_data"
    },
    {
     "data": {
      "text/html": [
       "<pre style=\"white-space:pre;overflow-x:auto;line-height:normal;font-family:Menlo,'DejaVu Sans Mono',consolas,'Courier New',monospace\"><span style=\"color: #7fbfbf; text-decoration-color: #7fbfbf\">           </span><span style=\"color: #000080; text-decoration-color: #000080\">INFO    </span> computing P_qg_0 - took: <span style=\"color: #008080; text-decoration-color: #008080; font-weight: bold\">0.135772</span> s                                      <a href=\"file:///Volumes/Git_Workspace/physicstools/NN3PDF/yadism/src/yadism/esf/scale_variations.py\" target=\"_blank\"><span style=\"color: #7f7f7f; text-decoration-color: #7f7f7f\">scale_variations.py</span></a><span style=\"color: #7f7f7f; text-decoration-color: #7f7f7f\">:</span><a href=\"file:///Volumes/Git_Workspace/physicstools/NN3PDF/yadism/src/yadism/esf/scale_variations.py#85\" target=\"_blank\"><span style=\"color: #7f7f7f; text-decoration-color: #7f7f7f\">85</span></a>\n",
       "Starting... <span style=\"color: #3a3a3a; text-decoration-color: #3a3a3a\">━━━━━━━━━━━━━━━━━━━━━━━━━━━━━━━━━━━━━━━━</span> <span style=\"color: #800080; text-decoration-color: #800080\">  0%</span> <span style=\"color: #008080; text-decoration-color: #008080\">-:--:--</span></pre>\n"
      ],
      "text/plain": [
       "\r\u001b[2K\u001b[2;36m          \u001b[0m\u001b[2;36m \u001b[0m\u001b[34mINFO    \u001b[0m computing P_qg_0 - took: \u001b[1;36m0.135772\u001b[0m s                                      \u001b]8;id=161721;file:///Volumes/Git_Workspace/physicstools/NN3PDF/yadism/src/yadism/esf/scale_variations.py\u001b\\\u001b[2mscale_variations.py\u001b[0m\u001b]8;;\u001b\\\u001b[2m:\u001b[0m\u001b]8;id=248099;file:///Volumes/Git_Workspace/physicstools/NN3PDF/yadism/src/yadism/esf/scale_variations.py#85\u001b\\\u001b[2m85\u001b[0m\u001b]8;;\u001b\\\n",
       "Starting... \u001b[38;5;237m━━━━━━━━━━━━━━━━━━━━━━━━━━━━━━━━━━━━━━━━\u001b[0m \u001b[35m  0%\u001b[0m \u001b[36m-:--:--\u001b[0m"
      ]
     },
     "metadata": {},
     "output_type": "display_data"
    },
    {
     "data": {
      "text/html": [
       "<pre style=\"white-space:pre;overflow-x:auto;line-height:normal;font-family:Menlo,'DejaVu Sans Mono',consolas,'Courier New',monospace\">\n",
       "</pre>\n"
      ],
      "text/plain": [
       "\n",
       "\u001b[?25h\r\u001b[1A\u001b[2K"
      ]
     },
     "metadata": {},
     "output_type": "display_data"
    },
    {
     "data": {
      "text/html": [
       "<pre style=\"white-space:pre;overflow-x:auto;line-height:normal;font-family:Menlo,'DejaVu Sans Mono',consolas,'Courier New',monospace\"><span style=\"color: #008080; text-decoration-color: #008080\">took </span><span style=\"color: #008080; text-decoration-color: #008080; font-weight: bold\">0.72</span><span style=\"color: #008080; text-decoration-color: #008080\"> s</span>\n",
       "</pre>\n"
      ],
      "text/plain": [
       "\u001b[36mtook \u001b[0m\u001b[1;36m0.72\u001b[0m\u001b[36m s\u001b[0m\n"
      ]
     },
     "metadata": {},
     "output_type": "display_data"
    },
    {
     "data": {
      "text/html": [
       "<pre style=\"white-space:pre;overflow-x:auto;line-height:normal;font-family:Menlo,'DejaVu Sans Mono',consolas,'Courier New',monospace\"><span style=\"color: #7fbfbf; text-decoration-color: #7fbfbf\">           </span><span style=\"color: #000080; text-decoration-color: #000080\">INFO    </span> Atlas <span style=\"font-weight: bold\">[</span><span style=\"color: #008080; text-decoration-color: #008080; font-weight: bold\">0.00e+00</span> - <span style=\"color: #008080; text-decoration-color: #008080; font-weight: bold\">2.28e+00</span> - <span style=\"color: #008080; text-decoration-color: #008080; font-weight: bold\">2.42e+01</span> - <span style=\"color: #008080; text-decoration-color: #008080; font-weight: bold\">2.98e+04</span> - inf<span style=\"font-weight: bold\">]</span>, <span style=\"color: #808000; text-decoration-color: #808000\">ref</span>=<span style=\"color: #008080; text-decoration-color: #008080; font-weight: bold\">8317.44</span> @ <span style=\"color: #008080; text-decoration-color: #008080; font-weight: bold\">5</span>        <a href=\"file:///Users/giacomomagni/.conda/envs/yad_dev/lib/python3.10/site-packages/eko/matchings.py\" target=\"_blank\"><span style=\"color: #7f7f7f; text-decoration-color: #7f7f7f\">matchings.py</span></a><span style=\"color: #7f7f7f; text-decoration-color: #7f7f7f\">:</span><a href=\"file:///Users/giacomomagni/.conda/envs/yad_dev/lib/python3.10/site-packages/eko/matchings.py#72\" target=\"_blank\"><span style=\"color: #7f7f7f; text-decoration-color: #7f7f7f\">72</span></a>\n",
       "</pre>\n"
      ],
      "text/plain": [
       "\u001b[2;36m          \u001b[0m\u001b[2;36m \u001b[0m\u001b[34mINFO    \u001b[0m Atlas \u001b[1m[\u001b[0m\u001b[1;36m0.00e+00\u001b[0m - \u001b[1;36m2.28e+00\u001b[0m - \u001b[1;36m2.42e+01\u001b[0m - \u001b[1;36m2.98e+04\u001b[0m - inf\u001b[1m]\u001b[0m, \u001b[33mref\u001b[0m=\u001b[1;36m8317\u001b[0m\u001b[1;36m.44\u001b[0m @ \u001b[1;36m5\u001b[0m        \u001b]8;id=993;file:///Users/giacomomagni/.conda/envs/yad_dev/lib/python3.10/site-packages/eko/matchings.py\u001b\\\u001b[2mmatchings.py\u001b[0m\u001b]8;;\u001b\\\u001b[2m:\u001b[0m\u001b]8;id=237611;file:///Users/giacomomagni/.conda/envs/yad_dev/lib/python3.10/site-packages/eko/matchings.py#72\u001b\\\u001b[2m72\u001b[0m\u001b]8;;\u001b\\\n"
      ]
     },
     "metadata": {},
     "output_type": "display_data"
    },
    {
     "data": {
      "text/html": [
       "<pre style=\"white-space:pre;overflow-x:auto;line-height:normal;font-family:Menlo,'DejaVu Sans Mono',consolas,'Courier New',monospace\"><span style=\"color: #7fbfbf; text-decoration-color: #7fbfbf\">           </span><span style=\"color: #000080; text-decoration-color: #000080\">INFO    </span> Strong Coupling: <span style=\"color: #800080; text-decoration-color: #800080; font-weight: bold\">a_s</span><span style=\"font-weight: bold\">(</span>µ_R^<span style=\"color: #008080; text-decoration-color: #008080; font-weight: bold\">2</span>=<span style=\"color: #008080; text-decoration-color: #008080; font-weight: bold\">8317.440000</span><span style=\"font-weight: bold\">)</span>^<span style=\"font-weight: bold\">(</span><span style=\"color: #808000; text-decoration-color: #808000\">nf</span>=<span style=\"color: #008080; text-decoration-color: #008080; font-weight: bold\">5</span><span style=\"font-weight: bold\">)</span>=<span style=\"color: #008080; text-decoration-color: #008080; font-weight: bold\">0.009390</span>=<span style=\"color: #008080; text-decoration-color: #008080; font-weight: bold\">0.118000</span>/<span style=\"font-weight: bold\">(</span>4π<span style=\"font-weight: bold\">)</span>          <a href=\"file:///Users/giacomomagni/.conda/envs/yad_dev/lib/python3.10/site-packages/eko/couplings.py\" target=\"_blank\"><span style=\"color: #7f7f7f; text-decoration-color: #7f7f7f\">couplings.py</span></a><span style=\"color: #7f7f7f; text-decoration-color: #7f7f7f\">:</span><a href=\"file:///Users/giacomomagni/.conda/envs/yad_dev/lib/python3.10/site-packages/eko/couplings.py#464\" target=\"_blank\"><span style=\"color: #7f7f7f; text-decoration-color: #7f7f7f\">464</span></a>\n",
       "</pre>\n"
      ],
      "text/plain": [
       "\u001b[2;36m          \u001b[0m\u001b[2;36m \u001b[0m\u001b[34mINFO    \u001b[0m Strong Coupling: \u001b[1;35ma_s\u001b[0m\u001b[1m(\u001b[0mµ_R^\u001b[1;36m2\u001b[0m=\u001b[1;36m8317\u001b[0m\u001b[1;36m.440000\u001b[0m\u001b[1m)\u001b[0m^\u001b[1m(\u001b[0m\u001b[33mnf\u001b[0m=\u001b[1;36m5\u001b[0m\u001b[1m)\u001b[0m=\u001b[1;36m0.\u001b[0m\u001b[1;36m009390\u001b[0m=\u001b[1;36m0\u001b[0m\u001b[1;36m.118000\u001b[0m/\u001b[1m(\u001b[0m4π\u001b[1m)\u001b[0m          \u001b]8;id=975303;file:///Users/giacomomagni/.conda/envs/yad_dev/lib/python3.10/site-packages/eko/couplings.py\u001b\\\u001b[2mcouplings.py\u001b[0m\u001b]8;;\u001b\\\u001b[2m:\u001b[0m\u001b]8;id=745510;file:///Users/giacomomagni/.conda/envs/yad_dev/lib/python3.10/site-packages/eko/couplings.py#464\u001b\\\u001b[2m464\u001b[0m\u001b]8;;\u001b\\\n"
      ]
     },
     "metadata": {},
     "output_type": "display_data"
    },
    {
     "data": {
      "text/html": [
       "<pre style=\"white-space:pre;overflow-x:auto;line-height:normal;font-family:Menlo,'DejaVu Sans Mono',consolas,'Courier New',monospace\"><span style=\"color: #7fbfbf; text-decoration-color: #7fbfbf\">           </span><span style=\"color: #000080; text-decoration-color: #000080\">INFO    </span> Atlas <span style=\"font-weight: bold\">[</span><span style=\"color: #008080; text-decoration-color: #008080; font-weight: bold\">0.00e+00</span> - <span style=\"color: #008080; text-decoration-color: #008080; font-weight: bold\">2.28e+00</span> - <span style=\"color: #008080; text-decoration-color: #008080; font-weight: bold\">2.42e+01</span> - <span style=\"color: #008080; text-decoration-color: #008080; font-weight: bold\">2.98e+04</span> - inf<span style=\"font-weight: bold\">]</span>, <span style=\"color: #808000; text-decoration-color: #808000\">ref</span>=<span style=\"color: #008080; text-decoration-color: #008080; font-weight: bold\">8317.44</span> @ <span style=\"color: #008080; text-decoration-color: #008080; font-weight: bold\">5</span>        <a href=\"file:///Users/giacomomagni/.conda/envs/yad_dev/lib/python3.10/site-packages/eko/matchings.py\" target=\"_blank\"><span style=\"color: #7f7f7f; text-decoration-color: #7f7f7f\">matchings.py</span></a><span style=\"color: #7f7f7f; text-decoration-color: #7f7f7f\">:</span><a href=\"file:///Users/giacomomagni/.conda/envs/yad_dev/lib/python3.10/site-packages/eko/matchings.py#72\" target=\"_blank\"><span style=\"color: #7f7f7f; text-decoration-color: #7f7f7f\">72</span></a>\n",
       "</pre>\n"
      ],
      "text/plain": [
       "\u001b[2;36m          \u001b[0m\u001b[2;36m \u001b[0m\u001b[34mINFO    \u001b[0m Atlas \u001b[1m[\u001b[0m\u001b[1;36m0.00e+00\u001b[0m - \u001b[1;36m2.28e+00\u001b[0m - \u001b[1;36m2.42e+01\u001b[0m - \u001b[1;36m2.98e+04\u001b[0m - inf\u001b[1m]\u001b[0m, \u001b[33mref\u001b[0m=\u001b[1;36m8317\u001b[0m\u001b[1;36m.44\u001b[0m @ \u001b[1;36m5\u001b[0m        \u001b]8;id=13325;file:///Users/giacomomagni/.conda/envs/yad_dev/lib/python3.10/site-packages/eko/matchings.py\u001b\\\u001b[2mmatchings.py\u001b[0m\u001b]8;;\u001b\\\u001b[2m:\u001b[0m\u001b]8;id=988843;file:///Users/giacomomagni/.conda/envs/yad_dev/lib/python3.10/site-packages/eko/matchings.py#72\u001b\\\u001b[2m72\u001b[0m\u001b]8;;\u001b\\\n"
      ]
     },
     "metadata": {},
     "output_type": "display_data"
    },
    {
     "name": "stdout",
     "output_type": "stream",
     "text": [
      "LHAPDF 6.5.0 loading /Users/giacomomagni/.conda/envs/yad_dev/share/LHAPDF/NNPDF40_evolved_nf4/NNPDF40_evolved_nf4_0000.dat\n",
      "NNPDF40_evolved_nf4 PDF set, member #0, version 1\n"
     ]
    },
    {
     "data": {
      "text/html": [
       "<pre style=\"white-space:pre;overflow-x:auto;line-height:normal;font-family:Menlo,'DejaVu Sans Mono',consolas,'Courier New',monospace\"><span style=\"color: #7fbfbf; text-decoration-color: #7fbfbf\">           </span><span style=\"color: #000080; text-decoration-color: #000080\">INFO    </span> Interpolation: number of points = <span style=\"color: #008080; text-decoration-color: #008080; font-weight: bold\">30</span>, polynomial degree = <span style=\"color: #008080; text-decoration-color: #008080; font-weight: bold\">4</span>, logarithmic = <a href=\"file:///Users/giacomomagni/.conda/envs/yad_dev/lib/python3.10/site-packages/eko/interpolation.py\" target=\"_blank\"><span style=\"color: #7f7f7f; text-decoration-color: #7f7f7f\">interpolation.py</span></a><span style=\"color: #7f7f7f; text-decoration-color: #7f7f7f\">:</span><a href=\"file:///Users/giacomomagni/.conda/envs/yad_dev/lib/python3.10/site-packages/eko/interpolation.py#538\" target=\"_blank\"><span style=\"color: #7f7f7f; text-decoration-color: #7f7f7f\">538</span></a>\n",
       "<span style=\"color: #7fbfbf; text-decoration-color: #7fbfbf\">           </span>         <span style=\"color: #00ff00; text-decoration-color: #00ff00; font-style: italic\">True</span>                                                                       <span style=\"color: #7f7f7f; text-decoration-color: #7f7f7f\">                    </span>\n",
       "</pre>\n"
      ],
      "text/plain": [
       "\u001b[2;36m          \u001b[0m\u001b[2;36m \u001b[0m\u001b[34mINFO    \u001b[0m Interpolation: number of points = \u001b[1;36m30\u001b[0m, polynomial degree = \u001b[1;36m4\u001b[0m, logarithmic = \u001b]8;id=906878;file:///Users/giacomomagni/.conda/envs/yad_dev/lib/python3.10/site-packages/eko/interpolation.py\u001b\\\u001b[2minterpolation.py\u001b[0m\u001b]8;;\u001b\\\u001b[2m:\u001b[0m\u001b]8;id=264576;file:///Users/giacomomagni/.conda/envs/yad_dev/lib/python3.10/site-packages/eko/interpolation.py#538\u001b\\\u001b[2m538\u001b[0m\u001b]8;;\u001b\\\n",
       "\u001b[2;36m           \u001b[0m         \u001b[3;92mTrue\u001b[0m                                                                       \u001b[2m                    \u001b[0m\n"
      ]
     },
     "metadata": {},
     "output_type": "display_data"
    },
    {
     "data": {
      "text/html": [
       "<pre style=\"white-space:pre;overflow-x:auto;line-height:normal;font-family:Menlo,'DejaVu Sans Mono',consolas,'Courier New',monospace\"><span style=\"color: #7fbfbf; text-decoration-color: #7fbfbf\">           </span><span style=\"color: #000080; text-decoration-color: #000080\">INFO    </span> <span style=\"font-weight: bold\">{</span><span style=\"color: #008000; text-decoration-color: #008000\">'MZ2'</span>: <span style=\"color: #008080; text-decoration-color: #008080; font-weight: bold\">8315.178393760001</span>, <span style=\"color: #008000; text-decoration-color: #008000\">'CKM'</span>: <span style=\"color: #800080; text-decoration-color: #800080; font-weight: bold\">CKM</span><span style=\"font-weight: bold\">([[</span><span style=\"color: #008080; text-decoration-color: #008080; font-weight: bold\">9.49221518e-01</span> <span style=\"color: #008080; text-decoration-color: #008080; font-weight: bold\">5.07600900e-02</span>  <a href=\"file:///Volumes/Git_Workspace/physicstools/NN3PDF/yadism/src/yadism/coefficient_functions/coupling_constants.py\" target=\"_blank\"><span style=\"color: #7f7f7f; text-decoration-color: #7f7f7f\">coupling_constants.py</span></a><span style=\"color: #7f7f7f; text-decoration-color: #7f7f7f\">:</span><a href=\"file:///Volumes/Git_Workspace/physicstools/NN3PDF/yadism/src/yadism/coefficient_functions/coupling_constants.py#53\" target=\"_blank\"><span style=\"color: #7f7f7f; text-decoration-color: #7f7f7f\">53</span></a>\n",
       "<span style=\"color: #7fbfbf; text-decoration-color: #7fbfbf\">           </span>         <span style=\"color: #008080; text-decoration-color: #008080; font-weight: bold\">1.20409000e-05</span><span style=\"font-weight: bold\">]</span> <span style=\"font-weight: bold\">[</span><span style=\"color: #008080; text-decoration-color: #008080; font-weight: bold\">5.07150400e-02</span> <span style=\"color: #008080; text-decoration-color: #008080; font-weight: bold\">9.47604903e-01</span> <span style=\"color: #008080; text-decoration-color: #008080; font-weight: bold\">1.68100000e-03</span><span style=\"font-weight: bold\">]</span>         <span style=\"color: #7f7f7f; text-decoration-color: #7f7f7f\">                        </span>\n",
       "<span style=\"color: #7fbfbf; text-decoration-color: #7fbfbf\">           </span>         <span style=\"font-weight: bold\">[</span><span style=\"color: #008080; text-decoration-color: #008080; font-weight: bold\">7.43044000e-05</span> <span style=\"color: #008080; text-decoration-color: #008080; font-weight: bold\">1.62409000e-03</span> <span style=\"color: #008080; text-decoration-color: #008080; font-weight: bold\">9.98304719e-01</span><span style=\"font-weight: bold\">]])</span>, <span style=\"color: #008000; text-decoration-color: #008000\">'sin2theta_weak'</span>:    <span style=\"color: #7f7f7f; text-decoration-color: #7f7f7f\">                        </span>\n",
       "<span style=\"color: #7fbfbf; text-decoration-color: #7fbfbf\">           </span>         <span style=\"color: #008080; text-decoration-color: #008080; font-weight: bold\">0.23121</span>, <span style=\"color: #008000; text-decoration-color: #008000\">'MW2'</span>: <span style=\"color: #008080; text-decoration-color: #008080; font-weight: bold\">6463.838403999999</span><span style=\"font-weight: bold\">}</span>                                     <span style=\"color: #7f7f7f; text-decoration-color: #7f7f7f\">                        </span>\n",
       "</pre>\n"
      ],
      "text/plain": [
       "\u001b[2;36m          \u001b[0m\u001b[2;36m \u001b[0m\u001b[34mINFO    \u001b[0m \u001b[1m{\u001b[0m\u001b[32m'MZ2'\u001b[0m: \u001b[1;36m8315.178393760001\u001b[0m, \u001b[32m'CKM'\u001b[0m: \u001b[1;35mCKM\u001b[0m\u001b[1m(\u001b[0m\u001b[1m[\u001b[0m\u001b[1m[\u001b[0m\u001b[1;36m9.49221518e-01\u001b[0m \u001b[1;36m5.07600900e-02\u001b[0m  \u001b]8;id=386842;file:///Volumes/Git_Workspace/physicstools/NN3PDF/yadism/src/yadism/coefficient_functions/coupling_constants.py\u001b\\\u001b[2mcoupling_constants.py\u001b[0m\u001b]8;;\u001b\\\u001b[2m:\u001b[0m\u001b]8;id=185992;file:///Volumes/Git_Workspace/physicstools/NN3PDF/yadism/src/yadism/coefficient_functions/coupling_constants.py#53\u001b\\\u001b[2m53\u001b[0m\u001b]8;;\u001b\\\n",
       "\u001b[2;36m           \u001b[0m         \u001b[1;36m1.20409000e-05\u001b[0m\u001b[1m]\u001b[0m \u001b[1m[\u001b[0m\u001b[1;36m5.07150400e-02\u001b[0m \u001b[1;36m9.47604903e-01\u001b[0m \u001b[1;36m1.68100000e-03\u001b[0m\u001b[1m]\u001b[0m         \u001b[2m                        \u001b[0m\n",
       "\u001b[2;36m           \u001b[0m         \u001b[1m[\u001b[0m\u001b[1;36m7.43044000e-05\u001b[0m \u001b[1;36m1.62409000e-03\u001b[0m \u001b[1;36m9.98304719e-01\u001b[0m\u001b[1m]\u001b[0m\u001b[1m]\u001b[0m\u001b[1m)\u001b[0m, \u001b[32m'sin2theta_weak'\u001b[0m:    \u001b[2m                        \u001b[0m\n",
       "\u001b[2;36m           \u001b[0m         \u001b[1;36m0.23121\u001b[0m, \u001b[32m'MW2'\u001b[0m: \u001b[1;36m6463.838403999999\u001b[0m\u001b[1m}\u001b[0m                                     \u001b[2m                        \u001b[0m\n"
      ]
     },
     "metadata": {},
     "output_type": "display_data"
    },
    {
     "data": {
      "text/html": [
       "<pre style=\"white-space:pre;overflow-x:auto;line-height:normal;font-family:Menlo,'DejaVu Sans Mono',consolas,'Courier New',monospace\"><span style=\"color: #7fbfbf; text-decoration-color: #7fbfbf\">           </span><span style=\"color: #000080; text-decoration-color: #000080\">INFO    </span> <span style=\"font-weight: bold\">{</span><span style=\"color: #008000; text-decoration-color: #008000\">'process'</span>: <span style=\"color: #008000; text-decoration-color: #008000\">'NC'</span>, <span style=\"color: #008000; text-decoration-color: #008000\">'projectilePID'</span>: <span style=\"color: #008080; text-decoration-color: #008080; font-weight: bold\">11</span>, <span style=\"color: #008000; text-decoration-color: #008000\">'polarization'</span>: <span style=\"color: #008080; text-decoration-color: #008080; font-weight: bold\">0.0</span>,            <a href=\"file:///Volumes/Git_Workspace/physicstools/NN3PDF/yadism/src/yadism/coefficient_functions/coupling_constants.py\" target=\"_blank\"><span style=\"color: #7f7f7f; text-decoration-color: #7f7f7f\">coupling_constants.py</span></a><span style=\"color: #7f7f7f; text-decoration-color: #7f7f7f\">:</span><a href=\"file:///Volumes/Git_Workspace/physicstools/NN3PDF/yadism/src/yadism/coefficient_functions/coupling_constants.py#54\" target=\"_blank\"><span style=\"color: #7f7f7f; text-decoration-color: #7f7f7f\">54</span></a>\n",
       "<span style=\"color: #7fbfbf; text-decoration-color: #7fbfbf\">           </span>         <span style=\"color: #008000; text-decoration-color: #008000\">'propagatorCorrection'</span>: <span style=\"color: #008080; text-decoration-color: #008080; font-weight: bold\">0.0</span>, <span style=\"color: #008000; text-decoration-color: #008000\">'nc_pos_charge'</span>: <span style=\"color: #800080; text-decoration-color: #800080; font-style: italic\">None</span><span style=\"font-weight: bold\">}</span>                    <span style=\"color: #7f7f7f; text-decoration-color: #7f7f7f\">                        </span>\n",
       "</pre>\n"
      ],
      "text/plain": [
       "\u001b[2;36m          \u001b[0m\u001b[2;36m \u001b[0m\u001b[34mINFO    \u001b[0m \u001b[1m{\u001b[0m\u001b[32m'process'\u001b[0m: \u001b[32m'NC'\u001b[0m, \u001b[32m'projectilePID'\u001b[0m: \u001b[1;36m11\u001b[0m, \u001b[32m'polarization'\u001b[0m: \u001b[1;36m0.0\u001b[0m,            \u001b]8;id=778403;file:///Volumes/Git_Workspace/physicstools/NN3PDF/yadism/src/yadism/coefficient_functions/coupling_constants.py\u001b\\\u001b[2mcoupling_constants.py\u001b[0m\u001b]8;;\u001b\\\u001b[2m:\u001b[0m\u001b]8;id=677011;file:///Volumes/Git_Workspace/physicstools/NN3PDF/yadism/src/yadism/coefficient_functions/coupling_constants.py#54\u001b\\\u001b[2m54\u001b[0m\u001b]8;;\u001b\\\n",
       "\u001b[2;36m           \u001b[0m         \u001b[32m'propagatorCorrection'\u001b[0m: \u001b[1;36m0.0\u001b[0m, \u001b[32m'nc_pos_charge'\u001b[0m: \u001b[3;35mNone\u001b[0m\u001b[1m}\u001b[0m                    \u001b[2m                        \u001b[0m\n"
      ]
     },
     "metadata": {},
     "output_type": "display_data"
    },
    {
     "data": {
      "text/html": [
       "<pre style=\"white-space:pre;overflow-x:auto;line-height:normal;font-family:Menlo,'DejaVu Sans Mono',consolas,'Courier New',monospace\"><span style=\"color: #7fbfbf; text-decoration-color: #7fbfbf\">           </span><span style=\"color: #000080; text-decoration-color: #000080\">INFO    </span> RenScaleVar: <span style=\"color: #00ff00; text-decoration-color: #00ff00; font-style: italic\">True</span>, FactScaleVar: <span style=\"color: #00ff00; text-decoration-color: #00ff00; font-style: italic\">True</span>                                    <a href=\"file:///Volumes/Git_Workspace/physicstools/NN3PDF/yadism/src/yadism/esf/scale_variations.py\" target=\"_blank\"><span style=\"color: #7f7f7f; text-decoration-color: #7f7f7f\">scale_variations.py</span></a><span style=\"color: #7f7f7f; text-decoration-color: #7f7f7f\">:</span><a href=\"file:///Volumes/Git_Workspace/physicstools/NN3PDF/yadism/src/yadism/esf/scale_variations.py#62\" target=\"_blank\"><span style=\"color: #7f7f7f; text-decoration-color: #7f7f7f\">62</span></a>\n",
       "</pre>\n"
      ],
      "text/plain": [
       "\u001b[2;36m          \u001b[0m\u001b[2;36m \u001b[0m\u001b[34mINFO    \u001b[0m RenScaleVar: \u001b[3;92mTrue\u001b[0m, FactScaleVar: \u001b[3;92mTrue\u001b[0m                                    \u001b]8;id=143760;file:///Volumes/Git_Workspace/physicstools/NN3PDF/yadism/src/yadism/esf/scale_variations.py\u001b\\\u001b[2mscale_variations.py\u001b[0m\u001b]8;;\u001b\\\u001b[2m:\u001b[0m\u001b]8;id=654503;file:///Volumes/Git_Workspace/physicstools/NN3PDF/yadism/src/yadism/esf/scale_variations.py#62\u001b\\\u001b[2m62\u001b[0m\u001b]8;;\u001b\\\n"
      ]
     },
     "metadata": {},
     "output_type": "display_data"
    },
    {
     "data": {
      "text/html": [
       "<pre style=\"white-space:pre;overflow-x:auto;line-height:normal;font-family:Menlo,'DejaVu Sans Mono',consolas,'Courier New',monospace\"><span style=\"color: #7fbfbf; text-decoration-color: #7fbfbf\">           </span><span style=\"color: #000080; text-decoration-color: #000080\">INFO    </span> Atlas <span style=\"font-weight: bold\">[</span><span style=\"color: #008080; text-decoration-color: #008080; font-weight: bold\">0.00e+00</span> - <span style=\"color: #008080; text-decoration-color: #008080; font-weight: bold\">0.00e+00</span> - inf - inf - inf<span style=\"font-weight: bold\">]</span>, <span style=\"color: #808000; text-decoration-color: #808000\">ref</span>=<span style=\"color: #008080; text-decoration-color: #008080; font-weight: bold\">2.7224999999999997</span> @ <span style=\"color: #008080; text-decoration-color: #008080; font-weight: bold\">4</span>       <a href=\"file:///Users/giacomomagni/.conda/envs/yad_dev/lib/python3.10/site-packages/eko/matchings.py\" target=\"_blank\"><span style=\"color: #7f7f7f; text-decoration-color: #7f7f7f\">matchings.py</span></a><span style=\"color: #7f7f7f; text-decoration-color: #7f7f7f\">:</span><a href=\"file:///Users/giacomomagni/.conda/envs/yad_dev/lib/python3.10/site-packages/eko/matchings.py#72\" target=\"_blank\"><span style=\"color: #7f7f7f; text-decoration-color: #7f7f7f\">72</span></a>\n",
       "</pre>\n"
      ],
      "text/plain": [
       "\u001b[2;36m          \u001b[0m\u001b[2;36m \u001b[0m\u001b[34mINFO    \u001b[0m Atlas \u001b[1m[\u001b[0m\u001b[1;36m0.00e+00\u001b[0m - \u001b[1;36m0.00e+00\u001b[0m - inf - inf - inf\u001b[1m]\u001b[0m, \u001b[33mref\u001b[0m=\u001b[1;36m2\u001b[0m\u001b[1;36m.7224999999999997\u001b[0m @ \u001b[1;36m4\u001b[0m       \u001b]8;id=246142;file:///Users/giacomomagni/.conda/envs/yad_dev/lib/python3.10/site-packages/eko/matchings.py\u001b\\\u001b[2mmatchings.py\u001b[0m\u001b]8;;\u001b\\\u001b[2m:\u001b[0m\u001b]8;id=172198;file:///Users/giacomomagni/.conda/envs/yad_dev/lib/python3.10/site-packages/eko/matchings.py#72\u001b\\\u001b[2m72\u001b[0m\u001b]8;;\u001b\\\n"
      ]
     },
     "metadata": {},
     "output_type": "display_data"
    },
    {
     "data": {
      "text/html": [
       "<pre style=\"white-space:pre;overflow-x:auto;line-height:normal;font-family:Menlo,'DejaVu Sans Mono',consolas,'Courier New',monospace\"><span style=\"color: #7fbfbf; text-decoration-color: #7fbfbf\">           </span><span style=\"color: #000080; text-decoration-color: #000080\">INFO    </span> PTO: <span style=\"color: #008080; text-decoration-color: #008080; font-weight: bold\">1</span>, PTO@evolution: <span style=\"color: #008080; text-decoration-color: #008080; font-weight: bold\">1</span>, process: NC                                             <a href=\"file:///Volumes/Git_Workspace/physicstools/NN3PDF/yadism/src/yadism/runner.py\" target=\"_blank\"><span style=\"color: #7f7f7f; text-decoration-color: #7f7f7f\">runner.py</span></a><span style=\"color: #7f7f7f; text-decoration-color: #7f7f7f\">:</span><a href=\"file:///Volumes/Git_Workspace/physicstools/NN3PDF/yadism/src/yadism/runner.py#142\" target=\"_blank\"><span style=\"color: #7f7f7f; text-decoration-color: #7f7f7f\">142</span></a>\n",
       "</pre>\n"
      ],
      "text/plain": [
       "\u001b[2;36m          \u001b[0m\u001b[2;36m \u001b[0m\u001b[34mINFO    \u001b[0m PTO: \u001b[1;36m1\u001b[0m, PTO@evolution: \u001b[1;36m1\u001b[0m, process: NC                                             \u001b]8;id=266407;file:///Volumes/Git_Workspace/physicstools/NN3PDF/yadism/src/yadism/runner.py\u001b\\\u001b[2mrunner.py\u001b[0m\u001b]8;;\u001b\\\u001b[2m:\u001b[0m\u001b]8;id=992623;file:///Volumes/Git_Workspace/physicstools/NN3PDF/yadism/src/yadism/runner.py#142\u001b\\\u001b[2m142\u001b[0m\u001b]8;;\u001b\\\n"
      ]
     },
     "metadata": {},
     "output_type": "display_data"
    },
    {
     "data": {
      "text/html": [
       "<pre style=\"white-space:pre;overflow-x:auto;line-height:normal;font-family:Menlo,'DejaVu Sans Mono',consolas,'Courier New',monospace\"><span style=\"color: #7fbfbf; text-decoration-color: #7fbfbf\">           </span><span style=\"color: #000080; text-decoration-color: #000080\">INFO    </span> FNS: FONLL-FFN0, NfFF: <span style=\"color: #008080; text-decoration-color: #008080; font-weight: bold\">4</span>                                                          <a href=\"file:///Volumes/Git_Workspace/physicstools/NN3PDF/yadism/src/yadism/runner.py\" target=\"_blank\"><span style=\"color: #7f7f7f; text-decoration-color: #7f7f7f\">runner.py</span></a><span style=\"color: #7f7f7f; text-decoration-color: #7f7f7f\">:</span><a href=\"file:///Volumes/Git_Workspace/physicstools/NN3PDF/yadism/src/yadism/runner.py#149\" target=\"_blank\"><span style=\"color: #7f7f7f; text-decoration-color: #7f7f7f\">149</span></a>\n",
       "</pre>\n"
      ],
      "text/plain": [
       "\u001b[2;36m          \u001b[0m\u001b[2;36m \u001b[0m\u001b[34mINFO    \u001b[0m FNS: FONLL-FFN0, NfFF: \u001b[1;36m4\u001b[0m                                                          \u001b]8;id=341096;file:///Volumes/Git_Workspace/physicstools/NN3PDF/yadism/src/yadism/runner.py\u001b\\\u001b[2mrunner.py\u001b[0m\u001b]8;;\u001b\\\u001b[2m:\u001b[0m\u001b]8;id=188788;file:///Volumes/Git_Workspace/physicstools/NN3PDF/yadism/src/yadism/runner.py#149\u001b\\\u001b[2m149\u001b[0m\u001b]8;;\u001b\\\n"
      ]
     },
     "metadata": {},
     "output_type": "display_data"
    },
    {
     "data": {
      "text/html": [
       "<pre style=\"white-space:pre;overflow-x:auto;line-height:normal;font-family:Menlo,'DejaVu Sans Mono',consolas,'Courier New',monospace\"><span style=\"color: #7fbfbf; text-decoration-color: #7fbfbf\">           </span><span style=\"color: #000080; text-decoration-color: #000080\">INFO    </span> projectile: electron, target: <span style=\"font-weight: bold\">{</span>Z: <span style=\"color: #008080; text-decoration-color: #008080; font-weight: bold\">1</span>, A: <span style=\"color: #008080; text-decoration-color: #008080; font-weight: bold\">1</span><span style=\"font-weight: bold\">}</span>                                        <a href=\"file:///Volumes/Git_Workspace/physicstools/NN3PDF/yadism/src/yadism/runner.py\" target=\"_blank\"><span style=\"color: #7f7f7f; text-decoration-color: #7f7f7f\">runner.py</span></a><span style=\"color: #7f7f7f; text-decoration-color: #7f7f7f\">:</span><a href=\"file:///Volumes/Git_Workspace/physicstools/NN3PDF/yadism/src/yadism/runner.py#150\" target=\"_blank\"><span style=\"color: #7f7f7f; text-decoration-color: #7f7f7f\">150</span></a>\n",
       "</pre>\n"
      ],
      "text/plain": [
       "\u001b[2;36m          \u001b[0m\u001b[2;36m \u001b[0m\u001b[34mINFO    \u001b[0m projectile: electron, target: \u001b[1m{\u001b[0mZ: \u001b[1;36m1\u001b[0m, A: \u001b[1;36m1\u001b[0m\u001b[1m}\u001b[0m                                        \u001b]8;id=236522;file:///Volumes/Git_Workspace/physicstools/NN3PDF/yadism/src/yadism/runner.py\u001b\\\u001b[2mrunner.py\u001b[0m\u001b]8;;\u001b\\\u001b[2m:\u001b[0m\u001b]8;id=580419;file:///Volumes/Git_Workspace/physicstools/NN3PDF/yadism/src/yadism/runner.py#150\u001b\\\u001b[2m150\u001b[0m\u001b]8;;\u001b\\\n"
      ]
     },
     "metadata": {},
     "output_type": "display_data"
    },
    {
     "data": {
      "text/html": [
       "<pre style=\"white-space:pre;overflow-x:auto;line-height:normal;font-family:Menlo,'DejaVu Sans Mono',consolas,'Courier New',monospace\">                                      <span style=\"color: #800080; text-decoration-color: #800080\">┌────────────────────────────────────┐</span>                                       \n",
       "                                      <span style=\"color: #800080; text-decoration-color: #800080\">│                                    │</span>                                       \n",
       "                                      <span style=\"color: #800080; text-decoration-color: #800080\">│ __     __       _ _                │</span>                                       \n",
       "                                      <span style=\"color: #800080; text-decoration-color: #800080\">│ \\ \\   / /      | (_)               │</span>                                       \n",
       "                                      <span style=\"color: #800080; text-decoration-color: #800080\">│  \\ \\_/ /_ _  __| |_ ___ _ __ ___   │</span>                                       \n",
       "                                      <span style=\"color: #800080; text-decoration-color: #800080\">│   \\   / _` |/ _` | / __| '_ ` _ \\  │</span>                                       \n",
       "                                      <span style=\"color: #800080; text-decoration-color: #800080\">│    | | (_| | (_| | \\__ \\ | | | | | │</span>                                       \n",
       "                                      <span style=\"color: #800080; text-decoration-color: #800080\">│    |_|\\__,_|\\__,_|_|___/_| |_| |_| │</span>                                       \n",
       "                                      <span style=\"color: #800080; text-decoration-color: #800080\">│                                    │</span>                                       \n",
       "                                      <span style=\"color: #800080; text-decoration-color: #800080\">└────────────────────────────────────┘</span>                                       \n",
       "</pre>\n"
      ],
      "text/plain": [
       "                                      \u001b[35m┌────────────────────────────────────┐\u001b[0m                                       \n",
       "                                      \u001b[35m│\u001b[0m\u001b[35m                                    \u001b[0m\u001b[35m│\u001b[0m                                       \n",
       "                                      \u001b[35m│\u001b[0m\u001b[35m \u001b[0m\u001b[35m__     __       _ _\u001b[0m\u001b[35m               \u001b[0m\u001b[35m \u001b[0m\u001b[35m│\u001b[0m                                       \n",
       "                                      \u001b[35m│\u001b[0m\u001b[35m \u001b[0m\u001b[35m\\ \\   / /      | (_)\u001b[0m\u001b[35m              \u001b[0m\u001b[35m \u001b[0m\u001b[35m│\u001b[0m                                       \n",
       "                                      \u001b[35m│\u001b[0m\u001b[35m \u001b[0m\u001b[35m \\ \\_/ /_ _  __| |_ ___ _ __ ___\u001b[0m\u001b[35m  \u001b[0m\u001b[35m \u001b[0m\u001b[35m│\u001b[0m                                       \n",
       "                                      \u001b[35m│\u001b[0m\u001b[35m \u001b[0m\u001b[35m  \\   / _` |/ _` | / __| '_ ` _ \\\u001b[0m\u001b[35m \u001b[0m\u001b[35m \u001b[0m\u001b[35m│\u001b[0m                                       \n",
       "                                      \u001b[35m│\u001b[0m\u001b[35m \u001b[0m\u001b[35m   | | (_| | (_| | \\__ \\ | | | | |\u001b[0m\u001b[35m \u001b[0m\u001b[35m│\u001b[0m                                       \n",
       "                                      \u001b[35m│\u001b[0m\u001b[35m \u001b[0m\u001b[35m   |_|\\__,_|\\__,_|_|___/_| |_| |_|\u001b[0m\u001b[35m \u001b[0m\u001b[35m│\u001b[0m                                       \n",
       "                                      \u001b[35m│\u001b[0m\u001b[35m                                    \u001b[0m\u001b[35m│\u001b[0m                                       \n",
       "                                      \u001b[35m└────────────────────────────────────┘\u001b[0m                                       \n"
      ]
     },
     "metadata": {},
     "output_type": "display_data"
    },
    {
     "data": {
      "text/html": [
       "<pre style=\"white-space:pre;overflow-x:auto;line-height:normal;font-family:Menlo,'DejaVu Sans Mono',consolas,'Courier New',monospace\">\n",
       "                                                       <span style=\"font-weight: bold; text-decoration: underline\">Plan</span>                                                        \n",
       "</pre>\n"
      ],
      "text/plain": [
       "\n",
       "                                                       \u001b[1;4mPlan\u001b[0m                                                        \n"
      ]
     },
     "metadata": {},
     "output_type": "display_data"
    },
    {
     "data": {
      "text/html": [
       "<pre style=\"white-space:pre;overflow-x:auto;line-height:normal;font-family:Menlo,'DejaVu Sans Mono',consolas,'Courier New',monospace\">\n",
       "<span style=\"color: #808000; text-decoration-color: #808000; font-weight: bold\"> • </span>F2_charm at 2 pts                                                                                               \n",
       "</pre>\n"
      ],
      "text/plain": [
       "\n",
       "\u001b[1;33m • \u001b[0mF2_charm at 2 pts                                                                                               \n"
      ]
     },
     "metadata": {},
     "output_type": "display_data"
    },
    {
     "data": {
      "text/html": [
       "<pre style=\"white-space:pre;overflow-x:auto;line-height:normal;font-family:Menlo,'DejaVu Sans Mono',consolas,'Courier New',monospace\">\n",
       "                                                    <span style=\"font-weight: bold; text-decoration: underline\">Calculation</span>                                                    \n",
       "</pre>\n"
      ],
      "text/plain": [
       "\n",
       "                                                    \u001b[1;4mCalculation\u001b[0m                                                    \n"
      ]
     },
     "metadata": {},
     "output_type": "display_data"
    },
    {
     "data": {
      "text/html": [
       "<pre style=\"white-space:pre;overflow-x:auto;line-height:normal;font-family:Menlo,'DejaVu Sans Mono',consolas,'Courier New',monospace\">yadism took off! please stay tuned <span style=\"color: #808000; text-decoration-color: #808000\">...</span>\n",
       "</pre>\n"
      ],
      "text/plain": [
       "yadism took off! please stay tuned \u001b[33m...\u001b[0m\n"
      ]
     },
     "metadata": {},
     "output_type": "display_data"
    },
    {
     "data": {
      "text/html": [
       "<pre style=\"white-space:pre;overflow-x:auto;line-height:normal;font-family:Menlo,'DejaVu Sans Mono',consolas,'Courier New',monospace\"></pre>\n"
      ],
      "text/plain": [
       "\u001b[?25l"
      ]
     },
     "metadata": {},
     "output_type": "display_data"
    },
    {
     "data": {
      "application/vnd.jupyter.widget-view+json": {
       "model_id": "6255695481fb45208bcdbc1779939b57",
       "version_major": 2,
       "version_minor": 0
      },
      "text/plain": [
       "Output()"
      ]
     },
     "metadata": {},
     "output_type": "display_data"
    },
    {
     "data": {
      "text/html": [
       "<pre style=\"white-space:pre;overflow-x:auto;line-height:normal;font-family:Menlo,'DejaVu Sans Mono',consolas,'Courier New',monospace\"><span style=\"color: #7fbfbf; text-decoration-color: #7fbfbf\">[15:32:16] </span><span style=\"color: #000080; text-decoration-color: #000080\">INFO    </span> computing P_qq_0 - took: <span style=\"color: #008080; text-decoration-color: #008080; font-weight: bold\">0.162971</span> s                                      <a href=\"file:///Volumes/Git_Workspace/physicstools/NN3PDF/yadism/src/yadism/esf/scale_variations.py\" target=\"_blank\"><span style=\"color: #7f7f7f; text-decoration-color: #7f7f7f\">scale_variations.py</span></a><span style=\"color: #7f7f7f; text-decoration-color: #7f7f7f\">:</span><a href=\"file:///Volumes/Git_Workspace/physicstools/NN3PDF/yadism/src/yadism/esf/scale_variations.py#85\" target=\"_blank\"><span style=\"color: #7f7f7f; text-decoration-color: #7f7f7f\">85</span></a>\n",
       "Starting... <span style=\"color: #3a3a3a; text-decoration-color: #3a3a3a\">━━━━━━━━━━━━━━━━━━━━━━━━━━━━━━━━━━━━━━━━</span> <span style=\"color: #800080; text-decoration-color: #800080\">  0%</span> <span style=\"color: #008080; text-decoration-color: #008080\">-:--:--</span></pre>\n"
      ],
      "text/plain": [
       "\r\u001b[2K\u001b[2;36m[15:32:16]\u001b[0m\u001b[2;36m \u001b[0m\u001b[34mINFO    \u001b[0m computing P_qq_0 - took: \u001b[1;36m0.162971\u001b[0m s                                      \u001b]8;id=291458;file:///Volumes/Git_Workspace/physicstools/NN3PDF/yadism/src/yadism/esf/scale_variations.py\u001b\\\u001b[2mscale_variations.py\u001b[0m\u001b]8;;\u001b\\\u001b[2m:\u001b[0m\u001b]8;id=651516;file:///Volumes/Git_Workspace/physicstools/NN3PDF/yadism/src/yadism/esf/scale_variations.py#85\u001b\\\u001b[2m85\u001b[0m\u001b]8;;\u001b\\\n",
       "Starting... \u001b[38;5;237m━━━━━━━━━━━━━━━━━━━━━━━━━━━━━━━━━━━━━━━━\u001b[0m \u001b[35m  0%\u001b[0m \u001b[36m-:--:--\u001b[0m"
      ]
     },
     "metadata": {},
     "output_type": "display_data"
    },
    {
     "data": {
      "text/html": [
       "<pre style=\"white-space:pre;overflow-x:auto;line-height:normal;font-family:Menlo,'DejaVu Sans Mono',consolas,'Courier New',monospace\"><span style=\"color: #7fbfbf; text-decoration-color: #7fbfbf\">           </span><span style=\"color: #000080; text-decoration-color: #000080\">INFO    </span> computing P_qg_0 - took: <span style=\"color: #008080; text-decoration-color: #008080; font-weight: bold\">0.140963</span> s                                      <a href=\"file:///Volumes/Git_Workspace/physicstools/NN3PDF/yadism/src/yadism/esf/scale_variations.py\" target=\"_blank\"><span style=\"color: #7f7f7f; text-decoration-color: #7f7f7f\">scale_variations.py</span></a><span style=\"color: #7f7f7f; text-decoration-color: #7f7f7f\">:</span><a href=\"file:///Volumes/Git_Workspace/physicstools/NN3PDF/yadism/src/yadism/esf/scale_variations.py#85\" target=\"_blank\"><span style=\"color: #7f7f7f; text-decoration-color: #7f7f7f\">85</span></a>\n",
       "Starting... <span style=\"color: #3a3a3a; text-decoration-color: #3a3a3a\">━━━━━━━━━━━━━━━━━━━━━━━━━━━━━━━━━━━━━━━━</span> <span style=\"color: #800080; text-decoration-color: #800080\">  0%</span> <span style=\"color: #008080; text-decoration-color: #008080\">-:--:--</span></pre>\n"
      ],
      "text/plain": [
       "\r\u001b[2K\u001b[2;36m          \u001b[0m\u001b[2;36m \u001b[0m\u001b[34mINFO    \u001b[0m computing P_qg_0 - took: \u001b[1;36m0.140963\u001b[0m s                                      \u001b]8;id=720497;file:///Volumes/Git_Workspace/physicstools/NN3PDF/yadism/src/yadism/esf/scale_variations.py\u001b\\\u001b[2mscale_variations.py\u001b[0m\u001b]8;;\u001b\\\u001b[2m:\u001b[0m\u001b]8;id=82799;file:///Volumes/Git_Workspace/physicstools/NN3PDF/yadism/src/yadism/esf/scale_variations.py#85\u001b\\\u001b[2m85\u001b[0m\u001b]8;;\u001b\\\n",
       "Starting... \u001b[38;5;237m━━━━━━━━━━━━━━━━━━━━━━━━━━━━━━━━━━━━━━━━\u001b[0m \u001b[35m  0%\u001b[0m \u001b[36m-:--:--\u001b[0m"
      ]
     },
     "metadata": {},
     "output_type": "display_data"
    },
    {
     "data": {
      "text/html": [
       "<pre style=\"white-space:pre;overflow-x:auto;line-height:normal;font-family:Menlo,'DejaVu Sans Mono',consolas,'Courier New',monospace\">\n",
       "</pre>\n"
      ],
      "text/plain": [
       "\n",
       "\u001b[?25h\r\u001b[1A\u001b[2K"
      ]
     },
     "metadata": {},
     "output_type": "display_data"
    },
    {
     "data": {
      "text/html": [
       "<pre style=\"white-space:pre;overflow-x:auto;line-height:normal;font-family:Menlo,'DejaVu Sans Mono',consolas,'Courier New',monospace\"><span style=\"color: #008080; text-decoration-color: #008080\">took </span><span style=\"color: #008080; text-decoration-color: #008080; font-weight: bold\">0.74</span><span style=\"color: #008080; text-decoration-color: #008080\"> s</span>\n",
       "</pre>\n"
      ],
      "text/plain": [
       "\u001b[36mtook \u001b[0m\u001b[1;36m0.74\u001b[0m\u001b[36m s\u001b[0m\n"
      ]
     },
     "metadata": {},
     "output_type": "display_data"
    },
    {
     "data": {
      "text/html": [
       "<pre style=\"white-space:pre;overflow-x:auto;line-height:normal;font-family:Menlo,'DejaVu Sans Mono',consolas,'Courier New',monospace\"><span style=\"color: #7fbfbf; text-decoration-color: #7fbfbf\">           </span><span style=\"color: #000080; text-decoration-color: #000080\">INFO    </span> Atlas <span style=\"font-weight: bold\">[</span><span style=\"color: #008080; text-decoration-color: #008080; font-weight: bold\">0.00e+00</span> - <span style=\"color: #008080; text-decoration-color: #008080; font-weight: bold\">2.28e+00</span> - <span style=\"color: #008080; text-decoration-color: #008080; font-weight: bold\">2.42e+01</span> - <span style=\"color: #008080; text-decoration-color: #008080; font-weight: bold\">2.98e+04</span> - inf<span style=\"font-weight: bold\">]</span>, <span style=\"color: #808000; text-decoration-color: #808000\">ref</span>=<span style=\"color: #008080; text-decoration-color: #008080; font-weight: bold\">8317.44</span> @ <span style=\"color: #008080; text-decoration-color: #008080; font-weight: bold\">5</span>        <a href=\"file:///Users/giacomomagni/.conda/envs/yad_dev/lib/python3.10/site-packages/eko/matchings.py\" target=\"_blank\"><span style=\"color: #7f7f7f; text-decoration-color: #7f7f7f\">matchings.py</span></a><span style=\"color: #7f7f7f; text-decoration-color: #7f7f7f\">:</span><a href=\"file:///Users/giacomomagni/.conda/envs/yad_dev/lib/python3.10/site-packages/eko/matchings.py#72\" target=\"_blank\"><span style=\"color: #7f7f7f; text-decoration-color: #7f7f7f\">72</span></a>\n",
       "</pre>\n"
      ],
      "text/plain": [
       "\u001b[2;36m          \u001b[0m\u001b[2;36m \u001b[0m\u001b[34mINFO    \u001b[0m Atlas \u001b[1m[\u001b[0m\u001b[1;36m0.00e+00\u001b[0m - \u001b[1;36m2.28e+00\u001b[0m - \u001b[1;36m2.42e+01\u001b[0m - \u001b[1;36m2.98e+04\u001b[0m - inf\u001b[1m]\u001b[0m, \u001b[33mref\u001b[0m=\u001b[1;36m8317\u001b[0m\u001b[1;36m.44\u001b[0m @ \u001b[1;36m5\u001b[0m        \u001b]8;id=982260;file:///Users/giacomomagni/.conda/envs/yad_dev/lib/python3.10/site-packages/eko/matchings.py\u001b\\\u001b[2mmatchings.py\u001b[0m\u001b]8;;\u001b\\\u001b[2m:\u001b[0m\u001b]8;id=642494;file:///Users/giacomomagni/.conda/envs/yad_dev/lib/python3.10/site-packages/eko/matchings.py#72\u001b\\\u001b[2m72\u001b[0m\u001b]8;;\u001b\\\n"
      ]
     },
     "metadata": {},
     "output_type": "display_data"
    },
    {
     "data": {
      "text/html": [
       "<pre style=\"white-space:pre;overflow-x:auto;line-height:normal;font-family:Menlo,'DejaVu Sans Mono',consolas,'Courier New',monospace\"><span style=\"color: #7fbfbf; text-decoration-color: #7fbfbf\">           </span><span style=\"color: #000080; text-decoration-color: #000080\">INFO    </span> Strong Coupling: <span style=\"color: #800080; text-decoration-color: #800080; font-weight: bold\">a_s</span><span style=\"font-weight: bold\">(</span>µ_R^<span style=\"color: #008080; text-decoration-color: #008080; font-weight: bold\">2</span>=<span style=\"color: #008080; text-decoration-color: #008080; font-weight: bold\">8317.440000</span><span style=\"font-weight: bold\">)</span>^<span style=\"font-weight: bold\">(</span><span style=\"color: #808000; text-decoration-color: #808000\">nf</span>=<span style=\"color: #008080; text-decoration-color: #008080; font-weight: bold\">5</span><span style=\"font-weight: bold\">)</span>=<span style=\"color: #008080; text-decoration-color: #008080; font-weight: bold\">0.009390</span>=<span style=\"color: #008080; text-decoration-color: #008080; font-weight: bold\">0.118000</span>/<span style=\"font-weight: bold\">(</span>4π<span style=\"font-weight: bold\">)</span>          <a href=\"file:///Users/giacomomagni/.conda/envs/yad_dev/lib/python3.10/site-packages/eko/couplings.py\" target=\"_blank\"><span style=\"color: #7f7f7f; text-decoration-color: #7f7f7f\">couplings.py</span></a><span style=\"color: #7f7f7f; text-decoration-color: #7f7f7f\">:</span><a href=\"file:///Users/giacomomagni/.conda/envs/yad_dev/lib/python3.10/site-packages/eko/couplings.py#464\" target=\"_blank\"><span style=\"color: #7f7f7f; text-decoration-color: #7f7f7f\">464</span></a>\n",
       "</pre>\n"
      ],
      "text/plain": [
       "\u001b[2;36m          \u001b[0m\u001b[2;36m \u001b[0m\u001b[34mINFO    \u001b[0m Strong Coupling: \u001b[1;35ma_s\u001b[0m\u001b[1m(\u001b[0mµ_R^\u001b[1;36m2\u001b[0m=\u001b[1;36m8317\u001b[0m\u001b[1;36m.440000\u001b[0m\u001b[1m)\u001b[0m^\u001b[1m(\u001b[0m\u001b[33mnf\u001b[0m=\u001b[1;36m5\u001b[0m\u001b[1m)\u001b[0m=\u001b[1;36m0.\u001b[0m\u001b[1;36m009390\u001b[0m=\u001b[1;36m0\u001b[0m\u001b[1;36m.118000\u001b[0m/\u001b[1m(\u001b[0m4π\u001b[1m)\u001b[0m          \u001b]8;id=643666;file:///Users/giacomomagni/.conda/envs/yad_dev/lib/python3.10/site-packages/eko/couplings.py\u001b\\\u001b[2mcouplings.py\u001b[0m\u001b]8;;\u001b\\\u001b[2m:\u001b[0m\u001b]8;id=430648;file:///Users/giacomomagni/.conda/envs/yad_dev/lib/python3.10/site-packages/eko/couplings.py#464\u001b\\\u001b[2m464\u001b[0m\u001b]8;;\u001b\\\n"
      ]
     },
     "metadata": {},
     "output_type": "display_data"
    },
    {
     "data": {
      "text/html": [
       "<pre style=\"white-space:pre;overflow-x:auto;line-height:normal;font-family:Menlo,'DejaVu Sans Mono',consolas,'Courier New',monospace\"><span style=\"color: #7fbfbf; text-decoration-color: #7fbfbf\">           </span><span style=\"color: #000080; text-decoration-color: #000080\">INFO    </span> Atlas <span style=\"font-weight: bold\">[</span><span style=\"color: #008080; text-decoration-color: #008080; font-weight: bold\">0.00e+00</span> - <span style=\"color: #008080; text-decoration-color: #008080; font-weight: bold\">2.28e+00</span> - <span style=\"color: #008080; text-decoration-color: #008080; font-weight: bold\">2.42e+01</span> - <span style=\"color: #008080; text-decoration-color: #008080; font-weight: bold\">2.98e+04</span> - inf<span style=\"font-weight: bold\">]</span>, <span style=\"color: #808000; text-decoration-color: #808000\">ref</span>=<span style=\"color: #008080; text-decoration-color: #008080; font-weight: bold\">8317.44</span> @ <span style=\"color: #008080; text-decoration-color: #008080; font-weight: bold\">5</span>        <a href=\"file:///Users/giacomomagni/.conda/envs/yad_dev/lib/python3.10/site-packages/eko/matchings.py\" target=\"_blank\"><span style=\"color: #7f7f7f; text-decoration-color: #7f7f7f\">matchings.py</span></a><span style=\"color: #7f7f7f; text-decoration-color: #7f7f7f\">:</span><a href=\"file:///Users/giacomomagni/.conda/envs/yad_dev/lib/python3.10/site-packages/eko/matchings.py#72\" target=\"_blank\"><span style=\"color: #7f7f7f; text-decoration-color: #7f7f7f\">72</span></a>\n",
       "</pre>\n"
      ],
      "text/plain": [
       "\u001b[2;36m          \u001b[0m\u001b[2;36m \u001b[0m\u001b[34mINFO    \u001b[0m Atlas \u001b[1m[\u001b[0m\u001b[1;36m0.00e+00\u001b[0m - \u001b[1;36m2.28e+00\u001b[0m - \u001b[1;36m2.42e+01\u001b[0m - \u001b[1;36m2.98e+04\u001b[0m - inf\u001b[1m]\u001b[0m, \u001b[33mref\u001b[0m=\u001b[1;36m8317\u001b[0m\u001b[1;36m.44\u001b[0m @ \u001b[1;36m5\u001b[0m        \u001b]8;id=127965;file:///Users/giacomomagni/.conda/envs/yad_dev/lib/python3.10/site-packages/eko/matchings.py\u001b\\\u001b[2mmatchings.py\u001b[0m\u001b]8;;\u001b\\\u001b[2m:\u001b[0m\u001b]8;id=982075;file:///Users/giacomomagni/.conda/envs/yad_dev/lib/python3.10/site-packages/eko/matchings.py#72\u001b\\\u001b[2m72\u001b[0m\u001b]8;;\u001b\\\n"
      ]
     },
     "metadata": {},
     "output_type": "display_data"
    },
    {
     "data": {
      "text/html": [
       "<pre style=\"white-space:pre;overflow-x:auto;line-height:normal;font-family:Menlo,'DejaVu Sans Mono',consolas,'Courier New',monospace\"><span style=\"color: #7fbfbf; text-decoration-color: #7fbfbf\">           </span><span style=\"color: #000080; text-decoration-color: #000080\">INFO    </span> Interpolation: number of points = <span style=\"color: #008080; text-decoration-color: #008080; font-weight: bold\">30</span>, polynomial degree = <span style=\"color: #008080; text-decoration-color: #008080; font-weight: bold\">4</span>, logarithmic = <a href=\"file:///Users/giacomomagni/.conda/envs/yad_dev/lib/python3.10/site-packages/eko/interpolation.py\" target=\"_blank\"><span style=\"color: #7f7f7f; text-decoration-color: #7f7f7f\">interpolation.py</span></a><span style=\"color: #7f7f7f; text-decoration-color: #7f7f7f\">:</span><a href=\"file:///Users/giacomomagni/.conda/envs/yad_dev/lib/python3.10/site-packages/eko/interpolation.py#538\" target=\"_blank\"><span style=\"color: #7f7f7f; text-decoration-color: #7f7f7f\">538</span></a>\n",
       "<span style=\"color: #7fbfbf; text-decoration-color: #7fbfbf\">           </span>         <span style=\"color: #00ff00; text-decoration-color: #00ff00; font-style: italic\">True</span>                                                                       <span style=\"color: #7f7f7f; text-decoration-color: #7f7f7f\">                    </span>\n",
       "</pre>\n"
      ],
      "text/plain": [
       "\u001b[2;36m          \u001b[0m\u001b[2;36m \u001b[0m\u001b[34mINFO    \u001b[0m Interpolation: number of points = \u001b[1;36m30\u001b[0m, polynomial degree = \u001b[1;36m4\u001b[0m, logarithmic = \u001b]8;id=475030;file:///Users/giacomomagni/.conda/envs/yad_dev/lib/python3.10/site-packages/eko/interpolation.py\u001b\\\u001b[2minterpolation.py\u001b[0m\u001b]8;;\u001b\\\u001b[2m:\u001b[0m\u001b]8;id=8994;file:///Users/giacomomagni/.conda/envs/yad_dev/lib/python3.10/site-packages/eko/interpolation.py#538\u001b\\\u001b[2m538\u001b[0m\u001b]8;;\u001b\\\n",
       "\u001b[2;36m           \u001b[0m         \u001b[3;92mTrue\u001b[0m                                                                       \u001b[2m                    \u001b[0m\n"
      ]
     },
     "metadata": {},
     "output_type": "display_data"
    },
    {
     "name": "stdout",
     "output_type": "stream",
     "text": [
      "LHAPDF 6.5.0 loading /Users/giacomomagni/.conda/envs/yad_dev/share/LHAPDF/NNPDF40_evolved_nf5/NNPDF40_evolved_nf5_0000.dat\n",
      "NNPDF40_evolved_nf5 PDF set, member #0, version 1\n"
     ]
    },
    {
     "data": {
      "text/html": [
       "<pre style=\"white-space:pre;overflow-x:auto;line-height:normal;font-family:Menlo,'DejaVu Sans Mono',consolas,'Courier New',monospace\"><span style=\"color: #7fbfbf; text-decoration-color: #7fbfbf\">           </span><span style=\"color: #000080; text-decoration-color: #000080\">INFO    </span> <span style=\"font-weight: bold\">{</span><span style=\"color: #008000; text-decoration-color: #008000\">'MZ2'</span>: <span style=\"color: #008080; text-decoration-color: #008080; font-weight: bold\">8315.178393760001</span>, <span style=\"color: #008000; text-decoration-color: #008000\">'CKM'</span>: <span style=\"color: #800080; text-decoration-color: #800080; font-weight: bold\">CKM</span><span style=\"font-weight: bold\">([[</span><span style=\"color: #008080; text-decoration-color: #008080; font-weight: bold\">9.49221518e-01</span> <span style=\"color: #008080; text-decoration-color: #008080; font-weight: bold\">5.07600900e-02</span>  <a href=\"file:///Volumes/Git_Workspace/physicstools/NN3PDF/yadism/src/yadism/coefficient_functions/coupling_constants.py\" target=\"_blank\"><span style=\"color: #7f7f7f; text-decoration-color: #7f7f7f\">coupling_constants.py</span></a><span style=\"color: #7f7f7f; text-decoration-color: #7f7f7f\">:</span><a href=\"file:///Volumes/Git_Workspace/physicstools/NN3PDF/yadism/src/yadism/coefficient_functions/coupling_constants.py#53\" target=\"_blank\"><span style=\"color: #7f7f7f; text-decoration-color: #7f7f7f\">53</span></a>\n",
       "<span style=\"color: #7fbfbf; text-decoration-color: #7fbfbf\">           </span>         <span style=\"color: #008080; text-decoration-color: #008080; font-weight: bold\">1.20409000e-05</span><span style=\"font-weight: bold\">]</span> <span style=\"font-weight: bold\">[</span><span style=\"color: #008080; text-decoration-color: #008080; font-weight: bold\">5.07150400e-02</span> <span style=\"color: #008080; text-decoration-color: #008080; font-weight: bold\">9.47604903e-01</span> <span style=\"color: #008080; text-decoration-color: #008080; font-weight: bold\">1.68100000e-03</span><span style=\"font-weight: bold\">]</span>         <span style=\"color: #7f7f7f; text-decoration-color: #7f7f7f\">                        </span>\n",
       "<span style=\"color: #7fbfbf; text-decoration-color: #7fbfbf\">           </span>         <span style=\"font-weight: bold\">[</span><span style=\"color: #008080; text-decoration-color: #008080; font-weight: bold\">7.43044000e-05</span> <span style=\"color: #008080; text-decoration-color: #008080; font-weight: bold\">1.62409000e-03</span> <span style=\"color: #008080; text-decoration-color: #008080; font-weight: bold\">9.98304719e-01</span><span style=\"font-weight: bold\">]])</span>, <span style=\"color: #008000; text-decoration-color: #008000\">'sin2theta_weak'</span>:    <span style=\"color: #7f7f7f; text-decoration-color: #7f7f7f\">                        </span>\n",
       "<span style=\"color: #7fbfbf; text-decoration-color: #7fbfbf\">           </span>         <span style=\"color: #008080; text-decoration-color: #008080; font-weight: bold\">0.23121</span>, <span style=\"color: #008000; text-decoration-color: #008000\">'MW2'</span>: <span style=\"color: #008080; text-decoration-color: #008080; font-weight: bold\">6463.838403999999</span><span style=\"font-weight: bold\">}</span>                                     <span style=\"color: #7f7f7f; text-decoration-color: #7f7f7f\">                        </span>\n",
       "</pre>\n"
      ],
      "text/plain": [
       "\u001b[2;36m          \u001b[0m\u001b[2;36m \u001b[0m\u001b[34mINFO    \u001b[0m \u001b[1m{\u001b[0m\u001b[32m'MZ2'\u001b[0m: \u001b[1;36m8315.178393760001\u001b[0m, \u001b[32m'CKM'\u001b[0m: \u001b[1;35mCKM\u001b[0m\u001b[1m(\u001b[0m\u001b[1m[\u001b[0m\u001b[1m[\u001b[0m\u001b[1;36m9.49221518e-01\u001b[0m \u001b[1;36m5.07600900e-02\u001b[0m  \u001b]8;id=28711;file:///Volumes/Git_Workspace/physicstools/NN3PDF/yadism/src/yadism/coefficient_functions/coupling_constants.py\u001b\\\u001b[2mcoupling_constants.py\u001b[0m\u001b]8;;\u001b\\\u001b[2m:\u001b[0m\u001b]8;id=189541;file:///Volumes/Git_Workspace/physicstools/NN3PDF/yadism/src/yadism/coefficient_functions/coupling_constants.py#53\u001b\\\u001b[2m53\u001b[0m\u001b]8;;\u001b\\\n",
       "\u001b[2;36m           \u001b[0m         \u001b[1;36m1.20409000e-05\u001b[0m\u001b[1m]\u001b[0m \u001b[1m[\u001b[0m\u001b[1;36m5.07150400e-02\u001b[0m \u001b[1;36m9.47604903e-01\u001b[0m \u001b[1;36m1.68100000e-03\u001b[0m\u001b[1m]\u001b[0m         \u001b[2m                        \u001b[0m\n",
       "\u001b[2;36m           \u001b[0m         \u001b[1m[\u001b[0m\u001b[1;36m7.43044000e-05\u001b[0m \u001b[1;36m1.62409000e-03\u001b[0m \u001b[1;36m9.98304719e-01\u001b[0m\u001b[1m]\u001b[0m\u001b[1m]\u001b[0m\u001b[1m)\u001b[0m, \u001b[32m'sin2theta_weak'\u001b[0m:    \u001b[2m                        \u001b[0m\n",
       "\u001b[2;36m           \u001b[0m         \u001b[1;36m0.23121\u001b[0m, \u001b[32m'MW2'\u001b[0m: \u001b[1;36m6463.838403999999\u001b[0m\u001b[1m}\u001b[0m                                     \u001b[2m                        \u001b[0m\n"
      ]
     },
     "metadata": {},
     "output_type": "display_data"
    },
    {
     "data": {
      "text/html": [
       "<pre style=\"white-space:pre;overflow-x:auto;line-height:normal;font-family:Menlo,'DejaVu Sans Mono',consolas,'Courier New',monospace\"><span style=\"color: #7fbfbf; text-decoration-color: #7fbfbf\">           </span><span style=\"color: #000080; text-decoration-color: #000080\">INFO    </span> <span style=\"font-weight: bold\">{</span><span style=\"color: #008000; text-decoration-color: #008000\">'process'</span>: <span style=\"color: #008000; text-decoration-color: #008000\">'NC'</span>, <span style=\"color: #008000; text-decoration-color: #008000\">'projectilePID'</span>: <span style=\"color: #008080; text-decoration-color: #008080; font-weight: bold\">11</span>, <span style=\"color: #008000; text-decoration-color: #008000\">'polarization'</span>: <span style=\"color: #008080; text-decoration-color: #008080; font-weight: bold\">0.0</span>,            <a href=\"file:///Volumes/Git_Workspace/physicstools/NN3PDF/yadism/src/yadism/coefficient_functions/coupling_constants.py\" target=\"_blank\"><span style=\"color: #7f7f7f; text-decoration-color: #7f7f7f\">coupling_constants.py</span></a><span style=\"color: #7f7f7f; text-decoration-color: #7f7f7f\">:</span><a href=\"file:///Volumes/Git_Workspace/physicstools/NN3PDF/yadism/src/yadism/coefficient_functions/coupling_constants.py#54\" target=\"_blank\"><span style=\"color: #7f7f7f; text-decoration-color: #7f7f7f\">54</span></a>\n",
       "<span style=\"color: #7fbfbf; text-decoration-color: #7fbfbf\">           </span>         <span style=\"color: #008000; text-decoration-color: #008000\">'propagatorCorrection'</span>: <span style=\"color: #008080; text-decoration-color: #008080; font-weight: bold\">0.0</span>, <span style=\"color: #008000; text-decoration-color: #008000\">'nc_pos_charge'</span>: <span style=\"color: #800080; text-decoration-color: #800080; font-style: italic\">None</span><span style=\"font-weight: bold\">}</span>                    <span style=\"color: #7f7f7f; text-decoration-color: #7f7f7f\">                        </span>\n",
       "</pre>\n"
      ],
      "text/plain": [
       "\u001b[2;36m          \u001b[0m\u001b[2;36m \u001b[0m\u001b[34mINFO    \u001b[0m \u001b[1m{\u001b[0m\u001b[32m'process'\u001b[0m: \u001b[32m'NC'\u001b[0m, \u001b[32m'projectilePID'\u001b[0m: \u001b[1;36m11\u001b[0m, \u001b[32m'polarization'\u001b[0m: \u001b[1;36m0.0\u001b[0m,            \u001b]8;id=838336;file:///Volumes/Git_Workspace/physicstools/NN3PDF/yadism/src/yadism/coefficient_functions/coupling_constants.py\u001b\\\u001b[2mcoupling_constants.py\u001b[0m\u001b]8;;\u001b\\\u001b[2m:\u001b[0m\u001b]8;id=287536;file:///Volumes/Git_Workspace/physicstools/NN3PDF/yadism/src/yadism/coefficient_functions/coupling_constants.py#54\u001b\\\u001b[2m54\u001b[0m\u001b]8;;\u001b\\\n",
       "\u001b[2;36m           \u001b[0m         \u001b[32m'propagatorCorrection'\u001b[0m: \u001b[1;36m0.0\u001b[0m, \u001b[32m'nc_pos_charge'\u001b[0m: \u001b[3;35mNone\u001b[0m\u001b[1m}\u001b[0m                    \u001b[2m                        \u001b[0m\n"
      ]
     },
     "metadata": {},
     "output_type": "display_data"
    },
    {
     "data": {
      "text/html": [
       "<pre style=\"white-space:pre;overflow-x:auto;line-height:normal;font-family:Menlo,'DejaVu Sans Mono',consolas,'Courier New',monospace\"><span style=\"color: #7fbfbf; text-decoration-color: #7fbfbf\">           </span><span style=\"color: #000080; text-decoration-color: #000080\">INFO    </span> RenScaleVar: <span style=\"color: #00ff00; text-decoration-color: #00ff00; font-style: italic\">True</span>, FactScaleVar: <span style=\"color: #00ff00; text-decoration-color: #00ff00; font-style: italic\">True</span>                                    <a href=\"file:///Volumes/Git_Workspace/physicstools/NN3PDF/yadism/src/yadism/esf/scale_variations.py\" target=\"_blank\"><span style=\"color: #7f7f7f; text-decoration-color: #7f7f7f\">scale_variations.py</span></a><span style=\"color: #7f7f7f; text-decoration-color: #7f7f7f\">:</span><a href=\"file:///Volumes/Git_Workspace/physicstools/NN3PDF/yadism/src/yadism/esf/scale_variations.py#62\" target=\"_blank\"><span style=\"color: #7f7f7f; text-decoration-color: #7f7f7f\">62</span></a>\n",
       "</pre>\n"
      ],
      "text/plain": [
       "\u001b[2;36m          \u001b[0m\u001b[2;36m \u001b[0m\u001b[34mINFO    \u001b[0m RenScaleVar: \u001b[3;92mTrue\u001b[0m, FactScaleVar: \u001b[3;92mTrue\u001b[0m                                    \u001b]8;id=477693;file:///Volumes/Git_Workspace/physicstools/NN3PDF/yadism/src/yadism/esf/scale_variations.py\u001b\\\u001b[2mscale_variations.py\u001b[0m\u001b]8;;\u001b\\\u001b[2m:\u001b[0m\u001b]8;id=654202;file:///Volumes/Git_Workspace/physicstools/NN3PDF/yadism/src/yadism/esf/scale_variations.py#62\u001b\\\u001b[2m62\u001b[0m\u001b]8;;\u001b\\\n"
      ]
     },
     "metadata": {},
     "output_type": "display_data"
    },
    {
     "data": {
      "text/html": [
       "<pre style=\"white-space:pre;overflow-x:auto;line-height:normal;font-family:Menlo,'DejaVu Sans Mono',consolas,'Courier New',monospace\"><span style=\"color: #7fbfbf; text-decoration-color: #7fbfbf\">           </span><span style=\"color: #000080; text-decoration-color: #000080\">INFO    </span> Atlas <span style=\"font-weight: bold\">[</span><span style=\"color: #008080; text-decoration-color: #008080; font-weight: bold\">0.00e+00</span> - <span style=\"color: #008080; text-decoration-color: #008080; font-weight: bold\">0.00e+00</span> - <span style=\"color: #008080; text-decoration-color: #008080; font-weight: bold\">0.00e+00</span> - inf - inf<span style=\"font-weight: bold\">]</span>, <span style=\"color: #808000; text-decoration-color: #808000\">ref</span>=<span style=\"color: #008080; text-decoration-color: #008080; font-weight: bold\">2.7224999999999997</span> @ <span style=\"color: #008080; text-decoration-color: #008080; font-weight: bold\">4</span>  <a href=\"file:///Users/giacomomagni/.conda/envs/yad_dev/lib/python3.10/site-packages/eko/matchings.py\" target=\"_blank\"><span style=\"color: #7f7f7f; text-decoration-color: #7f7f7f\">matchings.py</span></a><span style=\"color: #7f7f7f; text-decoration-color: #7f7f7f\">:</span><a href=\"file:///Users/giacomomagni/.conda/envs/yad_dev/lib/python3.10/site-packages/eko/matchings.py#72\" target=\"_blank\"><span style=\"color: #7f7f7f; text-decoration-color: #7f7f7f\">72</span></a>\n",
       "</pre>\n"
      ],
      "text/plain": [
       "\u001b[2;36m          \u001b[0m\u001b[2;36m \u001b[0m\u001b[34mINFO    \u001b[0m Atlas \u001b[1m[\u001b[0m\u001b[1;36m0.00e+00\u001b[0m - \u001b[1;36m0.00e+00\u001b[0m - \u001b[1;36m0.00e+00\u001b[0m - inf - inf\u001b[1m]\u001b[0m, \u001b[33mref\u001b[0m=\u001b[1;36m2\u001b[0m\u001b[1;36m.7224999999999997\u001b[0m @ \u001b[1;36m4\u001b[0m  \u001b]8;id=655775;file:///Users/giacomomagni/.conda/envs/yad_dev/lib/python3.10/site-packages/eko/matchings.py\u001b\\\u001b[2mmatchings.py\u001b[0m\u001b]8;;\u001b\\\u001b[2m:\u001b[0m\u001b]8;id=188766;file:///Users/giacomomagni/.conda/envs/yad_dev/lib/python3.10/site-packages/eko/matchings.py#72\u001b\\\u001b[2m72\u001b[0m\u001b]8;;\u001b\\\n"
      ]
     },
     "metadata": {},
     "output_type": "display_data"
    },
    {
     "data": {
      "text/html": [
       "<pre style=\"white-space:pre;overflow-x:auto;line-height:normal;font-family:Menlo,'DejaVu Sans Mono',consolas,'Courier New',monospace\"><span style=\"color: #7fbfbf; text-decoration-color: #7fbfbf\">           </span><span style=\"color: #000080; text-decoration-color: #000080\">INFO    </span> PTO: <span style=\"color: #008080; text-decoration-color: #008080; font-weight: bold\">1</span>, PTO@evolution: <span style=\"color: #008080; text-decoration-color: #008080; font-weight: bold\">1</span>, process: NC                                             <a href=\"file:///Volumes/Git_Workspace/physicstools/NN3PDF/yadism/src/yadism/runner.py\" target=\"_blank\"><span style=\"color: #7f7f7f; text-decoration-color: #7f7f7f\">runner.py</span></a><span style=\"color: #7f7f7f; text-decoration-color: #7f7f7f\">:</span><a href=\"file:///Volumes/Git_Workspace/physicstools/NN3PDF/yadism/src/yadism/runner.py#142\" target=\"_blank\"><span style=\"color: #7f7f7f; text-decoration-color: #7f7f7f\">142</span></a>\n",
       "</pre>\n"
      ],
      "text/plain": [
       "\u001b[2;36m          \u001b[0m\u001b[2;36m \u001b[0m\u001b[34mINFO    \u001b[0m PTO: \u001b[1;36m1\u001b[0m, PTO@evolution: \u001b[1;36m1\u001b[0m, process: NC                                             \u001b]8;id=990951;file:///Volumes/Git_Workspace/physicstools/NN3PDF/yadism/src/yadism/runner.py\u001b\\\u001b[2mrunner.py\u001b[0m\u001b]8;;\u001b\\\u001b[2m:\u001b[0m\u001b]8;id=988943;file:///Volumes/Git_Workspace/physicstools/NN3PDF/yadism/src/yadism/runner.py#142\u001b\\\u001b[2m142\u001b[0m\u001b]8;;\u001b\\\n"
      ]
     },
     "metadata": {},
     "output_type": "display_data"
    },
    {
     "data": {
      "text/html": [
       "<pre style=\"white-space:pre;overflow-x:auto;line-height:normal;font-family:Menlo,'DejaVu Sans Mono',consolas,'Courier New',monospace\"><span style=\"color: #7fbfbf; text-decoration-color: #7fbfbf\">           </span><span style=\"color: #000080; text-decoration-color: #000080\">INFO    </span> FNS: FONLL-FFNS, NfFF: <span style=\"color: #008080; text-decoration-color: #008080; font-weight: bold\">5</span>                                                          <a href=\"file:///Volumes/Git_Workspace/physicstools/NN3PDF/yadism/src/yadism/runner.py\" target=\"_blank\"><span style=\"color: #7f7f7f; text-decoration-color: #7f7f7f\">runner.py</span></a><span style=\"color: #7f7f7f; text-decoration-color: #7f7f7f\">:</span><a href=\"file:///Volumes/Git_Workspace/physicstools/NN3PDF/yadism/src/yadism/runner.py#149\" target=\"_blank\"><span style=\"color: #7f7f7f; text-decoration-color: #7f7f7f\">149</span></a>\n",
       "</pre>\n"
      ],
      "text/plain": [
       "\u001b[2;36m          \u001b[0m\u001b[2;36m \u001b[0m\u001b[34mINFO    \u001b[0m FNS: FONLL-FFNS, NfFF: \u001b[1;36m5\u001b[0m                                                          \u001b]8;id=897365;file:///Volumes/Git_Workspace/physicstools/NN3PDF/yadism/src/yadism/runner.py\u001b\\\u001b[2mrunner.py\u001b[0m\u001b]8;;\u001b\\\u001b[2m:\u001b[0m\u001b]8;id=521104;file:///Volumes/Git_Workspace/physicstools/NN3PDF/yadism/src/yadism/runner.py#149\u001b\\\u001b[2m149\u001b[0m\u001b]8;;\u001b\\\n"
      ]
     },
     "metadata": {},
     "output_type": "display_data"
    },
    {
     "data": {
      "text/html": [
       "<pre style=\"white-space:pre;overflow-x:auto;line-height:normal;font-family:Menlo,'DejaVu Sans Mono',consolas,'Courier New',monospace\"><span style=\"color: #7fbfbf; text-decoration-color: #7fbfbf\">           </span><span style=\"color: #000080; text-decoration-color: #000080\">INFO    </span> projectile: electron, target: <span style=\"font-weight: bold\">{</span>Z: <span style=\"color: #008080; text-decoration-color: #008080; font-weight: bold\">1</span>, A: <span style=\"color: #008080; text-decoration-color: #008080; font-weight: bold\">1</span><span style=\"font-weight: bold\">}</span>                                        <a href=\"file:///Volumes/Git_Workspace/physicstools/NN3PDF/yadism/src/yadism/runner.py\" target=\"_blank\"><span style=\"color: #7f7f7f; text-decoration-color: #7f7f7f\">runner.py</span></a><span style=\"color: #7f7f7f; text-decoration-color: #7f7f7f\">:</span><a href=\"file:///Volumes/Git_Workspace/physicstools/NN3PDF/yadism/src/yadism/runner.py#150\" target=\"_blank\"><span style=\"color: #7f7f7f; text-decoration-color: #7f7f7f\">150</span></a>\n",
       "</pre>\n"
      ],
      "text/plain": [
       "\u001b[2;36m          \u001b[0m\u001b[2;36m \u001b[0m\u001b[34mINFO    \u001b[0m projectile: electron, target: \u001b[1m{\u001b[0mZ: \u001b[1;36m1\u001b[0m, A: \u001b[1;36m1\u001b[0m\u001b[1m}\u001b[0m                                        \u001b]8;id=836714;file:///Volumes/Git_Workspace/physicstools/NN3PDF/yadism/src/yadism/runner.py\u001b\\\u001b[2mrunner.py\u001b[0m\u001b]8;;\u001b\\\u001b[2m:\u001b[0m\u001b]8;id=307580;file:///Volumes/Git_Workspace/physicstools/NN3PDF/yadism/src/yadism/runner.py#150\u001b\\\u001b[2m150\u001b[0m\u001b]8;;\u001b\\\n"
      ]
     },
     "metadata": {},
     "output_type": "display_data"
    },
    {
     "data": {
      "text/html": [
       "<pre style=\"white-space:pre;overflow-x:auto;line-height:normal;font-family:Menlo,'DejaVu Sans Mono',consolas,'Courier New',monospace\">                                      <span style=\"color: #800080; text-decoration-color: #800080\">┌────────────────────────────────────┐</span>                                       \n",
       "                                      <span style=\"color: #800080; text-decoration-color: #800080\">│                                    │</span>                                       \n",
       "                                      <span style=\"color: #800080; text-decoration-color: #800080\">│ __     __       _ _                │</span>                                       \n",
       "                                      <span style=\"color: #800080; text-decoration-color: #800080\">│ \\ \\   / /      | (_)               │</span>                                       \n",
       "                                      <span style=\"color: #800080; text-decoration-color: #800080\">│  \\ \\_/ /_ _  __| |_ ___ _ __ ___   │</span>                                       \n",
       "                                      <span style=\"color: #800080; text-decoration-color: #800080\">│   \\   / _` |/ _` | / __| '_ ` _ \\  │</span>                                       \n",
       "                                      <span style=\"color: #800080; text-decoration-color: #800080\">│    | | (_| | (_| | \\__ \\ | | | | | │</span>                                       \n",
       "                                      <span style=\"color: #800080; text-decoration-color: #800080\">│    |_|\\__,_|\\__,_|_|___/_| |_| |_| │</span>                                       \n",
       "                                      <span style=\"color: #800080; text-decoration-color: #800080\">│                                    │</span>                                       \n",
       "                                      <span style=\"color: #800080; text-decoration-color: #800080\">└────────────────────────────────────┘</span>                                       \n",
       "</pre>\n"
      ],
      "text/plain": [
       "                                      \u001b[35m┌────────────────────────────────────┐\u001b[0m                                       \n",
       "                                      \u001b[35m│\u001b[0m\u001b[35m                                    \u001b[0m\u001b[35m│\u001b[0m                                       \n",
       "                                      \u001b[35m│\u001b[0m\u001b[35m \u001b[0m\u001b[35m__     __       _ _\u001b[0m\u001b[35m               \u001b[0m\u001b[35m \u001b[0m\u001b[35m│\u001b[0m                                       \n",
       "                                      \u001b[35m│\u001b[0m\u001b[35m \u001b[0m\u001b[35m\\ \\   / /      | (_)\u001b[0m\u001b[35m              \u001b[0m\u001b[35m \u001b[0m\u001b[35m│\u001b[0m                                       \n",
       "                                      \u001b[35m│\u001b[0m\u001b[35m \u001b[0m\u001b[35m \\ \\_/ /_ _  __| |_ ___ _ __ ___\u001b[0m\u001b[35m  \u001b[0m\u001b[35m \u001b[0m\u001b[35m│\u001b[0m                                       \n",
       "                                      \u001b[35m│\u001b[0m\u001b[35m \u001b[0m\u001b[35m  \\   / _` |/ _` | / __| '_ ` _ \\\u001b[0m\u001b[35m \u001b[0m\u001b[35m \u001b[0m\u001b[35m│\u001b[0m                                       \n",
       "                                      \u001b[35m│\u001b[0m\u001b[35m \u001b[0m\u001b[35m   | | (_| | (_| | \\__ \\ | | | | |\u001b[0m\u001b[35m \u001b[0m\u001b[35m│\u001b[0m                                       \n",
       "                                      \u001b[35m│\u001b[0m\u001b[35m \u001b[0m\u001b[35m   |_|\\__,_|\\__,_|_|___/_| |_| |_|\u001b[0m\u001b[35m \u001b[0m\u001b[35m│\u001b[0m                                       \n",
       "                                      \u001b[35m│\u001b[0m\u001b[35m                                    \u001b[0m\u001b[35m│\u001b[0m                                       \n",
       "                                      \u001b[35m└────────────────────────────────────┘\u001b[0m                                       \n"
      ]
     },
     "metadata": {},
     "output_type": "display_data"
    },
    {
     "data": {
      "text/html": [
       "<pre style=\"white-space:pre;overflow-x:auto;line-height:normal;font-family:Menlo,'DejaVu Sans Mono',consolas,'Courier New',monospace\">\n",
       "                                                       <span style=\"font-weight: bold; text-decoration: underline\">Plan</span>                                                        \n",
       "</pre>\n"
      ],
      "text/plain": [
       "\n",
       "                                                       \u001b[1;4mPlan\u001b[0m                                                        \n"
      ]
     },
     "metadata": {},
     "output_type": "display_data"
    },
    {
     "data": {
      "text/html": [
       "<pre style=\"white-space:pre;overflow-x:auto;line-height:normal;font-family:Menlo,'DejaVu Sans Mono',consolas,'Courier New',monospace\">\n",
       "<span style=\"color: #808000; text-decoration-color: #808000; font-weight: bold\"> • </span>F2_charm at 2 pts                                                                                               \n",
       "</pre>\n"
      ],
      "text/plain": [
       "\n",
       "\u001b[1;33m • \u001b[0mF2_charm at 2 pts                                                                                               \n"
      ]
     },
     "metadata": {},
     "output_type": "display_data"
    },
    {
     "data": {
      "text/html": [
       "<pre style=\"white-space:pre;overflow-x:auto;line-height:normal;font-family:Menlo,'DejaVu Sans Mono',consolas,'Courier New',monospace\">\n",
       "                                                    <span style=\"font-weight: bold; text-decoration: underline\">Calculation</span>                                                    \n",
       "</pre>\n"
      ],
      "text/plain": [
       "\n",
       "                                                    \u001b[1;4mCalculation\u001b[0m                                                    \n"
      ]
     },
     "metadata": {},
     "output_type": "display_data"
    },
    {
     "data": {
      "text/html": [
       "<pre style=\"white-space:pre;overflow-x:auto;line-height:normal;font-family:Menlo,'DejaVu Sans Mono',consolas,'Courier New',monospace\">yadism took off! please stay tuned <span style=\"color: #808000; text-decoration-color: #808000\">...</span>\n",
       "</pre>\n"
      ],
      "text/plain": [
       "yadism took off! please stay tuned \u001b[33m...\u001b[0m\n"
      ]
     },
     "metadata": {},
     "output_type": "display_data"
    },
    {
     "data": {
      "text/html": [
       "<pre style=\"white-space:pre;overflow-x:auto;line-height:normal;font-family:Menlo,'DejaVu Sans Mono',consolas,'Courier New',monospace\"></pre>\n"
      ],
      "text/plain": [
       "\u001b[?25l"
      ]
     },
     "metadata": {},
     "output_type": "display_data"
    },
    {
     "data": {
      "application/vnd.jupyter.widget-view+json": {
       "model_id": "9b7ed34fde5440d8ac8615faee4ac13a",
       "version_major": 2,
       "version_minor": 0
      },
      "text/plain": [
       "Output()"
      ]
     },
     "metadata": {},
     "output_type": "display_data"
    },
    {
     "data": {
      "text/html": [
       "<pre style=\"white-space:pre;overflow-x:auto;line-height:normal;font-family:Menlo,'DejaVu Sans Mono',consolas,'Courier New',monospace\"><span style=\"color: #7fbfbf; text-decoration-color: #7fbfbf\">[15:32:16] </span><span style=\"color: #000080; text-decoration-color: #000080\">INFO    </span> computing P_qq_0 - took: <span style=\"color: #008080; text-decoration-color: #008080; font-weight: bold\">0.162901</span> s                                      <a href=\"file:///Volumes/Git_Workspace/physicstools/NN3PDF/yadism/src/yadism/esf/scale_variations.py\" target=\"_blank\"><span style=\"color: #7f7f7f; text-decoration-color: #7f7f7f\">scale_variations.py</span></a><span style=\"color: #7f7f7f; text-decoration-color: #7f7f7f\">:</span><a href=\"file:///Volumes/Git_Workspace/physicstools/NN3PDF/yadism/src/yadism/esf/scale_variations.py#85\" target=\"_blank\"><span style=\"color: #7f7f7f; text-decoration-color: #7f7f7f\">85</span></a>\n",
       "Starting... <span style=\"color: #3a3a3a; text-decoration-color: #3a3a3a\">━━━━━━━━━━━━━━━━━━━━━━━━━━━━━━━━━━━━━━━━</span> <span style=\"color: #800080; text-decoration-color: #800080\">  0%</span> <span style=\"color: #008080; text-decoration-color: #008080\">-:--:--</span></pre>\n"
      ],
      "text/plain": [
       "\r\u001b[2K\u001b[2;36m[15:32:16]\u001b[0m\u001b[2;36m \u001b[0m\u001b[34mINFO    \u001b[0m computing P_qq_0 - took: \u001b[1;36m0.162901\u001b[0m s                                      \u001b]8;id=183465;file:///Volumes/Git_Workspace/physicstools/NN3PDF/yadism/src/yadism/esf/scale_variations.py\u001b\\\u001b[2mscale_variations.py\u001b[0m\u001b]8;;\u001b\\\u001b[2m:\u001b[0m\u001b]8;id=829679;file:///Volumes/Git_Workspace/physicstools/NN3PDF/yadism/src/yadism/esf/scale_variations.py#85\u001b\\\u001b[2m85\u001b[0m\u001b]8;;\u001b\\\n",
       "Starting... \u001b[38;5;237m━━━━━━━━━━━━━━━━━━━━━━━━━━━━━━━━━━━━━━━━\u001b[0m \u001b[35m  0%\u001b[0m \u001b[36m-:--:--\u001b[0m"
      ]
     },
     "metadata": {},
     "output_type": "display_data"
    },
    {
     "data": {
      "text/html": [
       "<pre style=\"white-space:pre;overflow-x:auto;line-height:normal;font-family:Menlo,'DejaVu Sans Mono',consolas,'Courier New',monospace\"><span style=\"color: #7fbfbf; text-decoration-color: #7fbfbf\">           </span><span style=\"color: #000080; text-decoration-color: #000080\">INFO    </span> computing P_qg_0 - took: <span style=\"color: #008080; text-decoration-color: #008080; font-weight: bold\">0.135994</span> s                                      <a href=\"file:///Volumes/Git_Workspace/physicstools/NN3PDF/yadism/src/yadism/esf/scale_variations.py\" target=\"_blank\"><span style=\"color: #7f7f7f; text-decoration-color: #7f7f7f\">scale_variations.py</span></a><span style=\"color: #7f7f7f; text-decoration-color: #7f7f7f\">:</span><a href=\"file:///Volumes/Git_Workspace/physicstools/NN3PDF/yadism/src/yadism/esf/scale_variations.py#85\" target=\"_blank\"><span style=\"color: #7f7f7f; text-decoration-color: #7f7f7f\">85</span></a>\n",
       "Starting... <span style=\"color: #3a3a3a; text-decoration-color: #3a3a3a\">━━━━━━━━━━━━━━━━━━━━━━━━━━━━━━━━━━━━━━━━</span> <span style=\"color: #800080; text-decoration-color: #800080\">  0%</span> <span style=\"color: #008080; text-decoration-color: #008080\">-:--:--</span></pre>\n"
      ],
      "text/plain": [
       "\r\u001b[2K\u001b[2;36m          \u001b[0m\u001b[2;36m \u001b[0m\u001b[34mINFO    \u001b[0m computing P_qg_0 - took: \u001b[1;36m0.135994\u001b[0m s                                      \u001b]8;id=170545;file:///Volumes/Git_Workspace/physicstools/NN3PDF/yadism/src/yadism/esf/scale_variations.py\u001b\\\u001b[2mscale_variations.py\u001b[0m\u001b]8;;\u001b\\\u001b[2m:\u001b[0m\u001b]8;id=485481;file:///Volumes/Git_Workspace/physicstools/NN3PDF/yadism/src/yadism/esf/scale_variations.py#85\u001b\\\u001b[2m85\u001b[0m\u001b]8;;\u001b\\\n",
       "Starting... \u001b[38;5;237m━━━━━━━━━━━━━━━━━━━━━━━━━━━━━━━━━━━━━━━━\u001b[0m \u001b[35m  0%\u001b[0m \u001b[36m-:--:--\u001b[0m"
      ]
     },
     "metadata": {},
     "output_type": "display_data"
    },
    {
     "data": {
      "text/html": [
       "<pre style=\"white-space:pre;overflow-x:auto;line-height:normal;font-family:Menlo,'DejaVu Sans Mono',consolas,'Courier New',monospace\">\n",
       "</pre>\n"
      ],
      "text/plain": [
       "\n",
       "\u001b[?25h\r\u001b[1A\u001b[2K"
      ]
     },
     "metadata": {},
     "output_type": "display_data"
    },
    {
     "data": {
      "text/html": [
       "<pre style=\"white-space:pre;overflow-x:auto;line-height:normal;font-family:Menlo,'DejaVu Sans Mono',consolas,'Courier New',monospace\"><span style=\"color: #008080; text-decoration-color: #008080\">took </span><span style=\"color: #008080; text-decoration-color: #008080; font-weight: bold\">0.72</span><span style=\"color: #008080; text-decoration-color: #008080\"> s</span>\n",
       "</pre>\n"
      ],
      "text/plain": [
       "\u001b[36mtook \u001b[0m\u001b[1;36m0.72\u001b[0m\u001b[36m s\u001b[0m\n"
      ]
     },
     "metadata": {},
     "output_type": "display_data"
    },
    {
     "data": {
      "text/html": [
       "<pre style=\"white-space:pre;overflow-x:auto;line-height:normal;font-family:Menlo,'DejaVu Sans Mono',consolas,'Courier New',monospace\"><span style=\"color: #7fbfbf; text-decoration-color: #7fbfbf\">[15:32:17] </span><span style=\"color: #000080; text-decoration-color: #000080\">INFO    </span> Atlas <span style=\"font-weight: bold\">[</span><span style=\"color: #008080; text-decoration-color: #008080; font-weight: bold\">0.00e+00</span> - <span style=\"color: #008080; text-decoration-color: #008080; font-weight: bold\">2.28e+00</span> - <span style=\"color: #008080; text-decoration-color: #008080; font-weight: bold\">2.42e+01</span> - <span style=\"color: #008080; text-decoration-color: #008080; font-weight: bold\">2.98e+04</span> - inf<span style=\"font-weight: bold\">]</span>, <span style=\"color: #808000; text-decoration-color: #808000\">ref</span>=<span style=\"color: #008080; text-decoration-color: #008080; font-weight: bold\">8317.44</span> @ <span style=\"color: #008080; text-decoration-color: #008080; font-weight: bold\">5</span>        <a href=\"file:///Users/giacomomagni/.conda/envs/yad_dev/lib/python3.10/site-packages/eko/matchings.py\" target=\"_blank\"><span style=\"color: #7f7f7f; text-decoration-color: #7f7f7f\">matchings.py</span></a><span style=\"color: #7f7f7f; text-decoration-color: #7f7f7f\">:</span><a href=\"file:///Users/giacomomagni/.conda/envs/yad_dev/lib/python3.10/site-packages/eko/matchings.py#72\" target=\"_blank\"><span style=\"color: #7f7f7f; text-decoration-color: #7f7f7f\">72</span></a>\n",
       "</pre>\n"
      ],
      "text/plain": [
       "\u001b[2;36m[15:32:17]\u001b[0m\u001b[2;36m \u001b[0m\u001b[34mINFO    \u001b[0m Atlas \u001b[1m[\u001b[0m\u001b[1;36m0.00e+00\u001b[0m - \u001b[1;36m2.28e+00\u001b[0m - \u001b[1;36m2.42e+01\u001b[0m - \u001b[1;36m2.98e+04\u001b[0m - inf\u001b[1m]\u001b[0m, \u001b[33mref\u001b[0m=\u001b[1;36m8317\u001b[0m\u001b[1;36m.44\u001b[0m @ \u001b[1;36m5\u001b[0m        \u001b]8;id=968172;file:///Users/giacomomagni/.conda/envs/yad_dev/lib/python3.10/site-packages/eko/matchings.py\u001b\\\u001b[2mmatchings.py\u001b[0m\u001b]8;;\u001b\\\u001b[2m:\u001b[0m\u001b]8;id=794434;file:///Users/giacomomagni/.conda/envs/yad_dev/lib/python3.10/site-packages/eko/matchings.py#72\u001b\\\u001b[2m72\u001b[0m\u001b]8;;\u001b\\\n"
      ]
     },
     "metadata": {},
     "output_type": "display_data"
    },
    {
     "data": {
      "text/html": [
       "<pre style=\"white-space:pre;overflow-x:auto;line-height:normal;font-family:Menlo,'DejaVu Sans Mono',consolas,'Courier New',monospace\"><span style=\"color: #7fbfbf; text-decoration-color: #7fbfbf\">           </span><span style=\"color: #000080; text-decoration-color: #000080\">INFO    </span> Strong Coupling: <span style=\"color: #800080; text-decoration-color: #800080; font-weight: bold\">a_s</span><span style=\"font-weight: bold\">(</span>µ_R^<span style=\"color: #008080; text-decoration-color: #008080; font-weight: bold\">2</span>=<span style=\"color: #008080; text-decoration-color: #008080; font-weight: bold\">8317.440000</span><span style=\"font-weight: bold\">)</span>^<span style=\"font-weight: bold\">(</span><span style=\"color: #808000; text-decoration-color: #808000\">nf</span>=<span style=\"color: #008080; text-decoration-color: #008080; font-weight: bold\">5</span><span style=\"font-weight: bold\">)</span>=<span style=\"color: #008080; text-decoration-color: #008080; font-weight: bold\">0.009390</span>=<span style=\"color: #008080; text-decoration-color: #008080; font-weight: bold\">0.118000</span>/<span style=\"font-weight: bold\">(</span>4π<span style=\"font-weight: bold\">)</span>          <a href=\"file:///Users/giacomomagni/.conda/envs/yad_dev/lib/python3.10/site-packages/eko/couplings.py\" target=\"_blank\"><span style=\"color: #7f7f7f; text-decoration-color: #7f7f7f\">couplings.py</span></a><span style=\"color: #7f7f7f; text-decoration-color: #7f7f7f\">:</span><a href=\"file:///Users/giacomomagni/.conda/envs/yad_dev/lib/python3.10/site-packages/eko/couplings.py#464\" target=\"_blank\"><span style=\"color: #7f7f7f; text-decoration-color: #7f7f7f\">464</span></a>\n",
       "</pre>\n"
      ],
      "text/plain": [
       "\u001b[2;36m          \u001b[0m\u001b[2;36m \u001b[0m\u001b[34mINFO    \u001b[0m Strong Coupling: \u001b[1;35ma_s\u001b[0m\u001b[1m(\u001b[0mµ_R^\u001b[1;36m2\u001b[0m=\u001b[1;36m8317\u001b[0m\u001b[1;36m.440000\u001b[0m\u001b[1m)\u001b[0m^\u001b[1m(\u001b[0m\u001b[33mnf\u001b[0m=\u001b[1;36m5\u001b[0m\u001b[1m)\u001b[0m=\u001b[1;36m0.\u001b[0m\u001b[1;36m009390\u001b[0m=\u001b[1;36m0\u001b[0m\u001b[1;36m.118000\u001b[0m/\u001b[1m(\u001b[0m4π\u001b[1m)\u001b[0m          \u001b]8;id=652128;file:///Users/giacomomagni/.conda/envs/yad_dev/lib/python3.10/site-packages/eko/couplings.py\u001b\\\u001b[2mcouplings.py\u001b[0m\u001b]8;;\u001b\\\u001b[2m:\u001b[0m\u001b]8;id=465284;file:///Users/giacomomagni/.conda/envs/yad_dev/lib/python3.10/site-packages/eko/couplings.py#464\u001b\\\u001b[2m464\u001b[0m\u001b]8;;\u001b\\\n"
      ]
     },
     "metadata": {},
     "output_type": "display_data"
    },
    {
     "data": {
      "text/html": [
       "<pre style=\"white-space:pre;overflow-x:auto;line-height:normal;font-family:Menlo,'DejaVu Sans Mono',consolas,'Courier New',monospace\"><span style=\"color: #7fbfbf; text-decoration-color: #7fbfbf\">           </span><span style=\"color: #000080; text-decoration-color: #000080\">INFO    </span> Atlas <span style=\"font-weight: bold\">[</span><span style=\"color: #008080; text-decoration-color: #008080; font-weight: bold\">0.00e+00</span> - <span style=\"color: #008080; text-decoration-color: #008080; font-weight: bold\">2.28e+00</span> - <span style=\"color: #008080; text-decoration-color: #008080; font-weight: bold\">2.42e+01</span> - <span style=\"color: #008080; text-decoration-color: #008080; font-weight: bold\">2.98e+04</span> - inf<span style=\"font-weight: bold\">]</span>, <span style=\"color: #808000; text-decoration-color: #808000\">ref</span>=<span style=\"color: #008080; text-decoration-color: #008080; font-weight: bold\">8317.44</span> @ <span style=\"color: #008080; text-decoration-color: #008080; font-weight: bold\">5</span>        <a href=\"file:///Users/giacomomagni/.conda/envs/yad_dev/lib/python3.10/site-packages/eko/matchings.py\" target=\"_blank\"><span style=\"color: #7f7f7f; text-decoration-color: #7f7f7f\">matchings.py</span></a><span style=\"color: #7f7f7f; text-decoration-color: #7f7f7f\">:</span><a href=\"file:///Users/giacomomagni/.conda/envs/yad_dev/lib/python3.10/site-packages/eko/matchings.py#72\" target=\"_blank\"><span style=\"color: #7f7f7f; text-decoration-color: #7f7f7f\">72</span></a>\n",
       "</pre>\n"
      ],
      "text/plain": [
       "\u001b[2;36m          \u001b[0m\u001b[2;36m \u001b[0m\u001b[34mINFO    \u001b[0m Atlas \u001b[1m[\u001b[0m\u001b[1;36m0.00e+00\u001b[0m - \u001b[1;36m2.28e+00\u001b[0m - \u001b[1;36m2.42e+01\u001b[0m - \u001b[1;36m2.98e+04\u001b[0m - inf\u001b[1m]\u001b[0m, \u001b[33mref\u001b[0m=\u001b[1;36m8317\u001b[0m\u001b[1;36m.44\u001b[0m @ \u001b[1;36m5\u001b[0m        \u001b]8;id=637875;file:///Users/giacomomagni/.conda/envs/yad_dev/lib/python3.10/site-packages/eko/matchings.py\u001b\\\u001b[2mmatchings.py\u001b[0m\u001b]8;;\u001b\\\u001b[2m:\u001b[0m\u001b]8;id=163822;file:///Users/giacomomagni/.conda/envs/yad_dev/lib/python3.10/site-packages/eko/matchings.py#72\u001b\\\u001b[2m72\u001b[0m\u001b]8;;\u001b\\\n"
      ]
     },
     "metadata": {},
     "output_type": "display_data"
    }
   ],
   "source": [
    "import yadism\n",
    "\n",
    "# Define the settings for the different contributions to the FONLL observable\n",
    "settings_list = [\n",
    "    [\"FONLL-FFNS\", 3, \"full\", \"NNPDF40_evolved_nf3\"],\n",
    "    [\"FONLL-FFN0\", 3, \"full\", \"NNPDF40_evolved_nf3\"],\n",
    "    [\"FONLL-FFNS\", 4, \"massless\", \"NNPDF40_evolved_nf4\"],\n",
    "    [\"FONLL-FFN0\", 4, \"full\", \"NNPDF40_evolved_nf4\"],\n",
    "    [\"FONLL-FFNS\", 5, \"full\", \"NNPDF40_evolved_nf5\"],\n",
    "]\n",
    "\n",
    "single_scheme_result = []\n",
    "# Iterate parts\n",
    "for fns, nf, fonllparts, pdfname in settings_list:\n",
    "    # Replace the relevant settings in the theory card\n",
    "    theorycard[\"FNS\"] = fns\n",
    "    theorycard[\"NfFF\"] = nf\n",
    "    theorycard[\"FONLLParts\"] = fonllparts\n",
    "    pdf = lhapdf.mkPDF(pdfname)\n",
    "\n",
    "    # Compute the observable in each of the schemes defined in settings_list\n",
    "    out = yadism.run_yadism(theorycard, observablecard)\n",
    "\n",
    "    # Store the results in single_scheme_result\n",
    "    single_scheme_result.append(out.apply_pdf(pdf))\n",
    "\n",
    "# Extract the different terms form single_scheme_result and combine them to\n",
    "# obtain the coexisting flavor number scheme FONLL result\n",
    "result = {}\n",
    "for observable_name, kinematic_points in single_scheme_result[0].items():\n",
    "    result[observable_name] = []\n",
    "    for i in range(len(kinematic_points)):\n",
    "        result[observable_name].append(\n",
    "            single_scheme_result[0][observable_name][i][\"result\"]  # FONLL-FFNS3\n",
    "            - single_scheme_result[1][observable_name][i][\"result\"]  # FONLL-FFN03\n",
    "            + single_scheme_result[2][observable_name][i][\"result\"]  # FONLL-FFNS4\n",
    "            - single_scheme_result[3][observable_name][i][\"result\"]  # FONLL-FFN04\n",
    "            + single_scheme_result[4][observable_name][i][\"result\"]  # FONLL-FFNS5\n",
    "        )"
   ]
  },
  {
   "cell_type": "code",
   "execution_count": 85,
   "id": "af97aab2",
   "metadata": {},
   "outputs": [
    {
     "data": {
      "text/plain": [
       "{'F2_charm': [1.1565796072413521, 0.5407855765436533]}"
      ]
     },
     "execution_count": 85,
     "metadata": {},
     "output_type": "execute_result"
    }
   ],
   "source": [
    "result"
   ]
  }
 ],
 "metadata": {
  "kernelspec": {
   "display_name": "yadism-QljnF84o-py3.12",
   "language": "python",
   "name": "yadism-qljnf84o-py3.12"
  },
  "language_info": {
   "codemirror_mode": {
    "name": "ipython",
    "version": 3
   },
   "file_extension": ".py",
   "mimetype": "text/x-python",
   "name": "python",
   "nbconvert_exporter": "python",
   "pygments_lexer": "ipython3",
   "version": "3.12.4"
  }
 },
 "nbformat": 4,
 "nbformat_minor": 5
}
