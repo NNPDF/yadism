{
 "cells": [
  {
   "cell_type": "markdown",
   "id": "russian-guidance",
   "metadata": {},
   "source": [
    "# Running Benchmarks\n",
    "A good way of learning something about `yadism` it's running the benchmarks suite provided, and check the output through its `navigator`"
   ]
  },
  {
   "cell_type": "code",
   "execution_count": null,
   "id": "perceived-aspect",
   "metadata": {},
   "outputs": [],
   "source": []
  },
  {
   "cell_type": "markdown",
   "id": "solid-paraguay",
   "metadata": {},
   "source": [
    "## Unit tests\n",
    "For more specific information about single functions and usage another good idea it's to have a look to how they are used in unit-tests.\n",
    "\n",
    "But the main option will always be the trivial one: **read the docs**."
   ]
  }
 ],
 "metadata": {
  "kernelspec": {
   "display_name": "Python 3",
   "language": "python",
   "name": "python3"
  },
  "language_info": {
   "codemirror_mode": {
    "name": "ipython",
    "version": 3
   },
   "file_extension": ".py",
   "mimetype": "text/x-python",
   "name": "python",
   "nbconvert_exporter": "python",
   "pygments_lexer": "ipython3",
   "version": "3.8.6"
  }
 },
 "nbformat": 4,
 "nbformat_minor": 5
}
