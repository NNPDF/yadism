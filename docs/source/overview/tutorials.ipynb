{
 "cells": [
  {
   "cell_type": "markdown",
   "id": "nominated-inspection",
   "metadata": {},
   "source": [
    "# Tutorials\n",
    "\n",
    "The following provides a short tutorial on how to use some of the main features of Yadism. After this tutorial, the user will know how to:\n",
    "- prepare the observable and theory cards required for any `yadism` computation\n",
    "- compute an observable by convoluting `yadism` prediction to a given PDF set\n",
    "- tabulate the `yadism` predictions into an interpolation table for a later use"
   ]
  },
  {
   "cell_type": "markdown",
   "id": "bfff8f0c-740e-4177-a642-13e9d0a0cc63",
   "metadata": {},
   "source": [
    "## Installation \n",
    "\n",
    "In order to start using Yadism, one first needs to install it. The easiest way to install the latest stable version is via `pip` using the following command\n",
    "\n",
    "```sh\n",
    "pip install yadism\n",
    "```\n",
    "\n",
    "If one wishes in addition to also install the Yadism benchmark pacakge (see yadmark), one can instead run the following command:\n",
    "\n",
    "```sh\n",
    "pip install 'yadism[mark]'\n",
    "```\n",
    "\n",
    "We can check that Yadism was properly installed by checking the version:"
   ]
  },
  {
   "cell_type": "code",
   "execution_count": 1,
   "id": "ded2fb96-9fe9-4503-8418-bfcfb6d53998",
   "metadata": {},
   "outputs": [
    {
     "data": {
      "text/plain": [
       "'0.0.0'"
      ]
     },
     "execution_count": 1,
     "metadata": {},
     "output_type": "execute_result"
    }
   ],
   "source": [
    "import yadism\n",
    "yadism.__version__"
   ]
  },
  {
   "cell_type": "markdown",
   "id": "valuable-theater",
   "metadata": {},
   "source": [
    "## Preparing the run cards\n",
    "\n",
    "Yadism takes as inputs two runcards (represented as dictionaries):\n",
    "- an observable card which contains the details on the observable to be computed\n",
    "- a theory card which contains the various theory settings\n",
    "\n",
    "Below is an example of an observable card in which the meaning of each key is also specified:"
   ]
  },
  {
   "cell_type": "code",
   "execution_count": 2,
   "id": "announced-petite",
   "metadata": {},
   "outputs": [],
   "source": [
    "observable_card = {\n",
    "    # Process type: \"EM\", \"NC\", \"CC\"\n",
    "    \"prDIS\": \"NC\",\n",
    "    # Projectile: \"electron\", \"positron\", \"neutrino\", \"antineutrino\"\n",
    "    \"ProjectileDIS\": \"electron\",\n",
    "    # Scattering target: \"proton\", \"neutron\", \"isoscalar\", \"lead\", \"iron\", \"neon\" or \"marble\"\n",
    "    \"TargetDIS\": \"proton\",\n",
    "    # Interpolation: if True use log interpolation\n",
    "    \"interpolation_is_log\": True,\n",
    "    # Interpolation: polynomial degree, 1 = linear, ...\n",
    "    \"interpolation_polynomial_degree\": 4,\n",
    "    # Interpolation: xgrid values\n",
    "    # Note: for illustrative purposes the grid is chosen very small here\n",
    "    \"interpolation_xgrid\": [1e-7, 1e-6, 1e-5, 1e-4, 1e-3, 1e-2, 1e-1, 1.0],\n",
    "    # Observables configurations\n",
    "    \"observables\": {\n",
    "        \"XSHERANCAVG_charm\": [\n",
    "            {\n",
    "                \"y\": 0.8240707777909629,\n",
    "                \"x\": 3e-05,\n",
    "                \"Q2\": 2.5,\n",
    "            },\n",
    "            {\n",
    "                \"y\": 0.3531731904818413,\n",
    "                \"x\": 7e-05,\n",
    "                \"Q2\": 2.5,\n",
    "            },\n",
    "            # Add here the kinematics of other datapoints\n",
    "        ],\n",
    "        # Potentially include observables other than XSHERANCAVG_charm,\n",
    "        # each of them has to be: TYPE_heaviness, where heaviness can take:\n",
    "        # \"charm\", \"bottom\", \"top\", \"total\" or \"light\".\n",
    "    },\n",
    "    # Projectile polarization faction, float from 0 to 1.\n",
    "    \"PolarizationDIS\": 0.0,\n",
    "    # Exchanged boson propagator correction\n",
    "    \"PropagatorCorrection\": 0.0,\n",
    "    # Restrict boson coupling to a single parton ? Monte Carlo PID or None for all partons\n",
    "    \"NCPositivityCharge\": None,\n",
    "}"
   ]
  },
  {
   "cell_type": "markdown",
   "id": "dc1b79fa-7d14-4ed6-a8ae-0a588ebe5582",
   "metadata": {},
   "source": [
    "Similarly, below is an example of a theory card:"
   ]
  },
  {
   "cell_type": "code",
   "execution_count": 3,
   "id": "90df79a9-31cb-40db-ac95-0b88469c1723",
   "metadata": {},
   "outputs": [],
   "source": [
    "theory_card = {\n",
    "    \"CKM\": \"0.97428 0.22530 0.003470 0.22520 0.97345 0.041000 0.00862 0.04030 0.999152\",  # CKM matrix elements\n",
    "    \"FNS\": \"FFNS\",  # Flavour Number Scheme, options: \"FFNS\", \"FFN0\", \"ZM-VFNS\"\n",
    "    \"GF\": 1.1663787e-05,  # [GeV^-2] Fermi coupling constant\n",
    "    \"IC\": 1,  # 0 = perturbative charm only, 1 = intrinsic charm allowed\n",
    "    \"MP\": 0.938,  # [GeV] proton mass\n",
    "    \"MW\": 80.398,  # [GeV] W boson mass\n",
    "    \"MZ\": 91.1876,  # [GeV] Z boson mass\n",
    "    \"NfFF\": 4,  # (fixed) number of running flavors, only for FFNS or FFN0 schemes\n",
    "    \"PTO\": 2,  # perturbative order in alpha_s: 0 = LO (alpha_s^0), 1 = NLO (alpha_s^1) ...\n",
    "    \"Q0\": 1.65,  # [GeV] reference scale for the flavor patch determination\n",
    "    \"nf0\": 4,  # number of active flavors at the Q0 reference scale\n",
    "    \"Qref\": 91.2,  # [GeV] reference scale for the alphas value\n",
    "    \"nfref\": 5,  # number of active flavors at the reference scale Qref\n",
    "    \"alphas\": 0.118,  # alphas value at the reference scale\n",
    "    \"TMC\": 1,  # include target mass corrections: 0 = disabled, 1 = leading twist, 2 = higher twist approximated, 3 = higher twist exact\n",
    "    \"XIF\": 1.0,  # ratio of factorization scale over the hard scattering scale\n",
    "    \"XIR\": 1.0,  # ratio of renormalization scale over the hard scattering scale\n",
    "    \"alphaqed\": 0.007496252,  # alpha_em value\n",
    "    \"kcThr\": 1.0,  # ratio of the charm matching scale over the charm mass\n",
    "    \"kbThr\": 1.0,  # ratio of the bottom matching scale over the bottom mass\n",
    "    \"ktThr\": 1.0,  # ratio of the top matching scale over the top mass\n",
    "    \"mc\": 1.51,  # [GeV] charm mass\n",
    "    \"mb\": 4.92,  # [GeV] bottom mass\n",
    "    \"mt\": 172.5,  # [GeV] top mass\n",
    "    \"n3lo_cf_variation\": 0,  # N3LO coefficient functions variation: -1 = lower bound, 0 = central , 1 = upper bound\n",
    "    \"QED\": 0,  # QED correction to running of strong coupling: 0 = disabled, 1 = allowed\n",
    "    \"MaxNfAs\": 5,  # maximum number of flavors in running of strong coupling\n",
    "    \"HQ\": \"POLE\",  # heavy quark mass scheme (not yet implemented in yadism)\n",
    "    \"MaxNfPdf\": 5,  # maximum number of flavors in running of PDFs (ignored by yadism)\n",
    "    \"ModEv\": \"EXA\",  # evolution solver for PDFs (ignored by yadism)\n",
    "}"
   ]
  },
  {
   "cell_type": "markdown",
   "id": "169b82a0-abdd-4687-9ffe-9df38446a550",
   "metadata": {},
   "source": [
    "Note that a template observable is provided by `yadmark` (assuming it was installed). One can thus just start from the default card and overwrite the values."
   ]
  },
  {
   "cell_type": "code",
   "execution_count": 4,
   "id": "246f1d7a-e7e3-48ab-9bf2-44c8352adc39",
   "metadata": {},
   "outputs": [
    {
     "data": {
      "text/html": [
       "<pre style=\"white-space:pre;overflow-x:auto;line-height:normal;font-family:Menlo,'DejaVu Sans Mono',consolas,'Courier New',monospace\"><span style=\"font-weight: bold\">{</span>\n",
       "<span style=\"color: #7fbf7f; text-decoration-color: #7fbf7f\">│   </span><span style=\"color: #008000; text-decoration-color: #008000\">'NCPositivityCharge'</span>: <span style=\"color: #800080; text-decoration-color: #800080; font-style: italic\">None</span>,\n",
       "<span style=\"color: #7fbf7f; text-decoration-color: #7fbf7f\">│   </span><span style=\"color: #008000; text-decoration-color: #008000\">'PolarizationDIS'</span>: <span style=\"color: #008080; text-decoration-color: #008080; font-weight: bold\">0</span>,\n",
       "<span style=\"color: #7fbf7f; text-decoration-color: #7fbf7f\">│   </span><span style=\"color: #008000; text-decoration-color: #008000\">'ProjectileDIS'</span>: <span style=\"color: #008000; text-decoration-color: #008000\">'electron'</span>,\n",
       "<span style=\"color: #7fbf7f; text-decoration-color: #7fbf7f\">│   </span><span style=\"color: #008000; text-decoration-color: #008000\">'PropagatorCorrection'</span>: <span style=\"color: #008080; text-decoration-color: #008080; font-weight: bold\">0</span>,\n",
       "<span style=\"color: #7fbf7f; text-decoration-color: #7fbf7f\">│   </span><span style=\"color: #008000; text-decoration-color: #008000\">'TargetDIS'</span>: <span style=\"color: #008000; text-decoration-color: #008000\">'proton'</span>,\n",
       "<span style=\"color: #7fbf7f; text-decoration-color: #7fbf7f\">│   </span><span style=\"color: #008000; text-decoration-color: #008000\">'interpolation_is_log'</span>: <span style=\"color: #00ff00; text-decoration-color: #00ff00; font-style: italic\">True</span>,\n",
       "<span style=\"color: #7fbf7f; text-decoration-color: #7fbf7f\">│   </span><span style=\"color: #008000; text-decoration-color: #008000\">'interpolation_polynomial_degree'</span>: <span style=\"color: #008080; text-decoration-color: #008080; font-weight: bold\">4</span>,\n",
       "<span style=\"color: #7fbf7f; text-decoration-color: #7fbf7f\">│   </span><span style=\"color: #008000; text-decoration-color: #008000\">'interpolation_xgrid'</span>: <span style=\"font-weight: bold\">[</span>\n",
       "<span style=\"color: #7fbf7f; text-decoration-color: #7fbf7f\">│   │   </span><span style=\"color: #008080; text-decoration-color: #008080; font-weight: bold\">1e-07</span>,\n",
       "<span style=\"color: #7fbf7f; text-decoration-color: #7fbf7f\">│   │   </span><span style=\"color: #008080; text-decoration-color: #008080; font-weight: bold\">1.6102620275609392e-07</span>,\n",
       "<span style=\"color: #7fbf7f; text-decoration-color: #7fbf7f\">│   │   </span><span style=\"color: #008080; text-decoration-color: #008080; font-weight: bold\">2.592943797404667e-07</span>,\n",
       "<span style=\"color: #7fbf7f; text-decoration-color: #7fbf7f\">│   │   </span><span style=\"color: #008080; text-decoration-color: #008080; font-weight: bold\">4.1753189365604003e-07</span>,\n",
       "<span style=\"color: #7fbf7f; text-decoration-color: #7fbf7f\">│   │   </span><span style=\"color: #008080; text-decoration-color: #008080; font-weight: bold\">6.723357536499335e-07</span>,\n",
       "<span style=\"color: #7fbf7f; text-decoration-color: #7fbf7f\">│   │   </span><span style=\"color: #008080; text-decoration-color: #008080; font-weight: bold\">1.0826367338740541e-06</span>,\n",
       "<span style=\"color: #7fbf7f; text-decoration-color: #7fbf7f\">│   │   </span><span style=\"color: #008080; text-decoration-color: #008080; font-weight: bold\">1.7433288221999873e-06</span>,\n",
       "<span style=\"color: #7fbf7f; text-decoration-color: #7fbf7f\">│   │   </span><span style=\"color: #008080; text-decoration-color: #008080; font-weight: bold\">2.8072162039411756e-06</span>,\n",
       "<span style=\"color: #7fbf7f; text-decoration-color: #7fbf7f\">│   │   </span><span style=\"color: #008080; text-decoration-color: #008080; font-weight: bold\">4.520353656360241e-06</span>,\n",
       "<span style=\"color: #7fbf7f; text-decoration-color: #7fbf7f\">│   │   </span><span style=\"color: #008080; text-decoration-color: #008080; font-weight: bold\">7.2789538439831465e-06</span>,\n",
       "<span style=\"color: #7fbf7f; text-decoration-color: #7fbf7f\">│   │   </span><span style=\"color: #008080; text-decoration-color: #008080; font-weight: bold\">1.1721022975334793e-05</span>,\n",
       "<span style=\"color: #7fbf7f; text-decoration-color: #7fbf7f\">│   │   </span><span style=\"color: #008080; text-decoration-color: #008080; font-weight: bold\">1.8873918221350995e-05</span>,\n",
       "<span style=\"color: #7fbf7f; text-decoration-color: #7fbf7f\">│   │   </span><span style=\"color: #008080; text-decoration-color: #008080; font-weight: bold\">3.039195382313195e-05</span>,\n",
       "<span style=\"color: #7fbf7f; text-decoration-color: #7fbf7f\">│   │   </span><span style=\"color: #008080; text-decoration-color: #008080; font-weight: bold\">4.893900918477499e-05</span>,\n",
       "<span style=\"color: #7fbf7f; text-decoration-color: #7fbf7f\">│   │   </span><span style=\"color: #008080; text-decoration-color: #008080; font-weight: bold\">7.880462815669905e-05</span>,\n",
       "<span style=\"color: #7fbf7f; text-decoration-color: #7fbf7f\">│   │   </span><span style=\"color: #008080; text-decoration-color: #008080; font-weight: bold\">0.0001268961003167922</span>,\n",
       "<span style=\"color: #7fbf7f; text-decoration-color: #7fbf7f\">│   │   </span><span style=\"color: #008080; text-decoration-color: #008080; font-weight: bold\">0.00020433597178569417</span>,\n",
       "<span style=\"color: #7fbf7f; text-decoration-color: #7fbf7f\">│   │   </span><span style=\"color: #008080; text-decoration-color: #008080; font-weight: bold\">0.00032903445623126676</span>,\n",
       "<span style=\"color: #7fbf7f; text-decoration-color: #7fbf7f\">│   │   </span><span style=\"color: #008080; text-decoration-color: #008080; font-weight: bold\">0.0005298316906283707</span>,\n",
       "<span style=\"color: #7fbf7f; text-decoration-color: #7fbf7f\">│   │   </span><span style=\"color: #008080; text-decoration-color: #008080; font-weight: bold\">0.0008531678524172806</span>,\n",
       "<span style=\"color: #7fbf7f; text-decoration-color: #7fbf7f\">│   │   </span><span style=\"color: #008080; text-decoration-color: #008080; font-weight: bold\">0.0013738237958832637</span>,\n",
       "<span style=\"color: #7fbf7f; text-decoration-color: #7fbf7f\">│   │   </span><span style=\"color: #008080; text-decoration-color: #008080; font-weight: bold\">0.00221221629107045</span>,\n",
       "<span style=\"color: #7fbf7f; text-decoration-color: #7fbf7f\">│   │   </span><span style=\"color: #008080; text-decoration-color: #008080; font-weight: bold\">0.003562247890262444</span>,\n",
       "<span style=\"color: #7fbf7f; text-decoration-color: #7fbf7f\">│   │   </span><span style=\"color: #008080; text-decoration-color: #008080; font-weight: bold\">0.005736152510448681</span>,\n",
       "<span style=\"color: #7fbf7f; text-decoration-color: #7fbf7f\">│   │   </span><span style=\"color: #008080; text-decoration-color: #008080; font-weight: bold\">0.009236708571873866</span>,\n",
       "<span style=\"color: #7fbf7f; text-decoration-color: #7fbf7f\">│   │   </span><span style=\"color: #008080; text-decoration-color: #008080; font-weight: bold\">0.014873521072935119</span>,\n",
       "<span style=\"color: #7fbf7f; text-decoration-color: #7fbf7f\">│   │   </span><span style=\"color: #008080; text-decoration-color: #008080; font-weight: bold\">0.02395026619987486</span>,\n",
       "<span style=\"color: #7fbf7f; text-decoration-color: #7fbf7f\">│   │   </span><span style=\"color: #008080; text-decoration-color: #008080; font-weight: bold\">0.03856620421163472</span>,\n",
       "<span style=\"color: #7fbf7f; text-decoration-color: #7fbf7f\">│   │   </span><span style=\"color: #008080; text-decoration-color: #008080; font-weight: bold\">0.06210169418915616</span>,\n",
       "<span style=\"color: #7fbf7f; text-decoration-color: #7fbf7f\">│   │   </span><span style=\"color: #008080; text-decoration-color: #008080; font-weight: bold\">0.1</span>,\n",
       "<span style=\"color: #7fbf7f; text-decoration-color: #7fbf7f\">│   │   </span><span style=\"color: #008080; text-decoration-color: #008080; font-weight: bold\">0.1473684210526316</span>,\n",
       "<span style=\"color: #7fbf7f; text-decoration-color: #7fbf7f\">│   │   </span><span style=\"color: #008080; text-decoration-color: #008080; font-weight: bold\">0.19473684210526315</span>,\n",
       "<span style=\"color: #7fbf7f; text-decoration-color: #7fbf7f\">│   │   </span><span style=\"color: #008080; text-decoration-color: #008080; font-weight: bold\">0.24210526315789474</span>,\n",
       "<span style=\"color: #7fbf7f; text-decoration-color: #7fbf7f\">│   │   </span><span style=\"color: #008080; text-decoration-color: #008080; font-weight: bold\">0.2894736842105263</span>,\n",
       "<span style=\"color: #7fbf7f; text-decoration-color: #7fbf7f\">│   │   </span><span style=\"color: #008080; text-decoration-color: #008080; font-weight: bold\">0.33684210526315794</span>,\n",
       "<span style=\"color: #7fbf7f; text-decoration-color: #7fbf7f\">│   │   </span><span style=\"color: #008080; text-decoration-color: #008080; font-weight: bold\">0.38421052631578945</span>,\n",
       "<span style=\"color: #7fbf7f; text-decoration-color: #7fbf7f\">│   │   </span><span style=\"color: #008080; text-decoration-color: #008080; font-weight: bold\">0.43157894736842106</span>,\n",
       "<span style=\"color: #7fbf7f; text-decoration-color: #7fbf7f\">│   │   </span><span style=\"color: #008080; text-decoration-color: #008080; font-weight: bold\">0.4789473684210527</span>,\n",
       "<span style=\"color: #7fbf7f; text-decoration-color: #7fbf7f\">│   │   </span><span style=\"color: #008080; text-decoration-color: #008080; font-weight: bold\">0.5263157894736842</span>,\n",
       "<span style=\"color: #7fbf7f; text-decoration-color: #7fbf7f\">│   │   </span><span style=\"color: #008080; text-decoration-color: #008080; font-weight: bold\">0.5736842105263158</span>,\n",
       "<span style=\"color: #7fbf7f; text-decoration-color: #7fbf7f\">│   │   </span><span style=\"color: #008080; text-decoration-color: #008080; font-weight: bold\">0.6210526315789474</span>,\n",
       "<span style=\"color: #7fbf7f; text-decoration-color: #7fbf7f\">│   │   </span><span style=\"color: #008080; text-decoration-color: #008080; font-weight: bold\">0.6684210526315789</span>,\n",
       "<span style=\"color: #7fbf7f; text-decoration-color: #7fbf7f\">│   │   </span><span style=\"color: #008080; text-decoration-color: #008080; font-weight: bold\">0.7157894736842105</span>,\n",
       "<span style=\"color: #7fbf7f; text-decoration-color: #7fbf7f\">│   │   </span><span style=\"color: #008080; text-decoration-color: #008080; font-weight: bold\">0.7631578947368421</span>,\n",
       "<span style=\"color: #7fbf7f; text-decoration-color: #7fbf7f\">│   │   </span><span style=\"color: #008080; text-decoration-color: #008080; font-weight: bold\">0.8105263157894737</span>,\n",
       "<span style=\"color: #7fbf7f; text-decoration-color: #7fbf7f\">│   │   </span><span style=\"color: #008080; text-decoration-color: #008080; font-weight: bold\">0.8578947368421053</span>,\n",
       "<span style=\"color: #7fbf7f; text-decoration-color: #7fbf7f\">│   │   </span><span style=\"color: #008080; text-decoration-color: #008080; font-weight: bold\">0.9052631578947369</span>,\n",
       "<span style=\"color: #7fbf7f; text-decoration-color: #7fbf7f\">│   │   </span><span style=\"color: #008080; text-decoration-color: #008080; font-weight: bold\">0.9526315789473684</span>,\n",
       "<span style=\"color: #7fbf7f; text-decoration-color: #7fbf7f\">│   │   </span><span style=\"color: #008080; text-decoration-color: #008080; font-weight: bold\">1.0</span>\n",
       "<span style=\"color: #7fbf7f; text-decoration-color: #7fbf7f\">│   </span><span style=\"font-weight: bold\">]</span>,\n",
       "<span style=\"color: #7fbf7f; text-decoration-color: #7fbf7f\">│   </span><span style=\"color: #008000; text-decoration-color: #008000\">'observables'</span>: <span style=\"font-weight: bold\">{}</span>,\n",
       "<span style=\"color: #7fbf7f; text-decoration-color: #7fbf7f\">│   </span><span style=\"color: #008000; text-decoration-color: #008000\">'prDIS'</span>: <span style=\"color: #008000; text-decoration-color: #008000\">'EM'</span>\n",
       "<span style=\"font-weight: bold\">}</span>\n",
       "</pre>\n"
      ],
      "text/plain": [
       "\u001b[1m{\u001b[0m\n",
       "\u001b[2;32m│   \u001b[0m\u001b[32m'NCPositivityCharge'\u001b[0m: \u001b[3;35mNone\u001b[0m,\n",
       "\u001b[2;32m│   \u001b[0m\u001b[32m'PolarizationDIS'\u001b[0m: \u001b[1;36m0\u001b[0m,\n",
       "\u001b[2;32m│   \u001b[0m\u001b[32m'ProjectileDIS'\u001b[0m: \u001b[32m'electron'\u001b[0m,\n",
       "\u001b[2;32m│   \u001b[0m\u001b[32m'PropagatorCorrection'\u001b[0m: \u001b[1;36m0\u001b[0m,\n",
       "\u001b[2;32m│   \u001b[0m\u001b[32m'TargetDIS'\u001b[0m: \u001b[32m'proton'\u001b[0m,\n",
       "\u001b[2;32m│   \u001b[0m\u001b[32m'interpolation_is_log'\u001b[0m: \u001b[3;92mTrue\u001b[0m,\n",
       "\u001b[2;32m│   \u001b[0m\u001b[32m'interpolation_polynomial_degree'\u001b[0m: \u001b[1;36m4\u001b[0m,\n",
       "\u001b[2;32m│   \u001b[0m\u001b[32m'interpolation_xgrid'\u001b[0m: \u001b[1m[\u001b[0m\n",
       "\u001b[2;32m│   │   \u001b[0m\u001b[1;36m1e-07\u001b[0m,\n",
       "\u001b[2;32m│   │   \u001b[0m\u001b[1;36m1.6102620275609392e-07\u001b[0m,\n",
       "\u001b[2;32m│   │   \u001b[0m\u001b[1;36m2.592943797404667e-07\u001b[0m,\n",
       "\u001b[2;32m│   │   \u001b[0m\u001b[1;36m4.1753189365604003e-07\u001b[0m,\n",
       "\u001b[2;32m│   │   \u001b[0m\u001b[1;36m6.723357536499335e-07\u001b[0m,\n",
       "\u001b[2;32m│   │   \u001b[0m\u001b[1;36m1.0826367338740541e-06\u001b[0m,\n",
       "\u001b[2;32m│   │   \u001b[0m\u001b[1;36m1.7433288221999873e-06\u001b[0m,\n",
       "\u001b[2;32m│   │   \u001b[0m\u001b[1;36m2.8072162039411756e-06\u001b[0m,\n",
       "\u001b[2;32m│   │   \u001b[0m\u001b[1;36m4.520353656360241e-06\u001b[0m,\n",
       "\u001b[2;32m│   │   \u001b[0m\u001b[1;36m7.2789538439831465e-06\u001b[0m,\n",
       "\u001b[2;32m│   │   \u001b[0m\u001b[1;36m1.1721022975334793e-05\u001b[0m,\n",
       "\u001b[2;32m│   │   \u001b[0m\u001b[1;36m1.8873918221350995e-05\u001b[0m,\n",
       "\u001b[2;32m│   │   \u001b[0m\u001b[1;36m3.039195382313195e-05\u001b[0m,\n",
       "\u001b[2;32m│   │   \u001b[0m\u001b[1;36m4.893900918477499e-05\u001b[0m,\n",
       "\u001b[2;32m│   │   \u001b[0m\u001b[1;36m7.880462815669905e-05\u001b[0m,\n",
       "\u001b[2;32m│   │   \u001b[0m\u001b[1;36m0.0001268961003167922\u001b[0m,\n",
       "\u001b[2;32m│   │   \u001b[0m\u001b[1;36m0.00020433597178569417\u001b[0m,\n",
       "\u001b[2;32m│   │   \u001b[0m\u001b[1;36m0.00032903445623126676\u001b[0m,\n",
       "\u001b[2;32m│   │   \u001b[0m\u001b[1;36m0.0005298316906283707\u001b[0m,\n",
       "\u001b[2;32m│   │   \u001b[0m\u001b[1;36m0.0008531678524172806\u001b[0m,\n",
       "\u001b[2;32m│   │   \u001b[0m\u001b[1;36m0.0013738237958832637\u001b[0m,\n",
       "\u001b[2;32m│   │   \u001b[0m\u001b[1;36m0.00221221629107045\u001b[0m,\n",
       "\u001b[2;32m│   │   \u001b[0m\u001b[1;36m0.003562247890262444\u001b[0m,\n",
       "\u001b[2;32m│   │   \u001b[0m\u001b[1;36m0.005736152510448681\u001b[0m,\n",
       "\u001b[2;32m│   │   \u001b[0m\u001b[1;36m0.009236708571873866\u001b[0m,\n",
       "\u001b[2;32m│   │   \u001b[0m\u001b[1;36m0.014873521072935119\u001b[0m,\n",
       "\u001b[2;32m│   │   \u001b[0m\u001b[1;36m0.02395026619987486\u001b[0m,\n",
       "\u001b[2;32m│   │   \u001b[0m\u001b[1;36m0.03856620421163472\u001b[0m,\n",
       "\u001b[2;32m│   │   \u001b[0m\u001b[1;36m0.06210169418915616\u001b[0m,\n",
       "\u001b[2;32m│   │   \u001b[0m\u001b[1;36m0.1\u001b[0m,\n",
       "\u001b[2;32m│   │   \u001b[0m\u001b[1;36m0.1473684210526316\u001b[0m,\n",
       "\u001b[2;32m│   │   \u001b[0m\u001b[1;36m0.19473684210526315\u001b[0m,\n",
       "\u001b[2;32m│   │   \u001b[0m\u001b[1;36m0.24210526315789474\u001b[0m,\n",
       "\u001b[2;32m│   │   \u001b[0m\u001b[1;36m0.2894736842105263\u001b[0m,\n",
       "\u001b[2;32m│   │   \u001b[0m\u001b[1;36m0.33684210526315794\u001b[0m,\n",
       "\u001b[2;32m│   │   \u001b[0m\u001b[1;36m0.38421052631578945\u001b[0m,\n",
       "\u001b[2;32m│   │   \u001b[0m\u001b[1;36m0.43157894736842106\u001b[0m,\n",
       "\u001b[2;32m│   │   \u001b[0m\u001b[1;36m0.4789473684210527\u001b[0m,\n",
       "\u001b[2;32m│   │   \u001b[0m\u001b[1;36m0.5263157894736842\u001b[0m,\n",
       "\u001b[2;32m│   │   \u001b[0m\u001b[1;36m0.5736842105263158\u001b[0m,\n",
       "\u001b[2;32m│   │   \u001b[0m\u001b[1;36m0.6210526315789474\u001b[0m,\n",
       "\u001b[2;32m│   │   \u001b[0m\u001b[1;36m0.6684210526315789\u001b[0m,\n",
       "\u001b[2;32m│   │   \u001b[0m\u001b[1;36m0.7157894736842105\u001b[0m,\n",
       "\u001b[2;32m│   │   \u001b[0m\u001b[1;36m0.7631578947368421\u001b[0m,\n",
       "\u001b[2;32m│   │   \u001b[0m\u001b[1;36m0.8105263157894737\u001b[0m,\n",
       "\u001b[2;32m│   │   \u001b[0m\u001b[1;36m0.8578947368421053\u001b[0m,\n",
       "\u001b[2;32m│   │   \u001b[0m\u001b[1;36m0.9052631578947369\u001b[0m,\n",
       "\u001b[2;32m│   │   \u001b[0m\u001b[1;36m0.9526315789473684\u001b[0m,\n",
       "\u001b[2;32m│   │   \u001b[0m\u001b[1;36m1.0\u001b[0m\n",
       "\u001b[2;32m│   \u001b[0m\u001b[1m]\u001b[0m,\n",
       "\u001b[2;32m│   \u001b[0m\u001b[32m'observables'\u001b[0m: \u001b[1m{\u001b[0m\u001b[1m}\u001b[0m,\n",
       "\u001b[2;32m│   \u001b[0m\u001b[32m'prDIS'\u001b[0m: \u001b[32m'EM'\u001b[0m\n",
       "\u001b[1m}\u001b[0m\n"
      ]
     },
     "metadata": {},
     "output_type": "display_data"
    }
   ],
   "source": [
    "from rich.pretty import pprint # already installed as a dependency, only needed for a pretty printing\n",
    "from yadmark.data.observables import default_card\n",
    "pprint(default_card)"
   ]
  },
  {
   "cell_type": "markdown",
   "id": "5083afea-4ac9-483d-93b9-f0473cbc46b0",
   "metadata": {},
   "source": [
    "## Computing predictions\n",
    "\n",
    "Now that we have all the necessary inputs, we can now compute the corresponding predictions:"
   ]
  },
  {
   "cell_type": "code",
   "execution_count": 12,
   "id": "b7d95bf6-4536-41a5-9505-07a8743e5f6e",
   "metadata": {},
   "outputs": [
    {
     "data": {
      "text/html": [
       "<pre style=\"white-space:pre;overflow-x:auto;line-height:normal;font-family:Menlo,'DejaVu Sans Mono',consolas,'Courier New',monospace\"><span style=\"color: #7fbfbf; text-decoration-color: #7fbfbf\">[17:13:31] </span><span style=\"color: #000080; text-decoration-color: #000080\">INFO    </span> Interpolation: number of points = <span style=\"color: #008080; text-decoration-color: #008080; font-weight: bold\">8</span>, polynomial degree = <span style=\"color: #008080; text-decoration-color: #008080; font-weight: bold\">4</span>, logarithmic =  <a href=\"file:///home/tanjona/miniconda3/envs/yadism/lib/python3.10/site-packages/eko/interpolation.py\" target=\"_blank\"><span style=\"color: #7f7f7f; text-decoration-color: #7f7f7f\">interpolation.py</span></a><span style=\"color: #7f7f7f; text-decoration-color: #7f7f7f\">:</span><a href=\"file:///home/tanjona/miniconda3/envs/yadism/lib/python3.10/site-packages/eko/interpolation.py#537\" target=\"_blank\"><span style=\"color: #7f7f7f; text-decoration-color: #7f7f7f\">537</span></a>\n",
       "<span style=\"color: #7fbfbf; text-decoration-color: #7fbfbf\">           </span>         <span style=\"color: #00ff00; text-decoration-color: #00ff00; font-style: italic\">True</span>                                                                       <span style=\"color: #7f7f7f; text-decoration-color: #7f7f7f\">                    </span>\n",
       "</pre>\n"
      ],
      "text/plain": [
       "\u001b[2;36m[17:13:31]\u001b[0m\u001b[2;36m \u001b[0m\u001b[34mINFO    \u001b[0m Interpolation: number of points = \u001b[1;36m8\u001b[0m, polynomial degree = \u001b[1;36m4\u001b[0m, logarithmic =  \u001b]8;id=855744;file:///home/tanjona/miniconda3/envs/yadism/lib/python3.10/site-packages/eko/interpolation.py\u001b\\\u001b[2minterpolation.py\u001b[0m\u001b]8;;\u001b\\\u001b[2m:\u001b[0m\u001b]8;id=350159;file:///home/tanjona/miniconda3/envs/yadism/lib/python3.10/site-packages/eko/interpolation.py#537\u001b\\\u001b[2m537\u001b[0m\u001b]8;;\u001b\\\n",
       "\u001b[2;36m           \u001b[0m         \u001b[3;92mTrue\u001b[0m                                                                       \u001b[2m                    \u001b[0m\n"
      ]
     },
     "metadata": {},
     "output_type": "display_data"
    },
    {
     "data": {
      "text/html": [
       "<pre style=\"white-space:pre;overflow-x:auto;line-height:normal;font-family:Menlo,'DejaVu Sans Mono',consolas,'Courier New',monospace\"><span style=\"color: #7fbfbf; text-decoration-color: #7fbfbf\">           </span><span style=\"color: #000080; text-decoration-color: #000080\">INFO    </span> <span style=\"font-weight: bold\">{</span><span style=\"color: #008000; text-decoration-color: #008000\">'MZ2'</span>: <span style=\"color: #008080; text-decoration-color: #008080; font-weight: bold\">8315.178393760001</span>, <span style=\"color: #008000; text-decoration-color: #008000\">'CKM'</span>: <span style=\"color: #800080; text-decoration-color: #800080; font-weight: bold\">CKM</span><span style=\"font-weight: bold\">([[</span><span style=\"color: #008080; text-decoration-color: #008080; font-weight: bold\">9.49221518e-01</span> <span style=\"color: #008080; text-decoration-color: #008080; font-weight: bold\">5.07600900e-02</span>  <a href=\"file:///home/tanjona/Documents/WORK/NNPDF/yadism/src/yadism/coefficient_functions/coupling_constants.py\" target=\"_blank\"><span style=\"color: #7f7f7f; text-decoration-color: #7f7f7f\">coupling_constants.py</span></a><span style=\"color: #7f7f7f; text-decoration-color: #7f7f7f\">:</span><a href=\"file:///home/tanjona/Documents/WORK/NNPDF/yadism/src/yadism/coefficient_functions/coupling_constants.py#52\" target=\"_blank\"><span style=\"color: #7f7f7f; text-decoration-color: #7f7f7f\">52</span></a>\n",
       "<span style=\"color: #7fbfbf; text-decoration-color: #7fbfbf\">           </span>         <span style=\"color: #008080; text-decoration-color: #008080; font-weight: bold\">1.20409000e-05</span><span style=\"font-weight: bold\">]</span> <span style=\"font-weight: bold\">[</span><span style=\"color: #008080; text-decoration-color: #008080; font-weight: bold\">5.07150400e-02</span> <span style=\"color: #008080; text-decoration-color: #008080; font-weight: bold\">9.47604903e-01</span> <span style=\"color: #008080; text-decoration-color: #008080; font-weight: bold\">1.68100000e-03</span><span style=\"font-weight: bold\">]</span>         <span style=\"color: #7f7f7f; text-decoration-color: #7f7f7f\">                        </span>\n",
       "<span style=\"color: #7fbfbf; text-decoration-color: #7fbfbf\">           </span>         <span style=\"font-weight: bold\">[</span><span style=\"color: #008080; text-decoration-color: #008080; font-weight: bold\">7.43044000e-05</span> <span style=\"color: #008080; text-decoration-color: #008080; font-weight: bold\">1.62409000e-03</span> <span style=\"color: #008080; text-decoration-color: #008080; font-weight: bold\">9.98304719e-01</span><span style=\"font-weight: bold\">]])</span>, <span style=\"color: #008000; text-decoration-color: #008000\">'sin2theta_weak'</span>:    <span style=\"color: #7f7f7f; text-decoration-color: #7f7f7f\">                        </span>\n",
       "<span style=\"color: #7fbfbf; text-decoration-color: #7fbfbf\">           </span>         <span style=\"color: #008080; text-decoration-color: #008080; font-weight: bold\">0.23121</span>, <span style=\"color: #008000; text-decoration-color: #008000\">'MW2'</span>: <span style=\"color: #008080; text-decoration-color: #008080; font-weight: bold\">6463.838403999999</span><span style=\"font-weight: bold\">}</span>                                     <span style=\"color: #7f7f7f; text-decoration-color: #7f7f7f\">                        </span>\n",
       "</pre>\n"
      ],
      "text/plain": [
       "\u001b[2;36m          \u001b[0m\u001b[2;36m \u001b[0m\u001b[34mINFO    \u001b[0m \u001b[1m{\u001b[0m\u001b[32m'MZ2'\u001b[0m: \u001b[1;36m8315.178393760001\u001b[0m, \u001b[32m'CKM'\u001b[0m: \u001b[1;35mCKM\u001b[0m\u001b[1m(\u001b[0m\u001b[1m[\u001b[0m\u001b[1m[\u001b[0m\u001b[1;36m9.49221518e-01\u001b[0m \u001b[1;36m5.07600900e-02\u001b[0m  \u001b]8;id=209628;file:///home/tanjona/Documents/WORK/NNPDF/yadism/src/yadism/coefficient_functions/coupling_constants.py\u001b\\\u001b[2mcoupling_constants.py\u001b[0m\u001b]8;;\u001b\\\u001b[2m:\u001b[0m\u001b]8;id=423060;file:///home/tanjona/Documents/WORK/NNPDF/yadism/src/yadism/coefficient_functions/coupling_constants.py#52\u001b\\\u001b[2m52\u001b[0m\u001b]8;;\u001b\\\n",
       "\u001b[2;36m           \u001b[0m         \u001b[1;36m1.20409000e-05\u001b[0m\u001b[1m]\u001b[0m \u001b[1m[\u001b[0m\u001b[1;36m5.07150400e-02\u001b[0m \u001b[1;36m9.47604903e-01\u001b[0m \u001b[1;36m1.68100000e-03\u001b[0m\u001b[1m]\u001b[0m         \u001b[2m                        \u001b[0m\n",
       "\u001b[2;36m           \u001b[0m         \u001b[1m[\u001b[0m\u001b[1;36m7.43044000e-05\u001b[0m \u001b[1;36m1.62409000e-03\u001b[0m \u001b[1;36m9.98304719e-01\u001b[0m\u001b[1m]\u001b[0m\u001b[1m]\u001b[0m\u001b[1m)\u001b[0m, \u001b[32m'sin2theta_weak'\u001b[0m:    \u001b[2m                        \u001b[0m\n",
       "\u001b[2;36m           \u001b[0m         \u001b[1;36m0.23121\u001b[0m, \u001b[32m'MW2'\u001b[0m: \u001b[1;36m6463.838403999999\u001b[0m\u001b[1m}\u001b[0m                                     \u001b[2m                        \u001b[0m\n"
      ]
     },
     "metadata": {},
     "output_type": "display_data"
    },
    {
     "data": {
      "text/html": [
       "<pre style=\"white-space:pre;overflow-x:auto;line-height:normal;font-family:Menlo,'DejaVu Sans Mono',consolas,'Courier New',monospace\"><span style=\"color: #7fbfbf; text-decoration-color: #7fbfbf\">           </span><span style=\"color: #000080; text-decoration-color: #000080\">INFO    </span> <span style=\"font-weight: bold\">{</span><span style=\"color: #008000; text-decoration-color: #008000\">'process'</span>: <span style=\"color: #008000; text-decoration-color: #008000\">'NC'</span>, <span style=\"color: #008000; text-decoration-color: #008000\">'projectilePID'</span>: <span style=\"color: #008080; text-decoration-color: #008080; font-weight: bold\">11</span>, <span style=\"color: #008000; text-decoration-color: #008000\">'polarization'</span>: <span style=\"color: #008080; text-decoration-color: #008080; font-weight: bold\">0.0</span>,            <a href=\"file:///home/tanjona/Documents/WORK/NNPDF/yadism/src/yadism/coefficient_functions/coupling_constants.py\" target=\"_blank\"><span style=\"color: #7f7f7f; text-decoration-color: #7f7f7f\">coupling_constants.py</span></a><span style=\"color: #7f7f7f; text-decoration-color: #7f7f7f\">:</span><a href=\"file:///home/tanjona/Documents/WORK/NNPDF/yadism/src/yadism/coefficient_functions/coupling_constants.py#53\" target=\"_blank\"><span style=\"color: #7f7f7f; text-decoration-color: #7f7f7f\">53</span></a>\n",
       "<span style=\"color: #7fbfbf; text-decoration-color: #7fbfbf\">           </span>         <span style=\"color: #008000; text-decoration-color: #008000\">'propagatorCorrection'</span>: <span style=\"color: #008080; text-decoration-color: #008080; font-weight: bold\">0.0</span>, <span style=\"color: #008000; text-decoration-color: #008000\">'nc_pos_charge'</span>: <span style=\"color: #800080; text-decoration-color: #800080; font-style: italic\">None</span><span style=\"font-weight: bold\">}</span>                    <span style=\"color: #7f7f7f; text-decoration-color: #7f7f7f\">                        </span>\n",
       "</pre>\n"
      ],
      "text/plain": [
       "\u001b[2;36m          \u001b[0m\u001b[2;36m \u001b[0m\u001b[34mINFO    \u001b[0m \u001b[1m{\u001b[0m\u001b[32m'process'\u001b[0m: \u001b[32m'NC'\u001b[0m, \u001b[32m'projectilePID'\u001b[0m: \u001b[1;36m11\u001b[0m, \u001b[32m'polarization'\u001b[0m: \u001b[1;36m0.0\u001b[0m,            \u001b]8;id=742509;file:///home/tanjona/Documents/WORK/NNPDF/yadism/src/yadism/coefficient_functions/coupling_constants.py\u001b\\\u001b[2mcoupling_constants.py\u001b[0m\u001b]8;;\u001b\\\u001b[2m:\u001b[0m\u001b]8;id=926420;file:///home/tanjona/Documents/WORK/NNPDF/yadism/src/yadism/coefficient_functions/coupling_constants.py#53\u001b\\\u001b[2m53\u001b[0m\u001b]8;;\u001b\\\n",
       "\u001b[2;36m           \u001b[0m         \u001b[32m'propagatorCorrection'\u001b[0m: \u001b[1;36m0.0\u001b[0m, \u001b[32m'nc_pos_charge'\u001b[0m: \u001b[3;35mNone\u001b[0m\u001b[1m}\u001b[0m                    \u001b[2m                        \u001b[0m\n"
      ]
     },
     "metadata": {},
     "output_type": "display_data"
    },
    {
     "data": {
      "text/html": [
       "<pre style=\"white-space:pre;overflow-x:auto;line-height:normal;font-family:Menlo,'DejaVu Sans Mono',consolas,'Courier New',monospace\"><span style=\"color: #7fbfbf; text-decoration-color: #7fbfbf\">           </span><span style=\"color: #000080; text-decoration-color: #000080\">INFO    </span> RenScaleVar: <span style=\"color: #ff0000; text-decoration-color: #ff0000; font-style: italic\">False</span>, FactScaleVar: <span style=\"color: #ff0000; text-decoration-color: #ff0000; font-style: italic\">False</span>                                  <a href=\"file:///home/tanjona/Documents/WORK/NNPDF/yadism/src/yadism/esf/scale_variations.py\" target=\"_blank\"><span style=\"color: #7f7f7f; text-decoration-color: #7f7f7f\">scale_variations.py</span></a><span style=\"color: #7f7f7f; text-decoration-color: #7f7f7f\">:</span><a href=\"file:///home/tanjona/Documents/WORK/NNPDF/yadism/src/yadism/esf/scale_variations.py#61\" target=\"_blank\"><span style=\"color: #7f7f7f; text-decoration-color: #7f7f7f\">61</span></a>\n",
       "</pre>\n"
      ],
      "text/plain": [
       "\u001b[2;36m          \u001b[0m\u001b[2;36m \u001b[0m\u001b[34mINFO    \u001b[0m RenScaleVar: \u001b[3;91mFalse\u001b[0m, FactScaleVar: \u001b[3;91mFalse\u001b[0m                                  \u001b]8;id=321435;file:///home/tanjona/Documents/WORK/NNPDF/yadism/src/yadism/esf/scale_variations.py\u001b\\\u001b[2mscale_variations.py\u001b[0m\u001b]8;;\u001b\\\u001b[2m:\u001b[0m\u001b]8;id=492824;file:///home/tanjona/Documents/WORK/NNPDF/yadism/src/yadism/esf/scale_variations.py#61\u001b\\\u001b[2m61\u001b[0m\u001b]8;;\u001b\\\n"
      ]
     },
     "metadata": {},
     "output_type": "display_data"
    },
    {
     "data": {
      "text/html": [
       "<pre style=\"white-space:pre;overflow-x:auto;line-height:normal;font-family:Menlo,'DejaVu Sans Mono',consolas,'Courier New',monospace\"><span style=\"color: #7fbfbf; text-decoration-color: #7fbfbf\">           </span><span style=\"color: #000080; text-decoration-color: #000080\">INFO    </span> Atlas <span style=\"font-weight: bold\">[</span><span style=\"color: #008080; text-decoration-color: #008080; font-weight: bold\">0.00e+00</span> - <span style=\"color: #008080; text-decoration-color: #008080; font-weight: bold\">0.00e+00</span> - inf - inf - inf<span style=\"font-weight: bold\">]</span>, <span style=\"color: #808000; text-decoration-color: #808000\">ref</span>=<span style=\"color: #008080; text-decoration-color: #008080; font-weight: bold\">2.7224999999999997</span> @ <span style=\"color: #008080; text-decoration-color: #008080; font-weight: bold\">4</span>       <a href=\"file:///home/tanjona/miniconda3/envs/yadism/lib/python3.10/site-packages/eko/matchings.py\" target=\"_blank\"><span style=\"color: #7f7f7f; text-decoration-color: #7f7f7f\">matchings.py</span></a><span style=\"color: #7f7f7f; text-decoration-color: #7f7f7f\">:</span><a href=\"file:///home/tanjona/miniconda3/envs/yadism/lib/python3.10/site-packages/eko/matchings.py#69\" target=\"_blank\"><span style=\"color: #7f7f7f; text-decoration-color: #7f7f7f\">69</span></a>\n",
       "</pre>\n"
      ],
      "text/plain": [
       "\u001b[2;36m          \u001b[0m\u001b[2;36m \u001b[0m\u001b[34mINFO    \u001b[0m Atlas \u001b[1m[\u001b[0m\u001b[1;36m0.00e+00\u001b[0m - \u001b[1;36m0.00e+00\u001b[0m - inf - inf - inf\u001b[1m]\u001b[0m, \u001b[33mref\u001b[0m=\u001b[1;36m2\u001b[0m\u001b[1;36m.7224999999999997\u001b[0m @ \u001b[1;36m4\u001b[0m       \u001b]8;id=853001;file:///home/tanjona/miniconda3/envs/yadism/lib/python3.10/site-packages/eko/matchings.py\u001b\\\u001b[2mmatchings.py\u001b[0m\u001b]8;;\u001b\\\u001b[2m:\u001b[0m\u001b]8;id=372449;file:///home/tanjona/miniconda3/envs/yadism/lib/python3.10/site-packages/eko/matchings.py#69\u001b\\\u001b[2m69\u001b[0m\u001b]8;;\u001b\\\n"
      ]
     },
     "metadata": {},
     "output_type": "display_data"
    },
    {
     "data": {
      "text/html": [
       "<pre style=\"white-space:pre;overflow-x:auto;line-height:normal;font-family:Menlo,'DejaVu Sans Mono',consolas,'Courier New',monospace\"><span style=\"color: #7fbfbf; text-decoration-color: #7fbfbf\">           </span><span style=\"color: #000080; text-decoration-color: #000080\">INFO    </span> PTO: <span style=\"color: #008080; text-decoration-color: #008080; font-weight: bold\">2</span>, PTO@evolution: <span style=\"color: #008080; text-decoration-color: #008080; font-weight: bold\">2</span>, process: NC                                             <a href=\"file:///home/tanjona/Documents/WORK/NNPDF/yadism/src/yadism/runner.py\" target=\"_blank\"><span style=\"color: #7f7f7f; text-decoration-color: #7f7f7f\">runner.py</span></a><span style=\"color: #7f7f7f; text-decoration-color: #7f7f7f\">:</span><a href=\"file:///home/tanjona/Documents/WORK/NNPDF/yadism/src/yadism/runner.py#146\" target=\"_blank\"><span style=\"color: #7f7f7f; text-decoration-color: #7f7f7f\">146</span></a>\n",
       "</pre>\n"
      ],
      "text/plain": [
       "\u001b[2;36m          \u001b[0m\u001b[2;36m \u001b[0m\u001b[34mINFO    \u001b[0m PTO: \u001b[1;36m2\u001b[0m, PTO@evolution: \u001b[1;36m2\u001b[0m, process: NC                                             \u001b]8;id=528897;file:///home/tanjona/Documents/WORK/NNPDF/yadism/src/yadism/runner.py\u001b\\\u001b[2mrunner.py\u001b[0m\u001b]8;;\u001b\\\u001b[2m:\u001b[0m\u001b]8;id=838475;file:///home/tanjona/Documents/WORK/NNPDF/yadism/src/yadism/runner.py#146\u001b\\\u001b[2m146\u001b[0m\u001b]8;;\u001b\\\n"
      ]
     },
     "metadata": {},
     "output_type": "display_data"
    },
    {
     "data": {
      "text/html": [
       "<pre style=\"white-space:pre;overflow-x:auto;line-height:normal;font-family:Menlo,'DejaVu Sans Mono',consolas,'Courier New',monospace\"><span style=\"color: #7fbfbf; text-decoration-color: #7fbfbf\">           </span><span style=\"color: #000080; text-decoration-color: #000080\">INFO    </span> FNS: FFNS, NfFF: <span style=\"color: #008080; text-decoration-color: #008080; font-weight: bold\">4</span>                                                                <a href=\"file:///home/tanjona/Documents/WORK/NNPDF/yadism/src/yadism/runner.py\" target=\"_blank\"><span style=\"color: #7f7f7f; text-decoration-color: #7f7f7f\">runner.py</span></a><span style=\"color: #7f7f7f; text-decoration-color: #7f7f7f\">:</span><a href=\"file:///home/tanjona/Documents/WORK/NNPDF/yadism/src/yadism/runner.py#153\" target=\"_blank\"><span style=\"color: #7f7f7f; text-decoration-color: #7f7f7f\">153</span></a>\n",
       "</pre>\n"
      ],
      "text/plain": [
       "\u001b[2;36m          \u001b[0m\u001b[2;36m \u001b[0m\u001b[34mINFO    \u001b[0m FNS: FFNS, NfFF: \u001b[1;36m4\u001b[0m                                                                \u001b]8;id=952394;file:///home/tanjona/Documents/WORK/NNPDF/yadism/src/yadism/runner.py\u001b\\\u001b[2mrunner.py\u001b[0m\u001b]8;;\u001b\\\u001b[2m:\u001b[0m\u001b]8;id=688311;file:///home/tanjona/Documents/WORK/NNPDF/yadism/src/yadism/runner.py#153\u001b\\\u001b[2m153\u001b[0m\u001b]8;;\u001b\\\n"
      ]
     },
     "metadata": {},
     "output_type": "display_data"
    },
    {
     "data": {
      "text/html": [
       "<pre style=\"white-space:pre;overflow-x:auto;line-height:normal;font-family:Menlo,'DejaVu Sans Mono',consolas,'Courier New',monospace\"><span style=\"color: #7fbfbf; text-decoration-color: #7fbfbf\">           </span><span style=\"color: #000080; text-decoration-color: #000080\">INFO    </span> Intrinsic: <span style=\"font-weight: bold\">[</span><span style=\"color: #008080; text-decoration-color: #008080; font-weight: bold\">4</span><span style=\"font-weight: bold\">]</span>                                                                    <a href=\"file:///home/tanjona/Documents/WORK/NNPDF/yadism/src/yadism/runner.py\" target=\"_blank\"><span style=\"color: #7f7f7f; text-decoration-color: #7f7f7f\">runner.py</span></a><span style=\"color: #7f7f7f; text-decoration-color: #7f7f7f\">:</span><a href=\"file:///home/tanjona/Documents/WORK/NNPDF/yadism/src/yadism/runner.py#154\" target=\"_blank\"><span style=\"color: #7f7f7f; text-decoration-color: #7f7f7f\">154</span></a>\n",
       "</pre>\n"
      ],
      "text/plain": [
       "\u001b[2;36m          \u001b[0m\u001b[2;36m \u001b[0m\u001b[34mINFO    \u001b[0m Intrinsic: \u001b[1m[\u001b[0m\u001b[1;36m4\u001b[0m\u001b[1m]\u001b[0m                                                                    \u001b]8;id=15986;file:///home/tanjona/Documents/WORK/NNPDF/yadism/src/yadism/runner.py\u001b\\\u001b[2mrunner.py\u001b[0m\u001b]8;;\u001b\\\u001b[2m:\u001b[0m\u001b]8;id=831273;file:///home/tanjona/Documents/WORK/NNPDF/yadism/src/yadism/runner.py#154\u001b\\\u001b[2m154\u001b[0m\u001b]8;;\u001b\\\n"
      ]
     },
     "metadata": {},
     "output_type": "display_data"
    },
    {
     "data": {
      "text/html": [
       "<pre style=\"white-space:pre;overflow-x:auto;line-height:normal;font-family:Menlo,'DejaVu Sans Mono',consolas,'Courier New',monospace\"><span style=\"color: #7fbfbf; text-decoration-color: #7fbfbf\">           </span><span style=\"color: #000080; text-decoration-color: #000080\">INFO    </span> projectile: electron, target: <span style=\"font-weight: bold\">{</span>Z: <span style=\"color: #008080; text-decoration-color: #008080; font-weight: bold\">1</span>, A: <span style=\"color: #008080; text-decoration-color: #008080; font-weight: bold\">1</span><span style=\"font-weight: bold\">}</span>                                        <a href=\"file:///home/tanjona/Documents/WORK/NNPDF/yadism/src/yadism/runner.py\" target=\"_blank\"><span style=\"color: #7f7f7f; text-decoration-color: #7f7f7f\">runner.py</span></a><span style=\"color: #7f7f7f; text-decoration-color: #7f7f7f\">:</span><a href=\"file:///home/tanjona/Documents/WORK/NNPDF/yadism/src/yadism/runner.py#155\" target=\"_blank\"><span style=\"color: #7f7f7f; text-decoration-color: #7f7f7f\">155</span></a>\n",
       "</pre>\n"
      ],
      "text/plain": [
       "\u001b[2;36m          \u001b[0m\u001b[2;36m \u001b[0m\u001b[34mINFO    \u001b[0m projectile: electron, target: \u001b[1m{\u001b[0mZ: \u001b[1;36m1\u001b[0m, A: \u001b[1;36m1\u001b[0m\u001b[1m}\u001b[0m                                        \u001b]8;id=634484;file:///home/tanjona/Documents/WORK/NNPDF/yadism/src/yadism/runner.py\u001b\\\u001b[2mrunner.py\u001b[0m\u001b]8;;\u001b\\\u001b[2m:\u001b[0m\u001b]8;id=493872;file:///home/tanjona/Documents/WORK/NNPDF/yadism/src/yadism/runner.py#155\u001b\\\u001b[2m155\u001b[0m\u001b]8;;\u001b\\\n"
      ]
     },
     "metadata": {},
     "output_type": "display_data"
    },
    {
     "data": {
      "text/html": [
       "<pre style=\"white-space:pre;overflow-x:auto;line-height:normal;font-family:Menlo,'DejaVu Sans Mono',consolas,'Courier New',monospace\">                                      <span style=\"color: #800080; text-decoration-color: #800080\">┌────────────────────────────────────┐</span>                                       \n",
       "                                      <span style=\"color: #800080; text-decoration-color: #800080\">│                                    │</span>                                       \n",
       "                                      <span style=\"color: #800080; text-decoration-color: #800080\">│ __     __       _ _                │</span>                                       \n",
       "                                      <span style=\"color: #800080; text-decoration-color: #800080\">│ \\ \\   / /      | (_)               │</span>                                       \n",
       "                                      <span style=\"color: #800080; text-decoration-color: #800080\">│  \\ \\_/ /_ _  __| |_ ___ _ __ ___   │</span>                                       \n",
       "                                      <span style=\"color: #800080; text-decoration-color: #800080\">│   \\   / _` |/ _` | / __| '_ ` _ \\  │</span>                                       \n",
       "                                      <span style=\"color: #800080; text-decoration-color: #800080\">│    | | (_| | (_| | \\__ \\ | | | | | │</span>                                       \n",
       "                                      <span style=\"color: #800080; text-decoration-color: #800080\">│    |_|\\__,_|\\__,_|_|___/_| |_| |_| │</span>                                       \n",
       "                                      <span style=\"color: #800080; text-decoration-color: #800080\">│                                    │</span>                                       \n",
       "                                      <span style=\"color: #800080; text-decoration-color: #800080\">└────────────────────────────────────┘</span>                                       \n",
       "</pre>\n"
      ],
      "text/plain": [
       "                                      \u001b[35m┌────────────────────────────────────┐\u001b[0m                                       \n",
       "                                      \u001b[35m│\u001b[0m\u001b[35m                                    \u001b[0m\u001b[35m│\u001b[0m                                       \n",
       "                                      \u001b[35m│\u001b[0m\u001b[35m \u001b[0m\u001b[35m__     __       _ _\u001b[0m\u001b[35m               \u001b[0m\u001b[35m \u001b[0m\u001b[35m│\u001b[0m                                       \n",
       "                                      \u001b[35m│\u001b[0m\u001b[35m \u001b[0m\u001b[35m\\ \\   / /      | (_)\u001b[0m\u001b[35m              \u001b[0m\u001b[35m \u001b[0m\u001b[35m│\u001b[0m                                       \n",
       "                                      \u001b[35m│\u001b[0m\u001b[35m \u001b[0m\u001b[35m \\ \\_/ /_ _  __| |_ ___ _ __ ___\u001b[0m\u001b[35m  \u001b[0m\u001b[35m \u001b[0m\u001b[35m│\u001b[0m                                       \n",
       "                                      \u001b[35m│\u001b[0m\u001b[35m \u001b[0m\u001b[35m  \\   / _` |/ _` | / __| '_ ` _ \\\u001b[0m\u001b[35m \u001b[0m\u001b[35m \u001b[0m\u001b[35m│\u001b[0m                                       \n",
       "                                      \u001b[35m│\u001b[0m\u001b[35m \u001b[0m\u001b[35m   | | (_| | (_| | \\__ \\ | | | | |\u001b[0m\u001b[35m \u001b[0m\u001b[35m│\u001b[0m                                       \n",
       "                                      \u001b[35m│\u001b[0m\u001b[35m \u001b[0m\u001b[35m   |_|\\__,_|\\__,_|_|___/_| |_| |_|\u001b[0m\u001b[35m \u001b[0m\u001b[35m│\u001b[0m                                       \n",
       "                                      \u001b[35m│\u001b[0m\u001b[35m                                    \u001b[0m\u001b[35m│\u001b[0m                                       \n",
       "                                      \u001b[35m└────────────────────────────────────┘\u001b[0m                                       \n"
      ]
     },
     "metadata": {},
     "output_type": "display_data"
    },
    {
     "data": {
      "text/html": [
       "<pre style=\"white-space:pre;overflow-x:auto;line-height:normal;font-family:Menlo,'DejaVu Sans Mono',consolas,'Courier New',monospace\">\n",
       "                                                       <span style=\"font-weight: bold; text-decoration: underline\">Plan</span>                                                        \n",
       "</pre>\n"
      ],
      "text/plain": [
       "\n",
       "                                                       \u001b[1;4mPlan\u001b[0m                                                        \n"
      ]
     },
     "metadata": {},
     "output_type": "display_data"
    },
    {
     "data": {
      "text/html": [
       "<pre style=\"white-space:pre;overflow-x:auto;line-height:normal;font-family:Menlo,'DejaVu Sans Mono',consolas,'Courier New',monospace\">\n",
       "<span style=\"color: #808000; text-decoration-color: #808000; font-weight: bold\"> • </span>XSHERANCAVG_charm at 2 pts                                                                                      \n",
       "</pre>\n"
      ],
      "text/plain": [
       "\n",
       "\u001b[1;33m • \u001b[0mXSHERANCAVG_charm at 2 pts                                                                                      \n"
      ]
     },
     "metadata": {},
     "output_type": "display_data"
    },
    {
     "data": {
      "text/html": [
       "<pre style=\"white-space:pre;overflow-x:auto;line-height:normal;font-family:Menlo,'DejaVu Sans Mono',consolas,'Courier New',monospace\">\n",
       "                                                    <span style=\"font-weight: bold; text-decoration: underline\">Calculation</span>                                                    \n",
       "</pre>\n"
      ],
      "text/plain": [
       "\n",
       "                                                    \u001b[1;4mCalculation\u001b[0m                                                    \n"
      ]
     },
     "metadata": {},
     "output_type": "display_data"
    },
    {
     "data": {
      "text/html": [
       "<pre style=\"white-space:pre;overflow-x:auto;line-height:normal;font-family:Menlo,'DejaVu Sans Mono',consolas,'Courier New',monospace\">yadism took off! please stay tuned <span style=\"color: #808000; text-decoration-color: #808000\">...</span>\n",
       "</pre>\n"
      ],
      "text/plain": [
       "yadism took off! please stay tuned \u001b[33m...\u001b[0m\n"
      ]
     },
     "metadata": {},
     "output_type": "display_data"
    },
    {
     "data": {
      "text/html": [
       "<pre style=\"white-space:pre;overflow-x:auto;line-height:normal;font-family:Menlo,'DejaVu Sans Mono',consolas,'Courier New',monospace\"></pre>\n"
      ],
      "text/plain": [
       "\u001b[?25l"
      ]
     },
     "metadata": {},
     "output_type": "display_data"
    },
    {
     "data": {
      "text/html": [
       "<pre style=\"white-space:pre;overflow-x:auto;line-height:normal;font-family:Menlo,'DejaVu Sans Mono',consolas,'Courier New',monospace\">\n",
       "\u001b[?25h</pre>\n"
      ],
      "text/plain": [
       "\n",
       "\u001b[?25h"
      ]
     },
     "metadata": {},
     "output_type": "display_data"
    },
    {
     "data": {
      "text/html": [
       "<pre style=\"white-space:pre;overflow-x:auto;line-height:normal;font-family:Menlo,'DejaVu Sans Mono',consolas,'Courier New',monospace\"><span style=\"color: #008080; text-decoration-color: #008080\">took </span><span style=\"color: #008080; text-decoration-color: #008080; font-weight: bold\">0.23</span><span style=\"color: #008080; text-decoration-color: #008080\"> s</span>\n",
       "</pre>\n"
      ],
      "text/plain": [
       "\u001b[36mtook \u001b[0m\u001b[1;36m0.23\u001b[0m\u001b[36m s\u001b[0m\n"
      ]
     },
     "metadata": {},
     "output_type": "display_data"
    }
   ],
   "source": [
    "out = yadism.run_yadism(theory_card, observable_card)"
   ]
  },
  {
   "cell_type": "markdown",
   "id": "a1d79202-30d1-465f-9ce2-008fc760ebf1",
   "metadata": {},
   "source": [
    "`out` is an object of type `yadism.output.Output` from which one can perform various operations. In our example, we are interested in convoluting it with a PDF set in the LHAPDF format.\n",
    "\n",
    "To do so, first we need to import the `lhapdf` package. For this example, we will use the NNPDF4.0 set: `NNPDF40_nnlo_as_01180`."
   ]
  },
  {
   "cell_type": "code",
   "execution_count": 13,
   "id": "bc6f3aac-802b-4073-9e6a-e18e54f3ef85",
   "metadata": {},
   "outputs": [
    {
     "name": "stdout",
     "output_type": "stream",
     "text": [
      "LHAPDF 6.5.0 loading /home/tanjona/miniconda3/envs/yadism/share/LHAPDF/NNPDF40_nnlo_as_01180/NNPDF40_nnlo_as_01180_0000.dat\n",
      "NNPDF40_nnlo_as_01180 PDF set, member #0, version 1; LHAPDF ID = 331100\n"
     ]
    }
   ],
   "source": [
    "import lhapdf\n",
    "pdf = lhapdf.mkPDF(\"NNPDF40_nnlo_as_01180\")"
   ]
  },
  {
   "cell_type": "markdown",
   "id": "359f3118-a317-4345-8e73-bc810b92ea92",
   "metadata": {},
   "source": [
    "The convolution can simply be performed as follow:"
   ]
  },
  {
   "cell_type": "code",
   "execution_count": 14,
   "id": "9b983dd8-4724-439c-bdab-773879308985",
   "metadata": {},
   "outputs": [
    {
     "data": {
      "text/html": [
       "<pre style=\"white-space:pre;overflow-x:auto;line-height:normal;font-family:Menlo,'DejaVu Sans Mono',consolas,'Courier New',monospace\"><span style=\"color: #7fbfbf; text-decoration-color: #7fbfbf\">[17:13:33] </span><span style=\"color: #000080; text-decoration-color: #000080\">INFO    </span> Atlas <span style=\"font-weight: bold\">[</span><span style=\"color: #008080; text-decoration-color: #008080; font-weight: bold\">0.00e+00</span> - <span style=\"color: #008080; text-decoration-color: #008080; font-weight: bold\">2.28e+00</span> - <span style=\"color: #008080; text-decoration-color: #008080; font-weight: bold\">2.42e+01</span> - <span style=\"color: #008080; text-decoration-color: #008080; font-weight: bold\">2.98e+04</span> - inf<span style=\"font-weight: bold\">]</span>, <span style=\"color: #808000; text-decoration-color: #808000\">ref</span>=<span style=\"color: #008080; text-decoration-color: #008080; font-weight: bold\">8317.44</span> @ <span style=\"color: #008080; text-decoration-color: #008080; font-weight: bold\">5</span>        <a href=\"file:///home/tanjona/miniconda3/envs/yadism/lib/python3.10/site-packages/eko/matchings.py\" target=\"_blank\"><span style=\"color: #7f7f7f; text-decoration-color: #7f7f7f\">matchings.py</span></a><span style=\"color: #7f7f7f; text-decoration-color: #7f7f7f\">:</span><a href=\"file:///home/tanjona/miniconda3/envs/yadism/lib/python3.10/site-packages/eko/matchings.py#69\" target=\"_blank\"><span style=\"color: #7f7f7f; text-decoration-color: #7f7f7f\">69</span></a>\n",
       "</pre>\n"
      ],
      "text/plain": [
       "\u001b[2;36m[17:13:33]\u001b[0m\u001b[2;36m \u001b[0m\u001b[34mINFO    \u001b[0m Atlas \u001b[1m[\u001b[0m\u001b[1;36m0.00e+00\u001b[0m - \u001b[1;36m2.28e+00\u001b[0m - \u001b[1;36m2.42e+01\u001b[0m - \u001b[1;36m2.98e+04\u001b[0m - inf\u001b[1m]\u001b[0m, \u001b[33mref\u001b[0m=\u001b[1;36m8317\u001b[0m\u001b[1;36m.44\u001b[0m @ \u001b[1;36m5\u001b[0m        \u001b]8;id=295909;file:///home/tanjona/miniconda3/envs/yadism/lib/python3.10/site-packages/eko/matchings.py\u001b\\\u001b[2mmatchings.py\u001b[0m\u001b]8;;\u001b\\\u001b[2m:\u001b[0m\u001b]8;id=914974;file:///home/tanjona/miniconda3/envs/yadism/lib/python3.10/site-packages/eko/matchings.py#69\u001b\\\u001b[2m69\u001b[0m\u001b]8;;\u001b\\\n"
      ]
     },
     "metadata": {},
     "output_type": "display_data"
    },
    {
     "data": {
      "text/html": [
       "<pre style=\"white-space:pre;overflow-x:auto;line-height:normal;font-family:Menlo,'DejaVu Sans Mono',consolas,'Courier New',monospace\"><span style=\"color: #7fbfbf; text-decoration-color: #7fbfbf\">           </span><span style=\"color: #000080; text-decoration-color: #000080\">INFO    </span> Strong Coupling: <span style=\"color: #800080; text-decoration-color: #800080; font-weight: bold\">a_s</span><span style=\"font-weight: bold\">(</span>µ_R^<span style=\"color: #008080; text-decoration-color: #008080; font-weight: bold\">2</span>=<span style=\"color: #008080; text-decoration-color: #008080; font-weight: bold\">8317.440000</span><span style=\"font-weight: bold\">)</span>^<span style=\"font-weight: bold\">(</span><span style=\"color: #808000; text-decoration-color: #808000\">nf</span>=<span style=\"color: #008080; text-decoration-color: #008080; font-weight: bold\">5</span><span style=\"font-weight: bold\">)</span>=<span style=\"color: #008080; text-decoration-color: #008080; font-weight: bold\">0.009390</span>=<span style=\"color: #008080; text-decoration-color: #008080; font-weight: bold\">0.118000</span>/<span style=\"font-weight: bold\">(</span>4π<span style=\"font-weight: bold\">)</span>          <a href=\"file:///home/tanjona/miniconda3/envs/yadism/lib/python3.10/site-packages/eko/couplings.py\" target=\"_blank\"><span style=\"color: #7f7f7f; text-decoration-color: #7f7f7f\">couplings.py</span></a><span style=\"color: #7f7f7f; text-decoration-color: #7f7f7f\">:</span><a href=\"file:///home/tanjona/miniconda3/envs/yadism/lib/python3.10/site-packages/eko/couplings.py#458\" target=\"_blank\"><span style=\"color: #7f7f7f; text-decoration-color: #7f7f7f\">458</span></a>\n",
       "</pre>\n"
      ],
      "text/plain": [
       "\u001b[2;36m          \u001b[0m\u001b[2;36m \u001b[0m\u001b[34mINFO    \u001b[0m Strong Coupling: \u001b[1;35ma_s\u001b[0m\u001b[1m(\u001b[0mµ_R^\u001b[1;36m2\u001b[0m=\u001b[1;36m8317\u001b[0m\u001b[1;36m.440000\u001b[0m\u001b[1m)\u001b[0m^\u001b[1m(\u001b[0m\u001b[33mnf\u001b[0m=\u001b[1;36m5\u001b[0m\u001b[1m)\u001b[0m=\u001b[1;36m0.\u001b[0m\u001b[1;36m009390\u001b[0m=\u001b[1;36m0\u001b[0m\u001b[1;36m.118000\u001b[0m/\u001b[1m(\u001b[0m4π\u001b[1m)\u001b[0m          \u001b]8;id=48542;file:///home/tanjona/miniconda3/envs/yadism/lib/python3.10/site-packages/eko/couplings.py\u001b\\\u001b[2mcouplings.py\u001b[0m\u001b]8;;\u001b\\\u001b[2m:\u001b[0m\u001b]8;id=745971;file:///home/tanjona/miniconda3/envs/yadism/lib/python3.10/site-packages/eko/couplings.py#458\u001b\\\u001b[2m458\u001b[0m\u001b]8;;\u001b\\\n"
      ]
     },
     "metadata": {},
     "output_type": "display_data"
    },
    {
     "data": {
      "text/html": [
       "<pre style=\"white-space:pre;overflow-x:auto;line-height:normal;font-family:Menlo,'DejaVu Sans Mono',consolas,'Courier New',monospace\"><span style=\"color: #7fbfbf; text-decoration-color: #7fbfbf\">           </span><span style=\"color: #000080; text-decoration-color: #000080\">INFO    </span> Atlas <span style=\"font-weight: bold\">[</span><span style=\"color: #008080; text-decoration-color: #008080; font-weight: bold\">0.00e+00</span> - <span style=\"color: #008080; text-decoration-color: #008080; font-weight: bold\">2.28e+00</span> - <span style=\"color: #008080; text-decoration-color: #008080; font-weight: bold\">2.42e+01</span> - <span style=\"color: #008080; text-decoration-color: #008080; font-weight: bold\">2.98e+04</span> - inf<span style=\"font-weight: bold\">]</span>, <span style=\"color: #808000; text-decoration-color: #808000\">ref</span>=<span style=\"color: #008080; text-decoration-color: #008080; font-weight: bold\">8317.44</span> @ <span style=\"color: #008080; text-decoration-color: #008080; font-weight: bold\">5</span>        <a href=\"file:///home/tanjona/miniconda3/envs/yadism/lib/python3.10/site-packages/eko/matchings.py\" target=\"_blank\"><span style=\"color: #7f7f7f; text-decoration-color: #7f7f7f\">matchings.py</span></a><span style=\"color: #7f7f7f; text-decoration-color: #7f7f7f\">:</span><a href=\"file:///home/tanjona/miniconda3/envs/yadism/lib/python3.10/site-packages/eko/matchings.py#69\" target=\"_blank\"><span style=\"color: #7f7f7f; text-decoration-color: #7f7f7f\">69</span></a>\n",
       "</pre>\n"
      ],
      "text/plain": [
       "\u001b[2;36m          \u001b[0m\u001b[2;36m \u001b[0m\u001b[34mINFO    \u001b[0m Atlas \u001b[1m[\u001b[0m\u001b[1;36m0.00e+00\u001b[0m - \u001b[1;36m2.28e+00\u001b[0m - \u001b[1;36m2.42e+01\u001b[0m - \u001b[1;36m2.98e+04\u001b[0m - inf\u001b[1m]\u001b[0m, \u001b[33mref\u001b[0m=\u001b[1;36m8317\u001b[0m\u001b[1;36m.44\u001b[0m @ \u001b[1;36m5\u001b[0m        \u001b]8;id=596034;file:///home/tanjona/miniconda3/envs/yadism/lib/python3.10/site-packages/eko/matchings.py\u001b\\\u001b[2mmatchings.py\u001b[0m\u001b]8;;\u001b\\\u001b[2m:\u001b[0m\u001b]8;id=509149;file:///home/tanjona/miniconda3/envs/yadism/lib/python3.10/site-packages/eko/matchings.py#69\u001b\\\u001b[2m69\u001b[0m\u001b]8;;\u001b\\\n"
      ]
     },
     "metadata": {},
     "output_type": "display_data"
    }
   ],
   "source": [
    "values = out.apply_pdf(pdf)"
   ]
  },
  {
   "cell_type": "code",
   "execution_count": 15,
   "id": "a56aee13-b08b-492f-80d0-3487bea74318",
   "metadata": {},
   "outputs": [
    {
     "data": {
      "text/html": [
       "<pre style=\"white-space:pre;overflow-x:auto;line-height:normal;font-family:Menlo,'DejaVu Sans Mono',consolas,'Courier New',monospace\"><span style=\"font-weight: bold\">{</span>\n",
       "<span style=\"color: #7fbf7f; text-decoration-color: #7fbf7f\">│   </span><span style=\"color: #008000; text-decoration-color: #008000\">'XSHERANCAVG_charm'</span>: <span style=\"font-weight: bold\">[</span>\n",
       "<span style=\"color: #7fbf7f; text-decoration-color: #7fbf7f\">│   │   </span><span style=\"font-weight: bold\">{</span>\n",
       "<span style=\"color: #7fbf7f; text-decoration-color: #7fbf7f\">│   │   │   </span><span style=\"color: #008000; text-decoration-color: #008000\">'x'</span>: <span style=\"color: #008080; text-decoration-color: #008080; font-weight: bold\">3e-05</span>,\n",
       "<span style=\"color: #7fbf7f; text-decoration-color: #7fbf7f\">│   │   │   </span><span style=\"color: #008000; text-decoration-color: #008000\">'Q2'</span>: <span style=\"color: #008080; text-decoration-color: #008080; font-weight: bold\">2.5</span>,\n",
       "<span style=\"color: #7fbf7f; text-decoration-color: #7fbf7f\">│   │   │   </span><span style=\"color: #008000; text-decoration-color: #008000\">'result'</span>: <span style=\"color: #008080; text-decoration-color: #008080; font-weight: bold\">-0.9959496128078331</span>,\n",
       "<span style=\"color: #7fbf7f; text-decoration-color: #7fbf7f\">│   │   │   </span><span style=\"color: #008000; text-decoration-color: #008000\">'error'</span>: <span style=\"color: #008080; text-decoration-color: #008080; font-weight: bold\">1.281070214968848e-08</span>,\n",
       "<span style=\"color: #7fbf7f; text-decoration-color: #7fbf7f\">│   │   │   </span><span style=\"color: #008000; text-decoration-color: #008000\">'y'</span>: <span style=\"color: #008080; text-decoration-color: #008080; font-weight: bold\">0.8240707777909629</span>\n",
       "<span style=\"color: #7fbf7f; text-decoration-color: #7fbf7f\">│   │   </span><span style=\"font-weight: bold\">}</span>,\n",
       "<span style=\"color: #7fbf7f; text-decoration-color: #7fbf7f\">│   │   </span><span style=\"font-weight: bold\">{</span>\n",
       "<span style=\"color: #7fbf7f; text-decoration-color: #7fbf7f\">│   │   │   </span><span style=\"color: #008000; text-decoration-color: #008000\">'x'</span>: <span style=\"color: #008080; text-decoration-color: #008080; font-weight: bold\">7e-05</span>,\n",
       "<span style=\"color: #7fbf7f; text-decoration-color: #7fbf7f\">│   │   │   </span><span style=\"color: #008000; text-decoration-color: #008000\">'Q2'</span>: <span style=\"color: #008080; text-decoration-color: #008080; font-weight: bold\">2.5</span>,\n",
       "<span style=\"color: #7fbf7f; text-decoration-color: #7fbf7f\">│   │   │   </span><span style=\"color: #008000; text-decoration-color: #008000\">'result'</span>: <span style=\"color: #008080; text-decoration-color: #008080; font-weight: bold\">-0.7710853256052412</span>,\n",
       "<span style=\"color: #7fbf7f; text-decoration-color: #7fbf7f\">│   │   │   </span><span style=\"color: #008000; text-decoration-color: #008000\">'error'</span>: <span style=\"color: #008080; text-decoration-color: #008080; font-weight: bold\">2.3298246570353407e-08</span>,\n",
       "<span style=\"color: #7fbf7f; text-decoration-color: #7fbf7f\">│   │   │   </span><span style=\"color: #008000; text-decoration-color: #008000\">'y'</span>: <span style=\"color: #008080; text-decoration-color: #008080; font-weight: bold\">0.3531731904818413</span>\n",
       "<span style=\"color: #7fbf7f; text-decoration-color: #7fbf7f\">│   │   </span><span style=\"font-weight: bold\">}</span>\n",
       "<span style=\"color: #7fbf7f; text-decoration-color: #7fbf7f\">│   </span><span style=\"font-weight: bold\">]</span>\n",
       "<span style=\"font-weight: bold\">}</span>\n",
       "</pre>\n"
      ],
      "text/plain": [
       "\u001b[1m{\u001b[0m\n",
       "\u001b[2;32m│   \u001b[0m\u001b[32m'XSHERANCAVG_charm'\u001b[0m: \u001b[1m[\u001b[0m\n",
       "\u001b[2;32m│   │   \u001b[0m\u001b[1m{\u001b[0m\n",
       "\u001b[2;32m│   │   │   \u001b[0m\u001b[32m'x'\u001b[0m: \u001b[1;36m3e-05\u001b[0m,\n",
       "\u001b[2;32m│   │   │   \u001b[0m\u001b[32m'Q2'\u001b[0m: \u001b[1;36m2.5\u001b[0m,\n",
       "\u001b[2;32m│   │   │   \u001b[0m\u001b[32m'result'\u001b[0m: \u001b[1;36m-0.9959496128078331\u001b[0m,\n",
       "\u001b[2;32m│   │   │   \u001b[0m\u001b[32m'error'\u001b[0m: \u001b[1;36m1.281070214968848e-08\u001b[0m,\n",
       "\u001b[2;32m│   │   │   \u001b[0m\u001b[32m'y'\u001b[0m: \u001b[1;36m0.8240707777909629\u001b[0m\n",
       "\u001b[2;32m│   │   \u001b[0m\u001b[1m}\u001b[0m,\n",
       "\u001b[2;32m│   │   \u001b[0m\u001b[1m{\u001b[0m\n",
       "\u001b[2;32m│   │   │   \u001b[0m\u001b[32m'x'\u001b[0m: \u001b[1;36m7e-05\u001b[0m,\n",
       "\u001b[2;32m│   │   │   \u001b[0m\u001b[32m'Q2'\u001b[0m: \u001b[1;36m2.5\u001b[0m,\n",
       "\u001b[2;32m│   │   │   \u001b[0m\u001b[32m'result'\u001b[0m: \u001b[1;36m-0.7710853256052412\u001b[0m,\n",
       "\u001b[2;32m│   │   │   \u001b[0m\u001b[32m'error'\u001b[0m: \u001b[1;36m2.3298246570353407e-08\u001b[0m,\n",
       "\u001b[2;32m│   │   │   \u001b[0m\u001b[32m'y'\u001b[0m: \u001b[1;36m0.3531731904818413\u001b[0m\n",
       "\u001b[2;32m│   │   \u001b[0m\u001b[1m}\u001b[0m\n",
       "\u001b[2;32m│   \u001b[0m\u001b[1m]\u001b[0m\n",
       "\u001b[1m}\u001b[0m\n"
      ]
     },
     "metadata": {},
     "output_type": "display_data"
    }
   ],
   "source": [
    "pprint(values)"
   ]
  },
  {
   "cell_type": "markdown",
   "id": "519b8537-9c09-4a66-bf44-ff47e1879449",
   "metadata": {},
   "source": [
    "## Dumping (loading) predictions into (from) fast-interpolation grids\n",
    "\n",
    "One of the main advantages of `yadism` is its interface with [PineAPPL](https://github.com/NNPDF/pineappl) - a library providing fast-interpolation grids. This is quite convenient in that one can re-use the same computations without the need to re-run `yadism`.\n",
    "\n",
    "Each observable defined in `observable_card` can be dumped into its own fast-interpolation grid. The steps are as follow:"
   ]
  },
  {
   "cell_type": "code",
   "execution_count": 16,
   "id": "7f914e87-bb05-47c7-a850-11a18e6cfdb5",
   "metadata": {},
   "outputs": [],
   "source": [
    "from yadbox.export import dump_pineappl_to_file\n",
    "\n",
    "# Extract the names of the different observables (in case there are many)\n",
    "list_observables = observable_card['observables'].keys()\n",
    "\n",
    "# Dump each observable into a PineAPPL grid\n",
    "for obs in list_observables:\n",
    "    dump_pineappl_to_file(out, f\"outputgrid_{obs}.pineappl.lz4\", f\"{obs}\")"
   ]
  },
  {
   "cell_type": "markdown",
   "id": "0c887943-be93-4a0f-815b-1317ad04db2c",
   "metadata": {},
   "source": [
    "To load the pre-computed predictions, we need to import the `pineappl` library. `pineappl` is part of the dependency of `yadism` so we don't have to install it."
   ]
  },
  {
   "cell_type": "code",
   "execution_count": 17,
   "id": "ebf75d0e-965a-46b1-a3a3-e20eeb1d5e15",
   "metadata": {},
   "outputs": [],
   "source": [
    "import pineappl\n",
    "\n",
    "# Read the pineappl grid saved earlier\n",
    "grid = pineappl.grid.Grid.read(\"./outputgrid_XSHERANCAVG_charm.pineappl.lz4\")\n",
    "\n",
    "# Convolute the grid with the same PDF as above\n",
    "results = grid.convolute_with_one(2212, pdf.xfxQ2, pdf.alphasQ2)"
   ]
  },
  {
   "cell_type": "code",
   "execution_count": 18,
   "id": "fc268946-3f84-4f63-be98-a899adf9512c",
   "metadata": {},
   "outputs": [
    {
     "data": {
      "text/html": [
       "<pre style=\"white-space:pre;overflow-x:auto;line-height:normal;font-family:Menlo,'DejaVu Sans Mono',consolas,'Courier New',monospace\"><span style=\"color: #800080; text-decoration-color: #800080; font-weight: bold\">array</span><span style=\"font-weight: bold\">([</span><span style=\"color: #008080; text-decoration-color: #008080; font-weight: bold\">-0.98699882</span>, <span style=\"color: #008080; text-decoration-color: #008080; font-weight: bold\">-0.7640712</span> <span style=\"font-weight: bold\">])</span>\n",
       "</pre>\n"
      ],
      "text/plain": [
       "\u001b[1;35marray\u001b[0m\u001b[1m(\u001b[0m\u001b[1m[\u001b[0m\u001b[1;36m-0.98699882\u001b[0m, \u001b[1;36m-0.7640712\u001b[0m \u001b[1m]\u001b[0m\u001b[1m)\u001b[0m\n"
      ]
     },
     "metadata": {},
     "output_type": "display_data"
    }
   ],
   "source": [
    "pprint(results)"
   ]
  }
 ],
 "metadata": {
  "kernelspec": {
   "display_name": "yadism",
   "language": "python",
   "name": "yadism"
  },
  "language_info": {
   "codemirror_mode": {
    "name": "ipython",
    "version": 3
   },
   "file_extension": ".py",
   "mimetype": "text/x-python",
   "name": "python",
   "nbconvert_exporter": "python",
   "pygments_lexer": "ipython3",
   "version": "3.10.13"
  }
 },
 "nbformat": 4,
 "nbformat_minor": 5
}
