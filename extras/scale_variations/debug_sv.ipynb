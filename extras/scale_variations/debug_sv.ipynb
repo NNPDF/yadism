{
 "cells": [
  {
   "cell_type": "markdown",
   "id": "eb34bded-7b3a-4442-bd6c-6cf48c49b92b",
   "metadata": {},
   "source": [
    "# Scale Variations Investigations"
   ]
  },
  {
   "cell_type": "markdown",
   "id": "a7c2eb94-8892-480b-b898-a96aa49b77ec",
   "metadata": {},
   "source": [
    "## Some theory first"
   ]
  },
  {
   "cell_type": "markdown",
   "id": "406cd10f-d3f4-4502-a83b-291b18498572",
   "metadata": {},
   "source": [
    "Let's recap: to interpolate we need only need the list of x-points $\\mathbb G = \\{x_j\\}$ if we assume logarithmic interpolation by default, and, by default polynomial degree 4. Especially the interpolation polynomials $p_j(x)$ are uniquely defined by this. The full spell-out on the procedure is in the eko docs. Instead, let's turn our attention to the actual interpolation procedure."
   ]
  },
  {
   "cell_type": "markdown",
   "id": "d73b0153-17cf-4751-b74a-0d300ca4829f",
   "metadata": {},
   "source": [
    "First, I will introduce a more formal notation (that maybe we should inherit in the docs). The notation will consist in putting consistent indices whose order and position (up or down) matters.\n",
    "- given a sufficiently well-behaved function $f : [0,1] \\to \\mathbb R : x\\to f(x)$, I define $f_j = f(x_j)$, i.e. the explicit evaluation of the function $f(x)$ at an interpolation point $x_j$. As for the grid I use the notation $\\{f_j\\}$ to refer to all points as a set.\n",
    "- given a sufficiently well-behaved function $f : [0,1] \\to \\mathbb R : x\\to f(x)$, I define a new function $f^j : [0,1] \\to \\mathbb R : x\\to f^j(x) = (f \\otimes p_j)(x)$, i.e. the multiplicative convolution of $f$ with the interpolation polynomials $p_j$.\n",
    "- The interpolation polynomials $p$ themselves are an exception to those definitions and I will continue to use them with a lower index, but refer to the ordinary function as defined above.\n",
    "- I define the \"identity function\" $e : [0,1] \\to \\mathbb R : x\\to e(x) = \\delta(1-x)$, and we find $e^j(x) = p_j(x)$. Moreover, we have ${e^j}_k = (e^j)_k = \\delta_{jk}$ with $\\delta_{jk}$ the usual Kronecker delta due to the properties of the interpolation construction.\n",
    "\n",
    "Now, we can write down the interpolation of a sufficiently well-behaved function $f : [0,1] \\to \\mathbb R : x\\to f(x)$:\n",
    "$$ f(x) \\sim \\bar f(x) = f_j e^j(x) $$\n",
    "using Einstein summming convention as usual (Note that as in general relativity, there is an exact match between an upper and a lower index). Note that $\\bar f$ can appoximate $f$ only where there points in $\\mathbb G$ and since $\\mathbb G$ is finite (by construction) we loose some information in the small-x regime."
   ]
  },
  {
   "cell_type": "markdown",
   "id": "c463eab0-8bad-4092-b423-391365a69014",
   "metadata": {},
   "source": [
    "Next, we can turn to yadism: the DIS cross section $\\sigma(x)$ is given as the multiplicative convolution between a PDF $f(x)$ and a coefficient function $c(z)$:\n",
    "$$ \\sigma(x) = (f \\otimes c)(x) $$\n",
    "Here and in the following we neglect any additional parameters the functions may cary, such as scales.\n",
    "\n",
    "What we actually do is a interpolated version of the master formula $\\sigma(x) = f_j c^j(x)$, i.e. we compute $c^j(x)$ the convolution of the (analytic) coefficient function $c$ with the interpolation polynomial $e^j$ with respect to the (hadronic) Bjorken-x.\n",
    "\n",
    "How about scale variations, i.e. what if $c$ itself is a convolution? No problem! Given $d = P \\otimes c$ we find\n",
    "$$d^k(x) = (P \\otimes c \\otimes e^k)(x) = (P^k \\otimes c)(x) = {P^k}_j c^j(x) $$\n",
    "where we approximated the well-behaved function $P^k$ with a full set of polynomials. So our strategy of computing all $c^j(x)$ first and then supply them with a convolution matrix for the splitting kernels is good."
   ]
  },
  {
   "cell_type": "markdown",
   "id": "5d66929c-175a-4c0e-9ed2-76f8001776f2",
   "metadata": {},
   "source": [
    "Finally, we can turn to the Mellin transformation: given a sufficiently well-behaved function $f : [0,1] \\to \\mathbb R : x\\to f(x)$, I define\n",
    "$$ \\tilde f(N) = \\mathcal M[f(x)](N) = \\int\\limits_0^1 x^{N-1}f(x)\\,dx $$\n",
    "Note that the Mellin transformation is running over the full domain. The Mellin transformation turns multiplicative convolutions into ordinary products, so, e.g., for the DIS master formula, we find $\\tilde \\sigma(N) = \\tilde f (N) \\cdot \\tilde c(N)$ (where, $\\tilde\\sigma$ contains information about all Bjorken-x). Specifically, using the interpolation language we find $\\tilde g^j(N) = \\tilde g(N) \\tilde e^j(N)$."
   ]
  },
  {
   "cell_type": "markdown",
   "id": "0b41b243-51ce-4c5a-a34b-fe6aca464d80",
   "metadata": {},
   "source": [
    "## What happens in practice"
   ]
  },
  {
   "cell_type": "markdown",
   "id": "06f85cbc-cf55-4194-a4c4-9858faac0c97",
   "metadata": {},
   "source": [
    "let's prepare a yadism run - we use the simplest options:\n",
    "- we compute only F2_light\n",
    "- we use NLO\n",
    "- we use FFNS4\n",
    "- we only allow photon exchange"
   ]
  },
  {
   "cell_type": "code",
   "execution_count": 1,
   "id": "6fa001a5-30fe-4e01-ab65-7f4dfa7ef4ec",
   "metadata": {},
   "outputs": [
    {
     "data": {
      "text/html": [
       "<pre style=\"white-space:pre;overflow-x:auto;line-height:normal;font-family:Menlo,'DejaVu Sans Mono',consolas,'Courier New',monospace\">                                      <span style=\"color: #800080; text-decoration-color: #800080\">┌────────────────────────────────────┐</span>                                       \n",
       "                                      <span style=\"color: #800080; text-decoration-color: #800080\">│                                    │</span>                                       \n",
       "                                      <span style=\"color: #800080; text-decoration-color: #800080\">│ __     __       _ _                │</span>                                       \n",
       "                                      <span style=\"color: #800080; text-decoration-color: #800080\">│ \\ \\   / /      | (_)               │</span>                                       \n",
       "                                      <span style=\"color: #800080; text-decoration-color: #800080\">│  \\ \\_/ /_ _  __| |_ ___ _ __ ___   │</span>                                       \n",
       "                                      <span style=\"color: #800080; text-decoration-color: #800080\">│   \\   / _` |/ _` | / __| '_ ` _ \\  │</span>                                       \n",
       "                                      <span style=\"color: #800080; text-decoration-color: #800080\">│    | | (_| | (_| | \\__ \\ | | | | | │</span>                                       \n",
       "                                      <span style=\"color: #800080; text-decoration-color: #800080\">│    |_|\\__,_|\\__,_|_|___/_| |_| |_| │</span>                                       \n",
       "                                      <span style=\"color: #800080; text-decoration-color: #800080\">│                                    │</span>                                       \n",
       "                                      <span style=\"color: #800080; text-decoration-color: #800080\">└────────────────────────────────────┘</span>                                       \n",
       "</pre>\n"
      ],
      "text/plain": [
       "                                      \u001b[35m┌────────────────────────────────────┐\u001b[0m                                       \n",
       "                                      \u001b[35m│\u001b[0m\u001b[35m                                    \u001b[0m\u001b[35m│\u001b[0m                                       \n",
       "                                      \u001b[35m│\u001b[0m\u001b[35m \u001b[0m\u001b[35m__     __       _ _\u001b[0m\u001b[35m               \u001b[0m\u001b[35m \u001b[0m\u001b[35m│\u001b[0m                                       \n",
       "                                      \u001b[35m│\u001b[0m\u001b[35m \u001b[0m\u001b[35m\\ \\   / /      | (_)\u001b[0m\u001b[35m              \u001b[0m\u001b[35m \u001b[0m\u001b[35m│\u001b[0m                                       \n",
       "                                      \u001b[35m│\u001b[0m\u001b[35m \u001b[0m\u001b[35m \\ \\_/ /_ _  __| |_ ___ _ __ ___\u001b[0m\u001b[35m  \u001b[0m\u001b[35m \u001b[0m\u001b[35m│\u001b[0m                                       \n",
       "                                      \u001b[35m│\u001b[0m\u001b[35m \u001b[0m\u001b[35m  \\   / _` |/ _` | / __| '_ ` _ \\\u001b[0m\u001b[35m \u001b[0m\u001b[35m \u001b[0m\u001b[35m│\u001b[0m                                       \n",
       "                                      \u001b[35m│\u001b[0m\u001b[35m \u001b[0m\u001b[35m   | | (_| | (_| | \\__ \\ | | | | |\u001b[0m\u001b[35m \u001b[0m\u001b[35m│\u001b[0m                                       \n",
       "                                      \u001b[35m│\u001b[0m\u001b[35m \u001b[0m\u001b[35m   |_|\\__,_|\\__,_|_|___/_| |_| |_|\u001b[0m\u001b[35m \u001b[0m\u001b[35m│\u001b[0m                                       \n",
       "                                      \u001b[35m│\u001b[0m\u001b[35m                                    \u001b[0m\u001b[35m│\u001b[0m                                       \n",
       "                                      \u001b[35m└────────────────────────────────────┘\u001b[0m                                       \n"
      ]
     },
     "metadata": {},
     "output_type": "display_data"
    },
    {
     "data": {
      "text/html": [
       "<pre style=\"white-space:pre;overflow-x:auto;line-height:normal;font-family:Menlo,'DejaVu Sans Mono',consolas,'Courier New',monospace\">\n",
       "                                                       <span style=\"font-weight: bold; text-decoration: underline\">Plan</span>                                                        \n",
       "</pre>\n"
      ],
      "text/plain": [
       "\n",
       "                                                       \u001b[1;4mPlan\u001b[0m                                                        \n"
      ]
     },
     "metadata": {},
     "output_type": "display_data"
    },
    {
     "data": {
      "text/html": [
       "<pre style=\"white-space:pre;overflow-x:auto;line-height:normal;font-family:Menlo,'DejaVu Sans Mono',consolas,'Courier New',monospace\">\n",
       "<span style=\"color: #808000; text-decoration-color: #808000; font-weight: bold\"> • </span>F2_light at 100 pts                                                                                             \n",
       "</pre>\n"
      ],
      "text/plain": [
       "\n",
       "\u001b[1;33m • \u001b[0mF2_light at 100 pts                                                                                             \n"
      ]
     },
     "metadata": {},
     "output_type": "display_data"
    },
    {
     "data": {
      "text/html": [
       "<pre style=\"white-space:pre;overflow-x:auto;line-height:normal;font-family:Menlo,'DejaVu Sans Mono',consolas,'Courier New',monospace\">\n",
       "                                                    <span style=\"font-weight: bold; text-decoration: underline\">Calculation</span>                                                    \n",
       "</pre>\n"
      ],
      "text/plain": [
       "\n",
       "                                                    \u001b[1;4mCalculation\u001b[0m                                                    \n"
      ]
     },
     "metadata": {},
     "output_type": "display_data"
    },
    {
     "data": {
      "text/html": [
       "<pre style=\"white-space:pre;overflow-x:auto;line-height:normal;font-family:Menlo,'DejaVu Sans Mono',consolas,'Courier New',monospace\">yadism took off! please stay tuned <span style=\"color: #808000; text-decoration-color: #808000\">...</span>\n",
       "</pre>\n"
      ],
      "text/plain": [
       "yadism took off! please stay tuned \u001b[33m...\u001b[0m\n"
      ]
     },
     "metadata": {},
     "output_type": "display_data"
    },
    {
     "data": {
      "text/html": [
       "<pre style=\"white-space:pre;overflow-x:auto;line-height:normal;font-family:Menlo,'DejaVu Sans Mono',consolas,'Courier New',monospace\">/home/felix/.cache/pypoetry/virtualenvs/yadism-QljnF84o-py3.10/lib/python3.10/site-packages/rich/live.py:229: \n",
       "UserWarning: install \"ipywidgets\" for Jupyter support\n",
       "  warnings.warn('install \"ipywidgets\" for Jupyter support')\n",
       "</pre>\n"
      ],
      "text/plain": [
       "/home/felix/.cache/pypoetry/virtualenvs/yadism-QljnF84o-py3.10/lib/python3.10/site-packages/rich/live.py:229: \n",
       "UserWarning: install \"ipywidgets\" for Jupyter support\n",
       "  warnings.warn('install \"ipywidgets\" for Jupyter support')\n"
      ]
     },
     "metadata": {},
     "output_type": "display_data"
    },
    {
     "data": {
      "text/html": [
       "<pre style=\"white-space:pre;overflow-x:auto;line-height:normal;font-family:Menlo,'DejaVu Sans Mono',consolas,'Courier New',monospace\">/home/felix/Physik/N3PDF/DIS/yadism/src/yadism/esf/conv.py:152: IntegrationWarning: The algorithm does not \n",
       "converge.  Roundoff error is detected\n",
       "  in the extrapolation table.  It is assumed that the requested tolerance\n",
       "  cannot be achieved, and that the returned result (if full_output = 1) is \n",
       "  the best which can be obtained.\n",
       "  res, err = scipy.integrate.quad(\n",
       "</pre>\n"
      ],
      "text/plain": [
       "/home/felix/Physik/N3PDF/DIS/yadism/src/yadism/esf/conv.py:152: IntegrationWarning: The algorithm does not \n",
       "converge.  Roundoff error is detected\n",
       "  in the extrapolation table.  It is assumed that the requested tolerance\n",
       "  cannot be achieved, and that the returned result (if full_output = 1) is \n",
       "  the best which can be obtained.\n",
       "  res, err = scipy.integrate.quad(\n"
      ]
     },
     "metadata": {},
     "output_type": "display_data"
    },
    {
     "data": {
      "text/html": [
       "<pre style=\"white-space:pre;overflow-x:auto;line-height:normal;font-family:Menlo,'DejaVu Sans Mono',consolas,'Courier New',monospace\">/home/felix/Physik/N3PDF/DIS/yadism/src/yadism/esf/conv.py:152: IntegrationWarning: The maximum number of \n",
       "subdivisions (50) has been achieved.\n",
       "  If increasing the limit yields no improvement it is advised to analyze \n",
       "  the integrand in order to determine the difficulties.  If the position of a \n",
       "  local difficulty can be determined (singularity, discontinuity) one will \n",
       "  probably gain from splitting up the interval and calling the integrator \n",
       "  on the subranges.  Perhaps a special-purpose integrator should be used.\n",
       "  res, err = scipy.integrate.quad(\n",
       "</pre>\n"
      ],
      "text/plain": [
       "/home/felix/Physik/N3PDF/DIS/yadism/src/yadism/esf/conv.py:152: IntegrationWarning: The maximum number of \n",
       "subdivisions (50) has been achieved.\n",
       "  If increasing the limit yields no improvement it is advised to analyze \n",
       "  the integrand in order to determine the difficulties.  If the position of a \n",
       "  local difficulty can be determined (singularity, discontinuity) one will \n",
       "  probably gain from splitting up the interval and calling the integrator \n",
       "  on the subranges.  Perhaps a special-purpose integrator should be used.\n",
       "  res, err = scipy.integrate.quad(\n"
      ]
     },
     "metadata": {},
     "output_type": "display_data"
    },
    {
     "data": {
      "text/html": [
       "<pre style=\"white-space:pre;overflow-x:auto;line-height:normal;font-family:Menlo,'DejaVu Sans Mono',consolas,'Courier New',monospace\">/home/felix/Physik/N3PDF/DIS/yadism/src/yadism/esf/conv.py:152: IntegrationWarning: The occurrence of roundoff \n",
       "error is detected, which prevents \n",
       "  the requested tolerance from being achieved.  The error may be \n",
       "  underestimated.\n",
       "  res, err = scipy.integrate.quad(\n",
       "</pre>\n"
      ],
      "text/plain": [
       "/home/felix/Physik/N3PDF/DIS/yadism/src/yadism/esf/conv.py:152: IntegrationWarning: The occurrence of roundoff \n",
       "error is detected, which prevents \n",
       "  the requested tolerance from being achieved.  The error may be \n",
       "  underestimated.\n",
       "  res, err = scipy.integrate.quad(\n"
      ]
     },
     "metadata": {},
     "output_type": "display_data"
    },
    {
     "data": {
      "text/html": [
       "<pre style=\"white-space:pre;overflow-x:auto;line-height:normal;font-family:Menlo,'DejaVu Sans Mono',consolas,'Courier New',monospace\"><span style=\"color: #7fbfbf; text-decoration-color: #7fbfbf\">[18:25:18] </span><span style=\"color: #000080; text-decoration-color: #000080\">INFO    </span> computing P_qq_0 - took: <span style=\"color: #008080; text-decoration-color: #008080; font-weight: bold\">1.293660</span> s                                      <a href=\"file:///home/felix/Physik/N3PDF/DIS/yadism/src/yadism/esf/scale_variations.py\" target=\"_blank\"><span style=\"color: #7f7f7f; text-decoration-color: #7f7f7f\">scale_variations.py</span></a><span style=\"color: #7f7f7f; text-decoration-color: #7f7f7f\">:</span><a href=\"file:///home/felix/Physik/N3PDF/DIS/yadism/src/yadism/esf/scale_variations.py#80\" target=\"_blank\"><span style=\"color: #7f7f7f; text-decoration-color: #7f7f7f\">80</span></a>\n",
       "</pre>\n"
      ],
      "text/plain": [
       "\u001b[2;36m[18:25:18]\u001b[0m\u001b[2;36m \u001b[0m\u001b[34mINFO    \u001b[0m computing P_qq_0 - took: \u001b[1;36m1.293660\u001b[0m s                                      \u001b]8;id=476814;file:///home/felix/Physik/N3PDF/DIS/yadism/src/yadism/esf/scale_variations.py\u001b\\\u001b[2mscale_variations.py\u001b[0m\u001b]8;;\u001b\\\u001b[2m:\u001b[0m\u001b]8;id=558602;file:///home/felix/Physik/N3PDF/DIS/yadism/src/yadism/esf/scale_variations.py#80\u001b\\\u001b[2m80\u001b[0m\u001b]8;;\u001b\\\n"
      ]
     },
     "metadata": {},
     "output_type": "display_data"
    },
    {
     "data": {
      "text/html": [
       "<pre style=\"white-space:pre;overflow-x:auto;line-height:normal;font-family:Menlo,'DejaVu Sans Mono',consolas,'Courier New',monospace\"><span style=\"color: #7fbfbf; text-decoration-color: #7fbfbf\">[18:25:19] </span><span style=\"color: #000080; text-decoration-color: #000080\">INFO    </span> computing P_qg_0 - took: <span style=\"color: #008080; text-decoration-color: #008080; font-weight: bold\">0.868544</span> s                                      <a href=\"file:///home/felix/Physik/N3PDF/DIS/yadism/src/yadism/esf/scale_variations.py\" target=\"_blank\"><span style=\"color: #7f7f7f; text-decoration-color: #7f7f7f\">scale_variations.py</span></a><span style=\"color: #7f7f7f; text-decoration-color: #7f7f7f\">:</span><a href=\"file:///home/felix/Physik/N3PDF/DIS/yadism/src/yadism/esf/scale_variations.py#80\" target=\"_blank\"><span style=\"color: #7f7f7f; text-decoration-color: #7f7f7f\">80</span></a>\n",
       "</pre>\n"
      ],
      "text/plain": [
       "\u001b[2;36m[18:25:19]\u001b[0m\u001b[2;36m \u001b[0m\u001b[34mINFO    \u001b[0m computing P_qg_0 - took: \u001b[1;36m0.868544\u001b[0m s                                      \u001b]8;id=157869;file:///home/felix/Physik/N3PDF/DIS/yadism/src/yadism/esf/scale_variations.py\u001b\\\u001b[2mscale_variations.py\u001b[0m\u001b]8;;\u001b\\\u001b[2m:\u001b[0m\u001b]8;id=143744;file:///home/felix/Physik/N3PDF/DIS/yadism/src/yadism/esf/scale_variations.py#80\u001b\\\u001b[2m80\u001b[0m\u001b]8;;\u001b\\\n"
      ]
     },
     "metadata": {},
     "output_type": "display_data"
    },
    {
     "data": {
      "text/html": [
       "<pre style=\"white-space:pre;overflow-x:auto;line-height:normal;font-family:Menlo,'DejaVu Sans Mono',consolas,'Courier New',monospace\"></pre>\n"
      ],
      "text/plain": []
     },
     "metadata": {},
     "output_type": "display_data"
    },
    {
     "data": {
      "text/html": [
       "<pre style=\"white-space:pre;overflow-x:auto;line-height:normal;font-family:Menlo,'DejaVu Sans Mono',consolas,'Courier New',monospace\">\n",
       "</pre>\n"
      ],
      "text/plain": [
       "\n"
      ]
     },
     "metadata": {},
     "output_type": "display_data"
    },
    {
     "data": {
      "text/html": [
       "<pre style=\"white-space:pre;overflow-x:auto;line-height:normal;font-family:Menlo,'DejaVu Sans Mono',consolas,'Courier New',monospace\"><span style=\"color: #008080; text-decoration-color: #008080\">took </span><span style=\"color: #008080; text-decoration-color: #008080; font-weight: bold\">13.11</span><span style=\"color: #008080; text-decoration-color: #008080\"> s</span>\n",
       "</pre>\n"
      ],
      "text/plain": [
       "\u001b[36mtook \u001b[0m\u001b[1;36m13.11\u001b[0m\u001b[36m s\u001b[0m\n"
      ]
     },
     "metadata": {},
     "output_type": "display_data"
    }
   ],
   "source": [
    "import yadism\n",
    "import yaml\n",
    "import numpy as np\n",
    "from eko import interpolation\n",
    "\n",
    "t = {'ID': 208,\n",
    " 'PTO': 1,\n",
    " 'FNS': 'FFNS',\n",
    " 'DAMP': 0,\n",
    " 'IC': 1,\n",
    " 'IB': 0,\n",
    " 'ModEv': 'TRN',\n",
    " 'ModSV': 'unvaried',\n",
    " 'XIR': 1.0,\n",
    " 'XIF': 2.0,\n",
    " 'fact_to_ren_scale_ratio': 1.0,\n",
    " 'NfFF': 4,\n",
    " 'MaxNfAs': 5,\n",
    " 'MaxNfPdf': 5,\n",
    " 'Q0': 1.65,\n",
    " 'alphas': 0.118,\n",
    " 'Qref': 91.2,\n",
    " 'nf0': None,\n",
    " 'nfref': None,\n",
    " 'QED': 0,\n",
    " 'alphaqed': 0.007496252,\n",
    " 'Qedref': 1.777,\n",
    " 'SxRes': 0,\n",
    " 'SxOrd': 'LL',\n",
    " 'HQ': 'POLE',\n",
    " 'mc': 1.51,\n",
    " 'Qmc': 1.51,\n",
    " 'kcThr': 1.0,\n",
    " 'mb': 4.92,\n",
    " 'Qmb': 4.92,\n",
    " 'kbThr': 1.0,\n",
    " 'mt': 172.5,\n",
    " 'Qmt': 172.5,\n",
    " 'ktThr': 1.0,\n",
    " 'CKM': '0.97428 0.22530 0.003470 0.22520 0.97345 0.041000 0.00862 0.04030 0.999152',\n",
    " 'MZ': 91.1876,\n",
    " 'MW': 80.398,\n",
    " 'GF': 1.1663787e-05,\n",
    " 'SIN2TW': 0.23126,\n",
    " 'TMC': 0,\n",
    " 'MP': 0.938,\n",
    " 'Comments': 'NNPDF4.0 NLO alphas=0.118',\n",
    " 'global_nx': 0,\n",
    " 'EScaleVar': 1,\n",
    " 'kDIScThr': 1.0,\n",
    " 'kDISbThr': 1.0,\n",
    " 'kDIStThr': 1.0}\n",
    "\n",
    "o = {'PolarizationDIS': 0.0,\n",
    " 'ProjectileDIS': 'electron',\n",
    " 'PropagatorCorrection': 0.0,\n",
    " 'TargetDIS': 'proton',\n",
    " 'interpolation_is_log': True,\n",
    " 'interpolation_polynomial_degree': 4,\n",
    " 'interpolation_xgrid': [1.9999999999999954e-07,\n",
    "  3.034304765867952e-07,\n",
    "  4.6035014748963906e-07,\n",
    "  6.984208530700364e-07,\n",
    "  1.0596094959101024e-06,\n",
    "  1.607585498470808e-06,\n",
    "  2.438943292891682e-06,\n",
    "  3.7002272069854957e-06,\n",
    "  5.613757716930151e-06,\n",
    "  8.516806677573355e-06,\n",
    "  1.292101569074731e-05,\n",
    "  1.9602505002391748e-05,\n",
    "  2.97384953722449e-05,\n",
    "  4.511438394964044e-05,\n",
    "  6.843744918967896e-05,\n",
    "  0.00010381172986576898,\n",
    "  0.00015745605600841445,\n",
    "  0.00023878782918561914,\n",
    "  0.00036205449638139736,\n",
    "  0.0005487795323670796,\n",
    "  0.0008314068836488144,\n",
    "  0.0012586797144272762,\n",
    "  0.0019034634022867384,\n",
    "  0.0028738675812817515,\n",
    "  0.004328500638820811,\n",
    "  0.006496206194633799,\n",
    "  0.009699159574043398,\n",
    "  0.014375068581090129,\n",
    "  0.02108918668378717,\n",
    "  0.030521584007828916,\n",
    "  0.04341491741702269,\n",
    "  0.060480028754447364,\n",
    "  0.08228122126204893,\n",
    "  0.10914375746330703,\n",
    "  0.14112080644440345,\n",
    "  0.17802566042569432,\n",
    "  0.2195041265003886,\n",
    "  0.2651137041582823,\n",
    "  0.31438740076927585,\n",
    "  0.3668753186482242,\n",
    "  0.4221667753589648,\n",
    "  0.4798989029610255,\n",
    "  0.5397572337880445,\n",
    "  0.601472197967335,\n",
    "  0.6648139482473823,\n",
    "  0.7295868442414312,\n",
    "  0.7956242522922756,\n",
    "  0.8627839323906108,\n",
    "  0.9309440808717544,\n",
    "  1],\n",
    " 'observables': {'F2_light': [{'Q2': 300.0, 'x': 1.9999999999999954e-07},\n",
    "   {'Q2': 300.0, 'x': 3.034304765867952e-07},\n",
    "   {'Q2': 300.0, 'x': 4.6035014748963906e-07},\n",
    "   {'Q2': 300.0, 'x': 6.984208530700364e-07},\n",
    "   {'Q2': 300.0, 'x': 1.0596094959101024e-06},\n",
    "   {'Q2': 300.0, 'x': 1.607585498470808e-06},\n",
    "   {'Q2': 300.0, 'x': 2.438943292891682e-06},\n",
    "   {'Q2': 300.0, 'x': 3.7002272069854957e-06},\n",
    "   {'Q2': 300.0, 'x': 5.613757716930151e-06},\n",
    "   {'Q2': 300.0, 'x': 8.516806677573355e-06},\n",
    "   {'Q2': 300.0, 'x': 1.292101569074731e-05},\n",
    "   {'Q2': 300.0, 'x': 1.9602505002391748e-05},\n",
    "   {'Q2': 300.0, 'x': 2.97384953722449e-05},\n",
    "   {'Q2': 300.0, 'x': 4.511438394964044e-05},\n",
    "   {'Q2': 300.0, 'x': 6.843744918967896e-05},\n",
    "   {'Q2': 300.0, 'x': 0.00010381172986576898},\n",
    "   {'Q2': 300.0, 'x': 0.00015745605600841445},\n",
    "   {'Q2': 300.0, 'x': 0.00023878782918561914},\n",
    "   {'Q2': 300.0, 'x': 0.00036205449638139736},\n",
    "   {'Q2': 300.0, 'x': 0.0005487795323670796},\n",
    "   {'Q2': 300.0, 'x': 0.0008314068836488144},\n",
    "   {'Q2': 300.0, 'x': 0.0012586797144272762},\n",
    "   {'Q2': 300.0, 'x': 0.0019034634022867384},\n",
    "   {'Q2': 300.0, 'x': 0.0028738675812817515},\n",
    "   {'Q2': 300.0, 'x': 0.004328500638820811},\n",
    "   {'Q2': 300.0, 'x': 0.006496206194633799},\n",
    "   {'Q2': 300.0, 'x': 0.009699159574043398},\n",
    "   {'Q2': 300.0, 'x': 0.014375068581090129},\n",
    "   {'Q2': 300.0, 'x': 0.02108918668378717},\n",
    "   {'Q2': 300.0, 'x': 0.030521584007828916},\n",
    "   {'Q2': 300.0, 'x': 0.04341491741702269},\n",
    "   {'Q2': 300.0, 'x': 0.060480028754447364},\n",
    "   {'Q2': 300.0, 'x': 0.08228122126204893},\n",
    "   {'Q2': 300.0, 'x': 0.10914375746330703},\n",
    "   {'Q2': 300.0, 'x': 0.14112080644440345},\n",
    "   {'Q2': 300.0, 'x': 0.17802566042569432},\n",
    "   {'Q2': 300.0, 'x': 0.2195041265003886},\n",
    "   {'Q2': 300.0, 'x': 0.2651137041582823},\n",
    "   {'Q2': 300.0, 'x': 0.31438740076927585},\n",
    "   {'Q2': 300.0, 'x': 0.3668753186482242},\n",
    "   {'Q2': 300.0, 'x': 0.4221667753589648},\n",
    "   {'Q2': 300.0, 'x': 0.4798989029610255},\n",
    "   {'Q2': 300.0, 'x': 0.5397572337880445},\n",
    "   {'Q2': 300.0, 'x': 0.601472197967335},\n",
    "   {'Q2': 300.0, 'x': 0.6648139482473823},\n",
    "   {'Q2': 300.0, 'x': 0.7295868442414312},\n",
    "   {'Q2': 300.0, 'x': 0.7956242522922756},\n",
    "   {'Q2': 300.0, 'x': 0.8627839323906108},\n",
    "   {'Q2': 300.0, 'x': 0.9309440808717544},\n",
    "   {'Q2': 300.0, 'x': 1.0}]},\n",
    " 'prDIS': 'EM'}\n",
    "\n",
    "new_xgrid = interpolation.make_lambert_grid(100)\n",
    "#new_xgrid = np.unique(new_xgrid.tolist() + np.geomspace(1e-9,.95e-7,30).tolist())\n",
    "#print(new_xgrid)\n",
    "o[\"interpolation_xgrid\"] = new_xgrid\n",
    "obs = []\n",
    "for x in new_xgrid:\n",
    "    obs.append(dict(Q2=300,x=x))\n",
    "o[\"observables\"][\"F2_light\"] = obs\n",
    "\n",
    "#with open(\"210.yaml\",\"r\") as f: t = yaml.safe_load(f)\n",
    "#with open(\"test.yaml\",\"r\") as f: o = yaml.safe_load(f)\n",
    "#out = yadism.output.Output.load_tar(\"test.tar\")\n",
    "out = yadism.run_yadism(t,o)\n",
    "#out.dump_tar(\"test.tar\")"
   ]
  },
  {
   "cell_type": "code",
   "execution_count": 2,
   "id": "1dd25d9e-f8f7-4882-bdbc-70371e23685c",
   "metadata": {},
   "outputs": [
    {
     "data": {
      "text/plain": [
       "array([1.00000000e-07, 1.23777322e-07, 1.53208250e-07, 1.89637056e-07,\n",
       "       2.34727644e-07, 2.90539545e-07, 3.59621987e-07, 4.45130326e-07,\n",
       "       5.50970170e-07, 6.81975755e-07, 8.44130742e-07, 1.04484150e-06,\n",
       "       1.29327537e-06, 1.60077935e-06, 1.98139827e-06, 2.45251623e-06,\n",
       "       3.03565042e-06, 3.75743368e-06, 4.65083055e-06, 5.75664235e-06,\n",
       "       7.12536982e-06, 8.81951827e-06, 1.09164504e-05, 1.35119161e-05,\n",
       "       1.67244213e-05, 2.07006317e-05, 2.56220600e-05, 3.17133376e-05,\n",
       "       3.92524449e-05, 4.85833641e-05, 6.01317219e-05, 7.44241251e-05,\n",
       "       9.21120531e-05, 1.14001368e-04, 1.41088747e-04, 1.74606629e-04,\n",
       "       2.16078624e-04, 2.67387760e-04, 3.30860428e-04, 4.09369497e-04,\n",
       "       5.06460736e-04, 6.26507446e-04, 7.74899074e-04, 9.58270435e-04,\n",
       "       1.18477905e-03, 1.46443879e-03, 1.80951850e-03, 2.23501380e-03,\n",
       "       2.75919941e-03, 3.40426592e-03, 4.19704014e-03, 5.16977903e-03,\n",
       "       6.36101441e-03, 7.81640704e-03, 9.58954456e-03, 1.17425884e-02,\n",
       "       1.43466445e-02, 1.74817045e-02, 2.12359930e-02, 2.57045685e-02,\n",
       "       3.09870781e-02, 3.71846649e-02, 4.43961629e-02, 5.27138697e-02,\n",
       "       6.22193144e-02, 7.29795030e-02, 8.50440871e-02, 9.84437666e-02,\n",
       "       1.13190043e-01, 1.29276224e-01, 1.46679429e-01, 1.65363238e-01,\n",
       "       1.85280634e-01, 2.06376927e-01, 2.28592449e-01, 2.51864870e-01,\n",
       "       2.76131088e-01, 3.01328706e-01, 3.27397104e-01, 3.54278194e-01,\n",
       "       3.81916897e-01, 4.10261413e-01, 4.39263328e-01, 4.68877607e-01,\n",
       "       4.99062508e-01, 5.29779442e-01, 5.60992801e-01, 5.92669763e-01,\n",
       "       6.24780102e-01, 6.57295985e-01, 6.90191787e-01, 7.23443906e-01,\n",
       "       7.57030593e-01, 7.90931797e-01, 8.25129013e-01, 8.59605151e-01,\n",
       "       8.94344411e-01, 9.29332172e-01, 9.64554889e-01, 1.00000000e+00])"
      ]
     },
     "execution_count": 2,
     "metadata": {},
     "output_type": "execute_result"
    }
   ],
   "source": [
    "new_xgrid"
   ]
  },
  {
   "cell_type": "code",
   "execution_count": 3,
   "id": "bba91c64-21b9-4b0e-831e-7ce4762f6060",
   "metadata": {},
   "outputs": [
    {
     "data": {
      "text/html": [
       "<pre style=\"white-space:pre;overflow-x:auto;line-height:normal;font-family:Menlo,'DejaVu Sans Mono',consolas,'Courier New',monospace\"><span style=\"color: #7fbfbf; text-decoration-color: #7fbfbf\">[18:25:30] </span><span style=\"color: #000080; text-decoration-color: #000080\">INFO    </span> Interpolation: number of points = <span style=\"color: #008080; text-decoration-color: #008080; font-weight: bold\">100</span>, polynomial degree = <span style=\"color: #008080; text-decoration-color: #008080; font-weight: bold\">4</span>, logarithmic  <a href=\"file:///home/felix/.cache/pypoetry/virtualenvs/yadism-QljnF84o-py3.10/lib/python3.10/site-packages/eko/interpolation.py\" target=\"_blank\"><span style=\"color: #7f7f7f; text-decoration-color: #7f7f7f\">interpolation.py</span></a><span style=\"color: #7f7f7f; text-decoration-color: #7f7f7f\">:</span><a href=\"file:///home/felix/.cache/pypoetry/virtualenvs/yadism-QljnF84o-py3.10/lib/python3.10/site-packages/eko/interpolation.py#469\" target=\"_blank\"><span style=\"color: #7f7f7f; text-decoration-color: #7f7f7f\">469</span></a>\n",
       "<span style=\"color: #7fbfbf; text-decoration-color: #7fbfbf\">           </span>         = <span style=\"color: #00ff00; text-decoration-color: #00ff00; font-style: italic\">True</span>                                                                     <span style=\"color: #7f7f7f; text-decoration-color: #7f7f7f\">                    </span>\n",
       "</pre>\n"
      ],
      "text/plain": [
       "\u001b[2;36m[18:25:30]\u001b[0m\u001b[2;36m \u001b[0m\u001b[34mINFO    \u001b[0m Interpolation: number of points = \u001b[1;36m100\u001b[0m, polynomial degree = \u001b[1;36m4\u001b[0m, logarithmic  \u001b]8;id=825410;file:///home/felix/.cache/pypoetry/virtualenvs/yadism-QljnF84o-py3.10/lib/python3.10/site-packages/eko/interpolation.py\u001b\\\u001b[2minterpolation.py\u001b[0m\u001b]8;;\u001b\\\u001b[2m:\u001b[0m\u001b]8;id=56928;file:///home/felix/.cache/pypoetry/virtualenvs/yadism-QljnF84o-py3.10/lib/python3.10/site-packages/eko/interpolation.py#469\u001b\\\u001b[2m469\u001b[0m\u001b]8;;\u001b\\\n",
       "\u001b[2;36m           \u001b[0m         = \u001b[3;92mTrue\u001b[0m                                                                     \u001b[2m                    \u001b[0m\n"
      ]
     },
     "metadata": {},
     "output_type": "display_data"
    }
   ],
   "source": [
    "# let's prepare the mellin transformation\n",
    "from eko.interpolation import InterpolatorDispatcher\n",
    "from eko.anomalous_dimensions import as1\n",
    "from eko.harmonics import S1\n",
    "\n",
    "xgrid = out[\"interpolation_xgrid\"]\n",
    "\n",
    "# from scipy.integrate import quad\n",
    "# from scipy.interpolate import interp1d\n",
    "# def mel(y, n):\n",
    "#     xs = out[\"interpolation_xgrid\"]\n",
    "#     f = interp1d(xs, y)\n",
    "#     return quad(lambda x: x ** (n - 1.0) * f(x), min(xs), 1.0)\n",
    "\n",
    "interp = InterpolatorDispatcher.from_dict(out)\n",
    "def mel2(ys, n):\n",
    "    lnxmin = np.log(xgrid[0])\n",
    "    res = 0.\n",
    "    for y, bf in zip(ys, interp):\n",
    "        pj = bf(n, lnxmin) * np.exp(n * lnxmin) # remember we need to counteract the x^(-N)\n",
    "        res += y * pj\n",
    "    return res"
   ]
  },
  {
   "cell_type": "code",
   "execution_count": 4,
   "id": "c93e1d6f-d14b-4fdf-8e68-0f2b5eebfff9",
   "metadata": {},
   "outputs": [],
   "source": [
    "# let's extract some elements from the operator!\n",
    "# - j refers to the ESF, that is to Bjorken-x\n",
    "# - the index for orders is the usual PineAPPL order \n",
    "# - the 0 thereafter refers to the operator (instead of the error)\n",
    "# - next is the flavor index, where we sort antitop,...,antidown, gluon, down, ... top\n",
    "#   so charm is -3 and gluon 7\n",
    "# - finally I'm selecting a single basis function\n",
    "locbf10 = [out[\"F2_light\"][j].orders[(0,0,0,0)][0][-3][10] for j in range(len(xgrid))]\n",
    "pqqcbf10 = [out[\"F2_light\"][j].orders[(1,0,0,1)][0][-3][10] for j in range(len(xgrid))]\n",
    "pgqgbf10 = [out[\"F2_light\"][j].orders[(1,0,0,1)][0][7][10] for j in range(len(xgrid))]\n",
    "locbf20 = [out[\"F2_light\"][j].orders[(0,0,0,0)][0][-3][20] for j in range(len(xgrid))]\n",
    "pqqcbf20 = [out[\"F2_light\"][j].orders[(1,0,0,1)][0][-3][20] for j in range(len(xgrid))]\n",
    "pgqgbf20 = [out[\"F2_light\"][j].orders[(1,0,0,1)][0][7][20] for j in range(len(xgrid))]"
   ]
  },
  {
   "cell_type": "code",
   "execution_count": 5,
   "id": "b2bd24e6-86d2-4f55-a14e-4bdb41b0791f",
   "metadata": {},
   "outputs": [],
   "source": [
    "# next, we can compute some Mellin trafos: I choosen (almost) at random the integers from N=1..10\n",
    "# first the polynomials, which we can select with a sufficiently good \"delta function\"\n",
    "mel2bf10 = np.array([mel2([0]*10 + [1] + [0]*39,n) for n in range(1,10)])\n",
    "mel2bf20 = np.array([mel2([0]*20 + [1] + [0]*29,n) for n in range(1,10)])\n",
    "# then all the elements\n",
    "mel2lobf10 = np.array([mel2(locbf10,n) for n in range(1,10)])\n",
    "mel2pqqcbf10 = np.array([mel2(pqqcbf10,n) for n in range(1,10)])\n",
    "mel2pgqgbf10 = np.array([mel2(pgqgbf10,n) for n in range(1,10)])\n",
    "mel2lobf20 = np.array([mel2(locbf20,n) for n in range(1,10)])\n",
    "mel2pqqcbf20 = np.array([mel2(pqqcbf20,n) for n in range(1,10)])\n",
    "mel2pgqgbf20 = np.array([mel2(pgqgbf20,n) for n in range(1,10)])\n",
    "# finally, some anomalous dimensions\n",
    "gns = np.array([as1.gamma_ns(n, S1(n)) for n in range(1, 10)])\n",
    "gqg = np.array([as1.gamma_qg(n,4) for n in range(1, 10)])"
   ]
  },
  {
   "cell_type": "markdown",
   "id": "f559df51-2e68-4427-b01c-e77a167a7de3",
   "metadata": {},
   "source": [
    "### Leading order"
   ]
  },
  {
   "cell_type": "markdown",
   "id": "d1127aba-578a-444f-b8b1-a415b6728c5c",
   "metadata": {},
   "source": [
    "Now, we can check leading order where we have $c(z) = e_q^2 e(z)$ and for charm (i.e. an uplike quark), we have $e_q^2 = 4/9$.\n",
    "\n",
    "Let's recall we compute $c^j(x)$, so, e.g., we have $c^{10}(x) = {c^{10}}_j e^j(x)$ with `locbf10` = $\\{{c^{10}}_j\\}$, and so $\\tilde c^{10}(N) = {c^{10}}_j \\tilde e^j(N)$. Ultimatively we have $c^{10}(x) = 4/9{e^{10}}_j e^j(x) = 4/9 e^{10}(x)$ and so $\\tilde c^{10}(N)/\\tilde e^{10}(N) = 4/9$.\n",
    "\n",
    "I'm already failing to find this! I have an additional division by $x_j$:"
   ]
  },
  {
   "cell_type": "code",
   "execution_count": 6,
   "id": "9713b3c5-886b-4e88-b95b-c210f58688da",
   "metadata": {},
   "outputs": [
    {
     "data": {
      "text/plain": [
       "100"
      ]
     },
     "execution_count": 6,
     "metadata": {},
     "output_type": "execute_result"
    }
   ],
   "source": [
    "len(locbf10)"
   ]
  },
  {
   "cell_type": "code",
   "execution_count": 7,
   "id": "c0f02098-0958-462f-b1bb-0d8388a91d77",
   "metadata": {},
   "outputs": [
    {
     "data": {
      "text/plain": [
       "array([0.44444444, 0.44444444, 0.44444444, 0.44444444, 0.44444444,\n",
       "       0.44444444, 0.44444444, 0.44444444, 0.44444444])"
      ]
     },
     "execution_count": 7,
     "metadata": {},
     "output_type": "execute_result"
    }
   ],
   "source": [
    "mel2lobf10/mel2bf10/xgrid[10]"
   ]
  },
  {
   "cell_type": "code",
   "execution_count": 8,
   "id": "68ecc2c8-969c-463c-bfa4-8c2df2520ade",
   "metadata": {},
   "outputs": [
    {
     "data": {
      "text/plain": [
       "array([0.44444444, 0.44444444, 0.44444444, 0.44444444, 0.44444444,\n",
       "       0.44444444, 0.44444444, 0.44444444, 0.44444444])"
      ]
     },
     "execution_count": 8,
     "metadata": {},
     "output_type": "execute_result"
    }
   ],
   "source": [
    "mel2lobf20/mel2bf20/xgrid[20]"
   ]
  },
  {
   "cell_type": "markdown",
   "id": "9327c095-5ab8-408d-988e-febb29eb90d2",
   "metadata": {},
   "source": [
    "### Pqq and Pqg"
   ]
  },
  {
   "cell_type": "markdown",
   "id": "168e82cc-14ad-40a9-9842-6a1405001682",
   "metadata": {},
   "source": [
    "Since LO is so simple we should also be able to predict the scale variation coming with $P_{qq}$ (and also with $P_{gq}$).\n",
    "We have $c^j(x)=e_q^2 {P_{\\text{ns}}}^j(x)$ and so $\\tilde c^{10}(N) = 4/9 \\tilde P_{\\text{ns}}(N) \\tilde e^{10}(N)$.\n",
    "\n",
    "And here I have immediately another problem: I can not seperate the $4/9$ at $N=1$, because $P_{\\text{ns}}(N=1)=0$!"
   ]
  },
  {
   "cell_type": "code",
   "execution_count": 9,
   "id": "d7be2cdc-8088-41ea-a98d-02107d0f3806",
   "metadata": {},
   "outputs": [
    {
     "data": {
      "text/plain": [
       "array([-1.12814863, -2.47125605, -3.11549638, -3.6320239 , -4.08070734,\n",
       "       -4.49707905, -4.90742212, -5.33424218, -5.79907995])"
      ]
     },
     "execution_count": 9,
     "metadata": {},
     "output_type": "execute_result"
    }
   ],
   "source": [
    "mel2pqqcbf10/mel2bf10/xgrid[10]"
   ]
  },
  {
   "cell_type": "code",
   "execution_count": 10,
   "id": "9c2d283f-3804-46ba-b0ad-11f6d4669df9",
   "metadata": {},
   "outputs": [
    {
     "data": {
      "text/plain": [
       "array([ 1.84214783e-15+0.j, -1.58024691e+00+0.j, -2.46913580e+00+0.j,\n",
       "       -3.10123457e+00+0.j, -3.59506173e+00+0.j, -4.00141093e+00+0.j,\n",
       "       -4.34708995e+00+0.j, -4.64808936e+00+0.j, -4.91475603e+00+0.j])"
      ]
     },
     "execution_count": 10,
     "metadata": {},
     "output_type": "execute_result"
    }
   ],
   "source": [
    "-4/9*gns"
   ]
  },
  {
   "cell_type": "code",
   "execution_count": 11,
   "id": "c8597a64-e5ff-4159-b1ad-9555b087041a",
   "metadata": {},
   "outputs": [
    {
     "data": {
      "text/plain": [
       "array([-6.12409389e+14+0.j,  1.56384172e+00-0.j,  1.26177603e+00-0.j,\n",
       "        1.17115420e+00-0.j,  1.13508686e+00-0.j,  1.12387334e+00-0.j,\n",
       "        1.12889822e+00-0.j,  1.14762040e+00-0.j,  1.17993242e+00-0.j])"
      ]
     },
     "execution_count": 11,
     "metadata": {},
     "output_type": "execute_result"
    }
   ],
   "source": [
    "mel2pqqcbf10/mel2bf10/xgrid[10]/(-4/9*gns)"
   ]
  },
  {
   "cell_type": "code",
   "execution_count": 12,
   "id": "7e789821-e2b8-457b-b5f2-0a6089ca07dc",
   "metadata": {},
   "outputs": [
    {
     "data": {
      "text/plain": [
       "array([0.79695075, 0.51847739, 0.40638323, 0.33616894, 0.28603671,\n",
       "       0.24674108, 0.2133791 , 0.18288439, 0.15304283])"
      ]
     },
     "execution_count": 12,
     "metadata": {},
     "output_type": "execute_result"
    }
   ],
   "source": [
    "mel2pgqgbf10/mel2bf10/xgrid[10]"
   ]
  },
  {
   "cell_type": "code",
   "execution_count": 13,
   "id": "be6caca7-931c-4a54-81eb-f2eab69861ab",
   "metadata": {},
   "outputs": [
    {
     "data": {
      "text/plain": [
       "array([2.37037037, 1.18518519, 0.82962963, 0.65185185, 0.54179894,\n",
       "       0.46560847, 0.40917108, 0.3654321 , 0.33041526])"
      ]
     },
     "execution_count": 13,
     "metadata": {},
     "output_type": "execute_result"
    }
   ],
   "source": [
    "-4/9*gqg"
   ]
  },
  {
   "cell_type": "code",
   "execution_count": 14,
   "id": "326df7fe-ee16-4cfd-9fc8-4042fb18a4dd",
   "metadata": {},
   "outputs": [
    {
     "data": {
      "text/plain": [
       "array([0.67242719, 0.87493059, 0.97967386, 1.03142744, 1.05587771,\n",
       "       1.05986509, 1.04298231, 1.00092135, 0.92636661])"
      ]
     },
     "execution_count": 14,
     "metadata": {},
     "output_type": "execute_result"
    }
   ],
   "source": [
    "mel2pgqgbf10/mel2bf10/xgrid[10]/(-4/9*gqg/2)"
   ]
  },
  {
   "cell_type": "code",
   "execution_count": null,
   "id": "6634b2d5-dfd4-4e6d-a8cf-4360a4483864",
   "metadata": {},
   "outputs": [],
   "source": []
  }
 ],
 "metadata": {
  "kernelspec": {
   "display_name": "yadism-QljnF84o-py3.10",
   "language": "python",
   "name": "yadism-qljnf84o-py3.10"
  },
  "language_info": {
   "codemirror_mode": {
    "name": "ipython",
    "version": 3
   },
   "file_extension": ".py",
   "mimetype": "text/x-python",
   "name": "python",
   "nbconvert_exporter": "python",
   "pygments_lexer": "ipython3",
   "version": "3.10.6"
  }
 },
 "nbformat": 4,
 "nbformat_minor": 5
}
